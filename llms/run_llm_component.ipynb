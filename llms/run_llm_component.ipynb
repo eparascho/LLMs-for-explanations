{
 "cells": [
  {
   "cell_type": "code",
   "execution_count": 1,
   "metadata": {},
   "outputs": [],
   "source": [
    "import sys\n",
    "import json\n",
    "import ollama\n",
    "import prompts\n",
    "import evaluation\n",
    "import llm_system\n",
    "import pandas as pd\n",
    "import post_processing\n",
    "sys.path.append('../')"
   ]
  },
  {
   "cell_type": "markdown",
   "metadata": {},
   "source": [
    "##### Denormalize the data"
   ]
  },
  {
   "cell_type": "code",
   "execution_count": 2,
   "metadata": {},
   "outputs": [
    {
     "data": {
      "text/html": [
       "<div>\n",
       "<style scoped>\n",
       "    .dataframe tbody tr th:only-of-type {\n",
       "        vertical-align: middle;\n",
       "    }\n",
       "\n",
       "    .dataframe tbody tr th {\n",
       "        vertical-align: top;\n",
       "    }\n",
       "\n",
       "    .dataframe thead th {\n",
       "        text-align: right;\n",
       "    }\n",
       "</style>\n",
       "<table border=\"1\" class=\"dataframe\">\n",
       "  <thead>\n",
       "    <tr style=\"text-align: right;\">\n",
       "      <th></th>\n",
       "      <th>id</th>\n",
       "      <th>date</th>\n",
       "      <th>exertion_points</th>\n",
       "      <th>step_goal</th>\n",
       "      <th>minutes_below_zone_1</th>\n",
       "      <th>minutes_in_zone_1</th>\n",
       "      <th>steps</th>\n",
       "      <th>very_active_minutes</th>\n",
       "      <th>minutes_in_zone_2</th>\n",
       "      <th>minutes_in_zone_3</th>\n",
       "      <th>altitude</th>\n",
       "      <th>lightly_active_minutes</th>\n",
       "      <th>moderately_active_minutes</th>\n",
       "      <th>sedentary_minutes</th>\n",
       "      <th>exercises</th>\n",
       "      <th>exercise_duration</th>\n",
       "      <th>sleep_points</th>\n",
       "      <th>sleep_duration</th>\n",
       "      <th>calories</th>\n",
       "      <th>cluster</th>\n",
       "    </tr>\n",
       "  </thead>\n",
       "  <tbody>\n",
       "    <tr>\n",
       "      <th>0</th>\n",
       "      <td>621e2e8e67b776a24055b564</td>\n",
       "      <td>2021-05-24 00:00:00</td>\n",
       "      <td>27.0</td>\n",
       "      <td>0.0</td>\n",
       "      <td>1349.0</td>\n",
       "      <td>83.0</td>\n",
       "      <td>99.0</td>\n",
       "      <td>33.0</td>\n",
       "      <td>0.0</td>\n",
       "      <td>0.0</td>\n",
       "      <td>0.0</td>\n",
       "      <td>149.0</td>\n",
       "      <td>24.0</td>\n",
       "      <td>713.0</td>\n",
       "      <td>2</td>\n",
       "      <td>0.967</td>\n",
       "      <td>25.0</td>\n",
       "      <td>0.0</td>\n",
       "      <td>16.82</td>\n",
       "      <td>1</td>\n",
       "    </tr>\n",
       "    <tr>\n",
       "      <th>1</th>\n",
       "      <td>621e2e8e67b776a24055b564</td>\n",
       "      <td>2021-05-24 01:00:00</td>\n",
       "      <td>27.0</td>\n",
       "      <td>0.0</td>\n",
       "      <td>1349.0</td>\n",
       "      <td>83.0</td>\n",
       "      <td>0.0</td>\n",
       "      <td>33.0</td>\n",
       "      <td>0.0</td>\n",
       "      <td>0.0</td>\n",
       "      <td>0.0</td>\n",
       "      <td>149.0</td>\n",
       "      <td>24.0</td>\n",
       "      <td>713.0</td>\n",
       "      <td>2</td>\n",
       "      <td>0.967</td>\n",
       "      <td>25.0</td>\n",
       "      <td>0.0</td>\n",
       "      <td>2.29</td>\n",
       "      <td>1</td>\n",
       "    </tr>\n",
       "  </tbody>\n",
       "</table>\n",
       "</div>"
      ],
      "text/plain": [
       "                         id                date  exertion_points  step_goal  \\\n",
       "0  621e2e8e67b776a24055b564 2021-05-24 00:00:00             27.0        0.0   \n",
       "1  621e2e8e67b776a24055b564 2021-05-24 01:00:00             27.0        0.0   \n",
       "\n",
       "   minutes_below_zone_1  minutes_in_zone_1  steps  very_active_minutes  \\\n",
       "0                1349.0               83.0   99.0                 33.0   \n",
       "1                1349.0               83.0    0.0                 33.0   \n",
       "\n",
       "   minutes_in_zone_2  minutes_in_zone_3  altitude  lightly_active_minutes  \\\n",
       "0                0.0                0.0       0.0                   149.0   \n",
       "1                0.0                0.0       0.0                   149.0   \n",
       "\n",
       "   moderately_active_minutes  sedentary_minutes  exercises  exercise_duration  \\\n",
       "0                       24.0              713.0          2              0.967   \n",
       "1                       24.0              713.0          2              0.967   \n",
       "\n",
       "   sleep_points  sleep_duration  calories  cluster  \n",
       "0          25.0             0.0     16.82        1  \n",
       "1          25.0             0.0      2.29        1  "
      ]
     },
     "execution_count": 2,
     "metadata": {},
     "output_type": "execute_result"
    }
   ],
   "source": [
    "# load the final clustering data\n",
    "data = pd.read_csv('../data/clustering_results/kmeans_2_results_hourly_categories_nooutliers3.csv')\n",
    "data_features = (data.columns).drop(['cluster'])  # final features\n",
    "data['id'] = data['id'].astype(str)\n",
    "data['date'] = pd.to_datetime(data['date'])\n",
    "# load the latest version of denormalized data\n",
    "old_data = pd.read_pickle('../data/preprocessing_temps/date_engineered_training_df.pkl')\n",
    "old_data['id'] = old_data['id'].astype(str)\n",
    "old_data['date'] = pd.to_datetime(old_data['date'])\n",
    "# keep only the final columns\n",
    "normalized_data = old_data[data_features]\n",
    "# keep only the final clustering rows\n",
    "normalized_data = pd.merge(normalized_data, data[['id', 'date', 'cluster']], on=['id', 'date'], how='inner')\n",
    "normalized_data[normalized_data.columns[2:-1]] = normalized_data[normalized_data.columns[2:-1]].apply(lambda x: round(x, 3))\n",
    "normalized_data.head(2)"
   ]
  },
  {
   "cell_type": "markdown",
   "metadata": {},
   "source": [
    "##### Set application-based parameters for the pipeline"
   ]
  },
  {
   "cell_type": "code",
   "execution_count": 3,
   "metadata": {},
   "outputs": [],
   "source": [
    "# parameteres for the data\n",
    "granularity = 'hourly'\n",
    "# parameteres for the ML component\n",
    "ml_task = 'clustering'\n",
    "real_task = 'well-being'\n",
    "target = 'cluster'\n",
    "target_encoding = {0: 'negative', 1: 'positive'}\n",
    "# parameteres for the XAI component\n",
    "scope = 'global'\n",
    "xai_method = 'lime'\n",
    "with open('../data/explainability_output/global_30000_lime.json', 'r') as file:\n",
    "    xai_response = json.load(file)\n",
    "# keep only 3 decimals in the xai_response\n",
    "xai_response = {k: round(v, 3) for k, v in xai_response.items()}"
   ]
  },
  {
   "cell_type": "markdown",
   "metadata": {},
   "source": [
    "##### Random selection of instances"
   ]
  },
  {
   "cell_type": "code",
   "execution_count": 4,
   "metadata": {},
   "outputs": [],
   "source": [
    "# TODO: respect time-series split\n",
    "instance_interpret = 0  # select instance to interpet\n",
    "example_instance = 1\n",
    "example_instances = [1, 2, 3, 4, 5]  # select instance to interpet"
   ]
  },
  {
   "cell_type": "markdown",
   "metadata": {},
   "source": [
    "##### Prepare the learning techniques"
   ]
  },
  {
   "cell_type": "code",
   "execution_count": 5,
   "metadata": {},
   "outputs": [
    {
     "data": {
      "text/plain": [
       "\"Why a user on Monday at 0 o'clock, who has 27.0 exertion points, 0.0 step goal, 1349.0 minutes below zone 1, 83.0 minutes in zone 1, 99.0 steps, 33.0 very active minutes, 0.0 minutes in zone 2, 0.0 minutes in zone 3, 0.0 altitude, 149.0 lightly active minutes, 24.0 moderately active minutes, 713.0 sedentary minutes, 2 exercises, 0.967 exercise duration, 25.0 sleep points, 0.0 sleep duration, and 16.82 calories, has positive well-being?\""
      ]
     },
     "execution_count": 5,
     "metadata": {},
     "output_type": "execute_result"
    }
   ],
   "source": [
    "learning = 'zero'\n",
    "zero_prompt = prompts.zero_prompt(normalized_data, instance_interpret, target, target_encoding, granularity, real_task)\n",
    "zero_prompt"
   ]
  },
  {
   "cell_type": "code",
   "execution_count": 6,
   "metadata": {},
   "outputs": [
    {
     "data": {
      "text/plain": [
       "\"A user on Monday at 1 o'clock, who has 27.0 exertion_points, 0.0 step_goal, 1349.0 minutes_below_zone_1, 83.0 minutes_in_zone_1, 0.0 steps, 33.0 very_active_minutes, 0.0 minutes_in_zone_2, 0.0 minutes_in_zone_3, 0.0 altitude, 149.0 lightly_active_minutes, 24.0 moderately_active_minutes, 713.0 sedentary_minutes, 2 exercises, 0.967 exercise_duration, 25.0 sleep_points, 0.0 sleep_duration, and 2.29 calories, has also positive well-being. The explanation for this user's well-being gives the following feature importances: {'sedentary_minutes': -0.268, 'minutes_below_zone_1': 0.205, 'lightly_active_minutes': 0.169, 'exertion_points': 0.114, 'sleep_points': 0.093, 'step_goal': 0.051, 'moderately_active_minutes': 0.017, 'altitude': 0.009, 'calories': -0.0, 'minutes_in_zone_2': -0.008, 'very_active_minutes': 0.004, 'minutes_in_zone_1': 0.007, 'minutes_in_zone_3': 0.0, 'steps': -0.0, 'sleep_duration': -0.0, 'exercise_duration': -0.001, 'exercises': -0.001} . Why a user on Monday at 0 o'clock, who has 27.0 exertion points, 0.0 step goal, 1349.0 minutes below zone 1, 83.0 minutes in zone 1, 99.0 steps, 33.0 very active minutes, 0.0 minutes in zone 2, 0.0 minutes in zone 3, 0.0 altitude, 149.0 lightly active minutes, 24.0 moderately active minutes, 713.0 sedentary minutes, 2 exercises, 0.967 exercise duration, 25.0 sleep points, 0.0 sleep duration, and 16.82 calories, has positive well-being?\""
      ]
     },
     "execution_count": 6,
     "metadata": {},
     "output_type": "execute_result"
    }
   ],
   "source": [
    "learning = 'one'\n",
    "one_prompt = prompts.one_prompt(normalized_data, instance_interpret, example_instance, target, target_encoding, granularity, real_task, xai_response)\n",
    "one_prompt"
   ]
  },
  {
   "cell_type": "code",
   "execution_count": 7,
   "metadata": {},
   "outputs": [
    {
     "data": {
      "text/plain": [
       "\"A user on Monday at 1 o'clock, who has 27.0 exertion_points, 0.0 step_goal, 1349.0 minutes_below_zone_1, 83.0 minutes_in_zone_1, 0.0 steps, 33.0 very_active_minutes, 0.0 minutes_in_zone_2, 0.0 minutes_in_zone_3, 0.0 altitude, 149.0 lightly_active_minutes, 24.0 moderately_active_minutes, 713.0 sedentary_minutes, 2 exercises, 0.967 exercise_duration, 25.0 sleep_points, 0.0 sleep_duration, and 2.29 calories, has also positive well-being. The explanation for this user's well-being gives the following feature importances: {'sedentary_minutes': -0.268, 'minutes_below_zone_1': 0.205, 'lightly_active_minutes': 0.169, 'exertion_points': 0.114, 'sleep_points': 0.093, 'step_goal': 0.051, 'moderately_active_minutes': 0.017, 'altitude': 0.009, 'calories': -0.0, 'minutes_in_zone_2': -0.008, 'very_active_minutes': 0.004, 'minutes_in_zone_1': 0.007, 'minutes_in_zone_3': 0.0, 'steps': -0.0, 'sleep_duration': -0.0, 'exercise_duration': -0.001, 'exercises': -0.001} . A user on Monday at 2 o'clock, who has 27.0 exertion_points, 0.0 step_goal, 1349.0 minutes_below_zone_1, 83.0 minutes_in_zone_1, 260.341 steps, 33.0 very_active_minutes, 0.0 minutes_in_zone_2, 0.0 minutes_in_zone_3, 0.0 altitude, 149.0 lightly_active_minutes, 24.0 moderately_active_minutes, 713.0 sedentary_minutes, 2 exercises, 0.967 exercise_duration, 25.0 sleep_points, 0.0 sleep_duration, and 1.09 calories, has also positive well-being. The explanation for this user's well-being gives the following feature importances: {'sedentary_minutes': -0.268, 'minutes_below_zone_1': 0.205, 'lightly_active_minutes': 0.169, 'exertion_points': 0.114, 'sleep_points': 0.093, 'step_goal': 0.051, 'moderately_active_minutes': 0.017, 'altitude': 0.009, 'calories': -0.0, 'minutes_in_zone_2': -0.008, 'very_active_minutes': 0.004, 'minutes_in_zone_1': 0.007, 'minutes_in_zone_3': 0.0, 'steps': -0.0, 'sleep_duration': -0.0, 'exercise_duration': -0.001, 'exercises': -0.001} . A user on Monday at 3 o'clock, who has 27.0 exertion_points, 0.0 step_goal, 1349.0 minutes_below_zone_1, 83.0 minutes_in_zone_1, 15.0 steps, 33.0 very_active_minutes, 0.0 minutes_in_zone_2, 0.0 minutes_in_zone_3, 0.0 altitude, 149.0 lightly_active_minutes, 24.0 moderately_active_minutes, 713.0 sedentary_minutes, 2 exercises, 0.967 exercise_duration, 25.0 sleep_points, 0.0 sleep_duration, and 7.75 calories, has also positive well-being. The explanation for this user's well-being gives the following feature importances: {'sedentary_minutes': -0.268, 'minutes_below_zone_1': 0.205, 'lightly_active_minutes': 0.169, 'exertion_points': 0.114, 'sleep_points': 0.093, 'step_goal': 0.051, 'moderately_active_minutes': 0.017, 'altitude': 0.009, 'calories': -0.0, 'minutes_in_zone_2': -0.008, 'very_active_minutes': 0.004, 'minutes_in_zone_1': 0.007, 'minutes_in_zone_3': 0.0, 'steps': -0.0, 'sleep_duration': -0.0, 'exercise_duration': -0.001, 'exercises': -0.001} . A user on Monday at 4 o'clock, who has 27.0 exertion_points, 0.0 step_goal, 1349.0 minutes_below_zone_1, 83.0 minutes_in_zone_1, 0.0 steps, 33.0 very_active_minutes, 0.0 minutes_in_zone_2, 0.0 minutes_in_zone_3, 0.0 altitude, 149.0 lightly_active_minutes, 24.0 moderately_active_minutes, 713.0 sedentary_minutes, 2 exercises, 0.967 exercise_duration, 25.0 sleep_points, 0.0 sleep_duration, and 2.51 calories, has also positive well-being. The explanation for this user's well-being gives the following feature importances: {'sedentary_minutes': -0.268, 'minutes_below_zone_1': 0.205, 'lightly_active_minutes': 0.169, 'exertion_points': 0.114, 'sleep_points': 0.093, 'step_goal': 0.051, 'moderately_active_minutes': 0.017, 'altitude': 0.009, 'calories': -0.0, 'minutes_in_zone_2': -0.008, 'very_active_minutes': 0.004, 'minutes_in_zone_1': 0.007, 'minutes_in_zone_3': 0.0, 'steps': -0.0, 'sleep_duration': -0.0, 'exercise_duration': -0.001, 'exercises': -0.001} . A user on Monday at 5 o'clock, who has 27.0 exertion_points, 0.0 step_goal, 1349.0 minutes_below_zone_1, 83.0 minutes_in_zone_1, 260.341 steps, 33.0 very_active_minutes, 0.0 minutes_in_zone_2, 0.0 minutes_in_zone_3, 0.0 altitude, 149.0 lightly_active_minutes, 24.0 moderately_active_minutes, 713.0 sedentary_minutes, 2 exercises, 0.967 exercise_duration, 25.0 sleep_points, 0.0 sleep_duration, and 1.09 calories, has also positive well-being. The explanation for this user's well-being gives the following feature importances: {'sedentary_minutes': -0.268, 'minutes_below_zone_1': 0.205, 'lightly_active_minutes': 0.169, 'exertion_points': 0.114, 'sleep_points': 0.093, 'step_goal': 0.051, 'moderately_active_minutes': 0.017, 'altitude': 0.009, 'calories': -0.0, 'minutes_in_zone_2': -0.008, 'very_active_minutes': 0.004, 'minutes_in_zone_1': 0.007, 'minutes_in_zone_3': 0.0, 'steps': -0.0, 'sleep_duration': -0.0, 'exercise_duration': -0.001, 'exercises': -0.001} . Why a user on Monday at 0 o'clock, who has 27.0 exertion points, 0.0 step goal, 1349.0 minutes below zone 1, 83.0 minutes in zone 1, 99.0 steps, 33.0 very active minutes, 0.0 minutes in zone 2, 0.0 minutes in zone 3, 0.0 altitude, 149.0 lightly active minutes, 24.0 moderately active minutes, 713.0 sedentary minutes, 2 exercises, 0.967 exercise duration, 25.0 sleep points, 0.0 sleep duration, and 16.82 calories, has positive well-being?\""
      ]
     },
     "execution_count": 7,
     "metadata": {},
     "output_type": "execute_result"
    }
   ],
   "source": [
    "learning = 'few'\n",
    "few_prompt = prompts.few_prompt(normalized_data, instance_interpret, example_instances, target, target_encoding, granularity, real_task, xai_response)\n",
    "few_prompt"
   ]
  },
  {
   "cell_type": "markdown",
   "metadata": {},
   "source": [
    "##### Set the system content"
   ]
  },
  {
   "cell_type": "code",
   "execution_count": 8,
   "metadata": {},
   "outputs": [
    {
     "data": {
      "text/plain": [
       "'You are a XAI model that can help me explain the clustering results of my data. I have a dataset with hourly wearable data. The clustering algorithm categorized the data into 2 clusters, where cluster 0 represents negative well-being and cluster 1 represents positive well-being. I need to understand why a user over time has been categorized into its respective cluster. You will be provided with 5 examples each one contains, in the first sentence, the features, values and clustering result, and, in a second sentence, the explanation produced by the global lime XAI method, which is based on feature importance, to explain this clustering result. After the examples, there will be a question containing features and their actual values. You need to compute the feature importance and explain the clustering results based on this feature importance. Your answer must contain only the exact following two parts: The \"Developer response:\" as exclusively a json format with keys to be the features you identified in the question and values to be their feature importance you computed. For example: \"steps\":0.1. Do not add any other information. The \"User response:\" in one short paragraph in which you explain the clustering results based on the feature importance you computed. The answer must include the features you identified along with their actual values. Answer in a consistent style, with clear, short and understandable sentences.'"
      ]
     },
     "execution_count": 8,
     "metadata": {},
     "output_type": "execute_result"
    }
   ],
   "source": [
    "if learning == 'zero':\n",
    "    examples = 0\n",
    "elif learning == 'one':\n",
    "    examples = 1\n",
    "elif learning == 'few':\n",
    "    examples = 5  # change the number of the examples in the few-shot learning\n",
    "system_content = llm_system.create_system(ml_task, granularity, target_encoding, target, real_task, learning, scope, xai_method, str(examples))\n",
    "system_content"
   ]
  },
  {
   "cell_type": "markdown",
   "metadata": {},
   "source": [
    "##### Prompt the LLM\n",
    "Choose between: llama3 and mistral"
   ]
  },
  {
   "cell_type": "code",
   "execution_count": 15,
   "metadata": {},
   "outputs": [
    {
     "data": {
      "text/plain": [
       "'Developer response:\\n{\"exertion_points\": 0.114, \"sedentary_minutes\": -0.268, \"minutes_below_zone_1\": 0.205, \"lightly_active_minutes\": 0.169, \"sleep_points\": 0.093, \"step_goal\": 0.051, \"moderately_active_minutes\": 0.017, \"altitude\": 0.009, \"calories\": -0.0, \"minutes_in_zone_2\": -0.008, \"very_active_minutes\": 0.004, \"minutes_in_zone_1\": 0.007, \"minutes_in_zone_3\": 0.0, \"steps\": -0.0, \"sleep_duration\": -0.0, \"exercise_duration\": -0.001, \"exercises\": -0.001}\\n\\nUser response:\\nThe user on Monday at 0 o\\'clock has positive well-being because they have high exertion points (27.0) and minutes below zone 1 (1349.0), which suggests a low level of physical activity. However, their lightly active minutes (149.0) and moderately active minutes (24.0) indicate some physical activity during the day. The sedentary minutes (713.0) are relatively high, but this is offset by the positive sleep points (25.0). Overall, the combination of factors suggests that the user has a balance between physical activity and rest, which contributes to their positive well-being.'"
      ]
     },
     "execution_count": 15,
     "metadata": {},
     "output_type": "execute_result"
    }
   ],
   "source": [
    "query = one_prompt\n",
    "response = ollama.chat(model='llama3', messages=[\n",
    "  {\n",
    "    'role': 'system',\n",
    "    'content': system_content\n",
    "  },\n",
    "  {\n",
    "    'role': 'user',\n",
    "    'content': query,\n",
    "  },\n",
    "  ])\n",
    "response = response['message']['content']\n",
    "response"
   ]
  },
  {
   "cell_type": "markdown",
   "metadata": {},
   "source": [
    "Post-processing in LLM's response"
   ]
  },
  {
   "cell_type": "code",
   "execution_count": 16,
   "metadata": {},
   "outputs": [],
   "source": [
    "model = 'llama3'"
   ]
  },
  {
   "cell_type": "code",
   "execution_count": 17,
   "metadata": {},
   "outputs": [
    {
     "data": {
      "text/plain": [
       "\"The user on Monday at 0 o'clock has positive well-being because they have high exertion points (27.0) and minutes below zone 1 (1349.0), which suggests a low level of physical activity. However, their lightly active minutes (149.0) and moderately active minutes (24.0) indicate some physical activity during the day. The sedentary minutes (713.0) are relatively high, but this is offset by the positive sleep points (25.0). Overall, the combination of factors suggests that the user has a balance between physical activity and rest, which contributes to their positive well-being.\""
      ]
     },
     "execution_count": 17,
     "metadata": {},
     "output_type": "execute_result"
    }
   ],
   "source": [
    "# post-process and store user response\n",
    "profile = 'user'\n",
    "user_response = response.split(\"User response:\", 1)[1].strip()\n",
    "post_processing.store_response(user_response, model, learning, str(instance_interpret), profile)\n",
    "user_response"
   ]
  },
  {
   "cell_type": "code",
   "execution_count": 18,
   "metadata": {},
   "outputs": [
    {
     "data": {
      "text/plain": [
       "{'exertion_points': 0.114,\n",
       " 'sedentary_minutes': -0.268,\n",
       " 'minutes_below_zone_1': 0.205,\n",
       " 'lightly_active_minutes': 0.169,\n",
       " 'sleep_points': 0.093,\n",
       " 'step_goal': 0.051,\n",
       " 'moderately_active_minutes': 0.017,\n",
       " 'altitude': 0.009,\n",
       " 'calories': -0.0,\n",
       " 'minutes_in_zone_2': -0.008,\n",
       " 'very_active_minutes': 0.004,\n",
       " 'minutes_in_zone_1': 0.007,\n",
       " 'minutes_in_zone_3': 0.0,\n",
       " 'steps': -0.0,\n",
       " 'sleep_duration': -0.0,\n",
       " 'exercise_duration': -0.001,\n",
       " 'exercises': -0.001}"
      ]
     },
     "execution_count": 18,
     "metadata": {},
     "output_type": "execute_result"
    }
   ],
   "source": [
    "# post-process and store developer response\n",
    "profile = 'developer'\n",
    "developer_response = post_processing.developer_response_processing(response)\n",
    "post_processing.store_response(developer_response, model, learning, str(instance_interpret), profile)\n",
    "developer_response"
   ]
  },
  {
   "cell_type": "markdown",
   "metadata": {},
   "source": [
    "##### Evaluate the structural quality of the explanation"
   ]
  },
  {
   "cell_type": "code",
   "execution_count": 19,
   "metadata": {},
   "outputs": [
    {
     "name": "stdout",
     "output_type": "stream",
     "text": [
      "Coherence/Relevance Score: 0.7621021866798401\n",
      "Number of Grammatical Errors: 0\n",
      "Flesch Reading Ease: 49.335\n",
      "Sentiment Consistency Score: 0.16632756132756132\n",
      "Percentage of concepts covered: 0.296875\n",
      "Concepts Covered: {'zone', 'monday', 'moderately', '24', '713', 'active', '27', '149', 'lightly', '1349', 'sedentary', 'points', '25', 'exertion', 'clock', 'sleep', 'minutes', 'user', 'positive'}\n",
      "Percentage of new concepts introduced: 0.45714285714285713\n",
      "New Concepts Introduced: {'contributes', 'offset', 'overall', 'rest', 'high', 'balance', 'suggests', 'day', 'activity', 'relatively', 'low', 'indicate', 'physical', 'level', 'combination', 'factors'}\n"
     ]
    }
   ],
   "source": [
    "evaluation.structural_quality_evaluation(query, user_response)"
   ]
  },
  {
   "cell_type": "markdown",
   "metadata": {},
   "source": [
    "##### Evaluate the content quality of the explanation"
   ]
  },
  {
   "cell_type": "code",
   "execution_count": 20,
   "metadata": {},
   "outputs": [
    {
     "name": "stdout",
     "output_type": "stream",
     "text": [
      "Spearman Rank Correlation: 1.0\n",
      "NDCG Difference: 0.0\n"
     ]
    }
   ],
   "source": [
    "evaluation.content_xai_quality_evaluation(xai_response, developer_response)"
   ]
  }
 ],
 "metadata": {
  "kernelspec": {
   "display_name": ".venv",
   "language": "python",
   "name": "python3"
  },
  "language_info": {
   "codemirror_mode": {
    "name": "ipython",
    "version": 3
   },
   "file_extension": ".py",
   "mimetype": "text/x-python",
   "name": "python",
   "nbconvert_exporter": "python",
   "pygments_lexer": "ipython3",
   "version": "3.9.13"
  }
 },
 "nbformat": 4,
 "nbformat_minor": 2
}
