{
 "cells": [
  {
   "cell_type": "code",
   "execution_count": 1,
   "metadata": {},
   "outputs": [],
   "source": [
    "import sys\n",
    "import ollama\n",
    "import prompts\n",
    "import evaluation\n",
    "import pandas as pd\n",
    "sys.path.append('../')"
   ]
  },
  {
   "cell_type": "markdown",
   "metadata": {},
   "source": [
    "##### Denormalize the data"
   ]
  },
  {
   "cell_type": "code",
   "execution_count": 2,
   "metadata": {},
   "outputs": [
    {
     "data": {
      "text/html": [
       "<div>\n",
       "<style scoped>\n",
       "    .dataframe tbody tr th:only-of-type {\n",
       "        vertical-align: middle;\n",
       "    }\n",
       "\n",
       "    .dataframe tbody tr th {\n",
       "        vertical-align: top;\n",
       "    }\n",
       "\n",
       "    .dataframe thead th {\n",
       "        text-align: right;\n",
       "    }\n",
       "</style>\n",
       "<table border=\"1\" class=\"dataframe\">\n",
       "  <thead>\n",
       "    <tr style=\"text-align: right;\">\n",
       "      <th></th>\n",
       "      <th>id</th>\n",
       "      <th>date</th>\n",
       "      <th>exertion_points</th>\n",
       "      <th>step_goal</th>\n",
       "      <th>minutes_below_zone_1</th>\n",
       "      <th>minutes_in_zone_1</th>\n",
       "      <th>steps</th>\n",
       "      <th>very_active_minutes</th>\n",
       "      <th>minutes_in_zone_2</th>\n",
       "      <th>minutes_in_zone_3</th>\n",
       "      <th>altitude</th>\n",
       "      <th>lightly_active_minutes</th>\n",
       "      <th>moderately_active_minutes</th>\n",
       "      <th>sedentary_minutes</th>\n",
       "      <th>exercises</th>\n",
       "      <th>exercise_duration</th>\n",
       "      <th>sleep_points</th>\n",
       "      <th>sleep_duration</th>\n",
       "      <th>calories</th>\n",
       "      <th>cluster</th>\n",
       "    </tr>\n",
       "  </thead>\n",
       "  <tbody>\n",
       "    <tr>\n",
       "      <th>0</th>\n",
       "      <td>621e2e8e67b776a24055b564</td>\n",
       "      <td>2021-05-24 00:00:00</td>\n",
       "      <td>27.0</td>\n",
       "      <td>0.0</td>\n",
       "      <td>1349.0</td>\n",
       "      <td>83.0</td>\n",
       "      <td>99.0</td>\n",
       "      <td>33.0</td>\n",
       "      <td>0.0</td>\n",
       "      <td>0.0</td>\n",
       "      <td>0.0</td>\n",
       "      <td>149.0</td>\n",
       "      <td>24.0</td>\n",
       "      <td>713.0</td>\n",
       "      <td>2</td>\n",
       "      <td>0.966944</td>\n",
       "      <td>25.0</td>\n",
       "      <td>0.0</td>\n",
       "      <td>16.82</td>\n",
       "      <td>1</td>\n",
       "    </tr>\n",
       "    <tr>\n",
       "      <th>1</th>\n",
       "      <td>621e2e8e67b776a24055b564</td>\n",
       "      <td>2021-05-24 01:00:00</td>\n",
       "      <td>27.0</td>\n",
       "      <td>0.0</td>\n",
       "      <td>1349.0</td>\n",
       "      <td>83.0</td>\n",
       "      <td>0.0</td>\n",
       "      <td>33.0</td>\n",
       "      <td>0.0</td>\n",
       "      <td>0.0</td>\n",
       "      <td>0.0</td>\n",
       "      <td>149.0</td>\n",
       "      <td>24.0</td>\n",
       "      <td>713.0</td>\n",
       "      <td>2</td>\n",
       "      <td>0.966944</td>\n",
       "      <td>25.0</td>\n",
       "      <td>0.0</td>\n",
       "      <td>2.29</td>\n",
       "      <td>1</td>\n",
       "    </tr>\n",
       "  </tbody>\n",
       "</table>\n",
       "</div>"
      ],
      "text/plain": [
       "                         id                date  exertion_points  step_goal  \\\n",
       "0  621e2e8e67b776a24055b564 2021-05-24 00:00:00             27.0        0.0   \n",
       "1  621e2e8e67b776a24055b564 2021-05-24 01:00:00             27.0        0.0   \n",
       "\n",
       "   minutes_below_zone_1  minutes_in_zone_1  steps  very_active_minutes  \\\n",
       "0                1349.0               83.0   99.0                 33.0   \n",
       "1                1349.0               83.0    0.0                 33.0   \n",
       "\n",
       "   minutes_in_zone_2  minutes_in_zone_3  altitude  lightly_active_minutes  \\\n",
       "0                0.0                0.0       0.0                   149.0   \n",
       "1                0.0                0.0       0.0                   149.0   \n",
       "\n",
       "   moderately_active_minutes  sedentary_minutes  exercises  exercise_duration  \\\n",
       "0                       24.0              713.0          2           0.966944   \n",
       "1                       24.0              713.0          2           0.966944   \n",
       "\n",
       "   sleep_points  sleep_duration  calories  cluster  \n",
       "0          25.0             0.0     16.82        1  \n",
       "1          25.0             0.0      2.29        1  "
      ]
     },
     "execution_count": 2,
     "metadata": {},
     "output_type": "execute_result"
    }
   ],
   "source": [
    "# load the final clustering data\n",
    "data = pd.read_csv('../data/clustering_results/kmeans_2_results_hourly_categories_nooutliers3.csv')\n",
    "data_features = (data.columns).drop(['cluster'])  # final features\n",
    "data['id'] = data['id'].astype(str)\n",
    "data['date'] = pd.to_datetime(data['date'])\n",
    "# load the latest version of denormalized data\n",
    "old_data = pd.read_pickle('../data/preprocessing_temps/date_engineered_training_df.pkl')\n",
    "old_data['id'] = old_data['id'].astype(str)\n",
    "old_data['date'] = pd.to_datetime(old_data['date'])\n",
    "# keep only the final columns\n",
    "normalized_data = old_data[data_features]\n",
    "# keep only the final clustering rows\n",
    "normalized_data = pd.merge(normalized_data, data[['id', 'date', 'cluster']], on=['id', 'date'], how='inner')\n",
    "normalized_data.head(2)"
   ]
  },
  {
   "cell_type": "markdown",
   "metadata": {},
   "source": [
    "##### Apply the learning technique"
   ]
  },
  {
   "cell_type": "code",
   "execution_count": 3,
   "metadata": {},
   "outputs": [
    {
     "data": {
      "text/plain": [
       "\"Why a user on Monday at 0 o'clock, who has 27.0 exertion points, 0.0 step goal, 1349.0 minutes below zone 1, 83.0 minutes in zone 1, 99.0 steps, 33.0 very active minutes, 0.0 minutes in zone 2, 0.0 minutes in zone 3, 0.0 altitude, 149.0 lightly active minutes, 24.0 moderately active minutes, 713.0 sedentary minutes, 2 exercises, 0.9669444444444444 exercise duration, and 25.0 sleep points, 0.0 sleep duration, 16.82 calories has positive well-being?\""
      ]
     },
     "execution_count": 3,
     "metadata": {},
     "output_type": "execute_result"
    }
   ],
   "source": [
    "instance = 0  # select instance to interpet\n",
    "prompt = prompts.zero_prompt(normalized_data, instance)\n",
    "prompt"
   ]
  },
  {
   "cell_type": "markdown",
   "metadata": {},
   "source": [
    "##### Prompt the LLM\n",
    "Choose between: llama3, llama2-uncensored, mistral, phi3, gemma:2b"
   ]
  },
  {
   "cell_type": "code",
   "execution_count": 16,
   "metadata": {},
   "outputs": [
    {
     "name": "stdout",
     "output_type": "stream",
     "text": [
      "The developer_response is: YES\n",
      "The user_response is: NO\n"
     ]
    }
   ],
   "source": [
    "query = prompt\n",
    "response = ollama.chat(model='gemma:2b', messages=[\n",
    "  {\n",
    "    'role': 'system',\n",
    "    'content': 'Follow these steps to answer the user queries:' +\n",
    "              '1. Answer only the word YES without any other information, and then ' + \n",
    "              '2.Answer only the word NO without any other information. '\n",
    "    # 'content': 'You are an AI model that can help me interpret the clustering results of my data. I have a dataset with hourly data from different sensors and I have clustered the data into 2 clusters. I would like to understand the characteristics of each cluster. Can you help me with that?',\n",
    "    # lime and format\n",
    "  },\n",
    "  {\n",
    "    'role': 'user',\n",
    "    'content': prompt,\n",
    "  },\n",
    "  ])\n",
    "response = response['message']['content']\n",
    "split_responses = response.split('\\n\\n')\n",
    "developer_response = split_responses[0]\n",
    "user_response = split_responses[1]\n",
    "print(\"The developer_response is:\", developer_response)\n",
    "print(\"The user_response is:\", user_response)"
   ]
  },
  {
   "cell_type": "markdown",
   "metadata": {},
   "source": [
    "##### Evaluate the structural quality of the explanation"
   ]
  },
  {
   "cell_type": "code",
   "execution_count": 12,
   "metadata": {},
   "outputs": [
    {
     "name": "stdout",
     "output_type": "stream",
     "text": [
      "Coherence/Relevance Score: 0.7036965489387512\n",
      "Number of Grammatical Errors: 1\n",
      "Automated Readability Index: 41.327865168539326\n",
      "Sentiment Consistency Score: 0.18077651515151513\n",
      "Concepts Covered: {'points', 'user', 'exertion', 'positive', '25', '27', 'sleep'}\n",
      "New Concepts Introduced: {'lightly', 'altitude', 'calories', 'step', '99', '1349', 'clock', 'exercise', 'zone', 'minutes', '82', 'sedentary', 'moderately', '24', 'active', '83', '33', 'monday', 'duration', 'exercises', '9669444444444444', '16', 'goal', '149', '713', 'steps'}\n"
     ]
    }
   ],
   "source": [
    "evaluation.structural_quality_evaluation(response, prompt)"
   ]
  },
  {
   "cell_type": "markdown",
   "metadata": {},
   "source": [
    "##### Evaluate the content quality of the explanation"
   ]
  },
  {
   "cell_type": "code",
   "execution_count": 8,
   "metadata": {},
   "outputs": [],
   "source": [
    "# TODO"
   ]
  }
 ],
 "metadata": {
  "kernelspec": {
   "display_name": ".venv",
   "language": "python",
   "name": "python3"
  },
  "language_info": {
   "codemirror_mode": {
    "name": "ipython",
    "version": 3
   },
   "file_extension": ".py",
   "mimetype": "text/x-python",
   "name": "python",
   "nbconvert_exporter": "python",
   "pygments_lexer": "ipython3",
   "version": "3.9.13"
  }
 },
 "nbformat": 4,
 "nbformat_minor": 2
}
