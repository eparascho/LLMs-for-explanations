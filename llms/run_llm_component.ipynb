{
 "cells": [
  {
   "cell_type": "code",
   "execution_count": 1,
   "metadata": {},
   "outputs": [],
   "source": [
    "import sys\n",
    "import json\n",
    "import ollama\n",
    "import prompts\n",
    "import evaluation\n",
    "import pandas as pd\n",
    "sys.path.append('../')"
   ]
  },
  {
   "cell_type": "markdown",
   "metadata": {},
   "source": [
    "##### Denormalize the data"
   ]
  },
  {
   "cell_type": "code",
   "execution_count": 2,
   "metadata": {},
   "outputs": [
    {
     "data": {
      "text/html": [
       "<div>\n",
       "<style scoped>\n",
       "    .dataframe tbody tr th:only-of-type {\n",
       "        vertical-align: middle;\n",
       "    }\n",
       "\n",
       "    .dataframe tbody tr th {\n",
       "        vertical-align: top;\n",
       "    }\n",
       "\n",
       "    .dataframe thead th {\n",
       "        text-align: right;\n",
       "    }\n",
       "</style>\n",
       "<table border=\"1\" class=\"dataframe\">\n",
       "  <thead>\n",
       "    <tr style=\"text-align: right;\">\n",
       "      <th></th>\n",
       "      <th>id</th>\n",
       "      <th>date</th>\n",
       "      <th>exertion_points</th>\n",
       "      <th>step_goal</th>\n",
       "      <th>minutes_below_zone_1</th>\n",
       "      <th>minutes_in_zone_1</th>\n",
       "      <th>steps</th>\n",
       "      <th>very_active_minutes</th>\n",
       "      <th>minutes_in_zone_2</th>\n",
       "      <th>minutes_in_zone_3</th>\n",
       "      <th>altitude</th>\n",
       "      <th>lightly_active_minutes</th>\n",
       "      <th>moderately_active_minutes</th>\n",
       "      <th>sedentary_minutes</th>\n",
       "      <th>exercises</th>\n",
       "      <th>exercise_duration</th>\n",
       "      <th>sleep_points</th>\n",
       "      <th>sleep_duration</th>\n",
       "      <th>calories</th>\n",
       "      <th>cluster</th>\n",
       "    </tr>\n",
       "  </thead>\n",
       "  <tbody>\n",
       "    <tr>\n",
       "      <th>0</th>\n",
       "      <td>621e2e8e67b776a24055b564</td>\n",
       "      <td>2021-05-24 00:00:00</td>\n",
       "      <td>27.0</td>\n",
       "      <td>0.0</td>\n",
       "      <td>1349.0</td>\n",
       "      <td>83.0</td>\n",
       "      <td>99.0</td>\n",
       "      <td>33.0</td>\n",
       "      <td>0.0</td>\n",
       "      <td>0.0</td>\n",
       "      <td>0.0</td>\n",
       "      <td>149.0</td>\n",
       "      <td>24.0</td>\n",
       "      <td>713.0</td>\n",
       "      <td>2</td>\n",
       "      <td>0.966944</td>\n",
       "      <td>25.0</td>\n",
       "      <td>0.0</td>\n",
       "      <td>16.82</td>\n",
       "      <td>1</td>\n",
       "    </tr>\n",
       "    <tr>\n",
       "      <th>1</th>\n",
       "      <td>621e2e8e67b776a24055b564</td>\n",
       "      <td>2021-05-24 01:00:00</td>\n",
       "      <td>27.0</td>\n",
       "      <td>0.0</td>\n",
       "      <td>1349.0</td>\n",
       "      <td>83.0</td>\n",
       "      <td>0.0</td>\n",
       "      <td>33.0</td>\n",
       "      <td>0.0</td>\n",
       "      <td>0.0</td>\n",
       "      <td>0.0</td>\n",
       "      <td>149.0</td>\n",
       "      <td>24.0</td>\n",
       "      <td>713.0</td>\n",
       "      <td>2</td>\n",
       "      <td>0.966944</td>\n",
       "      <td>25.0</td>\n",
       "      <td>0.0</td>\n",
       "      <td>2.29</td>\n",
       "      <td>1</td>\n",
       "    </tr>\n",
       "  </tbody>\n",
       "</table>\n",
       "</div>"
      ],
      "text/plain": [
       "                         id                date  exertion_points  step_goal  \\\n",
       "0  621e2e8e67b776a24055b564 2021-05-24 00:00:00             27.0        0.0   \n",
       "1  621e2e8e67b776a24055b564 2021-05-24 01:00:00             27.0        0.0   \n",
       "\n",
       "   minutes_below_zone_1  minutes_in_zone_1  steps  very_active_minutes  \\\n",
       "0                1349.0               83.0   99.0                 33.0   \n",
       "1                1349.0               83.0    0.0                 33.0   \n",
       "\n",
       "   minutes_in_zone_2  minutes_in_zone_3  altitude  lightly_active_minutes  \\\n",
       "0                0.0                0.0       0.0                   149.0   \n",
       "1                0.0                0.0       0.0                   149.0   \n",
       "\n",
       "   moderately_active_minutes  sedentary_minutes  exercises  exercise_duration  \\\n",
       "0                       24.0              713.0          2           0.966944   \n",
       "1                       24.0              713.0          2           0.966944   \n",
       "\n",
       "   sleep_points  sleep_duration  calories  cluster  \n",
       "0          25.0             0.0     16.82        1  \n",
       "1          25.0             0.0      2.29        1  "
      ]
     },
     "execution_count": 2,
     "metadata": {},
     "output_type": "execute_result"
    }
   ],
   "source": [
    "# load the final clustering data\n",
    "data = pd.read_csv('../data/clustering_results/kmeans_2_results_hourly_categories_nooutliers3.csv')\n",
    "data_features = (data.columns).drop(['cluster'])  # final features\n",
    "data['id'] = data['id'].astype(str)\n",
    "data['date'] = pd.to_datetime(data['date'])\n",
    "# load the latest version of denormalized data\n",
    "old_data = pd.read_pickle('../data/preprocessing_temps/date_engineered_training_df.pkl')\n",
    "old_data['id'] = old_data['id'].astype(str)\n",
    "old_data['date'] = pd.to_datetime(old_data['date'])\n",
    "# keep only the final columns\n",
    "normalized_data = old_data[data_features]\n",
    "# keep only the final clustering rows\n",
    "normalized_data = pd.merge(normalized_data, data[['id', 'date', 'cluster']], on=['id', 'date'], how='inner')\n",
    "normalized_data.head(2)"
   ]
  },
  {
   "cell_type": "markdown",
   "metadata": {},
   "source": [
    "##### Prepare the learning technique"
   ]
  },
  {
   "cell_type": "code",
   "execution_count": 3,
   "metadata": {},
   "outputs": [
    {
     "data": {
      "text/plain": [
       "\"Why a user on Monday at 0 o'clock, who has 27.0 exertion points, 0.0 step goal, 1349.0 minutes below zone 1, 83.0 minutes in zone 1, 99.0 steps, 33.0 very active minutes, 0.0 minutes in zone 2, 0.0 minutes in zone 3, 0.0 altitude, 149.0 lightly active minutes, 24.0 moderately active minutes, 713.0 sedentary minutes, 2 exercises, 0.9669444444444444 exercise duration, and 25.0 sleep points, 0.0 sleep duration, 16.82 calories has positive well-being?\""
      ]
     },
     "execution_count": 3,
     "metadata": {},
     "output_type": "execute_result"
    }
   ],
   "source": [
    "instance = 0  # select instance to interpet\n",
    "prompt = prompts.zero_prompt(normalized_data, instance)\n",
    "prompt"
   ]
  },
  {
   "cell_type": "markdown",
   "metadata": {},
   "source": [
    "##### Set the system content"
   ]
  },
  {
   "cell_type": "code",
   "execution_count": 4,
   "metadata": {},
   "outputs": [],
   "source": [
    "system_content = 'You are a XAI model that can help me explain the clustering results of my data. I have a dataset with hourly wearable data regarding physical activity, sleep, and health.' + \\\n",
    "'I have clustered the data into two clusters, where cluster one represents positive well-being and cluster zero represents negative well-being.' + \\\n",
    "'I need to understand why a user over time has been clustered into its respective cluster.' + \\\n",
    "'You will be provided with a text containing features and their actual values. You need to compute the feature importance and explain the clustering results based on this feature importance.' + \\\n",
    "'Your answer must contain the exact following two parts:' + \\\n",
    "'The \"Developer response:\" as exclusively a json format with keys to be the features you identified in the text and values to be their feature importance you computed. For example: \"steps\":0.1. Do not add any other information.' + \\\n",
    "'The \"User response:\" in one short paragraph in which you explain the clustering results based on the feature importance you computed. The answer must include the features you identified along with their actual values.' +\\\n",
    "'Answer in a consistent style.'"
   ]
  },
  {
   "cell_type": "markdown",
   "metadata": {},
   "source": [
    "##### Prompt the LLM\n",
    "Choose between: llama3, llama2-uncensored, mistral, phi3, gemma:2b"
   ]
  },
  {
   "cell_type": "code",
   "execution_count": 24,
   "metadata": {},
   "outputs": [
    {
     "data": {
      "text/plain": [
       "'{\\n    \"exertion_points\": 0.3793700787425936,\\n    \"minutes_below_zone_1\": 0.2793700787425936,\\n    \"steps\": 0.09999999999999998,\\n    \"active_minutes\": 0.03333333333333333,\\n    \"exercise_duration\": 0.5612477685313302\\n}\\n\\nThe user has positive well-being on Monday at 0 o\\'clock as indicated by the relatively high exertion points (27.0) and a considerable amount of time spent in zone 1 (83.0 minutes). Although their step goal wasn\\'t met, they compensated with moderate activity levels across various zones. The user exercised twice, which contributes to overall well-being. However, the longer sedentary periods might have slightly diminished positive impacts on well-being.\\n\\nUser response:\\nThe clustering results suggest that this particular Monday\\'s activities for a user can be classified under positive well-being despite not meeting their step goal. The high exertion points (27.0) indicate a significant level of physical activity which contributes to overall health and wellness. Additionally, the substantial time spent in zone 1 (83.0 minutes), even though it\\'s below the targeted \"zone 2\" or higher intensity zones, still suggests that the user engaged in moderate exercise, further supporting a positive well-being cluster assignment. The two exercises (with an average duration of approximately 56% of an hour) and active minutes across various activity levels also contribute to this classification. However, the long sedentary period (713.0 minutes), which exceeds moderate thresholds, might be a concern but doesn\\'t outweigh the benefits from other activities on this particular day.'"
      ]
     },
     "execution_count": 24,
     "metadata": {},
     "output_type": "execute_result"
    }
   ],
   "source": [
    "query = prompt\n",
    "response = ollama.chat(model='phi3', messages=[\n",
    "  {\n",
    "    'role': 'system',\n",
    "    'content': system_content\n",
    "  },\n",
    "  {\n",
    "    'role': 'user',\n",
    "    'content': prompt,\n",
    "  },\n",
    "  ])\n",
    "response = response['message']['content']\n",
    "response"
   ]
  },
  {
   "cell_type": "code",
   "execution_count": 25,
   "metadata": {},
   "outputs": [
    {
     "name": "stdout",
     "output_type": "stream",
     "text": [
      "{\n",
      "    \"exertion_points\": 0.3793700787425936,\n",
      "    \"minutes_below_zone_1\": 0.2793700787425936,\n",
      "    \"steps\": 0.09999999999999998,\n",
      "    \"active_minutes\": 0.03333333333333333,\n",
      "    \"exercise_duration\": 0.5612477685313302\n",
      "}\n",
      "The user has positive well-being on Monday at 0 o'clock as indicated by the relatively high exertion points (27.0) and a considerable amount of time spent in zone 1 (83.0 minutes). Although their step goal wasn't met, they compensated with moderate activity levels across various zones. The user exercised twice, which contributes to overall well-being. However, the longer sedentary periods might have slightly diminished positive impacts on well-being.\n"
     ]
    }
   ],
   "source": [
    "split_responses = response.split('\\n\\n')\n",
    "split_responses\n",
    "developer_response = split_responses[0]\n",
    "user_response = split_responses[1]\n",
    "print(developer_response)\n",
    "print(user_response)"
   ]
  },
  {
   "cell_type": "markdown",
   "metadata": {},
   "source": [
    "##### Evaluate the structural quality of the explanation"
   ]
  },
  {
   "cell_type": "code",
   "execution_count": 26,
   "metadata": {},
   "outputs": [
    {
     "name": "stdout",
     "output_type": "stream",
     "text": [
      "Coherence/Relevance Score: 0.7992367744445801\n",
      "Number of Grammatical Errors: 1\n",
      "Automated Readability Index: 41.327865168539326\n",
      "Sentiment Consistency Score: 0.10294612794612794\n",
      "Concepts Covered: {'positive', 'step', 'zone', 'minutes', 'goal', 'points', 'user', '83', '27', 'clock', 'monday', 'exertion', 'sedentary'}\n",
      "New Concepts Introduced: {'calories', '33', 'lightly', 'altitude', 'moderately', '25', '149', '24', 'sleep', '713', '82', 'exercise', '1349', '9669444444444444', 'active', 'duration', '99', '16', 'steps', 'exercises'}\n"
     ]
    }
   ],
   "source": [
    "user_response = user_response.replace('User response:', '')\n",
    "evaluation.structural_quality_evaluation(user_response, prompt)"
   ]
  },
  {
   "cell_type": "markdown",
   "metadata": {},
   "source": [
    "##### Evaluate the content quality of the explanation"
   ]
  },
  {
   "cell_type": "code",
   "execution_count": 27,
   "metadata": {},
   "outputs": [
    {
     "data": {
      "text/plain": [
       "{'exertion_points': 0.3793700787425936,\n",
       " 'minutes_below_zone_1': 0.2793700787425936,\n",
       " 'steps': 0.09999999999999998,\n",
       " 'active_minutes': 0.03333333333333333,\n",
       " 'exercise_duration': 0.5612477685313302}"
      ]
     },
     "execution_count": 27,
     "metadata": {},
     "output_type": "execute_result"
    }
   ],
   "source": [
    "# format the developer response into a json file\n",
    "developer_response = developer_response.replace('Developer response:', '')\n",
    "developer_response = developer_response.replace('\\n', '')\n",
    "# developer_response = developer_response[:-1]\n",
    "developer_response = json.loads(developer_response)\n",
    "# # developer_response = {k.replace(' ', '_'): v for k, v in developer_response.items()}\n",
    "developer_response"
   ]
  },
  {
   "cell_type": "code",
   "execution_count": 28,
   "metadata": {},
   "outputs": [
    {
     "data": {
      "text/plain": [
       "{'sedentary_minutes': -0.2678196236080476,\n",
       " 'minutes_below_zone_1': 0.2050667894345541,\n",
       " 'lightly_active_minutes': 0.16906059301131376,\n",
       " 'exertion_points': 0.11446402442036006,\n",
       " 'sleep_points': 0.09321390640193324,\n",
       " 'step_goal': 0.050659830363696666,\n",
       " 'moderately_active_minutes': 0.01652281093560166,\n",
       " 'altitude': 0.009195725507149047,\n",
       " 'calories': -0.00043989392483135593,\n",
       " 'minutes_in_zone_2': -0.007878766844829964,\n",
       " 'very_active_minutes': 0.003921462139110037,\n",
       " 'minutes_in_zone_1': 0.007163434241415815,\n",
       " 'minutes_in_zone_3': 6.230855806351155e-05,\n",
       " 'steps': -0.00046214920862635043,\n",
       " 'sleep_duration': -4.760002022959731e-05,\n",
       " 'exercise_duration': -0.0006767382662127337,\n",
       " 'exercises': -0.0012635979248482498}"
      ]
     },
     "execution_count": 28,
     "metadata": {},
     "output_type": "execute_result"
    }
   ],
   "source": [
    "# laod the global xai response\n",
    "with open('../data/explainability_output/global_30000_lime.json', 'r') as file:\n",
    "    xai_response = json.load(file)\n",
    "xai_response"
   ]
  },
  {
   "cell_type": "code",
   "execution_count": 29,
   "metadata": {},
   "outputs": [
    {
     "name": "stdout",
     "output_type": "stream",
     "text": [
      "Relative distance between global LIME feature importance vs. LLM feature importance 0.7166590580224861\n"
     ]
    }
   ],
   "source": [
    "evaluation.content_xai_quality_evaluation(xai_response, developer_response)"
   ]
  }
 ],
 "metadata": {
  "kernelspec": {
   "display_name": ".venv",
   "language": "python",
   "name": "python3"
  },
  "language_info": {
   "codemirror_mode": {
    "name": "ipython",
    "version": 3
   },
   "file_extension": ".py",
   "mimetype": "text/x-python",
   "name": "python",
   "nbconvert_exporter": "python",
   "pygments_lexer": "ipython3",
   "version": "3.9.13"
  }
 },
 "nbformat": 4,
 "nbformat_minor": 2
}
