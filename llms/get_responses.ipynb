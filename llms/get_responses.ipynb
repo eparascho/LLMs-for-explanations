{
 "cells": [
  {
   "cell_type": "code",
   "execution_count": 8,
   "metadata": {},
   "outputs": [],
   "source": [
    "import sys\n",
    "import ollama\n",
    "import prompts\n",
    "import llm_system\n",
    "from tqdm import tqdm\n",
    "sys.path.append('../')\n",
    "import post_processing"
   ]
  },
  {
   "cell_type": "markdown",
   "metadata": {},
   "source": [
    "##### Load data"
   ]
  },
  {
   "cell_type": "code",
   "execution_count": 9,
   "metadata": {},
   "outputs": [],
   "source": [
    "# load the data\n",
    "data = post_processing.load_data()"
   ]
  },
  {
   "cell_type": "markdown",
   "metadata": {},
   "source": [
    "##### Instances and parameters"
   ]
  },
  {
   "cell_type": "code",
   "execution_count": 10,
   "metadata": {},
   "outputs": [],
   "source": [
    "# instances\n",
    "instances_interpret = [27606, 15179, 29493, 19985, 3144, 19966, 945, 6368, 18524, 30216, 13578, 13400, 5213, 2855, 9869, 15183, 13296, 15463, 19307, 4658]\n",
    "example_instances = [17170, 570, 27055, 24303, 19805]\n",
    "# parameteres for the data\n",
    "granularity = 'hourly'\n",
    "# parameteres for the ML component\n",
    "ml_task = 'clustering'\n",
    "real_task = 'well-being'\n",
    "target = 'cluster'\n",
    "target_encoding = {0: 'negative', 1: 'positive'}\n",
    "# parameteres for the XAI component\n",
    "scope = 'local'\n",
    "xai_method = 'lime'"
   ]
  },
  {
   "cell_type": "markdown",
   "metadata": {},
   "source": [
    "##### LLM parameters"
   ]
  },
  {
   "cell_type": "code",
   "execution_count": 11,
   "metadata": {},
   "outputs": [],
   "source": [
    "learning = 'few'\n",
    "model = 'llama3'"
   ]
  },
  {
   "cell_type": "markdown",
   "metadata": {},
   "source": [
    "##### Create system"
   ]
  },
  {
   "cell_type": "code",
   "execution_count": 12,
   "metadata": {},
   "outputs": [
    {
     "data": {
      "text/plain": [
       "'You are a XAI model that can help me explain the clustering results of my data. I have a dataset with hourly wearable data. The clustering algorithm categorized the data into 2 clusters, where cluster 0 represents negative well-being and cluster 1 represents positive well-being. I need to understand why a user over time has been categorized into its respective cluster. You will be provided with 5 examples each one contains, in the first sentence, the features, values and clustering result, and, in a second sentence, the explanation produced by the local lime XAI method, which is based on feature importance, to explain this clustering result. After the examples, there will be a question containing features and their actual values. You need to compute the feature importance and explain the clustering results based on this feature importance. Your answer must contain only the exact following two parts: The \"Developer response:\" as exclusively a json format with keys to be the features you identified in the question and values to be their feature importance you computed. For example: \"steps\":0.1. Do not add any other information. The \"User response:\" in one short paragraph in which you explain the clustering results based on the feature importance you computed. The answer must include the features you identified along with their actual values. Answer in a consistent style, with clear, short and understandable sentences.'"
      ]
     },
     "execution_count": 12,
     "metadata": {},
     "output_type": "execute_result"
    }
   ],
   "source": [
    "if learning == 'zero':\n",
    "    system_content = llm_system.create_system(ml_task, granularity, target_encoding, target, real_task, learning, scope, xai_method, str(0))\n",
    "elif learning == 'one':\n",
    "    system_content = llm_system.create_system(ml_task, granularity, target_encoding, target, real_task, learning, scope, xai_method, str(1))\n",
    "elif learning == 'few':\n",
    "    system_content = llm_system.create_system(ml_task, granularity, target_encoding, target, real_task, learning, scope, xai_method, str(5))\n",
    "system_content"
   ]
  },
  {
   "cell_type": "code",
   "execution_count": 13,
   "metadata": {},
   "outputs": [],
   "source": [
    "# manual system\n",
    "system_content = \"You are a XAI model that can help me explain the clustering results of my data. I have a dataset with hourly wearable data. The clustering algorithm categorized the data into 2 clusters, where cluster 0 represents negative well-being and cluster 1 represents positive well-being. I need to understand why a user over time has been categorized into its respective cluster. You will be provided with 5 examples each one contains, in the first sentence, the features, values and clustering result, and, in a second sentence, the explanation produced by the local lime XAI method, which is based on feature importance, to explain this clustering result. After the examples, there will be a question containing features and their actual values. You need to compute the feature importance for the provided question and explain the clustering results based on this feature importance. Your answer must contain only the exact following two parts: The \\\"Developer response:\\\" as exclusively a json format with keys to be the features you identified in the question and values to be their feature importance you computed. For example: \\\"steps\\\":0.1. Do not add any other information. The \\\"User response:\\\" in one short paragraph in which you explain the clustering results based on the feature importance you computed. The answer must include the features you identified along with their actual values. Answer in a consistent style, with clear, short and understandable sentences.\""
   ]
  },
  {
   "cell_type": "markdown",
   "metadata": {},
   "source": [
    "##### Prompt and get responses"
   ]
  },
  {
   "cell_type": "code",
   "execution_count": 14,
   "metadata": {},
   "outputs": [],
   "source": [
    "# pbar = tqdm(total=len(instances_interpret), desc=\"Processing instances\", unit=\"inst\")\n",
    "# for each instance\n",
    "# for instance_interpret in instances_interpret:\n",
    "\n",
    "instance_interpret = 27606\n",
    "# prepare the prompt based on the learning technique\n",
    "if learning == 'zero':\n",
    "    prompt = prompts.zero_prompt(data, instance_interpret, target, target_encoding, granularity, real_task)\n",
    "elif learning == 'one':\n",
    "    prompt = prompts.one_prompt(data, instance_interpret, example_instances[0], target, target_encoding, granularity, real_task)\n",
    "elif learning == 'few':\n",
    "    prompt = prompts.few_prompt(data, instance_interpret, example_instances, target, target_encoding, granularity, real_task)\n",
    "\n",
    "# prompt the llm\n",
    "response = ollama.chat(model=model, messages=[\n",
    "{\n",
    "'role': 'system',\n",
    "'content': system_content\n",
    "},\n",
    "{\n",
    "'role': 'user',\n",
    "'content': prompt,\n",
    "},\n",
    "])\n",
    "response = response['message']['content']\n",
    "response_path = '../data/llms_output/' + learning + '/' + model + '_' + str(instance_interpret) + '.txt'\n",
    "with open(response_path, 'w') as f:\n",
    "    f.write(response)\n",
    "    # pbar.update(1) \n",
    "# pbar.close()"
   ]
  }
 ],
 "metadata": {
  "kernelspec": {
   "display_name": ".venv",
   "language": "python",
   "name": "python3"
  },
  "language_info": {
   "codemirror_mode": {
    "name": "ipython",
    "version": 3
   },
   "file_extension": ".py",
   "mimetype": "text/x-python",
   "name": "python",
   "nbconvert_exporter": "python",
   "pygments_lexer": "ipython3",
   "version": "3.9.13"
  }
 },
 "nbformat": 4,
 "nbformat_minor": 2
}
