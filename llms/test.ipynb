{
 "cells": [
  {
   "cell_type": "code",
   "execution_count": 21,
   "metadata": {},
   "outputs": [],
   "source": [
    "import ollama\n",
    "import readability\n",
    "import language_tool_python\n",
    "from textblob import TextBlob\n",
    "from sklearn.feature_extraction.text import TfidfVectorizer\n",
    "from sentence_transformers import SentenceTransformer, util"
   ]
  },
  {
   "cell_type": "code",
   "execution_count": 22,
   "metadata": {},
   "outputs": [
    {
     "name": "stdout",
     "output_type": "stream",
     "text": [
      "The sky appears blue to us because of a process called Rayleigh scattering. As sunlight enters Earth's atmosphere, it is made up of different colors that correspond to various wavelengths of light. Shorter wavelengths (blue and violet) are scattered in all directions by the gases and particles in the Earth's atmosphere much more effectively than longer wavelengths (like red). Although both blue and violet light get scattered, our eyes are more sensitive to blue light, which is why we perceive the sky as being blue. Additionally, some of the violet light gets absorbed by the upper atmosphere, leaving predominantly blue light visible during daylight hours.\n"
     ]
    }
   ],
   "source": [
    "# inference using the llama3 model\n",
    "response = ollama.chat(model='phi3', messages=[\n",
    "  {\n",
    "    'role': 'user',\n",
    "    'content': 'Why is the sky blue?',\n",
    "  },\n",
    "])\n",
    "print(response['message']['content'])"
   ]
  },
  {
   "cell_type": "code",
   "execution_count": 23,
   "metadata": {},
   "outputs": [],
   "source": [
    "query = 'Why is the sky blue?'\n",
    "response = response['message']['content']"
   ]
  },
  {
   "cell_type": "code",
   "execution_count": 25,
   "metadata": {},
   "outputs": [],
   "source": [
    "# create the embeddings\n",
    "embeddings = SentenceTransformer('all-MiniLM-L6-v2')\n",
    "query_embedding = embeddings.encode('Why is the sky blue?')\n",
    "response_embedding = embeddings.encode(response)"
   ]
  },
  {
   "cell_type": "code",
   "execution_count": 26,
   "metadata": {},
   "outputs": [
    {
     "name": "stdout",
     "output_type": "stream",
     "text": [
      "Relevance Score: 0.7495800256729126\n"
     ]
    }
   ],
   "source": [
    "# calculate cosine similarity\n",
    "similarity = util.cos_sim(query_embedding, response_embedding)\n",
    "print('Relevance Score:', similarity.item())"
   ]
  },
  {
   "cell_type": "code",
   "execution_count": 27,
   "metadata": {},
   "outputs": [
    {
     "name": "stdout",
     "output_type": "stream",
     "text": [
      "Number of grammatical errors: 0\n"
     ]
    }
   ],
   "source": [
    "# check for grammatical errors\n",
    "tool = language_tool_python.LanguageTool('en-US')\n",
    "matches = tool.check(response)\n",
    "print('Number of grammatical errors:', len(matches))"
   ]
  },
  {
   "cell_type": "code",
   "execution_count": 28,
   "metadata": {},
   "outputs": [
    {
     "name": "stdout",
     "output_type": "stream",
     "text": [
      "Automated Readability Index: 55.928130841121494\n"
     ]
    }
   ],
   "source": [
    "# check for automated readability index\n",
    "results = readability.getmeasures(response, lang='en')\n",
    "print('Automated Readability Index:', results['readability grades']['ARI'])"
   ]
  },
  {
   "cell_type": "code",
   "execution_count": 29,
   "metadata": {},
   "outputs": [
    {
     "name": "stdout",
     "output_type": "stream",
     "text": [
      "Sentiment Consistency Score: 0.19999999999999998\n"
     ]
    }
   ],
   "source": [
    "# evaluate sentiment consistency\n",
    "query_sentiment = TextBlob(query).sentiment.polarity\n",
    "response_sentiment = TextBlob(response).sentiment.polarity\n",
    "print('Sentiment Consistency Score:', abs(query_sentiment - response_sentiment))"
   ]
  },
  {
   "cell_type": "code",
   "execution_count": 30,
   "metadata": {},
   "outputs": [
    {
     "name": "stdout",
     "output_type": "stream",
     "text": [
      "Concepts Covered: {'blue', 'sky'}\n",
      "New Concepts Introduced: {'leaving', 'longer', 'appears', 'hours', 'violet', 'directions', 'different', 'red', 'enters', 'sensitive', 'gets', 'correspond', 'absorbed', 'effectively', 'process', 'particles', 'scattered', 'sunlight', 'called', 'daylight', 'additionally', 'upper', 'visible', 'scattering', 'atmosphere', 'eyes', 'earth', 'shorter', 'rayleigh', 'light', 'colors', 'wavelengths', 'gases', 'various', 'predominantly', 'perceive', 'like'}\n"
     ]
    }
   ],
   "source": [
    "# check concept coverage\n",
    "vectorizer = TfidfVectorizer(stop_words='english')\n",
    "tfidf = vectorizer.fit_transform([query, response])\n",
    "feature_names = vectorizer.get_feature_names_out()\n",
    "query_concepts = set([feature_names[i] for i in tfidf[0].nonzero()[1]])\n",
    "response_concepts = set([feature_names[i] for i in tfidf[1].nonzero()[1]])\n",
    "coverage = query_concepts.intersection(response_concepts)\n",
    "concepts = response_concepts.difference(query_concepts)\n",
    "print('Concepts Covered:', coverage)\n",
    "print('New Concepts Introduced:', concepts)"
   ]
  },
  {
   "cell_type": "code",
   "execution_count": null,
   "metadata": {},
   "outputs": [],
   "source": []
  }
 ],
 "metadata": {
  "kernelspec": {
   "display_name": ".venv",
   "language": "python",
   "name": "python3"
  },
  "language_info": {
   "codemirror_mode": {
    "name": "ipython",
    "version": 3
   },
   "file_extension": ".py",
   "mimetype": "text/x-python",
   "name": "python",
   "nbconvert_exporter": "python",
   "pygments_lexer": "ipython3",
   "version": "3.9.13"
  }
 },
 "nbformat": 4,
 "nbformat_minor": 2
}
