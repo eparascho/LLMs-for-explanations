{
 "cells": [
  {
   "cell_type": "code",
   "execution_count": 7,
   "metadata": {},
   "outputs": [],
   "source": [
    "import ollama"
   ]
  },
  {
   "cell_type": "code",
   "execution_count": 8,
   "metadata": {},
   "outputs": [
    {
     "name": "stdout",
     "output_type": "stream",
     "text": [
      "llama3:latest\n"
     ]
    }
   ],
   "source": [
    "# Print available local ollama models\n",
    "for i in range(len(ollama.list()['models'])):\n",
    "    print(ollama.list()['models'][i]['name'])"
   ]
  },
  {
   "cell_type": "code",
   "execution_count": 9,
   "metadata": {},
   "outputs": [
    {
     "name": "stdout",
     "output_type": "stream",
     "text": [
      "What a great question!\n",
      "\n",
      "The sky appears blue because of a phenomenon called Rayleigh scattering, named after the British physicist Lord Rayleigh. Here's what happens:\n",
      "\n",
      "1. **Sunlight**: When sunlight enters Earth's atmosphere, it contains all the colors of the visible spectrum (red, orange, yellow, green, blue, indigo, and violet).\n",
      "2. **Molecules**: The atmosphere is made up of tiny molecules like nitrogen (N2) and oxygen (O2). These molecules are much smaller than the wavelength of light.\n",
      "3. **Scattering**: When sunlight encounters these molecules, it scatters in all directions. The amount of scattering that occurs depends on the wavelength of the light.\n",
      "4. **Blue dominance**: Blue light has a shorter wavelength (around 450-495 nanometers) compared to other colors. As a result, blue light is scattered more efficiently by the atmosphere's molecules than longer-wavelength lights like red and orange.\n",
      "5. **Our perspective**: When we look at the sky, we see the scattered blue light reaching our eyes from all directions. This is why the sky appears blue during the daytime.\n",
      "\n",
      "At sunrise and sunset, the sun's rays have to travel longer distances through the atmosphere, which scatters the shorter-wavelength blues and violets even more, making them less visible. That's why the sky often takes on a more reddish hue during these times.\n",
      "\n",
      "In short, the sky appears blue because of the way that sunlight interacts with the tiny molecules in our atmosphere, scattering shorter wavelengths like blue light more efficiently than longer wavelengths.\n",
      "\n",
      "I hope that helps you understand why the sky is blue!\n"
     ]
    }
   ],
   "source": [
    "response = ollama.chat(model='llama3', messages=[\n",
    "  {\n",
    "    'role': 'user',\n",
    "    'content': 'Why is the sky blue?',\n",
    "  },\n",
    "])\n",
    "print(response['message']['content'])\n",
    "# it took 2 minutes to get a response"
   ]
  }
 ],
 "metadata": {
  "kernelspec": {
   "display_name": ".venv",
   "language": "python",
   "name": "python3"
  },
  "language_info": {
   "codemirror_mode": {
    "name": "ipython",
    "version": 3
   },
   "file_extension": ".py",
   "mimetype": "text/x-python",
   "name": "python",
   "nbconvert_exporter": "python",
   "pygments_lexer": "ipython3",
   "version": "3.9.13"
  }
 },
 "nbformat": 4,
 "nbformat_minor": 2
}
