{
 "cells": [
  {
   "cell_type": "code",
   "execution_count": 5,
   "metadata": {},
   "outputs": [],
   "source": [
    "import sys\n",
    "import pandas as pd\n",
    "sys.path.append('../')"
   ]
  },
  {
   "cell_type": "markdown",
   "metadata": {},
   "source": [
    "Zero-shot prompting"
   ]
  },
  {
   "cell_type": "code",
   "execution_count": 6,
   "metadata": {},
   "outputs": [
    {
     "data": {
      "text/html": [
       "<div>\n",
       "<style scoped>\n",
       "    .dataframe tbody tr th:only-of-type {\n",
       "        vertical-align: middle;\n",
       "    }\n",
       "\n",
       "    .dataframe tbody tr th {\n",
       "        vertical-align: top;\n",
       "    }\n",
       "\n",
       "    .dataframe thead th {\n",
       "        text-align: right;\n",
       "    }\n",
       "</style>\n",
       "<table border=\"1\" class=\"dataframe\">\n",
       "  <thead>\n",
       "    <tr style=\"text-align: right;\">\n",
       "      <th></th>\n",
       "      <th>id</th>\n",
       "      <th>date</th>\n",
       "      <th>exertion_points</th>\n",
       "      <th>step_goal</th>\n",
       "      <th>minutes_below_zone_1</th>\n",
       "      <th>minutes_in_zone_1</th>\n",
       "      <th>steps</th>\n",
       "      <th>very_active_minutes</th>\n",
       "      <th>minutes_in_zone_2</th>\n",
       "      <th>minutes_in_zone_3</th>\n",
       "      <th>altitude</th>\n",
       "      <th>lightly_active_minutes</th>\n",
       "      <th>moderately_active_minutes</th>\n",
       "      <th>sedentary_minutes</th>\n",
       "      <th>exercises</th>\n",
       "      <th>exercise_duration</th>\n",
       "      <th>sleep_points</th>\n",
       "      <th>sleep_duration</th>\n",
       "      <th>calories</th>\n",
       "      <th>cluster</th>\n",
       "    </tr>\n",
       "  </thead>\n",
       "  <tbody>\n",
       "    <tr>\n",
       "      <th>0</th>\n",
       "      <td>621e2e8e67b776a24055b564</td>\n",
       "      <td>2021-05-24 00:00:00</td>\n",
       "      <td>0.622928</td>\n",
       "      <td>0.0</td>\n",
       "      <td>0.936806</td>\n",
       "      <td>0.081134</td>\n",
       "      <td>0.017563</td>\n",
       "      <td>0.080685</td>\n",
       "      <td>0.0</td>\n",
       "      <td>0.0</td>\n",
       "      <td>0.0</td>\n",
       "      <td>0.254701</td>\n",
       "      <td>0.083045</td>\n",
       "      <td>0.495139</td>\n",
       "      <td>0.074074</td>\n",
       "      <td>0.001865</td>\n",
       "      <td>0.810469</td>\n",
       "      <td>0.0</td>\n",
       "      <td>0.029382</td>\n",
       "      <td>1</td>\n",
       "    </tr>\n",
       "    <tr>\n",
       "      <th>1</th>\n",
       "      <td>621e2e8e67b776a24055b564</td>\n",
       "      <td>2021-05-24 01:00:00</td>\n",
       "      <td>0.622928</td>\n",
       "      <td>0.0</td>\n",
       "      <td>0.936806</td>\n",
       "      <td>0.081134</td>\n",
       "      <td>0.000000</td>\n",
       "      <td>0.080685</td>\n",
       "      <td>0.0</td>\n",
       "      <td>0.0</td>\n",
       "      <td>0.0</td>\n",
       "      <td>0.254701</td>\n",
       "      <td>0.083045</td>\n",
       "      <td>0.495139</td>\n",
       "      <td>0.074074</td>\n",
       "      <td>0.001865</td>\n",
       "      <td>0.810469</td>\n",
       "      <td>0.0</td>\n",
       "      <td>0.002914</td>\n",
       "      <td>1</td>\n",
       "    </tr>\n",
       "  </tbody>\n",
       "</table>\n",
       "</div>"
      ],
      "text/plain": [
       "                         id                 date  exertion_points  step_goal  \\\n",
       "0  621e2e8e67b776a24055b564  2021-05-24 00:00:00         0.622928        0.0   \n",
       "1  621e2e8e67b776a24055b564  2021-05-24 01:00:00         0.622928        0.0   \n",
       "\n",
       "   minutes_below_zone_1  minutes_in_zone_1     steps  very_active_minutes  \\\n",
       "0              0.936806           0.081134  0.017563             0.080685   \n",
       "1              0.936806           0.081134  0.000000             0.080685   \n",
       "\n",
       "   minutes_in_zone_2  minutes_in_zone_3  altitude  lightly_active_minutes  \\\n",
       "0                0.0                0.0       0.0                0.254701   \n",
       "1                0.0                0.0       0.0                0.254701   \n",
       "\n",
       "   moderately_active_minutes  sedentary_minutes  exercises  exercise_duration  \\\n",
       "0                   0.083045           0.495139   0.074074           0.001865   \n",
       "1                   0.083045           0.495139   0.074074           0.001865   \n",
       "\n",
       "   sleep_points  sleep_duration  calories  cluster  \n",
       "0      0.810469             0.0  0.029382        1  \n",
       "1      0.810469             0.0  0.002914        1  "
      ]
     },
     "execution_count": 6,
     "metadata": {},
     "output_type": "execute_result"
    }
   ],
   "source": [
    "# load data\n",
    "data = pd.read_csv('../data/clustering_results/kmeans_2_results_hourly_categories_nooutliers3.csv')\n",
    "data.head(2)"
   ]
  },
  {
   "cell_type": "code",
   "execution_count": null,
   "metadata": {},
   "outputs": [],
   "source": [
    "# denormalize data\n"
   ]
  },
  {
   "cell_type": "code",
   "execution_count": 14,
   "metadata": {},
   "outputs": [],
   "source": [
    "# instance = 0\n",
    "# zero_prompt = 'Why a user on', pd.to_datetime(data.loc[instance, 'date']).day_name(), \"at\", pd.to_datetime(data.loc[instance, 'date']).hour, \"o'clock, who  \n",
    "# # is in cluster\", data.loc[instance, 'cluster'], \"?\""
   ]
  }
 ],
 "metadata": {
  "kernelspec": {
   "display_name": ".venv",
   "language": "python",
   "name": "python3"
  },
  "language_info": {
   "codemirror_mode": {
    "name": "ipython",
    "version": 3
   },
   "file_extension": ".py",
   "mimetype": "text/x-python",
   "name": "python",
   "nbconvert_exporter": "python",
   "pygments_lexer": "ipython3",
   "version": "3.9.13"
  }
 },
 "nbformat": 4,
 "nbformat_minor": 2
}
