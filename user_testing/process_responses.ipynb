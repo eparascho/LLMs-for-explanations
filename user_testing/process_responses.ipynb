{
 "cells": [
  {
   "cell_type": "code",
   "execution_count": 1,
   "metadata": {},
   "outputs": [],
   "source": [
    "import pandas as pd"
   ]
  },
  {
   "cell_type": "code",
   "execution_count": 2,
   "metadata": {},
   "outputs": [],
   "source": [
    "# read the data\n",
    "data = pd.read_csv('responses.csv')"
   ]
  },
  {
   "cell_type": "code",
   "execution_count": 3,
   "metadata": {},
   "outputs": [],
   "source": [
    "# rename columns\n",
    "data.rename(columns={'What is your area of expertise?': 'expertise', \n",
    "                     'What is your area of expertise? [Other]': 'expertise_other', \n",
    "                     'Unnamed: 2': 'group',\n",
    "                     'What do you think overall about the human-friendliness of the explanations that can be produced using the LIME explainability method?  E.g., do you have anything to share regarding their pros or cons?   ': 'lime_pros_cons', \n",
    "                     'What do you think overall about the human-friendliness of the explanations that can be produced using the Llama3 Large Language Model?  E.g., do you have anything to share regarding their pros or cons?   ': 'llama3_pros_cons',\n",
    "                     'How clear were the purpose of the experiment and the instructions provided to you during the experiment?     1: very unclear 2: unclear 3: neutral 4: clear 5: very clear ': 'instructions'}, \n",
    "                     inplace=True)"
   ]
  },
  {
   "cell_type": "code",
   "execution_count": 4,
   "metadata": {},
   "outputs": [],
   "source": [
    "# save the processed data\n",
    "data.to_csv('responses_processed.csv', index=False)"
   ]
  }
 ],
 "metadata": {
  "kernelspec": {
   "display_name": ".venv",
   "language": "python",
   "name": "python3"
  },
  "language_info": {
   "codemirror_mode": {
    "name": "ipython",
    "version": 3
   },
   "file_extension": ".py",
   "mimetype": "text/x-python",
   "name": "python",
   "nbconvert_exporter": "python",
   "pygments_lexer": "ipython3",
   "version": "3.9.13"
  }
 },
 "nbformat": 4,
 "nbformat_minor": 2
}
