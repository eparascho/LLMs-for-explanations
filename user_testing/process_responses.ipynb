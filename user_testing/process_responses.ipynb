{
 "cells": [
  {
   "cell_type": "code",
   "execution_count": 1,
   "metadata": {},
   "outputs": [],
   "source": [
    "import pandas as pd"
   ]
  },
  {
   "cell_type": "code",
   "execution_count": 2,
   "metadata": {},
   "outputs": [],
   "source": [
    "# read the data\n",
    "data = pd.read_csv('final_responses.csv')"
   ]
  },
  {
   "cell_type": "code",
   "execution_count": 3,
   "metadata": {},
   "outputs": [],
   "source": [
    "# drop the raws that are totally empty\n",
    "data = data.dropna(how='all')"
   ]
  },
  {
   "cell_type": "code",
   "execution_count": 4,
   "metadata": {},
   "outputs": [],
   "source": [
    "# drop the raws that are empty from columns 3 to 18\n",
    "data = data.dropna(subset=data.columns[3:18], how='all')"
   ]
  },
  {
   "cell_type": "code",
   "execution_count": 5,
   "metadata": {},
   "outputs": [],
   "source": [
    "# save the A/B ready processed data\n",
    "data.to_csv('responses_AB_processed.csv', index=False)"
   ]
  },
  {
   "cell_type": "code",
   "execution_count": 6,
   "metadata": {},
   "outputs": [],
   "source": [
    "# drop the raws that are empty from columns 19 to 34\n",
    "data = data.dropna(subset=data.columns[19:34], how='all')"
   ]
  },
  {
   "cell_type": "code",
   "execution_count": 7,
   "metadata": {},
   "outputs": [],
   "source": [
    "# save the A/B and paired ready processed data\n",
    "data.to_csv('responses_AB_paired_processed.csv', index=False)"
   ]
  },
  {
   "cell_type": "code",
   "execution_count": 8,
   "metadata": {},
   "outputs": [],
   "source": [
    "# rename columns\n",
    "data.rename(columns={'What is your area of expertise?': 'expertise', \n",
    "                     'What is your area of expertise? [Other]': 'expertise_other', \n",
    "                     'Unnamed: 2': 'group',\n",
    "                     'What do you think overall about the human-friendliness of the explanations that can be produced using the LIME explainability method?  E.g., do you have anything to share regarding their pros or cons?   ': 'lime_pros_cons', \n",
    "                     'What do you think overall about the human-friendliness of the explanations that can be produced using the Llama3 Large Language Model?  E.g., do you have anything to share regarding their pros or cons?   ': 'llama3_pros_cons',\n",
    "                     'How clear were the purpose of the experiment and the instructions provided to you during the experiment?     1: very unclear 2: unclear 3: neutral 4: clear 5: very clear ': 'instructions'}, \n",
    "                     inplace=True)"
   ]
  },
  {
   "cell_type": "code",
   "execution_count": 9,
   "metadata": {},
   "outputs": [],
   "source": [
    "# drop the row that is 'Other' in expertise and nan in expertise_other\n",
    "data = data.drop(data[(data['expertise'] == 'Other') & (data['expertise_other'].isna())].index)"
   ]
  },
  {
   "cell_type": "code",
   "execution_count": 10,
   "metadata": {},
   "outputs": [],
   "source": [
    "# save the final processed data\n",
    "data.to_csv('responses_AB_paired_final_processed.csv', index=False)"
   ]
  },
  {
   "cell_type": "code",
   "execution_count": 11,
   "metadata": {},
   "outputs": [],
   "source": [
    "# keep group A and group B participants separetely\n",
    "data_A = data[data['group'] == 'A']\n",
    "data_B = data[data['group'] == 'B']"
   ]
  },
  {
   "cell_type": "code",
   "execution_count": 12,
   "metadata": {},
   "outputs": [],
   "source": [
    "# save the groupA and groupB processed data\n",
    "data_A.to_csv('groupA_processed.csv', index=False)\n",
    "data_B.to_csv('groupB_processed.csv', index=False)"
   ]
  },
  {
   "cell_type": "code",
   "execution_count": 13,
   "metadata": {},
   "outputs": [],
   "source": [
    "# filter lime paired and ExGAP paired responses\n",
    "data_lime = data.iloc[:, [19, 21, 23, 25, 27, 29, 31, 33]]\n",
    "data_exgap = data.iloc[:, [20, 22, 24, 26, 28, 30, 32, 34]]"
   ]
  },
  {
   "cell_type": "code",
   "execution_count": 14,
   "metadata": {},
   "outputs": [],
   "source": [
    "# save the groupA processed data\n",
    "data_lime.to_csv('paired_lime_processed.csv', index=False)\n",
    "data_exgap.to_csv('paired_exgap_processed.csv', index=False)"
   ]
  }
 ],
 "metadata": {
  "kernelspec": {
   "display_name": ".venv",
   "language": "python",
   "name": "python3"
  },
  "language_info": {
   "codemirror_mode": {
    "name": "ipython",
    "version": 3
   },
   "file_extension": ".py",
   "mimetype": "text/x-python",
   "name": "python",
   "nbconvert_exporter": "python",
   "pygments_lexer": "ipython3",
   "version": "3.9.13"
  }
 },
 "nbformat": 4,
 "nbformat_minor": 2
}
