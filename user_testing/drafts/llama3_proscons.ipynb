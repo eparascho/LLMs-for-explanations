{
 "cells": [
  {
   "cell_type": "code",
   "execution_count": 1,
   "metadata": {},
   "outputs": [
    {
     "name": "stderr",
     "output_type": "stream",
     "text": [
      "[nltk_data] Downloading package vader_lexicon to\n",
      "[nltk_data]     C:\\Users\\evapa\\AppData\\Roaming\\nltk_data...\n",
      "[nltk_data]   Package vader_lexicon is already up-to-date!\n"
     ]
    },
    {
     "data": {
      "text/plain": [
       "True"
      ]
     },
     "execution_count": 1,
     "metadata": {},
     "output_type": "execute_result"
    }
   ],
   "source": [
    "import nltk\n",
    "import pandas as pd\n",
    "from nltk.sentiment import SentimentIntensityAnalyzer\n",
    "nltk.download('vader_lexicon')"
   ]
  },
  {
   "cell_type": "code",
   "execution_count": 2,
   "metadata": {},
   "outputs": [],
   "source": [
    "# read the data\n",
    "data = pd.read_csv('responses_processed.csv')"
   ]
  },
  {
   "cell_type": "code",
   "execution_count": 3,
   "metadata": {},
   "outputs": [],
   "source": [
    "# find the sentiment\n",
    "analyzer = SentimentIntensityAnalyzer()"
   ]
  },
  {
   "cell_type": "code",
   "execution_count": 4,
   "metadata": {},
   "outputs": [],
   "source": [
    "def get_highest_sentiment(text):\n",
    "    if pd.isna(text) or text.strip() == \"\":\n",
    "        return None\n",
    "    sentiment_dict = analyzer.polarity_scores(text)\n",
    "    sentiments = { \n",
    "        'positive': sentiment_dict['pos'], \n",
    "        'negative': sentiment_dict['neg']}\n",
    "    final_sentiment = max(sentiments, key=sentiments.get)\n",
    "    return final_sentiment"
   ]
  },
  {
   "cell_type": "code",
   "execution_count": 5,
   "metadata": {},
   "outputs": [
    {
     "data": {
      "text/plain": [
       "0         None\n",
       "1     positive\n",
       "2     positive\n",
       "3     negative\n",
       "4     positive\n",
       "5         None\n",
       "6     positive\n",
       "7     positive\n",
       "8     negative\n",
       "9     negative\n",
       "10    positive\n",
       "11    positive\n",
       "12        None\n",
       "13    positive\n",
       "14    positive\n",
       "15        None\n",
       "16    positive\n",
       "17    positive\n",
       "18        None\n",
       "19    positive\n",
       "20    positive\n",
       "Name: llama3_sentiment, dtype: object"
      ]
     },
     "execution_count": 5,
     "metadata": {},
     "output_type": "execute_result"
    }
   ],
   "source": [
    "data['llama3_sentiment'] = data['llama3_pros_cons'].apply(get_highest_sentiment)\n",
    "data['llama3_sentiment']"
   ]
  }
 ],
 "metadata": {
  "kernelspec": {
   "display_name": ".venv",
   "language": "python",
   "name": "python3"
  },
  "language_info": {
   "codemirror_mode": {
    "name": "ipython",
    "version": 3
   },
   "file_extension": ".py",
   "mimetype": "text/x-python",
   "name": "python",
   "nbconvert_exporter": "python",
   "pygments_lexer": "ipython3",
   "version": "3.9.13"
  }
 },
 "nbformat": 4,
 "nbformat_minor": 2
}
