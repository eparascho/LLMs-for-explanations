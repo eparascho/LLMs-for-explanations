{
 "cells": [
  {
   "cell_type": "code",
   "execution_count": 13,
   "metadata": {},
   "outputs": [
    {
     "name": "stderr",
     "output_type": "stream",
     "text": [
      "[nltk_data] Downloading package vader_lexicon to\n",
      "[nltk_data]     C:\\Users\\evapa\\AppData\\Roaming\\nltk_data...\n",
      "[nltk_data]   Package vader_lexicon is already up-to-date!\n"
     ]
    },
    {
     "data": {
      "text/plain": [
       "True"
      ]
     },
     "execution_count": 13,
     "metadata": {},
     "output_type": "execute_result"
    }
   ],
   "source": [
    "import nltk\n",
    "import pandas as pd\n",
    "from nltk.sentiment import SentimentIntensityAnalyzer\n",
    "nltk.download('vader_lexicon')"
   ]
  },
  {
   "cell_type": "code",
   "execution_count": 14,
   "metadata": {},
   "outputs": [],
   "source": [
    "# read the data\n",
    "data = pd.read_csv('responses_AB_paired_final_processed.csv')"
   ]
  },
  {
   "cell_type": "code",
   "execution_count": 15,
   "metadata": {},
   "outputs": [],
   "source": [
    "# find the sentiment\n",
    "analyzer = SentimentIntensityAnalyzer()"
   ]
  },
  {
   "cell_type": "code",
   "execution_count": 16,
   "metadata": {},
   "outputs": [],
   "source": [
    "def get_highest_sentiment(text):\n",
    "    if pd.isna(text) or text.strip() == \"\":\n",
    "        return None\n",
    "    sentiment_dict = analyzer.polarity_scores(text)\n",
    "    sentiments = { \n",
    "        'positive': sentiment_dict['pos'], \n",
    "        'negative': sentiment_dict['neg']}\n",
    "    final_sentiment = max(sentiments, key=sentiments.get)\n",
    "    return final_sentiment"
   ]
  },
  {
   "cell_type": "code",
   "execution_count": 17,
   "metadata": {},
   "outputs": [
    {
     "data": {
      "text/plain": [
       "0         None\n",
       "1     positive\n",
       "2     positive\n",
       "3     negative\n",
       "4     positive\n",
       "5         None\n",
       "6     positive\n",
       "7     positive\n",
       "8     negative\n",
       "9     negative\n",
       "10    positive\n",
       "11    positive\n",
       "12        None\n",
       "13    positive\n",
       "14    positive\n",
       "15        None\n",
       "16    positive\n",
       "17    positive\n",
       "18        None\n",
       "19    positive\n",
       "20    positive\n",
       "21    positive\n",
       "22    negative\n",
       "23    positive\n",
       "24    positive\n",
       "25        None\n",
       "26    positive\n",
       "27    positive\n",
       "28    negative\n",
       "29        None\n",
       "30    negative\n",
       "31        None\n",
       "32    positive\n",
       "33    positive\n",
       "34    positive\n",
       "35    positive\n",
       "36    positive\n",
       "37        None\n",
       "38        None\n",
       "39    positive\n",
       "40    positive\n",
       "41    positive\n",
       "42    positive\n",
       "43        None\n",
       "44    positive\n",
       "45    positive\n",
       "46    positive\n",
       "47        None\n",
       "48    positive\n",
       "49    positive\n",
       "50    positive\n",
       "51    negative\n",
       "52        None\n",
       "53        None\n",
       "54    positive\n",
       "55    positive\n",
       "Name: llama3_sentiment, dtype: object"
      ]
     },
     "execution_count": 17,
     "metadata": {},
     "output_type": "execute_result"
    }
   ],
   "source": [
    "data['llama3_sentiment'] = data['llama3_pros_cons'].apply(get_highest_sentiment)\n",
    "data['llama3_sentiment']"
   ]
  },
  {
   "cell_type": "code",
   "execution_count": 18,
   "metadata": {},
   "outputs": [
    {
     "data": {
      "text/plain": [
       "positive    35\n",
       "negative     7\n",
       "Name: llama3_sentiment, dtype: int64"
      ]
     },
     "execution_count": 18,
     "metadata": {},
     "output_type": "execute_result"
    }
   ],
   "source": [
    "# value counts\n",
    "data['llama3_sentiment'].value_counts()"
   ]
  }
 ],
 "metadata": {
  "kernelspec": {
   "display_name": ".venv",
   "language": "python",
   "name": "python3"
  },
  "language_info": {
   "codemirror_mode": {
    "name": "ipython",
    "version": 3
   },
   "file_extension": ".py",
   "mimetype": "text/x-python",
   "name": "python",
   "nbconvert_exporter": "python",
   "pygments_lexer": "ipython3",
   "version": "3.9.13"
  }
 },
 "nbformat": 4,
 "nbformat_minor": 2
}
