{
 "cells": [
  {
   "cell_type": "markdown",
   "source": [
    "##### This notebook collects all the data from MongoDB and creates the corresponding dataframe."
   ],
   "metadata": {
    "collapsed": false,
    "pycharm": {
     "name": "#%% md\n"
    }
   }
  },
  {
   "cell_type": "code",
   "execution_count": 21,
   "outputs": [],
   "source": [
    "import os\n",
    "import warnings\n",
    "import datetime\n",
    "import pandas as pd\n",
    "from dotenv import load_dotenv\n",
    "from pymongo import MongoClient\n",
    "from functions import data_loading\n",
    "\n",
    "warnings.filterwarnings(\"ignore\")"
   ],
   "metadata": {
    "collapsed": false,
    "pycharm": {
     "name": "#%%\n"
    }
   }
  },
  {
   "cell_type": "markdown",
   "source": [
    "Connect securely to the database"
   ],
   "metadata": {
    "collapsed": false,
    "pycharm": {
     "name": "#%% md\n"
    }
   }
  },
  {
   "cell_type": "code",
   "execution_count": 22,
   "outputs": [],
   "source": [
    "load_dotenv(\"config.env\")\n",
    "MONGO_USER = os.getenv(\"MONGO_USER\")\n",
    "MONGO_PASSWORD = os.getenv(\"MONGO_PASSWORD\")\n",
    "client = MongoClient(\"mongodb://\" + MONGO_USER + \":\" + MONGO_PASSWORD + \"@localhost:27017/\")\n",
    "db = client.rais"
   ],
   "metadata": {
    "collapsed": false,
    "pycharm": {
     "name": "#%%\n"
    }
   }
  },
  {
   "cell_type": "markdown",
   "source": [
    "#### Fitbit data"
   ],
   "metadata": {
    "collapsed": false,
    "pycharm": {
     "name": "#%% md\n"
    }
   }
  },
  {
   "cell_type": "markdown",
   "source": [
    "Find all users provided their Fitbit data"
   ],
   "metadata": {
    "collapsed": false,
    "pycharm": {
     "name": "#%% md\n"
    }
   }
  },
  {
   "cell_type": "code",
   "execution_count": 23,
   "outputs": [
    {
     "name": "stdout",
     "output_type": "stream",
     "text": [
      "71 users provided their Fitbit data\n"
     ]
    }
   ],
   "source": [
    "users = db.fitbit.distinct('id')\n",
    "print(len(users), \"users provided their Fitbit data\")"
   ],
   "metadata": {
    "collapsed": false,
    "pycharm": {
     "name": "#%%\n"
    }
   }
  },
  {
   "cell_type": "markdown",
   "source": [
    "Find all the data types"
   ],
   "metadata": {
    "collapsed": false,
    "pycharm": {
     "name": "#%% md\n"
    }
   }
  },
  {
   "cell_type": "code",
   "execution_count": 24,
   "outputs": [
    {
     "data": {
      "text/plain": "['Afib ECG Readings',\n 'Computed Temperature',\n 'Daily Heart Rate Variability Summary',\n 'Daily SpO2',\n 'Device Temperature',\n 'Heart Rate Variability Details',\n 'Heart Rate Variability Histogram',\n 'Profile',\n 'Respiratory Rate Summary',\n 'Stress Score',\n 'Wrist Temperature',\n 'altitude',\n 'badge',\n 'calories',\n 'demographic_vo2_max',\n 'distance',\n 'estimated_oxygen_variation',\n 'exercise',\n 'heart_rate',\n 'journal_entries',\n 'lightly_active_minutes',\n 'mindfulness_eda_data_sessions',\n 'mindfulness_goals',\n 'mindfulness_sessions',\n 'moderately_active_minutes',\n 'resting_heart_rate',\n 'sedentary_minutes',\n 'sleep',\n 'steps',\n 'time_in_heart_rate_zones',\n 'very_active_minutes',\n 'water_logs']"
     },
     "execution_count": 24,
     "metadata": {},
     "output_type": "execute_result"
    }
   ],
   "source": [
    "types = db.fitbit.distinct('type')\n",
    "types"
   ],
   "metadata": {
    "collapsed": false,
    "pycharm": {
     "name": "#%%\n"
    }
   }
  },
  {
   "cell_type": "markdown",
   "source": [
    "##### Afib ECG Readings"
   ],
   "metadata": {
    "collapsed": false,
    "pycharm": {
     "name": "#%% md\n"
    }
   }
  },
  {
   "cell_type": "code",
   "execution_count": 25,
   "outputs": [
    {
     "data": {
      "text/plain": "                          id       date  hour             ecg heart_rate_alert\n0   621e2ff067b776a2403eb737 2021-12-22    19             NSR             NONE\n1   621e301367b776a24057738e 2021-06-08    21             NSR             NONE\n2   621e312a67b776a240164d59 2021-10-07    17             NSR             NONE\n3   621e312a67b776a240164d59 2021-10-10    20             NSR             NONE\n4   621e326767b776a24012e179 2021-07-22    17  UNCLASSIFIABLE             NONE\n..                       ...        ...   ...             ...              ...\n65  621e351a67b776a240f6204b 2021-07-22     9             NSR             NONE\n66  621e351a67b776a240f6204b 2021-08-04     1             NSR             NONE\n67  621e351a67b776a240f6204b 2021-08-10    10             NSR             NONE\n68  621e36dd67b776a240ce9a45 2021-05-24    13             NSR             NONE\n69  621e36dd67b776a240ce9a45 2021-08-19    15             NSR             NONE\n\n[70 rows x 5 columns]",
      "text/html": "<div>\n<style scoped>\n    .dataframe tbody tr th:only-of-type {\n        vertical-align: middle;\n    }\n\n    .dataframe tbody tr th {\n        vertical-align: top;\n    }\n\n    .dataframe thead th {\n        text-align: right;\n    }\n</style>\n<table border=\"1\" class=\"dataframe\">\n  <thead>\n    <tr style=\"text-align: right;\">\n      <th></th>\n      <th>id</th>\n      <th>date</th>\n      <th>hour</th>\n      <th>ecg</th>\n      <th>heart_rate_alert</th>\n    </tr>\n  </thead>\n  <tbody>\n    <tr>\n      <th>0</th>\n      <td>621e2ff067b776a2403eb737</td>\n      <td>2021-12-22</td>\n      <td>19</td>\n      <td>NSR</td>\n      <td>NONE</td>\n    </tr>\n    <tr>\n      <th>1</th>\n      <td>621e301367b776a24057738e</td>\n      <td>2021-06-08</td>\n      <td>21</td>\n      <td>NSR</td>\n      <td>NONE</td>\n    </tr>\n    <tr>\n      <th>2</th>\n      <td>621e312a67b776a240164d59</td>\n      <td>2021-10-07</td>\n      <td>17</td>\n      <td>NSR</td>\n      <td>NONE</td>\n    </tr>\n    <tr>\n      <th>3</th>\n      <td>621e312a67b776a240164d59</td>\n      <td>2021-10-10</td>\n      <td>20</td>\n      <td>NSR</td>\n      <td>NONE</td>\n    </tr>\n    <tr>\n      <th>4</th>\n      <td>621e326767b776a24012e179</td>\n      <td>2021-07-22</td>\n      <td>17</td>\n      <td>UNCLASSIFIABLE</td>\n      <td>NONE</td>\n    </tr>\n    <tr>\n      <th>...</th>\n      <td>...</td>\n      <td>...</td>\n      <td>...</td>\n      <td>...</td>\n      <td>...</td>\n    </tr>\n    <tr>\n      <th>65</th>\n      <td>621e351a67b776a240f6204b</td>\n      <td>2021-07-22</td>\n      <td>9</td>\n      <td>NSR</td>\n      <td>NONE</td>\n    </tr>\n    <tr>\n      <th>66</th>\n      <td>621e351a67b776a240f6204b</td>\n      <td>2021-08-04</td>\n      <td>1</td>\n      <td>NSR</td>\n      <td>NONE</td>\n    </tr>\n    <tr>\n      <th>67</th>\n      <td>621e351a67b776a240f6204b</td>\n      <td>2021-08-10</td>\n      <td>10</td>\n      <td>NSR</td>\n      <td>NONE</td>\n    </tr>\n    <tr>\n      <th>68</th>\n      <td>621e36dd67b776a240ce9a45</td>\n      <td>2021-05-24</td>\n      <td>13</td>\n      <td>NSR</td>\n      <td>NONE</td>\n    </tr>\n    <tr>\n      <th>69</th>\n      <td>621e36dd67b776a240ce9a45</td>\n      <td>2021-08-19</td>\n      <td>15</td>\n      <td>NSR</td>\n      <td>NONE</td>\n    </tr>\n  </tbody>\n</table>\n<p>70 rows × 5 columns</p>\n</div>"
     },
     "execution_count": 25,
     "metadata": {},
     "output_type": "execute_result"
    }
   ],
   "source": [
    "ecg = pd.DataFrame(columns=[\"id\", \"data\"])\n",
    "\n",
    "# read and load from MongoDB\n",
    "for user in users:\n",
    "    user_data = pd.DataFrame(list(\n",
    "        db.fitbit.find({\"$and\": [\n",
    "            {\"type\": \"Afib ECG Readings\"},\n",
    "            {\"id\": user}]},\n",
    "            {\"id\": 1, \"data.reading_time\": 1, \"data.result_classification\": 1, \"data.heart_rate_alert\": 1, \"_id\": 0})))\n",
    "    ecg = pd.concat([ecg, user_data], axis=0)\n",
    "\n",
    "# split data column (json format) into two columns (df format)\n",
    "ecg[\"date\"] = ecg[\"data\"].apply(lambda d: d[\"reading_time\"])\n",
    "ecg[\"ecg\"] = ecg[\"data\"].apply(lambda d: d[\"result_classification\"])\n",
    "ecg[\"heart_rate_alert\"] = ecg[\"data\"].apply(lambda d: d[\"heart_rate_alert\"])\n",
    "ecg.drop([\"data\"], inplace=True, axis=1)\n",
    "\n",
    "# process the datetime object, group and aggregate the data\n",
    "ecg = data_loading.date_conversion(ecg)\n",
    "ecg = data_loading.aggregate_column(ecg, list(ecg.columns))\n",
    "\n",
    "# merge with the final dataframe\n",
    "df = ecg\n",
    "df"
   ],
   "metadata": {
    "collapsed": false,
    "pycharm": {
     "name": "#%%\n"
    }
   }
  },
  {
   "cell_type": "markdown",
   "source": [
    "##### Computed Temperature"
   ],
   "metadata": {
    "collapsed": false,
    "pycharm": {
     "name": "#%% md\n"
    }
   }
  },
  {
   "cell_type": "code",
   "execution_count": 26,
   "outputs": [
    {
     "data": {
      "text/plain": "                            id       date  hour             ecg  \\\n0     621e2ff067b776a2403eb737 2021-12-22    19             NSR   \n1     621e301367b776a24057738e 2021-06-08    21             NSR   \n2     621e312a67b776a240164d59 2021-10-07    17             NSR   \n3     621e312a67b776a240164d59 2021-10-10    20             NSR   \n4     621e326767b776a24012e179 2021-07-22    17  UNCLASSIFIABLE   \n...                        ...        ...   ...             ...   \n3487  621e375b67b776a240290cdc 2021-07-24     0             NaN   \n3488  621e375b67b776a240290cdc 2021-07-25     1             NaN   \n3489  621e375b67b776a240290cdc 2021-07-26     0             NaN   \n3490  621e375b67b776a240290cdc 2021-07-27     0             NaN   \n3491  621e375b67b776a240290cdc 2021-07-29     0             NaN   \n\n     heart_rate_alert  type  nightly_temperature  \n0                NONE   NaN                  NaN  \n1                NONE   NaN                  NaN  \n2                NONE   NaN                  NaN  \n3                NONE   NaN                  NaN  \n4                NONE   NaN                  NaN  \n...               ...   ...                  ...  \n3487              NaN  SKIN            33.687826  \n3488              NaN  SKIN            34.112386  \n3489              NaN  SKIN            33.895137  \n3490              NaN  SKIN            33.758319  \n3491              NaN  SKIN            34.571786  \n\n[3492 rows x 7 columns]",
      "text/html": "<div>\n<style scoped>\n    .dataframe tbody tr th:only-of-type {\n        vertical-align: middle;\n    }\n\n    .dataframe tbody tr th {\n        vertical-align: top;\n    }\n\n    .dataframe thead th {\n        text-align: right;\n    }\n</style>\n<table border=\"1\" class=\"dataframe\">\n  <thead>\n    <tr style=\"text-align: right;\">\n      <th></th>\n      <th>id</th>\n      <th>date</th>\n      <th>hour</th>\n      <th>ecg</th>\n      <th>heart_rate_alert</th>\n      <th>type</th>\n      <th>nightly_temperature</th>\n    </tr>\n  </thead>\n  <tbody>\n    <tr>\n      <th>0</th>\n      <td>621e2ff067b776a2403eb737</td>\n      <td>2021-12-22</td>\n      <td>19</td>\n      <td>NSR</td>\n      <td>NONE</td>\n      <td>NaN</td>\n      <td>NaN</td>\n    </tr>\n    <tr>\n      <th>1</th>\n      <td>621e301367b776a24057738e</td>\n      <td>2021-06-08</td>\n      <td>21</td>\n      <td>NSR</td>\n      <td>NONE</td>\n      <td>NaN</td>\n      <td>NaN</td>\n    </tr>\n    <tr>\n      <th>2</th>\n      <td>621e312a67b776a240164d59</td>\n      <td>2021-10-07</td>\n      <td>17</td>\n      <td>NSR</td>\n      <td>NONE</td>\n      <td>NaN</td>\n      <td>NaN</td>\n    </tr>\n    <tr>\n      <th>3</th>\n      <td>621e312a67b776a240164d59</td>\n      <td>2021-10-10</td>\n      <td>20</td>\n      <td>NSR</td>\n      <td>NONE</td>\n      <td>NaN</td>\n      <td>NaN</td>\n    </tr>\n    <tr>\n      <th>4</th>\n      <td>621e326767b776a24012e179</td>\n      <td>2021-07-22</td>\n      <td>17</td>\n      <td>UNCLASSIFIABLE</td>\n      <td>NONE</td>\n      <td>NaN</td>\n      <td>NaN</td>\n    </tr>\n    <tr>\n      <th>...</th>\n      <td>...</td>\n      <td>...</td>\n      <td>...</td>\n      <td>...</td>\n      <td>...</td>\n      <td>...</td>\n      <td>...</td>\n    </tr>\n    <tr>\n      <th>3487</th>\n      <td>621e375b67b776a240290cdc</td>\n      <td>2021-07-24</td>\n      <td>0</td>\n      <td>NaN</td>\n      <td>NaN</td>\n      <td>SKIN</td>\n      <td>33.687826</td>\n    </tr>\n    <tr>\n      <th>3488</th>\n      <td>621e375b67b776a240290cdc</td>\n      <td>2021-07-25</td>\n      <td>1</td>\n      <td>NaN</td>\n      <td>NaN</td>\n      <td>SKIN</td>\n      <td>34.112386</td>\n    </tr>\n    <tr>\n      <th>3489</th>\n      <td>621e375b67b776a240290cdc</td>\n      <td>2021-07-26</td>\n      <td>0</td>\n      <td>NaN</td>\n      <td>NaN</td>\n      <td>SKIN</td>\n      <td>33.895137</td>\n    </tr>\n    <tr>\n      <th>3490</th>\n      <td>621e375b67b776a240290cdc</td>\n      <td>2021-07-27</td>\n      <td>0</td>\n      <td>NaN</td>\n      <td>NaN</td>\n      <td>SKIN</td>\n      <td>33.758319</td>\n    </tr>\n    <tr>\n      <th>3491</th>\n      <td>621e375b67b776a240290cdc</td>\n      <td>2021-07-29</td>\n      <td>0</td>\n      <td>NaN</td>\n      <td>NaN</td>\n      <td>SKIN</td>\n      <td>34.571786</td>\n    </tr>\n  </tbody>\n</table>\n<p>3492 rows × 7 columns</p>\n</div>"
     },
     "execution_count": 26,
     "metadata": {},
     "output_type": "execute_result"
    }
   ],
   "source": [
    "nightly_temperature = pd.DataFrame(columns=[\"id\", \"data\"])\n",
    "\n",
    "# read and load from MongoDB\n",
    "for user in users:\n",
    "    user_data = pd.DataFrame(list(\n",
    "        db.fitbit.find({\"$and\": [\n",
    "            {\"type\": \"Computed Temperature\"},\n",
    "            {\"id\": user}]},\n",
    "            {\"id\": 1, \"data.sleep_start\": 1, \"data.type\": 1, \"data.nightly_temperature\": 1, \"_id\": 0})))\n",
    "    nightly_temperature = pd.concat([nightly_temperature, user_data], axis=0)\n",
    "\n",
    "# split data column (json format) into two columns (df format)\n",
    "nightly_temperature[\"date\"] = nightly_temperature[\"data\"].apply(lambda d: d[\"sleep_start\"])\n",
    "nightly_temperature[\"type\"] = nightly_temperature[\"data\"].apply(lambda d: d[\"type\"])\n",
    "nightly_temperature[\"nightly_temperature\"] = nightly_temperature[\"data\"].apply(lambda d: d[\"nightly_temperature\"])\n",
    "nightly_temperature.drop([\"data\"], inplace=True, axis=1)\n",
    "\n",
    "# process the datetime object, feature types and group and aggregate the data\n",
    "nightly_temperature = data_loading.date_conversion(nightly_temperature)\n",
    "nightly_temperature['nightly_temperature'] = pd.to_numeric(nightly_temperature['nightly_temperature'])\n",
    "nightly_temperature = data_loading.aggregate_column(nightly_temperature, list(nightly_temperature.columns))\n",
    "\n",
    "# merge with the final dataframe\n",
    "df = df.merge(nightly_temperature, how='outer', on=['id', 'date', 'hour'])\n",
    "df"
   ],
   "metadata": {
    "collapsed": false,
    "pycharm": {
     "name": "#%%\n"
    }
   }
  },
  {
   "cell_type": "code",
   "execution_count": 26,
   "outputs": [],
   "source": [],
   "metadata": {
    "collapsed": false,
    "pycharm": {
     "name": "#%%\n"
    }
   }
  }
 ],
 "metadata": {
  "kernelspec": {
   "display_name": "Python 3",
   "language": "python",
   "name": "python3"
  },
  "language_info": {
   "codemirror_mode": {
    "name": "ipython",
    "version": 2
   },
   "file_extension": ".py",
   "mimetype": "text/x-python",
   "name": "python",
   "nbconvert_exporter": "python",
   "pygments_lexer": "ipython2",
   "version": "2.7.6"
  }
 },
 "nbformat": 4,
 "nbformat_minor": 0
}