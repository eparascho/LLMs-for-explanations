{
 "cells": [
  {
   "cell_type": "markdown",
   "source": [
    "##### This notebook collects all the data from MongoDB and creates the corresponding dataframe."
   ],
   "metadata": {
    "collapsed": false,
    "pycharm": {
     "name": "#%% md\n"
    }
   }
  },
  {
   "cell_type": "code",
   "execution_count": 1,
   "outputs": [],
   "source": [
    "import os\n",
    "import warnings\n",
    "import datetime\n",
    "import numpy as np\n",
    "import pandas as pd\n",
    "from dotenv import load_dotenv\n",
    "from pymongo import MongoClient\n",
    "from functions import data_loading\n",
    "\n",
    "warnings.filterwarnings(\"ignore\")"
   ],
   "metadata": {
    "collapsed": false,
    "pycharm": {
     "name": "#%%\n"
    }
   }
  },
  {
   "cell_type": "markdown",
   "source": [
    "Connect securely to the database"
   ],
   "metadata": {
    "collapsed": false,
    "pycharm": {
     "name": "#%% md\n"
    }
   }
  },
  {
   "cell_type": "code",
   "execution_count": 2,
   "outputs": [],
   "source": [
    "load_dotenv(\"config.env\")\n",
    "MONGO_USER = os.getenv(\"MONGO_USER\")\n",
    "MONGO_PASSWORD = os.getenv(\"MONGO_PASSWORD\")\n",
    "client = MongoClient(\"mongodb://\" + MONGO_USER + \":\" + MONGO_PASSWORD + \"@localhost:27017/\")\n",
    "db = client.rais"
   ],
   "metadata": {
    "collapsed": false,
    "pycharm": {
     "name": "#%%\n"
    }
   }
  },
  {
   "cell_type": "markdown",
   "source": [
    "#### Fitbit data"
   ],
   "metadata": {
    "collapsed": false,
    "pycharm": {
     "name": "#%% md\n"
    }
   }
  },
  {
   "cell_type": "markdown",
   "source": [
    "Find all users provided their Fitbit data"
   ],
   "metadata": {
    "collapsed": false,
    "pycharm": {
     "name": "#%% md\n"
    }
   }
  },
  {
   "cell_type": "code",
   "execution_count": 3,
   "outputs": [
    {
     "name": "stdout",
     "output_type": "stream",
     "text": [
      "71 users provided their Fitbit data\n"
     ]
    }
   ],
   "source": [
    "users = db.fitbit.distinct('id')\n",
    "print(len(users), \"users provided their Fitbit data\")"
   ],
   "metadata": {
    "collapsed": false,
    "pycharm": {
     "name": "#%%\n"
    }
   }
  },
  {
   "cell_type": "markdown",
   "source": [
    "Find all the data types"
   ],
   "metadata": {
    "collapsed": false,
    "pycharm": {
     "name": "#%% md\n"
    }
   }
  },
  {
   "cell_type": "code",
   "execution_count": 4,
   "outputs": [
    {
     "data": {
      "text/plain": "['Afib ECG Readings',\n 'Computed Temperature',\n 'Daily Heart Rate Variability Summary',\n 'Daily SpO2',\n 'Device Temperature',\n 'Heart Rate Variability Details',\n 'Heart Rate Variability Histogram',\n 'Profile',\n 'Respiratory Rate Summary',\n 'Stress Score',\n 'Wrist Temperature',\n 'altitude',\n 'badge',\n 'calories',\n 'demographic_vo2_max',\n 'distance',\n 'estimated_oxygen_variation',\n 'exercise',\n 'heart_rate',\n 'journal_entries',\n 'lightly_active_minutes',\n 'mindfulness_eda_data_sessions',\n 'mindfulness_goals',\n 'mindfulness_sessions',\n 'moderately_active_minutes',\n 'resting_heart_rate',\n 'sedentary_minutes',\n 'sleep',\n 'steps',\n 'time_in_heart_rate_zones',\n 'very_active_minutes',\n 'water_logs']"
     },
     "execution_count": 4,
     "metadata": {},
     "output_type": "execute_result"
    }
   ],
   "source": [
    "types = db.fitbit.distinct('type')\n",
    "types"
   ],
   "metadata": {
    "collapsed": false,
    "pycharm": {
     "name": "#%%\n"
    }
   }
  },
  {
   "cell_type": "markdown",
   "source": [
    "##### Afib ECG Readings"
   ],
   "metadata": {
    "collapsed": false,
    "pycharm": {
     "name": "#%% md\n"
    }
   }
  },
  {
   "cell_type": "code",
   "execution_count": 5,
   "outputs": [
    {
     "data": {
      "text/plain": "                          id       date  hour             ecg heart_rate_alert\n0   621e2ff067b776a2403eb737 2021-12-22    19             NSR             NONE\n1   621e301367b776a24057738e 2021-06-08    21             NSR             NONE\n2   621e312a67b776a240164d59 2021-10-07    17             NSR             NONE\n3   621e312a67b776a240164d59 2021-10-10    20             NSR             NONE\n4   621e326767b776a24012e179 2021-07-22    17  UNCLASSIFIABLE             NONE\n..                       ...        ...   ...             ...              ...\n65  621e351a67b776a240f6204b 2021-07-22     9             NSR             NONE\n66  621e351a67b776a240f6204b 2021-08-04     1             NSR             NONE\n67  621e351a67b776a240f6204b 2021-08-10    10             NSR             NONE\n68  621e36dd67b776a240ce9a45 2021-05-24    13             NSR             NONE\n69  621e36dd67b776a240ce9a45 2021-08-19    15             NSR             NONE\n\n[70 rows x 5 columns]",
      "text/html": "<div>\n<style scoped>\n    .dataframe tbody tr th:only-of-type {\n        vertical-align: middle;\n    }\n\n    .dataframe tbody tr th {\n        vertical-align: top;\n    }\n\n    .dataframe thead th {\n        text-align: right;\n    }\n</style>\n<table border=\"1\" class=\"dataframe\">\n  <thead>\n    <tr style=\"text-align: right;\">\n      <th></th>\n      <th>id</th>\n      <th>date</th>\n      <th>hour</th>\n      <th>ecg</th>\n      <th>heart_rate_alert</th>\n    </tr>\n  </thead>\n  <tbody>\n    <tr>\n      <th>0</th>\n      <td>621e2ff067b776a2403eb737</td>\n      <td>2021-12-22</td>\n      <td>19</td>\n      <td>NSR</td>\n      <td>NONE</td>\n    </tr>\n    <tr>\n      <th>1</th>\n      <td>621e301367b776a24057738e</td>\n      <td>2021-06-08</td>\n      <td>21</td>\n      <td>NSR</td>\n      <td>NONE</td>\n    </tr>\n    <tr>\n      <th>2</th>\n      <td>621e312a67b776a240164d59</td>\n      <td>2021-10-07</td>\n      <td>17</td>\n      <td>NSR</td>\n      <td>NONE</td>\n    </tr>\n    <tr>\n      <th>3</th>\n      <td>621e312a67b776a240164d59</td>\n      <td>2021-10-10</td>\n      <td>20</td>\n      <td>NSR</td>\n      <td>NONE</td>\n    </tr>\n    <tr>\n      <th>4</th>\n      <td>621e326767b776a24012e179</td>\n      <td>2021-07-22</td>\n      <td>17</td>\n      <td>UNCLASSIFIABLE</td>\n      <td>NONE</td>\n    </tr>\n    <tr>\n      <th>...</th>\n      <td>...</td>\n      <td>...</td>\n      <td>...</td>\n      <td>...</td>\n      <td>...</td>\n    </tr>\n    <tr>\n      <th>65</th>\n      <td>621e351a67b776a240f6204b</td>\n      <td>2021-07-22</td>\n      <td>9</td>\n      <td>NSR</td>\n      <td>NONE</td>\n    </tr>\n    <tr>\n      <th>66</th>\n      <td>621e351a67b776a240f6204b</td>\n      <td>2021-08-04</td>\n      <td>1</td>\n      <td>NSR</td>\n      <td>NONE</td>\n    </tr>\n    <tr>\n      <th>67</th>\n      <td>621e351a67b776a240f6204b</td>\n      <td>2021-08-10</td>\n      <td>10</td>\n      <td>NSR</td>\n      <td>NONE</td>\n    </tr>\n    <tr>\n      <th>68</th>\n      <td>621e36dd67b776a240ce9a45</td>\n      <td>2021-05-24</td>\n      <td>13</td>\n      <td>NSR</td>\n      <td>NONE</td>\n    </tr>\n    <tr>\n      <th>69</th>\n      <td>621e36dd67b776a240ce9a45</td>\n      <td>2021-08-19</td>\n      <td>15</td>\n      <td>NSR</td>\n      <td>NONE</td>\n    </tr>\n  </tbody>\n</table>\n<p>70 rows × 5 columns</p>\n</div>"
     },
     "execution_count": 5,
     "metadata": {},
     "output_type": "execute_result"
    }
   ],
   "source": [
    "ecg = pd.DataFrame(columns=[\"id\", \"data\"])\n",
    "\n",
    "# read and load from MongoDB\n",
    "for user in users:\n",
    "    user_data = pd.DataFrame(list(\n",
    "        db.fitbit.find({\"$and\": [\n",
    "            {\"type\": \"Afib ECG Readings\"},\n",
    "            {\"id\": user}]},\n",
    "            {\"id\": 1, \"data.reading_time\": 1, \"data.result_classification\": 1, \"data.heart_rate_alert\": 1, \"_id\": 0})))\n",
    "    ecg = pd.concat([ecg, user_data], axis=0)\n",
    "\n",
    "# split data column (json format) into two columns (df format)\n",
    "ecg[\"date\"] = ecg[\"data\"].apply(lambda d: d[\"reading_time\"])\n",
    "ecg[\"ecg\"] = ecg[\"data\"].apply(lambda d: d[\"result_classification\"])\n",
    "ecg[\"heart_rate_alert\"] = ecg[\"data\"].apply(lambda d: d[\"heart_rate_alert\"])\n",
    "ecg.drop([\"data\"], inplace=True, axis=1)\n",
    "\n",
    "# process the datetime object, group and aggregate the data\n",
    "ecg = data_loading.date_conversion(ecg)\n",
    "ecg = data_loading.aggregate_column(ecg, list(ecg.columns))\n",
    "\n",
    "# merge with the final dataframe\n",
    "df = ecg\n",
    "df"
   ],
   "metadata": {
    "collapsed": false,
    "pycharm": {
     "name": "#%%\n"
    }
   }
  },
  {
   "cell_type": "markdown",
   "source": [
    "##### Computed Temperature"
   ],
   "metadata": {
    "collapsed": false,
    "pycharm": {
     "name": "#%% md\n"
    }
   }
  },
  {
   "cell_type": "code",
   "execution_count": 8,
   "outputs": [
    {
     "data": {
      "text/plain": "                            id       date  hour             ecg  \\\n0     621e2ff067b776a2403eb737 2021-12-22    19             NSR   \n1     621e301367b776a24057738e 2021-06-08    21             NSR   \n2     621e312a67b776a240164d59 2021-10-07    17             NSR   \n3     621e312a67b776a240164d59 2021-10-10    20             NSR   \n4     621e326767b776a24012e179 2021-07-22    17  UNCLASSIFIABLE   \n...                        ...        ...   ...             ...   \n3487  621e375b67b776a240290cdc 2021-07-24     0             NaN   \n3488  621e375b67b776a240290cdc 2021-07-25     1             NaN   \n3489  621e375b67b776a240290cdc 2021-07-26     0             NaN   \n3490  621e375b67b776a240290cdc 2021-07-27     0             NaN   \n3491  621e375b67b776a240290cdc 2021-07-29     0             NaN   \n\n     heart_rate_alert  type  nightly_temperature  \n0                NONE   NaN                  NaN  \n1                NONE   NaN                  NaN  \n2                NONE   NaN                  NaN  \n3                NONE   NaN                  NaN  \n4                NONE   NaN                  NaN  \n...               ...   ...                  ...  \n3487              NaN  SKIN            33.687826  \n3488              NaN  SKIN            34.112386  \n3489              NaN  SKIN            33.895137  \n3490              NaN  SKIN            33.758319  \n3491              NaN  SKIN            34.571786  \n\n[3492 rows x 7 columns]",
      "text/html": "<div>\n<style scoped>\n    .dataframe tbody tr th:only-of-type {\n        vertical-align: middle;\n    }\n\n    .dataframe tbody tr th {\n        vertical-align: top;\n    }\n\n    .dataframe thead th {\n        text-align: right;\n    }\n</style>\n<table border=\"1\" class=\"dataframe\">\n  <thead>\n    <tr style=\"text-align: right;\">\n      <th></th>\n      <th>id</th>\n      <th>date</th>\n      <th>hour</th>\n      <th>ecg</th>\n      <th>heart_rate_alert</th>\n      <th>type</th>\n      <th>nightly_temperature</th>\n    </tr>\n  </thead>\n  <tbody>\n    <tr>\n      <th>0</th>\n      <td>621e2ff067b776a2403eb737</td>\n      <td>2021-12-22</td>\n      <td>19</td>\n      <td>NSR</td>\n      <td>NONE</td>\n      <td>NaN</td>\n      <td>NaN</td>\n    </tr>\n    <tr>\n      <th>1</th>\n      <td>621e301367b776a24057738e</td>\n      <td>2021-06-08</td>\n      <td>21</td>\n      <td>NSR</td>\n      <td>NONE</td>\n      <td>NaN</td>\n      <td>NaN</td>\n    </tr>\n    <tr>\n      <th>2</th>\n      <td>621e312a67b776a240164d59</td>\n      <td>2021-10-07</td>\n      <td>17</td>\n      <td>NSR</td>\n      <td>NONE</td>\n      <td>NaN</td>\n      <td>NaN</td>\n    </tr>\n    <tr>\n      <th>3</th>\n      <td>621e312a67b776a240164d59</td>\n      <td>2021-10-10</td>\n      <td>20</td>\n      <td>NSR</td>\n      <td>NONE</td>\n      <td>NaN</td>\n      <td>NaN</td>\n    </tr>\n    <tr>\n      <th>4</th>\n      <td>621e326767b776a24012e179</td>\n      <td>2021-07-22</td>\n      <td>17</td>\n      <td>UNCLASSIFIABLE</td>\n      <td>NONE</td>\n      <td>NaN</td>\n      <td>NaN</td>\n    </tr>\n    <tr>\n      <th>...</th>\n      <td>...</td>\n      <td>...</td>\n      <td>...</td>\n      <td>...</td>\n      <td>...</td>\n      <td>...</td>\n      <td>...</td>\n    </tr>\n    <tr>\n      <th>3487</th>\n      <td>621e375b67b776a240290cdc</td>\n      <td>2021-07-24</td>\n      <td>0</td>\n      <td>NaN</td>\n      <td>NaN</td>\n      <td>SKIN</td>\n      <td>33.687826</td>\n    </tr>\n    <tr>\n      <th>3488</th>\n      <td>621e375b67b776a240290cdc</td>\n      <td>2021-07-25</td>\n      <td>1</td>\n      <td>NaN</td>\n      <td>NaN</td>\n      <td>SKIN</td>\n      <td>34.112386</td>\n    </tr>\n    <tr>\n      <th>3489</th>\n      <td>621e375b67b776a240290cdc</td>\n      <td>2021-07-26</td>\n      <td>0</td>\n      <td>NaN</td>\n      <td>NaN</td>\n      <td>SKIN</td>\n      <td>33.895137</td>\n    </tr>\n    <tr>\n      <th>3490</th>\n      <td>621e375b67b776a240290cdc</td>\n      <td>2021-07-27</td>\n      <td>0</td>\n      <td>NaN</td>\n      <td>NaN</td>\n      <td>SKIN</td>\n      <td>33.758319</td>\n    </tr>\n    <tr>\n      <th>3491</th>\n      <td>621e375b67b776a240290cdc</td>\n      <td>2021-07-29</td>\n      <td>0</td>\n      <td>NaN</td>\n      <td>NaN</td>\n      <td>SKIN</td>\n      <td>34.571786</td>\n    </tr>\n  </tbody>\n</table>\n<p>3492 rows × 7 columns</p>\n</div>"
     },
     "execution_count": 8,
     "metadata": {},
     "output_type": "execute_result"
    }
   ],
   "source": [
    "nightly_temperature = pd.DataFrame(columns=[\"id\", \"data\"])\n",
    "\n",
    "# read and load from MongoDB\n",
    "for user in users:\n",
    "    user_data = pd.DataFrame(list(\n",
    "        db.fitbit.find({\"$and\": [\n",
    "            {\"type\": \"Computed Temperature\"},\n",
    "            {\"id\": user}]},\n",
    "            {\"id\": 1, \"data.sleep_start\": 1, \"data.type\": 1, \"data.nightly_temperature\": 1, \"_id\": 0})))\n",
    "    nightly_temperature = pd.concat([nightly_temperature, user_data], axis=0)\n",
    "\n",
    "# split data column (json format) into two columns (df format)\n",
    "nightly_temperature[\"date\"] = nightly_temperature[\"data\"].apply(lambda d: d[\"sleep_start\"])\n",
    "nightly_temperature[\"type\"] = nightly_temperature[\"data\"].apply(lambda d: d[\"type\"])\n",
    "nightly_temperature[\"nightly_temperature\"] = nightly_temperature[\"data\"].apply(lambda d: d[\"nightly_temperature\"])\n",
    "nightly_temperature.drop([\"data\"], inplace=True, axis=1)\n",
    "\n",
    "# process the datetime object, feature types and group and aggregate the data\n",
    "nightly_temperature = data_loading.date_conversion(nightly_temperature)\n",
    "nightly_temperature['nightly_temperature'] = pd.to_numeric(nightly_temperature['nightly_temperature'])\n",
    "nightly_temperature = data_loading.aggregate_column(nightly_temperature, list(nightly_temperature.columns))\n",
    "\n",
    "# merge with the final dataframe\n",
    "df = df.merge(nightly_temperature, how='outer', on=['id', 'date', 'hour'])\n",
    "df"
   ],
   "metadata": {
    "collapsed": false,
    "pycharm": {
     "name": "#%%\n"
    }
   }
  },
  {
   "cell_type": "markdown",
   "source": [
    "##### Daily Heart Rate Variability Summary"
   ],
   "metadata": {
    "collapsed": false,
    "pycharm": {
     "name": "#%% md\n"
    }
   }
  },
  {
   "cell_type": "code",
   "execution_count": 10,
   "outputs": [
    {
     "data": {
      "text/plain": "                            id       date  hour             ecg  \\\n0     621e2ff067b776a2403eb737 2021-12-22    19             NSR   \n1     621e301367b776a24057738e 2021-06-08    21             NSR   \n2     621e312a67b776a240164d59 2021-10-07    17             NSR   \n3     621e312a67b776a240164d59 2021-10-10    20             NSR   \n4     621e326767b776a24012e179 2021-07-22    17  UNCLASSIFIABLE   \n...                        ...        ...   ...             ...   \n5424  621e375b67b776a240290cdc 2021-07-10     0             NaN   \n5425  621e375b67b776a240290cdc 2021-07-13     0             NaN   \n5426  621e375b67b776a240290cdc 2021-07-19     0             NaN   \n5427  621e375b67b776a240290cdc 2021-07-20     0             NaN   \n5428  621e375b67b776a240290cdc 2021-07-25     0             NaN   \n\n     heart_rate_alert type  nightly_temperature  nremhr  \n0                NONE  NaN                  NaN     NaN  \n1                NONE  NaN                  NaN     NaN  \n2                NONE  NaN                  NaN     NaN  \n3                NONE  NaN                  NaN     NaN  \n4                NONE  NaN                  NaN     NaN  \n...               ...  ...                  ...     ...  \n5424              NaN  NaN                  NaN  66.633  \n5425              NaN  NaN                  NaN  70.155  \n5426              NaN  NaN                  NaN  57.362  \n5427              NaN  NaN                  NaN  61.824  \n5428              NaN  NaN                  NaN  65.899  \n\n[5429 rows x 8 columns]",
      "text/html": "<div>\n<style scoped>\n    .dataframe tbody tr th:only-of-type {\n        vertical-align: middle;\n    }\n\n    .dataframe tbody tr th {\n        vertical-align: top;\n    }\n\n    .dataframe thead th {\n        text-align: right;\n    }\n</style>\n<table border=\"1\" class=\"dataframe\">\n  <thead>\n    <tr style=\"text-align: right;\">\n      <th></th>\n      <th>id</th>\n      <th>date</th>\n      <th>hour</th>\n      <th>ecg</th>\n      <th>heart_rate_alert</th>\n      <th>type</th>\n      <th>nightly_temperature</th>\n      <th>nremhr</th>\n    </tr>\n  </thead>\n  <tbody>\n    <tr>\n      <th>0</th>\n      <td>621e2ff067b776a2403eb737</td>\n      <td>2021-12-22</td>\n      <td>19</td>\n      <td>NSR</td>\n      <td>NONE</td>\n      <td>NaN</td>\n      <td>NaN</td>\n      <td>NaN</td>\n    </tr>\n    <tr>\n      <th>1</th>\n      <td>621e301367b776a24057738e</td>\n      <td>2021-06-08</td>\n      <td>21</td>\n      <td>NSR</td>\n      <td>NONE</td>\n      <td>NaN</td>\n      <td>NaN</td>\n      <td>NaN</td>\n    </tr>\n    <tr>\n      <th>2</th>\n      <td>621e312a67b776a240164d59</td>\n      <td>2021-10-07</td>\n      <td>17</td>\n      <td>NSR</td>\n      <td>NONE</td>\n      <td>NaN</td>\n      <td>NaN</td>\n      <td>NaN</td>\n    </tr>\n    <tr>\n      <th>3</th>\n      <td>621e312a67b776a240164d59</td>\n      <td>2021-10-10</td>\n      <td>20</td>\n      <td>NSR</td>\n      <td>NONE</td>\n      <td>NaN</td>\n      <td>NaN</td>\n      <td>NaN</td>\n    </tr>\n    <tr>\n      <th>4</th>\n      <td>621e326767b776a24012e179</td>\n      <td>2021-07-22</td>\n      <td>17</td>\n      <td>UNCLASSIFIABLE</td>\n      <td>NONE</td>\n      <td>NaN</td>\n      <td>NaN</td>\n      <td>NaN</td>\n    </tr>\n    <tr>\n      <th>...</th>\n      <td>...</td>\n      <td>...</td>\n      <td>...</td>\n      <td>...</td>\n      <td>...</td>\n      <td>...</td>\n      <td>...</td>\n      <td>...</td>\n    </tr>\n    <tr>\n      <th>5424</th>\n      <td>621e375b67b776a240290cdc</td>\n      <td>2021-07-10</td>\n      <td>0</td>\n      <td>NaN</td>\n      <td>NaN</td>\n      <td>NaN</td>\n      <td>NaN</td>\n      <td>66.633</td>\n    </tr>\n    <tr>\n      <th>5425</th>\n      <td>621e375b67b776a240290cdc</td>\n      <td>2021-07-13</td>\n      <td>0</td>\n      <td>NaN</td>\n      <td>NaN</td>\n      <td>NaN</td>\n      <td>NaN</td>\n      <td>70.155</td>\n    </tr>\n    <tr>\n      <th>5426</th>\n      <td>621e375b67b776a240290cdc</td>\n      <td>2021-07-19</td>\n      <td>0</td>\n      <td>NaN</td>\n      <td>NaN</td>\n      <td>NaN</td>\n      <td>NaN</td>\n      <td>57.362</td>\n    </tr>\n    <tr>\n      <th>5427</th>\n      <td>621e375b67b776a240290cdc</td>\n      <td>2021-07-20</td>\n      <td>0</td>\n      <td>NaN</td>\n      <td>NaN</td>\n      <td>NaN</td>\n      <td>NaN</td>\n      <td>61.824</td>\n    </tr>\n    <tr>\n      <th>5428</th>\n      <td>621e375b67b776a240290cdc</td>\n      <td>2021-07-25</td>\n      <td>0</td>\n      <td>NaN</td>\n      <td>NaN</td>\n      <td>NaN</td>\n      <td>NaN</td>\n      <td>65.899</td>\n    </tr>\n  </tbody>\n</table>\n<p>5429 rows × 8 columns</p>\n</div>"
     },
     "execution_count": 10,
     "metadata": {},
     "output_type": "execute_result"
    }
   ],
   "source": [
    "nremhr = pd.DataFrame(columns=[\"id\", \"data\"])\n",
    "\n",
    "# read and load from MongoDB\n",
    "for user in users:\n",
    "    user_data = pd.DataFrame(list(\n",
    "        db.fitbit.find({\"$and\": [\n",
    "            {\"type\": \"Daily Heart Rate Variability Summary\"},\n",
    "            {\"id\": user}]},\n",
    "            {\"id\": 1, \"data.timestamp\": 1, \"data.nremhr\": 1, \"_id\": 0})))\n",
    "    nremhr = pd.concat([nremhr, user_data], axis=0)\n",
    "\n",
    "# split data column (json format) into two columns (df format)\n",
    "nremhr[\"date\"] = nremhr[\"data\"].apply(lambda d: d[\"timestamp\"])\n",
    "nremhr[\"nremhr\"] = nremhr[\"data\"].apply(lambda d: d[\"nremhr\"])\n",
    "nremhr.drop([\"data\"], inplace=True, axis=1)\n",
    "\n",
    "# process the datetime object, feature types and group and aggregate the data\n",
    "nremhr = data_loading.date_conversion(nremhr)\n",
    "nremhr['nremhr'] = pd.to_numeric(nremhr['nremhr'])\n",
    "nremhr = data_loading.aggregate_column(nremhr, list(nremhr.columns))\n",
    "\n",
    "# merge with the final dataframe\n",
    "df = df.merge(nremhr, how='outer', on=['id', 'date', 'hour'])\n",
    "df"
   ],
   "metadata": {
    "collapsed": false,
    "pycharm": {
     "name": "#%%\n"
    }
   }
  },
  {
   "cell_type": "markdown",
   "source": [
    "##### Daily SpO2"
   ],
   "metadata": {
    "collapsed": false,
    "pycharm": {
     "name": "#%% md\n"
    }
   }
  },
  {
   "cell_type": "code",
   "execution_count": 12,
   "outputs": [
    {
     "data": {
      "text/plain": "                            id       date  hour             ecg  \\\n0     621e2ff067b776a2403eb737 2021-12-22    19             NSR   \n1     621e301367b776a24057738e 2021-06-08    21             NSR   \n2     621e312a67b776a240164d59 2021-10-07    17             NSR   \n3     621e312a67b776a240164d59 2021-10-10    20             NSR   \n4     621e326767b776a24012e179 2021-07-22    17  UNCLASSIFIABLE   \n...                        ...        ...   ...             ...   \n5558  621e351a67b776a240f6204b 2021-09-14     0             NaN   \n5559  621e362467b776a2404ad513 2021-07-21     0             NaN   \n5560  621e362467b776a2404ad513 2021-07-22     0             NaN   \n5561  621e362467b776a2404ad513 2021-07-25     0             NaN   \n5562  621e366567b776a24076a727 2022-01-17     0             NaN   \n\n     heart_rate_alert type  nightly_temperature  nremhr  spo2  \n0                NONE  NaN                  NaN     NaN   NaN  \n1                NONE  NaN                  NaN     NaN   NaN  \n2                NONE  NaN                  NaN     NaN   NaN  \n3                NONE  NaN                  NaN     NaN   NaN  \n4                NONE  NaN                  NaN     NaN   NaN  \n...               ...  ...                  ...     ...   ...  \n5558              NaN  NaN                  NaN     NaN  96.9  \n5559              NaN  NaN                  NaN     NaN  95.4  \n5560              NaN  NaN                  NaN     NaN  98.5  \n5561              NaN  NaN                  NaN     NaN  96.9  \n5562              NaN  NaN                  NaN     NaN  97.1  \n\n[5563 rows x 9 columns]",
      "text/html": "<div>\n<style scoped>\n    .dataframe tbody tr th:only-of-type {\n        vertical-align: middle;\n    }\n\n    .dataframe tbody tr th {\n        vertical-align: top;\n    }\n\n    .dataframe thead th {\n        text-align: right;\n    }\n</style>\n<table border=\"1\" class=\"dataframe\">\n  <thead>\n    <tr style=\"text-align: right;\">\n      <th></th>\n      <th>id</th>\n      <th>date</th>\n      <th>hour</th>\n      <th>ecg</th>\n      <th>heart_rate_alert</th>\n      <th>type</th>\n      <th>nightly_temperature</th>\n      <th>nremhr</th>\n      <th>spo2</th>\n    </tr>\n  </thead>\n  <tbody>\n    <tr>\n      <th>0</th>\n      <td>621e2ff067b776a2403eb737</td>\n      <td>2021-12-22</td>\n      <td>19</td>\n      <td>NSR</td>\n      <td>NONE</td>\n      <td>NaN</td>\n      <td>NaN</td>\n      <td>NaN</td>\n      <td>NaN</td>\n    </tr>\n    <tr>\n      <th>1</th>\n      <td>621e301367b776a24057738e</td>\n      <td>2021-06-08</td>\n      <td>21</td>\n      <td>NSR</td>\n      <td>NONE</td>\n      <td>NaN</td>\n      <td>NaN</td>\n      <td>NaN</td>\n      <td>NaN</td>\n    </tr>\n    <tr>\n      <th>2</th>\n      <td>621e312a67b776a240164d59</td>\n      <td>2021-10-07</td>\n      <td>17</td>\n      <td>NSR</td>\n      <td>NONE</td>\n      <td>NaN</td>\n      <td>NaN</td>\n      <td>NaN</td>\n      <td>NaN</td>\n    </tr>\n    <tr>\n      <th>3</th>\n      <td>621e312a67b776a240164d59</td>\n      <td>2021-10-10</td>\n      <td>20</td>\n      <td>NSR</td>\n      <td>NONE</td>\n      <td>NaN</td>\n      <td>NaN</td>\n      <td>NaN</td>\n      <td>NaN</td>\n    </tr>\n    <tr>\n      <th>4</th>\n      <td>621e326767b776a24012e179</td>\n      <td>2021-07-22</td>\n      <td>17</td>\n      <td>UNCLASSIFIABLE</td>\n      <td>NONE</td>\n      <td>NaN</td>\n      <td>NaN</td>\n      <td>NaN</td>\n      <td>NaN</td>\n    </tr>\n    <tr>\n      <th>...</th>\n      <td>...</td>\n      <td>...</td>\n      <td>...</td>\n      <td>...</td>\n      <td>...</td>\n      <td>...</td>\n      <td>...</td>\n      <td>...</td>\n      <td>...</td>\n    </tr>\n    <tr>\n      <th>5558</th>\n      <td>621e351a67b776a240f6204b</td>\n      <td>2021-09-14</td>\n      <td>0</td>\n      <td>NaN</td>\n      <td>NaN</td>\n      <td>NaN</td>\n      <td>NaN</td>\n      <td>NaN</td>\n      <td>96.9</td>\n    </tr>\n    <tr>\n      <th>5559</th>\n      <td>621e362467b776a2404ad513</td>\n      <td>2021-07-21</td>\n      <td>0</td>\n      <td>NaN</td>\n      <td>NaN</td>\n      <td>NaN</td>\n      <td>NaN</td>\n      <td>NaN</td>\n      <td>95.4</td>\n    </tr>\n    <tr>\n      <th>5560</th>\n      <td>621e362467b776a2404ad513</td>\n      <td>2021-07-22</td>\n      <td>0</td>\n      <td>NaN</td>\n      <td>NaN</td>\n      <td>NaN</td>\n      <td>NaN</td>\n      <td>NaN</td>\n      <td>98.5</td>\n    </tr>\n    <tr>\n      <th>5561</th>\n      <td>621e362467b776a2404ad513</td>\n      <td>2021-07-25</td>\n      <td>0</td>\n      <td>NaN</td>\n      <td>NaN</td>\n      <td>NaN</td>\n      <td>NaN</td>\n      <td>NaN</td>\n      <td>96.9</td>\n    </tr>\n    <tr>\n      <th>5562</th>\n      <td>621e366567b776a24076a727</td>\n      <td>2022-01-17</td>\n      <td>0</td>\n      <td>NaN</td>\n      <td>NaN</td>\n      <td>NaN</td>\n      <td>NaN</td>\n      <td>NaN</td>\n      <td>97.1</td>\n    </tr>\n  </tbody>\n</table>\n<p>5563 rows × 9 columns</p>\n</div>"
     },
     "execution_count": 12,
     "metadata": {},
     "output_type": "execute_result"
    }
   ],
   "source": [
    "spo2 = pd.DataFrame(columns=[\"id\", \"data\"])\n",
    "\n",
    "# read and load from MongoDB\n",
    "for user in users:\n",
    "    user_data = pd.DataFrame(list(\n",
    "        db.fitbit.find({\"$and\": [\n",
    "            {\"type\": \"Daily SpO2\"},\n",
    "            {\"id\": user}]},\n",
    "            {\"id\": 1, \"data.timestamp\": 1, \"data.average_value\": 1, \"_id\": 0})))\n",
    "    spo2 = pd.concat([spo2, user_data], axis=0)\n",
    "\n",
    "# split data column (json format) into two columns (df format)\n",
    "spo2[\"date\"] = spo2[\"data\"].apply(lambda d: d[\"timestamp\"])\n",
    "spo2[\"spo2\"] = spo2[\"data\"].apply(lambda d: d[\"average_value\"])\n",
    "spo2.drop([\"data\"], inplace=True, axis=1)\n",
    "\n",
    "# process the datetime object, feature types and group and aggregate the data\n",
    "spo2 = data_loading.date_conversion(spo2)\n",
    "spo2['spo2'] = pd.to_numeric(spo2['spo2'])\n",
    "spo2 = data_loading.aggregate_column(spo2, list(spo2.columns))\n",
    "\n",
    "# merge with the final dataframe\n",
    "df = df.merge(spo2, how='outer', on=['id', 'date', 'hour'])\n",
    "df"
   ],
   "metadata": {
    "collapsed": false,
    "pycharm": {
     "name": "#%%\n"
    }
   }
  },
  {
   "cell_type": "markdown",
   "source": [
    "##### Heart Rate Variability Details"
   ],
   "metadata": {
    "collapsed": false,
    "pycharm": {
     "name": "#%% md\n"
    }
   }
  },
  {
   "cell_type": "code",
   "execution_count": 14,
   "outputs": [
    {
     "data": {
      "text/plain": "                             id       date  hour             ecg  \\\n0      621e2ff067b776a2403eb737 2021-12-22    19             NSR   \n1      621e301367b776a24057738e 2021-06-08    21             NSR   \n2      621e312a67b776a240164d59 2021-10-07    17             NSR   \n3      621e312a67b776a240164d59 2021-10-10    20             NSR   \n4      621e326767b776a24012e179 2021-07-22    17  UNCLASSIFIABLE   \n...                         ...        ...   ...             ...   \n23384  621e375b67b776a240290cdc 2021-07-29     4             NaN   \n23385  621e375b67b776a240290cdc 2021-07-29     5             NaN   \n23386  621e375b67b776a240290cdc 2021-07-29     6             NaN   \n23387  621e375b67b776a240290cdc 2021-07-29     7             NaN   \n23388  621e375b67b776a240290cdc 2021-07-29     8             NaN   \n\n      heart_rate_alert type  nightly_temperature  nremhr  spo2      rmssd  \n0                 NONE  NaN                  NaN     NaN   NaN        NaN  \n1                 NONE  NaN                  NaN     NaN   NaN        NaN  \n2                 NONE  NaN                  NaN     NaN   NaN        NaN  \n3                 NONE  NaN                  NaN     NaN   NaN        NaN  \n4                 NONE  NaN                  NaN     NaN   NaN        NaN  \n...                ...  ...                  ...     ...   ...        ...  \n23384              NaN  NaN                  NaN     NaN   NaN  20.740667  \n23385              NaN  NaN                  NaN     NaN   NaN  18.778083  \n23386              NaN  NaN                  NaN     NaN   NaN  19.412083  \n23387              NaN  NaN                  NaN     NaN   NaN  21.974833  \n23388              NaN  NaN                  NaN     NaN   NaN  24.003000  \n\n[23389 rows x 10 columns]",
      "text/html": "<div>\n<style scoped>\n    .dataframe tbody tr th:only-of-type {\n        vertical-align: middle;\n    }\n\n    .dataframe tbody tr th {\n        vertical-align: top;\n    }\n\n    .dataframe thead th {\n        text-align: right;\n    }\n</style>\n<table border=\"1\" class=\"dataframe\">\n  <thead>\n    <tr style=\"text-align: right;\">\n      <th></th>\n      <th>id</th>\n      <th>date</th>\n      <th>hour</th>\n      <th>ecg</th>\n      <th>heart_rate_alert</th>\n      <th>type</th>\n      <th>nightly_temperature</th>\n      <th>nremhr</th>\n      <th>spo2</th>\n      <th>rmssd</th>\n    </tr>\n  </thead>\n  <tbody>\n    <tr>\n      <th>0</th>\n      <td>621e2ff067b776a2403eb737</td>\n      <td>2021-12-22</td>\n      <td>19</td>\n      <td>NSR</td>\n      <td>NONE</td>\n      <td>NaN</td>\n      <td>NaN</td>\n      <td>NaN</td>\n      <td>NaN</td>\n      <td>NaN</td>\n    </tr>\n    <tr>\n      <th>1</th>\n      <td>621e301367b776a24057738e</td>\n      <td>2021-06-08</td>\n      <td>21</td>\n      <td>NSR</td>\n      <td>NONE</td>\n      <td>NaN</td>\n      <td>NaN</td>\n      <td>NaN</td>\n      <td>NaN</td>\n      <td>NaN</td>\n    </tr>\n    <tr>\n      <th>2</th>\n      <td>621e312a67b776a240164d59</td>\n      <td>2021-10-07</td>\n      <td>17</td>\n      <td>NSR</td>\n      <td>NONE</td>\n      <td>NaN</td>\n      <td>NaN</td>\n      <td>NaN</td>\n      <td>NaN</td>\n      <td>NaN</td>\n    </tr>\n    <tr>\n      <th>3</th>\n      <td>621e312a67b776a240164d59</td>\n      <td>2021-10-10</td>\n      <td>20</td>\n      <td>NSR</td>\n      <td>NONE</td>\n      <td>NaN</td>\n      <td>NaN</td>\n      <td>NaN</td>\n      <td>NaN</td>\n      <td>NaN</td>\n    </tr>\n    <tr>\n      <th>4</th>\n      <td>621e326767b776a24012e179</td>\n      <td>2021-07-22</td>\n      <td>17</td>\n      <td>UNCLASSIFIABLE</td>\n      <td>NONE</td>\n      <td>NaN</td>\n      <td>NaN</td>\n      <td>NaN</td>\n      <td>NaN</td>\n      <td>NaN</td>\n    </tr>\n    <tr>\n      <th>...</th>\n      <td>...</td>\n      <td>...</td>\n      <td>...</td>\n      <td>...</td>\n      <td>...</td>\n      <td>...</td>\n      <td>...</td>\n      <td>...</td>\n      <td>...</td>\n      <td>...</td>\n    </tr>\n    <tr>\n      <th>23384</th>\n      <td>621e375b67b776a240290cdc</td>\n      <td>2021-07-29</td>\n      <td>4</td>\n      <td>NaN</td>\n      <td>NaN</td>\n      <td>NaN</td>\n      <td>NaN</td>\n      <td>NaN</td>\n      <td>NaN</td>\n      <td>20.740667</td>\n    </tr>\n    <tr>\n      <th>23385</th>\n      <td>621e375b67b776a240290cdc</td>\n      <td>2021-07-29</td>\n      <td>5</td>\n      <td>NaN</td>\n      <td>NaN</td>\n      <td>NaN</td>\n      <td>NaN</td>\n      <td>NaN</td>\n      <td>NaN</td>\n      <td>18.778083</td>\n    </tr>\n    <tr>\n      <th>23386</th>\n      <td>621e375b67b776a240290cdc</td>\n      <td>2021-07-29</td>\n      <td>6</td>\n      <td>NaN</td>\n      <td>NaN</td>\n      <td>NaN</td>\n      <td>NaN</td>\n      <td>NaN</td>\n      <td>NaN</td>\n      <td>19.412083</td>\n    </tr>\n    <tr>\n      <th>23387</th>\n      <td>621e375b67b776a240290cdc</td>\n      <td>2021-07-29</td>\n      <td>7</td>\n      <td>NaN</td>\n      <td>NaN</td>\n      <td>NaN</td>\n      <td>NaN</td>\n      <td>NaN</td>\n      <td>NaN</td>\n      <td>21.974833</td>\n    </tr>\n    <tr>\n      <th>23388</th>\n      <td>621e375b67b776a240290cdc</td>\n      <td>2021-07-29</td>\n      <td>8</td>\n      <td>NaN</td>\n      <td>NaN</td>\n      <td>NaN</td>\n      <td>NaN</td>\n      <td>NaN</td>\n      <td>NaN</td>\n      <td>24.003000</td>\n    </tr>\n  </tbody>\n</table>\n<p>23389 rows × 10 columns</p>\n</div>"
     },
     "execution_count": 14,
     "metadata": {},
     "output_type": "execute_result"
    }
   ],
   "source": [
    "rmssd = pd.DataFrame(columns=[\"id\", \"data\"])\n",
    "\n",
    "# read and load from MongoDB\n",
    "for user in users:\n",
    "    user_data = pd.DataFrame(list(\n",
    "        db.fitbit.find({\"$and\": [\n",
    "            {\"type\": \"Heart Rate Variability Details\"},\n",
    "            {\"id\": user}]},\n",
    "            {\"id\": 1, \"data.timestamp\": 1, \"data.rmssd\": 1, \"_id\": 0})))\n",
    "    rmssd = pd.concat([rmssd , user_data], axis=0)\n",
    "\n",
    "# split data column (json format) into two columns (df format)\n",
    "rmssd[\"date\"] = rmssd[\"data\"].apply(lambda d: d[\"timestamp\"])\n",
    "rmssd[\"rmssd\"] = rmssd[\"data\"].apply(lambda d: d[\"rmssd\"])\n",
    "rmssd.drop([\"data\"], inplace=True, axis=1)\n",
    "\n",
    "# process the datetime object, feature types and group and aggregate the data\n",
    "rmssd = data_loading.date_conversion(rmssd)\n",
    "rmssd['rmssd'] = pd.to_numeric(rmssd['rmssd'])\n",
    "rmssd = data_loading.aggregate_column(rmssd, list(rmssd.columns))\n",
    "\n",
    "# merge with the final dataframe\n",
    "df = df.merge(rmssd, how='outer', on=['id', 'date', 'hour'])\n",
    "df"
   ],
   "metadata": {
    "collapsed": false,
    "pycharm": {
     "name": "#%%\n"
    }
   }
  },
  {
   "cell_type": "markdown",
   "source": [
    "##### Respiratory Rate Summary"
   ],
   "metadata": {
    "collapsed": false,
    "pycharm": {
     "name": "#%% md\n"
    }
   }
  },
  {
   "cell_type": "code",
   "execution_count": 16,
   "outputs": [
    {
     "data": {
      "text/plain": "                             id       date  hour             ecg  \\\n0      621e2ff067b776a2403eb737 2021-12-22    19             NSR   \n1      621e301367b776a24057738e 2021-06-08    21             NSR   \n2      621e312a67b776a240164d59 2021-10-07    17             NSR   \n3      621e312a67b776a240164d59 2021-10-10    20             NSR   \n4      621e326767b776a24012e179 2021-07-22    17  UNCLASSIFIABLE   \n...                         ...        ...   ...             ...   \n23698  621e375b67b776a240290cdc 2021-06-15     9             NaN   \n23699  621e375b67b776a240290cdc 2021-06-19     9             NaN   \n23700  621e375b67b776a240290cdc 2021-06-25     8             NaN   \n23701  621e375b67b776a240290cdc 2021-07-20     7             NaN   \n23702  621e375b67b776a240290cdc 2021-07-26     8             NaN   \n\n      heart_rate_alert type  nightly_temperature  nremhr  spo2  rmssd  \\\n0                 NONE  NaN                  NaN     NaN   NaN    NaN   \n1                 NONE  NaN                  NaN     NaN   NaN    NaN   \n2                 NONE  NaN                  NaN     NaN   NaN    NaN   \n3                 NONE  NaN                  NaN     NaN   NaN    NaN   \n4                 NONE  NaN                  NaN     NaN   NaN    NaN   \n...                ...  ...                  ...     ...   ...    ...   \n23698              NaN  NaN                  NaN     NaN   NaN    NaN   \n23699              NaN  NaN                  NaN     NaN   NaN    NaN   \n23700              NaN  NaN                  NaN     NaN   NaN    NaN   \n23701              NaN  NaN                  NaN     NaN   NaN    NaN   \n23702              NaN  NaN                  NaN     NaN   NaN    NaN   \n\n       full_sleep_breathing_rate  deep_sleep_breathing_rate  \\\n0                            NaN                        NaN   \n1                            NaN                        NaN   \n2                            NaN                        NaN   \n3                            NaN                        NaN   \n4                            NaN                        NaN   \n...                          ...                        ...   \n23698                       18.4                       17.6   \n23699                       16.4                       17.0   \n23700                       17.6                       17.0   \n23701                       16.0                       16.0   \n23702                       17.0                       17.2   \n\n       light_sleep_breathing_rate  rem_sleep_breathing_rate  \n0                             NaN                       NaN  \n1                             NaN                       NaN  \n2                             NaN                       NaN  \n3                             NaN                       NaN  \n4                             NaN                       NaN  \n...                           ...                       ...  \n23698                         NaN                      -1.0  \n23699                         NaN                      -1.0  \n23700                         NaN                       8.8  \n23701                         NaN                      -1.0  \n23702                         NaN                      -1.0  \n\n[23703 rows x 14 columns]",
      "text/html": "<div>\n<style scoped>\n    .dataframe tbody tr th:only-of-type {\n        vertical-align: middle;\n    }\n\n    .dataframe tbody tr th {\n        vertical-align: top;\n    }\n\n    .dataframe thead th {\n        text-align: right;\n    }\n</style>\n<table border=\"1\" class=\"dataframe\">\n  <thead>\n    <tr style=\"text-align: right;\">\n      <th></th>\n      <th>id</th>\n      <th>date</th>\n      <th>hour</th>\n      <th>ecg</th>\n      <th>heart_rate_alert</th>\n      <th>type</th>\n      <th>nightly_temperature</th>\n      <th>nremhr</th>\n      <th>spo2</th>\n      <th>rmssd</th>\n      <th>full_sleep_breathing_rate</th>\n      <th>deep_sleep_breathing_rate</th>\n      <th>light_sleep_breathing_rate</th>\n      <th>rem_sleep_breathing_rate</th>\n    </tr>\n  </thead>\n  <tbody>\n    <tr>\n      <th>0</th>\n      <td>621e2ff067b776a2403eb737</td>\n      <td>2021-12-22</td>\n      <td>19</td>\n      <td>NSR</td>\n      <td>NONE</td>\n      <td>NaN</td>\n      <td>NaN</td>\n      <td>NaN</td>\n      <td>NaN</td>\n      <td>NaN</td>\n      <td>NaN</td>\n      <td>NaN</td>\n      <td>NaN</td>\n      <td>NaN</td>\n    </tr>\n    <tr>\n      <th>1</th>\n      <td>621e301367b776a24057738e</td>\n      <td>2021-06-08</td>\n      <td>21</td>\n      <td>NSR</td>\n      <td>NONE</td>\n      <td>NaN</td>\n      <td>NaN</td>\n      <td>NaN</td>\n      <td>NaN</td>\n      <td>NaN</td>\n      <td>NaN</td>\n      <td>NaN</td>\n      <td>NaN</td>\n      <td>NaN</td>\n    </tr>\n    <tr>\n      <th>2</th>\n      <td>621e312a67b776a240164d59</td>\n      <td>2021-10-07</td>\n      <td>17</td>\n      <td>NSR</td>\n      <td>NONE</td>\n      <td>NaN</td>\n      <td>NaN</td>\n      <td>NaN</td>\n      <td>NaN</td>\n      <td>NaN</td>\n      <td>NaN</td>\n      <td>NaN</td>\n      <td>NaN</td>\n      <td>NaN</td>\n    </tr>\n    <tr>\n      <th>3</th>\n      <td>621e312a67b776a240164d59</td>\n      <td>2021-10-10</td>\n      <td>20</td>\n      <td>NSR</td>\n      <td>NONE</td>\n      <td>NaN</td>\n      <td>NaN</td>\n      <td>NaN</td>\n      <td>NaN</td>\n      <td>NaN</td>\n      <td>NaN</td>\n      <td>NaN</td>\n      <td>NaN</td>\n      <td>NaN</td>\n    </tr>\n    <tr>\n      <th>4</th>\n      <td>621e326767b776a24012e179</td>\n      <td>2021-07-22</td>\n      <td>17</td>\n      <td>UNCLASSIFIABLE</td>\n      <td>NONE</td>\n      <td>NaN</td>\n      <td>NaN</td>\n      <td>NaN</td>\n      <td>NaN</td>\n      <td>NaN</td>\n      <td>NaN</td>\n      <td>NaN</td>\n      <td>NaN</td>\n      <td>NaN</td>\n    </tr>\n    <tr>\n      <th>...</th>\n      <td>...</td>\n      <td>...</td>\n      <td>...</td>\n      <td>...</td>\n      <td>...</td>\n      <td>...</td>\n      <td>...</td>\n      <td>...</td>\n      <td>...</td>\n      <td>...</td>\n      <td>...</td>\n      <td>...</td>\n      <td>...</td>\n      <td>...</td>\n    </tr>\n    <tr>\n      <th>23698</th>\n      <td>621e375b67b776a240290cdc</td>\n      <td>2021-06-15</td>\n      <td>9</td>\n      <td>NaN</td>\n      <td>NaN</td>\n      <td>NaN</td>\n      <td>NaN</td>\n      <td>NaN</td>\n      <td>NaN</td>\n      <td>NaN</td>\n      <td>18.4</td>\n      <td>17.6</td>\n      <td>NaN</td>\n      <td>-1.0</td>\n    </tr>\n    <tr>\n      <th>23699</th>\n      <td>621e375b67b776a240290cdc</td>\n      <td>2021-06-19</td>\n      <td>9</td>\n      <td>NaN</td>\n      <td>NaN</td>\n      <td>NaN</td>\n      <td>NaN</td>\n      <td>NaN</td>\n      <td>NaN</td>\n      <td>NaN</td>\n      <td>16.4</td>\n      <td>17.0</td>\n      <td>NaN</td>\n      <td>-1.0</td>\n    </tr>\n    <tr>\n      <th>23700</th>\n      <td>621e375b67b776a240290cdc</td>\n      <td>2021-06-25</td>\n      <td>8</td>\n      <td>NaN</td>\n      <td>NaN</td>\n      <td>NaN</td>\n      <td>NaN</td>\n      <td>NaN</td>\n      <td>NaN</td>\n      <td>NaN</td>\n      <td>17.6</td>\n      <td>17.0</td>\n      <td>NaN</td>\n      <td>8.8</td>\n    </tr>\n    <tr>\n      <th>23701</th>\n      <td>621e375b67b776a240290cdc</td>\n      <td>2021-07-20</td>\n      <td>7</td>\n      <td>NaN</td>\n      <td>NaN</td>\n      <td>NaN</td>\n      <td>NaN</td>\n      <td>NaN</td>\n      <td>NaN</td>\n      <td>NaN</td>\n      <td>16.0</td>\n      <td>16.0</td>\n      <td>NaN</td>\n      <td>-1.0</td>\n    </tr>\n    <tr>\n      <th>23702</th>\n      <td>621e375b67b776a240290cdc</td>\n      <td>2021-07-26</td>\n      <td>8</td>\n      <td>NaN</td>\n      <td>NaN</td>\n      <td>NaN</td>\n      <td>NaN</td>\n      <td>NaN</td>\n      <td>NaN</td>\n      <td>NaN</td>\n      <td>17.0</td>\n      <td>17.2</td>\n      <td>NaN</td>\n      <td>-1.0</td>\n    </tr>\n  </tbody>\n</table>\n<p>23703 rows × 14 columns</p>\n</div>"
     },
     "execution_count": 16,
     "metadata": {},
     "output_type": "execute_result"
    }
   ],
   "source": [
    "respiratory_rate = pd.DataFrame(columns=[\"id\", \"data\"])\n",
    "\n",
    "# read and load from MongoDB\n",
    "for user in users:\n",
    "    user_data = pd.DataFrame(list(\n",
    "        db.fitbit.find({\"$and\": [\n",
    "            {\"type\": \"Respiratory Rate Summary\"},\n",
    "            {\"id\": user}]},\n",
    "            {\"id\": 1, \"data.timestamp\": 1, \"data.full_sleep_breathing_rate\": 1, \"data.deep_sleep_breathing_rate\": 1, \"data.light_sleep_breathing_rate\": 1, \"data.rem_sleep_breathing_rate\": 1, \"_id\": 0})))\n",
    "    respiratory_rate = pd.concat([respiratory_rate , user_data], axis=0)\n",
    "\n",
    "# split data column (json format) into two columns (df format)\n",
    "respiratory_rate[\"date\"] = respiratory_rate[\"data\"].apply(lambda d: d[\"timestamp\"])\n",
    "respiratory_rate[\"full_sleep_breathing_rate\"] = respiratory_rate[\"data\"].apply(lambda d: d[\"full_sleep_breathing_rate\"])\n",
    "respiratory_rate[\"deep_sleep_breathing_rate\"] = respiratory_rate[\"data\"].apply(lambda d: d[\"deep_sleep_breathing_rate\"])\n",
    "respiratory_rate[\"light_sleep_breathing_rate\"] = respiratory_rate[\"data\"].apply(lambda d: d[\"light_sleep_breathing_rate\"])\n",
    "respiratory_rate[\"rem_sleep_breathing_rate\"] = respiratory_rate[\"data\"].apply(lambda d: d[\"rem_sleep_breathing_rate\"])\n",
    "respiratory_rate.drop([\"data\"], inplace=True, axis=1)\n",
    "\n",
    "# process the datetime object, feature types and group and aggregate the data\n",
    "respiratory_rate = data_loading.date_conversion(respiratory_rate)\n",
    "respiratory_rate['full_sleep_breathing_rate'] = pd.to_numeric(respiratory_rate['full_sleep_breathing_rate'])\n",
    "respiratory_rate['deep_sleep_breathing_rate'] = pd.to_numeric(respiratory_rate['deep_sleep_breathing_rate'])\n",
    "respiratory_rate['light_sleep_breathing_rate'] = pd.to_numeric(respiratory_rate['light_sleep_breathing_rate'])\n",
    "respiratory_rate['rem_sleep_breathing_rate'] = pd.to_numeric(respiratory_rate['rem_sleep_breathing_rate'])\n",
    "respiratory_rate = data_loading.aggregate_column(respiratory_rate, list(respiratory_rate.columns))\n",
    "\n",
    "# merge with the final dataframe\n",
    "df = df.merge(respiratory_rate, how='outer', on=['id', 'date', 'hour'])\n",
    "df"
   ],
   "metadata": {
    "collapsed": false,
    "pycharm": {
     "name": "#%%\n"
    }
   }
  },
  {
   "cell_type": "markdown",
   "source": [
    "##### Stress Score"
   ],
   "metadata": {
    "collapsed": false,
    "pycharm": {
     "name": "#%% md\n"
    }
   }
  },
  {
   "cell_type": "code",
   "execution_count": 18,
   "outputs": [
    {
     "data": {
      "text/plain": "                             id       date  hour             ecg  \\\n0      621e2ff067b776a2403eb737 2021-12-22    19             NSR   \n1      621e301367b776a24057738e 2021-06-08    21             NSR   \n2      621e312a67b776a240164d59 2021-10-07    17             NSR   \n3      621e312a67b776a240164d59 2021-10-10    20             NSR   \n4      621e326767b776a24012e179 2021-07-22    17  UNCLASSIFIABLE   \n...                         ...        ...   ...             ...   \n23898  621e375b67b776a240290cdc 2021-06-26     0             NaN   \n23899  621e375b67b776a240290cdc 2021-07-11     0             NaN   \n23900  621e375b67b776a240290cdc 2021-07-18     0             NaN   \n23901  621e375b67b776a240290cdc 2021-07-22     0             NaN   \n23902  621e375b67b776a240290cdc 2021-07-31     0             NaN   \n\n      heart_rate_alert type  nightly_temperature  nremhr  spo2  rmssd  \\\n0                 NONE  NaN                  NaN     NaN   NaN    NaN   \n1                 NONE  NaN                  NaN     NaN   NaN    NaN   \n2                 NONE  NaN                  NaN     NaN   NaN    NaN   \n3                 NONE  NaN                  NaN     NaN   NaN    NaN   \n4                 NONE  NaN                  NaN     NaN   NaN    NaN   \n...                ...  ...                  ...     ...   ...    ...   \n23898              NaN  NaN                  NaN     NaN   NaN    NaN   \n23899              NaN  NaN                  NaN     NaN   NaN    NaN   \n23900              NaN  NaN                  NaN     NaN   NaN    NaN   \n23901              NaN  NaN                  NaN     NaN   NaN    NaN   \n23902              NaN  NaN                  NaN     NaN   NaN    NaN   \n\n       full_sleep_breathing_rate  deep_sleep_breathing_rate  \\\n0                            NaN                        NaN   \n1                            NaN                        NaN   \n2                            NaN                        NaN   \n3                            NaN                        NaN   \n4                            NaN                        NaN   \n...                          ...                        ...   \n23898                        NaN                        NaN   \n23899                        NaN                        NaN   \n23900                        NaN                        NaN   \n23901                        NaN                        NaN   \n23902                        NaN                        NaN   \n\n       light_sleep_breathing_rate  rem_sleep_breathing_rate  stress_score  \\\n0                             NaN                       NaN           NaN   \n1                             NaN                       NaN           NaN   \n2                             NaN                       NaN           NaN   \n3                             NaN                       NaN           NaN   \n4                             NaN                       NaN           NaN   \n...                           ...                       ...           ...   \n23898                         NaN                       NaN          80.0   \n23899                         NaN                       NaN           0.0   \n23900                         NaN                       NaN           0.0   \n23901                         NaN                       NaN           0.0   \n23902                         NaN                       NaN           0.0   \n\n       sleep_points  responsiveness_points  exertion_points  \n0               NaN                    NaN              NaN  \n1               NaN                    NaN              NaN  \n2               NaN                    NaN              NaN  \n3               NaN                    NaN              NaN  \n4               NaN                    NaN              NaN  \n...             ...                    ...              ...  \n23898          22.0                   19.0             39.0  \n23899           0.0                    0.0              0.0  \n23900           0.0                    0.0              0.0  \n23901           0.0                    0.0              0.0  \n23902           0.0                    0.0              0.0  \n\n[23903 rows x 18 columns]",
      "text/html": "<div>\n<style scoped>\n    .dataframe tbody tr th:only-of-type {\n        vertical-align: middle;\n    }\n\n    .dataframe tbody tr th {\n        vertical-align: top;\n    }\n\n    .dataframe thead th {\n        text-align: right;\n    }\n</style>\n<table border=\"1\" class=\"dataframe\">\n  <thead>\n    <tr style=\"text-align: right;\">\n      <th></th>\n      <th>id</th>\n      <th>date</th>\n      <th>hour</th>\n      <th>ecg</th>\n      <th>heart_rate_alert</th>\n      <th>type</th>\n      <th>nightly_temperature</th>\n      <th>nremhr</th>\n      <th>spo2</th>\n      <th>rmssd</th>\n      <th>full_sleep_breathing_rate</th>\n      <th>deep_sleep_breathing_rate</th>\n      <th>light_sleep_breathing_rate</th>\n      <th>rem_sleep_breathing_rate</th>\n      <th>stress_score</th>\n      <th>sleep_points</th>\n      <th>responsiveness_points</th>\n      <th>exertion_points</th>\n    </tr>\n  </thead>\n  <tbody>\n    <tr>\n      <th>0</th>\n      <td>621e2ff067b776a2403eb737</td>\n      <td>2021-12-22</td>\n      <td>19</td>\n      <td>NSR</td>\n      <td>NONE</td>\n      <td>NaN</td>\n      <td>NaN</td>\n      <td>NaN</td>\n      <td>NaN</td>\n      <td>NaN</td>\n      <td>NaN</td>\n      <td>NaN</td>\n      <td>NaN</td>\n      <td>NaN</td>\n      <td>NaN</td>\n      <td>NaN</td>\n      <td>NaN</td>\n      <td>NaN</td>\n    </tr>\n    <tr>\n      <th>1</th>\n      <td>621e301367b776a24057738e</td>\n      <td>2021-06-08</td>\n      <td>21</td>\n      <td>NSR</td>\n      <td>NONE</td>\n      <td>NaN</td>\n      <td>NaN</td>\n      <td>NaN</td>\n      <td>NaN</td>\n      <td>NaN</td>\n      <td>NaN</td>\n      <td>NaN</td>\n      <td>NaN</td>\n      <td>NaN</td>\n      <td>NaN</td>\n      <td>NaN</td>\n      <td>NaN</td>\n      <td>NaN</td>\n    </tr>\n    <tr>\n      <th>2</th>\n      <td>621e312a67b776a240164d59</td>\n      <td>2021-10-07</td>\n      <td>17</td>\n      <td>NSR</td>\n      <td>NONE</td>\n      <td>NaN</td>\n      <td>NaN</td>\n      <td>NaN</td>\n      <td>NaN</td>\n      <td>NaN</td>\n      <td>NaN</td>\n      <td>NaN</td>\n      <td>NaN</td>\n      <td>NaN</td>\n      <td>NaN</td>\n      <td>NaN</td>\n      <td>NaN</td>\n      <td>NaN</td>\n    </tr>\n    <tr>\n      <th>3</th>\n      <td>621e312a67b776a240164d59</td>\n      <td>2021-10-10</td>\n      <td>20</td>\n      <td>NSR</td>\n      <td>NONE</td>\n      <td>NaN</td>\n      <td>NaN</td>\n      <td>NaN</td>\n      <td>NaN</td>\n      <td>NaN</td>\n      <td>NaN</td>\n      <td>NaN</td>\n      <td>NaN</td>\n      <td>NaN</td>\n      <td>NaN</td>\n      <td>NaN</td>\n      <td>NaN</td>\n      <td>NaN</td>\n    </tr>\n    <tr>\n      <th>4</th>\n      <td>621e326767b776a24012e179</td>\n      <td>2021-07-22</td>\n      <td>17</td>\n      <td>UNCLASSIFIABLE</td>\n      <td>NONE</td>\n      <td>NaN</td>\n      <td>NaN</td>\n      <td>NaN</td>\n      <td>NaN</td>\n      <td>NaN</td>\n      <td>NaN</td>\n      <td>NaN</td>\n      <td>NaN</td>\n      <td>NaN</td>\n      <td>NaN</td>\n      <td>NaN</td>\n      <td>NaN</td>\n      <td>NaN</td>\n    </tr>\n    <tr>\n      <th>...</th>\n      <td>...</td>\n      <td>...</td>\n      <td>...</td>\n      <td>...</td>\n      <td>...</td>\n      <td>...</td>\n      <td>...</td>\n      <td>...</td>\n      <td>...</td>\n      <td>...</td>\n      <td>...</td>\n      <td>...</td>\n      <td>...</td>\n      <td>...</td>\n      <td>...</td>\n      <td>...</td>\n      <td>...</td>\n      <td>...</td>\n    </tr>\n    <tr>\n      <th>23898</th>\n      <td>621e375b67b776a240290cdc</td>\n      <td>2021-06-26</td>\n      <td>0</td>\n      <td>NaN</td>\n      <td>NaN</td>\n      <td>NaN</td>\n      <td>NaN</td>\n      <td>NaN</td>\n      <td>NaN</td>\n      <td>NaN</td>\n      <td>NaN</td>\n      <td>NaN</td>\n      <td>NaN</td>\n      <td>NaN</td>\n      <td>80.0</td>\n      <td>22.0</td>\n      <td>19.0</td>\n      <td>39.0</td>\n    </tr>\n    <tr>\n      <th>23899</th>\n      <td>621e375b67b776a240290cdc</td>\n      <td>2021-07-11</td>\n      <td>0</td>\n      <td>NaN</td>\n      <td>NaN</td>\n      <td>NaN</td>\n      <td>NaN</td>\n      <td>NaN</td>\n      <td>NaN</td>\n      <td>NaN</td>\n      <td>NaN</td>\n      <td>NaN</td>\n      <td>NaN</td>\n      <td>NaN</td>\n      <td>0.0</td>\n      <td>0.0</td>\n      <td>0.0</td>\n      <td>0.0</td>\n    </tr>\n    <tr>\n      <th>23900</th>\n      <td>621e375b67b776a240290cdc</td>\n      <td>2021-07-18</td>\n      <td>0</td>\n      <td>NaN</td>\n      <td>NaN</td>\n      <td>NaN</td>\n      <td>NaN</td>\n      <td>NaN</td>\n      <td>NaN</td>\n      <td>NaN</td>\n      <td>NaN</td>\n      <td>NaN</td>\n      <td>NaN</td>\n      <td>NaN</td>\n      <td>0.0</td>\n      <td>0.0</td>\n      <td>0.0</td>\n      <td>0.0</td>\n    </tr>\n    <tr>\n      <th>23901</th>\n      <td>621e375b67b776a240290cdc</td>\n      <td>2021-07-22</td>\n      <td>0</td>\n      <td>NaN</td>\n      <td>NaN</td>\n      <td>NaN</td>\n      <td>NaN</td>\n      <td>NaN</td>\n      <td>NaN</td>\n      <td>NaN</td>\n      <td>NaN</td>\n      <td>NaN</td>\n      <td>NaN</td>\n      <td>NaN</td>\n      <td>0.0</td>\n      <td>0.0</td>\n      <td>0.0</td>\n      <td>0.0</td>\n    </tr>\n    <tr>\n      <th>23902</th>\n      <td>621e375b67b776a240290cdc</td>\n      <td>2021-07-31</td>\n      <td>0</td>\n      <td>NaN</td>\n      <td>NaN</td>\n      <td>NaN</td>\n      <td>NaN</td>\n      <td>NaN</td>\n      <td>NaN</td>\n      <td>NaN</td>\n      <td>NaN</td>\n      <td>NaN</td>\n      <td>NaN</td>\n      <td>NaN</td>\n      <td>0.0</td>\n      <td>0.0</td>\n      <td>0.0</td>\n      <td>0.0</td>\n    </tr>\n  </tbody>\n</table>\n<p>23903 rows × 18 columns</p>\n</div>"
     },
     "execution_count": 18,
     "metadata": {},
     "output_type": "execute_result"
    }
   ],
   "source": [
    "stress = pd.DataFrame(columns=[\"id\", \"data\"])\n",
    "\n",
    "# read and load from MongoDB\n",
    "for user in users:\n",
    "    user_data = pd.DataFrame(list(\n",
    "        db.fitbit.find({\"$and\": [\n",
    "            {\"type\": \"Stress Score\"},\n",
    "            {\"id\": user}]},\n",
    "            {\"id\": 1, \"data.DATE\": 1, \"data.STRESS_SCORE\": 1, \"data.SLEEP_POINTS\": 1, \"data.RESPONSIVENESS_POINTS\": 1, \"data.EXERTION_POINTS\": 1, \"_id\": 0})))\n",
    "    stress = pd.concat([stress , user_data], axis=0)\n",
    "\n",
    "# split data column (json format) into two columns (df format)\n",
    "stress[\"date\"] = stress[\"data\"].apply(lambda d: d[\"DATE\"])\n",
    "stress[\"stress_score\"] = stress[\"data\"].apply(lambda d: d[\"STRESS_SCORE\"])\n",
    "stress[\"sleep_points\"] = stress[\"data\"].apply(lambda d: d[\"SLEEP_POINTS\"])\n",
    "stress[\"responsiveness_points\"] = stress[\"data\"].apply(lambda d: d[\"RESPONSIVENESS_POINTS\"])\n",
    "stress[\"exertion_points\"] = stress[\"data\"].apply(lambda d: d[\"EXERTION_POINTS\"])\n",
    "stress.drop([\"data\"], inplace=True, axis=1)\n",
    "\n",
    "# process the datetime object, feature types and group and aggregate the data\n",
    "stress = data_loading.date_conversion(stress)\n",
    "stress['stress_score'] = pd.to_numeric(stress['stress_score'])\n",
    "stress['sleep_points'] = pd.to_numeric(stress['sleep_points'])\n",
    "stress['responsiveness_points'] = pd.to_numeric(stress['responsiveness_points'])\n",
    "stress['exertion_points'] = pd.to_numeric(stress['exertion_points'])\n",
    "stress = data_loading.aggregate_column(stress, list(stress.columns))\n",
    "\n",
    "# merge with the final dataframe\n",
    "df = df.merge(stress, how='outer', on=['id', 'date', 'hour'])\n",
    "df"
   ],
   "metadata": {
    "collapsed": false,
    "pycharm": {
     "name": "#%%\n"
    }
   }
  },
  {
   "cell_type": "markdown",
   "source": [
    "##### Wrist Temperature"
   ],
   "metadata": {
    "collapsed": false,
    "pycharm": {
     "name": "#%% md\n"
    }
   }
  },
  {
   "cell_type": "code",
   "execution_count": 20,
   "outputs": [
    {
     "data": {
      "text/plain": "                             id       date  hour             ecg  \\\n0      621e2ff067b776a2403eb737 2021-12-22    19             NSR   \n1      621e301367b776a24057738e 2021-06-08    21             NSR   \n2      621e312a67b776a240164d59 2021-10-07    17             NSR   \n3      621e312a67b776a240164d59 2021-10-10    20             NSR   \n4      621e326767b776a24012e179 2021-07-22    17  UNCLASSIFIABLE   \n...                         ...        ...   ...             ...   \n76169  621e375b67b776a240290cdc 2021-07-29    19             NaN   \n76170  621e375b67b776a240290cdc 2021-07-29    20             NaN   \n76171  621e375b67b776a240290cdc 2021-07-29    21             NaN   \n76172  621e375b67b776a240290cdc 2021-07-29    22             NaN   \n76173  621e375b67b776a240290cdc 2021-07-29    23             NaN   \n\n      heart_rate_alert type  nightly_temperature  nremhr  spo2  rmssd  \\\n0                 NONE  NaN                  NaN     NaN   NaN    NaN   \n1                 NONE  NaN                  NaN     NaN   NaN    NaN   \n2                 NONE  NaN                  NaN     NaN   NaN    NaN   \n3                 NONE  NaN                  NaN     NaN   NaN    NaN   \n4                 NONE  NaN                  NaN     NaN   NaN    NaN   \n...                ...  ...                  ...     ...   ...    ...   \n76169              NaN  NaN                  NaN     NaN   NaN    NaN   \n76170              NaN  NaN                  NaN     NaN   NaN    NaN   \n76171              NaN  NaN                  NaN     NaN   NaN    NaN   \n76172              NaN  NaN                  NaN     NaN   NaN    NaN   \n76173              NaN  NaN                  NaN     NaN   NaN    NaN   \n\n       full_sleep_breathing_rate  deep_sleep_breathing_rate  \\\n0                            NaN                        NaN   \n1                            NaN                        NaN   \n2                            NaN                        NaN   \n3                            NaN                        NaN   \n4                            NaN                        NaN   \n...                          ...                        ...   \n76169                        NaN                        NaN   \n76170                        NaN                        NaN   \n76171                        NaN                        NaN   \n76172                        NaN                        NaN   \n76173                        NaN                        NaN   \n\n       light_sleep_breathing_rate  rem_sleep_breathing_rate  stress_score  \\\n0                             NaN                       NaN           NaN   \n1                             NaN                       NaN           NaN   \n2                             NaN                       NaN           NaN   \n3                             NaN                       NaN           NaN   \n4                             NaN                       NaN           NaN   \n...                           ...                       ...           ...   \n76169                         NaN                       NaN           NaN   \n76170                         NaN                       NaN           NaN   \n76171                         NaN                       NaN           NaN   \n76172                         NaN                       NaN           NaN   \n76173                         NaN                       NaN           NaN   \n\n       sleep_points  responsiveness_points  exertion_points  wrist_temperature  \n0               NaN                    NaN              NaN          -4.726633  \n1               NaN                    NaN              NaN                NaN  \n2               NaN                    NaN              NaN                NaN  \n3               NaN                    NaN              NaN          -3.497025  \n4               NaN                    NaN              NaN           0.120849  \n...             ...                    ...              ...                ...  \n76169           NaN                    NaN              NaN          -1.698178  \n76170           NaN                    NaN              NaN          -3.432095  \n76171           NaN                    NaN              NaN          -2.635845  \n76172           NaN                    NaN              NaN          -1.439095  \n76173           NaN                    NaN              NaN          -2.740845  \n\n[76174 rows x 19 columns]",
      "text/html": "<div>\n<style scoped>\n    .dataframe tbody tr th:only-of-type {\n        vertical-align: middle;\n    }\n\n    .dataframe tbody tr th {\n        vertical-align: top;\n    }\n\n    .dataframe thead th {\n        text-align: right;\n    }\n</style>\n<table border=\"1\" class=\"dataframe\">\n  <thead>\n    <tr style=\"text-align: right;\">\n      <th></th>\n      <th>id</th>\n      <th>date</th>\n      <th>hour</th>\n      <th>ecg</th>\n      <th>heart_rate_alert</th>\n      <th>type</th>\n      <th>nightly_temperature</th>\n      <th>nremhr</th>\n      <th>spo2</th>\n      <th>rmssd</th>\n      <th>full_sleep_breathing_rate</th>\n      <th>deep_sleep_breathing_rate</th>\n      <th>light_sleep_breathing_rate</th>\n      <th>rem_sleep_breathing_rate</th>\n      <th>stress_score</th>\n      <th>sleep_points</th>\n      <th>responsiveness_points</th>\n      <th>exertion_points</th>\n      <th>wrist_temperature</th>\n    </tr>\n  </thead>\n  <tbody>\n    <tr>\n      <th>0</th>\n      <td>621e2ff067b776a2403eb737</td>\n      <td>2021-12-22</td>\n      <td>19</td>\n      <td>NSR</td>\n      <td>NONE</td>\n      <td>NaN</td>\n      <td>NaN</td>\n      <td>NaN</td>\n      <td>NaN</td>\n      <td>NaN</td>\n      <td>NaN</td>\n      <td>NaN</td>\n      <td>NaN</td>\n      <td>NaN</td>\n      <td>NaN</td>\n      <td>NaN</td>\n      <td>NaN</td>\n      <td>NaN</td>\n      <td>-4.726633</td>\n    </tr>\n    <tr>\n      <th>1</th>\n      <td>621e301367b776a24057738e</td>\n      <td>2021-06-08</td>\n      <td>21</td>\n      <td>NSR</td>\n      <td>NONE</td>\n      <td>NaN</td>\n      <td>NaN</td>\n      <td>NaN</td>\n      <td>NaN</td>\n      <td>NaN</td>\n      <td>NaN</td>\n      <td>NaN</td>\n      <td>NaN</td>\n      <td>NaN</td>\n      <td>NaN</td>\n      <td>NaN</td>\n      <td>NaN</td>\n      <td>NaN</td>\n      <td>NaN</td>\n    </tr>\n    <tr>\n      <th>2</th>\n      <td>621e312a67b776a240164d59</td>\n      <td>2021-10-07</td>\n      <td>17</td>\n      <td>NSR</td>\n      <td>NONE</td>\n      <td>NaN</td>\n      <td>NaN</td>\n      <td>NaN</td>\n      <td>NaN</td>\n      <td>NaN</td>\n      <td>NaN</td>\n      <td>NaN</td>\n      <td>NaN</td>\n      <td>NaN</td>\n      <td>NaN</td>\n      <td>NaN</td>\n      <td>NaN</td>\n      <td>NaN</td>\n      <td>NaN</td>\n    </tr>\n    <tr>\n      <th>3</th>\n      <td>621e312a67b776a240164d59</td>\n      <td>2021-10-10</td>\n      <td>20</td>\n      <td>NSR</td>\n      <td>NONE</td>\n      <td>NaN</td>\n      <td>NaN</td>\n      <td>NaN</td>\n      <td>NaN</td>\n      <td>NaN</td>\n      <td>NaN</td>\n      <td>NaN</td>\n      <td>NaN</td>\n      <td>NaN</td>\n      <td>NaN</td>\n      <td>NaN</td>\n      <td>NaN</td>\n      <td>NaN</td>\n      <td>-3.497025</td>\n    </tr>\n    <tr>\n      <th>4</th>\n      <td>621e326767b776a24012e179</td>\n      <td>2021-07-22</td>\n      <td>17</td>\n      <td>UNCLASSIFIABLE</td>\n      <td>NONE</td>\n      <td>NaN</td>\n      <td>NaN</td>\n      <td>NaN</td>\n      <td>NaN</td>\n      <td>NaN</td>\n      <td>NaN</td>\n      <td>NaN</td>\n      <td>NaN</td>\n      <td>NaN</td>\n      <td>NaN</td>\n      <td>NaN</td>\n      <td>NaN</td>\n      <td>NaN</td>\n      <td>0.120849</td>\n    </tr>\n    <tr>\n      <th>...</th>\n      <td>...</td>\n      <td>...</td>\n      <td>...</td>\n      <td>...</td>\n      <td>...</td>\n      <td>...</td>\n      <td>...</td>\n      <td>...</td>\n      <td>...</td>\n      <td>...</td>\n      <td>...</td>\n      <td>...</td>\n      <td>...</td>\n      <td>...</td>\n      <td>...</td>\n      <td>...</td>\n      <td>...</td>\n      <td>...</td>\n      <td>...</td>\n    </tr>\n    <tr>\n      <th>76169</th>\n      <td>621e375b67b776a240290cdc</td>\n      <td>2021-07-29</td>\n      <td>19</td>\n      <td>NaN</td>\n      <td>NaN</td>\n      <td>NaN</td>\n      <td>NaN</td>\n      <td>NaN</td>\n      <td>NaN</td>\n      <td>NaN</td>\n      <td>NaN</td>\n      <td>NaN</td>\n      <td>NaN</td>\n      <td>NaN</td>\n      <td>NaN</td>\n      <td>NaN</td>\n      <td>NaN</td>\n      <td>NaN</td>\n      <td>-1.698178</td>\n    </tr>\n    <tr>\n      <th>76170</th>\n      <td>621e375b67b776a240290cdc</td>\n      <td>2021-07-29</td>\n      <td>20</td>\n      <td>NaN</td>\n      <td>NaN</td>\n      <td>NaN</td>\n      <td>NaN</td>\n      <td>NaN</td>\n      <td>NaN</td>\n      <td>NaN</td>\n      <td>NaN</td>\n      <td>NaN</td>\n      <td>NaN</td>\n      <td>NaN</td>\n      <td>NaN</td>\n      <td>NaN</td>\n      <td>NaN</td>\n      <td>NaN</td>\n      <td>-3.432095</td>\n    </tr>\n    <tr>\n      <th>76171</th>\n      <td>621e375b67b776a240290cdc</td>\n      <td>2021-07-29</td>\n      <td>21</td>\n      <td>NaN</td>\n      <td>NaN</td>\n      <td>NaN</td>\n      <td>NaN</td>\n      <td>NaN</td>\n      <td>NaN</td>\n      <td>NaN</td>\n      <td>NaN</td>\n      <td>NaN</td>\n      <td>NaN</td>\n      <td>NaN</td>\n      <td>NaN</td>\n      <td>NaN</td>\n      <td>NaN</td>\n      <td>NaN</td>\n      <td>-2.635845</td>\n    </tr>\n    <tr>\n      <th>76172</th>\n      <td>621e375b67b776a240290cdc</td>\n      <td>2021-07-29</td>\n      <td>22</td>\n      <td>NaN</td>\n      <td>NaN</td>\n      <td>NaN</td>\n      <td>NaN</td>\n      <td>NaN</td>\n      <td>NaN</td>\n      <td>NaN</td>\n      <td>NaN</td>\n      <td>NaN</td>\n      <td>NaN</td>\n      <td>NaN</td>\n      <td>NaN</td>\n      <td>NaN</td>\n      <td>NaN</td>\n      <td>NaN</td>\n      <td>-1.439095</td>\n    </tr>\n    <tr>\n      <th>76173</th>\n      <td>621e375b67b776a240290cdc</td>\n      <td>2021-07-29</td>\n      <td>23</td>\n      <td>NaN</td>\n      <td>NaN</td>\n      <td>NaN</td>\n      <td>NaN</td>\n      <td>NaN</td>\n      <td>NaN</td>\n      <td>NaN</td>\n      <td>NaN</td>\n      <td>NaN</td>\n      <td>NaN</td>\n      <td>NaN</td>\n      <td>NaN</td>\n      <td>NaN</td>\n      <td>NaN</td>\n      <td>NaN</td>\n      <td>-2.740845</td>\n    </tr>\n  </tbody>\n</table>\n<p>76174 rows × 19 columns</p>\n</div>"
     },
     "execution_count": 20,
     "metadata": {},
     "output_type": "execute_result"
    }
   ],
   "source": [
    "wrist_temperature = pd.DataFrame(columns=[\"id\", \"data\"])\n",
    "\n",
    "# read and load from MongoDB\n",
    "for user in users:\n",
    "    user_data = pd.DataFrame(list(\n",
    "        db.fitbit.find({\"$and\": [\n",
    "            {\"type\": \"Wrist Temperature\"},\n",
    "            {\"id\": user}]},\n",
    "            {\"id\": 1, \"data.recorded_time\": 1, \"data.temperature\": 1, \"_id\": 0})))\n",
    "    wrist_temperature = pd.concat([wrist_temperature , user_data], axis=0)\n",
    "\n",
    "# split data column (json format) into two columns (df format)\n",
    "wrist_temperature[\"date\"] = wrist_temperature[\"data\"].apply(lambda d: d[\"recorded_time\"])\n",
    "wrist_temperature[\"wrist_temperature\"] = wrist_temperature[\"data\"].apply(lambda d: d[\"temperature\"])\n",
    "wrist_temperature.drop([\"data\"], inplace=True, axis=1)\n",
    "\n",
    "# process the datetime object, feature types and group and aggregate the data\n",
    "wrist_temperature = data_loading.date_conversion(wrist_temperature)\n",
    "wrist_temperature['wrist_temperature'] = pd.to_numeric(wrist_temperature['wrist_temperature'])\n",
    "wrist_temperature = data_loading.aggregate_column(wrist_temperature, list(wrist_temperature.columns))\n",
    "\n",
    "# merge with the final dataframe\n",
    "df = df.merge(wrist_temperature, how='outer', on=['id', 'date', 'hour'])\n",
    "df"
   ],
   "metadata": {
    "collapsed": false,
    "pycharm": {
     "name": "#%%\n"
    }
   }
  },
  {
   "cell_type": "markdown",
   "source": [
    "##### altitude"
   ],
   "metadata": {
    "collapsed": false,
    "pycharm": {
     "name": "#%% md\n"
    }
   }
  },
  {
   "cell_type": "code",
   "execution_count": 22,
   "outputs": [
    {
     "data": {
      "text/plain": "                             id       date  hour             ecg  \\\n0      621e2ff067b776a2403eb737 2021-12-22    19             NSR   \n1      621e301367b776a24057738e 2021-06-08    21             NSR   \n2      621e312a67b776a240164d59 2021-10-07    17             NSR   \n3      621e312a67b776a240164d59 2021-10-10    20             NSR   \n4      621e326767b776a24012e179 2021-07-22    17  UNCLASSIFIABLE   \n...                         ...        ...   ...             ...   \n83631  621e375b67b776a240290cdc 2021-08-01    18             NaN   \n83632  621e375b67b776a240290cdc 2021-08-01    19             NaN   \n83633  621e375b67b776a240290cdc 2021-08-01    21             NaN   \n83634  621e375b67b776a240290cdc 2021-08-01    22             NaN   \n83635  621e375b67b776a240290cdc 2021-08-02     0             NaN   \n\n      heart_rate_alert type  nightly_temperature  nremhr  spo2  rmssd  \\\n0                 NONE  NaN                  NaN     NaN   NaN    NaN   \n1                 NONE  NaN                  NaN     NaN   NaN    NaN   \n2                 NONE  NaN                  NaN     NaN   NaN    NaN   \n3                 NONE  NaN                  NaN     NaN   NaN    NaN   \n4                 NONE  NaN                  NaN     NaN   NaN    NaN   \n...                ...  ...                  ...     ...   ...    ...   \n83631              NaN  NaN                  NaN     NaN   NaN    NaN   \n83632              NaN  NaN                  NaN     NaN   NaN    NaN   \n83633              NaN  NaN                  NaN     NaN   NaN    NaN   \n83634              NaN  NaN                  NaN     NaN   NaN    NaN   \n83635              NaN  NaN                  NaN     NaN   NaN    NaN   \n\n       full_sleep_breathing_rate  deep_sleep_breathing_rate  \\\n0                            NaN                        NaN   \n1                            NaN                        NaN   \n2                            NaN                        NaN   \n3                            NaN                        NaN   \n4                            NaN                        NaN   \n...                          ...                        ...   \n83631                        NaN                        NaN   \n83632                        NaN                        NaN   \n83633                        NaN                        NaN   \n83634                        NaN                        NaN   \n83635                        NaN                        NaN   \n\n       light_sleep_breathing_rate  rem_sleep_breathing_rate  stress_score  \\\n0                             NaN                       NaN           NaN   \n1                             NaN                       NaN           NaN   \n2                             NaN                       NaN           NaN   \n3                             NaN                       NaN           NaN   \n4                             NaN                       NaN           NaN   \n...                           ...                       ...           ...   \n83631                         NaN                       NaN           NaN   \n83632                         NaN                       NaN           NaN   \n83633                         NaN                       NaN           NaN   \n83634                         NaN                       NaN           NaN   \n83635                         NaN                       NaN           NaN   \n\n       sleep_points  responsiveness_points  exertion_points  \\\n0               NaN                    NaN              NaN   \n1               NaN                    NaN              NaN   \n2               NaN                    NaN              NaN   \n3               NaN                    NaN              NaN   \n4               NaN                    NaN              NaN   \n...             ...                    ...              ...   \n83631           NaN                    NaN              NaN   \n83632           NaN                    NaN              NaN   \n83633           NaN                    NaN              NaN   \n83634           NaN                    NaN              NaN   \n83635           NaN                    NaN              NaN   \n\n       wrist_temperature  altitude  \n0              -4.726633      10.0  \n1                    NaN       NaN  \n2                    NaN       NaN  \n3              -3.497025      10.0  \n4               0.120849      10.0  \n...                  ...       ...  \n83631                NaN      10.0  \n83632                NaN      10.0  \n83633                NaN      10.0  \n83634                NaN      10.0  \n83635                NaN      10.0  \n\n[83636 rows x 20 columns]",
      "text/html": "<div>\n<style scoped>\n    .dataframe tbody tr th:only-of-type {\n        vertical-align: middle;\n    }\n\n    .dataframe tbody tr th {\n        vertical-align: top;\n    }\n\n    .dataframe thead th {\n        text-align: right;\n    }\n</style>\n<table border=\"1\" class=\"dataframe\">\n  <thead>\n    <tr style=\"text-align: right;\">\n      <th></th>\n      <th>id</th>\n      <th>date</th>\n      <th>hour</th>\n      <th>ecg</th>\n      <th>heart_rate_alert</th>\n      <th>type</th>\n      <th>nightly_temperature</th>\n      <th>nremhr</th>\n      <th>spo2</th>\n      <th>rmssd</th>\n      <th>full_sleep_breathing_rate</th>\n      <th>deep_sleep_breathing_rate</th>\n      <th>light_sleep_breathing_rate</th>\n      <th>rem_sleep_breathing_rate</th>\n      <th>stress_score</th>\n      <th>sleep_points</th>\n      <th>responsiveness_points</th>\n      <th>exertion_points</th>\n      <th>wrist_temperature</th>\n      <th>altitude</th>\n    </tr>\n  </thead>\n  <tbody>\n    <tr>\n      <th>0</th>\n      <td>621e2ff067b776a2403eb737</td>\n      <td>2021-12-22</td>\n      <td>19</td>\n      <td>NSR</td>\n      <td>NONE</td>\n      <td>NaN</td>\n      <td>NaN</td>\n      <td>NaN</td>\n      <td>NaN</td>\n      <td>NaN</td>\n      <td>NaN</td>\n      <td>NaN</td>\n      <td>NaN</td>\n      <td>NaN</td>\n      <td>NaN</td>\n      <td>NaN</td>\n      <td>NaN</td>\n      <td>NaN</td>\n      <td>-4.726633</td>\n      <td>10.0</td>\n    </tr>\n    <tr>\n      <th>1</th>\n      <td>621e301367b776a24057738e</td>\n      <td>2021-06-08</td>\n      <td>21</td>\n      <td>NSR</td>\n      <td>NONE</td>\n      <td>NaN</td>\n      <td>NaN</td>\n      <td>NaN</td>\n      <td>NaN</td>\n      <td>NaN</td>\n      <td>NaN</td>\n      <td>NaN</td>\n      <td>NaN</td>\n      <td>NaN</td>\n      <td>NaN</td>\n      <td>NaN</td>\n      <td>NaN</td>\n      <td>NaN</td>\n      <td>NaN</td>\n      <td>NaN</td>\n    </tr>\n    <tr>\n      <th>2</th>\n      <td>621e312a67b776a240164d59</td>\n      <td>2021-10-07</td>\n      <td>17</td>\n      <td>NSR</td>\n      <td>NONE</td>\n      <td>NaN</td>\n      <td>NaN</td>\n      <td>NaN</td>\n      <td>NaN</td>\n      <td>NaN</td>\n      <td>NaN</td>\n      <td>NaN</td>\n      <td>NaN</td>\n      <td>NaN</td>\n      <td>NaN</td>\n      <td>NaN</td>\n      <td>NaN</td>\n      <td>NaN</td>\n      <td>NaN</td>\n      <td>NaN</td>\n    </tr>\n    <tr>\n      <th>3</th>\n      <td>621e312a67b776a240164d59</td>\n      <td>2021-10-10</td>\n      <td>20</td>\n      <td>NSR</td>\n      <td>NONE</td>\n      <td>NaN</td>\n      <td>NaN</td>\n      <td>NaN</td>\n      <td>NaN</td>\n      <td>NaN</td>\n      <td>NaN</td>\n      <td>NaN</td>\n      <td>NaN</td>\n      <td>NaN</td>\n      <td>NaN</td>\n      <td>NaN</td>\n      <td>NaN</td>\n      <td>NaN</td>\n      <td>-3.497025</td>\n      <td>10.0</td>\n    </tr>\n    <tr>\n      <th>4</th>\n      <td>621e326767b776a24012e179</td>\n      <td>2021-07-22</td>\n      <td>17</td>\n      <td>UNCLASSIFIABLE</td>\n      <td>NONE</td>\n      <td>NaN</td>\n      <td>NaN</td>\n      <td>NaN</td>\n      <td>NaN</td>\n      <td>NaN</td>\n      <td>NaN</td>\n      <td>NaN</td>\n      <td>NaN</td>\n      <td>NaN</td>\n      <td>NaN</td>\n      <td>NaN</td>\n      <td>NaN</td>\n      <td>NaN</td>\n      <td>0.120849</td>\n      <td>10.0</td>\n    </tr>\n    <tr>\n      <th>...</th>\n      <td>...</td>\n      <td>...</td>\n      <td>...</td>\n      <td>...</td>\n      <td>...</td>\n      <td>...</td>\n      <td>...</td>\n      <td>...</td>\n      <td>...</td>\n      <td>...</td>\n      <td>...</td>\n      <td>...</td>\n      <td>...</td>\n      <td>...</td>\n      <td>...</td>\n      <td>...</td>\n      <td>...</td>\n      <td>...</td>\n      <td>...</td>\n      <td>...</td>\n    </tr>\n    <tr>\n      <th>83631</th>\n      <td>621e375b67b776a240290cdc</td>\n      <td>2021-08-01</td>\n      <td>18</td>\n      <td>NaN</td>\n      <td>NaN</td>\n      <td>NaN</td>\n      <td>NaN</td>\n      <td>NaN</td>\n      <td>NaN</td>\n      <td>NaN</td>\n      <td>NaN</td>\n      <td>NaN</td>\n      <td>NaN</td>\n      <td>NaN</td>\n      <td>NaN</td>\n      <td>NaN</td>\n      <td>NaN</td>\n      <td>NaN</td>\n      <td>NaN</td>\n      <td>10.0</td>\n    </tr>\n    <tr>\n      <th>83632</th>\n      <td>621e375b67b776a240290cdc</td>\n      <td>2021-08-01</td>\n      <td>19</td>\n      <td>NaN</td>\n      <td>NaN</td>\n      <td>NaN</td>\n      <td>NaN</td>\n      <td>NaN</td>\n      <td>NaN</td>\n      <td>NaN</td>\n      <td>NaN</td>\n      <td>NaN</td>\n      <td>NaN</td>\n      <td>NaN</td>\n      <td>NaN</td>\n      <td>NaN</td>\n      <td>NaN</td>\n      <td>NaN</td>\n      <td>NaN</td>\n      <td>10.0</td>\n    </tr>\n    <tr>\n      <th>83633</th>\n      <td>621e375b67b776a240290cdc</td>\n      <td>2021-08-01</td>\n      <td>21</td>\n      <td>NaN</td>\n      <td>NaN</td>\n      <td>NaN</td>\n      <td>NaN</td>\n      <td>NaN</td>\n      <td>NaN</td>\n      <td>NaN</td>\n      <td>NaN</td>\n      <td>NaN</td>\n      <td>NaN</td>\n      <td>NaN</td>\n      <td>NaN</td>\n      <td>NaN</td>\n      <td>NaN</td>\n      <td>NaN</td>\n      <td>NaN</td>\n      <td>10.0</td>\n    </tr>\n    <tr>\n      <th>83634</th>\n      <td>621e375b67b776a240290cdc</td>\n      <td>2021-08-01</td>\n      <td>22</td>\n      <td>NaN</td>\n      <td>NaN</td>\n      <td>NaN</td>\n      <td>NaN</td>\n      <td>NaN</td>\n      <td>NaN</td>\n      <td>NaN</td>\n      <td>NaN</td>\n      <td>NaN</td>\n      <td>NaN</td>\n      <td>NaN</td>\n      <td>NaN</td>\n      <td>NaN</td>\n      <td>NaN</td>\n      <td>NaN</td>\n      <td>NaN</td>\n      <td>10.0</td>\n    </tr>\n    <tr>\n      <th>83635</th>\n      <td>621e375b67b776a240290cdc</td>\n      <td>2021-08-02</td>\n      <td>0</td>\n      <td>NaN</td>\n      <td>NaN</td>\n      <td>NaN</td>\n      <td>NaN</td>\n      <td>NaN</td>\n      <td>NaN</td>\n      <td>NaN</td>\n      <td>NaN</td>\n      <td>NaN</td>\n      <td>NaN</td>\n      <td>NaN</td>\n      <td>NaN</td>\n      <td>NaN</td>\n      <td>NaN</td>\n      <td>NaN</td>\n      <td>NaN</td>\n      <td>10.0</td>\n    </tr>\n  </tbody>\n</table>\n<p>83636 rows × 20 columns</p>\n</div>"
     },
     "execution_count": 22,
     "metadata": {},
     "output_type": "execute_result"
    }
   ],
   "source": [
    "altitude = pd.DataFrame(columns=[\"id\", \"data\"])\n",
    "\n",
    "# read and load from MongoDB\n",
    "for user in users:\n",
    "    user_data = pd.DataFrame(list(\n",
    "        db.fitbit.find({\"$and\": [\n",
    "            {\"type\": \"altitude\"},\n",
    "            {\"id\": user}]},\n",
    "            {\"id\": 1, \"data.dateTime\": 1, \"data.value\": 1, \"_id\": 0})))\n",
    "    altitude = pd.concat([altitude , user_data], axis=0)\n",
    "\n",
    "# split data column (json format) into two columns (df format)\n",
    "altitude[\"date\"] = altitude[\"data\"].apply(lambda d: d[\"dateTime\"])\n",
    "altitude[\"altitude\"] = altitude[\"data\"].apply(lambda d: d[\"value\"])\n",
    "altitude.drop([\"data\"], inplace=True, axis=1)\n",
    "\n",
    "# process the datetime object, feature types and group and aggregate the data\n",
    "altitude = data_loading.date_conversion(altitude)\n",
    "altitude['altitude'] = pd.to_numeric(altitude['altitude'])\n",
    "altitude = data_loading.aggregate_column(altitude, list(altitude.columns))\n",
    "\n",
    "# merge with the final dataframe\n",
    "df = df.merge(altitude, how='outer', on=['id', 'date', 'hour'])\n",
    "df"
   ],
   "metadata": {
    "collapsed": false,
    "pycharm": {
     "name": "#%%\n"
    }
   }
  },
  {
   "cell_type": "markdown",
   "source": [
    "##### badge"
   ],
   "metadata": {
    "collapsed": false,
    "pycharm": {
     "name": "#%% md\n"
    }
   }
  },
  {
   "cell_type": "code",
   "execution_count": 24,
   "outputs": [
    {
     "data": {
      "text/plain": "                             id       date  hour             ecg  \\\n0      621e2ff067b776a2403eb737 2021-12-22    19             NSR   \n1      621e301367b776a24057738e 2021-06-08    21             NSR   \n2      621e312a67b776a240164d59 2021-10-07    17             NSR   \n3      621e312a67b776a240164d59 2021-10-10    20             NSR   \n4      621e326767b776a24012e179 2021-07-22    17  UNCLASSIFIABLE   \n...                         ...        ...   ...             ...   \n83761  621e375367b776a24021e950 2022-01-13     0             NaN   \n83762  621e375367b776a24021e950 2022-01-18     0             NaN   \n83763  621e375367b776a24021e950 2022-01-19     0             NaN   \n83764  621e375367b776a24021e950 2022-01-20     0             NaN   \n83765  621e375b67b776a240290cdc 2021-08-01     0             NaN   \n\n      heart_rate_alert type  nightly_temperature  nremhr  spo2  rmssd  ...  \\\n0                 NONE  NaN                  NaN     NaN   NaN    NaN  ...   \n1                 NONE  NaN                  NaN     NaN   NaN    NaN  ...   \n2                 NONE  NaN                  NaN     NaN   NaN    NaN  ...   \n3                 NONE  NaN                  NaN     NaN   NaN    NaN  ...   \n4                 NONE  NaN                  NaN     NaN   NaN    NaN  ...   \n...                ...  ...                  ...     ...   ...    ...  ...   \n83761              NaN  NaN                  NaN     NaN   NaN    NaN  ...   \n83762              NaN  NaN                  NaN     NaN   NaN    NaN  ...   \n83763              NaN  NaN                  NaN     NaN   NaN    NaN  ...   \n83764              NaN  NaN                  NaN     NaN   NaN    NaN  ...   \n83765              NaN  NaN                  NaN     NaN   NaN    NaN  ...   \n\n       light_sleep_breathing_rate  rem_sleep_breathing_rate  stress_score  \\\n0                             NaN                       NaN           NaN   \n1                             NaN                       NaN           NaN   \n2                             NaN                       NaN           NaN   \n3                             NaN                       NaN           NaN   \n4                             NaN                       NaN           NaN   \n...                           ...                       ...           ...   \n83761                         NaN                       NaN           NaN   \n83762                         NaN                       NaN           NaN   \n83763                         NaN                       NaN           NaN   \n83764                         NaN                       NaN           NaN   \n83765                         NaN                       NaN           NaN   \n\n       sleep_points  responsiveness_points  exertion_points  \\\n0               NaN                    NaN              NaN   \n1               NaN                    NaN              NaN   \n2               NaN                    NaN              NaN   \n3               NaN                    NaN              NaN   \n4               NaN                    NaN              NaN   \n...             ...                    ...              ...   \n83761           NaN                    NaN              NaN   \n83762           NaN                    NaN              NaN   \n83763           NaN                    NaN              NaN   \n83764           NaN                    NaN              NaN   \n83765           NaN                    NaN              NaN   \n\n       wrist_temperature  altitude       badge_type  badge_value  \n0              -4.726633      10.0              NaN          NaN  \n1                    NaN       NaN              NaN          NaN  \n2                    NaN       NaN              NaN          NaN  \n3              -3.497025      10.0              NaN          NaN  \n4               0.120849      10.0              NaN          NaN  \n...                  ...       ...              ...          ...  \n83761                NaN       NaN      DAILY_STEPS       5000.0  \n83762                NaN       NaN  LIFETIME_FLOORS       1000.0  \n83763                NaN       NaN     DAILY_FLOORS         25.0  \n83764                NaN       NaN     DAILY_FLOORS         10.0  \n83765                NaN       NaN      DAILY_STEPS       5000.0  \n\n[83766 rows x 22 columns]",
      "text/html": "<div>\n<style scoped>\n    .dataframe tbody tr th:only-of-type {\n        vertical-align: middle;\n    }\n\n    .dataframe tbody tr th {\n        vertical-align: top;\n    }\n\n    .dataframe thead th {\n        text-align: right;\n    }\n</style>\n<table border=\"1\" class=\"dataframe\">\n  <thead>\n    <tr style=\"text-align: right;\">\n      <th></th>\n      <th>id</th>\n      <th>date</th>\n      <th>hour</th>\n      <th>ecg</th>\n      <th>heart_rate_alert</th>\n      <th>type</th>\n      <th>nightly_temperature</th>\n      <th>nremhr</th>\n      <th>spo2</th>\n      <th>rmssd</th>\n      <th>...</th>\n      <th>light_sleep_breathing_rate</th>\n      <th>rem_sleep_breathing_rate</th>\n      <th>stress_score</th>\n      <th>sleep_points</th>\n      <th>responsiveness_points</th>\n      <th>exertion_points</th>\n      <th>wrist_temperature</th>\n      <th>altitude</th>\n      <th>badge_type</th>\n      <th>badge_value</th>\n    </tr>\n  </thead>\n  <tbody>\n    <tr>\n      <th>0</th>\n      <td>621e2ff067b776a2403eb737</td>\n      <td>2021-12-22</td>\n      <td>19</td>\n      <td>NSR</td>\n      <td>NONE</td>\n      <td>NaN</td>\n      <td>NaN</td>\n      <td>NaN</td>\n      <td>NaN</td>\n      <td>NaN</td>\n      <td>...</td>\n      <td>NaN</td>\n      <td>NaN</td>\n      <td>NaN</td>\n      <td>NaN</td>\n      <td>NaN</td>\n      <td>NaN</td>\n      <td>-4.726633</td>\n      <td>10.0</td>\n      <td>NaN</td>\n      <td>NaN</td>\n    </tr>\n    <tr>\n      <th>1</th>\n      <td>621e301367b776a24057738e</td>\n      <td>2021-06-08</td>\n      <td>21</td>\n      <td>NSR</td>\n      <td>NONE</td>\n      <td>NaN</td>\n      <td>NaN</td>\n      <td>NaN</td>\n      <td>NaN</td>\n      <td>NaN</td>\n      <td>...</td>\n      <td>NaN</td>\n      <td>NaN</td>\n      <td>NaN</td>\n      <td>NaN</td>\n      <td>NaN</td>\n      <td>NaN</td>\n      <td>NaN</td>\n      <td>NaN</td>\n      <td>NaN</td>\n      <td>NaN</td>\n    </tr>\n    <tr>\n      <th>2</th>\n      <td>621e312a67b776a240164d59</td>\n      <td>2021-10-07</td>\n      <td>17</td>\n      <td>NSR</td>\n      <td>NONE</td>\n      <td>NaN</td>\n      <td>NaN</td>\n      <td>NaN</td>\n      <td>NaN</td>\n      <td>NaN</td>\n      <td>...</td>\n      <td>NaN</td>\n      <td>NaN</td>\n      <td>NaN</td>\n      <td>NaN</td>\n      <td>NaN</td>\n      <td>NaN</td>\n      <td>NaN</td>\n      <td>NaN</td>\n      <td>NaN</td>\n      <td>NaN</td>\n    </tr>\n    <tr>\n      <th>3</th>\n      <td>621e312a67b776a240164d59</td>\n      <td>2021-10-10</td>\n      <td>20</td>\n      <td>NSR</td>\n      <td>NONE</td>\n      <td>NaN</td>\n      <td>NaN</td>\n      <td>NaN</td>\n      <td>NaN</td>\n      <td>NaN</td>\n      <td>...</td>\n      <td>NaN</td>\n      <td>NaN</td>\n      <td>NaN</td>\n      <td>NaN</td>\n      <td>NaN</td>\n      <td>NaN</td>\n      <td>-3.497025</td>\n      <td>10.0</td>\n      <td>NaN</td>\n      <td>NaN</td>\n    </tr>\n    <tr>\n      <th>4</th>\n      <td>621e326767b776a24012e179</td>\n      <td>2021-07-22</td>\n      <td>17</td>\n      <td>UNCLASSIFIABLE</td>\n      <td>NONE</td>\n      <td>NaN</td>\n      <td>NaN</td>\n      <td>NaN</td>\n      <td>NaN</td>\n      <td>NaN</td>\n      <td>...</td>\n      <td>NaN</td>\n      <td>NaN</td>\n      <td>NaN</td>\n      <td>NaN</td>\n      <td>NaN</td>\n      <td>NaN</td>\n      <td>0.120849</td>\n      <td>10.0</td>\n      <td>NaN</td>\n      <td>NaN</td>\n    </tr>\n    <tr>\n      <th>...</th>\n      <td>...</td>\n      <td>...</td>\n      <td>...</td>\n      <td>...</td>\n      <td>...</td>\n      <td>...</td>\n      <td>...</td>\n      <td>...</td>\n      <td>...</td>\n      <td>...</td>\n      <td>...</td>\n      <td>...</td>\n      <td>...</td>\n      <td>...</td>\n      <td>...</td>\n      <td>...</td>\n      <td>...</td>\n      <td>...</td>\n      <td>...</td>\n      <td>...</td>\n      <td>...</td>\n    </tr>\n    <tr>\n      <th>83761</th>\n      <td>621e375367b776a24021e950</td>\n      <td>2022-01-13</td>\n      <td>0</td>\n      <td>NaN</td>\n      <td>NaN</td>\n      <td>NaN</td>\n      <td>NaN</td>\n      <td>NaN</td>\n      <td>NaN</td>\n      <td>NaN</td>\n      <td>...</td>\n      <td>NaN</td>\n      <td>NaN</td>\n      <td>NaN</td>\n      <td>NaN</td>\n      <td>NaN</td>\n      <td>NaN</td>\n      <td>NaN</td>\n      <td>NaN</td>\n      <td>DAILY_STEPS</td>\n      <td>5000.0</td>\n    </tr>\n    <tr>\n      <th>83762</th>\n      <td>621e375367b776a24021e950</td>\n      <td>2022-01-18</td>\n      <td>0</td>\n      <td>NaN</td>\n      <td>NaN</td>\n      <td>NaN</td>\n      <td>NaN</td>\n      <td>NaN</td>\n      <td>NaN</td>\n      <td>NaN</td>\n      <td>...</td>\n      <td>NaN</td>\n      <td>NaN</td>\n      <td>NaN</td>\n      <td>NaN</td>\n      <td>NaN</td>\n      <td>NaN</td>\n      <td>NaN</td>\n      <td>NaN</td>\n      <td>LIFETIME_FLOORS</td>\n      <td>1000.0</td>\n    </tr>\n    <tr>\n      <th>83763</th>\n      <td>621e375367b776a24021e950</td>\n      <td>2022-01-19</td>\n      <td>0</td>\n      <td>NaN</td>\n      <td>NaN</td>\n      <td>NaN</td>\n      <td>NaN</td>\n      <td>NaN</td>\n      <td>NaN</td>\n      <td>NaN</td>\n      <td>...</td>\n      <td>NaN</td>\n      <td>NaN</td>\n      <td>NaN</td>\n      <td>NaN</td>\n      <td>NaN</td>\n      <td>NaN</td>\n      <td>NaN</td>\n      <td>NaN</td>\n      <td>DAILY_FLOORS</td>\n      <td>25.0</td>\n    </tr>\n    <tr>\n      <th>83764</th>\n      <td>621e375367b776a24021e950</td>\n      <td>2022-01-20</td>\n      <td>0</td>\n      <td>NaN</td>\n      <td>NaN</td>\n      <td>NaN</td>\n      <td>NaN</td>\n      <td>NaN</td>\n      <td>NaN</td>\n      <td>NaN</td>\n      <td>...</td>\n      <td>NaN</td>\n      <td>NaN</td>\n      <td>NaN</td>\n      <td>NaN</td>\n      <td>NaN</td>\n      <td>NaN</td>\n      <td>NaN</td>\n      <td>NaN</td>\n      <td>DAILY_FLOORS</td>\n      <td>10.0</td>\n    </tr>\n    <tr>\n      <th>83765</th>\n      <td>621e375b67b776a240290cdc</td>\n      <td>2021-08-01</td>\n      <td>0</td>\n      <td>NaN</td>\n      <td>NaN</td>\n      <td>NaN</td>\n      <td>NaN</td>\n      <td>NaN</td>\n      <td>NaN</td>\n      <td>NaN</td>\n      <td>...</td>\n      <td>NaN</td>\n      <td>NaN</td>\n      <td>NaN</td>\n      <td>NaN</td>\n      <td>NaN</td>\n      <td>NaN</td>\n      <td>NaN</td>\n      <td>NaN</td>\n      <td>DAILY_STEPS</td>\n      <td>5000.0</td>\n    </tr>\n  </tbody>\n</table>\n<p>83766 rows × 22 columns</p>\n</div>"
     },
     "execution_count": 24,
     "metadata": {},
     "output_type": "execute_result"
    }
   ],
   "source": [
    "badge = pd.DataFrame(columns=[\"id\", \"data\"])\n",
    "\n",
    "# read and load from MongoDB\n",
    "for user in users:\n",
    "    user_data = pd.DataFrame(list(\n",
    "        db.fitbit.find({\"$and\": [\n",
    "            {\"type\": \"badge\"},\n",
    "            {\"id\": user}]},\n",
    "            {\"id\": 1, \"data.dateTime\": 1, \"data.badgeType\": 1, \"data.value\": 1, \"_id\": 0})))\n",
    "    badge = pd.concat([badge , user_data], axis=0)\n",
    "\n",
    "# split data column (json format) into two columns (df format)\n",
    "badge[\"date\"] = badge[\"data\"].apply(lambda d: d[\"dateTime\"])\n",
    "badge[\"badge_type\"] = badge[\"data\"].apply(lambda d: d[\"badgeType\"])\n",
    "badge[\"badge_value\"] = badge[\"data\"].apply(lambda d: d[\"value\"])\n",
    "badge.drop([\"data\"], inplace=True, axis=1)\n",
    "\n",
    "# process the datetime object, feature types and group and aggregate the data\n",
    "badge = data_loading.date_conversion(badge)\n",
    "badge['badge_value'] = pd.to_numeric(badge['badge_value'])\n",
    "badge = data_loading.aggregate_column(badge, list(badge.columns))\n",
    "\n",
    "# merge with the final dataframe\n",
    "df = df.merge(badge, how='outer', on=['id', 'date', 'hour'])\n",
    "df"
   ],
   "metadata": {
    "collapsed": false,
    "pycharm": {
     "name": "#%%\n"
    }
   }
  },
  {
   "cell_type": "markdown",
   "source": [
    "##### calories"
   ],
   "metadata": {
    "collapsed": false,
    "pycharm": {
     "name": "#%% md\n"
    }
   }
  },
  {
   "cell_type": "code",
   "execution_count": 26,
   "outputs": [
    {
     "data": {
      "text/plain": "                              id       date  hour             ecg  \\\n0       621e2ff067b776a2403eb737 2021-12-22    19             NSR   \n1       621e301367b776a24057738e 2021-06-08    21             NSR   \n2       621e312a67b776a240164d59 2021-10-07    17             NSR   \n3       621e312a67b776a240164d59 2021-10-10    20             NSR   \n4       621e326767b776a24012e179 2021-07-22    17  UNCLASSIFIABLE   \n...                          ...        ...   ...             ...   \n159014  621e375b67b776a240290cdc 2021-08-17     7             NaN   \n159015  621e375b67b776a240290cdc 2021-08-17     8             NaN   \n159016  621e375b67b776a240290cdc 2021-08-17     9             NaN   \n159017  621e375b67b776a240290cdc 2021-08-17    10             NaN   \n159018  621e375b67b776a240290cdc 2021-08-17    11             NaN   \n\n       heart_rate_alert type  nightly_temperature  nremhr  spo2  rmssd  ...  \\\n0                  NONE  NaN                  NaN     NaN   NaN    NaN  ...   \n1                  NONE  NaN                  NaN     NaN   NaN    NaN  ...   \n2                  NONE  NaN                  NaN     NaN   NaN    NaN  ...   \n3                  NONE  NaN                  NaN     NaN   NaN    NaN  ...   \n4                  NONE  NaN                  NaN     NaN   NaN    NaN  ...   \n...                 ...  ...                  ...     ...   ...    ...  ...   \n159014              NaN  NaN                  NaN     NaN   NaN    NaN  ...   \n159015              NaN  NaN                  NaN     NaN   NaN    NaN  ...   \n159016              NaN  NaN                  NaN     NaN   NaN    NaN  ...   \n159017              NaN  NaN                  NaN     NaN   NaN    NaN  ...   \n159018              NaN  NaN                  NaN     NaN   NaN    NaN  ...   \n\n        rem_sleep_breathing_rate  stress_score  sleep_points  \\\n0                            NaN           NaN           NaN   \n1                            NaN           NaN           NaN   \n2                            NaN           NaN           NaN   \n3                            NaN           NaN           NaN   \n4                            NaN           NaN           NaN   \n...                          ...           ...           ...   \n159014                       NaN           NaN           NaN   \n159015                       NaN           NaN           NaN   \n159016                       NaN           NaN           NaN   \n159017                       NaN           NaN           NaN   \n159018                       NaN           NaN           NaN   \n\n        responsiveness_points  exertion_points  wrist_temperature  altitude  \\\n0                         NaN              NaN          -4.726633      10.0   \n1                         NaN              NaN                NaN       NaN   \n2                         NaN              NaN                NaN       NaN   \n3                         NaN              NaN          -3.497025      10.0   \n4                         NaN              NaN           0.120849      10.0   \n...                       ...              ...                ...       ...   \n159014                    NaN              NaN                NaN       NaN   \n159015                    NaN              NaN                NaN       NaN   \n159016                    NaN              NaN                NaN       NaN   \n159017                    NaN              NaN                NaN       NaN   \n159018                    NaN              NaN                NaN       NaN   \n\n        badge_type  badge_value  calories  \n0              NaN          NaN  1.641667  \n1              NaN          NaN  1.616667  \n2              NaN          NaN  1.290000  \n3              NaN          NaN  4.222833  \n4              NaN          NaN  0.977667  \n...            ...          ...       ...  \n159014         NaN          NaN  0.900000  \n159015         NaN          NaN  0.900000  \n159016         NaN          NaN  0.900000  \n159017         NaN          NaN  0.900000  \n159018         NaN          NaN  0.900000  \n\n[159019 rows x 23 columns]",
      "text/html": "<div>\n<style scoped>\n    .dataframe tbody tr th:only-of-type {\n        vertical-align: middle;\n    }\n\n    .dataframe tbody tr th {\n        vertical-align: top;\n    }\n\n    .dataframe thead th {\n        text-align: right;\n    }\n</style>\n<table border=\"1\" class=\"dataframe\">\n  <thead>\n    <tr style=\"text-align: right;\">\n      <th></th>\n      <th>id</th>\n      <th>date</th>\n      <th>hour</th>\n      <th>ecg</th>\n      <th>heart_rate_alert</th>\n      <th>type</th>\n      <th>nightly_temperature</th>\n      <th>nremhr</th>\n      <th>spo2</th>\n      <th>rmssd</th>\n      <th>...</th>\n      <th>rem_sleep_breathing_rate</th>\n      <th>stress_score</th>\n      <th>sleep_points</th>\n      <th>responsiveness_points</th>\n      <th>exertion_points</th>\n      <th>wrist_temperature</th>\n      <th>altitude</th>\n      <th>badge_type</th>\n      <th>badge_value</th>\n      <th>calories</th>\n    </tr>\n  </thead>\n  <tbody>\n    <tr>\n      <th>0</th>\n      <td>621e2ff067b776a2403eb737</td>\n      <td>2021-12-22</td>\n      <td>19</td>\n      <td>NSR</td>\n      <td>NONE</td>\n      <td>NaN</td>\n      <td>NaN</td>\n      <td>NaN</td>\n      <td>NaN</td>\n      <td>NaN</td>\n      <td>...</td>\n      <td>NaN</td>\n      <td>NaN</td>\n      <td>NaN</td>\n      <td>NaN</td>\n      <td>NaN</td>\n      <td>-4.726633</td>\n      <td>10.0</td>\n      <td>NaN</td>\n      <td>NaN</td>\n      <td>1.641667</td>\n    </tr>\n    <tr>\n      <th>1</th>\n      <td>621e301367b776a24057738e</td>\n      <td>2021-06-08</td>\n      <td>21</td>\n      <td>NSR</td>\n      <td>NONE</td>\n      <td>NaN</td>\n      <td>NaN</td>\n      <td>NaN</td>\n      <td>NaN</td>\n      <td>NaN</td>\n      <td>...</td>\n      <td>NaN</td>\n      <td>NaN</td>\n      <td>NaN</td>\n      <td>NaN</td>\n      <td>NaN</td>\n      <td>NaN</td>\n      <td>NaN</td>\n      <td>NaN</td>\n      <td>NaN</td>\n      <td>1.616667</td>\n    </tr>\n    <tr>\n      <th>2</th>\n      <td>621e312a67b776a240164d59</td>\n      <td>2021-10-07</td>\n      <td>17</td>\n      <td>NSR</td>\n      <td>NONE</td>\n      <td>NaN</td>\n      <td>NaN</td>\n      <td>NaN</td>\n      <td>NaN</td>\n      <td>NaN</td>\n      <td>...</td>\n      <td>NaN</td>\n      <td>NaN</td>\n      <td>NaN</td>\n      <td>NaN</td>\n      <td>NaN</td>\n      <td>NaN</td>\n      <td>NaN</td>\n      <td>NaN</td>\n      <td>NaN</td>\n      <td>1.290000</td>\n    </tr>\n    <tr>\n      <th>3</th>\n      <td>621e312a67b776a240164d59</td>\n      <td>2021-10-10</td>\n      <td>20</td>\n      <td>NSR</td>\n      <td>NONE</td>\n      <td>NaN</td>\n      <td>NaN</td>\n      <td>NaN</td>\n      <td>NaN</td>\n      <td>NaN</td>\n      <td>...</td>\n      <td>NaN</td>\n      <td>NaN</td>\n      <td>NaN</td>\n      <td>NaN</td>\n      <td>NaN</td>\n      <td>-3.497025</td>\n      <td>10.0</td>\n      <td>NaN</td>\n      <td>NaN</td>\n      <td>4.222833</td>\n    </tr>\n    <tr>\n      <th>4</th>\n      <td>621e326767b776a24012e179</td>\n      <td>2021-07-22</td>\n      <td>17</td>\n      <td>UNCLASSIFIABLE</td>\n      <td>NONE</td>\n      <td>NaN</td>\n      <td>NaN</td>\n      <td>NaN</td>\n      <td>NaN</td>\n      <td>NaN</td>\n      <td>...</td>\n      <td>NaN</td>\n      <td>NaN</td>\n      <td>NaN</td>\n      <td>NaN</td>\n      <td>NaN</td>\n      <td>0.120849</td>\n      <td>10.0</td>\n      <td>NaN</td>\n      <td>NaN</td>\n      <td>0.977667</td>\n    </tr>\n    <tr>\n      <th>...</th>\n      <td>...</td>\n      <td>...</td>\n      <td>...</td>\n      <td>...</td>\n      <td>...</td>\n      <td>...</td>\n      <td>...</td>\n      <td>...</td>\n      <td>...</td>\n      <td>...</td>\n      <td>...</td>\n      <td>...</td>\n      <td>...</td>\n      <td>...</td>\n      <td>...</td>\n      <td>...</td>\n      <td>...</td>\n      <td>...</td>\n      <td>...</td>\n      <td>...</td>\n      <td>...</td>\n    </tr>\n    <tr>\n      <th>159014</th>\n      <td>621e375b67b776a240290cdc</td>\n      <td>2021-08-17</td>\n      <td>7</td>\n      <td>NaN</td>\n      <td>NaN</td>\n      <td>NaN</td>\n      <td>NaN</td>\n      <td>NaN</td>\n      <td>NaN</td>\n      <td>NaN</td>\n      <td>...</td>\n      <td>NaN</td>\n      <td>NaN</td>\n      <td>NaN</td>\n      <td>NaN</td>\n      <td>NaN</td>\n      <td>NaN</td>\n      <td>NaN</td>\n      <td>NaN</td>\n      <td>NaN</td>\n      <td>0.900000</td>\n    </tr>\n    <tr>\n      <th>159015</th>\n      <td>621e375b67b776a240290cdc</td>\n      <td>2021-08-17</td>\n      <td>8</td>\n      <td>NaN</td>\n      <td>NaN</td>\n      <td>NaN</td>\n      <td>NaN</td>\n      <td>NaN</td>\n      <td>NaN</td>\n      <td>NaN</td>\n      <td>...</td>\n      <td>NaN</td>\n      <td>NaN</td>\n      <td>NaN</td>\n      <td>NaN</td>\n      <td>NaN</td>\n      <td>NaN</td>\n      <td>NaN</td>\n      <td>NaN</td>\n      <td>NaN</td>\n      <td>0.900000</td>\n    </tr>\n    <tr>\n      <th>159016</th>\n      <td>621e375b67b776a240290cdc</td>\n      <td>2021-08-17</td>\n      <td>9</td>\n      <td>NaN</td>\n      <td>NaN</td>\n      <td>NaN</td>\n      <td>NaN</td>\n      <td>NaN</td>\n      <td>NaN</td>\n      <td>NaN</td>\n      <td>...</td>\n      <td>NaN</td>\n      <td>NaN</td>\n      <td>NaN</td>\n      <td>NaN</td>\n      <td>NaN</td>\n      <td>NaN</td>\n      <td>NaN</td>\n      <td>NaN</td>\n      <td>NaN</td>\n      <td>0.900000</td>\n    </tr>\n    <tr>\n      <th>159017</th>\n      <td>621e375b67b776a240290cdc</td>\n      <td>2021-08-17</td>\n      <td>10</td>\n      <td>NaN</td>\n      <td>NaN</td>\n      <td>NaN</td>\n      <td>NaN</td>\n      <td>NaN</td>\n      <td>NaN</td>\n      <td>NaN</td>\n      <td>...</td>\n      <td>NaN</td>\n      <td>NaN</td>\n      <td>NaN</td>\n      <td>NaN</td>\n      <td>NaN</td>\n      <td>NaN</td>\n      <td>NaN</td>\n      <td>NaN</td>\n      <td>NaN</td>\n      <td>0.900000</td>\n    </tr>\n    <tr>\n      <th>159018</th>\n      <td>621e375b67b776a240290cdc</td>\n      <td>2021-08-17</td>\n      <td>11</td>\n      <td>NaN</td>\n      <td>NaN</td>\n      <td>NaN</td>\n      <td>NaN</td>\n      <td>NaN</td>\n      <td>NaN</td>\n      <td>NaN</td>\n      <td>...</td>\n      <td>NaN</td>\n      <td>NaN</td>\n      <td>NaN</td>\n      <td>NaN</td>\n      <td>NaN</td>\n      <td>NaN</td>\n      <td>NaN</td>\n      <td>NaN</td>\n      <td>NaN</td>\n      <td>0.900000</td>\n    </tr>\n  </tbody>\n</table>\n<p>159019 rows × 23 columns</p>\n</div>"
     },
     "execution_count": 26,
     "metadata": {},
     "output_type": "execute_result"
    }
   ],
   "source": [
    "calories = pd.DataFrame(columns=[\"id\", \"data\"])\n",
    "\n",
    "# read and load from MongoDB\n",
    "for user in users:\n",
    "    user_data = pd.DataFrame(list(\n",
    "        db.fitbit.find({\"$and\": [\n",
    "            {\"type\": \"calories\"},\n",
    "            {\"id\": user}]},\n",
    "            {\"id\": 1, \"data.dateTime\": 1, \"data.value\": 1, \"_id\": 0})))\n",
    "    calories = pd.concat([calories , user_data], axis=0)\n",
    "\n",
    "# split data column (json format) into two columns (df format)\n",
    "calories[\"date\"] = calories[\"data\"].apply(lambda d: d[\"dateTime\"])\n",
    "calories[\"calories\"] = calories[\"data\"].apply(lambda d: d[\"value\"])\n",
    "calories.drop([\"data\"], inplace=True, axis=1)\n",
    "\n",
    "# process the datetime object, feature types and group and aggregate the data\n",
    "calories = data_loading.date_conversion(calories)\n",
    "calories['calories'] = pd.to_numeric(calories['calories'])\n",
    "calories = data_loading.aggregate_column(calories, list(calories.columns))\n",
    "\n",
    "# merge with the final dataframe\n",
    "df = df.merge(calories, how='outer', on=['id', 'date', 'hour'])\n",
    "df"
   ],
   "metadata": {
    "collapsed": false,
    "pycharm": {
     "name": "#%%\n"
    }
   }
  },
  {
   "cell_type": "code",
   "execution_count": 27,
   "outputs": [],
   "source": [
    "df.to_pickle(\"data/temp_after_calories.pkl\")"
   ],
   "metadata": {
    "collapsed": false,
    "pycharm": {
     "name": "#%%\n"
    }
   }
  },
  {
   "cell_type": "code",
   "execution_count": 5,
   "outputs": [],
   "source": [
    "df = pd.read_pickle(\"data/temp_after_calories.pkl\")"
   ],
   "metadata": {
    "collapsed": false,
    "pycharm": {
     "name": "#%%\n"
    }
   }
  },
  {
   "cell_type": "markdown",
   "source": [
    "##### demographic_vo2_max"
   ],
   "metadata": {
    "collapsed": false,
    "pycharm": {
     "name": "#%% md\n"
    }
   }
  },
  {
   "cell_type": "code",
   "execution_count": 8,
   "outputs": [
    {
     "data": {
      "text/plain": "                              id       date  hour             ecg  \\\n0       621e2ff067b776a2403eb737 2021-12-22    19             NSR   \n1       621e301367b776a24057738e 2021-06-08    21             NSR   \n2       621e312a67b776a240164d59 2021-10-07    17             NSR   \n3       621e312a67b776a240164d59 2021-10-10    20             NSR   \n4       621e326767b776a24012e179 2021-07-22    17  UNCLASSIFIABLE   \n...                          ...        ...   ...             ...   \n159014  621e375b67b776a240290cdc 2021-08-17     7             NaN   \n159015  621e375b67b776a240290cdc 2021-08-17     8             NaN   \n159016  621e375b67b776a240290cdc 2021-08-17     9             NaN   \n159017  621e375b67b776a240290cdc 2021-08-17    10             NaN   \n159018  621e375b67b776a240290cdc 2021-08-17    11             NaN   \n\n       heart_rate_alert type  nightly_temperature  nremhr  spo2  rmssd  ...  \\\n0                  NONE  NaN                  NaN     NaN   NaN    NaN  ...   \n1                  NONE  NaN                  NaN     NaN   NaN    NaN  ...   \n2                  NONE  NaN                  NaN     NaN   NaN    NaN  ...   \n3                  NONE  NaN                  NaN     NaN   NaN    NaN  ...   \n4                  NONE  NaN                  NaN     NaN   NaN    NaN  ...   \n...                 ...  ...                  ...     ...   ...    ...  ...   \n159014              NaN  NaN                  NaN     NaN   NaN    NaN  ...   \n159015              NaN  NaN                  NaN     NaN   NaN    NaN  ...   \n159016              NaN  NaN                  NaN     NaN   NaN    NaN  ...   \n159017              NaN  NaN                  NaN     NaN   NaN    NaN  ...   \n159018              NaN  NaN                  NaN     NaN   NaN    NaN  ...   \n\n        stress_score  sleep_points  responsiveness_points  exertion_points  \\\n0                NaN           NaN                    NaN              NaN   \n1                NaN           NaN                    NaN              NaN   \n2                NaN           NaN                    NaN              NaN   \n3                NaN           NaN                    NaN              NaN   \n4                NaN           NaN                    NaN              NaN   \n...              ...           ...                    ...              ...   \n159014           NaN           NaN                    NaN              NaN   \n159015           NaN           NaN                    NaN              NaN   \n159016           NaN           NaN                    NaN              NaN   \n159017           NaN           NaN                    NaN              NaN   \n159018           NaN           NaN                    NaN              NaN   \n\n        wrist_temperature  altitude  badge_type  badge_value  calories  vo2max  \n0               -4.726633      10.0         NaN          NaN  1.641667     NaN  \n1                     NaN       NaN         NaN          NaN  1.616667     NaN  \n2                     NaN       NaN         NaN          NaN  1.290000     NaN  \n3               -3.497025      10.0         NaN          NaN  4.222833     NaN  \n4                0.120849      10.0         NaN          NaN  0.977667     NaN  \n...                   ...       ...         ...          ...       ...     ...  \n159014                NaN       NaN         NaN          NaN  0.900000     NaN  \n159015                NaN       NaN         NaN          NaN  0.900000     NaN  \n159016                NaN       NaN         NaN          NaN  0.900000     NaN  \n159017                NaN       NaN         NaN          NaN  0.900000     NaN  \n159018                NaN       NaN         NaN          NaN  0.900000     NaN  \n\n[159019 rows x 24 columns]",
      "text/html": "<div>\n<style scoped>\n    .dataframe tbody tr th:only-of-type {\n        vertical-align: middle;\n    }\n\n    .dataframe tbody tr th {\n        vertical-align: top;\n    }\n\n    .dataframe thead th {\n        text-align: right;\n    }\n</style>\n<table border=\"1\" class=\"dataframe\">\n  <thead>\n    <tr style=\"text-align: right;\">\n      <th></th>\n      <th>id</th>\n      <th>date</th>\n      <th>hour</th>\n      <th>ecg</th>\n      <th>heart_rate_alert</th>\n      <th>type</th>\n      <th>nightly_temperature</th>\n      <th>nremhr</th>\n      <th>spo2</th>\n      <th>rmssd</th>\n      <th>...</th>\n      <th>stress_score</th>\n      <th>sleep_points</th>\n      <th>responsiveness_points</th>\n      <th>exertion_points</th>\n      <th>wrist_temperature</th>\n      <th>altitude</th>\n      <th>badge_type</th>\n      <th>badge_value</th>\n      <th>calories</th>\n      <th>vo2max</th>\n    </tr>\n  </thead>\n  <tbody>\n    <tr>\n      <th>0</th>\n      <td>621e2ff067b776a2403eb737</td>\n      <td>2021-12-22</td>\n      <td>19</td>\n      <td>NSR</td>\n      <td>NONE</td>\n      <td>NaN</td>\n      <td>NaN</td>\n      <td>NaN</td>\n      <td>NaN</td>\n      <td>NaN</td>\n      <td>...</td>\n      <td>NaN</td>\n      <td>NaN</td>\n      <td>NaN</td>\n      <td>NaN</td>\n      <td>-4.726633</td>\n      <td>10.0</td>\n      <td>NaN</td>\n      <td>NaN</td>\n      <td>1.641667</td>\n      <td>NaN</td>\n    </tr>\n    <tr>\n      <th>1</th>\n      <td>621e301367b776a24057738e</td>\n      <td>2021-06-08</td>\n      <td>21</td>\n      <td>NSR</td>\n      <td>NONE</td>\n      <td>NaN</td>\n      <td>NaN</td>\n      <td>NaN</td>\n      <td>NaN</td>\n      <td>NaN</td>\n      <td>...</td>\n      <td>NaN</td>\n      <td>NaN</td>\n      <td>NaN</td>\n      <td>NaN</td>\n      <td>NaN</td>\n      <td>NaN</td>\n      <td>NaN</td>\n      <td>NaN</td>\n      <td>1.616667</td>\n      <td>NaN</td>\n    </tr>\n    <tr>\n      <th>2</th>\n      <td>621e312a67b776a240164d59</td>\n      <td>2021-10-07</td>\n      <td>17</td>\n      <td>NSR</td>\n      <td>NONE</td>\n      <td>NaN</td>\n      <td>NaN</td>\n      <td>NaN</td>\n      <td>NaN</td>\n      <td>NaN</td>\n      <td>...</td>\n      <td>NaN</td>\n      <td>NaN</td>\n      <td>NaN</td>\n      <td>NaN</td>\n      <td>NaN</td>\n      <td>NaN</td>\n      <td>NaN</td>\n      <td>NaN</td>\n      <td>1.290000</td>\n      <td>NaN</td>\n    </tr>\n    <tr>\n      <th>3</th>\n      <td>621e312a67b776a240164d59</td>\n      <td>2021-10-10</td>\n      <td>20</td>\n      <td>NSR</td>\n      <td>NONE</td>\n      <td>NaN</td>\n      <td>NaN</td>\n      <td>NaN</td>\n      <td>NaN</td>\n      <td>NaN</td>\n      <td>...</td>\n      <td>NaN</td>\n      <td>NaN</td>\n      <td>NaN</td>\n      <td>NaN</td>\n      <td>-3.497025</td>\n      <td>10.0</td>\n      <td>NaN</td>\n      <td>NaN</td>\n      <td>4.222833</td>\n      <td>NaN</td>\n    </tr>\n    <tr>\n      <th>4</th>\n      <td>621e326767b776a24012e179</td>\n      <td>2021-07-22</td>\n      <td>17</td>\n      <td>UNCLASSIFIABLE</td>\n      <td>NONE</td>\n      <td>NaN</td>\n      <td>NaN</td>\n      <td>NaN</td>\n      <td>NaN</td>\n      <td>NaN</td>\n      <td>...</td>\n      <td>NaN</td>\n      <td>NaN</td>\n      <td>NaN</td>\n      <td>NaN</td>\n      <td>0.120849</td>\n      <td>10.0</td>\n      <td>NaN</td>\n      <td>NaN</td>\n      <td>0.977667</td>\n      <td>NaN</td>\n    </tr>\n    <tr>\n      <th>...</th>\n      <td>...</td>\n      <td>...</td>\n      <td>...</td>\n      <td>...</td>\n      <td>...</td>\n      <td>...</td>\n      <td>...</td>\n      <td>...</td>\n      <td>...</td>\n      <td>...</td>\n      <td>...</td>\n      <td>...</td>\n      <td>...</td>\n      <td>...</td>\n      <td>...</td>\n      <td>...</td>\n      <td>...</td>\n      <td>...</td>\n      <td>...</td>\n      <td>...</td>\n      <td>...</td>\n    </tr>\n    <tr>\n      <th>159014</th>\n      <td>621e375b67b776a240290cdc</td>\n      <td>2021-08-17</td>\n      <td>7</td>\n      <td>NaN</td>\n      <td>NaN</td>\n      <td>NaN</td>\n      <td>NaN</td>\n      <td>NaN</td>\n      <td>NaN</td>\n      <td>NaN</td>\n      <td>...</td>\n      <td>NaN</td>\n      <td>NaN</td>\n      <td>NaN</td>\n      <td>NaN</td>\n      <td>NaN</td>\n      <td>NaN</td>\n      <td>NaN</td>\n      <td>NaN</td>\n      <td>0.900000</td>\n      <td>NaN</td>\n    </tr>\n    <tr>\n      <th>159015</th>\n      <td>621e375b67b776a240290cdc</td>\n      <td>2021-08-17</td>\n      <td>8</td>\n      <td>NaN</td>\n      <td>NaN</td>\n      <td>NaN</td>\n      <td>NaN</td>\n      <td>NaN</td>\n      <td>NaN</td>\n      <td>NaN</td>\n      <td>...</td>\n      <td>NaN</td>\n      <td>NaN</td>\n      <td>NaN</td>\n      <td>NaN</td>\n      <td>NaN</td>\n      <td>NaN</td>\n      <td>NaN</td>\n      <td>NaN</td>\n      <td>0.900000</td>\n      <td>NaN</td>\n    </tr>\n    <tr>\n      <th>159016</th>\n      <td>621e375b67b776a240290cdc</td>\n      <td>2021-08-17</td>\n      <td>9</td>\n      <td>NaN</td>\n      <td>NaN</td>\n      <td>NaN</td>\n      <td>NaN</td>\n      <td>NaN</td>\n      <td>NaN</td>\n      <td>NaN</td>\n      <td>...</td>\n      <td>NaN</td>\n      <td>NaN</td>\n      <td>NaN</td>\n      <td>NaN</td>\n      <td>NaN</td>\n      <td>NaN</td>\n      <td>NaN</td>\n      <td>NaN</td>\n      <td>0.900000</td>\n      <td>NaN</td>\n    </tr>\n    <tr>\n      <th>159017</th>\n      <td>621e375b67b776a240290cdc</td>\n      <td>2021-08-17</td>\n      <td>10</td>\n      <td>NaN</td>\n      <td>NaN</td>\n      <td>NaN</td>\n      <td>NaN</td>\n      <td>NaN</td>\n      <td>NaN</td>\n      <td>NaN</td>\n      <td>...</td>\n      <td>NaN</td>\n      <td>NaN</td>\n      <td>NaN</td>\n      <td>NaN</td>\n      <td>NaN</td>\n      <td>NaN</td>\n      <td>NaN</td>\n      <td>NaN</td>\n      <td>0.900000</td>\n      <td>NaN</td>\n    </tr>\n    <tr>\n      <th>159018</th>\n      <td>621e375b67b776a240290cdc</td>\n      <td>2021-08-17</td>\n      <td>11</td>\n      <td>NaN</td>\n      <td>NaN</td>\n      <td>NaN</td>\n      <td>NaN</td>\n      <td>NaN</td>\n      <td>NaN</td>\n      <td>NaN</td>\n      <td>...</td>\n      <td>NaN</td>\n      <td>NaN</td>\n      <td>NaN</td>\n      <td>NaN</td>\n      <td>NaN</td>\n      <td>NaN</td>\n      <td>NaN</td>\n      <td>NaN</td>\n      <td>0.900000</td>\n      <td>NaN</td>\n    </tr>\n  </tbody>\n</table>\n<p>159019 rows × 24 columns</p>\n</div>"
     },
     "execution_count": 8,
     "metadata": {},
     "output_type": "execute_result"
    }
   ],
   "source": [
    "vo2max = pd.DataFrame(columns=[\"id\", \"data\"])\n",
    "\n",
    "# read and load from MongoDB\n",
    "for user in users:\n",
    "    user_data = pd.DataFrame(list(\n",
    "        db.fitbit.find({\"$and\": [\n",
    "            {\"type\": \"demographic_vo2_max\"},\n",
    "            {\"id\": user}]},\n",
    "            {\"id\": 1, \"data.value.filteredDemographicVO2Max\": 1, \"data.dateTime\": 1, \"_id\": 0})))\n",
    "    vo2max = pd.concat([vo2max , user_data], axis=0)\n",
    "\n",
    "# split data column (json format) into two columns (df format)\n",
    "vo2max[\"date\"] = vo2max[\"data\"].apply(lambda d: d[\"dateTime\"])\n",
    "vo2max[\"vo2max\"] = vo2max[\"data\"].apply(lambda d: d[\"value\"].get(\"filteredDemographicVO2Max\"))\n",
    "vo2max.drop([\"data\"], inplace=True, axis=1)\n",
    "\n",
    "# process the datetime object, feature types and group and aggregate the data\n",
    "vo2max = data_loading.date_conversion(vo2max)\n",
    "vo2max['vo2max'] = pd.to_numeric(vo2max['vo2max'])\n",
    "vo2max = data_loading.aggregate_column(vo2max, list(vo2max.columns))\n",
    "\n",
    "# merge with the final dataframe\n",
    "df = df.merge(vo2max, how='outer', on=['id', 'date', 'hour'])\n",
    "df"
   ],
   "metadata": {
    "collapsed": false,
    "pycharm": {
     "name": "#%%\n"
    }
   }
  },
  {
   "cell_type": "markdown",
   "source": [
    "##### distance"
   ],
   "metadata": {
    "collapsed": false,
    "pycharm": {
     "name": "#%% md\n"
    }
   }
  },
  {
   "cell_type": "code",
   "execution_count": 9,
   "outputs": [
    {
     "data": {
      "text/plain": "                              id       date  hour             ecg  \\\n0       621e2ff067b776a2403eb737 2021-12-22    19             NSR   \n1       621e301367b776a24057738e 2021-06-08    21             NSR   \n2       621e312a67b776a240164d59 2021-10-07    17             NSR   \n3       621e312a67b776a240164d59 2021-10-10    20             NSR   \n4       621e326767b776a24012e179 2021-07-22    17  UNCLASSIFIABLE   \n...                          ...        ...   ...             ...   \n159014  621e375b67b776a240290cdc 2021-08-17     7             NaN   \n159015  621e375b67b776a240290cdc 2021-08-17     8             NaN   \n159016  621e375b67b776a240290cdc 2021-08-17     9             NaN   \n159017  621e375b67b776a240290cdc 2021-08-17    10             NaN   \n159018  621e375b67b776a240290cdc 2021-08-17    11             NaN   \n\n       heart_rate_alert type  nightly_temperature  nremhr  spo2  rmssd  ...  \\\n0                  NONE  NaN                  NaN     NaN   NaN    NaN  ...   \n1                  NONE  NaN                  NaN     NaN   NaN    NaN  ...   \n2                  NONE  NaN                  NaN     NaN   NaN    NaN  ...   \n3                  NONE  NaN                  NaN     NaN   NaN    NaN  ...   \n4                  NONE  NaN                  NaN     NaN   NaN    NaN  ...   \n...                 ...  ...                  ...     ...   ...    ...  ...   \n159014              NaN  NaN                  NaN     NaN   NaN    NaN  ...   \n159015              NaN  NaN                  NaN     NaN   NaN    NaN  ...   \n159016              NaN  NaN                  NaN     NaN   NaN    NaN  ...   \n159017              NaN  NaN                  NaN     NaN   NaN    NaN  ...   \n159018              NaN  NaN                  NaN     NaN   NaN    NaN  ...   \n\n        sleep_points  responsiveness_points  exertion_points  \\\n0                NaN                    NaN              NaN   \n1                NaN                    NaN              NaN   \n2                NaN                    NaN              NaN   \n3                NaN                    NaN              NaN   \n4                NaN                    NaN              NaN   \n...              ...                    ...              ...   \n159014           NaN                    NaN              NaN   \n159015           NaN                    NaN              NaN   \n159016           NaN                    NaN              NaN   \n159017           NaN                    NaN              NaN   \n159018           NaN                    NaN              NaN   \n\n        wrist_temperature  altitude  badge_type  badge_value  calories  \\\n0               -4.726633      10.0         NaN          NaN  1.641667   \n1                     NaN       NaN         NaN          NaN  1.616667   \n2                     NaN       NaN         NaN          NaN  1.290000   \n3               -3.497025      10.0         NaN          NaN  4.222833   \n4                0.120849      10.0         NaN          NaN  0.977667   \n...                   ...       ...         ...          ...       ...   \n159014                NaN       NaN         NaN          NaN  0.900000   \n159015                NaN       NaN         NaN          NaN  0.900000   \n159016                NaN       NaN         NaN          NaN  0.900000   \n159017                NaN       NaN         NaN          NaN  0.900000   \n159018                NaN       NaN         NaN          NaN  0.900000   \n\n        vo2max  distance  \n0          NaN       0.0  \n1          NaN       0.0  \n2          NaN       0.0  \n3          NaN       0.0  \n4          NaN       0.0  \n...        ...       ...  \n159014     NaN       NaN  \n159015     NaN       NaN  \n159016     NaN       NaN  \n159017     NaN       NaN  \n159018     NaN       NaN  \n\n[159019 rows x 25 columns]",
      "text/html": "<div>\n<style scoped>\n    .dataframe tbody tr th:only-of-type {\n        vertical-align: middle;\n    }\n\n    .dataframe tbody tr th {\n        vertical-align: top;\n    }\n\n    .dataframe thead th {\n        text-align: right;\n    }\n</style>\n<table border=\"1\" class=\"dataframe\">\n  <thead>\n    <tr style=\"text-align: right;\">\n      <th></th>\n      <th>id</th>\n      <th>date</th>\n      <th>hour</th>\n      <th>ecg</th>\n      <th>heart_rate_alert</th>\n      <th>type</th>\n      <th>nightly_temperature</th>\n      <th>nremhr</th>\n      <th>spo2</th>\n      <th>rmssd</th>\n      <th>...</th>\n      <th>sleep_points</th>\n      <th>responsiveness_points</th>\n      <th>exertion_points</th>\n      <th>wrist_temperature</th>\n      <th>altitude</th>\n      <th>badge_type</th>\n      <th>badge_value</th>\n      <th>calories</th>\n      <th>vo2max</th>\n      <th>distance</th>\n    </tr>\n  </thead>\n  <tbody>\n    <tr>\n      <th>0</th>\n      <td>621e2ff067b776a2403eb737</td>\n      <td>2021-12-22</td>\n      <td>19</td>\n      <td>NSR</td>\n      <td>NONE</td>\n      <td>NaN</td>\n      <td>NaN</td>\n      <td>NaN</td>\n      <td>NaN</td>\n      <td>NaN</td>\n      <td>...</td>\n      <td>NaN</td>\n      <td>NaN</td>\n      <td>NaN</td>\n      <td>-4.726633</td>\n      <td>10.0</td>\n      <td>NaN</td>\n      <td>NaN</td>\n      <td>1.641667</td>\n      <td>NaN</td>\n      <td>0.0</td>\n    </tr>\n    <tr>\n      <th>1</th>\n      <td>621e301367b776a24057738e</td>\n      <td>2021-06-08</td>\n      <td>21</td>\n      <td>NSR</td>\n      <td>NONE</td>\n      <td>NaN</td>\n      <td>NaN</td>\n      <td>NaN</td>\n      <td>NaN</td>\n      <td>NaN</td>\n      <td>...</td>\n      <td>NaN</td>\n      <td>NaN</td>\n      <td>NaN</td>\n      <td>NaN</td>\n      <td>NaN</td>\n      <td>NaN</td>\n      <td>NaN</td>\n      <td>1.616667</td>\n      <td>NaN</td>\n      <td>0.0</td>\n    </tr>\n    <tr>\n      <th>2</th>\n      <td>621e312a67b776a240164d59</td>\n      <td>2021-10-07</td>\n      <td>17</td>\n      <td>NSR</td>\n      <td>NONE</td>\n      <td>NaN</td>\n      <td>NaN</td>\n      <td>NaN</td>\n      <td>NaN</td>\n      <td>NaN</td>\n      <td>...</td>\n      <td>NaN</td>\n      <td>NaN</td>\n      <td>NaN</td>\n      <td>NaN</td>\n      <td>NaN</td>\n      <td>NaN</td>\n      <td>NaN</td>\n      <td>1.290000</td>\n      <td>NaN</td>\n      <td>0.0</td>\n    </tr>\n    <tr>\n      <th>3</th>\n      <td>621e312a67b776a240164d59</td>\n      <td>2021-10-10</td>\n      <td>20</td>\n      <td>NSR</td>\n      <td>NONE</td>\n      <td>NaN</td>\n      <td>NaN</td>\n      <td>NaN</td>\n      <td>NaN</td>\n      <td>NaN</td>\n      <td>...</td>\n      <td>NaN</td>\n      <td>NaN</td>\n      <td>NaN</td>\n      <td>-3.497025</td>\n      <td>10.0</td>\n      <td>NaN</td>\n      <td>NaN</td>\n      <td>4.222833</td>\n      <td>NaN</td>\n      <td>0.0</td>\n    </tr>\n    <tr>\n      <th>4</th>\n      <td>621e326767b776a24012e179</td>\n      <td>2021-07-22</td>\n      <td>17</td>\n      <td>UNCLASSIFIABLE</td>\n      <td>NONE</td>\n      <td>NaN</td>\n      <td>NaN</td>\n      <td>NaN</td>\n      <td>NaN</td>\n      <td>NaN</td>\n      <td>...</td>\n      <td>NaN</td>\n      <td>NaN</td>\n      <td>NaN</td>\n      <td>0.120849</td>\n      <td>10.0</td>\n      <td>NaN</td>\n      <td>NaN</td>\n      <td>0.977667</td>\n      <td>NaN</td>\n      <td>0.0</td>\n    </tr>\n    <tr>\n      <th>...</th>\n      <td>...</td>\n      <td>...</td>\n      <td>...</td>\n      <td>...</td>\n      <td>...</td>\n      <td>...</td>\n      <td>...</td>\n      <td>...</td>\n      <td>...</td>\n      <td>...</td>\n      <td>...</td>\n      <td>...</td>\n      <td>...</td>\n      <td>...</td>\n      <td>...</td>\n      <td>...</td>\n      <td>...</td>\n      <td>...</td>\n      <td>...</td>\n      <td>...</td>\n      <td>...</td>\n    </tr>\n    <tr>\n      <th>159014</th>\n      <td>621e375b67b776a240290cdc</td>\n      <td>2021-08-17</td>\n      <td>7</td>\n      <td>NaN</td>\n      <td>NaN</td>\n      <td>NaN</td>\n      <td>NaN</td>\n      <td>NaN</td>\n      <td>NaN</td>\n      <td>NaN</td>\n      <td>...</td>\n      <td>NaN</td>\n      <td>NaN</td>\n      <td>NaN</td>\n      <td>NaN</td>\n      <td>NaN</td>\n      <td>NaN</td>\n      <td>NaN</td>\n      <td>0.900000</td>\n      <td>NaN</td>\n      <td>NaN</td>\n    </tr>\n    <tr>\n      <th>159015</th>\n      <td>621e375b67b776a240290cdc</td>\n      <td>2021-08-17</td>\n      <td>8</td>\n      <td>NaN</td>\n      <td>NaN</td>\n      <td>NaN</td>\n      <td>NaN</td>\n      <td>NaN</td>\n      <td>NaN</td>\n      <td>NaN</td>\n      <td>...</td>\n      <td>NaN</td>\n      <td>NaN</td>\n      <td>NaN</td>\n      <td>NaN</td>\n      <td>NaN</td>\n      <td>NaN</td>\n      <td>NaN</td>\n      <td>0.900000</td>\n      <td>NaN</td>\n      <td>NaN</td>\n    </tr>\n    <tr>\n      <th>159016</th>\n      <td>621e375b67b776a240290cdc</td>\n      <td>2021-08-17</td>\n      <td>9</td>\n      <td>NaN</td>\n      <td>NaN</td>\n      <td>NaN</td>\n      <td>NaN</td>\n      <td>NaN</td>\n      <td>NaN</td>\n      <td>NaN</td>\n      <td>...</td>\n      <td>NaN</td>\n      <td>NaN</td>\n      <td>NaN</td>\n      <td>NaN</td>\n      <td>NaN</td>\n      <td>NaN</td>\n      <td>NaN</td>\n      <td>0.900000</td>\n      <td>NaN</td>\n      <td>NaN</td>\n    </tr>\n    <tr>\n      <th>159017</th>\n      <td>621e375b67b776a240290cdc</td>\n      <td>2021-08-17</td>\n      <td>10</td>\n      <td>NaN</td>\n      <td>NaN</td>\n      <td>NaN</td>\n      <td>NaN</td>\n      <td>NaN</td>\n      <td>NaN</td>\n      <td>NaN</td>\n      <td>...</td>\n      <td>NaN</td>\n      <td>NaN</td>\n      <td>NaN</td>\n      <td>NaN</td>\n      <td>NaN</td>\n      <td>NaN</td>\n      <td>NaN</td>\n      <td>0.900000</td>\n      <td>NaN</td>\n      <td>NaN</td>\n    </tr>\n    <tr>\n      <th>159018</th>\n      <td>621e375b67b776a240290cdc</td>\n      <td>2021-08-17</td>\n      <td>11</td>\n      <td>NaN</td>\n      <td>NaN</td>\n      <td>NaN</td>\n      <td>NaN</td>\n      <td>NaN</td>\n      <td>NaN</td>\n      <td>NaN</td>\n      <td>...</td>\n      <td>NaN</td>\n      <td>NaN</td>\n      <td>NaN</td>\n      <td>NaN</td>\n      <td>NaN</td>\n      <td>NaN</td>\n      <td>NaN</td>\n      <td>0.900000</td>\n      <td>NaN</td>\n      <td>NaN</td>\n    </tr>\n  </tbody>\n</table>\n<p>159019 rows × 25 columns</p>\n</div>"
     },
     "execution_count": 9,
     "metadata": {},
     "output_type": "execute_result"
    }
   ],
   "source": [
    "distance = pd.DataFrame(columns=[\"id\", \"data\"])\n",
    "\n",
    "# read and load from MongoDB\n",
    "for user in users:\n",
    "    user_data = pd.DataFrame(list(\n",
    "        db.fitbit.find({\"$and\": [\n",
    "            {\"type\": \"distance\"},\n",
    "            {\"id\": user}]},\n",
    "            {\"id\": 1, \"data.dateTime\": 1, \"data.value\": 1, \"_id\": 0})))\n",
    "    distance = pd.concat([distance , user_data], axis=0)\n",
    "\n",
    "# split data column (json format) into two columns (df format)\n",
    "distance[\"date\"] = distance[\"data\"].apply(lambda d: d[\"dateTime\"])\n",
    "distance[\"distance\"] = distance[\"data\"].apply(lambda d: d[\"value\"])\n",
    "distance.drop([\"data\"], inplace=True, axis=1)\n",
    "\n",
    "# process the datetime object, feature types and group and aggregate the data\n",
    "distance = data_loading.date_conversion(distance)\n",
    "distance['distance'] = pd.to_numeric(distance['distance'])\n",
    "distance = data_loading.aggregate_column(distance, list(distance.columns))\n",
    "\n",
    "# merge with the final dataframe\n",
    "df = df.merge(distance, how='outer', on=['id', 'date', 'hour'])\n",
    "df"
   ],
   "metadata": {
    "collapsed": false,
    "pycharm": {
     "name": "#%%\n"
    }
   }
  },
  {
   "cell_type": "markdown",
   "source": [
    "##### estimated_oxygen_variation"
   ],
   "metadata": {
    "collapsed": false,
    "pycharm": {
     "name": "#%% md\n"
    }
   }
  },
  {
   "cell_type": "code",
   "execution_count": 11,
   "outputs": [
    {
     "data": {
      "text/plain": "                              id       date  hour             ecg  \\\n0       621e2ff067b776a2403eb737 2021-12-22    19             NSR   \n1       621e301367b776a24057738e 2021-06-08    21             NSR   \n2       621e312a67b776a240164d59 2021-10-07    17             NSR   \n3       621e312a67b776a240164d59 2021-10-10    20             NSR   \n4       621e326767b776a24012e179 2021-07-22    17  UNCLASSIFIABLE   \n...                          ...        ...   ...             ...   \n159014  621e375b67b776a240290cdc 2021-08-17     7             NaN   \n159015  621e375b67b776a240290cdc 2021-08-17     8             NaN   \n159016  621e375b67b776a240290cdc 2021-08-17     9             NaN   \n159017  621e375b67b776a240290cdc 2021-08-17    10             NaN   \n159018  621e375b67b776a240290cdc 2021-08-17    11             NaN   \n\n       heart_rate_alert type  nightly_temperature  nremhr  spo2  rmssd  ...  \\\n0                  NONE  NaN                  NaN     NaN   NaN    NaN  ...   \n1                  NONE  NaN                  NaN     NaN   NaN    NaN  ...   \n2                  NONE  NaN                  NaN     NaN   NaN    NaN  ...   \n3                  NONE  NaN                  NaN     NaN   NaN    NaN  ...   \n4                  NONE  NaN                  NaN     NaN   NaN    NaN  ...   \n...                 ...  ...                  ...     ...   ...    ...  ...   \n159014              NaN  NaN                  NaN     NaN   NaN    NaN  ...   \n159015              NaN  NaN                  NaN     NaN   NaN    NaN  ...   \n159016              NaN  NaN                  NaN     NaN   NaN    NaN  ...   \n159017              NaN  NaN                  NaN     NaN   NaN    NaN  ...   \n159018              NaN  NaN                  NaN     NaN   NaN    NaN  ...   \n\n        exertion_points  wrist_temperature  altitude  badge_type  badge_value  \\\n0                   NaN          -4.726633      10.0         NaN          NaN   \n1                   NaN                NaN       NaN         NaN          NaN   \n2                   NaN                NaN       NaN         NaN          NaN   \n3                   NaN          -3.497025      10.0         NaN          NaN   \n4                   NaN           0.120849      10.0         NaN          NaN   \n...                 ...                ...       ...         ...          ...   \n159014              NaN                NaN       NaN         NaN          NaN   \n159015              NaN                NaN       NaN         NaN          NaN   \n159016              NaN                NaN       NaN         NaN          NaN   \n159017              NaN                NaN       NaN         NaN          NaN   \n159018              NaN                NaN       NaN         NaN          NaN   \n\n        calories  vo2max  distance  oxygen_variation_x  oxygen_variation_y  \n0       1.641667     NaN       0.0                 NaN                 NaN  \n1       1.616667     NaN       0.0                 NaN                 NaN  \n2       1.290000     NaN       0.0                 NaN                 NaN  \n3       4.222833     NaN       0.0                 NaN                 NaN  \n4       0.977667     NaN       0.0                 0.0                 0.0  \n...          ...     ...       ...                 ...                 ...  \n159014  0.900000     NaN       NaN                 NaN                 NaN  \n159015  0.900000     NaN       NaN                 NaN                 NaN  \n159016  0.900000     NaN       NaN                 NaN                 NaN  \n159017  0.900000     NaN       NaN                 NaN                 NaN  \n159018  0.900000     NaN       NaN                 NaN                 NaN  \n\n[159019 rows x 27 columns]",
      "text/html": "<div>\n<style scoped>\n    .dataframe tbody tr th:only-of-type {\n        vertical-align: middle;\n    }\n\n    .dataframe tbody tr th {\n        vertical-align: top;\n    }\n\n    .dataframe thead th {\n        text-align: right;\n    }\n</style>\n<table border=\"1\" class=\"dataframe\">\n  <thead>\n    <tr style=\"text-align: right;\">\n      <th></th>\n      <th>id</th>\n      <th>date</th>\n      <th>hour</th>\n      <th>ecg</th>\n      <th>heart_rate_alert</th>\n      <th>type</th>\n      <th>nightly_temperature</th>\n      <th>nremhr</th>\n      <th>spo2</th>\n      <th>rmssd</th>\n      <th>...</th>\n      <th>exertion_points</th>\n      <th>wrist_temperature</th>\n      <th>altitude</th>\n      <th>badge_type</th>\n      <th>badge_value</th>\n      <th>calories</th>\n      <th>vo2max</th>\n      <th>distance</th>\n      <th>oxygen_variation_x</th>\n      <th>oxygen_variation_y</th>\n    </tr>\n  </thead>\n  <tbody>\n    <tr>\n      <th>0</th>\n      <td>621e2ff067b776a2403eb737</td>\n      <td>2021-12-22</td>\n      <td>19</td>\n      <td>NSR</td>\n      <td>NONE</td>\n      <td>NaN</td>\n      <td>NaN</td>\n      <td>NaN</td>\n      <td>NaN</td>\n      <td>NaN</td>\n      <td>...</td>\n      <td>NaN</td>\n      <td>-4.726633</td>\n      <td>10.0</td>\n      <td>NaN</td>\n      <td>NaN</td>\n      <td>1.641667</td>\n      <td>NaN</td>\n      <td>0.0</td>\n      <td>NaN</td>\n      <td>NaN</td>\n    </tr>\n    <tr>\n      <th>1</th>\n      <td>621e301367b776a24057738e</td>\n      <td>2021-06-08</td>\n      <td>21</td>\n      <td>NSR</td>\n      <td>NONE</td>\n      <td>NaN</td>\n      <td>NaN</td>\n      <td>NaN</td>\n      <td>NaN</td>\n      <td>NaN</td>\n      <td>...</td>\n      <td>NaN</td>\n      <td>NaN</td>\n      <td>NaN</td>\n      <td>NaN</td>\n      <td>NaN</td>\n      <td>1.616667</td>\n      <td>NaN</td>\n      <td>0.0</td>\n      <td>NaN</td>\n      <td>NaN</td>\n    </tr>\n    <tr>\n      <th>2</th>\n      <td>621e312a67b776a240164d59</td>\n      <td>2021-10-07</td>\n      <td>17</td>\n      <td>NSR</td>\n      <td>NONE</td>\n      <td>NaN</td>\n      <td>NaN</td>\n      <td>NaN</td>\n      <td>NaN</td>\n      <td>NaN</td>\n      <td>...</td>\n      <td>NaN</td>\n      <td>NaN</td>\n      <td>NaN</td>\n      <td>NaN</td>\n      <td>NaN</td>\n      <td>1.290000</td>\n      <td>NaN</td>\n      <td>0.0</td>\n      <td>NaN</td>\n      <td>NaN</td>\n    </tr>\n    <tr>\n      <th>3</th>\n      <td>621e312a67b776a240164d59</td>\n      <td>2021-10-10</td>\n      <td>20</td>\n      <td>NSR</td>\n      <td>NONE</td>\n      <td>NaN</td>\n      <td>NaN</td>\n      <td>NaN</td>\n      <td>NaN</td>\n      <td>NaN</td>\n      <td>...</td>\n      <td>NaN</td>\n      <td>-3.497025</td>\n      <td>10.0</td>\n      <td>NaN</td>\n      <td>NaN</td>\n      <td>4.222833</td>\n      <td>NaN</td>\n      <td>0.0</td>\n      <td>NaN</td>\n      <td>NaN</td>\n    </tr>\n    <tr>\n      <th>4</th>\n      <td>621e326767b776a24012e179</td>\n      <td>2021-07-22</td>\n      <td>17</td>\n      <td>UNCLASSIFIABLE</td>\n      <td>NONE</td>\n      <td>NaN</td>\n      <td>NaN</td>\n      <td>NaN</td>\n      <td>NaN</td>\n      <td>NaN</td>\n      <td>...</td>\n      <td>NaN</td>\n      <td>0.120849</td>\n      <td>10.0</td>\n      <td>NaN</td>\n      <td>NaN</td>\n      <td>0.977667</td>\n      <td>NaN</td>\n      <td>0.0</td>\n      <td>0.0</td>\n      <td>0.0</td>\n    </tr>\n    <tr>\n      <th>...</th>\n      <td>...</td>\n      <td>...</td>\n      <td>...</td>\n      <td>...</td>\n      <td>...</td>\n      <td>...</td>\n      <td>...</td>\n      <td>...</td>\n      <td>...</td>\n      <td>...</td>\n      <td>...</td>\n      <td>...</td>\n      <td>...</td>\n      <td>...</td>\n      <td>...</td>\n      <td>...</td>\n      <td>...</td>\n      <td>...</td>\n      <td>...</td>\n      <td>...</td>\n      <td>...</td>\n    </tr>\n    <tr>\n      <th>159014</th>\n      <td>621e375b67b776a240290cdc</td>\n      <td>2021-08-17</td>\n      <td>7</td>\n      <td>NaN</td>\n      <td>NaN</td>\n      <td>NaN</td>\n      <td>NaN</td>\n      <td>NaN</td>\n      <td>NaN</td>\n      <td>NaN</td>\n      <td>...</td>\n      <td>NaN</td>\n      <td>NaN</td>\n      <td>NaN</td>\n      <td>NaN</td>\n      <td>NaN</td>\n      <td>0.900000</td>\n      <td>NaN</td>\n      <td>NaN</td>\n      <td>NaN</td>\n      <td>NaN</td>\n    </tr>\n    <tr>\n      <th>159015</th>\n      <td>621e375b67b776a240290cdc</td>\n      <td>2021-08-17</td>\n      <td>8</td>\n      <td>NaN</td>\n      <td>NaN</td>\n      <td>NaN</td>\n      <td>NaN</td>\n      <td>NaN</td>\n      <td>NaN</td>\n      <td>NaN</td>\n      <td>...</td>\n      <td>NaN</td>\n      <td>NaN</td>\n      <td>NaN</td>\n      <td>NaN</td>\n      <td>NaN</td>\n      <td>0.900000</td>\n      <td>NaN</td>\n      <td>NaN</td>\n      <td>NaN</td>\n      <td>NaN</td>\n    </tr>\n    <tr>\n      <th>159016</th>\n      <td>621e375b67b776a240290cdc</td>\n      <td>2021-08-17</td>\n      <td>9</td>\n      <td>NaN</td>\n      <td>NaN</td>\n      <td>NaN</td>\n      <td>NaN</td>\n      <td>NaN</td>\n      <td>NaN</td>\n      <td>NaN</td>\n      <td>...</td>\n      <td>NaN</td>\n      <td>NaN</td>\n      <td>NaN</td>\n      <td>NaN</td>\n      <td>NaN</td>\n      <td>0.900000</td>\n      <td>NaN</td>\n      <td>NaN</td>\n      <td>NaN</td>\n      <td>NaN</td>\n    </tr>\n    <tr>\n      <th>159017</th>\n      <td>621e375b67b776a240290cdc</td>\n      <td>2021-08-17</td>\n      <td>10</td>\n      <td>NaN</td>\n      <td>NaN</td>\n      <td>NaN</td>\n      <td>NaN</td>\n      <td>NaN</td>\n      <td>NaN</td>\n      <td>NaN</td>\n      <td>...</td>\n      <td>NaN</td>\n      <td>NaN</td>\n      <td>NaN</td>\n      <td>NaN</td>\n      <td>NaN</td>\n      <td>0.900000</td>\n      <td>NaN</td>\n      <td>NaN</td>\n      <td>NaN</td>\n      <td>NaN</td>\n    </tr>\n    <tr>\n      <th>159018</th>\n      <td>621e375b67b776a240290cdc</td>\n      <td>2021-08-17</td>\n      <td>11</td>\n      <td>NaN</td>\n      <td>NaN</td>\n      <td>NaN</td>\n      <td>NaN</td>\n      <td>NaN</td>\n      <td>NaN</td>\n      <td>NaN</td>\n      <td>...</td>\n      <td>NaN</td>\n      <td>NaN</td>\n      <td>NaN</td>\n      <td>NaN</td>\n      <td>NaN</td>\n      <td>0.900000</td>\n      <td>NaN</td>\n      <td>NaN</td>\n      <td>NaN</td>\n      <td>NaN</td>\n    </tr>\n  </tbody>\n</table>\n<p>159019 rows × 27 columns</p>\n</div>"
     },
     "execution_count": 11,
     "metadata": {},
     "output_type": "execute_result"
    }
   ],
   "source": [
    "oxygen_var = pd.DataFrame(columns=[\"id\", \"data\"])\n",
    "\n",
    "# read and load from MongoDB\n",
    "for user in users:\n",
    "    user_data = pd.DataFrame(list(\n",
    "        db.fitbit.find({\"$and\": [\n",
    "            {\"type\": \"estimated_oxygen_variation\"},\n",
    "            {\"id\": user}]},\n",
    "            {\"id\": 1, \"data.timestamp\": 1, \"data.Infrared to Red Signal Ratio\": 1, \"_id\": 0})))\n",
    "    oxygen_var = pd.concat([oxygen_var , user_data], axis=0)\n",
    "\n",
    "# split data column (json format) into two columns (df format)\n",
    "oxygen_var[\"date\"] = oxygen_var[\"data\"].apply(lambda d: d[\"timestamp\"])\n",
    "oxygen_var[\"oxygen_variation\"] = oxygen_var[\"data\"].apply(lambda d: d[\"Infrared to Red Signal Ratio\"])\n",
    "oxygen_var.drop([\"data\"], inplace=True, axis=1)\n",
    "\n",
    "# process the datetime object, feature types and group and aggregate the data\n",
    "oxygen_var = data_loading.date_conversion(oxygen_var)\n",
    "oxygen_var['oxygen_variation'] = pd.to_numeric(oxygen_var['oxygen_variation'])\n",
    "oxygen_var = data_loading.aggregate_column(oxygen_var, list(oxygen_var.columns))\n",
    "\n",
    "# merge with the final dataframe\n",
    "df = df.merge(oxygen_var, how='outer', on=['id', 'date', 'hour'])\n",
    "df"
   ],
   "metadata": {
    "collapsed": false,
    "pycharm": {
     "name": "#%%\n"
    }
   }
  },
  {
   "cell_type": "markdown",
   "source": [
    "##### heart_rate"
   ],
   "metadata": {
    "collapsed": false,
    "pycharm": {
     "name": "#%% md\n"
    }
   }
  },
  {
   "cell_type": "code",
   "execution_count": 6,
   "outputs": [
    {
     "ename": "TypeError",
     "evalue": "cannot concatenate object of type '<class 'pymongo.cursor.Cursor'>'; only Series and DataFrame objs are valid",
     "output_type": "error",
     "traceback": [
      "\u001B[1;31m---------------------------------------------------------------------------\u001B[0m",
      "\u001B[1;31mTypeError\u001B[0m                                 Traceback (most recent call last)",
      "Cell \u001B[1;32mIn[6], line 31\u001B[0m\n\u001B[0;32m     28\u001B[0m \u001B[38;5;28;01mfor\u001B[39;00m user \u001B[38;5;129;01min\u001B[39;00m users:\n\u001B[0;32m     29\u001B[0m     user_data \u001B[38;5;241m=\u001B[39m db\u001B[38;5;241m.\u001B[39mfitbit\u001B[38;5;241m.\u001B[39mfind({\u001B[38;5;124m\"\u001B[39m\u001B[38;5;124m$and\u001B[39m\u001B[38;5;124m\"\u001B[39m: [{\u001B[38;5;124m\"\u001B[39m\u001B[38;5;124mtype\u001B[39m\u001B[38;5;124m\"\u001B[39m: \u001B[38;5;124m\"\u001B[39m\u001B[38;5;124mheart_rate\u001B[39m\u001B[38;5;124m\"\u001B[39m}, {\u001B[38;5;124m\"\u001B[39m\u001B[38;5;124mid\u001B[39m\u001B[38;5;124m\"\u001B[39m: user}]},\n\u001B[0;32m     30\u001B[0m                                {\u001B[38;5;124m\"\u001B[39m\u001B[38;5;124mid\u001B[39m\u001B[38;5;124m\"\u001B[39m: \u001B[38;5;241m1\u001B[39m, \u001B[38;5;124m\"\u001B[39m\u001B[38;5;124mdata.dateTime\u001B[39m\u001B[38;5;124m\"\u001B[39m: \u001B[38;5;241m1\u001B[39m, \u001B[38;5;124m\"\u001B[39m\u001B[38;5;124mdata.value.bpm\u001B[39m\u001B[38;5;124m\"\u001B[39m: \u001B[38;5;241m1\u001B[39m, \u001B[38;5;124m\"\u001B[39m\u001B[38;5;124m_id\u001B[39m\u001B[38;5;124m\"\u001B[39m: \u001B[38;5;241m0\u001B[39m})\n\u001B[1;32m---> 31\u001B[0m     bpm \u001B[38;5;241m=\u001B[39m \u001B[43mpd\u001B[49m\u001B[38;5;241;43m.\u001B[39;49m\u001B[43mconcat\u001B[49m\u001B[43m(\u001B[49m\u001B[43m[\u001B[49m\u001B[43mbpm\u001B[49m\u001B[43m \u001B[49m\u001B[43m,\u001B[49m\u001B[43m \u001B[49m\u001B[43muser_data\u001B[49m\u001B[43m]\u001B[49m\u001B[43m,\u001B[49m\u001B[43m \u001B[49m\u001B[43maxis\u001B[49m\u001B[38;5;241;43m=\u001B[39;49m\u001B[38;5;241;43m0\u001B[39;49m\u001B[43m)\u001B[49m\n\u001B[0;32m     34\u001B[0m bpm[\u001B[38;5;124m\"\u001B[39m\u001B[38;5;124mdate\u001B[39m\u001B[38;5;124m\"\u001B[39m] \u001B[38;5;241m=\u001B[39m pd\u001B[38;5;241m.\u001B[39mto_datetime(bpm[\u001B[38;5;124m\"\u001B[39m\u001B[38;5;124mdata\u001B[39m\u001B[38;5;124m\"\u001B[39m]\u001B[38;5;241m.\u001B[39mapply(\u001B[38;5;28;01mlambda\u001B[39;00m d: d[\u001B[38;5;124m\"\u001B[39m\u001B[38;5;124mdateTime\u001B[39m\u001B[38;5;124m\"\u001B[39m]))\n\u001B[0;32m     35\u001B[0m bpm[\u001B[38;5;124m\"\u001B[39m\u001B[38;5;124mbpm\u001B[39m\u001B[38;5;124m\"\u001B[39m] \u001B[38;5;241m=\u001B[39m bpm[\u001B[38;5;124m\"\u001B[39m\u001B[38;5;124mdata\u001B[39m\u001B[38;5;124m\"\u001B[39m]\u001B[38;5;241m.\u001B[39mapply(\u001B[38;5;28;01mlambda\u001B[39;00m d: d[\u001B[38;5;124m\"\u001B[39m\u001B[38;5;124mvalue\u001B[39m\u001B[38;5;124m\"\u001B[39m]\u001B[38;5;241m.\u001B[39mget(\u001B[38;5;124m\"\u001B[39m\u001B[38;5;124mbpm\u001B[39m\u001B[38;5;124m\"\u001B[39m))\n",
      "File \u001B[1;32m~\\PycharmProjects\\LLMs-for-explanations\\llms-for-explanations\\lib\\site-packages\\pandas\\core\\reshape\\concat.py:380\u001B[0m, in \u001B[0;36mconcat\u001B[1;34m(objs, axis, join, ignore_index, keys, levels, names, verify_integrity, sort, copy)\u001B[0m\n\u001B[0;32m    377\u001B[0m \u001B[38;5;28;01melif\u001B[39;00m copy \u001B[38;5;129;01mand\u001B[39;00m using_copy_on_write():\n\u001B[0;32m    378\u001B[0m     copy \u001B[38;5;241m=\u001B[39m \u001B[38;5;28;01mFalse\u001B[39;00m\n\u001B[1;32m--> 380\u001B[0m op \u001B[38;5;241m=\u001B[39m \u001B[43m_Concatenator\u001B[49m\u001B[43m(\u001B[49m\n\u001B[0;32m    381\u001B[0m \u001B[43m    \u001B[49m\u001B[43mobjs\u001B[49m\u001B[43m,\u001B[49m\n\u001B[0;32m    382\u001B[0m \u001B[43m    \u001B[49m\u001B[43maxis\u001B[49m\u001B[38;5;241;43m=\u001B[39;49m\u001B[43maxis\u001B[49m\u001B[43m,\u001B[49m\n\u001B[0;32m    383\u001B[0m \u001B[43m    \u001B[49m\u001B[43mignore_index\u001B[49m\u001B[38;5;241;43m=\u001B[39;49m\u001B[43mignore_index\u001B[49m\u001B[43m,\u001B[49m\n\u001B[0;32m    384\u001B[0m \u001B[43m    \u001B[49m\u001B[43mjoin\u001B[49m\u001B[38;5;241;43m=\u001B[39;49m\u001B[43mjoin\u001B[49m\u001B[43m,\u001B[49m\n\u001B[0;32m    385\u001B[0m \u001B[43m    \u001B[49m\u001B[43mkeys\u001B[49m\u001B[38;5;241;43m=\u001B[39;49m\u001B[43mkeys\u001B[49m\u001B[43m,\u001B[49m\n\u001B[0;32m    386\u001B[0m \u001B[43m    \u001B[49m\u001B[43mlevels\u001B[49m\u001B[38;5;241;43m=\u001B[39;49m\u001B[43mlevels\u001B[49m\u001B[43m,\u001B[49m\n\u001B[0;32m    387\u001B[0m \u001B[43m    \u001B[49m\u001B[43mnames\u001B[49m\u001B[38;5;241;43m=\u001B[39;49m\u001B[43mnames\u001B[49m\u001B[43m,\u001B[49m\n\u001B[0;32m    388\u001B[0m \u001B[43m    \u001B[49m\u001B[43mverify_integrity\u001B[49m\u001B[38;5;241;43m=\u001B[39;49m\u001B[43mverify_integrity\u001B[49m\u001B[43m,\u001B[49m\n\u001B[0;32m    389\u001B[0m \u001B[43m    \u001B[49m\u001B[43mcopy\u001B[49m\u001B[38;5;241;43m=\u001B[39;49m\u001B[43mcopy\u001B[49m\u001B[43m,\u001B[49m\n\u001B[0;32m    390\u001B[0m \u001B[43m    \u001B[49m\u001B[43msort\u001B[49m\u001B[38;5;241;43m=\u001B[39;49m\u001B[43msort\u001B[49m\u001B[43m,\u001B[49m\n\u001B[0;32m    391\u001B[0m \u001B[43m\u001B[49m\u001B[43m)\u001B[49m\n\u001B[0;32m    393\u001B[0m \u001B[38;5;28;01mreturn\u001B[39;00m op\u001B[38;5;241m.\u001B[39mget_result()\n",
      "File \u001B[1;32m~\\PycharmProjects\\LLMs-for-explanations\\llms-for-explanations\\lib\\site-packages\\pandas\\core\\reshape\\concat.py:446\u001B[0m, in \u001B[0;36m_Concatenator.__init__\u001B[1;34m(self, objs, axis, join, keys, levels, names, ignore_index, verify_integrity, copy, sort)\u001B[0m\n\u001B[0;32m    443\u001B[0m objs, keys \u001B[38;5;241m=\u001B[39m \u001B[38;5;28mself\u001B[39m\u001B[38;5;241m.\u001B[39m_clean_keys_and_objs(objs, keys)\n\u001B[0;32m    445\u001B[0m \u001B[38;5;66;03m# figure out what our result ndim is going to be\u001B[39;00m\n\u001B[1;32m--> 446\u001B[0m ndims \u001B[38;5;241m=\u001B[39m \u001B[38;5;28;43mself\u001B[39;49m\u001B[38;5;241;43m.\u001B[39;49m\u001B[43m_get_ndims\u001B[49m\u001B[43m(\u001B[49m\u001B[43mobjs\u001B[49m\u001B[43m)\u001B[49m\n\u001B[0;32m    447\u001B[0m sample, objs \u001B[38;5;241m=\u001B[39m \u001B[38;5;28mself\u001B[39m\u001B[38;5;241m.\u001B[39m_get_sample_object(objs, ndims, keys, names, levels)\n\u001B[0;32m    449\u001B[0m \u001B[38;5;66;03m# Standardize axis parameter to int\u001B[39;00m\n",
      "File \u001B[1;32m~\\PycharmProjects\\LLMs-for-explanations\\llms-for-explanations\\lib\\site-packages\\pandas\\core\\reshape\\concat.py:487\u001B[0m, in \u001B[0;36m_Concatenator._get_ndims\u001B[1;34m(self, objs)\u001B[0m\n\u001B[0;32m    482\u001B[0m     \u001B[38;5;28;01mif\u001B[39;00m \u001B[38;5;129;01mnot\u001B[39;00m \u001B[38;5;28misinstance\u001B[39m(obj, (ABCSeries, ABCDataFrame)):\n\u001B[0;32m    483\u001B[0m         msg \u001B[38;5;241m=\u001B[39m (\n\u001B[0;32m    484\u001B[0m             \u001B[38;5;124mf\u001B[39m\u001B[38;5;124m\"\u001B[39m\u001B[38;5;124mcannot concatenate object of type \u001B[39m\u001B[38;5;124m'\u001B[39m\u001B[38;5;132;01m{\u001B[39;00m\u001B[38;5;28mtype\u001B[39m(obj)\u001B[38;5;132;01m}\u001B[39;00m\u001B[38;5;124m'\u001B[39m\u001B[38;5;124m; \u001B[39m\u001B[38;5;124m\"\u001B[39m\n\u001B[0;32m    485\u001B[0m             \u001B[38;5;124m\"\u001B[39m\u001B[38;5;124monly Series and DataFrame objs are valid\u001B[39m\u001B[38;5;124m\"\u001B[39m\n\u001B[0;32m    486\u001B[0m         )\n\u001B[1;32m--> 487\u001B[0m         \u001B[38;5;28;01mraise\u001B[39;00m \u001B[38;5;167;01mTypeError\u001B[39;00m(msg)\n\u001B[0;32m    489\u001B[0m     ndims\u001B[38;5;241m.\u001B[39madd(obj\u001B[38;5;241m.\u001B[39mndim)\n\u001B[0;32m    490\u001B[0m \u001B[38;5;28;01mreturn\u001B[39;00m ndims\n",
      "\u001B[1;31mTypeError\u001B[0m: cannot concatenate object of type '<class 'pymongo.cursor.Cursor'>'; only Series and DataFrame objs are valid"
     ]
    }
   ],
   "source": [
    "# bpm = pd.DataFrame(columns=[\"id\", \"data\"])\n",
    "#\n",
    "# # read and load from MongoDB\n",
    "# for user in users:\n",
    "#     user_data = pd.DataFrame(list(\n",
    "#         db.fitbit.find({\"$and\": [\n",
    "#             {\"type\": \"heart_rate\"},\n",
    "#             {\"id\": user}]},\n",
    "#             {\"id\": 1, \"data.dateTime\": 1, \"data.value.bpm\": 1, \"_id\": 0})))\n",
    "#     bpm = pd.concat([bpm , user_data], axis=0)\n",
    "#\n",
    "# # split data column (json format) into two columns (df format)\n",
    "# bpm[\"date\"] = bpm[\"data\"].apply(lambda d: d[\"dateTime\"])\n",
    "# bpm[\"bpm\"] = bpm[\"data\"].apply(lambda d: d[\"value\"].get(\"bpm\"))\n",
    "# bpm.drop([\"data\"], inplace=True, axis=1)\n",
    "#\n",
    "# # process the datetime object, feature types and group and aggregate the data\n",
    "# bpm = data_loading.date_conversion(bpm)\n",
    "# bpm['bpm'] = pd.to_numeric(bpm['bpm'])\n",
    "# bpm = data_loading.aggregate_column(bpm, list(bpm.columns), False)\n",
    "#\n",
    "# # merge with the final dataframe\n",
    "# df = df.merge(bpm, how='outer', on=['id', 'date', 'hour'])\n",
    "# df"
   ],
   "metadata": {
    "collapsed": false,
    "pycharm": {
     "name": "#%%\n"
    }
   }
  },
  {
   "cell_type": "code",
   "execution_count": null,
   "outputs": [],
   "source": [
    "# df.to_pickle(\"data/temp_after_heart_rate.pkl\")"
   ],
   "metadata": {
    "collapsed": false,
    "pycharm": {
     "name": "#%%\n"
    }
   }
  },
  {
   "cell_type": "code",
   "execution_count": null,
   "outputs": [],
   "source": [
    "# df = pd.read_pickle(\"data/temp_after_heart_rate.pkl\")"
   ],
   "metadata": {
    "collapsed": false,
    "pycharm": {
     "name": "#%%\n"
    }
   }
  },
  {
   "cell_type": "markdown",
   "source": [
    "##### lightly_active_minutes"
   ],
   "metadata": {
    "collapsed": false,
    "pycharm": {
     "name": "#%% md\n"
    }
   }
  },
  {
   "cell_type": "code",
   "execution_count": 13,
   "outputs": [
    {
     "data": {
      "text/plain": "                              id       date  hour             ecg  \\\n0       621e2ff067b776a2403eb737 2021-12-22    19             NSR   \n1       621e301367b776a24057738e 2021-06-08    21             NSR   \n2       621e312a67b776a240164d59 2021-10-07    17             NSR   \n3       621e312a67b776a240164d59 2021-10-10    20             NSR   \n4       621e326767b776a24012e179 2021-07-22    17  UNCLASSIFIABLE   \n...                          ...        ...   ...             ...   \n159437  621e36f967b776a240e5e7c9 2021-08-03     0             NaN   \n159438  621e36f967b776a240e5e7c9 2021-08-04     0             NaN   \n159439  621e36f967b776a240e5e7c9 2021-08-05     0             NaN   \n159440  621e36f967b776a240e5e7c9 2021-08-06     0             NaN   \n159441  621e36f967b776a240e5e7c9 2021-08-07     0             NaN   \n\n       heart_rate_alert type  nightly_temperature  nremhr  spo2  rmssd  ...  \\\n0                  NONE  NaN                  NaN     NaN   NaN    NaN  ...   \n1                  NONE  NaN                  NaN     NaN   NaN    NaN  ...   \n2                  NONE  NaN                  NaN     NaN   NaN    NaN  ...   \n3                  NONE  NaN                  NaN     NaN   NaN    NaN  ...   \n4                  NONE  NaN                  NaN     NaN   NaN    NaN  ...   \n...                 ...  ...                  ...     ...   ...    ...  ...   \n159437              NaN  NaN                  NaN     NaN   NaN    NaN  ...   \n159438              NaN  NaN                  NaN     NaN   NaN    NaN  ...   \n159439              NaN  NaN                  NaN     NaN   NaN    NaN  ...   \n159440              NaN  NaN                  NaN     NaN   NaN    NaN  ...   \n159441              NaN  NaN                  NaN     NaN   NaN    NaN  ...   \n\n        wrist_temperature  altitude  badge_type  badge_value  calories  \\\n0               -4.726633      10.0         NaN          NaN  1.641667   \n1                     NaN       NaN         NaN          NaN  1.616667   \n2                     NaN       NaN         NaN          NaN  1.290000   \n3               -3.497025      10.0         NaN          NaN  4.222833   \n4                0.120849      10.0         NaN          NaN  0.977667   \n...                   ...       ...         ...          ...       ...   \n159437                NaN       NaN         NaN          NaN       NaN   \n159438                NaN       NaN         NaN          NaN       NaN   \n159439                NaN       NaN         NaN          NaN       NaN   \n159440                NaN       NaN         NaN          NaN       NaN   \n159441                NaN       NaN         NaN          NaN       NaN   \n\n        vo2max  distance  oxygen_variation_x  oxygen_variation_y  \\\n0          NaN       0.0                 NaN                 NaN   \n1          NaN       0.0                 NaN                 NaN   \n2          NaN       0.0                 NaN                 NaN   \n3          NaN       0.0                 NaN                 NaN   \n4          NaN       0.0                 0.0                 0.0   \n...        ...       ...                 ...                 ...   \n159437     NaN       NaN                 NaN                 NaN   \n159438     NaN       NaN                 NaN                 NaN   \n159439     NaN       NaN                 NaN                 NaN   \n159440     NaN       NaN                 NaN                 NaN   \n159441     NaN       NaN                 NaN                 NaN   \n\n        lightly_active_minutes  \n0                          NaN  \n1                          NaN  \n2                          NaN  \n3                          NaN  \n4                          NaN  \n...                        ...  \n159437                     0.0  \n159438                     0.0  \n159439                     0.0  \n159440                     0.0  \n159441                     0.0  \n\n[159442 rows x 28 columns]",
      "text/html": "<div>\n<style scoped>\n    .dataframe tbody tr th:only-of-type {\n        vertical-align: middle;\n    }\n\n    .dataframe tbody tr th {\n        vertical-align: top;\n    }\n\n    .dataframe thead th {\n        text-align: right;\n    }\n</style>\n<table border=\"1\" class=\"dataframe\">\n  <thead>\n    <tr style=\"text-align: right;\">\n      <th></th>\n      <th>id</th>\n      <th>date</th>\n      <th>hour</th>\n      <th>ecg</th>\n      <th>heart_rate_alert</th>\n      <th>type</th>\n      <th>nightly_temperature</th>\n      <th>nremhr</th>\n      <th>spo2</th>\n      <th>rmssd</th>\n      <th>...</th>\n      <th>wrist_temperature</th>\n      <th>altitude</th>\n      <th>badge_type</th>\n      <th>badge_value</th>\n      <th>calories</th>\n      <th>vo2max</th>\n      <th>distance</th>\n      <th>oxygen_variation_x</th>\n      <th>oxygen_variation_y</th>\n      <th>lightly_active_minutes</th>\n    </tr>\n  </thead>\n  <tbody>\n    <tr>\n      <th>0</th>\n      <td>621e2ff067b776a2403eb737</td>\n      <td>2021-12-22</td>\n      <td>19</td>\n      <td>NSR</td>\n      <td>NONE</td>\n      <td>NaN</td>\n      <td>NaN</td>\n      <td>NaN</td>\n      <td>NaN</td>\n      <td>NaN</td>\n      <td>...</td>\n      <td>-4.726633</td>\n      <td>10.0</td>\n      <td>NaN</td>\n      <td>NaN</td>\n      <td>1.641667</td>\n      <td>NaN</td>\n      <td>0.0</td>\n      <td>NaN</td>\n      <td>NaN</td>\n      <td>NaN</td>\n    </tr>\n    <tr>\n      <th>1</th>\n      <td>621e301367b776a24057738e</td>\n      <td>2021-06-08</td>\n      <td>21</td>\n      <td>NSR</td>\n      <td>NONE</td>\n      <td>NaN</td>\n      <td>NaN</td>\n      <td>NaN</td>\n      <td>NaN</td>\n      <td>NaN</td>\n      <td>...</td>\n      <td>NaN</td>\n      <td>NaN</td>\n      <td>NaN</td>\n      <td>NaN</td>\n      <td>1.616667</td>\n      <td>NaN</td>\n      <td>0.0</td>\n      <td>NaN</td>\n      <td>NaN</td>\n      <td>NaN</td>\n    </tr>\n    <tr>\n      <th>2</th>\n      <td>621e312a67b776a240164d59</td>\n      <td>2021-10-07</td>\n      <td>17</td>\n      <td>NSR</td>\n      <td>NONE</td>\n      <td>NaN</td>\n      <td>NaN</td>\n      <td>NaN</td>\n      <td>NaN</td>\n      <td>NaN</td>\n      <td>...</td>\n      <td>NaN</td>\n      <td>NaN</td>\n      <td>NaN</td>\n      <td>NaN</td>\n      <td>1.290000</td>\n      <td>NaN</td>\n      <td>0.0</td>\n      <td>NaN</td>\n      <td>NaN</td>\n      <td>NaN</td>\n    </tr>\n    <tr>\n      <th>3</th>\n      <td>621e312a67b776a240164d59</td>\n      <td>2021-10-10</td>\n      <td>20</td>\n      <td>NSR</td>\n      <td>NONE</td>\n      <td>NaN</td>\n      <td>NaN</td>\n      <td>NaN</td>\n      <td>NaN</td>\n      <td>NaN</td>\n      <td>...</td>\n      <td>-3.497025</td>\n      <td>10.0</td>\n      <td>NaN</td>\n      <td>NaN</td>\n      <td>4.222833</td>\n      <td>NaN</td>\n      <td>0.0</td>\n      <td>NaN</td>\n      <td>NaN</td>\n      <td>NaN</td>\n    </tr>\n    <tr>\n      <th>4</th>\n      <td>621e326767b776a24012e179</td>\n      <td>2021-07-22</td>\n      <td>17</td>\n      <td>UNCLASSIFIABLE</td>\n      <td>NONE</td>\n      <td>NaN</td>\n      <td>NaN</td>\n      <td>NaN</td>\n      <td>NaN</td>\n      <td>NaN</td>\n      <td>...</td>\n      <td>0.120849</td>\n      <td>10.0</td>\n      <td>NaN</td>\n      <td>NaN</td>\n      <td>0.977667</td>\n      <td>NaN</td>\n      <td>0.0</td>\n      <td>0.0</td>\n      <td>0.0</td>\n      <td>NaN</td>\n    </tr>\n    <tr>\n      <th>...</th>\n      <td>...</td>\n      <td>...</td>\n      <td>...</td>\n      <td>...</td>\n      <td>...</td>\n      <td>...</td>\n      <td>...</td>\n      <td>...</td>\n      <td>...</td>\n      <td>...</td>\n      <td>...</td>\n      <td>...</td>\n      <td>...</td>\n      <td>...</td>\n      <td>...</td>\n      <td>...</td>\n      <td>...</td>\n      <td>...</td>\n      <td>...</td>\n      <td>...</td>\n      <td>...</td>\n    </tr>\n    <tr>\n      <th>159437</th>\n      <td>621e36f967b776a240e5e7c9</td>\n      <td>2021-08-03</td>\n      <td>0</td>\n      <td>NaN</td>\n      <td>NaN</td>\n      <td>NaN</td>\n      <td>NaN</td>\n      <td>NaN</td>\n      <td>NaN</td>\n      <td>NaN</td>\n      <td>...</td>\n      <td>NaN</td>\n      <td>NaN</td>\n      <td>NaN</td>\n      <td>NaN</td>\n      <td>NaN</td>\n      <td>NaN</td>\n      <td>NaN</td>\n      <td>NaN</td>\n      <td>NaN</td>\n      <td>0.0</td>\n    </tr>\n    <tr>\n      <th>159438</th>\n      <td>621e36f967b776a240e5e7c9</td>\n      <td>2021-08-04</td>\n      <td>0</td>\n      <td>NaN</td>\n      <td>NaN</td>\n      <td>NaN</td>\n      <td>NaN</td>\n      <td>NaN</td>\n      <td>NaN</td>\n      <td>NaN</td>\n      <td>...</td>\n      <td>NaN</td>\n      <td>NaN</td>\n      <td>NaN</td>\n      <td>NaN</td>\n      <td>NaN</td>\n      <td>NaN</td>\n      <td>NaN</td>\n      <td>NaN</td>\n      <td>NaN</td>\n      <td>0.0</td>\n    </tr>\n    <tr>\n      <th>159439</th>\n      <td>621e36f967b776a240e5e7c9</td>\n      <td>2021-08-05</td>\n      <td>0</td>\n      <td>NaN</td>\n      <td>NaN</td>\n      <td>NaN</td>\n      <td>NaN</td>\n      <td>NaN</td>\n      <td>NaN</td>\n      <td>NaN</td>\n      <td>...</td>\n      <td>NaN</td>\n      <td>NaN</td>\n      <td>NaN</td>\n      <td>NaN</td>\n      <td>NaN</td>\n      <td>NaN</td>\n      <td>NaN</td>\n      <td>NaN</td>\n      <td>NaN</td>\n      <td>0.0</td>\n    </tr>\n    <tr>\n      <th>159440</th>\n      <td>621e36f967b776a240e5e7c9</td>\n      <td>2021-08-06</td>\n      <td>0</td>\n      <td>NaN</td>\n      <td>NaN</td>\n      <td>NaN</td>\n      <td>NaN</td>\n      <td>NaN</td>\n      <td>NaN</td>\n      <td>NaN</td>\n      <td>...</td>\n      <td>NaN</td>\n      <td>NaN</td>\n      <td>NaN</td>\n      <td>NaN</td>\n      <td>NaN</td>\n      <td>NaN</td>\n      <td>NaN</td>\n      <td>NaN</td>\n      <td>NaN</td>\n      <td>0.0</td>\n    </tr>\n    <tr>\n      <th>159441</th>\n      <td>621e36f967b776a240e5e7c9</td>\n      <td>2021-08-07</td>\n      <td>0</td>\n      <td>NaN</td>\n      <td>NaN</td>\n      <td>NaN</td>\n      <td>NaN</td>\n      <td>NaN</td>\n      <td>NaN</td>\n      <td>NaN</td>\n      <td>...</td>\n      <td>NaN</td>\n      <td>NaN</td>\n      <td>NaN</td>\n      <td>NaN</td>\n      <td>NaN</td>\n      <td>NaN</td>\n      <td>NaN</td>\n      <td>NaN</td>\n      <td>NaN</td>\n      <td>0.0</td>\n    </tr>\n  </tbody>\n</table>\n<p>159442 rows × 28 columns</p>\n</div>"
     },
     "execution_count": 13,
     "metadata": {},
     "output_type": "execute_result"
    }
   ],
   "source": [
    "light_minutes = pd.DataFrame(columns=[\"id\", \"data\"])\n",
    "\n",
    "# read and load from MongoDB\n",
    "for user in users:\n",
    "    user_data = pd.DataFrame(list(\n",
    "        db.fitbit.find({\"$and\": [\n",
    "            {\"type\": \"lightly_active_minutes\"},\n",
    "            {\"id\": user}]},\n",
    "            {\"id\": 1, \"data.dateTime\": 1, \"data.value\": 1, \"_id\": 0})))\n",
    "    light_minutes = pd.concat([light_minutes , user_data], axis=0)\n",
    "\n",
    "# split data column (json format) into two columns (df format)\n",
    "light_minutes[\"date\"] = light_minutes[\"data\"].apply(lambda d: d[\"dateTime\"])\n",
    "light_minutes[\"lightly_active_minutes\"] = light_minutes[\"data\"].apply(lambda d: d[\"value\"])\n",
    "light_minutes.drop([\"data\"], inplace=True, axis=1)\n",
    "\n",
    "# process the datetime object, feature types and group and aggregate the data\n",
    "light_minutes = data_loading.date_conversion(light_minutes)\n",
    "light_minutes['lightly_active_minutes'] = pd.to_numeric(light_minutes['lightly_active_minutes'])\n",
    "light_minutes = data_loading.aggregate_column(light_minutes, list(light_minutes.columns))\n",
    "\n",
    "# merge with the final dataframe\n",
    "df = df.merge(light_minutes, how='outer', on=['id', 'date', 'hour'])\n",
    "df"
   ],
   "metadata": {
    "collapsed": false,
    "pycharm": {
     "name": "#%%\n"
    }
   }
  },
  {
   "cell_type": "markdown",
   "source": [
    "##### mindfulness_eda_data_sessions"
   ],
   "metadata": {
    "collapsed": false,
    "pycharm": {
     "name": "#%% md\n"
    }
   }
  },
  {
   "cell_type": "code",
   "execution_count": 15,
   "outputs": [
    {
     "data": {
      "text/plain": "                              id       date  hour             ecg  \\\n0       621e2ff067b776a2403eb737 2021-12-22    19             NSR   \n1       621e301367b776a24057738e 2021-06-08    21             NSR   \n2       621e312a67b776a240164d59 2021-10-07    17             NSR   \n3       621e312a67b776a240164d59 2021-10-10    20             NSR   \n4       621e326767b776a24012e179 2021-07-22    17  UNCLASSIFIABLE   \n...                          ...        ...   ...             ...   \n159437  621e36f967b776a240e5e7c9 2021-08-03     0             NaN   \n159438  621e36f967b776a240e5e7c9 2021-08-04     0             NaN   \n159439  621e36f967b776a240e5e7c9 2021-08-05     0             NaN   \n159440  621e36f967b776a240e5e7c9 2021-08-06     0             NaN   \n159441  621e36f967b776a240e5e7c9 2021-08-07     0             NaN   \n\n       heart_rate_alert type  nightly_temperature  nremhr  spo2  rmssd  ...  \\\n0                  NONE  NaN                  NaN     NaN   NaN    NaN  ...   \n1                  NONE  NaN                  NaN     NaN   NaN    NaN  ...   \n2                  NONE  NaN                  NaN     NaN   NaN    NaN  ...   \n3                  NONE  NaN                  NaN     NaN   NaN    NaN  ...   \n4                  NONE  NaN                  NaN     NaN   NaN    NaN  ...   \n...                 ...  ...                  ...     ...   ...    ...  ...   \n159437              NaN  NaN                  NaN     NaN   NaN    NaN  ...   \n159438              NaN  NaN                  NaN     NaN   NaN    NaN  ...   \n159439              NaN  NaN                  NaN     NaN   NaN    NaN  ...   \n159440              NaN  NaN                  NaN     NaN   NaN    NaN  ...   \n159441              NaN  NaN                  NaN     NaN   NaN    NaN  ...   \n\n        altitude  badge_type  badge_value  calories  vo2max  distance  \\\n0           10.0         NaN          NaN  1.641667     NaN       0.0   \n1            NaN         NaN          NaN  1.616667     NaN       0.0   \n2            NaN         NaN          NaN  1.290000     NaN       0.0   \n3           10.0         NaN          NaN  4.222833     NaN       0.0   \n4           10.0         NaN          NaN  0.977667     NaN       0.0   \n...          ...         ...          ...       ...     ...       ...   \n159437       NaN         NaN          NaN       NaN     NaN       NaN   \n159438       NaN         NaN          NaN       NaN     NaN       NaN   \n159439       NaN         NaN          NaN       NaN     NaN       NaN   \n159440       NaN         NaN          NaN       NaN     NaN       NaN   \n159441       NaN         NaN          NaN       NaN     NaN       NaN   \n\n        oxygen_variation_x  oxygen_variation_y  lightly_active_minutes  \\\n0                      NaN                 NaN                     NaN   \n1                      NaN                 NaN                     NaN   \n2                      NaN                 NaN                     NaN   \n3                      NaN                 NaN                     NaN   \n4                      0.0                 0.0                     NaN   \n...                    ...                 ...                     ...   \n159437                 NaN                 NaN                     0.0   \n159438                 NaN                 NaN                     0.0   \n159439                 NaN                 NaN                     0.0   \n159440                 NaN                 NaN                     0.0   \n159441                 NaN                 NaN                     0.0   \n\n         scl_avg  \n0            NaN  \n1            NaN  \n2       9.703215  \n3            NaN  \n4            NaN  \n...          ...  \n159437       NaN  \n159438       NaN  \n159439       NaN  \n159440       NaN  \n159441       NaN  \n\n[159442 rows x 29 columns]",
      "text/html": "<div>\n<style scoped>\n    .dataframe tbody tr th:only-of-type {\n        vertical-align: middle;\n    }\n\n    .dataframe tbody tr th {\n        vertical-align: top;\n    }\n\n    .dataframe thead th {\n        text-align: right;\n    }\n</style>\n<table border=\"1\" class=\"dataframe\">\n  <thead>\n    <tr style=\"text-align: right;\">\n      <th></th>\n      <th>id</th>\n      <th>date</th>\n      <th>hour</th>\n      <th>ecg</th>\n      <th>heart_rate_alert</th>\n      <th>type</th>\n      <th>nightly_temperature</th>\n      <th>nremhr</th>\n      <th>spo2</th>\n      <th>rmssd</th>\n      <th>...</th>\n      <th>altitude</th>\n      <th>badge_type</th>\n      <th>badge_value</th>\n      <th>calories</th>\n      <th>vo2max</th>\n      <th>distance</th>\n      <th>oxygen_variation_x</th>\n      <th>oxygen_variation_y</th>\n      <th>lightly_active_minutes</th>\n      <th>scl_avg</th>\n    </tr>\n  </thead>\n  <tbody>\n    <tr>\n      <th>0</th>\n      <td>621e2ff067b776a2403eb737</td>\n      <td>2021-12-22</td>\n      <td>19</td>\n      <td>NSR</td>\n      <td>NONE</td>\n      <td>NaN</td>\n      <td>NaN</td>\n      <td>NaN</td>\n      <td>NaN</td>\n      <td>NaN</td>\n      <td>...</td>\n      <td>10.0</td>\n      <td>NaN</td>\n      <td>NaN</td>\n      <td>1.641667</td>\n      <td>NaN</td>\n      <td>0.0</td>\n      <td>NaN</td>\n      <td>NaN</td>\n      <td>NaN</td>\n      <td>NaN</td>\n    </tr>\n    <tr>\n      <th>1</th>\n      <td>621e301367b776a24057738e</td>\n      <td>2021-06-08</td>\n      <td>21</td>\n      <td>NSR</td>\n      <td>NONE</td>\n      <td>NaN</td>\n      <td>NaN</td>\n      <td>NaN</td>\n      <td>NaN</td>\n      <td>NaN</td>\n      <td>...</td>\n      <td>NaN</td>\n      <td>NaN</td>\n      <td>NaN</td>\n      <td>1.616667</td>\n      <td>NaN</td>\n      <td>0.0</td>\n      <td>NaN</td>\n      <td>NaN</td>\n      <td>NaN</td>\n      <td>NaN</td>\n    </tr>\n    <tr>\n      <th>2</th>\n      <td>621e312a67b776a240164d59</td>\n      <td>2021-10-07</td>\n      <td>17</td>\n      <td>NSR</td>\n      <td>NONE</td>\n      <td>NaN</td>\n      <td>NaN</td>\n      <td>NaN</td>\n      <td>NaN</td>\n      <td>NaN</td>\n      <td>...</td>\n      <td>NaN</td>\n      <td>NaN</td>\n      <td>NaN</td>\n      <td>1.290000</td>\n      <td>NaN</td>\n      <td>0.0</td>\n      <td>NaN</td>\n      <td>NaN</td>\n      <td>NaN</td>\n      <td>9.703215</td>\n    </tr>\n    <tr>\n      <th>3</th>\n      <td>621e312a67b776a240164d59</td>\n      <td>2021-10-10</td>\n      <td>20</td>\n      <td>NSR</td>\n      <td>NONE</td>\n      <td>NaN</td>\n      <td>NaN</td>\n      <td>NaN</td>\n      <td>NaN</td>\n      <td>NaN</td>\n      <td>...</td>\n      <td>10.0</td>\n      <td>NaN</td>\n      <td>NaN</td>\n      <td>4.222833</td>\n      <td>NaN</td>\n      <td>0.0</td>\n      <td>NaN</td>\n      <td>NaN</td>\n      <td>NaN</td>\n      <td>NaN</td>\n    </tr>\n    <tr>\n      <th>4</th>\n      <td>621e326767b776a24012e179</td>\n      <td>2021-07-22</td>\n      <td>17</td>\n      <td>UNCLASSIFIABLE</td>\n      <td>NONE</td>\n      <td>NaN</td>\n      <td>NaN</td>\n      <td>NaN</td>\n      <td>NaN</td>\n      <td>NaN</td>\n      <td>...</td>\n      <td>10.0</td>\n      <td>NaN</td>\n      <td>NaN</td>\n      <td>0.977667</td>\n      <td>NaN</td>\n      <td>0.0</td>\n      <td>0.0</td>\n      <td>0.0</td>\n      <td>NaN</td>\n      <td>NaN</td>\n    </tr>\n    <tr>\n      <th>...</th>\n      <td>...</td>\n      <td>...</td>\n      <td>...</td>\n      <td>...</td>\n      <td>...</td>\n      <td>...</td>\n      <td>...</td>\n      <td>...</td>\n      <td>...</td>\n      <td>...</td>\n      <td>...</td>\n      <td>...</td>\n      <td>...</td>\n      <td>...</td>\n      <td>...</td>\n      <td>...</td>\n      <td>...</td>\n      <td>...</td>\n      <td>...</td>\n      <td>...</td>\n      <td>...</td>\n    </tr>\n    <tr>\n      <th>159437</th>\n      <td>621e36f967b776a240e5e7c9</td>\n      <td>2021-08-03</td>\n      <td>0</td>\n      <td>NaN</td>\n      <td>NaN</td>\n      <td>NaN</td>\n      <td>NaN</td>\n      <td>NaN</td>\n      <td>NaN</td>\n      <td>NaN</td>\n      <td>...</td>\n      <td>NaN</td>\n      <td>NaN</td>\n      <td>NaN</td>\n      <td>NaN</td>\n      <td>NaN</td>\n      <td>NaN</td>\n      <td>NaN</td>\n      <td>NaN</td>\n      <td>0.0</td>\n      <td>NaN</td>\n    </tr>\n    <tr>\n      <th>159438</th>\n      <td>621e36f967b776a240e5e7c9</td>\n      <td>2021-08-04</td>\n      <td>0</td>\n      <td>NaN</td>\n      <td>NaN</td>\n      <td>NaN</td>\n      <td>NaN</td>\n      <td>NaN</td>\n      <td>NaN</td>\n      <td>NaN</td>\n      <td>...</td>\n      <td>NaN</td>\n      <td>NaN</td>\n      <td>NaN</td>\n      <td>NaN</td>\n      <td>NaN</td>\n      <td>NaN</td>\n      <td>NaN</td>\n      <td>NaN</td>\n      <td>0.0</td>\n      <td>NaN</td>\n    </tr>\n    <tr>\n      <th>159439</th>\n      <td>621e36f967b776a240e5e7c9</td>\n      <td>2021-08-05</td>\n      <td>0</td>\n      <td>NaN</td>\n      <td>NaN</td>\n      <td>NaN</td>\n      <td>NaN</td>\n      <td>NaN</td>\n      <td>NaN</td>\n      <td>NaN</td>\n      <td>...</td>\n      <td>NaN</td>\n      <td>NaN</td>\n      <td>NaN</td>\n      <td>NaN</td>\n      <td>NaN</td>\n      <td>NaN</td>\n      <td>NaN</td>\n      <td>NaN</td>\n      <td>0.0</td>\n      <td>NaN</td>\n    </tr>\n    <tr>\n      <th>159440</th>\n      <td>621e36f967b776a240e5e7c9</td>\n      <td>2021-08-06</td>\n      <td>0</td>\n      <td>NaN</td>\n      <td>NaN</td>\n      <td>NaN</td>\n      <td>NaN</td>\n      <td>NaN</td>\n      <td>NaN</td>\n      <td>NaN</td>\n      <td>...</td>\n      <td>NaN</td>\n      <td>NaN</td>\n      <td>NaN</td>\n      <td>NaN</td>\n      <td>NaN</td>\n      <td>NaN</td>\n      <td>NaN</td>\n      <td>NaN</td>\n      <td>0.0</td>\n      <td>NaN</td>\n    </tr>\n    <tr>\n      <th>159441</th>\n      <td>621e36f967b776a240e5e7c9</td>\n      <td>2021-08-07</td>\n      <td>0</td>\n      <td>NaN</td>\n      <td>NaN</td>\n      <td>NaN</td>\n      <td>NaN</td>\n      <td>NaN</td>\n      <td>NaN</td>\n      <td>NaN</td>\n      <td>...</td>\n      <td>NaN</td>\n      <td>NaN</td>\n      <td>NaN</td>\n      <td>NaN</td>\n      <td>NaN</td>\n      <td>NaN</td>\n      <td>NaN</td>\n      <td>NaN</td>\n      <td>0.0</td>\n      <td>NaN</td>\n    </tr>\n  </tbody>\n</table>\n<p>159442 rows × 29 columns</p>\n</div>"
     },
     "execution_count": 15,
     "metadata": {},
     "output_type": "execute_result"
    }
   ],
   "source": [
    "eda_sessions = pd.DataFrame(columns=[\"id\", \"data\"])\n",
    "\n",
    "# read and load from MongoDB\n",
    "for user in users:\n",
    "    user_data = pd.DataFrame(list(\n",
    "        db.fitbit.find({\"$and\": [\n",
    "            {\"type\": \"mindfulness_eda_data_sessions\"},\n",
    "            {\"id\": user}]},\n",
    "            {\"id\": 1, \"data.timestamp\": 1, \"data.scl_avg\": 1, \"_id\": 0})))\n",
    "    eda_sessions = pd.concat([eda_sessions , user_data], axis=0)\n",
    "\n",
    "# split data column (json format) into two columns (df format)\n",
    "eda_sessions[\"date\"] = eda_sessions[\"data\"].apply(lambda d: d[\"timestamp\"])\n",
    "eda_sessions[\"scl_avg\"] = eda_sessions[\"data\"].apply(lambda d: d[\"scl_avg\"])\n",
    "eda_sessions.drop([\"data\"], inplace=True, axis=1)\n",
    "\n",
    "# process the datetime object, feature types and group and aggregate the data\n",
    "eda_sessions = data_loading.date_conversion(eda_sessions)\n",
    "eda_sessions['scl_avg'] = pd.to_numeric(eda_sessions['scl_avg'])\n",
    "eda_sessions = data_loading.aggregate_column(eda_sessions, list(eda_sessions.columns))\n",
    "\n",
    "# merge with the final dataframe\n",
    "df = df.merge(eda_sessions, how='outer', on=['id', 'date', 'hour'])\n",
    "df"
   ],
   "metadata": {
    "collapsed": false,
    "pycharm": {
     "name": "#%%\n"
    }
   }
  },
  {
   "cell_type": "markdown",
   "source": [
    "##### mindfulness_goals"
   ],
   "metadata": {
    "collapsed": false,
    "pycharm": {
     "name": "#%% md\n"
    }
   }
  },
  {
   "cell_type": "code",
   "execution_count": 16,
   "outputs": [
    {
     "data": {
      "text/plain": "                              id       date  hour             ecg  \\\n0       621e2ff067b776a2403eb737 2021-12-22    19             NSR   \n1       621e301367b776a24057738e 2021-06-08    21             NSR   \n2       621e312a67b776a240164d59 2021-10-07    17             NSR   \n3       621e312a67b776a240164d59 2021-10-10    20             NSR   \n4       621e326767b776a24012e179 2021-07-22    17  UNCLASSIFIABLE   \n...                          ...        ...   ...             ...   \n159437  621e36f967b776a240e5e7c9 2021-08-03     0             NaN   \n159438  621e36f967b776a240e5e7c9 2021-08-04     0             NaN   \n159439  621e36f967b776a240e5e7c9 2021-08-05     0             NaN   \n159440  621e36f967b776a240e5e7c9 2021-08-06     0             NaN   \n159441  621e36f967b776a240e5e7c9 2021-08-07     0             NaN   \n\n       heart_rate_alert type  nightly_temperature  nremhr  spo2  rmssd  ...  \\\n0                  NONE  NaN                  NaN     NaN   NaN    NaN  ...   \n1                  NONE  NaN                  NaN     NaN   NaN    NaN  ...   \n2                  NONE  NaN                  NaN     NaN   NaN    NaN  ...   \n3                  NONE  NaN                  NaN     NaN   NaN    NaN  ...   \n4                  NONE  NaN                  NaN     NaN   NaN    NaN  ...   \n...                 ...  ...                  ...     ...   ...    ...  ...   \n159437              NaN  NaN                  NaN     NaN   NaN    NaN  ...   \n159438              NaN  NaN                  NaN     NaN   NaN    NaN  ...   \n159439              NaN  NaN                  NaN     NaN   NaN    NaN  ...   \n159440              NaN  NaN                  NaN     NaN   NaN    NaN  ...   \n159441              NaN  NaN                  NaN     NaN   NaN    NaN  ...   \n\n        badge_type  badge_value  calories  vo2max  distance  \\\n0              NaN          NaN  1.641667     NaN       0.0   \n1              NaN          NaN  1.616667     NaN       0.0   \n2              NaN          NaN  1.290000     NaN       0.0   \n3              NaN          NaN  4.222833     NaN       0.0   \n4              NaN          NaN  0.977667     NaN       0.0   \n...            ...          ...       ...     ...       ...   \n159437         NaN          NaN       NaN     NaN       NaN   \n159438         NaN          NaN       NaN     NaN       NaN   \n159439         NaN          NaN       NaN     NaN       NaN   \n159440         NaN          NaN       NaN     NaN       NaN   \n159441         NaN          NaN       NaN     NaN       NaN   \n\n        oxygen_variation_x  oxygen_variation_y  lightly_active_minutes  \\\n0                      NaN                 NaN                     NaN   \n1                      NaN                 NaN                     NaN   \n2                      NaN                 NaN                     NaN   \n3                      NaN                 NaN                     NaN   \n4                      0.0                 0.0                     NaN   \n...                    ...                 ...                     ...   \n159437                 NaN                 NaN                     0.0   \n159438                 NaN                 NaN                     0.0   \n159439                 NaN                 NaN                     0.0   \n159440                 NaN                 NaN                     0.0   \n159441                 NaN                 NaN                     0.0   \n\n         scl_avg  mindfulness_goal  \n0            NaN               NaN  \n1            NaN               NaN  \n2       9.703215               NaN  \n3            NaN               NaN  \n4            NaN               NaN  \n...          ...               ...  \n159437       NaN               NaN  \n159438       NaN               NaN  \n159439       NaN               NaN  \n159440       NaN               NaN  \n159441       NaN               NaN  \n\n[159442 rows x 30 columns]",
      "text/html": "<div>\n<style scoped>\n    .dataframe tbody tr th:only-of-type {\n        vertical-align: middle;\n    }\n\n    .dataframe tbody tr th {\n        vertical-align: top;\n    }\n\n    .dataframe thead th {\n        text-align: right;\n    }\n</style>\n<table border=\"1\" class=\"dataframe\">\n  <thead>\n    <tr style=\"text-align: right;\">\n      <th></th>\n      <th>id</th>\n      <th>date</th>\n      <th>hour</th>\n      <th>ecg</th>\n      <th>heart_rate_alert</th>\n      <th>type</th>\n      <th>nightly_temperature</th>\n      <th>nremhr</th>\n      <th>spo2</th>\n      <th>rmssd</th>\n      <th>...</th>\n      <th>badge_type</th>\n      <th>badge_value</th>\n      <th>calories</th>\n      <th>vo2max</th>\n      <th>distance</th>\n      <th>oxygen_variation_x</th>\n      <th>oxygen_variation_y</th>\n      <th>lightly_active_minutes</th>\n      <th>scl_avg</th>\n      <th>mindfulness_goal</th>\n    </tr>\n  </thead>\n  <tbody>\n    <tr>\n      <th>0</th>\n      <td>621e2ff067b776a2403eb737</td>\n      <td>2021-12-22</td>\n      <td>19</td>\n      <td>NSR</td>\n      <td>NONE</td>\n      <td>NaN</td>\n      <td>NaN</td>\n      <td>NaN</td>\n      <td>NaN</td>\n      <td>NaN</td>\n      <td>...</td>\n      <td>NaN</td>\n      <td>NaN</td>\n      <td>1.641667</td>\n      <td>NaN</td>\n      <td>0.0</td>\n      <td>NaN</td>\n      <td>NaN</td>\n      <td>NaN</td>\n      <td>NaN</td>\n      <td>NaN</td>\n    </tr>\n    <tr>\n      <th>1</th>\n      <td>621e301367b776a24057738e</td>\n      <td>2021-06-08</td>\n      <td>21</td>\n      <td>NSR</td>\n      <td>NONE</td>\n      <td>NaN</td>\n      <td>NaN</td>\n      <td>NaN</td>\n      <td>NaN</td>\n      <td>NaN</td>\n      <td>...</td>\n      <td>NaN</td>\n      <td>NaN</td>\n      <td>1.616667</td>\n      <td>NaN</td>\n      <td>0.0</td>\n      <td>NaN</td>\n      <td>NaN</td>\n      <td>NaN</td>\n      <td>NaN</td>\n      <td>NaN</td>\n    </tr>\n    <tr>\n      <th>2</th>\n      <td>621e312a67b776a240164d59</td>\n      <td>2021-10-07</td>\n      <td>17</td>\n      <td>NSR</td>\n      <td>NONE</td>\n      <td>NaN</td>\n      <td>NaN</td>\n      <td>NaN</td>\n      <td>NaN</td>\n      <td>NaN</td>\n      <td>...</td>\n      <td>NaN</td>\n      <td>NaN</td>\n      <td>1.290000</td>\n      <td>NaN</td>\n      <td>0.0</td>\n      <td>NaN</td>\n      <td>NaN</td>\n      <td>NaN</td>\n      <td>9.703215</td>\n      <td>NaN</td>\n    </tr>\n    <tr>\n      <th>3</th>\n      <td>621e312a67b776a240164d59</td>\n      <td>2021-10-10</td>\n      <td>20</td>\n      <td>NSR</td>\n      <td>NONE</td>\n      <td>NaN</td>\n      <td>NaN</td>\n      <td>NaN</td>\n      <td>NaN</td>\n      <td>NaN</td>\n      <td>...</td>\n      <td>NaN</td>\n      <td>NaN</td>\n      <td>4.222833</td>\n      <td>NaN</td>\n      <td>0.0</td>\n      <td>NaN</td>\n      <td>NaN</td>\n      <td>NaN</td>\n      <td>NaN</td>\n      <td>NaN</td>\n    </tr>\n    <tr>\n      <th>4</th>\n      <td>621e326767b776a24012e179</td>\n      <td>2021-07-22</td>\n      <td>17</td>\n      <td>UNCLASSIFIABLE</td>\n      <td>NONE</td>\n      <td>NaN</td>\n      <td>NaN</td>\n      <td>NaN</td>\n      <td>NaN</td>\n      <td>NaN</td>\n      <td>...</td>\n      <td>NaN</td>\n      <td>NaN</td>\n      <td>0.977667</td>\n      <td>NaN</td>\n      <td>0.0</td>\n      <td>0.0</td>\n      <td>0.0</td>\n      <td>NaN</td>\n      <td>NaN</td>\n      <td>NaN</td>\n    </tr>\n    <tr>\n      <th>...</th>\n      <td>...</td>\n      <td>...</td>\n      <td>...</td>\n      <td>...</td>\n      <td>...</td>\n      <td>...</td>\n      <td>...</td>\n      <td>...</td>\n      <td>...</td>\n      <td>...</td>\n      <td>...</td>\n      <td>...</td>\n      <td>...</td>\n      <td>...</td>\n      <td>...</td>\n      <td>...</td>\n      <td>...</td>\n      <td>...</td>\n      <td>...</td>\n      <td>...</td>\n      <td>...</td>\n    </tr>\n    <tr>\n      <th>159437</th>\n      <td>621e36f967b776a240e5e7c9</td>\n      <td>2021-08-03</td>\n      <td>0</td>\n      <td>NaN</td>\n      <td>NaN</td>\n      <td>NaN</td>\n      <td>NaN</td>\n      <td>NaN</td>\n      <td>NaN</td>\n      <td>NaN</td>\n      <td>...</td>\n      <td>NaN</td>\n      <td>NaN</td>\n      <td>NaN</td>\n      <td>NaN</td>\n      <td>NaN</td>\n      <td>NaN</td>\n      <td>NaN</td>\n      <td>0.0</td>\n      <td>NaN</td>\n      <td>NaN</td>\n    </tr>\n    <tr>\n      <th>159438</th>\n      <td>621e36f967b776a240e5e7c9</td>\n      <td>2021-08-04</td>\n      <td>0</td>\n      <td>NaN</td>\n      <td>NaN</td>\n      <td>NaN</td>\n      <td>NaN</td>\n      <td>NaN</td>\n      <td>NaN</td>\n      <td>NaN</td>\n      <td>...</td>\n      <td>NaN</td>\n      <td>NaN</td>\n      <td>NaN</td>\n      <td>NaN</td>\n      <td>NaN</td>\n      <td>NaN</td>\n      <td>NaN</td>\n      <td>0.0</td>\n      <td>NaN</td>\n      <td>NaN</td>\n    </tr>\n    <tr>\n      <th>159439</th>\n      <td>621e36f967b776a240e5e7c9</td>\n      <td>2021-08-05</td>\n      <td>0</td>\n      <td>NaN</td>\n      <td>NaN</td>\n      <td>NaN</td>\n      <td>NaN</td>\n      <td>NaN</td>\n      <td>NaN</td>\n      <td>NaN</td>\n      <td>...</td>\n      <td>NaN</td>\n      <td>NaN</td>\n      <td>NaN</td>\n      <td>NaN</td>\n      <td>NaN</td>\n      <td>NaN</td>\n      <td>NaN</td>\n      <td>0.0</td>\n      <td>NaN</td>\n      <td>NaN</td>\n    </tr>\n    <tr>\n      <th>159440</th>\n      <td>621e36f967b776a240e5e7c9</td>\n      <td>2021-08-06</td>\n      <td>0</td>\n      <td>NaN</td>\n      <td>NaN</td>\n      <td>NaN</td>\n      <td>NaN</td>\n      <td>NaN</td>\n      <td>NaN</td>\n      <td>NaN</td>\n      <td>...</td>\n      <td>NaN</td>\n      <td>NaN</td>\n      <td>NaN</td>\n      <td>NaN</td>\n      <td>NaN</td>\n      <td>NaN</td>\n      <td>NaN</td>\n      <td>0.0</td>\n      <td>NaN</td>\n      <td>NaN</td>\n    </tr>\n    <tr>\n      <th>159441</th>\n      <td>621e36f967b776a240e5e7c9</td>\n      <td>2021-08-07</td>\n      <td>0</td>\n      <td>NaN</td>\n      <td>NaN</td>\n      <td>NaN</td>\n      <td>NaN</td>\n      <td>NaN</td>\n      <td>NaN</td>\n      <td>NaN</td>\n      <td>...</td>\n      <td>NaN</td>\n      <td>NaN</td>\n      <td>NaN</td>\n      <td>NaN</td>\n      <td>NaN</td>\n      <td>NaN</td>\n      <td>NaN</td>\n      <td>0.0</td>\n      <td>NaN</td>\n      <td>NaN</td>\n    </tr>\n  </tbody>\n</table>\n<p>159442 rows × 30 columns</p>\n</div>"
     },
     "execution_count": 16,
     "metadata": {},
     "output_type": "execute_result"
    }
   ],
   "source": [
    "mindfulness_goals = pd.DataFrame(columns=[\"id\", \"data\"])\n",
    "\n",
    "# read and load from MongoDB\n",
    "for user in users:\n",
    "    user_data = pd.DataFrame(list(\n",
    "        db.fitbit.find({\"$and\": [\n",
    "            {\"type\": \"mindfulness_goals\"},\n",
    "            {\"id\": user}]},\n",
    "            {\"id\": 1, \"data.date\": 1, \"data.days\": 1, \"_id\": 0})))\n",
    "    mindfulness_goals = pd.concat([mindfulness_goals , user_data], axis=0)\n",
    "\n",
    "# split data column (json format) into two columns (df format)\n",
    "mindfulness_goals[\"date\"] = mindfulness_goals[\"data\"].apply(lambda d: d[\"date\"])\n",
    "mindfulness_goals[\"mindfulness_goal\"] = mindfulness_goals[\"data\"].apply(lambda d: d[\"days\"])\n",
    "mindfulness_goals.drop([\"data\"], inplace=True, axis=1)\n",
    "\n",
    "# process the datetime object, feature types and group and aggregate the data\n",
    "mindfulness_goals = data_loading.date_conversion(mindfulness_goals)\n",
    "mindfulness_goals['mindfulness_goal'] = pd.to_numeric(mindfulness_goals['mindfulness_goal'])\n",
    "mindfulness_goals = data_loading.aggregate_column(mindfulness_goals, list(mindfulness_goals.columns))\n",
    "\n",
    "# merge with the final dataframe\n",
    "df = df.merge(mindfulness_goals, how='outer', on=['id', 'date', 'hour'])\n",
    "df"
   ],
   "metadata": {
    "collapsed": false,
    "pycharm": {
     "name": "#%%\n"
    }
   }
  },
  {
   "cell_type": "markdown",
   "source": [
    "##### mindfulness_sessions"
   ],
   "metadata": {
    "collapsed": false,
    "pycharm": {
     "name": "#%% md\n"
    }
   }
  },
  {
   "cell_type": "code",
   "execution_count": 17,
   "outputs": [
    {
     "data": {
      "text/plain": "                              id       date  hour             ecg  \\\n0       621e2ff067b776a2403eb737 2021-12-22    19             NSR   \n1       621e301367b776a24057738e 2021-06-08    21             NSR   \n2       621e312a67b776a240164d59 2021-10-07    17             NSR   \n3       621e312a67b776a240164d59 2021-10-10    20             NSR   \n4       621e326767b776a24012e179 2021-07-22    17  UNCLASSIFIABLE   \n...                          ...        ...   ...             ...   \n159437  621e36f967b776a240e5e7c9 2021-08-03     0             NaN   \n159438  621e36f967b776a240e5e7c9 2021-08-04     0             NaN   \n159439  621e36f967b776a240e5e7c9 2021-08-05     0             NaN   \n159440  621e36f967b776a240e5e7c9 2021-08-06     0             NaN   \n159441  621e36f967b776a240e5e7c9 2021-08-07     0             NaN   \n\n       heart_rate_alert type  nightly_temperature  nremhr  spo2  rmssd  ...  \\\n0                  NONE  NaN                  NaN     NaN   NaN    NaN  ...   \n1                  NONE  NaN                  NaN     NaN   NaN    NaN  ...   \n2                  NONE  NaN                  NaN     NaN   NaN    NaN  ...   \n3                  NONE  NaN                  NaN     NaN   NaN    NaN  ...   \n4                  NONE  NaN                  NaN     NaN   NaN    NaN  ...   \n...                 ...  ...                  ...     ...   ...    ...  ...   \n159437              NaN  NaN                  NaN     NaN   NaN    NaN  ...   \n159438              NaN  NaN                  NaN     NaN   NaN    NaN  ...   \n159439              NaN  NaN                  NaN     NaN   NaN    NaN  ...   \n159440              NaN  NaN                  NaN     NaN   NaN    NaN  ...   \n159441              NaN  NaN                  NaN     NaN   NaN    NaN  ...   \n\n        calories  vo2max  distance  oxygen_variation_x  oxygen_variation_y  \\\n0       1.641667     NaN       0.0                 NaN                 NaN   \n1       1.616667     NaN       0.0                 NaN                 NaN   \n2       1.290000     NaN       0.0                 NaN                 NaN   \n3       4.222833     NaN       0.0                 NaN                 NaN   \n4       0.977667     NaN       0.0                 0.0                 0.0   \n...          ...     ...       ...                 ...                 ...   \n159437       NaN     NaN       NaN                 NaN                 NaN   \n159438       NaN     NaN       NaN                 NaN                 NaN   \n159439       NaN     NaN       NaN                 NaN                 NaN   \n159440       NaN     NaN       NaN                 NaN                 NaN   \n159441       NaN     NaN       NaN                 NaN                 NaN   \n\n        lightly_active_minutes   scl_avg  mindfulness_goal  \\\n0                          NaN       NaN               NaN   \n1                          NaN       NaN               NaN   \n2                          NaN  9.703215               NaN   \n3                          NaN       NaN               NaN   \n4                          NaN       NaN               NaN   \n...                        ...       ...               ...   \n159437                     0.0       NaN               NaN   \n159438                     0.0       NaN               NaN   \n159439                     0.0       NaN               NaN   \n159440                     0.0       NaN               NaN   \n159441                     0.0       NaN               NaN   \n\n        mindfulness_start_heart_rate  mindfulness_end_heart_rate  \n0                                NaN                         NaN  \n1                                NaN                         NaN  \n2                                NaN                         NaN  \n3                                NaN                         NaN  \n4                                NaN                         NaN  \n...                              ...                         ...  \n159437                           NaN                         NaN  \n159438                           NaN                         NaN  \n159439                           NaN                         NaN  \n159440                           NaN                         NaN  \n159441                           NaN                         NaN  \n\n[159442 rows x 32 columns]",
      "text/html": "<div>\n<style scoped>\n    .dataframe tbody tr th:only-of-type {\n        vertical-align: middle;\n    }\n\n    .dataframe tbody tr th {\n        vertical-align: top;\n    }\n\n    .dataframe thead th {\n        text-align: right;\n    }\n</style>\n<table border=\"1\" class=\"dataframe\">\n  <thead>\n    <tr style=\"text-align: right;\">\n      <th></th>\n      <th>id</th>\n      <th>date</th>\n      <th>hour</th>\n      <th>ecg</th>\n      <th>heart_rate_alert</th>\n      <th>type</th>\n      <th>nightly_temperature</th>\n      <th>nremhr</th>\n      <th>spo2</th>\n      <th>rmssd</th>\n      <th>...</th>\n      <th>calories</th>\n      <th>vo2max</th>\n      <th>distance</th>\n      <th>oxygen_variation_x</th>\n      <th>oxygen_variation_y</th>\n      <th>lightly_active_minutes</th>\n      <th>scl_avg</th>\n      <th>mindfulness_goal</th>\n      <th>mindfulness_start_heart_rate</th>\n      <th>mindfulness_end_heart_rate</th>\n    </tr>\n  </thead>\n  <tbody>\n    <tr>\n      <th>0</th>\n      <td>621e2ff067b776a2403eb737</td>\n      <td>2021-12-22</td>\n      <td>19</td>\n      <td>NSR</td>\n      <td>NONE</td>\n      <td>NaN</td>\n      <td>NaN</td>\n      <td>NaN</td>\n      <td>NaN</td>\n      <td>NaN</td>\n      <td>...</td>\n      <td>1.641667</td>\n      <td>NaN</td>\n      <td>0.0</td>\n      <td>NaN</td>\n      <td>NaN</td>\n      <td>NaN</td>\n      <td>NaN</td>\n      <td>NaN</td>\n      <td>NaN</td>\n      <td>NaN</td>\n    </tr>\n    <tr>\n      <th>1</th>\n      <td>621e301367b776a24057738e</td>\n      <td>2021-06-08</td>\n      <td>21</td>\n      <td>NSR</td>\n      <td>NONE</td>\n      <td>NaN</td>\n      <td>NaN</td>\n      <td>NaN</td>\n      <td>NaN</td>\n      <td>NaN</td>\n      <td>...</td>\n      <td>1.616667</td>\n      <td>NaN</td>\n      <td>0.0</td>\n      <td>NaN</td>\n      <td>NaN</td>\n      <td>NaN</td>\n      <td>NaN</td>\n      <td>NaN</td>\n      <td>NaN</td>\n      <td>NaN</td>\n    </tr>\n    <tr>\n      <th>2</th>\n      <td>621e312a67b776a240164d59</td>\n      <td>2021-10-07</td>\n      <td>17</td>\n      <td>NSR</td>\n      <td>NONE</td>\n      <td>NaN</td>\n      <td>NaN</td>\n      <td>NaN</td>\n      <td>NaN</td>\n      <td>NaN</td>\n      <td>...</td>\n      <td>1.290000</td>\n      <td>NaN</td>\n      <td>0.0</td>\n      <td>NaN</td>\n      <td>NaN</td>\n      <td>NaN</td>\n      <td>9.703215</td>\n      <td>NaN</td>\n      <td>NaN</td>\n      <td>NaN</td>\n    </tr>\n    <tr>\n      <th>3</th>\n      <td>621e312a67b776a240164d59</td>\n      <td>2021-10-10</td>\n      <td>20</td>\n      <td>NSR</td>\n      <td>NONE</td>\n      <td>NaN</td>\n      <td>NaN</td>\n      <td>NaN</td>\n      <td>NaN</td>\n      <td>NaN</td>\n      <td>...</td>\n      <td>4.222833</td>\n      <td>NaN</td>\n      <td>0.0</td>\n      <td>NaN</td>\n      <td>NaN</td>\n      <td>NaN</td>\n      <td>NaN</td>\n      <td>NaN</td>\n      <td>NaN</td>\n      <td>NaN</td>\n    </tr>\n    <tr>\n      <th>4</th>\n      <td>621e326767b776a24012e179</td>\n      <td>2021-07-22</td>\n      <td>17</td>\n      <td>UNCLASSIFIABLE</td>\n      <td>NONE</td>\n      <td>NaN</td>\n      <td>NaN</td>\n      <td>NaN</td>\n      <td>NaN</td>\n      <td>NaN</td>\n      <td>...</td>\n      <td>0.977667</td>\n      <td>NaN</td>\n      <td>0.0</td>\n      <td>0.0</td>\n      <td>0.0</td>\n      <td>NaN</td>\n      <td>NaN</td>\n      <td>NaN</td>\n      <td>NaN</td>\n      <td>NaN</td>\n    </tr>\n    <tr>\n      <th>...</th>\n      <td>...</td>\n      <td>...</td>\n      <td>...</td>\n      <td>...</td>\n      <td>...</td>\n      <td>...</td>\n      <td>...</td>\n      <td>...</td>\n      <td>...</td>\n      <td>...</td>\n      <td>...</td>\n      <td>...</td>\n      <td>...</td>\n      <td>...</td>\n      <td>...</td>\n      <td>...</td>\n      <td>...</td>\n      <td>...</td>\n      <td>...</td>\n      <td>...</td>\n      <td>...</td>\n    </tr>\n    <tr>\n      <th>159437</th>\n      <td>621e36f967b776a240e5e7c9</td>\n      <td>2021-08-03</td>\n      <td>0</td>\n      <td>NaN</td>\n      <td>NaN</td>\n      <td>NaN</td>\n      <td>NaN</td>\n      <td>NaN</td>\n      <td>NaN</td>\n      <td>NaN</td>\n      <td>...</td>\n      <td>NaN</td>\n      <td>NaN</td>\n      <td>NaN</td>\n      <td>NaN</td>\n      <td>NaN</td>\n      <td>0.0</td>\n      <td>NaN</td>\n      <td>NaN</td>\n      <td>NaN</td>\n      <td>NaN</td>\n    </tr>\n    <tr>\n      <th>159438</th>\n      <td>621e36f967b776a240e5e7c9</td>\n      <td>2021-08-04</td>\n      <td>0</td>\n      <td>NaN</td>\n      <td>NaN</td>\n      <td>NaN</td>\n      <td>NaN</td>\n      <td>NaN</td>\n      <td>NaN</td>\n      <td>NaN</td>\n      <td>...</td>\n      <td>NaN</td>\n      <td>NaN</td>\n      <td>NaN</td>\n      <td>NaN</td>\n      <td>NaN</td>\n      <td>0.0</td>\n      <td>NaN</td>\n      <td>NaN</td>\n      <td>NaN</td>\n      <td>NaN</td>\n    </tr>\n    <tr>\n      <th>159439</th>\n      <td>621e36f967b776a240e5e7c9</td>\n      <td>2021-08-05</td>\n      <td>0</td>\n      <td>NaN</td>\n      <td>NaN</td>\n      <td>NaN</td>\n      <td>NaN</td>\n      <td>NaN</td>\n      <td>NaN</td>\n      <td>NaN</td>\n      <td>...</td>\n      <td>NaN</td>\n      <td>NaN</td>\n      <td>NaN</td>\n      <td>NaN</td>\n      <td>NaN</td>\n      <td>0.0</td>\n      <td>NaN</td>\n      <td>NaN</td>\n      <td>NaN</td>\n      <td>NaN</td>\n    </tr>\n    <tr>\n      <th>159440</th>\n      <td>621e36f967b776a240e5e7c9</td>\n      <td>2021-08-06</td>\n      <td>0</td>\n      <td>NaN</td>\n      <td>NaN</td>\n      <td>NaN</td>\n      <td>NaN</td>\n      <td>NaN</td>\n      <td>NaN</td>\n      <td>NaN</td>\n      <td>...</td>\n      <td>NaN</td>\n      <td>NaN</td>\n      <td>NaN</td>\n      <td>NaN</td>\n      <td>NaN</td>\n      <td>0.0</td>\n      <td>NaN</td>\n      <td>NaN</td>\n      <td>NaN</td>\n      <td>NaN</td>\n    </tr>\n    <tr>\n      <th>159441</th>\n      <td>621e36f967b776a240e5e7c9</td>\n      <td>2021-08-07</td>\n      <td>0</td>\n      <td>NaN</td>\n      <td>NaN</td>\n      <td>NaN</td>\n      <td>NaN</td>\n      <td>NaN</td>\n      <td>NaN</td>\n      <td>NaN</td>\n      <td>...</td>\n      <td>NaN</td>\n      <td>NaN</td>\n      <td>NaN</td>\n      <td>NaN</td>\n      <td>NaN</td>\n      <td>0.0</td>\n      <td>NaN</td>\n      <td>NaN</td>\n      <td>NaN</td>\n      <td>NaN</td>\n    </tr>\n  </tbody>\n</table>\n<p>159442 rows × 32 columns</p>\n</div>"
     },
     "execution_count": 17,
     "metadata": {},
     "output_type": "execute_result"
    }
   ],
   "source": [
    "mindfulness_sessions = pd.DataFrame(columns=[\"id\", \"data\"])\n",
    "\n",
    "# read and load from MongoDB\n",
    "for user in users:\n",
    "    user_data = pd.DataFrame(list(\n",
    "        db.fitbit.find({\"$and\": [\n",
    "            {\"type\": \"mindfulness_sessions\"},\n",
    "            {\"id\": user}]},\n",
    "            {\"id\": 1, \"data.start_date_time\": 1, \"data.start_heart_rate\": 1, \"data.end_heart_rate\": 1, \"_id\": 0})))\n",
    "    mindfulness_sessions = pd.concat([mindfulness_sessions , user_data], axis=0)\n",
    "\n",
    "# split data column (json format) into two columns (df format)\n",
    "mindfulness_sessions[\"date\"] = mindfulness_sessions[\"data\"].apply(lambda d: d[\"start_date_time\"])\n",
    "mindfulness_sessions[\"mindfulness_start_heart_rate\"] = mindfulness_sessions[\"data\"].apply(lambda d: d[\"start_heart_rate\"])\n",
    "mindfulness_sessions[\"mindfulness_end_heart_rate\"] = mindfulness_sessions[\"data\"].apply(lambda d: d[\"end_heart_rate\"])\n",
    "mindfulness_sessions.drop([\"data\"], inplace=True, axis=1)\n",
    "\n",
    "# process the datetime object, feature types and group and aggregate the data\n",
    "mindfulness_sessions = data_loading.date_conversion(mindfulness_sessions)\n",
    "mindfulness_sessions['mindfulness_start_heart_rate'] = pd.to_numeric(mindfulness_sessions['mindfulness_start_heart_rate'])\n",
    "mindfulness_sessions['mindfulness_end_heart_rate'] = pd.to_numeric(mindfulness_sessions['mindfulness_end_heart_rate'])\n",
    "mindfulness_sessions = data_loading.aggregate_column(mindfulness_sessions, list(mindfulness_sessions.columns))\n",
    "\n",
    "# merge with the final dataframe\n",
    "df = df.merge(mindfulness_sessions, how='outer', on=['id', 'date', 'hour'])\n",
    "df"
   ],
   "metadata": {
    "collapsed": false,
    "pycharm": {
     "name": "#%%\n"
    }
   }
  },
  {
   "cell_type": "markdown",
   "source": [
    "##### moderately_active_minutes"
   ],
   "metadata": {
    "collapsed": false,
    "pycharm": {
     "name": "#%% md\n"
    }
   }
  },
  {
   "cell_type": "code",
   "execution_count": 19,
   "outputs": [
    {
     "data": {
      "text/plain": "                              id       date  hour             ecg  \\\n0       621e2ff067b776a2403eb737 2021-12-22    19             NSR   \n1       621e301367b776a24057738e 2021-06-08    21             NSR   \n2       621e312a67b776a240164d59 2021-10-07    17             NSR   \n3       621e312a67b776a240164d59 2021-10-10    20             NSR   \n4       621e326767b776a24012e179 2021-07-22    17  UNCLASSIFIABLE   \n...                          ...        ...   ...             ...   \n159437  621e36f967b776a240e5e7c9 2021-08-03     0             NaN   \n159438  621e36f967b776a240e5e7c9 2021-08-04     0             NaN   \n159439  621e36f967b776a240e5e7c9 2021-08-05     0             NaN   \n159440  621e36f967b776a240e5e7c9 2021-08-06     0             NaN   \n159441  621e36f967b776a240e5e7c9 2021-08-07     0             NaN   \n\n       heart_rate_alert type  nightly_temperature  nremhr  spo2  rmssd  ...  \\\n0                  NONE  NaN                  NaN     NaN   NaN    NaN  ...   \n1                  NONE  NaN                  NaN     NaN   NaN    NaN  ...   \n2                  NONE  NaN                  NaN     NaN   NaN    NaN  ...   \n3                  NONE  NaN                  NaN     NaN   NaN    NaN  ...   \n4                  NONE  NaN                  NaN     NaN   NaN    NaN  ...   \n...                 ...  ...                  ...     ...   ...    ...  ...   \n159437              NaN  NaN                  NaN     NaN   NaN    NaN  ...   \n159438              NaN  NaN                  NaN     NaN   NaN    NaN  ...   \n159439              NaN  NaN                  NaN     NaN   NaN    NaN  ...   \n159440              NaN  NaN                  NaN     NaN   NaN    NaN  ...   \n159441              NaN  NaN                  NaN     NaN   NaN    NaN  ...   \n\n        vo2max  distance  oxygen_variation_x  oxygen_variation_y  \\\n0          NaN       0.0                 NaN                 NaN   \n1          NaN       0.0                 NaN                 NaN   \n2          NaN       0.0                 NaN                 NaN   \n3          NaN       0.0                 NaN                 NaN   \n4          NaN       0.0                 0.0                 0.0   \n...        ...       ...                 ...                 ...   \n159437     NaN       NaN                 NaN                 NaN   \n159438     NaN       NaN                 NaN                 NaN   \n159439     NaN       NaN                 NaN                 NaN   \n159440     NaN       NaN                 NaN                 NaN   \n159441     NaN       NaN                 NaN                 NaN   \n\n        lightly_active_minutes   scl_avg  mindfulness_goal  \\\n0                          NaN       NaN               NaN   \n1                          NaN       NaN               NaN   \n2                          NaN  9.703215               NaN   \n3                          NaN       NaN               NaN   \n4                          NaN       NaN               NaN   \n...                        ...       ...               ...   \n159437                     0.0       NaN               NaN   \n159438                     0.0       NaN               NaN   \n159439                     0.0       NaN               NaN   \n159440                     0.0       NaN               NaN   \n159441                     0.0       NaN               NaN   \n\n        mindfulness_start_heart_rate  mindfulness_end_heart_rate  \\\n0                                NaN                         NaN   \n1                                NaN                         NaN   \n2                                NaN                         NaN   \n3                                NaN                         NaN   \n4                                NaN                         NaN   \n...                              ...                         ...   \n159437                           NaN                         NaN   \n159438                           NaN                         NaN   \n159439                           NaN                         NaN   \n159440                           NaN                         NaN   \n159441                           NaN                         NaN   \n\n        moderately_active_minutes  \n0                             NaN  \n1                             NaN  \n2                             NaN  \n3                             NaN  \n4                             NaN  \n...                           ...  \n159437                        0.0  \n159438                        0.0  \n159439                        0.0  \n159440                        0.0  \n159441                        0.0  \n\n[159442 rows x 33 columns]",
      "text/html": "<div>\n<style scoped>\n    .dataframe tbody tr th:only-of-type {\n        vertical-align: middle;\n    }\n\n    .dataframe tbody tr th {\n        vertical-align: top;\n    }\n\n    .dataframe thead th {\n        text-align: right;\n    }\n</style>\n<table border=\"1\" class=\"dataframe\">\n  <thead>\n    <tr style=\"text-align: right;\">\n      <th></th>\n      <th>id</th>\n      <th>date</th>\n      <th>hour</th>\n      <th>ecg</th>\n      <th>heart_rate_alert</th>\n      <th>type</th>\n      <th>nightly_temperature</th>\n      <th>nremhr</th>\n      <th>spo2</th>\n      <th>rmssd</th>\n      <th>...</th>\n      <th>vo2max</th>\n      <th>distance</th>\n      <th>oxygen_variation_x</th>\n      <th>oxygen_variation_y</th>\n      <th>lightly_active_minutes</th>\n      <th>scl_avg</th>\n      <th>mindfulness_goal</th>\n      <th>mindfulness_start_heart_rate</th>\n      <th>mindfulness_end_heart_rate</th>\n      <th>moderately_active_minutes</th>\n    </tr>\n  </thead>\n  <tbody>\n    <tr>\n      <th>0</th>\n      <td>621e2ff067b776a2403eb737</td>\n      <td>2021-12-22</td>\n      <td>19</td>\n      <td>NSR</td>\n      <td>NONE</td>\n      <td>NaN</td>\n      <td>NaN</td>\n      <td>NaN</td>\n      <td>NaN</td>\n      <td>NaN</td>\n      <td>...</td>\n      <td>NaN</td>\n      <td>0.0</td>\n      <td>NaN</td>\n      <td>NaN</td>\n      <td>NaN</td>\n      <td>NaN</td>\n      <td>NaN</td>\n      <td>NaN</td>\n      <td>NaN</td>\n      <td>NaN</td>\n    </tr>\n    <tr>\n      <th>1</th>\n      <td>621e301367b776a24057738e</td>\n      <td>2021-06-08</td>\n      <td>21</td>\n      <td>NSR</td>\n      <td>NONE</td>\n      <td>NaN</td>\n      <td>NaN</td>\n      <td>NaN</td>\n      <td>NaN</td>\n      <td>NaN</td>\n      <td>...</td>\n      <td>NaN</td>\n      <td>0.0</td>\n      <td>NaN</td>\n      <td>NaN</td>\n      <td>NaN</td>\n      <td>NaN</td>\n      <td>NaN</td>\n      <td>NaN</td>\n      <td>NaN</td>\n      <td>NaN</td>\n    </tr>\n    <tr>\n      <th>2</th>\n      <td>621e312a67b776a240164d59</td>\n      <td>2021-10-07</td>\n      <td>17</td>\n      <td>NSR</td>\n      <td>NONE</td>\n      <td>NaN</td>\n      <td>NaN</td>\n      <td>NaN</td>\n      <td>NaN</td>\n      <td>NaN</td>\n      <td>...</td>\n      <td>NaN</td>\n      <td>0.0</td>\n      <td>NaN</td>\n      <td>NaN</td>\n      <td>NaN</td>\n      <td>9.703215</td>\n      <td>NaN</td>\n      <td>NaN</td>\n      <td>NaN</td>\n      <td>NaN</td>\n    </tr>\n    <tr>\n      <th>3</th>\n      <td>621e312a67b776a240164d59</td>\n      <td>2021-10-10</td>\n      <td>20</td>\n      <td>NSR</td>\n      <td>NONE</td>\n      <td>NaN</td>\n      <td>NaN</td>\n      <td>NaN</td>\n      <td>NaN</td>\n      <td>NaN</td>\n      <td>...</td>\n      <td>NaN</td>\n      <td>0.0</td>\n      <td>NaN</td>\n      <td>NaN</td>\n      <td>NaN</td>\n      <td>NaN</td>\n      <td>NaN</td>\n      <td>NaN</td>\n      <td>NaN</td>\n      <td>NaN</td>\n    </tr>\n    <tr>\n      <th>4</th>\n      <td>621e326767b776a24012e179</td>\n      <td>2021-07-22</td>\n      <td>17</td>\n      <td>UNCLASSIFIABLE</td>\n      <td>NONE</td>\n      <td>NaN</td>\n      <td>NaN</td>\n      <td>NaN</td>\n      <td>NaN</td>\n      <td>NaN</td>\n      <td>...</td>\n      <td>NaN</td>\n      <td>0.0</td>\n      <td>0.0</td>\n      <td>0.0</td>\n      <td>NaN</td>\n      <td>NaN</td>\n      <td>NaN</td>\n      <td>NaN</td>\n      <td>NaN</td>\n      <td>NaN</td>\n    </tr>\n    <tr>\n      <th>...</th>\n      <td>...</td>\n      <td>...</td>\n      <td>...</td>\n      <td>...</td>\n      <td>...</td>\n      <td>...</td>\n      <td>...</td>\n      <td>...</td>\n      <td>...</td>\n      <td>...</td>\n      <td>...</td>\n      <td>...</td>\n      <td>...</td>\n      <td>...</td>\n      <td>...</td>\n      <td>...</td>\n      <td>...</td>\n      <td>...</td>\n      <td>...</td>\n      <td>...</td>\n      <td>...</td>\n    </tr>\n    <tr>\n      <th>159437</th>\n      <td>621e36f967b776a240e5e7c9</td>\n      <td>2021-08-03</td>\n      <td>0</td>\n      <td>NaN</td>\n      <td>NaN</td>\n      <td>NaN</td>\n      <td>NaN</td>\n      <td>NaN</td>\n      <td>NaN</td>\n      <td>NaN</td>\n      <td>...</td>\n      <td>NaN</td>\n      <td>NaN</td>\n      <td>NaN</td>\n      <td>NaN</td>\n      <td>0.0</td>\n      <td>NaN</td>\n      <td>NaN</td>\n      <td>NaN</td>\n      <td>NaN</td>\n      <td>0.0</td>\n    </tr>\n    <tr>\n      <th>159438</th>\n      <td>621e36f967b776a240e5e7c9</td>\n      <td>2021-08-04</td>\n      <td>0</td>\n      <td>NaN</td>\n      <td>NaN</td>\n      <td>NaN</td>\n      <td>NaN</td>\n      <td>NaN</td>\n      <td>NaN</td>\n      <td>NaN</td>\n      <td>...</td>\n      <td>NaN</td>\n      <td>NaN</td>\n      <td>NaN</td>\n      <td>NaN</td>\n      <td>0.0</td>\n      <td>NaN</td>\n      <td>NaN</td>\n      <td>NaN</td>\n      <td>NaN</td>\n      <td>0.0</td>\n    </tr>\n    <tr>\n      <th>159439</th>\n      <td>621e36f967b776a240e5e7c9</td>\n      <td>2021-08-05</td>\n      <td>0</td>\n      <td>NaN</td>\n      <td>NaN</td>\n      <td>NaN</td>\n      <td>NaN</td>\n      <td>NaN</td>\n      <td>NaN</td>\n      <td>NaN</td>\n      <td>...</td>\n      <td>NaN</td>\n      <td>NaN</td>\n      <td>NaN</td>\n      <td>NaN</td>\n      <td>0.0</td>\n      <td>NaN</td>\n      <td>NaN</td>\n      <td>NaN</td>\n      <td>NaN</td>\n      <td>0.0</td>\n    </tr>\n    <tr>\n      <th>159440</th>\n      <td>621e36f967b776a240e5e7c9</td>\n      <td>2021-08-06</td>\n      <td>0</td>\n      <td>NaN</td>\n      <td>NaN</td>\n      <td>NaN</td>\n      <td>NaN</td>\n      <td>NaN</td>\n      <td>NaN</td>\n      <td>NaN</td>\n      <td>...</td>\n      <td>NaN</td>\n      <td>NaN</td>\n      <td>NaN</td>\n      <td>NaN</td>\n      <td>0.0</td>\n      <td>NaN</td>\n      <td>NaN</td>\n      <td>NaN</td>\n      <td>NaN</td>\n      <td>0.0</td>\n    </tr>\n    <tr>\n      <th>159441</th>\n      <td>621e36f967b776a240e5e7c9</td>\n      <td>2021-08-07</td>\n      <td>0</td>\n      <td>NaN</td>\n      <td>NaN</td>\n      <td>NaN</td>\n      <td>NaN</td>\n      <td>NaN</td>\n      <td>NaN</td>\n      <td>NaN</td>\n      <td>...</td>\n      <td>NaN</td>\n      <td>NaN</td>\n      <td>NaN</td>\n      <td>NaN</td>\n      <td>0.0</td>\n      <td>NaN</td>\n      <td>NaN</td>\n      <td>NaN</td>\n      <td>NaN</td>\n      <td>0.0</td>\n    </tr>\n  </tbody>\n</table>\n<p>159442 rows × 33 columns</p>\n</div>"
     },
     "execution_count": 19,
     "metadata": {},
     "output_type": "execute_result"
    }
   ],
   "source": [
    "moderately_minutes = pd.DataFrame(columns=[\"id\", \"data\"])\n",
    "\n",
    "# read and load from MongoDB\n",
    "for user in users:\n",
    "    user_data = pd.DataFrame(list(\n",
    "        db.fitbit.find({\"$and\": [\n",
    "            {\"type\": \"moderately_active_minutes\"},\n",
    "            {\"id\": user}]},\n",
    "            {\"id\": 1, \"data.dateTime\": 1, \"data.value\": 1, \"_id\": 0})))\n",
    "    moderately_minutes = pd.concat([moderately_minutes , user_data], axis=0)\n",
    "\n",
    "# split data column (json format) into two columns (df format)\n",
    "moderately_minutes[\"date\"] = moderately_minutes[\"data\"].apply(lambda d: d[\"dateTime\"])\n",
    "moderately_minutes[\"moderately_active_minutes\"] = moderately_minutes[\"data\"].apply(lambda d: d[\"value\"])\n",
    "moderately_minutes.drop([\"data\"], inplace=True, axis=1)\n",
    "\n",
    "# process the datetime object, feature types and group and aggregate the data\n",
    "moderately_minutes = data_loading.date_conversion(moderately_minutes)\n",
    "moderately_minutes[\"moderately_active_minutes\"] = pd.to_numeric(moderately_minutes[\"moderately_active_minutes\"])\n",
    "moderately_minutes = data_loading.aggregate_column(moderately_minutes, list(moderately_minutes.columns))\n",
    "\n",
    "# merge with the final dataframe\n",
    "df = df.merge(moderately_minutes, how='outer', on=['id', 'date', 'hour'])\n",
    "df"
   ],
   "metadata": {
    "collapsed": false,
    "pycharm": {
     "name": "#%%\n"
    }
   }
  },
  {
   "cell_type": "markdown",
   "source": [
    "##### resting_heart_rate"
   ],
   "metadata": {
    "collapsed": false,
    "pycharm": {
     "name": "#%% md\n"
    }
   }
  },
  {
   "cell_type": "code",
   "execution_count": 23,
   "outputs": [
    {
     "data": {
      "text/plain": "                              id       date  hour             ecg  \\\n0       621e2ff067b776a2403eb737 2021-12-22    19             NSR   \n1       621e301367b776a24057738e 2021-06-08    21             NSR   \n2       621e312a67b776a240164d59 2021-10-07    17             NSR   \n3       621e312a67b776a240164d59 2021-10-10    20             NSR   \n4       621e326767b776a24012e179 2021-07-22    17  UNCLASSIFIABLE   \n...                          ...        ...   ...             ...   \n164490  621e375b67b776a240290cdc 2022-01-18     0             NaN   \n164491  621e375b67b776a240290cdc 2022-01-19     0             NaN   \n164492  621e375b67b776a240290cdc 2022-01-20     0             NaN   \n164493  621e375b67b776a240290cdc 2022-01-21     0             NaN   \n164494  621e375b67b776a240290cdc 2022-01-22     0             NaN   \n\n       heart_rate_alert type  nightly_temperature  nremhr  spo2  rmssd  ...  \\\n0                  NONE  NaN                  NaN     NaN   NaN    NaN  ...   \n1                  NONE  NaN                  NaN     NaN   NaN    NaN  ...   \n2                  NONE  NaN                  NaN     NaN   NaN    NaN  ...   \n3                  NONE  NaN                  NaN     NaN   NaN    NaN  ...   \n4                  NONE  NaN                  NaN     NaN   NaN    NaN  ...   \n...                 ...  ...                  ...     ...   ...    ...  ...   \n164490              NaN  NaN                  NaN     NaN   NaN    NaN  ...   \n164491              NaN  NaN                  NaN     NaN   NaN    NaN  ...   \n164492              NaN  NaN                  NaN     NaN   NaN    NaN  ...   \n164493              NaN  NaN                  NaN     NaN   NaN    NaN  ...   \n164494              NaN  NaN                  NaN     NaN   NaN    NaN  ...   \n\n        distance  oxygen_variation_x  oxygen_variation_y  \\\n0            0.0                 NaN                 NaN   \n1            0.0                 NaN                 NaN   \n2            0.0                 NaN                 NaN   \n3            0.0                 NaN                 NaN   \n4            0.0                 0.0                 0.0   \n...          ...                 ...                 ...   \n164490       NaN                 NaN                 NaN   \n164491       NaN                 NaN                 NaN   \n164492       NaN                 NaN                 NaN   \n164493       NaN                 NaN                 NaN   \n164494       NaN                 NaN                 NaN   \n\n        lightly_active_minutes   scl_avg  mindfulness_goal  \\\n0                          NaN       NaN               NaN   \n1                          NaN       NaN               NaN   \n2                          NaN  9.703215               NaN   \n3                          NaN       NaN               NaN   \n4                          NaN       NaN               NaN   \n...                        ...       ...               ...   \n164490                     NaN       NaN               NaN   \n164491                     NaN       NaN               NaN   \n164492                     NaN       NaN               NaN   \n164493                     NaN       NaN               NaN   \n164494                     NaN       NaN               NaN   \n\n        mindfulness_start_heart_rate  mindfulness_end_heart_rate  \\\n0                                NaN                         NaN   \n1                                NaN                         NaN   \n2                                NaN                         NaN   \n3                                NaN                         NaN   \n4                                NaN                         NaN   \n...                              ...                         ...   \n164490                           NaN                         NaN   \n164491                           NaN                         NaN   \n164492                           NaN                         NaN   \n164493                           NaN                         NaN   \n164494                           NaN                         NaN   \n\n        moderately_active_minutes  resting_heart_rate  \n0                             NaN                 NaN  \n1                             NaN                 NaN  \n2                             NaN                 NaN  \n3                             NaN                 NaN  \n4                             NaN                 NaN  \n...                           ...                 ...  \n164490                        NaN                 0.0  \n164491                        NaN                 0.0  \n164492                        NaN                 0.0  \n164493                        NaN                 0.0  \n164494                        NaN                 0.0  \n\n[164495 rows x 34 columns]",
      "text/html": "<div>\n<style scoped>\n    .dataframe tbody tr th:only-of-type {\n        vertical-align: middle;\n    }\n\n    .dataframe tbody tr th {\n        vertical-align: top;\n    }\n\n    .dataframe thead th {\n        text-align: right;\n    }\n</style>\n<table border=\"1\" class=\"dataframe\">\n  <thead>\n    <tr style=\"text-align: right;\">\n      <th></th>\n      <th>id</th>\n      <th>date</th>\n      <th>hour</th>\n      <th>ecg</th>\n      <th>heart_rate_alert</th>\n      <th>type</th>\n      <th>nightly_temperature</th>\n      <th>nremhr</th>\n      <th>spo2</th>\n      <th>rmssd</th>\n      <th>...</th>\n      <th>distance</th>\n      <th>oxygen_variation_x</th>\n      <th>oxygen_variation_y</th>\n      <th>lightly_active_minutes</th>\n      <th>scl_avg</th>\n      <th>mindfulness_goal</th>\n      <th>mindfulness_start_heart_rate</th>\n      <th>mindfulness_end_heart_rate</th>\n      <th>moderately_active_minutes</th>\n      <th>resting_heart_rate</th>\n    </tr>\n  </thead>\n  <tbody>\n    <tr>\n      <th>0</th>\n      <td>621e2ff067b776a2403eb737</td>\n      <td>2021-12-22</td>\n      <td>19</td>\n      <td>NSR</td>\n      <td>NONE</td>\n      <td>NaN</td>\n      <td>NaN</td>\n      <td>NaN</td>\n      <td>NaN</td>\n      <td>NaN</td>\n      <td>...</td>\n      <td>0.0</td>\n      <td>NaN</td>\n      <td>NaN</td>\n      <td>NaN</td>\n      <td>NaN</td>\n      <td>NaN</td>\n      <td>NaN</td>\n      <td>NaN</td>\n      <td>NaN</td>\n      <td>NaN</td>\n    </tr>\n    <tr>\n      <th>1</th>\n      <td>621e301367b776a24057738e</td>\n      <td>2021-06-08</td>\n      <td>21</td>\n      <td>NSR</td>\n      <td>NONE</td>\n      <td>NaN</td>\n      <td>NaN</td>\n      <td>NaN</td>\n      <td>NaN</td>\n      <td>NaN</td>\n      <td>...</td>\n      <td>0.0</td>\n      <td>NaN</td>\n      <td>NaN</td>\n      <td>NaN</td>\n      <td>NaN</td>\n      <td>NaN</td>\n      <td>NaN</td>\n      <td>NaN</td>\n      <td>NaN</td>\n      <td>NaN</td>\n    </tr>\n    <tr>\n      <th>2</th>\n      <td>621e312a67b776a240164d59</td>\n      <td>2021-10-07</td>\n      <td>17</td>\n      <td>NSR</td>\n      <td>NONE</td>\n      <td>NaN</td>\n      <td>NaN</td>\n      <td>NaN</td>\n      <td>NaN</td>\n      <td>NaN</td>\n      <td>...</td>\n      <td>0.0</td>\n      <td>NaN</td>\n      <td>NaN</td>\n      <td>NaN</td>\n      <td>9.703215</td>\n      <td>NaN</td>\n      <td>NaN</td>\n      <td>NaN</td>\n      <td>NaN</td>\n      <td>NaN</td>\n    </tr>\n    <tr>\n      <th>3</th>\n      <td>621e312a67b776a240164d59</td>\n      <td>2021-10-10</td>\n      <td>20</td>\n      <td>NSR</td>\n      <td>NONE</td>\n      <td>NaN</td>\n      <td>NaN</td>\n      <td>NaN</td>\n      <td>NaN</td>\n      <td>NaN</td>\n      <td>...</td>\n      <td>0.0</td>\n      <td>NaN</td>\n      <td>NaN</td>\n      <td>NaN</td>\n      <td>NaN</td>\n      <td>NaN</td>\n      <td>NaN</td>\n      <td>NaN</td>\n      <td>NaN</td>\n      <td>NaN</td>\n    </tr>\n    <tr>\n      <th>4</th>\n      <td>621e326767b776a24012e179</td>\n      <td>2021-07-22</td>\n      <td>17</td>\n      <td>UNCLASSIFIABLE</td>\n      <td>NONE</td>\n      <td>NaN</td>\n      <td>NaN</td>\n      <td>NaN</td>\n      <td>NaN</td>\n      <td>NaN</td>\n      <td>...</td>\n      <td>0.0</td>\n      <td>0.0</td>\n      <td>0.0</td>\n      <td>NaN</td>\n      <td>NaN</td>\n      <td>NaN</td>\n      <td>NaN</td>\n      <td>NaN</td>\n      <td>NaN</td>\n      <td>NaN</td>\n    </tr>\n    <tr>\n      <th>...</th>\n      <td>...</td>\n      <td>...</td>\n      <td>...</td>\n      <td>...</td>\n      <td>...</td>\n      <td>...</td>\n      <td>...</td>\n      <td>...</td>\n      <td>...</td>\n      <td>...</td>\n      <td>...</td>\n      <td>...</td>\n      <td>...</td>\n      <td>...</td>\n      <td>...</td>\n      <td>...</td>\n      <td>...</td>\n      <td>...</td>\n      <td>...</td>\n      <td>...</td>\n      <td>...</td>\n    </tr>\n    <tr>\n      <th>164490</th>\n      <td>621e375b67b776a240290cdc</td>\n      <td>2022-01-18</td>\n      <td>0</td>\n      <td>NaN</td>\n      <td>NaN</td>\n      <td>NaN</td>\n      <td>NaN</td>\n      <td>NaN</td>\n      <td>NaN</td>\n      <td>NaN</td>\n      <td>...</td>\n      <td>NaN</td>\n      <td>NaN</td>\n      <td>NaN</td>\n      <td>NaN</td>\n      <td>NaN</td>\n      <td>NaN</td>\n      <td>NaN</td>\n      <td>NaN</td>\n      <td>NaN</td>\n      <td>0.0</td>\n    </tr>\n    <tr>\n      <th>164491</th>\n      <td>621e375b67b776a240290cdc</td>\n      <td>2022-01-19</td>\n      <td>0</td>\n      <td>NaN</td>\n      <td>NaN</td>\n      <td>NaN</td>\n      <td>NaN</td>\n      <td>NaN</td>\n      <td>NaN</td>\n      <td>NaN</td>\n      <td>...</td>\n      <td>NaN</td>\n      <td>NaN</td>\n      <td>NaN</td>\n      <td>NaN</td>\n      <td>NaN</td>\n      <td>NaN</td>\n      <td>NaN</td>\n      <td>NaN</td>\n      <td>NaN</td>\n      <td>0.0</td>\n    </tr>\n    <tr>\n      <th>164492</th>\n      <td>621e375b67b776a240290cdc</td>\n      <td>2022-01-20</td>\n      <td>0</td>\n      <td>NaN</td>\n      <td>NaN</td>\n      <td>NaN</td>\n      <td>NaN</td>\n      <td>NaN</td>\n      <td>NaN</td>\n      <td>NaN</td>\n      <td>...</td>\n      <td>NaN</td>\n      <td>NaN</td>\n      <td>NaN</td>\n      <td>NaN</td>\n      <td>NaN</td>\n      <td>NaN</td>\n      <td>NaN</td>\n      <td>NaN</td>\n      <td>NaN</td>\n      <td>0.0</td>\n    </tr>\n    <tr>\n      <th>164493</th>\n      <td>621e375b67b776a240290cdc</td>\n      <td>2022-01-21</td>\n      <td>0</td>\n      <td>NaN</td>\n      <td>NaN</td>\n      <td>NaN</td>\n      <td>NaN</td>\n      <td>NaN</td>\n      <td>NaN</td>\n      <td>NaN</td>\n      <td>...</td>\n      <td>NaN</td>\n      <td>NaN</td>\n      <td>NaN</td>\n      <td>NaN</td>\n      <td>NaN</td>\n      <td>NaN</td>\n      <td>NaN</td>\n      <td>NaN</td>\n      <td>NaN</td>\n      <td>0.0</td>\n    </tr>\n    <tr>\n      <th>164494</th>\n      <td>621e375b67b776a240290cdc</td>\n      <td>2022-01-22</td>\n      <td>0</td>\n      <td>NaN</td>\n      <td>NaN</td>\n      <td>NaN</td>\n      <td>NaN</td>\n      <td>NaN</td>\n      <td>NaN</td>\n      <td>NaN</td>\n      <td>...</td>\n      <td>NaN</td>\n      <td>NaN</td>\n      <td>NaN</td>\n      <td>NaN</td>\n      <td>NaN</td>\n      <td>NaN</td>\n      <td>NaN</td>\n      <td>NaN</td>\n      <td>NaN</td>\n      <td>0.0</td>\n    </tr>\n  </tbody>\n</table>\n<p>164495 rows × 34 columns</p>\n</div>"
     },
     "execution_count": 23,
     "metadata": {},
     "output_type": "execute_result"
    }
   ],
   "source": [
    "resting_heart_rate = pd.DataFrame(columns=[\"id\", \"data\"])\n",
    "\n",
    "# read and load from MongoDB\n",
    "for user in users:\n",
    "    user_data = pd.DataFrame(list(\n",
    "        db.fitbit.find({\"$and\": [\n",
    "            {\"type\": \"resting_heart_rate\"},\n",
    "            {\"id\": user}]},\n",
    "            {\"id\": 1, \"data.dateTime\": 1, \"data.value\": 1, \"_id\": 0})))\n",
    "    resting_heart_rate = pd.concat([resting_heart_rate , user_data], axis=0)\n",
    "\n",
    "# split data column (json format) into two columns (df format)\n",
    "resting_heart_rate[\"date\"] = resting_heart_rate[\"data\"].apply(lambda d: d[\"dateTime\"])\n",
    "resting_heart_rate[\"resting_heart_rate\"] = resting_heart_rate[\"data\"].apply(lambda d: d[\"value\"].get('value'))\n",
    "resting_heart_rate.drop([\"data\"], inplace=True, axis=1)\n",
    "\n",
    "# process the datetime object, feature types and group and aggregate the data\n",
    "resting_heart_rate = data_loading.date_conversion(resting_heart_rate)\n",
    "resting_heart_rate[\"resting_heart_rate\"] = pd.to_numeric(resting_heart_rate[\"resting_heart_rate\"])\n",
    "resting_heart_rate = data_loading.aggregate_column(resting_heart_rate, list(resting_heart_rate.columns))\n",
    "\n",
    "# merge with the final dataframe\n",
    "df = df.merge(resting_heart_rate, how='outer', on=['id', 'date', 'hour'])\n",
    "df"
   ],
   "metadata": {
    "collapsed": false,
    "pycharm": {
     "name": "#%%\n"
    }
   }
  },
  {
   "cell_type": "markdown",
   "source": [
    "##### sedentary_minutes"
   ],
   "metadata": {
    "collapsed": false,
    "pycharm": {
     "name": "#%% md\n"
    }
   }
  },
  {
   "cell_type": "code",
   "execution_count": 25,
   "outputs": [
    {
     "data": {
      "text/plain": "                              id       date  hour             ecg  \\\n0       621e2ff067b776a2403eb737 2021-12-22    19             NSR   \n1       621e301367b776a24057738e 2021-06-08    21             NSR   \n2       621e312a67b776a240164d59 2021-10-07    17             NSR   \n3       621e312a67b776a240164d59 2021-10-10    20             NSR   \n4       621e326767b776a24012e179 2021-07-22    17  UNCLASSIFIABLE   \n...                          ...        ...   ...             ...   \n164490  621e375b67b776a240290cdc 2022-01-18     0             NaN   \n164491  621e375b67b776a240290cdc 2022-01-19     0             NaN   \n164492  621e375b67b776a240290cdc 2022-01-20     0             NaN   \n164493  621e375b67b776a240290cdc 2022-01-21     0             NaN   \n164494  621e375b67b776a240290cdc 2022-01-22     0             NaN   \n\n       heart_rate_alert type  nightly_temperature  nremhr  spo2  rmssd  ...  \\\n0                  NONE  NaN                  NaN     NaN   NaN    NaN  ...   \n1                  NONE  NaN                  NaN     NaN   NaN    NaN  ...   \n2                  NONE  NaN                  NaN     NaN   NaN    NaN  ...   \n3                  NONE  NaN                  NaN     NaN   NaN    NaN  ...   \n4                  NONE  NaN                  NaN     NaN   NaN    NaN  ...   \n...                 ...  ...                  ...     ...   ...    ...  ...   \n164490              NaN  NaN                  NaN     NaN   NaN    NaN  ...   \n164491              NaN  NaN                  NaN     NaN   NaN    NaN  ...   \n164492              NaN  NaN                  NaN     NaN   NaN    NaN  ...   \n164493              NaN  NaN                  NaN     NaN   NaN    NaN  ...   \n164494              NaN  NaN                  NaN     NaN   NaN    NaN  ...   \n\n        oxygen_variation_x  oxygen_variation_y  lightly_active_minutes  \\\n0                      NaN                 NaN                     NaN   \n1                      NaN                 NaN                     NaN   \n2                      NaN                 NaN                     NaN   \n3                      NaN                 NaN                     NaN   \n4                      0.0                 0.0                     NaN   \n...                    ...                 ...                     ...   \n164490                 NaN                 NaN                     NaN   \n164491                 NaN                 NaN                     NaN   \n164492                 NaN                 NaN                     NaN   \n164493                 NaN                 NaN                     NaN   \n164494                 NaN                 NaN                     NaN   \n\n         scl_avg  mindfulness_goal  mindfulness_start_heart_rate  \\\n0            NaN               NaN                           NaN   \n1            NaN               NaN                           NaN   \n2       9.703215               NaN                           NaN   \n3            NaN               NaN                           NaN   \n4            NaN               NaN                           NaN   \n...          ...               ...                           ...   \n164490       NaN               NaN                           NaN   \n164491       NaN               NaN                           NaN   \n164492       NaN               NaN                           NaN   \n164493       NaN               NaN                           NaN   \n164494       NaN               NaN                           NaN   \n\n        mindfulness_end_heart_rate  moderately_active_minutes  \\\n0                              NaN                        NaN   \n1                              NaN                        NaN   \n2                              NaN                        NaN   \n3                              NaN                        NaN   \n4                              NaN                        NaN   \n...                            ...                        ...   \n164490                         NaN                        NaN   \n164491                         NaN                        NaN   \n164492                         NaN                        NaN   \n164493                         NaN                        NaN   \n164494                         NaN                        NaN   \n\n        resting_heart_rate  sedentary_minutes  \n0                      NaN                NaN  \n1                      NaN                NaN  \n2                      NaN                NaN  \n3                      NaN                NaN  \n4                      NaN                NaN  \n...                    ...                ...  \n164490                 0.0                NaN  \n164491                 0.0                NaN  \n164492                 0.0                NaN  \n164493                 0.0                NaN  \n164494                 0.0                NaN  \n\n[164495 rows x 35 columns]",
      "text/html": "<div>\n<style scoped>\n    .dataframe tbody tr th:only-of-type {\n        vertical-align: middle;\n    }\n\n    .dataframe tbody tr th {\n        vertical-align: top;\n    }\n\n    .dataframe thead th {\n        text-align: right;\n    }\n</style>\n<table border=\"1\" class=\"dataframe\">\n  <thead>\n    <tr style=\"text-align: right;\">\n      <th></th>\n      <th>id</th>\n      <th>date</th>\n      <th>hour</th>\n      <th>ecg</th>\n      <th>heart_rate_alert</th>\n      <th>type</th>\n      <th>nightly_temperature</th>\n      <th>nremhr</th>\n      <th>spo2</th>\n      <th>rmssd</th>\n      <th>...</th>\n      <th>oxygen_variation_x</th>\n      <th>oxygen_variation_y</th>\n      <th>lightly_active_minutes</th>\n      <th>scl_avg</th>\n      <th>mindfulness_goal</th>\n      <th>mindfulness_start_heart_rate</th>\n      <th>mindfulness_end_heart_rate</th>\n      <th>moderately_active_minutes</th>\n      <th>resting_heart_rate</th>\n      <th>sedentary_minutes</th>\n    </tr>\n  </thead>\n  <tbody>\n    <tr>\n      <th>0</th>\n      <td>621e2ff067b776a2403eb737</td>\n      <td>2021-12-22</td>\n      <td>19</td>\n      <td>NSR</td>\n      <td>NONE</td>\n      <td>NaN</td>\n      <td>NaN</td>\n      <td>NaN</td>\n      <td>NaN</td>\n      <td>NaN</td>\n      <td>...</td>\n      <td>NaN</td>\n      <td>NaN</td>\n      <td>NaN</td>\n      <td>NaN</td>\n      <td>NaN</td>\n      <td>NaN</td>\n      <td>NaN</td>\n      <td>NaN</td>\n      <td>NaN</td>\n      <td>NaN</td>\n    </tr>\n    <tr>\n      <th>1</th>\n      <td>621e301367b776a24057738e</td>\n      <td>2021-06-08</td>\n      <td>21</td>\n      <td>NSR</td>\n      <td>NONE</td>\n      <td>NaN</td>\n      <td>NaN</td>\n      <td>NaN</td>\n      <td>NaN</td>\n      <td>NaN</td>\n      <td>...</td>\n      <td>NaN</td>\n      <td>NaN</td>\n      <td>NaN</td>\n      <td>NaN</td>\n      <td>NaN</td>\n      <td>NaN</td>\n      <td>NaN</td>\n      <td>NaN</td>\n      <td>NaN</td>\n      <td>NaN</td>\n    </tr>\n    <tr>\n      <th>2</th>\n      <td>621e312a67b776a240164d59</td>\n      <td>2021-10-07</td>\n      <td>17</td>\n      <td>NSR</td>\n      <td>NONE</td>\n      <td>NaN</td>\n      <td>NaN</td>\n      <td>NaN</td>\n      <td>NaN</td>\n      <td>NaN</td>\n      <td>...</td>\n      <td>NaN</td>\n      <td>NaN</td>\n      <td>NaN</td>\n      <td>9.703215</td>\n      <td>NaN</td>\n      <td>NaN</td>\n      <td>NaN</td>\n      <td>NaN</td>\n      <td>NaN</td>\n      <td>NaN</td>\n    </tr>\n    <tr>\n      <th>3</th>\n      <td>621e312a67b776a240164d59</td>\n      <td>2021-10-10</td>\n      <td>20</td>\n      <td>NSR</td>\n      <td>NONE</td>\n      <td>NaN</td>\n      <td>NaN</td>\n      <td>NaN</td>\n      <td>NaN</td>\n      <td>NaN</td>\n      <td>...</td>\n      <td>NaN</td>\n      <td>NaN</td>\n      <td>NaN</td>\n      <td>NaN</td>\n      <td>NaN</td>\n      <td>NaN</td>\n      <td>NaN</td>\n      <td>NaN</td>\n      <td>NaN</td>\n      <td>NaN</td>\n    </tr>\n    <tr>\n      <th>4</th>\n      <td>621e326767b776a24012e179</td>\n      <td>2021-07-22</td>\n      <td>17</td>\n      <td>UNCLASSIFIABLE</td>\n      <td>NONE</td>\n      <td>NaN</td>\n      <td>NaN</td>\n      <td>NaN</td>\n      <td>NaN</td>\n      <td>NaN</td>\n      <td>...</td>\n      <td>0.0</td>\n      <td>0.0</td>\n      <td>NaN</td>\n      <td>NaN</td>\n      <td>NaN</td>\n      <td>NaN</td>\n      <td>NaN</td>\n      <td>NaN</td>\n      <td>NaN</td>\n      <td>NaN</td>\n    </tr>\n    <tr>\n      <th>...</th>\n      <td>...</td>\n      <td>...</td>\n      <td>...</td>\n      <td>...</td>\n      <td>...</td>\n      <td>...</td>\n      <td>...</td>\n      <td>...</td>\n      <td>...</td>\n      <td>...</td>\n      <td>...</td>\n      <td>...</td>\n      <td>...</td>\n      <td>...</td>\n      <td>...</td>\n      <td>...</td>\n      <td>...</td>\n      <td>...</td>\n      <td>...</td>\n      <td>...</td>\n      <td>...</td>\n    </tr>\n    <tr>\n      <th>164490</th>\n      <td>621e375b67b776a240290cdc</td>\n      <td>2022-01-18</td>\n      <td>0</td>\n      <td>NaN</td>\n      <td>NaN</td>\n      <td>NaN</td>\n      <td>NaN</td>\n      <td>NaN</td>\n      <td>NaN</td>\n      <td>NaN</td>\n      <td>...</td>\n      <td>NaN</td>\n      <td>NaN</td>\n      <td>NaN</td>\n      <td>NaN</td>\n      <td>NaN</td>\n      <td>NaN</td>\n      <td>NaN</td>\n      <td>NaN</td>\n      <td>0.0</td>\n      <td>NaN</td>\n    </tr>\n    <tr>\n      <th>164491</th>\n      <td>621e375b67b776a240290cdc</td>\n      <td>2022-01-19</td>\n      <td>0</td>\n      <td>NaN</td>\n      <td>NaN</td>\n      <td>NaN</td>\n      <td>NaN</td>\n      <td>NaN</td>\n      <td>NaN</td>\n      <td>NaN</td>\n      <td>...</td>\n      <td>NaN</td>\n      <td>NaN</td>\n      <td>NaN</td>\n      <td>NaN</td>\n      <td>NaN</td>\n      <td>NaN</td>\n      <td>NaN</td>\n      <td>NaN</td>\n      <td>0.0</td>\n      <td>NaN</td>\n    </tr>\n    <tr>\n      <th>164492</th>\n      <td>621e375b67b776a240290cdc</td>\n      <td>2022-01-20</td>\n      <td>0</td>\n      <td>NaN</td>\n      <td>NaN</td>\n      <td>NaN</td>\n      <td>NaN</td>\n      <td>NaN</td>\n      <td>NaN</td>\n      <td>NaN</td>\n      <td>...</td>\n      <td>NaN</td>\n      <td>NaN</td>\n      <td>NaN</td>\n      <td>NaN</td>\n      <td>NaN</td>\n      <td>NaN</td>\n      <td>NaN</td>\n      <td>NaN</td>\n      <td>0.0</td>\n      <td>NaN</td>\n    </tr>\n    <tr>\n      <th>164493</th>\n      <td>621e375b67b776a240290cdc</td>\n      <td>2022-01-21</td>\n      <td>0</td>\n      <td>NaN</td>\n      <td>NaN</td>\n      <td>NaN</td>\n      <td>NaN</td>\n      <td>NaN</td>\n      <td>NaN</td>\n      <td>NaN</td>\n      <td>...</td>\n      <td>NaN</td>\n      <td>NaN</td>\n      <td>NaN</td>\n      <td>NaN</td>\n      <td>NaN</td>\n      <td>NaN</td>\n      <td>NaN</td>\n      <td>NaN</td>\n      <td>0.0</td>\n      <td>NaN</td>\n    </tr>\n    <tr>\n      <th>164494</th>\n      <td>621e375b67b776a240290cdc</td>\n      <td>2022-01-22</td>\n      <td>0</td>\n      <td>NaN</td>\n      <td>NaN</td>\n      <td>NaN</td>\n      <td>NaN</td>\n      <td>NaN</td>\n      <td>NaN</td>\n      <td>NaN</td>\n      <td>...</td>\n      <td>NaN</td>\n      <td>NaN</td>\n      <td>NaN</td>\n      <td>NaN</td>\n      <td>NaN</td>\n      <td>NaN</td>\n      <td>NaN</td>\n      <td>NaN</td>\n      <td>0.0</td>\n      <td>NaN</td>\n    </tr>\n  </tbody>\n</table>\n<p>164495 rows × 35 columns</p>\n</div>"
     },
     "execution_count": 25,
     "metadata": {},
     "output_type": "execute_result"
    }
   ],
   "source": [
    "sedentary_minutes = pd.DataFrame(columns=[\"id\", \"data\"])\n",
    "\n",
    "# read and load from MongoDB\n",
    "for user in users:\n",
    "    user_data = pd.DataFrame(list(\n",
    "        db.fitbit.find({\"$and\": [\n",
    "            {\"type\": \"sedentary_minutes\"},\n",
    "            {\"id\": user}]},\n",
    "            {\"id\": 1, \"data.dateTime\": 1, \"data.value\": 1, \"_id\": 0})))\n",
    "    sedentary_minutes = pd.concat([sedentary_minutes , user_data], axis=0)\n",
    "\n",
    "# split data column (json format) into two columns (df format)\n",
    "sedentary_minutes[\"date\"] = sedentary_minutes[\"data\"].apply(lambda d: d[\"dateTime\"])\n",
    "sedentary_minutes[\"sedentary_minutes\"] = sedentary_minutes[\"data\"].apply(lambda d: d[\"value\"])\n",
    "sedentary_minutes.drop([\"data\"], inplace=True, axis=1)\n",
    "\n",
    "# process the datetime object, feature types and group and aggregate the data\n",
    "sedentary_minutes = data_loading.date_conversion(sedentary_minutes)\n",
    "sedentary_minutes[\"sedentary_minutes\"] = pd.to_numeric(sedentary_minutes[\"sedentary_minutes\"])\n",
    "sedentary_minutes = data_loading.aggregate_column(sedentary_minutes, list(sedentary_minutes.columns))\n",
    "\n",
    "# merge with the final dataframe\n",
    "df = df.merge(sedentary_minutes, how='outer', on=['id', 'date', 'hour'])\n",
    "df"
   ],
   "metadata": {
    "collapsed": false,
    "pycharm": {
     "name": "#%%\n"
    }
   }
  },
  {
   "cell_type": "markdown",
   "source": [
    "##### steps"
   ],
   "metadata": {
    "collapsed": false,
    "pycharm": {
     "name": "#%% md\n"
    }
   }
  },
  {
   "cell_type": "code",
   "execution_count": 26,
   "outputs": [
    {
     "data": {
      "text/plain": "                              id       date  hour             ecg  \\\n0       621e2ff067b776a2403eb737 2021-12-22    19             NSR   \n1       621e301367b776a24057738e 2021-06-08    21             NSR   \n2       621e312a67b776a240164d59 2021-10-07    17             NSR   \n3       621e312a67b776a240164d59 2021-10-10    20             NSR   \n4       621e326767b776a24012e179 2021-07-22    17  UNCLASSIFIABLE   \n...                          ...        ...   ...             ...   \n164490  621e375b67b776a240290cdc 2022-01-18     0             NaN   \n164491  621e375b67b776a240290cdc 2022-01-19     0             NaN   \n164492  621e375b67b776a240290cdc 2022-01-20     0             NaN   \n164493  621e375b67b776a240290cdc 2022-01-21     0             NaN   \n164494  621e375b67b776a240290cdc 2022-01-22     0             NaN   \n\n       heart_rate_alert type  nightly_temperature  nremhr  spo2  rmssd  ...  \\\n0                  NONE  NaN                  NaN     NaN   NaN    NaN  ...   \n1                  NONE  NaN                  NaN     NaN   NaN    NaN  ...   \n2                  NONE  NaN                  NaN     NaN   NaN    NaN  ...   \n3                  NONE  NaN                  NaN     NaN   NaN    NaN  ...   \n4                  NONE  NaN                  NaN     NaN   NaN    NaN  ...   \n...                 ...  ...                  ...     ...   ...    ...  ...   \n164490              NaN  NaN                  NaN     NaN   NaN    NaN  ...   \n164491              NaN  NaN                  NaN     NaN   NaN    NaN  ...   \n164492              NaN  NaN                  NaN     NaN   NaN    NaN  ...   \n164493              NaN  NaN                  NaN     NaN   NaN    NaN  ...   \n164494              NaN  NaN                  NaN     NaN   NaN    NaN  ...   \n\n        oxygen_variation_y  lightly_active_minutes   scl_avg  \\\n0                      NaN                     NaN       NaN   \n1                      NaN                     NaN       NaN   \n2                      NaN                     NaN  9.703215   \n3                      NaN                     NaN       NaN   \n4                      0.0                     NaN       NaN   \n...                    ...                     ...       ...   \n164490                 NaN                     NaN       NaN   \n164491                 NaN                     NaN       NaN   \n164492                 NaN                     NaN       NaN   \n164493                 NaN                     NaN       NaN   \n164494                 NaN                     NaN       NaN   \n\n        mindfulness_goal  mindfulness_start_heart_rate  \\\n0                    NaN                           NaN   \n1                    NaN                           NaN   \n2                    NaN                           NaN   \n3                    NaN                           NaN   \n4                    NaN                           NaN   \n...                  ...                           ...   \n164490               NaN                           NaN   \n164491               NaN                           NaN   \n164492               NaN                           NaN   \n164493               NaN                           NaN   \n164494               NaN                           NaN   \n\n        mindfulness_end_heart_rate  moderately_active_minutes  \\\n0                              NaN                        NaN   \n1                              NaN                        NaN   \n2                              NaN                        NaN   \n3                              NaN                        NaN   \n4                              NaN                        NaN   \n...                            ...                        ...   \n164490                         NaN                        NaN   \n164491                         NaN                        NaN   \n164492                         NaN                        NaN   \n164493                         NaN                        NaN   \n164494                         NaN                        NaN   \n\n        resting_heart_rate  sedentary_minutes  steps  \n0                      NaN                NaN    0.0  \n1                      NaN                NaN    0.0  \n2                      NaN                NaN    0.0  \n3                      NaN                NaN    0.0  \n4                      NaN                NaN    0.0  \n...                    ...                ...    ...  \n164490                 0.0                NaN    NaN  \n164491                 0.0                NaN    NaN  \n164492                 0.0                NaN    NaN  \n164493                 0.0                NaN    NaN  \n164494                 0.0                NaN    NaN  \n\n[164495 rows x 36 columns]",
      "text/html": "<div>\n<style scoped>\n    .dataframe tbody tr th:only-of-type {\n        vertical-align: middle;\n    }\n\n    .dataframe tbody tr th {\n        vertical-align: top;\n    }\n\n    .dataframe thead th {\n        text-align: right;\n    }\n</style>\n<table border=\"1\" class=\"dataframe\">\n  <thead>\n    <tr style=\"text-align: right;\">\n      <th></th>\n      <th>id</th>\n      <th>date</th>\n      <th>hour</th>\n      <th>ecg</th>\n      <th>heart_rate_alert</th>\n      <th>type</th>\n      <th>nightly_temperature</th>\n      <th>nremhr</th>\n      <th>spo2</th>\n      <th>rmssd</th>\n      <th>...</th>\n      <th>oxygen_variation_y</th>\n      <th>lightly_active_minutes</th>\n      <th>scl_avg</th>\n      <th>mindfulness_goal</th>\n      <th>mindfulness_start_heart_rate</th>\n      <th>mindfulness_end_heart_rate</th>\n      <th>moderately_active_minutes</th>\n      <th>resting_heart_rate</th>\n      <th>sedentary_minutes</th>\n      <th>steps</th>\n    </tr>\n  </thead>\n  <tbody>\n    <tr>\n      <th>0</th>\n      <td>621e2ff067b776a2403eb737</td>\n      <td>2021-12-22</td>\n      <td>19</td>\n      <td>NSR</td>\n      <td>NONE</td>\n      <td>NaN</td>\n      <td>NaN</td>\n      <td>NaN</td>\n      <td>NaN</td>\n      <td>NaN</td>\n      <td>...</td>\n      <td>NaN</td>\n      <td>NaN</td>\n      <td>NaN</td>\n      <td>NaN</td>\n      <td>NaN</td>\n      <td>NaN</td>\n      <td>NaN</td>\n      <td>NaN</td>\n      <td>NaN</td>\n      <td>0.0</td>\n    </tr>\n    <tr>\n      <th>1</th>\n      <td>621e301367b776a24057738e</td>\n      <td>2021-06-08</td>\n      <td>21</td>\n      <td>NSR</td>\n      <td>NONE</td>\n      <td>NaN</td>\n      <td>NaN</td>\n      <td>NaN</td>\n      <td>NaN</td>\n      <td>NaN</td>\n      <td>...</td>\n      <td>NaN</td>\n      <td>NaN</td>\n      <td>NaN</td>\n      <td>NaN</td>\n      <td>NaN</td>\n      <td>NaN</td>\n      <td>NaN</td>\n      <td>NaN</td>\n      <td>NaN</td>\n      <td>0.0</td>\n    </tr>\n    <tr>\n      <th>2</th>\n      <td>621e312a67b776a240164d59</td>\n      <td>2021-10-07</td>\n      <td>17</td>\n      <td>NSR</td>\n      <td>NONE</td>\n      <td>NaN</td>\n      <td>NaN</td>\n      <td>NaN</td>\n      <td>NaN</td>\n      <td>NaN</td>\n      <td>...</td>\n      <td>NaN</td>\n      <td>NaN</td>\n      <td>9.703215</td>\n      <td>NaN</td>\n      <td>NaN</td>\n      <td>NaN</td>\n      <td>NaN</td>\n      <td>NaN</td>\n      <td>NaN</td>\n      <td>0.0</td>\n    </tr>\n    <tr>\n      <th>3</th>\n      <td>621e312a67b776a240164d59</td>\n      <td>2021-10-10</td>\n      <td>20</td>\n      <td>NSR</td>\n      <td>NONE</td>\n      <td>NaN</td>\n      <td>NaN</td>\n      <td>NaN</td>\n      <td>NaN</td>\n      <td>NaN</td>\n      <td>...</td>\n      <td>NaN</td>\n      <td>NaN</td>\n      <td>NaN</td>\n      <td>NaN</td>\n      <td>NaN</td>\n      <td>NaN</td>\n      <td>NaN</td>\n      <td>NaN</td>\n      <td>NaN</td>\n      <td>0.0</td>\n    </tr>\n    <tr>\n      <th>4</th>\n      <td>621e326767b776a24012e179</td>\n      <td>2021-07-22</td>\n      <td>17</td>\n      <td>UNCLASSIFIABLE</td>\n      <td>NONE</td>\n      <td>NaN</td>\n      <td>NaN</td>\n      <td>NaN</td>\n      <td>NaN</td>\n      <td>NaN</td>\n      <td>...</td>\n      <td>0.0</td>\n      <td>NaN</td>\n      <td>NaN</td>\n      <td>NaN</td>\n      <td>NaN</td>\n      <td>NaN</td>\n      <td>NaN</td>\n      <td>NaN</td>\n      <td>NaN</td>\n      <td>0.0</td>\n    </tr>\n    <tr>\n      <th>...</th>\n      <td>...</td>\n      <td>...</td>\n      <td>...</td>\n      <td>...</td>\n      <td>...</td>\n      <td>...</td>\n      <td>...</td>\n      <td>...</td>\n      <td>...</td>\n      <td>...</td>\n      <td>...</td>\n      <td>...</td>\n      <td>...</td>\n      <td>...</td>\n      <td>...</td>\n      <td>...</td>\n      <td>...</td>\n      <td>...</td>\n      <td>...</td>\n      <td>...</td>\n      <td>...</td>\n    </tr>\n    <tr>\n      <th>164490</th>\n      <td>621e375b67b776a240290cdc</td>\n      <td>2022-01-18</td>\n      <td>0</td>\n      <td>NaN</td>\n      <td>NaN</td>\n      <td>NaN</td>\n      <td>NaN</td>\n      <td>NaN</td>\n      <td>NaN</td>\n      <td>NaN</td>\n      <td>...</td>\n      <td>NaN</td>\n      <td>NaN</td>\n      <td>NaN</td>\n      <td>NaN</td>\n      <td>NaN</td>\n      <td>NaN</td>\n      <td>NaN</td>\n      <td>0.0</td>\n      <td>NaN</td>\n      <td>NaN</td>\n    </tr>\n    <tr>\n      <th>164491</th>\n      <td>621e375b67b776a240290cdc</td>\n      <td>2022-01-19</td>\n      <td>0</td>\n      <td>NaN</td>\n      <td>NaN</td>\n      <td>NaN</td>\n      <td>NaN</td>\n      <td>NaN</td>\n      <td>NaN</td>\n      <td>NaN</td>\n      <td>...</td>\n      <td>NaN</td>\n      <td>NaN</td>\n      <td>NaN</td>\n      <td>NaN</td>\n      <td>NaN</td>\n      <td>NaN</td>\n      <td>NaN</td>\n      <td>0.0</td>\n      <td>NaN</td>\n      <td>NaN</td>\n    </tr>\n    <tr>\n      <th>164492</th>\n      <td>621e375b67b776a240290cdc</td>\n      <td>2022-01-20</td>\n      <td>0</td>\n      <td>NaN</td>\n      <td>NaN</td>\n      <td>NaN</td>\n      <td>NaN</td>\n      <td>NaN</td>\n      <td>NaN</td>\n      <td>NaN</td>\n      <td>...</td>\n      <td>NaN</td>\n      <td>NaN</td>\n      <td>NaN</td>\n      <td>NaN</td>\n      <td>NaN</td>\n      <td>NaN</td>\n      <td>NaN</td>\n      <td>0.0</td>\n      <td>NaN</td>\n      <td>NaN</td>\n    </tr>\n    <tr>\n      <th>164493</th>\n      <td>621e375b67b776a240290cdc</td>\n      <td>2022-01-21</td>\n      <td>0</td>\n      <td>NaN</td>\n      <td>NaN</td>\n      <td>NaN</td>\n      <td>NaN</td>\n      <td>NaN</td>\n      <td>NaN</td>\n      <td>NaN</td>\n      <td>...</td>\n      <td>NaN</td>\n      <td>NaN</td>\n      <td>NaN</td>\n      <td>NaN</td>\n      <td>NaN</td>\n      <td>NaN</td>\n      <td>NaN</td>\n      <td>0.0</td>\n      <td>NaN</td>\n      <td>NaN</td>\n    </tr>\n    <tr>\n      <th>164494</th>\n      <td>621e375b67b776a240290cdc</td>\n      <td>2022-01-22</td>\n      <td>0</td>\n      <td>NaN</td>\n      <td>NaN</td>\n      <td>NaN</td>\n      <td>NaN</td>\n      <td>NaN</td>\n      <td>NaN</td>\n      <td>NaN</td>\n      <td>...</td>\n      <td>NaN</td>\n      <td>NaN</td>\n      <td>NaN</td>\n      <td>NaN</td>\n      <td>NaN</td>\n      <td>NaN</td>\n      <td>NaN</td>\n      <td>0.0</td>\n      <td>NaN</td>\n      <td>NaN</td>\n    </tr>\n  </tbody>\n</table>\n<p>164495 rows × 36 columns</p>\n</div>"
     },
     "execution_count": 26,
     "metadata": {},
     "output_type": "execute_result"
    }
   ],
   "source": [
    "steps = pd.DataFrame(columns=[\"id\", \"data\"])\n",
    "\n",
    "# read and load from MongoDB\n",
    "for user in users:\n",
    "    user_data = pd.DataFrame(list(\n",
    "        db.fitbit.find({\"$and\": [\n",
    "            {\"type\": \"steps\"},\n",
    "            {\"id\": user}]},\n",
    "            {\"id\": 1, \"data.dateTime\": 1, \"data.value\": 1, \"_id\": 0})))\n",
    "    steps = pd.concat([steps , user_data], axis=0)\n",
    "\n",
    "# split data column (json format) into two columns (df format)\n",
    "steps[\"date\"] = steps[\"data\"].apply(lambda d: d[\"dateTime\"])\n",
    "steps[\"steps\"] = steps[\"data\"].apply(lambda d: d[\"value\"])\n",
    "steps.drop([\"data\"], inplace=True, axis=1)\n",
    "\n",
    "# process the datetime object, feature types and group and aggregate the data\n",
    "steps = data_loading.date_conversion(steps)\n",
    "steps[\"steps\"] = pd.to_numeric(steps[\"steps\"])\n",
    "steps = data_loading.aggregate_column(steps, list(steps.columns))\n",
    "\n",
    "# merge with the final dataframe\n",
    "df = df.merge(steps, how='outer', on=['id', 'date', 'hour'])\n",
    "df"
   ],
   "metadata": {
    "collapsed": false,
    "pycharm": {
     "name": "#%%\n"
    }
   }
  },
  {
   "cell_type": "markdown",
   "source": [
    "##### very_active_minutes"
   ],
   "metadata": {
    "collapsed": false,
    "pycharm": {
     "name": "#%% md\n"
    }
   }
  },
  {
   "cell_type": "code",
   "execution_count": 27,
   "outputs": [
    {
     "data": {
      "text/plain": "                              id       date  hour             ecg  \\\n0       621e2ff067b776a2403eb737 2021-12-22    19             NSR   \n1       621e301367b776a24057738e 2021-06-08    21             NSR   \n2       621e312a67b776a240164d59 2021-10-07    17             NSR   \n3       621e312a67b776a240164d59 2021-10-10    20             NSR   \n4       621e326767b776a24012e179 2021-07-22    17  UNCLASSIFIABLE   \n...                          ...        ...   ...             ...   \n164490  621e375b67b776a240290cdc 2022-01-18     0             NaN   \n164491  621e375b67b776a240290cdc 2022-01-19     0             NaN   \n164492  621e375b67b776a240290cdc 2022-01-20     0             NaN   \n164493  621e375b67b776a240290cdc 2022-01-21     0             NaN   \n164494  621e375b67b776a240290cdc 2022-01-22     0             NaN   \n\n       heart_rate_alert type  nightly_temperature  nremhr  spo2  rmssd  ...  \\\n0                  NONE  NaN                  NaN     NaN   NaN    NaN  ...   \n1                  NONE  NaN                  NaN     NaN   NaN    NaN  ...   \n2                  NONE  NaN                  NaN     NaN   NaN    NaN  ...   \n3                  NONE  NaN                  NaN     NaN   NaN    NaN  ...   \n4                  NONE  NaN                  NaN     NaN   NaN    NaN  ...   \n...                 ...  ...                  ...     ...   ...    ...  ...   \n164490              NaN  NaN                  NaN     NaN   NaN    NaN  ...   \n164491              NaN  NaN                  NaN     NaN   NaN    NaN  ...   \n164492              NaN  NaN                  NaN     NaN   NaN    NaN  ...   \n164493              NaN  NaN                  NaN     NaN   NaN    NaN  ...   \n164494              NaN  NaN                  NaN     NaN   NaN    NaN  ...   \n\n        lightly_active_minutes   scl_avg  mindfulness_goal  \\\n0                          NaN       NaN               NaN   \n1                          NaN       NaN               NaN   \n2                          NaN  9.703215               NaN   \n3                          NaN       NaN               NaN   \n4                          NaN       NaN               NaN   \n...                        ...       ...               ...   \n164490                     NaN       NaN               NaN   \n164491                     NaN       NaN               NaN   \n164492                     NaN       NaN               NaN   \n164493                     NaN       NaN               NaN   \n164494                     NaN       NaN               NaN   \n\n        mindfulness_start_heart_rate  mindfulness_end_heart_rate  \\\n0                                NaN                         NaN   \n1                                NaN                         NaN   \n2                                NaN                         NaN   \n3                                NaN                         NaN   \n4                                NaN                         NaN   \n...                              ...                         ...   \n164490                           NaN                         NaN   \n164491                           NaN                         NaN   \n164492                           NaN                         NaN   \n164493                           NaN                         NaN   \n164494                           NaN                         NaN   \n\n        moderately_active_minutes  resting_heart_rate  sedentary_minutes  \\\n0                             NaN                 NaN                NaN   \n1                             NaN                 NaN                NaN   \n2                             NaN                 NaN                NaN   \n3                             NaN                 NaN                NaN   \n4                             NaN                 NaN                NaN   \n...                           ...                 ...                ...   \n164490                        NaN                 0.0                NaN   \n164491                        NaN                 0.0                NaN   \n164492                        NaN                 0.0                NaN   \n164493                        NaN                 0.0                NaN   \n164494                        NaN                 0.0                NaN   \n\n        steps  very_active_minutes  \n0         0.0                  NaN  \n1         0.0                  NaN  \n2         0.0                  NaN  \n3         0.0                  NaN  \n4         0.0                  NaN  \n...       ...                  ...  \n164490    NaN                  NaN  \n164491    NaN                  NaN  \n164492    NaN                  NaN  \n164493    NaN                  NaN  \n164494    NaN                  NaN  \n\n[164495 rows x 37 columns]",
      "text/html": "<div>\n<style scoped>\n    .dataframe tbody tr th:only-of-type {\n        vertical-align: middle;\n    }\n\n    .dataframe tbody tr th {\n        vertical-align: top;\n    }\n\n    .dataframe thead th {\n        text-align: right;\n    }\n</style>\n<table border=\"1\" class=\"dataframe\">\n  <thead>\n    <tr style=\"text-align: right;\">\n      <th></th>\n      <th>id</th>\n      <th>date</th>\n      <th>hour</th>\n      <th>ecg</th>\n      <th>heart_rate_alert</th>\n      <th>type</th>\n      <th>nightly_temperature</th>\n      <th>nremhr</th>\n      <th>spo2</th>\n      <th>rmssd</th>\n      <th>...</th>\n      <th>lightly_active_minutes</th>\n      <th>scl_avg</th>\n      <th>mindfulness_goal</th>\n      <th>mindfulness_start_heart_rate</th>\n      <th>mindfulness_end_heart_rate</th>\n      <th>moderately_active_minutes</th>\n      <th>resting_heart_rate</th>\n      <th>sedentary_minutes</th>\n      <th>steps</th>\n      <th>very_active_minutes</th>\n    </tr>\n  </thead>\n  <tbody>\n    <tr>\n      <th>0</th>\n      <td>621e2ff067b776a2403eb737</td>\n      <td>2021-12-22</td>\n      <td>19</td>\n      <td>NSR</td>\n      <td>NONE</td>\n      <td>NaN</td>\n      <td>NaN</td>\n      <td>NaN</td>\n      <td>NaN</td>\n      <td>NaN</td>\n      <td>...</td>\n      <td>NaN</td>\n      <td>NaN</td>\n      <td>NaN</td>\n      <td>NaN</td>\n      <td>NaN</td>\n      <td>NaN</td>\n      <td>NaN</td>\n      <td>NaN</td>\n      <td>0.0</td>\n      <td>NaN</td>\n    </tr>\n    <tr>\n      <th>1</th>\n      <td>621e301367b776a24057738e</td>\n      <td>2021-06-08</td>\n      <td>21</td>\n      <td>NSR</td>\n      <td>NONE</td>\n      <td>NaN</td>\n      <td>NaN</td>\n      <td>NaN</td>\n      <td>NaN</td>\n      <td>NaN</td>\n      <td>...</td>\n      <td>NaN</td>\n      <td>NaN</td>\n      <td>NaN</td>\n      <td>NaN</td>\n      <td>NaN</td>\n      <td>NaN</td>\n      <td>NaN</td>\n      <td>NaN</td>\n      <td>0.0</td>\n      <td>NaN</td>\n    </tr>\n    <tr>\n      <th>2</th>\n      <td>621e312a67b776a240164d59</td>\n      <td>2021-10-07</td>\n      <td>17</td>\n      <td>NSR</td>\n      <td>NONE</td>\n      <td>NaN</td>\n      <td>NaN</td>\n      <td>NaN</td>\n      <td>NaN</td>\n      <td>NaN</td>\n      <td>...</td>\n      <td>NaN</td>\n      <td>9.703215</td>\n      <td>NaN</td>\n      <td>NaN</td>\n      <td>NaN</td>\n      <td>NaN</td>\n      <td>NaN</td>\n      <td>NaN</td>\n      <td>0.0</td>\n      <td>NaN</td>\n    </tr>\n    <tr>\n      <th>3</th>\n      <td>621e312a67b776a240164d59</td>\n      <td>2021-10-10</td>\n      <td>20</td>\n      <td>NSR</td>\n      <td>NONE</td>\n      <td>NaN</td>\n      <td>NaN</td>\n      <td>NaN</td>\n      <td>NaN</td>\n      <td>NaN</td>\n      <td>...</td>\n      <td>NaN</td>\n      <td>NaN</td>\n      <td>NaN</td>\n      <td>NaN</td>\n      <td>NaN</td>\n      <td>NaN</td>\n      <td>NaN</td>\n      <td>NaN</td>\n      <td>0.0</td>\n      <td>NaN</td>\n    </tr>\n    <tr>\n      <th>4</th>\n      <td>621e326767b776a24012e179</td>\n      <td>2021-07-22</td>\n      <td>17</td>\n      <td>UNCLASSIFIABLE</td>\n      <td>NONE</td>\n      <td>NaN</td>\n      <td>NaN</td>\n      <td>NaN</td>\n      <td>NaN</td>\n      <td>NaN</td>\n      <td>...</td>\n      <td>NaN</td>\n      <td>NaN</td>\n      <td>NaN</td>\n      <td>NaN</td>\n      <td>NaN</td>\n      <td>NaN</td>\n      <td>NaN</td>\n      <td>NaN</td>\n      <td>0.0</td>\n      <td>NaN</td>\n    </tr>\n    <tr>\n      <th>...</th>\n      <td>...</td>\n      <td>...</td>\n      <td>...</td>\n      <td>...</td>\n      <td>...</td>\n      <td>...</td>\n      <td>...</td>\n      <td>...</td>\n      <td>...</td>\n      <td>...</td>\n      <td>...</td>\n      <td>...</td>\n      <td>...</td>\n      <td>...</td>\n      <td>...</td>\n      <td>...</td>\n      <td>...</td>\n      <td>...</td>\n      <td>...</td>\n      <td>...</td>\n      <td>...</td>\n    </tr>\n    <tr>\n      <th>164490</th>\n      <td>621e375b67b776a240290cdc</td>\n      <td>2022-01-18</td>\n      <td>0</td>\n      <td>NaN</td>\n      <td>NaN</td>\n      <td>NaN</td>\n      <td>NaN</td>\n      <td>NaN</td>\n      <td>NaN</td>\n      <td>NaN</td>\n      <td>...</td>\n      <td>NaN</td>\n      <td>NaN</td>\n      <td>NaN</td>\n      <td>NaN</td>\n      <td>NaN</td>\n      <td>NaN</td>\n      <td>0.0</td>\n      <td>NaN</td>\n      <td>NaN</td>\n      <td>NaN</td>\n    </tr>\n    <tr>\n      <th>164491</th>\n      <td>621e375b67b776a240290cdc</td>\n      <td>2022-01-19</td>\n      <td>0</td>\n      <td>NaN</td>\n      <td>NaN</td>\n      <td>NaN</td>\n      <td>NaN</td>\n      <td>NaN</td>\n      <td>NaN</td>\n      <td>NaN</td>\n      <td>...</td>\n      <td>NaN</td>\n      <td>NaN</td>\n      <td>NaN</td>\n      <td>NaN</td>\n      <td>NaN</td>\n      <td>NaN</td>\n      <td>0.0</td>\n      <td>NaN</td>\n      <td>NaN</td>\n      <td>NaN</td>\n    </tr>\n    <tr>\n      <th>164492</th>\n      <td>621e375b67b776a240290cdc</td>\n      <td>2022-01-20</td>\n      <td>0</td>\n      <td>NaN</td>\n      <td>NaN</td>\n      <td>NaN</td>\n      <td>NaN</td>\n      <td>NaN</td>\n      <td>NaN</td>\n      <td>NaN</td>\n      <td>...</td>\n      <td>NaN</td>\n      <td>NaN</td>\n      <td>NaN</td>\n      <td>NaN</td>\n      <td>NaN</td>\n      <td>NaN</td>\n      <td>0.0</td>\n      <td>NaN</td>\n      <td>NaN</td>\n      <td>NaN</td>\n    </tr>\n    <tr>\n      <th>164493</th>\n      <td>621e375b67b776a240290cdc</td>\n      <td>2022-01-21</td>\n      <td>0</td>\n      <td>NaN</td>\n      <td>NaN</td>\n      <td>NaN</td>\n      <td>NaN</td>\n      <td>NaN</td>\n      <td>NaN</td>\n      <td>NaN</td>\n      <td>...</td>\n      <td>NaN</td>\n      <td>NaN</td>\n      <td>NaN</td>\n      <td>NaN</td>\n      <td>NaN</td>\n      <td>NaN</td>\n      <td>0.0</td>\n      <td>NaN</td>\n      <td>NaN</td>\n      <td>NaN</td>\n    </tr>\n    <tr>\n      <th>164494</th>\n      <td>621e375b67b776a240290cdc</td>\n      <td>2022-01-22</td>\n      <td>0</td>\n      <td>NaN</td>\n      <td>NaN</td>\n      <td>NaN</td>\n      <td>NaN</td>\n      <td>NaN</td>\n      <td>NaN</td>\n      <td>NaN</td>\n      <td>...</td>\n      <td>NaN</td>\n      <td>NaN</td>\n      <td>NaN</td>\n      <td>NaN</td>\n      <td>NaN</td>\n      <td>NaN</td>\n      <td>0.0</td>\n      <td>NaN</td>\n      <td>NaN</td>\n      <td>NaN</td>\n    </tr>\n  </tbody>\n</table>\n<p>164495 rows × 37 columns</p>\n</div>"
     },
     "execution_count": 27,
     "metadata": {},
     "output_type": "execute_result"
    }
   ],
   "source": [
    "very_active_minutes = pd.DataFrame(columns=[\"id\", \"data\"])\n",
    "\n",
    "# read and load from MongoDB\n",
    "for user in users:\n",
    "    user_data = pd.DataFrame(list(\n",
    "        db.fitbit.find({\"$and\": [\n",
    "            {\"type\": \"very_active_minutes\"},\n",
    "            {\"id\": user}]},\n",
    "            {\"id\": 1, \"data.dateTime\": 1, \"data.value\": 1, \"_id\": 0})))\n",
    "    very_active_minutes = pd.concat([very_active_minutes , user_data], axis=0)\n",
    "\n",
    "# split data column (json format) into two columns (df format)\n",
    "very_active_minutes[\"date\"] = very_active_minutes[\"data\"].apply(lambda d: d[\"dateTime\"])\n",
    "very_active_minutes[\"very_active_minutes\"] = very_active_minutes[\"data\"].apply(lambda d: d[\"value\"])\n",
    "very_active_minutes.drop([\"data\"], inplace=True, axis=1)\n",
    "\n",
    "# process the datetime object, feature types and group and aggregate the data\n",
    "very_active_minutes = data_loading.date_conversion(very_active_minutes)\n",
    "very_active_minutes[\"very_active_minutes\"] = pd.to_numeric(very_active_minutes[\"very_active_minutes\"])\n",
    "very_active_minutes = data_loading.aggregate_column(very_active_minutes, list(very_active_minutes.columns))\n",
    "\n",
    "# merge with the final dataframe\n",
    "df = df.merge(very_active_minutes, how='outer', on=['id', 'date', 'hour'])\n",
    "df"
   ],
   "metadata": {
    "collapsed": false,
    "pycharm": {
     "name": "#%%\n"
    }
   }
  },
  {
   "cell_type": "markdown",
   "source": [
    "##### time_in_heart_rate_zones"
   ],
   "metadata": {
    "collapsed": false,
    "pycharm": {
     "name": "#%% md\n"
    }
   }
  },
  {
   "cell_type": "code",
   "execution_count": 28,
   "outputs": [
    {
     "data": {
      "text/plain": "                              id       date  hour             ecg  \\\n0       621e2ff067b776a2403eb737 2021-12-22    19             NSR   \n1       621e301367b776a24057738e 2021-06-08    21             NSR   \n2       621e312a67b776a240164d59 2021-10-07    17             NSR   \n3       621e312a67b776a240164d59 2021-10-10    20             NSR   \n4       621e326767b776a24012e179 2021-07-22    17  UNCLASSIFIABLE   \n...                          ...        ...   ...             ...   \n164490  621e375b67b776a240290cdc 2022-01-18     0             NaN   \n164491  621e375b67b776a240290cdc 2022-01-19     0             NaN   \n164492  621e375b67b776a240290cdc 2022-01-20     0             NaN   \n164493  621e375b67b776a240290cdc 2022-01-21     0             NaN   \n164494  621e375b67b776a240290cdc 2022-01-22     0             NaN   \n\n       heart_rate_alert type  nightly_temperature  nremhr  spo2  rmssd  ...  \\\n0                  NONE  NaN                  NaN     NaN   NaN    NaN  ...   \n1                  NONE  NaN                  NaN     NaN   NaN    NaN  ...   \n2                  NONE  NaN                  NaN     NaN   NaN    NaN  ...   \n3                  NONE  NaN                  NaN     NaN   NaN    NaN  ...   \n4                  NONE  NaN                  NaN     NaN   NaN    NaN  ...   \n...                 ...  ...                  ...     ...   ...    ...  ...   \n164490              NaN  NaN                  NaN     NaN   NaN    NaN  ...   \n164491              NaN  NaN                  NaN     NaN   NaN    NaN  ...   \n164492              NaN  NaN                  NaN     NaN   NaN    NaN  ...   \n164493              NaN  NaN                  NaN     NaN   NaN    NaN  ...   \n164494              NaN  NaN                  NaN     NaN   NaN    NaN  ...   \n\n        mindfulness_end_heart_rate  moderately_active_minutes  \\\n0                              NaN                        NaN   \n1                              NaN                        NaN   \n2                              NaN                        NaN   \n3                              NaN                        NaN   \n4                              NaN                        NaN   \n...                            ...                        ...   \n164490                         NaN                        NaN   \n164491                         NaN                        NaN   \n164492                         NaN                        NaN   \n164493                         NaN                        NaN   \n164494                         NaN                        NaN   \n\n        resting_heart_rate  sedentary_minutes  steps  very_active_minutes  \\\n0                      NaN                NaN    0.0                  NaN   \n1                      NaN                NaN    0.0                  NaN   \n2                      NaN                NaN    0.0                  NaN   \n3                      NaN                NaN    0.0                  NaN   \n4                      NaN                NaN    0.0                  NaN   \n...                    ...                ...    ...                  ...   \n164490                 0.0                NaN    NaN                  NaN   \n164491                 0.0                NaN    NaN                  NaN   \n164492                 0.0                NaN    NaN                  NaN   \n164493                 0.0                NaN    NaN                  NaN   \n164494                 0.0                NaN    NaN                  NaN   \n\n        minutes_below_zone_1  minutes_in_zone_1  minutes_in_zone_2  \\\n0                        NaN                NaN                NaN   \n1                        NaN                NaN                NaN   \n2                        NaN                NaN                NaN   \n3                        NaN                NaN                NaN   \n4                        NaN                NaN                NaN   \n...                      ...                ...                ...   \n164490                   NaN                NaN                NaN   \n164491                   NaN                NaN                NaN   \n164492                   NaN                NaN                NaN   \n164493                   NaN                NaN                NaN   \n164494                   NaN                NaN                NaN   \n\n        minutes_in_zone_3  \n0                     NaN  \n1                     NaN  \n2                     NaN  \n3                     NaN  \n4                     NaN  \n...                   ...  \n164490                NaN  \n164491                NaN  \n164492                NaN  \n164493                NaN  \n164494                NaN  \n\n[164495 rows x 41 columns]",
      "text/html": "<div>\n<style scoped>\n    .dataframe tbody tr th:only-of-type {\n        vertical-align: middle;\n    }\n\n    .dataframe tbody tr th {\n        vertical-align: top;\n    }\n\n    .dataframe thead th {\n        text-align: right;\n    }\n</style>\n<table border=\"1\" class=\"dataframe\">\n  <thead>\n    <tr style=\"text-align: right;\">\n      <th></th>\n      <th>id</th>\n      <th>date</th>\n      <th>hour</th>\n      <th>ecg</th>\n      <th>heart_rate_alert</th>\n      <th>type</th>\n      <th>nightly_temperature</th>\n      <th>nremhr</th>\n      <th>spo2</th>\n      <th>rmssd</th>\n      <th>...</th>\n      <th>mindfulness_end_heart_rate</th>\n      <th>moderately_active_minutes</th>\n      <th>resting_heart_rate</th>\n      <th>sedentary_minutes</th>\n      <th>steps</th>\n      <th>very_active_minutes</th>\n      <th>minutes_below_zone_1</th>\n      <th>minutes_in_zone_1</th>\n      <th>minutes_in_zone_2</th>\n      <th>minutes_in_zone_3</th>\n    </tr>\n  </thead>\n  <tbody>\n    <tr>\n      <th>0</th>\n      <td>621e2ff067b776a2403eb737</td>\n      <td>2021-12-22</td>\n      <td>19</td>\n      <td>NSR</td>\n      <td>NONE</td>\n      <td>NaN</td>\n      <td>NaN</td>\n      <td>NaN</td>\n      <td>NaN</td>\n      <td>NaN</td>\n      <td>...</td>\n      <td>NaN</td>\n      <td>NaN</td>\n      <td>NaN</td>\n      <td>NaN</td>\n      <td>0.0</td>\n      <td>NaN</td>\n      <td>NaN</td>\n      <td>NaN</td>\n      <td>NaN</td>\n      <td>NaN</td>\n    </tr>\n    <tr>\n      <th>1</th>\n      <td>621e301367b776a24057738e</td>\n      <td>2021-06-08</td>\n      <td>21</td>\n      <td>NSR</td>\n      <td>NONE</td>\n      <td>NaN</td>\n      <td>NaN</td>\n      <td>NaN</td>\n      <td>NaN</td>\n      <td>NaN</td>\n      <td>...</td>\n      <td>NaN</td>\n      <td>NaN</td>\n      <td>NaN</td>\n      <td>NaN</td>\n      <td>0.0</td>\n      <td>NaN</td>\n      <td>NaN</td>\n      <td>NaN</td>\n      <td>NaN</td>\n      <td>NaN</td>\n    </tr>\n    <tr>\n      <th>2</th>\n      <td>621e312a67b776a240164d59</td>\n      <td>2021-10-07</td>\n      <td>17</td>\n      <td>NSR</td>\n      <td>NONE</td>\n      <td>NaN</td>\n      <td>NaN</td>\n      <td>NaN</td>\n      <td>NaN</td>\n      <td>NaN</td>\n      <td>...</td>\n      <td>NaN</td>\n      <td>NaN</td>\n      <td>NaN</td>\n      <td>NaN</td>\n      <td>0.0</td>\n      <td>NaN</td>\n      <td>NaN</td>\n      <td>NaN</td>\n      <td>NaN</td>\n      <td>NaN</td>\n    </tr>\n    <tr>\n      <th>3</th>\n      <td>621e312a67b776a240164d59</td>\n      <td>2021-10-10</td>\n      <td>20</td>\n      <td>NSR</td>\n      <td>NONE</td>\n      <td>NaN</td>\n      <td>NaN</td>\n      <td>NaN</td>\n      <td>NaN</td>\n      <td>NaN</td>\n      <td>...</td>\n      <td>NaN</td>\n      <td>NaN</td>\n      <td>NaN</td>\n      <td>NaN</td>\n      <td>0.0</td>\n      <td>NaN</td>\n      <td>NaN</td>\n      <td>NaN</td>\n      <td>NaN</td>\n      <td>NaN</td>\n    </tr>\n    <tr>\n      <th>4</th>\n      <td>621e326767b776a24012e179</td>\n      <td>2021-07-22</td>\n      <td>17</td>\n      <td>UNCLASSIFIABLE</td>\n      <td>NONE</td>\n      <td>NaN</td>\n      <td>NaN</td>\n      <td>NaN</td>\n      <td>NaN</td>\n      <td>NaN</td>\n      <td>...</td>\n      <td>NaN</td>\n      <td>NaN</td>\n      <td>NaN</td>\n      <td>NaN</td>\n      <td>0.0</td>\n      <td>NaN</td>\n      <td>NaN</td>\n      <td>NaN</td>\n      <td>NaN</td>\n      <td>NaN</td>\n    </tr>\n    <tr>\n      <th>...</th>\n      <td>...</td>\n      <td>...</td>\n      <td>...</td>\n      <td>...</td>\n      <td>...</td>\n      <td>...</td>\n      <td>...</td>\n      <td>...</td>\n      <td>...</td>\n      <td>...</td>\n      <td>...</td>\n      <td>...</td>\n      <td>...</td>\n      <td>...</td>\n      <td>...</td>\n      <td>...</td>\n      <td>...</td>\n      <td>...</td>\n      <td>...</td>\n      <td>...</td>\n      <td>...</td>\n    </tr>\n    <tr>\n      <th>164490</th>\n      <td>621e375b67b776a240290cdc</td>\n      <td>2022-01-18</td>\n      <td>0</td>\n      <td>NaN</td>\n      <td>NaN</td>\n      <td>NaN</td>\n      <td>NaN</td>\n      <td>NaN</td>\n      <td>NaN</td>\n      <td>NaN</td>\n      <td>...</td>\n      <td>NaN</td>\n      <td>NaN</td>\n      <td>0.0</td>\n      <td>NaN</td>\n      <td>NaN</td>\n      <td>NaN</td>\n      <td>NaN</td>\n      <td>NaN</td>\n      <td>NaN</td>\n      <td>NaN</td>\n    </tr>\n    <tr>\n      <th>164491</th>\n      <td>621e375b67b776a240290cdc</td>\n      <td>2022-01-19</td>\n      <td>0</td>\n      <td>NaN</td>\n      <td>NaN</td>\n      <td>NaN</td>\n      <td>NaN</td>\n      <td>NaN</td>\n      <td>NaN</td>\n      <td>NaN</td>\n      <td>...</td>\n      <td>NaN</td>\n      <td>NaN</td>\n      <td>0.0</td>\n      <td>NaN</td>\n      <td>NaN</td>\n      <td>NaN</td>\n      <td>NaN</td>\n      <td>NaN</td>\n      <td>NaN</td>\n      <td>NaN</td>\n    </tr>\n    <tr>\n      <th>164492</th>\n      <td>621e375b67b776a240290cdc</td>\n      <td>2022-01-20</td>\n      <td>0</td>\n      <td>NaN</td>\n      <td>NaN</td>\n      <td>NaN</td>\n      <td>NaN</td>\n      <td>NaN</td>\n      <td>NaN</td>\n      <td>NaN</td>\n      <td>...</td>\n      <td>NaN</td>\n      <td>NaN</td>\n      <td>0.0</td>\n      <td>NaN</td>\n      <td>NaN</td>\n      <td>NaN</td>\n      <td>NaN</td>\n      <td>NaN</td>\n      <td>NaN</td>\n      <td>NaN</td>\n    </tr>\n    <tr>\n      <th>164493</th>\n      <td>621e375b67b776a240290cdc</td>\n      <td>2022-01-21</td>\n      <td>0</td>\n      <td>NaN</td>\n      <td>NaN</td>\n      <td>NaN</td>\n      <td>NaN</td>\n      <td>NaN</td>\n      <td>NaN</td>\n      <td>NaN</td>\n      <td>...</td>\n      <td>NaN</td>\n      <td>NaN</td>\n      <td>0.0</td>\n      <td>NaN</td>\n      <td>NaN</td>\n      <td>NaN</td>\n      <td>NaN</td>\n      <td>NaN</td>\n      <td>NaN</td>\n      <td>NaN</td>\n    </tr>\n    <tr>\n      <th>164494</th>\n      <td>621e375b67b776a240290cdc</td>\n      <td>2022-01-22</td>\n      <td>0</td>\n      <td>NaN</td>\n      <td>NaN</td>\n      <td>NaN</td>\n      <td>NaN</td>\n      <td>NaN</td>\n      <td>NaN</td>\n      <td>NaN</td>\n      <td>...</td>\n      <td>NaN</td>\n      <td>NaN</td>\n      <td>0.0</td>\n      <td>NaN</td>\n      <td>NaN</td>\n      <td>NaN</td>\n      <td>NaN</td>\n      <td>NaN</td>\n      <td>NaN</td>\n      <td>NaN</td>\n    </tr>\n  </tbody>\n</table>\n<p>164495 rows × 41 columns</p>\n</div>"
     },
     "execution_count": 28,
     "metadata": {},
     "output_type": "execute_result"
    }
   ],
   "source": [
    "heart_rate_zones = pd.DataFrame(columns=[\"id\", \"data\"])\n",
    "\n",
    "# read and load from MongoDB\n",
    "for user in users:\n",
    "    user_data = pd.DataFrame(list(\n",
    "        db.fitbit.find({\"$and\": [\n",
    "            {\"type\": \"time_in_heart_rate_zones\"},\n",
    "            {\"id\": user}]},\n",
    "            {\"id\": 1, \"data.dateTime\": 1, \"data.value\": 1, \"_id\": 0})))\n",
    "    heart_rate_zones = pd.concat([heart_rate_zones , user_data], axis=0)\n",
    "\n",
    "# split data column (json format) into two columns (df format)\n",
    "heart_rate_zones[\"date\"] = heart_rate_zones[\"data\"].apply(lambda d: d[\"dateTime\"])\n",
    "heart_rate_zones[\"minutes_below_zone_1\"] = heart_rate_zones[\"data\"].apply(lambda d: d[\"value\"].get(\"valuesInZones\").get(\"BELOW_DEFAULT_ZONE_1\"))\n",
    "heart_rate_zones[\"minutes_in_zone_1\"] = heart_rate_zones[\"data\"].apply(lambda d: d[\"value\"].get(\"valuesInZones\").get(\"IN_DEFAULT_ZONE_1\"))\n",
    "heart_rate_zones[\"minutes_in_zone_2\"] = heart_rate_zones[\"data\"].apply(lambda d: d[\"value\"].get(\"valuesInZones\").get(\"IN_DEFAULT_ZONE_2\"))\n",
    "heart_rate_zones[\"minutes_in_zone_3\"] = heart_rate_zones[\"data\"].apply(lambda d: d[\"value\"].get(\"valuesInZones\").get(\"IN_DEFAULT_ZONE_3\"))\n",
    "heart_rate_zones.drop([\"data\"], inplace=True, axis=1)\n",
    "\n",
    "# process the datetime object, feature types and group and aggregate the data\n",
    "heart_rate_zones = data_loading.date_conversion(heart_rate_zones)\n",
    "heart_rate_zones[\"minutes_below_zone_1\"] = pd.to_numeric(heart_rate_zones[\"minutes_below_zone_1\"])\n",
    "heart_rate_zones[\"minutes_in_zone_1\"] = pd.to_numeric(heart_rate_zones[\"minutes_in_zone_1\"])\n",
    "heart_rate_zones[\"minutes_in_zone_2\"] = pd.to_numeric(heart_rate_zones[\"minutes_in_zone_2\"])\n",
    "heart_rate_zones[\"minutes_in_zone_3\"] = pd.to_numeric(heart_rate_zones[\"minutes_in_zone_3\"])\n",
    "heart_rate_zones = data_loading.aggregate_column(heart_rate_zones, list(heart_rate_zones.columns))\n",
    "\n",
    "# merge with the final dataframe\n",
    "df = df.merge(heart_rate_zones, how='outer', on=['id', 'date', 'hour'])\n",
    "df"
   ],
   "metadata": {
    "collapsed": false,
    "pycharm": {
     "name": "#%%\n"
    }
   }
  },
  {
   "cell_type": "markdown",
   "source": [
    "##### water_logs"
   ],
   "metadata": {
    "collapsed": false,
    "pycharm": {
     "name": "#%% md\n"
    }
   }
  },
  {
   "cell_type": "code",
   "execution_count": 29,
   "outputs": [
    {
     "data": {
      "text/plain": "                              id       date  hour             ecg  \\\n0       621e2ff067b776a2403eb737 2021-12-22    19             NSR   \n1       621e301367b776a24057738e 2021-06-08    21             NSR   \n2       621e312a67b776a240164d59 2021-10-07    17             NSR   \n3       621e312a67b776a240164d59 2021-10-10    20             NSR   \n4       621e326767b776a24012e179 2021-07-22    17  UNCLASSIFIABLE   \n...                          ...        ...   ...             ...   \n164490  621e375b67b776a240290cdc 2022-01-18     0             NaN   \n164491  621e375b67b776a240290cdc 2022-01-19     0             NaN   \n164492  621e375b67b776a240290cdc 2022-01-20     0             NaN   \n164493  621e375b67b776a240290cdc 2022-01-21     0             NaN   \n164494  621e375b67b776a240290cdc 2022-01-22     0             NaN   \n\n       heart_rate_alert type  nightly_temperature  nremhr  spo2  rmssd  ...  \\\n0                  NONE  NaN                  NaN     NaN   NaN    NaN  ...   \n1                  NONE  NaN                  NaN     NaN   NaN    NaN  ...   \n2                  NONE  NaN                  NaN     NaN   NaN    NaN  ...   \n3                  NONE  NaN                  NaN     NaN   NaN    NaN  ...   \n4                  NONE  NaN                  NaN     NaN   NaN    NaN  ...   \n...                 ...  ...                  ...     ...   ...    ...  ...   \n164490              NaN  NaN                  NaN     NaN   NaN    NaN  ...   \n164491              NaN  NaN                  NaN     NaN   NaN    NaN  ...   \n164492              NaN  NaN                  NaN     NaN   NaN    NaN  ...   \n164493              NaN  NaN                  NaN     NaN   NaN    NaN  ...   \n164494              NaN  NaN                  NaN     NaN   NaN    NaN  ...   \n\n        moderately_active_minutes  resting_heart_rate  sedentary_minutes  \\\n0                             NaN                 NaN                NaN   \n1                             NaN                 NaN                NaN   \n2                             NaN                 NaN                NaN   \n3                             NaN                 NaN                NaN   \n4                             NaN                 NaN                NaN   \n...                           ...                 ...                ...   \n164490                        NaN                 0.0                NaN   \n164491                        NaN                 0.0                NaN   \n164492                        NaN                 0.0                NaN   \n164493                        NaN                 0.0                NaN   \n164494                        NaN                 0.0                NaN   \n\n        steps  very_active_minutes  minutes_below_zone_1  minutes_in_zone_1  \\\n0         0.0                  NaN                   NaN                NaN   \n1         0.0                  NaN                   NaN                NaN   \n2         0.0                  NaN                   NaN                NaN   \n3         0.0                  NaN                   NaN                NaN   \n4         0.0                  NaN                   NaN                NaN   \n...       ...                  ...                   ...                ...   \n164490    NaN                  NaN                   NaN                NaN   \n164491    NaN                  NaN                   NaN                NaN   \n164492    NaN                  NaN                   NaN                NaN   \n164493    NaN                  NaN                   NaN                NaN   \n164494    NaN                  NaN                   NaN                NaN   \n\n        minutes_in_zone_2  minutes_in_zone_3  water_amount  \n0                     NaN                NaN           NaN  \n1                     NaN                NaN           NaN  \n2                     NaN                NaN           NaN  \n3                     NaN                NaN           NaN  \n4                     NaN                NaN           NaN  \n...                   ...                ...           ...  \n164490                NaN                NaN           NaN  \n164491                NaN                NaN           NaN  \n164492                NaN                NaN           NaN  \n164493                NaN                NaN           NaN  \n164494                NaN                NaN           NaN  \n\n[164495 rows x 42 columns]",
      "text/html": "<div>\n<style scoped>\n    .dataframe tbody tr th:only-of-type {\n        vertical-align: middle;\n    }\n\n    .dataframe tbody tr th {\n        vertical-align: top;\n    }\n\n    .dataframe thead th {\n        text-align: right;\n    }\n</style>\n<table border=\"1\" class=\"dataframe\">\n  <thead>\n    <tr style=\"text-align: right;\">\n      <th></th>\n      <th>id</th>\n      <th>date</th>\n      <th>hour</th>\n      <th>ecg</th>\n      <th>heart_rate_alert</th>\n      <th>type</th>\n      <th>nightly_temperature</th>\n      <th>nremhr</th>\n      <th>spo2</th>\n      <th>rmssd</th>\n      <th>...</th>\n      <th>moderately_active_minutes</th>\n      <th>resting_heart_rate</th>\n      <th>sedentary_minutes</th>\n      <th>steps</th>\n      <th>very_active_minutes</th>\n      <th>minutes_below_zone_1</th>\n      <th>minutes_in_zone_1</th>\n      <th>minutes_in_zone_2</th>\n      <th>minutes_in_zone_3</th>\n      <th>water_amount</th>\n    </tr>\n  </thead>\n  <tbody>\n    <tr>\n      <th>0</th>\n      <td>621e2ff067b776a2403eb737</td>\n      <td>2021-12-22</td>\n      <td>19</td>\n      <td>NSR</td>\n      <td>NONE</td>\n      <td>NaN</td>\n      <td>NaN</td>\n      <td>NaN</td>\n      <td>NaN</td>\n      <td>NaN</td>\n      <td>...</td>\n      <td>NaN</td>\n      <td>NaN</td>\n      <td>NaN</td>\n      <td>0.0</td>\n      <td>NaN</td>\n      <td>NaN</td>\n      <td>NaN</td>\n      <td>NaN</td>\n      <td>NaN</td>\n      <td>NaN</td>\n    </tr>\n    <tr>\n      <th>1</th>\n      <td>621e301367b776a24057738e</td>\n      <td>2021-06-08</td>\n      <td>21</td>\n      <td>NSR</td>\n      <td>NONE</td>\n      <td>NaN</td>\n      <td>NaN</td>\n      <td>NaN</td>\n      <td>NaN</td>\n      <td>NaN</td>\n      <td>...</td>\n      <td>NaN</td>\n      <td>NaN</td>\n      <td>NaN</td>\n      <td>0.0</td>\n      <td>NaN</td>\n      <td>NaN</td>\n      <td>NaN</td>\n      <td>NaN</td>\n      <td>NaN</td>\n      <td>NaN</td>\n    </tr>\n    <tr>\n      <th>2</th>\n      <td>621e312a67b776a240164d59</td>\n      <td>2021-10-07</td>\n      <td>17</td>\n      <td>NSR</td>\n      <td>NONE</td>\n      <td>NaN</td>\n      <td>NaN</td>\n      <td>NaN</td>\n      <td>NaN</td>\n      <td>NaN</td>\n      <td>...</td>\n      <td>NaN</td>\n      <td>NaN</td>\n      <td>NaN</td>\n      <td>0.0</td>\n      <td>NaN</td>\n      <td>NaN</td>\n      <td>NaN</td>\n      <td>NaN</td>\n      <td>NaN</td>\n      <td>NaN</td>\n    </tr>\n    <tr>\n      <th>3</th>\n      <td>621e312a67b776a240164d59</td>\n      <td>2021-10-10</td>\n      <td>20</td>\n      <td>NSR</td>\n      <td>NONE</td>\n      <td>NaN</td>\n      <td>NaN</td>\n      <td>NaN</td>\n      <td>NaN</td>\n      <td>NaN</td>\n      <td>...</td>\n      <td>NaN</td>\n      <td>NaN</td>\n      <td>NaN</td>\n      <td>0.0</td>\n      <td>NaN</td>\n      <td>NaN</td>\n      <td>NaN</td>\n      <td>NaN</td>\n      <td>NaN</td>\n      <td>NaN</td>\n    </tr>\n    <tr>\n      <th>4</th>\n      <td>621e326767b776a24012e179</td>\n      <td>2021-07-22</td>\n      <td>17</td>\n      <td>UNCLASSIFIABLE</td>\n      <td>NONE</td>\n      <td>NaN</td>\n      <td>NaN</td>\n      <td>NaN</td>\n      <td>NaN</td>\n      <td>NaN</td>\n      <td>...</td>\n      <td>NaN</td>\n      <td>NaN</td>\n      <td>NaN</td>\n      <td>0.0</td>\n      <td>NaN</td>\n      <td>NaN</td>\n      <td>NaN</td>\n      <td>NaN</td>\n      <td>NaN</td>\n      <td>NaN</td>\n    </tr>\n    <tr>\n      <th>...</th>\n      <td>...</td>\n      <td>...</td>\n      <td>...</td>\n      <td>...</td>\n      <td>...</td>\n      <td>...</td>\n      <td>...</td>\n      <td>...</td>\n      <td>...</td>\n      <td>...</td>\n      <td>...</td>\n      <td>...</td>\n      <td>...</td>\n      <td>...</td>\n      <td>...</td>\n      <td>...</td>\n      <td>...</td>\n      <td>...</td>\n      <td>...</td>\n      <td>...</td>\n      <td>...</td>\n    </tr>\n    <tr>\n      <th>164490</th>\n      <td>621e375b67b776a240290cdc</td>\n      <td>2022-01-18</td>\n      <td>0</td>\n      <td>NaN</td>\n      <td>NaN</td>\n      <td>NaN</td>\n      <td>NaN</td>\n      <td>NaN</td>\n      <td>NaN</td>\n      <td>NaN</td>\n      <td>...</td>\n      <td>NaN</td>\n      <td>0.0</td>\n      <td>NaN</td>\n      <td>NaN</td>\n      <td>NaN</td>\n      <td>NaN</td>\n      <td>NaN</td>\n      <td>NaN</td>\n      <td>NaN</td>\n      <td>NaN</td>\n    </tr>\n    <tr>\n      <th>164491</th>\n      <td>621e375b67b776a240290cdc</td>\n      <td>2022-01-19</td>\n      <td>0</td>\n      <td>NaN</td>\n      <td>NaN</td>\n      <td>NaN</td>\n      <td>NaN</td>\n      <td>NaN</td>\n      <td>NaN</td>\n      <td>NaN</td>\n      <td>...</td>\n      <td>NaN</td>\n      <td>0.0</td>\n      <td>NaN</td>\n      <td>NaN</td>\n      <td>NaN</td>\n      <td>NaN</td>\n      <td>NaN</td>\n      <td>NaN</td>\n      <td>NaN</td>\n      <td>NaN</td>\n    </tr>\n    <tr>\n      <th>164492</th>\n      <td>621e375b67b776a240290cdc</td>\n      <td>2022-01-20</td>\n      <td>0</td>\n      <td>NaN</td>\n      <td>NaN</td>\n      <td>NaN</td>\n      <td>NaN</td>\n      <td>NaN</td>\n      <td>NaN</td>\n      <td>NaN</td>\n      <td>...</td>\n      <td>NaN</td>\n      <td>0.0</td>\n      <td>NaN</td>\n      <td>NaN</td>\n      <td>NaN</td>\n      <td>NaN</td>\n      <td>NaN</td>\n      <td>NaN</td>\n      <td>NaN</td>\n      <td>NaN</td>\n    </tr>\n    <tr>\n      <th>164493</th>\n      <td>621e375b67b776a240290cdc</td>\n      <td>2022-01-21</td>\n      <td>0</td>\n      <td>NaN</td>\n      <td>NaN</td>\n      <td>NaN</td>\n      <td>NaN</td>\n      <td>NaN</td>\n      <td>NaN</td>\n      <td>NaN</td>\n      <td>...</td>\n      <td>NaN</td>\n      <td>0.0</td>\n      <td>NaN</td>\n      <td>NaN</td>\n      <td>NaN</td>\n      <td>NaN</td>\n      <td>NaN</td>\n      <td>NaN</td>\n      <td>NaN</td>\n      <td>NaN</td>\n    </tr>\n    <tr>\n      <th>164494</th>\n      <td>621e375b67b776a240290cdc</td>\n      <td>2022-01-22</td>\n      <td>0</td>\n      <td>NaN</td>\n      <td>NaN</td>\n      <td>NaN</td>\n      <td>NaN</td>\n      <td>NaN</td>\n      <td>NaN</td>\n      <td>NaN</td>\n      <td>...</td>\n      <td>NaN</td>\n      <td>0.0</td>\n      <td>NaN</td>\n      <td>NaN</td>\n      <td>NaN</td>\n      <td>NaN</td>\n      <td>NaN</td>\n      <td>NaN</td>\n      <td>NaN</td>\n      <td>NaN</td>\n    </tr>\n  </tbody>\n</table>\n<p>164495 rows × 42 columns</p>\n</div>"
     },
     "execution_count": 29,
     "metadata": {},
     "output_type": "execute_result"
    }
   ],
   "source": [
    "water = pd.DataFrame(columns=[\"id\", \"data\"])\n",
    "\n",
    "# read and load from MongoDB\n",
    "for user in users:\n",
    "    user_data = pd.DataFrame(list(\n",
    "        db.fitbit.find({\"$and\": [\n",
    "            {\"type\": \"water_logs\"},\n",
    "            {\"id\": user}]},\n",
    "            {\"id\": 1, \"data.date\": 1, \"data.waterAmount\": 1, \"_id\": 0})))\n",
    "    water = pd.concat([water , user_data], axis=0)\n",
    "\n",
    "# split data column (json format) into two columns (df format)\n",
    "water[\"date\"] = water[\"data\"].apply(lambda d: d[\"date\"])\n",
    "water[\"water_amount\"] = water[\"data\"].apply(lambda d: d[\"waterAmount\"])\n",
    "water.drop([\"data\"], inplace=True, axis=1)\n",
    "\n",
    "# process the datetime object, feature types and group and aggregate the data\n",
    "water = data_loading.date_conversion(water)\n",
    "water[\"water_amount\"] = pd.to_numeric(water[\"water_amount\"])\n",
    "water = data_loading.aggregate_column(water, list(water.columns))\n",
    "\n",
    "# merge with the final dataframe\n",
    "df = df.merge(water, how='outer', on=['id', 'date', 'hour'])\n",
    "df"
   ],
   "metadata": {
    "collapsed": false,
    "pycharm": {
     "name": "#%%\n"
    }
   }
  },
  {
   "cell_type": "markdown",
   "source": [
    "##### journal_entries"
   ],
   "metadata": {
    "collapsed": false,
    "pycharm": {
     "name": "#%% md\n"
    }
   }
  },
  {
   "cell_type": "code",
   "execution_count": 34,
   "outputs": [
    {
     "data": {
      "text/plain": "                              id       date  hour             ecg  \\\n0       621e2ff067b776a2403eb737 2021-12-22    19             NSR   \n1       621e301367b776a24057738e 2021-06-08    21             NSR   \n2       621e312a67b776a240164d59 2021-10-07    17             NSR   \n3       621e312a67b776a240164d59 2021-10-10    20             NSR   \n4       621e326767b776a24012e179 2021-07-22    17  UNCLASSIFIABLE   \n...                          ...        ...   ...             ...   \n164490  621e375b67b776a240290cdc 2022-01-18     0             NaN   \n164491  621e375b67b776a240290cdc 2022-01-19     0             NaN   \n164492  621e375b67b776a240290cdc 2022-01-20     0             NaN   \n164493  621e375b67b776a240290cdc 2022-01-21     0             NaN   \n164494  621e375b67b776a240290cdc 2022-01-22     0             NaN   \n\n       heart_rate_alert type  nightly_temperature  nremhr  spo2  rmssd  ...  \\\n0                  NONE  NaN                  NaN     NaN   NaN    NaN  ...   \n1                  NONE  NaN                  NaN     NaN   NaN    NaN  ...   \n2                  NONE  NaN                  NaN     NaN   NaN    NaN  ...   \n3                  NONE  NaN                  NaN     NaN   NaN    NaN  ...   \n4                  NONE  NaN                  NaN     NaN   NaN    NaN  ...   \n...                 ...  ...                  ...     ...   ...    ...  ...   \n164490              NaN  NaN                  NaN     NaN   NaN    NaN  ...   \n164491              NaN  NaN                  NaN     NaN   NaN    NaN  ...   \n164492              NaN  NaN                  NaN     NaN   NaN    NaN  ...   \n164493              NaN  NaN                  NaN     NaN   NaN    NaN  ...   \n164494              NaN  NaN                  NaN     NaN   NaN    NaN  ...   \n\n        resting_heart_rate  sedentary_minutes  steps  very_active_minutes  \\\n0                      NaN                NaN    0.0                  NaN   \n1                      NaN                NaN    0.0                  NaN   \n2                      NaN                NaN    0.0                  NaN   \n3                      NaN                NaN    0.0                  NaN   \n4                      NaN                NaN    0.0                  NaN   \n...                    ...                ...    ...                  ...   \n164490                 0.0                NaN    NaN                  NaN   \n164491                 0.0                NaN    NaN                  NaN   \n164492                 0.0                NaN    NaN                  NaN   \n164493                 0.0                NaN    NaN                  NaN   \n164494                 0.0                NaN    NaN                  NaN   \n\n        minutes_below_zone_1  minutes_in_zone_1  minutes_in_zone_2  \\\n0                        NaN                NaN                NaN   \n1                        NaN                NaN                NaN   \n2                        NaN                NaN                NaN   \n3                        NaN                NaN                NaN   \n4                        NaN                NaN                NaN   \n...                      ...                ...                ...   \n164490                   NaN                NaN                NaN   \n164491                   NaN                NaN                NaN   \n164492                   NaN                NaN                NaN   \n164493                   NaN                NaN                NaN   \n164494                   NaN                NaN                NaN   \n\n        minutes_in_zone_3  water_amount  mood_value  \n0                     NaN           NaN         NaN  \n1                     NaN           NaN         NaN  \n2                     NaN           NaN         NaN  \n3                     NaN           NaN         NaN  \n4                     NaN           NaN         NaN  \n...                   ...           ...         ...  \n164490                NaN           NaN         NaN  \n164491                NaN           NaN         NaN  \n164492                NaN           NaN         NaN  \n164493                NaN           NaN         NaN  \n164494                NaN           NaN         NaN  \n\n[164495 rows x 43 columns]",
      "text/html": "<div>\n<style scoped>\n    .dataframe tbody tr th:only-of-type {\n        vertical-align: middle;\n    }\n\n    .dataframe tbody tr th {\n        vertical-align: top;\n    }\n\n    .dataframe thead th {\n        text-align: right;\n    }\n</style>\n<table border=\"1\" class=\"dataframe\">\n  <thead>\n    <tr style=\"text-align: right;\">\n      <th></th>\n      <th>id</th>\n      <th>date</th>\n      <th>hour</th>\n      <th>ecg</th>\n      <th>heart_rate_alert</th>\n      <th>type</th>\n      <th>nightly_temperature</th>\n      <th>nremhr</th>\n      <th>spo2</th>\n      <th>rmssd</th>\n      <th>...</th>\n      <th>resting_heart_rate</th>\n      <th>sedentary_minutes</th>\n      <th>steps</th>\n      <th>very_active_minutes</th>\n      <th>minutes_below_zone_1</th>\n      <th>minutes_in_zone_1</th>\n      <th>minutes_in_zone_2</th>\n      <th>minutes_in_zone_3</th>\n      <th>water_amount</th>\n      <th>mood_value</th>\n    </tr>\n  </thead>\n  <tbody>\n    <tr>\n      <th>0</th>\n      <td>621e2ff067b776a2403eb737</td>\n      <td>2021-12-22</td>\n      <td>19</td>\n      <td>NSR</td>\n      <td>NONE</td>\n      <td>NaN</td>\n      <td>NaN</td>\n      <td>NaN</td>\n      <td>NaN</td>\n      <td>NaN</td>\n      <td>...</td>\n      <td>NaN</td>\n      <td>NaN</td>\n      <td>0.0</td>\n      <td>NaN</td>\n      <td>NaN</td>\n      <td>NaN</td>\n      <td>NaN</td>\n      <td>NaN</td>\n      <td>NaN</td>\n      <td>NaN</td>\n    </tr>\n    <tr>\n      <th>1</th>\n      <td>621e301367b776a24057738e</td>\n      <td>2021-06-08</td>\n      <td>21</td>\n      <td>NSR</td>\n      <td>NONE</td>\n      <td>NaN</td>\n      <td>NaN</td>\n      <td>NaN</td>\n      <td>NaN</td>\n      <td>NaN</td>\n      <td>...</td>\n      <td>NaN</td>\n      <td>NaN</td>\n      <td>0.0</td>\n      <td>NaN</td>\n      <td>NaN</td>\n      <td>NaN</td>\n      <td>NaN</td>\n      <td>NaN</td>\n      <td>NaN</td>\n      <td>NaN</td>\n    </tr>\n    <tr>\n      <th>2</th>\n      <td>621e312a67b776a240164d59</td>\n      <td>2021-10-07</td>\n      <td>17</td>\n      <td>NSR</td>\n      <td>NONE</td>\n      <td>NaN</td>\n      <td>NaN</td>\n      <td>NaN</td>\n      <td>NaN</td>\n      <td>NaN</td>\n      <td>...</td>\n      <td>NaN</td>\n      <td>NaN</td>\n      <td>0.0</td>\n      <td>NaN</td>\n      <td>NaN</td>\n      <td>NaN</td>\n      <td>NaN</td>\n      <td>NaN</td>\n      <td>NaN</td>\n      <td>NaN</td>\n    </tr>\n    <tr>\n      <th>3</th>\n      <td>621e312a67b776a240164d59</td>\n      <td>2021-10-10</td>\n      <td>20</td>\n      <td>NSR</td>\n      <td>NONE</td>\n      <td>NaN</td>\n      <td>NaN</td>\n      <td>NaN</td>\n      <td>NaN</td>\n      <td>NaN</td>\n      <td>...</td>\n      <td>NaN</td>\n      <td>NaN</td>\n      <td>0.0</td>\n      <td>NaN</td>\n      <td>NaN</td>\n      <td>NaN</td>\n      <td>NaN</td>\n      <td>NaN</td>\n      <td>NaN</td>\n      <td>NaN</td>\n    </tr>\n    <tr>\n      <th>4</th>\n      <td>621e326767b776a24012e179</td>\n      <td>2021-07-22</td>\n      <td>17</td>\n      <td>UNCLASSIFIABLE</td>\n      <td>NONE</td>\n      <td>NaN</td>\n      <td>NaN</td>\n      <td>NaN</td>\n      <td>NaN</td>\n      <td>NaN</td>\n      <td>...</td>\n      <td>NaN</td>\n      <td>NaN</td>\n      <td>0.0</td>\n      <td>NaN</td>\n      <td>NaN</td>\n      <td>NaN</td>\n      <td>NaN</td>\n      <td>NaN</td>\n      <td>NaN</td>\n      <td>NaN</td>\n    </tr>\n    <tr>\n      <th>...</th>\n      <td>...</td>\n      <td>...</td>\n      <td>...</td>\n      <td>...</td>\n      <td>...</td>\n      <td>...</td>\n      <td>...</td>\n      <td>...</td>\n      <td>...</td>\n      <td>...</td>\n      <td>...</td>\n      <td>...</td>\n      <td>...</td>\n      <td>...</td>\n      <td>...</td>\n      <td>...</td>\n      <td>...</td>\n      <td>...</td>\n      <td>...</td>\n      <td>...</td>\n      <td>...</td>\n    </tr>\n    <tr>\n      <th>164490</th>\n      <td>621e375b67b776a240290cdc</td>\n      <td>2022-01-18</td>\n      <td>0</td>\n      <td>NaN</td>\n      <td>NaN</td>\n      <td>NaN</td>\n      <td>NaN</td>\n      <td>NaN</td>\n      <td>NaN</td>\n      <td>NaN</td>\n      <td>...</td>\n      <td>0.0</td>\n      <td>NaN</td>\n      <td>NaN</td>\n      <td>NaN</td>\n      <td>NaN</td>\n      <td>NaN</td>\n      <td>NaN</td>\n      <td>NaN</td>\n      <td>NaN</td>\n      <td>NaN</td>\n    </tr>\n    <tr>\n      <th>164491</th>\n      <td>621e375b67b776a240290cdc</td>\n      <td>2022-01-19</td>\n      <td>0</td>\n      <td>NaN</td>\n      <td>NaN</td>\n      <td>NaN</td>\n      <td>NaN</td>\n      <td>NaN</td>\n      <td>NaN</td>\n      <td>NaN</td>\n      <td>...</td>\n      <td>0.0</td>\n      <td>NaN</td>\n      <td>NaN</td>\n      <td>NaN</td>\n      <td>NaN</td>\n      <td>NaN</td>\n      <td>NaN</td>\n      <td>NaN</td>\n      <td>NaN</td>\n      <td>NaN</td>\n    </tr>\n    <tr>\n      <th>164492</th>\n      <td>621e375b67b776a240290cdc</td>\n      <td>2022-01-20</td>\n      <td>0</td>\n      <td>NaN</td>\n      <td>NaN</td>\n      <td>NaN</td>\n      <td>NaN</td>\n      <td>NaN</td>\n      <td>NaN</td>\n      <td>NaN</td>\n      <td>...</td>\n      <td>0.0</td>\n      <td>NaN</td>\n      <td>NaN</td>\n      <td>NaN</td>\n      <td>NaN</td>\n      <td>NaN</td>\n      <td>NaN</td>\n      <td>NaN</td>\n      <td>NaN</td>\n      <td>NaN</td>\n    </tr>\n    <tr>\n      <th>164493</th>\n      <td>621e375b67b776a240290cdc</td>\n      <td>2022-01-21</td>\n      <td>0</td>\n      <td>NaN</td>\n      <td>NaN</td>\n      <td>NaN</td>\n      <td>NaN</td>\n      <td>NaN</td>\n      <td>NaN</td>\n      <td>NaN</td>\n      <td>...</td>\n      <td>0.0</td>\n      <td>NaN</td>\n      <td>NaN</td>\n      <td>NaN</td>\n      <td>NaN</td>\n      <td>NaN</td>\n      <td>NaN</td>\n      <td>NaN</td>\n      <td>NaN</td>\n      <td>NaN</td>\n    </tr>\n    <tr>\n      <th>164494</th>\n      <td>621e375b67b776a240290cdc</td>\n      <td>2022-01-22</td>\n      <td>0</td>\n      <td>NaN</td>\n      <td>NaN</td>\n      <td>NaN</td>\n      <td>NaN</td>\n      <td>NaN</td>\n      <td>NaN</td>\n      <td>NaN</td>\n      <td>...</td>\n      <td>0.0</td>\n      <td>NaN</td>\n      <td>NaN</td>\n      <td>NaN</td>\n      <td>NaN</td>\n      <td>NaN</td>\n      <td>NaN</td>\n      <td>NaN</td>\n      <td>NaN</td>\n      <td>NaN</td>\n    </tr>\n  </tbody>\n</table>\n<p>164495 rows × 43 columns</p>\n</div>"
     },
     "execution_count": 34,
     "metadata": {},
     "output_type": "execute_result"
    }
   ],
   "source": [
    "journal = pd.DataFrame(columns=[\"id\", \"data\"])\n",
    "\n",
    "# read and load from MongoDB\n",
    "for user in users:\n",
    "    user_data = pd.DataFrame(list(\n",
    "        db.fitbit.find({\"$and\": [\n",
    "            {\"type\": \"journal_entries\"},\n",
    "            {\"id\": user}]},\n",
    "            {\"id\": 1, \"data.log_time\": 1, \"data.value\": 1, \"_id\": 0})))\n",
    "    journal = pd.concat([journal , user_data], axis=0)\n",
    "\n",
    "# split data column (json format) into two columns (df format)\n",
    "journal[\"date\"] = journal[\"data\"].apply(lambda d: d[\"log_time\"])\n",
    "journal[\"mood_value\"] = journal[\"data\"].apply(lambda d: d[\"value\"])\n",
    "journal.drop([\"data\"], inplace=True, axis=1)\n",
    "\n",
    "# process the datetime object, feature types and group and aggregate the data\n",
    "journal = data_loading.date_conversion(journal)\n",
    "journal[\"mood_value\"] = pd.to_numeric(journal[\"mood_value\"])\n",
    "journal = data_loading.aggregate_column(journal, list(journal.columns))\n",
    "\n",
    "# merge with the final dataframe\n",
    "df = df.merge(journal, how='outer', on=['id', 'date', 'hour'])\n",
    "df"
   ],
   "metadata": {
    "collapsed": false,
    "pycharm": {
     "name": "#%%\n"
    }
   }
  },
  {
   "cell_type": "code",
   "execution_count": 49,
   "outputs": [],
   "source": [
    "df.to_pickle('data/temp_before_journal.pkl')"
   ],
   "metadata": {
    "collapsed": false,
    "pycharm": {
     "name": "#%%\n"
    }
   }
  },
  {
   "cell_type": "code",
   "execution_count": 4,
   "outputs": [
    {
     "data": {
      "text/plain": "                              id       date  hour             ecg  \\\n0       621e2ff067b776a2403eb737 2021-12-22    19             NSR   \n1       621e301367b776a24057738e 2021-06-08    21             NSR   \n2       621e312a67b776a240164d59 2021-10-07    17             NSR   \n3       621e312a67b776a240164d59 2021-10-10    20             NSR   \n4       621e326767b776a24012e179 2021-07-22    17  UNCLASSIFIABLE   \n...                          ...        ...   ...             ...   \n164490  621e375b67b776a240290cdc 2022-01-18     0             NaN   \n164491  621e375b67b776a240290cdc 2022-01-19     0             NaN   \n164492  621e375b67b776a240290cdc 2022-01-20     0             NaN   \n164493  621e375b67b776a240290cdc 2022-01-21     0             NaN   \n164494  621e375b67b776a240290cdc 2022-01-22     0             NaN   \n\n       heart_rate_alert type  nightly_temperature  nremhr  spo2  rmssd  ...  \\\n0                  NONE  NaN                  NaN     NaN   NaN    NaN  ...   \n1                  NONE  NaN                  NaN     NaN   NaN    NaN  ...   \n2                  NONE  NaN                  NaN     NaN   NaN    NaN  ...   \n3                  NONE  NaN                  NaN     NaN   NaN    NaN  ...   \n4                  NONE  NaN                  NaN     NaN   NaN    NaN  ...   \n...                 ...  ...                  ...     ...   ...    ...  ...   \n164490              NaN  NaN                  NaN     NaN   NaN    NaN  ...   \n164491              NaN  NaN                  NaN     NaN   NaN    NaN  ...   \n164492              NaN  NaN                  NaN     NaN   NaN    NaN  ...   \n164493              NaN  NaN                  NaN     NaN   NaN    NaN  ...   \n164494              NaN  NaN                  NaN     NaN   NaN    NaN  ...   \n\n        resting_heart_rate  sedentary_minutes  steps  very_active_minutes  \\\n0                      NaN                NaN    0.0                  NaN   \n1                      NaN                NaN    0.0                  NaN   \n2                      NaN                NaN    0.0                  NaN   \n3                      NaN                NaN    0.0                  NaN   \n4                      NaN                NaN    0.0                  NaN   \n...                    ...                ...    ...                  ...   \n164490                 0.0                NaN    NaN                  NaN   \n164491                 0.0                NaN    NaN                  NaN   \n164492                 0.0                NaN    NaN                  NaN   \n164493                 0.0                NaN    NaN                  NaN   \n164494                 0.0                NaN    NaN                  NaN   \n\n        minutes_below_zone_1  minutes_in_zone_1  minutes_in_zone_2  \\\n0                        NaN                NaN                NaN   \n1                        NaN                NaN                NaN   \n2                        NaN                NaN                NaN   \n3                        NaN                NaN                NaN   \n4                        NaN                NaN                NaN   \n...                      ...                ...                ...   \n164490                   NaN                NaN                NaN   \n164491                   NaN                NaN                NaN   \n164492                   NaN                NaN                NaN   \n164493                   NaN                NaN                NaN   \n164494                   NaN                NaN                NaN   \n\n        minutes_in_zone_3  water_amount  mood_value  \n0                     NaN           NaN         NaN  \n1                     NaN           NaN         NaN  \n2                     NaN           NaN         NaN  \n3                     NaN           NaN         NaN  \n4                     NaN           NaN         NaN  \n...                   ...           ...         ...  \n164490                NaN           NaN         NaN  \n164491                NaN           NaN         NaN  \n164492                NaN           NaN         NaN  \n164493                NaN           NaN         NaN  \n164494                NaN           NaN         NaN  \n\n[164495 rows x 43 columns]",
      "text/html": "<div>\n<style scoped>\n    .dataframe tbody tr th:only-of-type {\n        vertical-align: middle;\n    }\n\n    .dataframe tbody tr th {\n        vertical-align: top;\n    }\n\n    .dataframe thead th {\n        text-align: right;\n    }\n</style>\n<table border=\"1\" class=\"dataframe\">\n  <thead>\n    <tr style=\"text-align: right;\">\n      <th></th>\n      <th>id</th>\n      <th>date</th>\n      <th>hour</th>\n      <th>ecg</th>\n      <th>heart_rate_alert</th>\n      <th>type</th>\n      <th>nightly_temperature</th>\n      <th>nremhr</th>\n      <th>spo2</th>\n      <th>rmssd</th>\n      <th>...</th>\n      <th>resting_heart_rate</th>\n      <th>sedentary_minutes</th>\n      <th>steps</th>\n      <th>very_active_minutes</th>\n      <th>minutes_below_zone_1</th>\n      <th>minutes_in_zone_1</th>\n      <th>minutes_in_zone_2</th>\n      <th>minutes_in_zone_3</th>\n      <th>water_amount</th>\n      <th>mood_value</th>\n    </tr>\n  </thead>\n  <tbody>\n    <tr>\n      <th>0</th>\n      <td>621e2ff067b776a2403eb737</td>\n      <td>2021-12-22</td>\n      <td>19</td>\n      <td>NSR</td>\n      <td>NONE</td>\n      <td>NaN</td>\n      <td>NaN</td>\n      <td>NaN</td>\n      <td>NaN</td>\n      <td>NaN</td>\n      <td>...</td>\n      <td>NaN</td>\n      <td>NaN</td>\n      <td>0.0</td>\n      <td>NaN</td>\n      <td>NaN</td>\n      <td>NaN</td>\n      <td>NaN</td>\n      <td>NaN</td>\n      <td>NaN</td>\n      <td>NaN</td>\n    </tr>\n    <tr>\n      <th>1</th>\n      <td>621e301367b776a24057738e</td>\n      <td>2021-06-08</td>\n      <td>21</td>\n      <td>NSR</td>\n      <td>NONE</td>\n      <td>NaN</td>\n      <td>NaN</td>\n      <td>NaN</td>\n      <td>NaN</td>\n      <td>NaN</td>\n      <td>...</td>\n      <td>NaN</td>\n      <td>NaN</td>\n      <td>0.0</td>\n      <td>NaN</td>\n      <td>NaN</td>\n      <td>NaN</td>\n      <td>NaN</td>\n      <td>NaN</td>\n      <td>NaN</td>\n      <td>NaN</td>\n    </tr>\n    <tr>\n      <th>2</th>\n      <td>621e312a67b776a240164d59</td>\n      <td>2021-10-07</td>\n      <td>17</td>\n      <td>NSR</td>\n      <td>NONE</td>\n      <td>NaN</td>\n      <td>NaN</td>\n      <td>NaN</td>\n      <td>NaN</td>\n      <td>NaN</td>\n      <td>...</td>\n      <td>NaN</td>\n      <td>NaN</td>\n      <td>0.0</td>\n      <td>NaN</td>\n      <td>NaN</td>\n      <td>NaN</td>\n      <td>NaN</td>\n      <td>NaN</td>\n      <td>NaN</td>\n      <td>NaN</td>\n    </tr>\n    <tr>\n      <th>3</th>\n      <td>621e312a67b776a240164d59</td>\n      <td>2021-10-10</td>\n      <td>20</td>\n      <td>NSR</td>\n      <td>NONE</td>\n      <td>NaN</td>\n      <td>NaN</td>\n      <td>NaN</td>\n      <td>NaN</td>\n      <td>NaN</td>\n      <td>...</td>\n      <td>NaN</td>\n      <td>NaN</td>\n      <td>0.0</td>\n      <td>NaN</td>\n      <td>NaN</td>\n      <td>NaN</td>\n      <td>NaN</td>\n      <td>NaN</td>\n      <td>NaN</td>\n      <td>NaN</td>\n    </tr>\n    <tr>\n      <th>4</th>\n      <td>621e326767b776a24012e179</td>\n      <td>2021-07-22</td>\n      <td>17</td>\n      <td>UNCLASSIFIABLE</td>\n      <td>NONE</td>\n      <td>NaN</td>\n      <td>NaN</td>\n      <td>NaN</td>\n      <td>NaN</td>\n      <td>NaN</td>\n      <td>...</td>\n      <td>NaN</td>\n      <td>NaN</td>\n      <td>0.0</td>\n      <td>NaN</td>\n      <td>NaN</td>\n      <td>NaN</td>\n      <td>NaN</td>\n      <td>NaN</td>\n      <td>NaN</td>\n      <td>NaN</td>\n    </tr>\n    <tr>\n      <th>...</th>\n      <td>...</td>\n      <td>...</td>\n      <td>...</td>\n      <td>...</td>\n      <td>...</td>\n      <td>...</td>\n      <td>...</td>\n      <td>...</td>\n      <td>...</td>\n      <td>...</td>\n      <td>...</td>\n      <td>...</td>\n      <td>...</td>\n      <td>...</td>\n      <td>...</td>\n      <td>...</td>\n      <td>...</td>\n      <td>...</td>\n      <td>...</td>\n      <td>...</td>\n      <td>...</td>\n    </tr>\n    <tr>\n      <th>164490</th>\n      <td>621e375b67b776a240290cdc</td>\n      <td>2022-01-18</td>\n      <td>0</td>\n      <td>NaN</td>\n      <td>NaN</td>\n      <td>NaN</td>\n      <td>NaN</td>\n      <td>NaN</td>\n      <td>NaN</td>\n      <td>NaN</td>\n      <td>...</td>\n      <td>0.0</td>\n      <td>NaN</td>\n      <td>NaN</td>\n      <td>NaN</td>\n      <td>NaN</td>\n      <td>NaN</td>\n      <td>NaN</td>\n      <td>NaN</td>\n      <td>NaN</td>\n      <td>NaN</td>\n    </tr>\n    <tr>\n      <th>164491</th>\n      <td>621e375b67b776a240290cdc</td>\n      <td>2022-01-19</td>\n      <td>0</td>\n      <td>NaN</td>\n      <td>NaN</td>\n      <td>NaN</td>\n      <td>NaN</td>\n      <td>NaN</td>\n      <td>NaN</td>\n      <td>NaN</td>\n      <td>...</td>\n      <td>0.0</td>\n      <td>NaN</td>\n      <td>NaN</td>\n      <td>NaN</td>\n      <td>NaN</td>\n      <td>NaN</td>\n      <td>NaN</td>\n      <td>NaN</td>\n      <td>NaN</td>\n      <td>NaN</td>\n    </tr>\n    <tr>\n      <th>164492</th>\n      <td>621e375b67b776a240290cdc</td>\n      <td>2022-01-20</td>\n      <td>0</td>\n      <td>NaN</td>\n      <td>NaN</td>\n      <td>NaN</td>\n      <td>NaN</td>\n      <td>NaN</td>\n      <td>NaN</td>\n      <td>NaN</td>\n      <td>...</td>\n      <td>0.0</td>\n      <td>NaN</td>\n      <td>NaN</td>\n      <td>NaN</td>\n      <td>NaN</td>\n      <td>NaN</td>\n      <td>NaN</td>\n      <td>NaN</td>\n      <td>NaN</td>\n      <td>NaN</td>\n    </tr>\n    <tr>\n      <th>164493</th>\n      <td>621e375b67b776a240290cdc</td>\n      <td>2022-01-21</td>\n      <td>0</td>\n      <td>NaN</td>\n      <td>NaN</td>\n      <td>NaN</td>\n      <td>NaN</td>\n      <td>NaN</td>\n      <td>NaN</td>\n      <td>NaN</td>\n      <td>...</td>\n      <td>0.0</td>\n      <td>NaN</td>\n      <td>NaN</td>\n      <td>NaN</td>\n      <td>NaN</td>\n      <td>NaN</td>\n      <td>NaN</td>\n      <td>NaN</td>\n      <td>NaN</td>\n      <td>NaN</td>\n    </tr>\n    <tr>\n      <th>164494</th>\n      <td>621e375b67b776a240290cdc</td>\n      <td>2022-01-22</td>\n      <td>0</td>\n      <td>NaN</td>\n      <td>NaN</td>\n      <td>NaN</td>\n      <td>NaN</td>\n      <td>NaN</td>\n      <td>NaN</td>\n      <td>NaN</td>\n      <td>...</td>\n      <td>0.0</td>\n      <td>NaN</td>\n      <td>NaN</td>\n      <td>NaN</td>\n      <td>NaN</td>\n      <td>NaN</td>\n      <td>NaN</td>\n      <td>NaN</td>\n      <td>NaN</td>\n      <td>NaN</td>\n    </tr>\n  </tbody>\n</table>\n<p>164495 rows × 43 columns</p>\n</div>"
     },
     "execution_count": 4,
     "metadata": {},
     "output_type": "execute_result"
    }
   ],
   "source": [
    "df = pd.read_pickle('data/temp_before_journal.pkl')\n",
    "df"
   ],
   "metadata": {
    "collapsed": false,
    "pycharm": {
     "name": "#%%\n"
    }
   }
  },
  {
   "cell_type": "markdown",
   "source": [
    "##### Profile"
   ],
   "metadata": {
    "collapsed": false,
    "pycharm": {
     "name": "#%% md\n"
    }
   }
  },
  {
   "cell_type": "code",
   "execution_count": 5,
   "outputs": [
    {
     "data": {
      "text/plain": "                              id       date  hour  ecg heart_rate_alert  type  \\\n0       621e2ff067b776a2403eb737 2021-12-22    19  NSR             NONE   NaN   \n1       621e2ff067b776a2403eb737 2021-11-18     0  NaN              NaN  SKIN   \n2       621e2ff067b776a2403eb737 2021-11-18    21  NaN              NaN  SKIN   \n3       621e2ff067b776a2403eb737 2021-11-20     0  NaN              NaN  SKIN   \n4       621e2ff067b776a2403eb737 2021-11-20    23  NaN              NaN  SKIN   \n...                          ...        ...   ...  ...              ...   ...   \n164490  621e36bb67b776a240b40d64 2022-01-18     0  NaN              NaN   NaN   \n164491  621e36bb67b776a240b40d64 2022-01-19     0  NaN              NaN   NaN   \n164492  621e36bb67b776a240b40d64 2022-01-20     0  NaN              NaN   NaN   \n164493  621e36bb67b776a240b40d64 2022-01-21     0  NaN              NaN   NaN   \n164494  621e36bb67b776a240b40d64 2022-01-22     0  NaN              NaN   NaN   \n\n        nightly_temperature  nremhr  spo2  rmssd  ...  very_active_minutes  \\\n0                       NaN     NaN   NaN    NaN  ...                  NaN   \n1                 35.025730     NaN   NaN    NaN  ...                  0.0   \n2                 34.866951     NaN   NaN    NaN  ...                  NaN   \n3                 35.349583     NaN   NaN    NaN  ...                  0.0   \n4                 34.495486     NaN   NaN    NaN  ...                  NaN   \n...                     ...     ...   ...    ...  ...                  ...   \n164490                  NaN     NaN   NaN    NaN  ...                  NaN   \n164491                  NaN     NaN   NaN    NaN  ...                  NaN   \n164492                  NaN     NaN   NaN    NaN  ...                  NaN   \n164493                  NaN     NaN   NaN    NaN  ...                  NaN   \n164494                  NaN     NaN   NaN    NaN  ...                  NaN   \n\n        minutes_below_zone_1  minutes_in_zone_1  minutes_in_zone_2  \\\n0                        NaN                NaN                NaN   \n1                     1303.0              119.0                0.0   \n2                        NaN                NaN                NaN   \n3                     1400.0               36.0                0.0   \n4                        NaN                NaN                NaN   \n...                      ...                ...                ...   \n164490                   NaN                NaN                NaN   \n164491                   NaN                NaN                NaN   \n164492                   NaN                NaN                NaN   \n164493                   NaN                NaN                NaN   \n164494                   NaN                NaN                NaN   \n\n        minutes_in_zone_3  water_amount  mood_value  gender  age   bmi  \n0                     NaN           NaN         NaN  FEMALE  <30  >=25  \n1                     0.0           NaN         NaN  FEMALE  <30  >=25  \n2                     NaN           NaN         NaN  FEMALE  <30  >=25  \n3                     0.0           NaN         NaN  FEMALE  <30  >=25  \n4                     NaN           NaN         NaN  FEMALE  <30  >=25  \n...                   ...           ...         ...     ...  ...   ...  \n164490                NaN           NaN         NaN  FEMALE  <30  24.0  \n164491                NaN           NaN         NaN  FEMALE  <30  24.0  \n164492                NaN           NaN         NaN  FEMALE  <30  24.0  \n164493                NaN           NaN         NaN  FEMALE  <30  24.0  \n164494                NaN           NaN         NaN  FEMALE  <30  24.0  \n\n[164495 rows x 46 columns]",
      "text/html": "<div>\n<style scoped>\n    .dataframe tbody tr th:only-of-type {\n        vertical-align: middle;\n    }\n\n    .dataframe tbody tr th {\n        vertical-align: top;\n    }\n\n    .dataframe thead th {\n        text-align: right;\n    }\n</style>\n<table border=\"1\" class=\"dataframe\">\n  <thead>\n    <tr style=\"text-align: right;\">\n      <th></th>\n      <th>id</th>\n      <th>date</th>\n      <th>hour</th>\n      <th>ecg</th>\n      <th>heart_rate_alert</th>\n      <th>type</th>\n      <th>nightly_temperature</th>\n      <th>nremhr</th>\n      <th>spo2</th>\n      <th>rmssd</th>\n      <th>...</th>\n      <th>very_active_minutes</th>\n      <th>minutes_below_zone_1</th>\n      <th>minutes_in_zone_1</th>\n      <th>minutes_in_zone_2</th>\n      <th>minutes_in_zone_3</th>\n      <th>water_amount</th>\n      <th>mood_value</th>\n      <th>gender</th>\n      <th>age</th>\n      <th>bmi</th>\n    </tr>\n  </thead>\n  <tbody>\n    <tr>\n      <th>0</th>\n      <td>621e2ff067b776a2403eb737</td>\n      <td>2021-12-22</td>\n      <td>19</td>\n      <td>NSR</td>\n      <td>NONE</td>\n      <td>NaN</td>\n      <td>NaN</td>\n      <td>NaN</td>\n      <td>NaN</td>\n      <td>NaN</td>\n      <td>...</td>\n      <td>NaN</td>\n      <td>NaN</td>\n      <td>NaN</td>\n      <td>NaN</td>\n      <td>NaN</td>\n      <td>NaN</td>\n      <td>NaN</td>\n      <td>FEMALE</td>\n      <td>&lt;30</td>\n      <td>&gt;=25</td>\n    </tr>\n    <tr>\n      <th>1</th>\n      <td>621e2ff067b776a2403eb737</td>\n      <td>2021-11-18</td>\n      <td>0</td>\n      <td>NaN</td>\n      <td>NaN</td>\n      <td>SKIN</td>\n      <td>35.025730</td>\n      <td>NaN</td>\n      <td>NaN</td>\n      <td>NaN</td>\n      <td>...</td>\n      <td>0.0</td>\n      <td>1303.0</td>\n      <td>119.0</td>\n      <td>0.0</td>\n      <td>0.0</td>\n      <td>NaN</td>\n      <td>NaN</td>\n      <td>FEMALE</td>\n      <td>&lt;30</td>\n      <td>&gt;=25</td>\n    </tr>\n    <tr>\n      <th>2</th>\n      <td>621e2ff067b776a2403eb737</td>\n      <td>2021-11-18</td>\n      <td>21</td>\n      <td>NaN</td>\n      <td>NaN</td>\n      <td>SKIN</td>\n      <td>34.866951</td>\n      <td>NaN</td>\n      <td>NaN</td>\n      <td>NaN</td>\n      <td>...</td>\n      <td>NaN</td>\n      <td>NaN</td>\n      <td>NaN</td>\n      <td>NaN</td>\n      <td>NaN</td>\n      <td>NaN</td>\n      <td>NaN</td>\n      <td>FEMALE</td>\n      <td>&lt;30</td>\n      <td>&gt;=25</td>\n    </tr>\n    <tr>\n      <th>3</th>\n      <td>621e2ff067b776a2403eb737</td>\n      <td>2021-11-20</td>\n      <td>0</td>\n      <td>NaN</td>\n      <td>NaN</td>\n      <td>SKIN</td>\n      <td>35.349583</td>\n      <td>NaN</td>\n      <td>NaN</td>\n      <td>NaN</td>\n      <td>...</td>\n      <td>0.0</td>\n      <td>1400.0</td>\n      <td>36.0</td>\n      <td>0.0</td>\n      <td>0.0</td>\n      <td>NaN</td>\n      <td>NaN</td>\n      <td>FEMALE</td>\n      <td>&lt;30</td>\n      <td>&gt;=25</td>\n    </tr>\n    <tr>\n      <th>4</th>\n      <td>621e2ff067b776a2403eb737</td>\n      <td>2021-11-20</td>\n      <td>23</td>\n      <td>NaN</td>\n      <td>NaN</td>\n      <td>SKIN</td>\n      <td>34.495486</td>\n      <td>NaN</td>\n      <td>NaN</td>\n      <td>NaN</td>\n      <td>...</td>\n      <td>NaN</td>\n      <td>NaN</td>\n      <td>NaN</td>\n      <td>NaN</td>\n      <td>NaN</td>\n      <td>NaN</td>\n      <td>NaN</td>\n      <td>FEMALE</td>\n      <td>&lt;30</td>\n      <td>&gt;=25</td>\n    </tr>\n    <tr>\n      <th>...</th>\n      <td>...</td>\n      <td>...</td>\n      <td>...</td>\n      <td>...</td>\n      <td>...</td>\n      <td>...</td>\n      <td>...</td>\n      <td>...</td>\n      <td>...</td>\n      <td>...</td>\n      <td>...</td>\n      <td>...</td>\n      <td>...</td>\n      <td>...</td>\n      <td>...</td>\n      <td>...</td>\n      <td>...</td>\n      <td>...</td>\n      <td>...</td>\n      <td>...</td>\n      <td>...</td>\n    </tr>\n    <tr>\n      <th>164490</th>\n      <td>621e36bb67b776a240b40d64</td>\n      <td>2022-01-18</td>\n      <td>0</td>\n      <td>NaN</td>\n      <td>NaN</td>\n      <td>NaN</td>\n      <td>NaN</td>\n      <td>NaN</td>\n      <td>NaN</td>\n      <td>NaN</td>\n      <td>...</td>\n      <td>NaN</td>\n      <td>NaN</td>\n      <td>NaN</td>\n      <td>NaN</td>\n      <td>NaN</td>\n      <td>NaN</td>\n      <td>NaN</td>\n      <td>FEMALE</td>\n      <td>&lt;30</td>\n      <td>24.0</td>\n    </tr>\n    <tr>\n      <th>164491</th>\n      <td>621e36bb67b776a240b40d64</td>\n      <td>2022-01-19</td>\n      <td>0</td>\n      <td>NaN</td>\n      <td>NaN</td>\n      <td>NaN</td>\n      <td>NaN</td>\n      <td>NaN</td>\n      <td>NaN</td>\n      <td>NaN</td>\n      <td>...</td>\n      <td>NaN</td>\n      <td>NaN</td>\n      <td>NaN</td>\n      <td>NaN</td>\n      <td>NaN</td>\n      <td>NaN</td>\n      <td>NaN</td>\n      <td>FEMALE</td>\n      <td>&lt;30</td>\n      <td>24.0</td>\n    </tr>\n    <tr>\n      <th>164492</th>\n      <td>621e36bb67b776a240b40d64</td>\n      <td>2022-01-20</td>\n      <td>0</td>\n      <td>NaN</td>\n      <td>NaN</td>\n      <td>NaN</td>\n      <td>NaN</td>\n      <td>NaN</td>\n      <td>NaN</td>\n      <td>NaN</td>\n      <td>...</td>\n      <td>NaN</td>\n      <td>NaN</td>\n      <td>NaN</td>\n      <td>NaN</td>\n      <td>NaN</td>\n      <td>NaN</td>\n      <td>NaN</td>\n      <td>FEMALE</td>\n      <td>&lt;30</td>\n      <td>24.0</td>\n    </tr>\n    <tr>\n      <th>164493</th>\n      <td>621e36bb67b776a240b40d64</td>\n      <td>2022-01-21</td>\n      <td>0</td>\n      <td>NaN</td>\n      <td>NaN</td>\n      <td>NaN</td>\n      <td>NaN</td>\n      <td>NaN</td>\n      <td>NaN</td>\n      <td>NaN</td>\n      <td>...</td>\n      <td>NaN</td>\n      <td>NaN</td>\n      <td>NaN</td>\n      <td>NaN</td>\n      <td>NaN</td>\n      <td>NaN</td>\n      <td>NaN</td>\n      <td>FEMALE</td>\n      <td>&lt;30</td>\n      <td>24.0</td>\n    </tr>\n    <tr>\n      <th>164494</th>\n      <td>621e36bb67b776a240b40d64</td>\n      <td>2022-01-22</td>\n      <td>0</td>\n      <td>NaN</td>\n      <td>NaN</td>\n      <td>NaN</td>\n      <td>NaN</td>\n      <td>NaN</td>\n      <td>NaN</td>\n      <td>NaN</td>\n      <td>...</td>\n      <td>NaN</td>\n      <td>NaN</td>\n      <td>NaN</td>\n      <td>NaN</td>\n      <td>NaN</td>\n      <td>NaN</td>\n      <td>NaN</td>\n      <td>FEMALE</td>\n      <td>&lt;30</td>\n      <td>24.0</td>\n    </tr>\n  </tbody>\n</table>\n<p>164495 rows × 46 columns</p>\n</div>"
     },
     "execution_count": 5,
     "metadata": {},
     "output_type": "execute_result"
    }
   ],
   "source": [
    "profile = pd.DataFrame(columns=[\"id\", \"data\"])\n",
    "\n",
    "# read and load from MongoDB\n",
    "for user in users:\n",
    "    user_data = pd.DataFrame(list(\n",
    "        db.fitbit.find({\"$and\": [\n",
    "            {\"type\": \"Profile\"},\n",
    "            {\"id\": user}]},\n",
    "            {\"id\": 1, \"data.gender\": 1, \"data.bmi\": 1, \"data.age\": 1, \"_id\": 0})))\n",
    "    profile = pd.concat([profile , user_data], axis=0)\n",
    "\n",
    "# split data column (json format) into two columns (df format)\n",
    "profile[\"gender\"] = profile[\"data\"].apply(lambda d: d[\"gender\"])\n",
    "profile[\"age\"] = profile[\"data\"].apply(lambda d: d[\"age\"] if \"age\" in d else np.NaN)\n",
    "profile[\"bmi\"] = profile[\"data\"].apply(lambda d: d[\"bmi\"] if \"bmi\" in d else np.NaN)\n",
    "profile.drop([\"data\"], inplace=True, axis=1)\n",
    "\n",
    "# merge with the final dataframe\n",
    "df = df.merge(profile, how='outer', on=['id'])\n",
    "df"
   ],
   "metadata": {
    "collapsed": false,
    "pycharm": {
     "name": "#%%\n"
    }
   }
  },
  {
   "cell_type": "code",
   "execution_count": null,
   "outputs": [],
   "source": [],
   "metadata": {
    "collapsed": false,
    "pycharm": {
     "name": "#%%\n"
    }
   }
  },
  {
   "cell_type": "code",
   "execution_count": null,
   "outputs": [],
   "source": [],
   "metadata": {
    "collapsed": false,
    "pycharm": {
     "name": "#%%\n"
    }
   }
  },
  {
   "cell_type": "code",
   "execution_count": null,
   "outputs": [],
   "source": [],
   "metadata": {
    "collapsed": false,
    "pycharm": {
     "name": "#%%\n"
    }
   }
  }
 ],
 "metadata": {
  "kernelspec": {
   "display_name": "Python 3",
   "language": "python",
   "name": "python3"
  },
  "language_info": {
   "codemirror_mode": {
    "name": "ipython",
    "version": 2
   },
   "file_extension": ".py",
   "mimetype": "text/x-python",
   "name": "python",
   "nbconvert_exporter": "python",
   "pygments_lexer": "ipython2",
   "version": "2.7.6"
  }
 },
 "nbformat": 4,
 "nbformat_minor": 0
}