{
 "cells": [
  {
   "cell_type": "markdown",
   "source": [
    "##### This notebook collects all the sema data from MongoDB and creates the corresponding dataframe."
   ],
   "metadata": {
    "collapsed": false
   },
   "id": "19409f8785d20df1"
  },
  {
   "cell_type": "code",
   "outputs": [],
   "source": [
    "import os\n",
    "import warnings\n",
    "import datetime\n",
    "import numpy as np\n",
    "import pandas as pd\n",
    "from dotenv import load_dotenv\n",
    "from pymongo import MongoClient\n",
    "from functions import daily_data_loading\n",
    "from functions import surveys_scoring\n",
    "from dataprep.eda import create_report\n",
    "\n",
    "warnings.filterwarnings(\"ignore\")"
   ],
   "metadata": {
    "collapsed": false,
    "ExecuteTime": {
     "end_time": "2024-03-08T12:58:05.704272Z",
     "start_time": "2024-03-08T12:58:05.585579400Z"
    }
   },
   "id": "121d040a272c5a7b",
   "execution_count": 3
  },
  {
   "cell_type": "markdown",
   "source": [
    "Connect securely to the database"
   ],
   "metadata": {
    "collapsed": false
   },
   "id": "7d0c00e16ab7ad5f"
  },
  {
   "cell_type": "code",
   "outputs": [],
   "source": [
    "load_dotenv(\"../config.env\")\n",
    "MONGO_USER = os.getenv(\"MONGO_USER\")\n",
    "MONGO_PASSWORD = os.getenv(\"MONGO_PASSWORD\")\n",
    "client = MongoClient(\"mongodb://\" + MONGO_USER + \":\" + MONGO_PASSWORD + \"@localhost:27017/\")\n",
    "db = client.rais"
   ],
   "metadata": {
    "collapsed": false,
    "ExecuteTime": {
     "end_time": "2024-03-08T12:58:01.362463200Z",
     "start_time": "2024-03-08T12:58:00.809423300Z"
    }
   },
   "id": "6f2ae6730ba8fc8b",
   "execution_count": 2
  },
  {
   "cell_type": "markdown",
   "source": [
    "Load fitbit and survey data"
   ],
   "metadata": {
    "collapsed": false
   },
   "id": "fb76b0e682214519"
  },
  {
   "cell_type": "code",
   "outputs": [
    {
     "data": {
      "text/plain": "                             id       date  ecg heart_rate_alert  \\\n0      621e2ff067b776a2403eb737 2021-12-22  NSR             NONE   \n1      621e2ff067b776a2403eb737 2021-11-18  NaN              NaN   \n2      621e2ff067b776a2403eb737 2021-11-20  NaN              NaN   \n3      621e2ff067b776a2403eb737 2021-11-22  NaN              NaN   \n4      621e2ff067b776a2403eb737 2021-11-23  NaN              NaN   \n...                         ...        ...  ...              ...   \n12298  621e375367b776a24021e950 2022-02-01  NaN              NaN   \n12299  621e2f1b67b776a240b3d87c 2022-04-01  NaN              NaN   \n12300  621e312a67b776a240164d59 2022-03-01  NaN              NaN   \n12301  621e310d67b776a24003096d 2021-03-12  NaN              NaN   \n12302  621e310d67b776a24003096d 2022-01-24  NaN              NaN   \n\n       nightly_temperature  nremhr  rmssd  spo2  full_sleep_breathing_rate  \\\n0                33.737162     NaN    NaN   NaN                        NaN   \n1                34.946341     NaN    NaN   NaN                        NaN   \n2                34.922535     NaN    NaN   NaN                        NaN   \n3                34.284711     NaN    NaN   NaN                        NaN   \n4                34.819364     NaN    NaN   NaN                        NaN   \n...                    ...     ...    ...   ...                        ...   \n12298                  NaN     NaN    NaN   NaN                        NaN   \n12299                  NaN     NaN    NaN   NaN                        NaN   \n12300                  NaN     NaN    NaN   NaN                        NaN   \n12301                  NaN     NaN    NaN   NaN                        NaN   \n12302                  NaN     NaN    NaN   NaN                        NaN   \n\n       deep_sleep_breathing_rate  ...  consciousness_raising  \\\n0                            NaN  ...                    NaN   \n1                            NaN  ...                    NaN   \n2                            NaN  ...                    NaN   \n3                            NaN  ...                    NaN   \n4                            NaN  ...                    NaN   \n...                          ...  ...                    ...   \n12298                        NaN  ...                    NaN   \n12299                        NaN  ...                    NaN   \n12300                        NaN  ...                    NaN   \n12301                        NaN  ...               2.333333   \n12302                        NaN  ...               3.333333   \n\n       dramatic_relief_category  environmental_reevaluation_category  \\\n0                           NaN                                  NaN   \n1                           NaN                                  NaN   \n2                           NaN                                  NaN   \n3                           NaN                                  NaN   \n4                           NaN                                  NaN   \n...                         ...                                  ...   \n12298                       NaN                                  NaN   \n12299                       NaN                                  NaN   \n12300                       NaN                                  NaN   \n12301             Above average                              Average   \n12302             Above average                              Average   \n\n       self_reevaluation_category  social_liberation_category  \\\n0                             NaN                         NaN   \n1                             NaN                         NaN   \n2                             NaN                         NaN   \n3                             NaN                         NaN   \n4                             NaN                         NaN   \n...                           ...                         ...   \n12298                         NaN                         NaN   \n12299                         NaN                         NaN   \n12300                         NaN                         NaN   \n12301               Above average                     Average   \n12302               Above average               Above average   \n\n       counterconditioning_category  helping_relationships_category  \\\n0                               NaN                             NaN   \n1                               NaN                             NaN   \n2                               NaN                             NaN   \n3                               NaN                             NaN   \n4                               NaN                             NaN   \n...                             ...                             ...   \n12298                           NaN                             NaN   \n12299                           NaN                             NaN   \n12300                           NaN                             NaN   \n12301                 Above average                         Average   \n12302                       Average                         Average   \n\n       reinforcement_management_category  self_liberation_category  \\\n0                                    NaN                       NaN   \n1                                    NaN                       NaN   \n2                                    NaN                       NaN   \n3                                    NaN                       NaN   \n4                                    NaN                       NaN   \n...                                  ...                       ...   \n12298                                NaN                       NaN   \n12299                                NaN                       NaN   \n12300                                NaN                       NaN   \n12301                      Above average             Above average   \n12302                      Above average             Above average   \n\n       stimulus_control_category  \n0                            NaN  \n1                            NaN  \n2                            NaN  \n3                            NaN  \n4                            NaN  \n...                          ...  \n12298                        NaN  \n12299                        NaN  \n12300                        NaN  \n12301              Above average  \n12302              Above average  \n\n[12303 rows x 77 columns]",
      "text/html": "<div>\n<style scoped>\n    .dataframe tbody tr th:only-of-type {\n        vertical-align: middle;\n    }\n\n    .dataframe tbody tr th {\n        vertical-align: top;\n    }\n\n    .dataframe thead th {\n        text-align: right;\n    }\n</style>\n<table border=\"1\" class=\"dataframe\">\n  <thead>\n    <tr style=\"text-align: right;\">\n      <th></th>\n      <th>id</th>\n      <th>date</th>\n      <th>ecg</th>\n      <th>heart_rate_alert</th>\n      <th>nightly_temperature</th>\n      <th>nremhr</th>\n      <th>rmssd</th>\n      <th>spo2</th>\n      <th>full_sleep_breathing_rate</th>\n      <th>deep_sleep_breathing_rate</th>\n      <th>...</th>\n      <th>consciousness_raising</th>\n      <th>dramatic_relief_category</th>\n      <th>environmental_reevaluation_category</th>\n      <th>self_reevaluation_category</th>\n      <th>social_liberation_category</th>\n      <th>counterconditioning_category</th>\n      <th>helping_relationships_category</th>\n      <th>reinforcement_management_category</th>\n      <th>self_liberation_category</th>\n      <th>stimulus_control_category</th>\n    </tr>\n  </thead>\n  <tbody>\n    <tr>\n      <th>0</th>\n      <td>621e2ff067b776a2403eb737</td>\n      <td>2021-12-22</td>\n      <td>NSR</td>\n      <td>NONE</td>\n      <td>33.737162</td>\n      <td>NaN</td>\n      <td>NaN</td>\n      <td>NaN</td>\n      <td>NaN</td>\n      <td>NaN</td>\n      <td>...</td>\n      <td>NaN</td>\n      <td>NaN</td>\n      <td>NaN</td>\n      <td>NaN</td>\n      <td>NaN</td>\n      <td>NaN</td>\n      <td>NaN</td>\n      <td>NaN</td>\n      <td>NaN</td>\n      <td>NaN</td>\n    </tr>\n    <tr>\n      <th>1</th>\n      <td>621e2ff067b776a2403eb737</td>\n      <td>2021-11-18</td>\n      <td>NaN</td>\n      <td>NaN</td>\n      <td>34.946341</td>\n      <td>NaN</td>\n      <td>NaN</td>\n      <td>NaN</td>\n      <td>NaN</td>\n      <td>NaN</td>\n      <td>...</td>\n      <td>NaN</td>\n      <td>NaN</td>\n      <td>NaN</td>\n      <td>NaN</td>\n      <td>NaN</td>\n      <td>NaN</td>\n      <td>NaN</td>\n      <td>NaN</td>\n      <td>NaN</td>\n      <td>NaN</td>\n    </tr>\n    <tr>\n      <th>2</th>\n      <td>621e2ff067b776a2403eb737</td>\n      <td>2021-11-20</td>\n      <td>NaN</td>\n      <td>NaN</td>\n      <td>34.922535</td>\n      <td>NaN</td>\n      <td>NaN</td>\n      <td>NaN</td>\n      <td>NaN</td>\n      <td>NaN</td>\n      <td>...</td>\n      <td>NaN</td>\n      <td>NaN</td>\n      <td>NaN</td>\n      <td>NaN</td>\n      <td>NaN</td>\n      <td>NaN</td>\n      <td>NaN</td>\n      <td>NaN</td>\n      <td>NaN</td>\n      <td>NaN</td>\n    </tr>\n    <tr>\n      <th>3</th>\n      <td>621e2ff067b776a2403eb737</td>\n      <td>2021-11-22</td>\n      <td>NaN</td>\n      <td>NaN</td>\n      <td>34.284711</td>\n      <td>NaN</td>\n      <td>NaN</td>\n      <td>NaN</td>\n      <td>NaN</td>\n      <td>NaN</td>\n      <td>...</td>\n      <td>NaN</td>\n      <td>NaN</td>\n      <td>NaN</td>\n      <td>NaN</td>\n      <td>NaN</td>\n      <td>NaN</td>\n      <td>NaN</td>\n      <td>NaN</td>\n      <td>NaN</td>\n      <td>NaN</td>\n    </tr>\n    <tr>\n      <th>4</th>\n      <td>621e2ff067b776a2403eb737</td>\n      <td>2021-11-23</td>\n      <td>NaN</td>\n      <td>NaN</td>\n      <td>34.819364</td>\n      <td>NaN</td>\n      <td>NaN</td>\n      <td>NaN</td>\n      <td>NaN</td>\n      <td>NaN</td>\n      <td>...</td>\n      <td>NaN</td>\n      <td>NaN</td>\n      <td>NaN</td>\n      <td>NaN</td>\n      <td>NaN</td>\n      <td>NaN</td>\n      <td>NaN</td>\n      <td>NaN</td>\n      <td>NaN</td>\n      <td>NaN</td>\n    </tr>\n    <tr>\n      <th>...</th>\n      <td>...</td>\n      <td>...</td>\n      <td>...</td>\n      <td>...</td>\n      <td>...</td>\n      <td>...</td>\n      <td>...</td>\n      <td>...</td>\n      <td>...</td>\n      <td>...</td>\n      <td>...</td>\n      <td>...</td>\n      <td>...</td>\n      <td>...</td>\n      <td>...</td>\n      <td>...</td>\n      <td>...</td>\n      <td>...</td>\n      <td>...</td>\n      <td>...</td>\n      <td>...</td>\n    </tr>\n    <tr>\n      <th>12298</th>\n      <td>621e375367b776a24021e950</td>\n      <td>2022-02-01</td>\n      <td>NaN</td>\n      <td>NaN</td>\n      <td>NaN</td>\n      <td>NaN</td>\n      <td>NaN</td>\n      <td>NaN</td>\n      <td>NaN</td>\n      <td>NaN</td>\n      <td>...</td>\n      <td>NaN</td>\n      <td>NaN</td>\n      <td>NaN</td>\n      <td>NaN</td>\n      <td>NaN</td>\n      <td>NaN</td>\n      <td>NaN</td>\n      <td>NaN</td>\n      <td>NaN</td>\n      <td>NaN</td>\n    </tr>\n    <tr>\n      <th>12299</th>\n      <td>621e2f1b67b776a240b3d87c</td>\n      <td>2022-04-01</td>\n      <td>NaN</td>\n      <td>NaN</td>\n      <td>NaN</td>\n      <td>NaN</td>\n      <td>NaN</td>\n      <td>NaN</td>\n      <td>NaN</td>\n      <td>NaN</td>\n      <td>...</td>\n      <td>NaN</td>\n      <td>NaN</td>\n      <td>NaN</td>\n      <td>NaN</td>\n      <td>NaN</td>\n      <td>NaN</td>\n      <td>NaN</td>\n      <td>NaN</td>\n      <td>NaN</td>\n      <td>NaN</td>\n    </tr>\n    <tr>\n      <th>12300</th>\n      <td>621e312a67b776a240164d59</td>\n      <td>2022-03-01</td>\n      <td>NaN</td>\n      <td>NaN</td>\n      <td>NaN</td>\n      <td>NaN</td>\n      <td>NaN</td>\n      <td>NaN</td>\n      <td>NaN</td>\n      <td>NaN</td>\n      <td>...</td>\n      <td>NaN</td>\n      <td>NaN</td>\n      <td>NaN</td>\n      <td>NaN</td>\n      <td>NaN</td>\n      <td>NaN</td>\n      <td>NaN</td>\n      <td>NaN</td>\n      <td>NaN</td>\n      <td>NaN</td>\n    </tr>\n    <tr>\n      <th>12301</th>\n      <td>621e310d67b776a24003096d</td>\n      <td>2021-03-12</td>\n      <td>NaN</td>\n      <td>NaN</td>\n      <td>NaN</td>\n      <td>NaN</td>\n      <td>NaN</td>\n      <td>NaN</td>\n      <td>NaN</td>\n      <td>NaN</td>\n      <td>...</td>\n      <td>2.333333</td>\n      <td>Above average</td>\n      <td>Average</td>\n      <td>Above average</td>\n      <td>Average</td>\n      <td>Above average</td>\n      <td>Average</td>\n      <td>Above average</td>\n      <td>Above average</td>\n      <td>Above average</td>\n    </tr>\n    <tr>\n      <th>12302</th>\n      <td>621e310d67b776a24003096d</td>\n      <td>2022-01-24</td>\n      <td>NaN</td>\n      <td>NaN</td>\n      <td>NaN</td>\n      <td>NaN</td>\n      <td>NaN</td>\n      <td>NaN</td>\n      <td>NaN</td>\n      <td>NaN</td>\n      <td>...</td>\n      <td>3.333333</td>\n      <td>Above average</td>\n      <td>Average</td>\n      <td>Above average</td>\n      <td>Above average</td>\n      <td>Average</td>\n      <td>Average</td>\n      <td>Above average</td>\n      <td>Above average</td>\n      <td>Above average</td>\n    </tr>\n  </tbody>\n</table>\n<p>12303 rows × 77 columns</p>\n</div>"
     },
     "execution_count": 4,
     "metadata": {},
     "output_type": "execute_result"
    }
   ],
   "source": [
    "fitbit_surveys_df = pd.read_pickle('../data/loading_final/daily_fitbit_surveys.pkl')\n",
    "fitbit_surveys_df"
   ],
   "metadata": {
    "collapsed": false,
    "ExecuteTime": {
     "end_time": "2024-03-08T12:58:31.933349800Z",
     "start_time": "2024-03-08T12:58:31.869454100Z"
    }
   },
   "id": "92031f510142e019",
   "execution_count": 4
  },
  {
   "cell_type": "markdown",
   "source": [
    "#### Sema data"
   ],
   "metadata": {
    "collapsed": false
   },
   "id": "85f6467cbc5c84dc"
  },
  {
   "cell_type": "markdown",
   "source": [
    "Find all users provided their sema data"
   ],
   "metadata": {
    "collapsed": false
   },
   "id": "3c656ad3f646804d"
  },
  {
   "cell_type": "code",
   "outputs": [
    {
     "name": "stdout",
     "output_type": "stream",
     "text": [
      "63 users provided their survey data\n"
     ]
    }
   ],
   "source": [
    "users = db.sema.distinct('user_id')\n",
    "print(len(users), \"users provided their survey data\")"
   ],
   "metadata": {
    "collapsed": false,
    "ExecuteTime": {
     "end_time": "2024-03-08T12:59:00.079609500Z",
     "start_time": "2024-03-08T12:58:59.956376300Z"
    }
   },
   "id": "865262ad5d049437",
   "execution_count": 5
  },
  {
   "cell_type": "markdown",
   "source": [
    "Information about the manually declared steps goal from sema"
   ],
   "metadata": {
    "collapsed": false
   },
   "id": "9f3ea235abd9e26d"
  },
  {
   "cell_type": "code",
   "outputs": [
    {
     "data": {
      "text/plain": "                             id       date  ecg heart_rate_alert  \\\n0      621e2ff067b776a2403eb737 2021-12-22  NSR             NONE   \n1      621e2ff067b776a2403eb737 2021-11-18  NaN              NaN   \n2      621e2ff067b776a2403eb737 2021-11-20  NaN              NaN   \n3      621e2ff067b776a2403eb737 2021-11-22  NaN              NaN   \n4      621e2ff067b776a2403eb737 2021-11-23  NaN              NaN   \n...                         ...        ...  ...              ...   \n12344  621e36f967b776a240e5e7c9 2021-05-18  NaN              NaN   \n12345  621e36f967b776a240e5e7c9 2021-05-19  NaN              NaN   \n12346  621e36f967b776a240e5e7c9 2021-05-21  NaN              NaN   \n12347  621e36f967b776a240e5e7c9 2021-05-22  NaN              NaN   \n12348  621e36f967b776a240e5e7c9 2021-05-23  NaN              NaN   \n\n       nightly_temperature  nremhr  rmssd  spo2  full_sleep_breathing_rate  \\\n0                33.737162     NaN    NaN   NaN                        NaN   \n1                34.946341     NaN    NaN   NaN                        NaN   \n2                34.922535     NaN    NaN   NaN                        NaN   \n3                34.284711     NaN    NaN   NaN                        NaN   \n4                34.819364     NaN    NaN   NaN                        NaN   \n...                    ...     ...    ...   ...                        ...   \n12344                  NaN     NaN    NaN   NaN                        NaN   \n12345                  NaN     NaN    NaN   NaN                        NaN   \n12346                  NaN     NaN    NaN   NaN                        NaN   \n12347                  NaN     NaN    NaN   NaN                        NaN   \n12348                  NaN     NaN    NaN   NaN                        NaN   \n\n       deep_sleep_breathing_rate  ...  dramatic_relief_category  \\\n0                            NaN  ...                       NaN   \n1                            NaN  ...                       NaN   \n2                            NaN  ...                       NaN   \n3                            NaN  ...                       NaN   \n4                            NaN  ...                       NaN   \n...                          ...  ...                       ...   \n12344                        NaN  ...                       NaN   \n12345                        NaN  ...                       NaN   \n12346                        NaN  ...                       NaN   \n12347                        NaN  ...                       NaN   \n12348                        NaN  ...                       NaN   \n\n       environmental_reevaluation_category  self_reevaluation_category  \\\n0                                      NaN                         NaN   \n1                                      NaN                         NaN   \n2                                      NaN                         NaN   \n3                                      NaN                         NaN   \n4                                      NaN                         NaN   \n...                                    ...                         ...   \n12344                                  NaN                         NaN   \n12345                                  NaN                         NaN   \n12346                                  NaN                         NaN   \n12347                                  NaN                         NaN   \n12348                                  NaN                         NaN   \n\n       social_liberation_category  counterconditioning_category  \\\n0                             NaN                           NaN   \n1                             NaN                           NaN   \n2                             NaN                           NaN   \n3                             NaN                           NaN   \n4                             NaN                           NaN   \n...                           ...                           ...   \n12344                         NaN                           NaN   \n12345                         NaN                           NaN   \n12346                         NaN                           NaN   \n12347                         NaN                           NaN   \n12348                         NaN                           NaN   \n\n       helping_relationships_category  reinforcement_management_category  \\\n0                                 NaN                                NaN   \n1                                 NaN                                NaN   \n2                                 NaN                                NaN   \n3                                 NaN                                NaN   \n4                                 NaN                                NaN   \n...                               ...                                ...   \n12344                             NaN                                NaN   \n12345                             NaN                                NaN   \n12346                             NaN                                NaN   \n12347                             NaN                                NaN   \n12348                             NaN                                NaN   \n\n       self_liberation_category  stimulus_control_category  step_goal  \n0                           NaN                        NaN        NaN  \n1                           NaN                        NaN       4999  \n2                           NaN                        NaN       7999  \n3                           NaN                        NaN       7999  \n4                           NaN                        NaN       7999  \n...                         ...                        ...        ...  \n12344                       NaN                        NaN      14999  \n12345                       NaN                        NaN       9999  \n12346                       NaN                        NaN       9999  \n12347                       NaN                        NaN      14999  \n12348                       NaN                        NaN      19999  \n\n[12349 rows x 78 columns]",
      "text/html": "<div>\n<style scoped>\n    .dataframe tbody tr th:only-of-type {\n        vertical-align: middle;\n    }\n\n    .dataframe tbody tr th {\n        vertical-align: top;\n    }\n\n    .dataframe thead th {\n        text-align: right;\n    }\n</style>\n<table border=\"1\" class=\"dataframe\">\n  <thead>\n    <tr style=\"text-align: right;\">\n      <th></th>\n      <th>id</th>\n      <th>date</th>\n      <th>ecg</th>\n      <th>heart_rate_alert</th>\n      <th>nightly_temperature</th>\n      <th>nremhr</th>\n      <th>rmssd</th>\n      <th>spo2</th>\n      <th>full_sleep_breathing_rate</th>\n      <th>deep_sleep_breathing_rate</th>\n      <th>...</th>\n      <th>dramatic_relief_category</th>\n      <th>environmental_reevaluation_category</th>\n      <th>self_reevaluation_category</th>\n      <th>social_liberation_category</th>\n      <th>counterconditioning_category</th>\n      <th>helping_relationships_category</th>\n      <th>reinforcement_management_category</th>\n      <th>self_liberation_category</th>\n      <th>stimulus_control_category</th>\n      <th>step_goal</th>\n    </tr>\n  </thead>\n  <tbody>\n    <tr>\n      <th>0</th>\n      <td>621e2ff067b776a2403eb737</td>\n      <td>2021-12-22</td>\n      <td>NSR</td>\n      <td>NONE</td>\n      <td>33.737162</td>\n      <td>NaN</td>\n      <td>NaN</td>\n      <td>NaN</td>\n      <td>NaN</td>\n      <td>NaN</td>\n      <td>...</td>\n      <td>NaN</td>\n      <td>NaN</td>\n      <td>NaN</td>\n      <td>NaN</td>\n      <td>NaN</td>\n      <td>NaN</td>\n      <td>NaN</td>\n      <td>NaN</td>\n      <td>NaN</td>\n      <td>NaN</td>\n    </tr>\n    <tr>\n      <th>1</th>\n      <td>621e2ff067b776a2403eb737</td>\n      <td>2021-11-18</td>\n      <td>NaN</td>\n      <td>NaN</td>\n      <td>34.946341</td>\n      <td>NaN</td>\n      <td>NaN</td>\n      <td>NaN</td>\n      <td>NaN</td>\n      <td>NaN</td>\n      <td>...</td>\n      <td>NaN</td>\n      <td>NaN</td>\n      <td>NaN</td>\n      <td>NaN</td>\n      <td>NaN</td>\n      <td>NaN</td>\n      <td>NaN</td>\n      <td>NaN</td>\n      <td>NaN</td>\n      <td>4999</td>\n    </tr>\n    <tr>\n      <th>2</th>\n      <td>621e2ff067b776a2403eb737</td>\n      <td>2021-11-20</td>\n      <td>NaN</td>\n      <td>NaN</td>\n      <td>34.922535</td>\n      <td>NaN</td>\n      <td>NaN</td>\n      <td>NaN</td>\n      <td>NaN</td>\n      <td>NaN</td>\n      <td>...</td>\n      <td>NaN</td>\n      <td>NaN</td>\n      <td>NaN</td>\n      <td>NaN</td>\n      <td>NaN</td>\n      <td>NaN</td>\n      <td>NaN</td>\n      <td>NaN</td>\n      <td>NaN</td>\n      <td>7999</td>\n    </tr>\n    <tr>\n      <th>3</th>\n      <td>621e2ff067b776a2403eb737</td>\n      <td>2021-11-22</td>\n      <td>NaN</td>\n      <td>NaN</td>\n      <td>34.284711</td>\n      <td>NaN</td>\n      <td>NaN</td>\n      <td>NaN</td>\n      <td>NaN</td>\n      <td>NaN</td>\n      <td>...</td>\n      <td>NaN</td>\n      <td>NaN</td>\n      <td>NaN</td>\n      <td>NaN</td>\n      <td>NaN</td>\n      <td>NaN</td>\n      <td>NaN</td>\n      <td>NaN</td>\n      <td>NaN</td>\n      <td>7999</td>\n    </tr>\n    <tr>\n      <th>4</th>\n      <td>621e2ff067b776a2403eb737</td>\n      <td>2021-11-23</td>\n      <td>NaN</td>\n      <td>NaN</td>\n      <td>34.819364</td>\n      <td>NaN</td>\n      <td>NaN</td>\n      <td>NaN</td>\n      <td>NaN</td>\n      <td>NaN</td>\n      <td>...</td>\n      <td>NaN</td>\n      <td>NaN</td>\n      <td>NaN</td>\n      <td>NaN</td>\n      <td>NaN</td>\n      <td>NaN</td>\n      <td>NaN</td>\n      <td>NaN</td>\n      <td>NaN</td>\n      <td>7999</td>\n    </tr>\n    <tr>\n      <th>...</th>\n      <td>...</td>\n      <td>...</td>\n      <td>...</td>\n      <td>...</td>\n      <td>...</td>\n      <td>...</td>\n      <td>...</td>\n      <td>...</td>\n      <td>...</td>\n      <td>...</td>\n      <td>...</td>\n      <td>...</td>\n      <td>...</td>\n      <td>...</td>\n      <td>...</td>\n      <td>...</td>\n      <td>...</td>\n      <td>...</td>\n      <td>...</td>\n      <td>...</td>\n      <td>...</td>\n    </tr>\n    <tr>\n      <th>12344</th>\n      <td>621e36f967b776a240e5e7c9</td>\n      <td>2021-05-18</td>\n      <td>NaN</td>\n      <td>NaN</td>\n      <td>NaN</td>\n      <td>NaN</td>\n      <td>NaN</td>\n      <td>NaN</td>\n      <td>NaN</td>\n      <td>NaN</td>\n      <td>...</td>\n      <td>NaN</td>\n      <td>NaN</td>\n      <td>NaN</td>\n      <td>NaN</td>\n      <td>NaN</td>\n      <td>NaN</td>\n      <td>NaN</td>\n      <td>NaN</td>\n      <td>NaN</td>\n      <td>14999</td>\n    </tr>\n    <tr>\n      <th>12345</th>\n      <td>621e36f967b776a240e5e7c9</td>\n      <td>2021-05-19</td>\n      <td>NaN</td>\n      <td>NaN</td>\n      <td>NaN</td>\n      <td>NaN</td>\n      <td>NaN</td>\n      <td>NaN</td>\n      <td>NaN</td>\n      <td>NaN</td>\n      <td>...</td>\n      <td>NaN</td>\n      <td>NaN</td>\n      <td>NaN</td>\n      <td>NaN</td>\n      <td>NaN</td>\n      <td>NaN</td>\n      <td>NaN</td>\n      <td>NaN</td>\n      <td>NaN</td>\n      <td>9999</td>\n    </tr>\n    <tr>\n      <th>12346</th>\n      <td>621e36f967b776a240e5e7c9</td>\n      <td>2021-05-21</td>\n      <td>NaN</td>\n      <td>NaN</td>\n      <td>NaN</td>\n      <td>NaN</td>\n      <td>NaN</td>\n      <td>NaN</td>\n      <td>NaN</td>\n      <td>NaN</td>\n      <td>...</td>\n      <td>NaN</td>\n      <td>NaN</td>\n      <td>NaN</td>\n      <td>NaN</td>\n      <td>NaN</td>\n      <td>NaN</td>\n      <td>NaN</td>\n      <td>NaN</td>\n      <td>NaN</td>\n      <td>9999</td>\n    </tr>\n    <tr>\n      <th>12347</th>\n      <td>621e36f967b776a240e5e7c9</td>\n      <td>2021-05-22</td>\n      <td>NaN</td>\n      <td>NaN</td>\n      <td>NaN</td>\n      <td>NaN</td>\n      <td>NaN</td>\n      <td>NaN</td>\n      <td>NaN</td>\n      <td>NaN</td>\n      <td>...</td>\n      <td>NaN</td>\n      <td>NaN</td>\n      <td>NaN</td>\n      <td>NaN</td>\n      <td>NaN</td>\n      <td>NaN</td>\n      <td>NaN</td>\n      <td>NaN</td>\n      <td>NaN</td>\n      <td>14999</td>\n    </tr>\n    <tr>\n      <th>12348</th>\n      <td>621e36f967b776a240e5e7c9</td>\n      <td>2021-05-23</td>\n      <td>NaN</td>\n      <td>NaN</td>\n      <td>NaN</td>\n      <td>NaN</td>\n      <td>NaN</td>\n      <td>NaN</td>\n      <td>NaN</td>\n      <td>NaN</td>\n      <td>...</td>\n      <td>NaN</td>\n      <td>NaN</td>\n      <td>NaN</td>\n      <td>NaN</td>\n      <td>NaN</td>\n      <td>NaN</td>\n      <td>NaN</td>\n      <td>NaN</td>\n      <td>NaN</td>\n      <td>19999</td>\n    </tr>\n  </tbody>\n</table>\n<p>12349 rows × 78 columns</p>\n</div>"
     },
     "execution_count": 6,
     "metadata": {},
     "output_type": "execute_result"
    }
   ],
   "source": [
    "sema_goals = pd.DataFrame(columns=[\"user_id\", \"data\"])\n",
    "\n",
    "# read and load\n",
    "for user in users:\n",
    "    user_data = pd.DataFrame(list(\n",
    "                    db.sema.find({ \"$and\": [\n",
    "                        { \"data.STEPS\": { \"$ne\": \"<no-response>\" } },\n",
    "                        {\"user_id\": user}\n",
    "                    ]},{\"data.STEPS\": 1, \"id\": 1, \"user_id\": 1, \"data.STARTED_TS\": 1, '_id': 0})))\n",
    "    sema_goals = pd.concat([sema_goals, user_data], axis=0)\n",
    "\n",
    "# split data column (json format) into two columns (df format)\n",
    "sema_goals[\"date\"] = sema_goals[\"data\"].apply(lambda d: d[\"STARTED_TS\"])\n",
    "sema_goals[\"step_goal\"] = sema_goals[\"data\"].apply(lambda d: d[\"STEPS\"])\n",
    "sema_goals.drop([\"data\"], inplace=True, axis=1)\n",
    "\n",
    "# process the datetime object and rename the dataframe columns\n",
    "sema_goals = daily_data_loading.date_conversion(sema_goals)\n",
    "sema_goals.rename(columns={'user_id': 'id'}, inplace=True)\n",
    "\n",
    "# check for duplicates\n",
    "# Findings: 6 duplicates found based on (id, date) which is wrong, since this answer had to be collected max once per day\n",
    "# Approach: keep the latest record\n",
    "sema_goals.sort_values(by=['id', 'date'], inplace=True)\n",
    "sema_goals.drop_duplicates(subset=[\"id\", \"date\"], keep=\"last\", inplace=True)\n",
    "\n",
    "# merge with fitbit data\n",
    "df = fitbit_surveys_df.merge(sema_goals, how='outer', on=['id', 'date'])\n",
    "df"
   ],
   "metadata": {
    "collapsed": false,
    "ExecuteTime": {
     "end_time": "2024-03-08T12:59:27.621539700Z",
     "start_time": "2024-03-08T12:59:26.329585600Z"
    }
   },
   "id": "a8e52ea4a3a61c07",
   "execution_count": 6
  },
  {
   "cell_type": "markdown",
   "source": [
    "Information about the manually reported mood and place from sema"
   ],
   "metadata": {
    "collapsed": false
   },
   "id": "88d4d098bea34acf"
  },
  {
   "cell_type": "code",
   "outputs": [
    {
     "name": "stdout",
     "output_type": "stream",
     "text": [
      "5065\n"
     ]
    },
    {
     "data": {
      "text/plain": "                             id       date  ecg heart_rate_alert  \\\n0      621e2ff067b776a2403eb737 2021-12-22  NSR             NONE   \n1      621e2ff067b776a2403eb737 2021-12-22  NSR             NONE   \n2      621e2ff067b776a2403eb737 2021-11-18  NaN              NaN   \n3      621e2ff067b776a2403eb737 2021-11-18  NaN              NaN   \n4      621e2ff067b776a2403eb737 2021-11-18  NaN              NaN   \n...                         ...        ...  ...              ...   \n14430  621e362467b776a2404ad513 2021-05-18  NaN              NaN   \n14431  621e362467b776a2404ad513 2021-05-23  NaN              NaN   \n14432  621e36f967b776a240e5e7c9 2021-05-20  NaN              NaN   \n14433  621e36f967b776a240e5e7c9 2021-05-20  NaN              NaN   \n14434  621e36f967b776a240e5e7c9 2021-05-20  NaN              NaN   \n\n       nightly_temperature  nremhr  rmssd  spo2  full_sleep_breathing_rate  \\\n0                33.737162     NaN    NaN   NaN                        NaN   \n1                33.737162     NaN    NaN   NaN                        NaN   \n2                34.946341     NaN    NaN   NaN                        NaN   \n3                34.946341     NaN    NaN   NaN                        NaN   \n4                34.946341     NaN    NaN   NaN                        NaN   \n...                    ...     ...    ...   ...                        ...   \n14430                  NaN     NaN    NaN   NaN                        NaN   \n14431                  NaN     NaN    NaN   NaN                        NaN   \n14432                  NaN     NaN    NaN   NaN                        NaN   \n14433                  NaN     NaN    NaN   NaN                        NaN   \n14434                  NaN     NaN    NaN   NaN                        NaN   \n\n       deep_sleep_breathing_rate  ...  self_reevaluation_category  \\\n0                            NaN  ...                         NaN   \n1                            NaN  ...                         NaN   \n2                            NaN  ...                         NaN   \n3                            NaN  ...                         NaN   \n4                            NaN  ...                         NaN   \n...                          ...  ...                         ...   \n14430                        NaN  ...                         NaN   \n14431                        NaN  ...                         NaN   \n14432                        NaN  ...                         NaN   \n14433                        NaN  ...                         NaN   \n14434                        NaN  ...                         NaN   \n\n       social_liberation_category  counterconditioning_category  \\\n0                             NaN                           NaN   \n1                             NaN                           NaN   \n2                             NaN                           NaN   \n3                             NaN                           NaN   \n4                             NaN                           NaN   \n...                           ...                           ...   \n14430                         NaN                           NaN   \n14431                         NaN                           NaN   \n14432                         NaN                           NaN   \n14433                         NaN                           NaN   \n14434                         NaN                           NaN   \n\n       helping_relationships_category  reinforcement_management_category  \\\n0                                 NaN                                NaN   \n1                                 NaN                                NaN   \n2                                 NaN                                NaN   \n3                                 NaN                                NaN   \n4                                 NaN                                NaN   \n...                               ...                                ...   \n14430                             NaN                                NaN   \n14431                             NaN                                NaN   \n14432                             NaN                                NaN   \n14433                             NaN                                NaN   \n14434                             NaN                                NaN   \n\n       self_liberation_category  stimulus_control_category  step_goal  \\\n0                           NaN                        NaN        NaN   \n1                           NaN                        NaN        NaN   \n2                           NaN                        NaN       4999   \n3                           NaN                        NaN       4999   \n4                           NaN                        NaN       4999   \n...                         ...                        ...        ...   \n14430                       NaN                        NaN        NaN   \n14431                       NaN                        NaN        NaN   \n14432                       NaN                        NaN        NaN   \n14433                       NaN                        NaN        NaN   \n14434                       NaN                        NaN        NaN   \n\n                 mood          place  \n0               TIRED           HOME  \n1               TIRED        TRANSIT  \n2       <no-response>          OTHER  \n3               TIRED           HOME  \n4      RESTED/RELAXED  ENTERTAINMENT  \n...               ...            ...  \n14430           HAPPY           HOME  \n14431           HAPPY        TRANSIT  \n14432  RESTED/RELAXED    WORK/SCHOOL  \n14433           TIRED    WORK/SCHOOL  \n14434  RESTED/RELAXED           HOME  \n\n[14435 rows x 80 columns]",
      "text/html": "<div>\n<style scoped>\n    .dataframe tbody tr th:only-of-type {\n        vertical-align: middle;\n    }\n\n    .dataframe tbody tr th {\n        vertical-align: top;\n    }\n\n    .dataframe thead th {\n        text-align: right;\n    }\n</style>\n<table border=\"1\" class=\"dataframe\">\n  <thead>\n    <tr style=\"text-align: right;\">\n      <th></th>\n      <th>id</th>\n      <th>date</th>\n      <th>ecg</th>\n      <th>heart_rate_alert</th>\n      <th>nightly_temperature</th>\n      <th>nremhr</th>\n      <th>rmssd</th>\n      <th>spo2</th>\n      <th>full_sleep_breathing_rate</th>\n      <th>deep_sleep_breathing_rate</th>\n      <th>...</th>\n      <th>self_reevaluation_category</th>\n      <th>social_liberation_category</th>\n      <th>counterconditioning_category</th>\n      <th>helping_relationships_category</th>\n      <th>reinforcement_management_category</th>\n      <th>self_liberation_category</th>\n      <th>stimulus_control_category</th>\n      <th>step_goal</th>\n      <th>mood</th>\n      <th>place</th>\n    </tr>\n  </thead>\n  <tbody>\n    <tr>\n      <th>0</th>\n      <td>621e2ff067b776a2403eb737</td>\n      <td>2021-12-22</td>\n      <td>NSR</td>\n      <td>NONE</td>\n      <td>33.737162</td>\n      <td>NaN</td>\n      <td>NaN</td>\n      <td>NaN</td>\n      <td>NaN</td>\n      <td>NaN</td>\n      <td>...</td>\n      <td>NaN</td>\n      <td>NaN</td>\n      <td>NaN</td>\n      <td>NaN</td>\n      <td>NaN</td>\n      <td>NaN</td>\n      <td>NaN</td>\n      <td>NaN</td>\n      <td>TIRED</td>\n      <td>HOME</td>\n    </tr>\n    <tr>\n      <th>1</th>\n      <td>621e2ff067b776a2403eb737</td>\n      <td>2021-12-22</td>\n      <td>NSR</td>\n      <td>NONE</td>\n      <td>33.737162</td>\n      <td>NaN</td>\n      <td>NaN</td>\n      <td>NaN</td>\n      <td>NaN</td>\n      <td>NaN</td>\n      <td>...</td>\n      <td>NaN</td>\n      <td>NaN</td>\n      <td>NaN</td>\n      <td>NaN</td>\n      <td>NaN</td>\n      <td>NaN</td>\n      <td>NaN</td>\n      <td>NaN</td>\n      <td>TIRED</td>\n      <td>TRANSIT</td>\n    </tr>\n    <tr>\n      <th>2</th>\n      <td>621e2ff067b776a2403eb737</td>\n      <td>2021-11-18</td>\n      <td>NaN</td>\n      <td>NaN</td>\n      <td>34.946341</td>\n      <td>NaN</td>\n      <td>NaN</td>\n      <td>NaN</td>\n      <td>NaN</td>\n      <td>NaN</td>\n      <td>...</td>\n      <td>NaN</td>\n      <td>NaN</td>\n      <td>NaN</td>\n      <td>NaN</td>\n      <td>NaN</td>\n      <td>NaN</td>\n      <td>NaN</td>\n      <td>4999</td>\n      <td>&lt;no-response&gt;</td>\n      <td>OTHER</td>\n    </tr>\n    <tr>\n      <th>3</th>\n      <td>621e2ff067b776a2403eb737</td>\n      <td>2021-11-18</td>\n      <td>NaN</td>\n      <td>NaN</td>\n      <td>34.946341</td>\n      <td>NaN</td>\n      <td>NaN</td>\n      <td>NaN</td>\n      <td>NaN</td>\n      <td>NaN</td>\n      <td>...</td>\n      <td>NaN</td>\n      <td>NaN</td>\n      <td>NaN</td>\n      <td>NaN</td>\n      <td>NaN</td>\n      <td>NaN</td>\n      <td>NaN</td>\n      <td>4999</td>\n      <td>TIRED</td>\n      <td>HOME</td>\n    </tr>\n    <tr>\n      <th>4</th>\n      <td>621e2ff067b776a2403eb737</td>\n      <td>2021-11-18</td>\n      <td>NaN</td>\n      <td>NaN</td>\n      <td>34.946341</td>\n      <td>NaN</td>\n      <td>NaN</td>\n      <td>NaN</td>\n      <td>NaN</td>\n      <td>NaN</td>\n      <td>...</td>\n      <td>NaN</td>\n      <td>NaN</td>\n      <td>NaN</td>\n      <td>NaN</td>\n      <td>NaN</td>\n      <td>NaN</td>\n      <td>NaN</td>\n      <td>4999</td>\n      <td>RESTED/RELAXED</td>\n      <td>ENTERTAINMENT</td>\n    </tr>\n    <tr>\n      <th>...</th>\n      <td>...</td>\n      <td>...</td>\n      <td>...</td>\n      <td>...</td>\n      <td>...</td>\n      <td>...</td>\n      <td>...</td>\n      <td>...</td>\n      <td>...</td>\n      <td>...</td>\n      <td>...</td>\n      <td>...</td>\n      <td>...</td>\n      <td>...</td>\n      <td>...</td>\n      <td>...</td>\n      <td>...</td>\n      <td>...</td>\n      <td>...</td>\n      <td>...</td>\n      <td>...</td>\n    </tr>\n    <tr>\n      <th>14430</th>\n      <td>621e362467b776a2404ad513</td>\n      <td>2021-05-18</td>\n      <td>NaN</td>\n      <td>NaN</td>\n      <td>NaN</td>\n      <td>NaN</td>\n      <td>NaN</td>\n      <td>NaN</td>\n      <td>NaN</td>\n      <td>NaN</td>\n      <td>...</td>\n      <td>NaN</td>\n      <td>NaN</td>\n      <td>NaN</td>\n      <td>NaN</td>\n      <td>NaN</td>\n      <td>NaN</td>\n      <td>NaN</td>\n      <td>NaN</td>\n      <td>HAPPY</td>\n      <td>HOME</td>\n    </tr>\n    <tr>\n      <th>14431</th>\n      <td>621e362467b776a2404ad513</td>\n      <td>2021-05-23</td>\n      <td>NaN</td>\n      <td>NaN</td>\n      <td>NaN</td>\n      <td>NaN</td>\n      <td>NaN</td>\n      <td>NaN</td>\n      <td>NaN</td>\n      <td>NaN</td>\n      <td>...</td>\n      <td>NaN</td>\n      <td>NaN</td>\n      <td>NaN</td>\n      <td>NaN</td>\n      <td>NaN</td>\n      <td>NaN</td>\n      <td>NaN</td>\n      <td>NaN</td>\n      <td>HAPPY</td>\n      <td>TRANSIT</td>\n    </tr>\n    <tr>\n      <th>14432</th>\n      <td>621e36f967b776a240e5e7c9</td>\n      <td>2021-05-20</td>\n      <td>NaN</td>\n      <td>NaN</td>\n      <td>NaN</td>\n      <td>NaN</td>\n      <td>NaN</td>\n      <td>NaN</td>\n      <td>NaN</td>\n      <td>NaN</td>\n      <td>...</td>\n      <td>NaN</td>\n      <td>NaN</td>\n      <td>NaN</td>\n      <td>NaN</td>\n      <td>NaN</td>\n      <td>NaN</td>\n      <td>NaN</td>\n      <td>NaN</td>\n      <td>RESTED/RELAXED</td>\n      <td>WORK/SCHOOL</td>\n    </tr>\n    <tr>\n      <th>14433</th>\n      <td>621e36f967b776a240e5e7c9</td>\n      <td>2021-05-20</td>\n      <td>NaN</td>\n      <td>NaN</td>\n      <td>NaN</td>\n      <td>NaN</td>\n      <td>NaN</td>\n      <td>NaN</td>\n      <td>NaN</td>\n      <td>NaN</td>\n      <td>...</td>\n      <td>NaN</td>\n      <td>NaN</td>\n      <td>NaN</td>\n      <td>NaN</td>\n      <td>NaN</td>\n      <td>NaN</td>\n      <td>NaN</td>\n      <td>NaN</td>\n      <td>TIRED</td>\n      <td>WORK/SCHOOL</td>\n    </tr>\n    <tr>\n      <th>14434</th>\n      <td>621e36f967b776a240e5e7c9</td>\n      <td>2021-05-20</td>\n      <td>NaN</td>\n      <td>NaN</td>\n      <td>NaN</td>\n      <td>NaN</td>\n      <td>NaN</td>\n      <td>NaN</td>\n      <td>NaN</td>\n      <td>NaN</td>\n      <td>...</td>\n      <td>NaN</td>\n      <td>NaN</td>\n      <td>NaN</td>\n      <td>NaN</td>\n      <td>NaN</td>\n      <td>NaN</td>\n      <td>NaN</td>\n      <td>NaN</td>\n      <td>RESTED/RELAXED</td>\n      <td>HOME</td>\n    </tr>\n  </tbody>\n</table>\n<p>14435 rows × 80 columns</p>\n</div>"
     },
     "execution_count": 7,
     "metadata": {},
     "output_type": "execute_result"
    }
   ],
   "source": [
    "sema_mood = pd.DataFrame(columns=[\"user_id\", \"data\"])\n",
    "\n",
    "# read and load\n",
    "for user in users:\n",
    "    user_data = pd.DataFrame(list(\n",
    "                    db.sema.find({\n",
    "                        \"$or\": [{\"$and\": [{ \"data.MOOD\": { \"$ne\": \"<no-response>\" } },\n",
    "                                    {\"data.MOOD\": { \"$ne\": None }},\n",
    "                                    {\"user_id\": user}]},\n",
    "                            {\"$and\": [{ \"data.PLACE\": { \"$ne\": \"<no-response>\" } },\n",
    "                                    {\"data.PLACE\": { \"$ne\": None }},\n",
    "                                    {\"user_id\": user}]}]},\n",
    "                        {\"data.MOOD\": 1, \"data.PLACE\": 1, \"id\": 1, \"_id\": 0, \"user_id\": 1, \"data.STARTED_TS\": 1})))\n",
    "    sema_mood = pd.concat([sema_mood, user_data], axis=0)\n",
    "print(len(sema_mood))\n",
    "# split data column (json format) into two columns (df format)\n",
    "sema_mood[\"date\"] = sema_mood[\"data\"].apply(lambda d: d[\"STARTED_TS\"])\n",
    "sema_mood[\"mood\"] = sema_mood[\"data\"].apply(lambda d: d[\"MOOD\"])\n",
    "sema_mood[\"place\"] = sema_mood[\"data\"].apply(lambda d: d[\"PLACE\"])\n",
    "sema_mood.drop([\"data\"], axis=1, inplace=True)\n",
    "\n",
    "# process the datetime object and rename the dataframe columns\n",
    "sema_mood = daily_data_loading.date_conversion(sema_mood)\n",
    "sema_mood.rename(columns={'user_id': 'id'}, inplace=True)\n",
    "\n",
    "# check for duplicates\n",
    "# Findings: 2 duplicates found based on all the features of the dataframe (aka exact replicates)\n",
    "# Approach: keep the latest record\n",
    "sema_mood.drop_duplicates(keep=\"last\", inplace=True)\n",
    "\n",
    "# check for duplicates\n",
    "# Findings: 14 4-plicates found based on (id,date) which is wrong, since this answer had to be collected max thrice per day\n",
    "# Approach: keep the latest record\n",
    "sema_mood.sort_values(by=['id', 'date'], inplace=True)\n",
    "mood_place = pd.DataFrame()\n",
    "for user_id, group in sema_mood.groupby(['id', 'date']):\n",
    "    if len(group) == 4:\n",
    "        group = group.iloc[1:]\n",
    "    mood_place = pd.concat([mood_place, group])\n",
    "\n",
    "# merge with fitbit data\n",
    "df = df.merge(mood_place, how='outer', on=['id', 'date'])\n",
    "df"
   ],
   "metadata": {
    "collapsed": false,
    "ExecuteTime": {
     "end_time": "2024-03-08T13:00:09.351190500Z",
     "start_time": "2024-03-08T13:00:06.683079900Z"
    }
   },
   "id": "32414ff8b17504c5",
   "execution_count": 7
  },
  {
   "cell_type": "code",
   "outputs": [],
   "source": [
    "df.to_pickle('../data/loading_final/daily_fitbit_surveys_semas.pkl')"
   ],
   "metadata": {
    "collapsed": false,
    "ExecuteTime": {
     "end_time": "2024-03-08T13:00:33.420242Z",
     "start_time": "2024-03-08T13:00:33.380246800Z"
    }
   },
   "id": "47e86c20b80090ae",
   "execution_count": 8
  },
  {
   "cell_type": "code",
   "outputs": [],
   "source": [],
   "metadata": {
    "collapsed": false
   },
   "id": "78a319e5ff4a3b8d"
  }
 ],
 "metadata": {
  "kernelspec": {
   "display_name": "Python 3",
   "language": "python",
   "name": "python3"
  },
  "language_info": {
   "codemirror_mode": {
    "name": "ipython",
    "version": 2
   },
   "file_extension": ".py",
   "mimetype": "text/x-python",
   "name": "python",
   "nbconvert_exporter": "python",
   "pygments_lexer": "ipython2",
   "version": "2.7.6"
  }
 },
 "nbformat": 4,
 "nbformat_minor": 5
}
