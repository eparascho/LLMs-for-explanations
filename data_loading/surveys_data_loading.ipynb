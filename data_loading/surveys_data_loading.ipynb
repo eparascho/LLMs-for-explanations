{
 "cells": [
  {
   "cell_type": "markdown",
   "source": [
    "##### This notebook collects all the survey data from MongoDB and creates the corresponding dataframe."
   ],
   "metadata": {
    "collapsed": false,
    "pycharm": {
     "name": "#%% md\n"
    }
   }
  },
  {
   "cell_type": "code",
   "execution_count": 7,
   "outputs": [],
   "source": [
    "import os\n",
    "import warnings\n",
    "import datetime\n",
    "import numpy as np\n",
    "import pandas as pd\n",
    "from dotenv import load_dotenv\n",
    "from pymongo import MongoClient\n",
    "from functions import data_loading\n",
    "from functions import surveys_scoring\n",
    "from dataprep.eda import create_report\n",
    "\n",
    "warnings.filterwarnings(\"ignore\")"
   ],
   "metadata": {
    "collapsed": false,
    "pycharm": {
     "name": "#%%\n"
    }
   }
  },
  {
   "cell_type": "markdown",
   "source": [
    "Connect securely to the database"
   ],
   "metadata": {
    "collapsed": false,
    "pycharm": {
     "name": "#%% md\n"
    }
   }
  },
  {
   "cell_type": "code",
   "execution_count": 8,
   "outputs": [],
   "source": [
    "load_dotenv(\"../config.env\")\n",
    "MONGO_USER = os.getenv(\"MONGO_USER\")\n",
    "MONGO_PASSWORD = os.getenv(\"MONGO_PASSWORD\")\n",
    "client = MongoClient(\"mongodb://\" + MONGO_USER + \":\" + MONGO_PASSWORD + \"@localhost:27017/\")\n",
    "db = client.rais"
   ],
   "metadata": {
    "collapsed": false,
    "pycharm": {
     "name": "#%%\n"
    }
   }
  },
  {
   "cell_type": "markdown",
   "source": [
    "#### Survey data"
   ],
   "metadata": {
    "collapsed": false,
    "pycharm": {
     "name": "#%% md\n"
    }
   }
  },
  {
   "cell_type": "markdown",
   "source": [
    "Find all users provided their survey data"
   ],
   "metadata": {
    "collapsed": false,
    "pycharm": {
     "name": "#%% md\n"
    }
   }
  },
  {
   "cell_type": "code",
   "execution_count": 9,
   "outputs": [
    {
     "name": "stdout",
     "output_type": "stream",
     "text": [
      "67 users provided their survey data\n"
     ]
    }
   ],
   "source": [
    "users = db.surveys.distinct('user_id')\n",
    "print(len(users), \"users provided their survey data\")"
   ],
   "metadata": {
    "collapsed": false,
    "pycharm": {
     "name": "#%%\n"
    }
   }
  },
  {
   "cell_type": "markdown",
   "source": [
    "Find all the data types"
   ],
   "metadata": {
    "collapsed": false,
    "pycharm": {
     "name": "#%% md\n"
    }
   }
  },
  {
   "cell_type": "code",
   "execution_count": 10,
   "outputs": [
    {
     "data": {
      "text/plain": "['bfpt', 'breq', 'dq', 'panas', 'stai', 'ttmspbf']"
     },
     "execution_count": 10,
     "metadata": {},
     "output_type": "execute_result"
    }
   ],
   "source": [
    "types = db.surveys.distinct('type')\n",
    "types"
   ],
   "metadata": {
    "collapsed": false,
    "pycharm": {
     "name": "#%%\n"
    }
   }
  },
  {
   "cell_type": "markdown",
   "source": [
    "Load fitbit data"
   ],
   "metadata": {
    "collapsed": false,
    "pycharm": {
     "name": "#%% md\n"
    }
   }
  },
  {
   "cell_type": "code",
   "execution_count": 11,
   "outputs": [
    {
     "data": {
      "text/plain": "                              id       date  hour  ecg heart_rate_alert  \\\n0       621e2ff067b776a2403eb737 2021-12-22    19  NSR             NONE   \n1       621e2ff067b776a2403eb737 2021-11-18     0  NaN              NaN   \n2       621e2ff067b776a2403eb737 2021-11-18    21  NaN              NaN   \n3       621e2ff067b776a2403eb737 2021-11-20     0  NaN              NaN   \n4       621e2ff067b776a2403eb737 2021-11-20    23  NaN              NaN   \n...                          ...        ...   ...  ...              ...   \n164845  621e36bb67b776a240b40d64 2022-01-18     0  NaN              NaN   \n164846  621e36bb67b776a240b40d64 2022-01-19     0  NaN              NaN   \n164847  621e36bb67b776a240b40d64 2022-01-20     0  NaN              NaN   \n164848  621e36bb67b776a240b40d64 2022-01-21     0  NaN              NaN   \n164849  621e36bb67b776a240b40d64 2022-01-22     0  NaN              NaN   \n\n       sensor_type nightly_temperature  nremhr  spo2  rmssd  ...  \\\n0              NaN                 NaN     NaN   NaN    NaN  ...   \n1             SKIN            35.02573     NaN   NaN    NaN  ...   \n2             SKIN           34.866951     NaN   NaN    NaN  ...   \n3             SKIN           35.349583     NaN   NaN    NaN  ...   \n4             SKIN           34.495486     NaN   NaN    NaN  ...   \n...            ...                 ...     ...   ...    ...  ...   \n164845         NaN                 NaN     NaN   NaN    NaN  ...   \n164846         NaN                 NaN     NaN   NaN    NaN  ...   \n164847         NaN                 NaN     NaN   NaN    NaN  ...   \n164848         NaN                 NaN     NaN   NaN    NaN  ...   \n164849         NaN                 NaN     NaN   NaN    NaN  ...   \n\n        minutes_asleep  minutes_awake  minutes_after_wakeup  time_in_bed  \\\n0                  NaN            NaN                   NaN          NaN   \n1                  NaN            NaN                   NaN          NaN   \n2                  NaN            NaN                   NaN          NaN   \n3                  NaN            NaN                   NaN          NaN   \n4                  NaN            NaN                   NaN          NaN   \n...                ...            ...                   ...          ...   \n164845             NaN            NaN                   NaN          NaN   \n164846             NaN            NaN                   NaN          NaN   \n164847             NaN            NaN                   NaN          NaN   \n164848             NaN            NaN                   NaN          NaN   \n164849             NaN            NaN                   NaN          NaN   \n\n        sleep_efficiency  main_sleep        bpm  gender  age   bmi  \n0                    NaN         NaN  82.756007  FEMALE  <30  >=25  \n1                    NaN         NaN  71.995227  FEMALE  <30  >=25  \n2                    NaN         NaN  79.097606  FEMALE  <30  >=25  \n3                    NaN         NaN  79.829004  FEMALE  <30  >=25  \n4                    NaN         NaN  73.230942  FEMALE  <30  >=25  \n...                  ...         ...        ...     ...  ...   ...  \n164845               NaN         NaN        NaN  FEMALE  <30  24.0  \n164846               NaN         NaN        NaN  FEMALE  <30  24.0  \n164847               NaN         NaN        NaN  FEMALE  <30  24.0  \n164848               NaN         NaN        NaN  FEMALE  <30  24.0  \n164849               NaN         NaN        NaN  FEMALE  <30  24.0  \n\n[164850 rows x 76 columns]",
      "text/html": "<div>\n<style scoped>\n    .dataframe tbody tr th:only-of-type {\n        vertical-align: middle;\n    }\n\n    .dataframe tbody tr th {\n        vertical-align: top;\n    }\n\n    .dataframe thead th {\n        text-align: right;\n    }\n</style>\n<table border=\"1\" class=\"dataframe\">\n  <thead>\n    <tr style=\"text-align: right;\">\n      <th></th>\n      <th>id</th>\n      <th>date</th>\n      <th>hour</th>\n      <th>ecg</th>\n      <th>heart_rate_alert</th>\n      <th>sensor_type</th>\n      <th>nightly_temperature</th>\n      <th>nremhr</th>\n      <th>spo2</th>\n      <th>rmssd</th>\n      <th>...</th>\n      <th>minutes_asleep</th>\n      <th>minutes_awake</th>\n      <th>minutes_after_wakeup</th>\n      <th>time_in_bed</th>\n      <th>sleep_efficiency</th>\n      <th>main_sleep</th>\n      <th>bpm</th>\n      <th>gender</th>\n      <th>age</th>\n      <th>bmi</th>\n    </tr>\n  </thead>\n  <tbody>\n    <tr>\n      <th>0</th>\n      <td>621e2ff067b776a2403eb737</td>\n      <td>2021-12-22</td>\n      <td>19</td>\n      <td>NSR</td>\n      <td>NONE</td>\n      <td>NaN</td>\n      <td>NaN</td>\n      <td>NaN</td>\n      <td>NaN</td>\n      <td>NaN</td>\n      <td>...</td>\n      <td>NaN</td>\n      <td>NaN</td>\n      <td>NaN</td>\n      <td>NaN</td>\n      <td>NaN</td>\n      <td>NaN</td>\n      <td>82.756007</td>\n      <td>FEMALE</td>\n      <td>&lt;30</td>\n      <td>&gt;=25</td>\n    </tr>\n    <tr>\n      <th>1</th>\n      <td>621e2ff067b776a2403eb737</td>\n      <td>2021-11-18</td>\n      <td>0</td>\n      <td>NaN</td>\n      <td>NaN</td>\n      <td>SKIN</td>\n      <td>35.02573</td>\n      <td>NaN</td>\n      <td>NaN</td>\n      <td>NaN</td>\n      <td>...</td>\n      <td>NaN</td>\n      <td>NaN</td>\n      <td>NaN</td>\n      <td>NaN</td>\n      <td>NaN</td>\n      <td>NaN</td>\n      <td>71.995227</td>\n      <td>FEMALE</td>\n      <td>&lt;30</td>\n      <td>&gt;=25</td>\n    </tr>\n    <tr>\n      <th>2</th>\n      <td>621e2ff067b776a2403eb737</td>\n      <td>2021-11-18</td>\n      <td>21</td>\n      <td>NaN</td>\n      <td>NaN</td>\n      <td>SKIN</td>\n      <td>34.866951</td>\n      <td>NaN</td>\n      <td>NaN</td>\n      <td>NaN</td>\n      <td>...</td>\n      <td>NaN</td>\n      <td>NaN</td>\n      <td>NaN</td>\n      <td>NaN</td>\n      <td>NaN</td>\n      <td>NaN</td>\n      <td>79.097606</td>\n      <td>FEMALE</td>\n      <td>&lt;30</td>\n      <td>&gt;=25</td>\n    </tr>\n    <tr>\n      <th>3</th>\n      <td>621e2ff067b776a2403eb737</td>\n      <td>2021-11-20</td>\n      <td>0</td>\n      <td>NaN</td>\n      <td>NaN</td>\n      <td>SKIN</td>\n      <td>35.349583</td>\n      <td>NaN</td>\n      <td>NaN</td>\n      <td>NaN</td>\n      <td>...</td>\n      <td>NaN</td>\n      <td>NaN</td>\n      <td>NaN</td>\n      <td>NaN</td>\n      <td>NaN</td>\n      <td>NaN</td>\n      <td>79.829004</td>\n      <td>FEMALE</td>\n      <td>&lt;30</td>\n      <td>&gt;=25</td>\n    </tr>\n    <tr>\n      <th>4</th>\n      <td>621e2ff067b776a2403eb737</td>\n      <td>2021-11-20</td>\n      <td>23</td>\n      <td>NaN</td>\n      <td>NaN</td>\n      <td>SKIN</td>\n      <td>34.495486</td>\n      <td>NaN</td>\n      <td>NaN</td>\n      <td>NaN</td>\n      <td>...</td>\n      <td>NaN</td>\n      <td>NaN</td>\n      <td>NaN</td>\n      <td>NaN</td>\n      <td>NaN</td>\n      <td>NaN</td>\n      <td>73.230942</td>\n      <td>FEMALE</td>\n      <td>&lt;30</td>\n      <td>&gt;=25</td>\n    </tr>\n    <tr>\n      <th>...</th>\n      <td>...</td>\n      <td>...</td>\n      <td>...</td>\n      <td>...</td>\n      <td>...</td>\n      <td>...</td>\n      <td>...</td>\n      <td>...</td>\n      <td>...</td>\n      <td>...</td>\n      <td>...</td>\n      <td>...</td>\n      <td>...</td>\n      <td>...</td>\n      <td>...</td>\n      <td>...</td>\n      <td>...</td>\n      <td>...</td>\n      <td>...</td>\n      <td>...</td>\n      <td>...</td>\n    </tr>\n    <tr>\n      <th>164845</th>\n      <td>621e36bb67b776a240b40d64</td>\n      <td>2022-01-18</td>\n      <td>0</td>\n      <td>NaN</td>\n      <td>NaN</td>\n      <td>NaN</td>\n      <td>NaN</td>\n      <td>NaN</td>\n      <td>NaN</td>\n      <td>NaN</td>\n      <td>...</td>\n      <td>NaN</td>\n      <td>NaN</td>\n      <td>NaN</td>\n      <td>NaN</td>\n      <td>NaN</td>\n      <td>NaN</td>\n      <td>NaN</td>\n      <td>FEMALE</td>\n      <td>&lt;30</td>\n      <td>24.0</td>\n    </tr>\n    <tr>\n      <th>164846</th>\n      <td>621e36bb67b776a240b40d64</td>\n      <td>2022-01-19</td>\n      <td>0</td>\n      <td>NaN</td>\n      <td>NaN</td>\n      <td>NaN</td>\n      <td>NaN</td>\n      <td>NaN</td>\n      <td>NaN</td>\n      <td>NaN</td>\n      <td>...</td>\n      <td>NaN</td>\n      <td>NaN</td>\n      <td>NaN</td>\n      <td>NaN</td>\n      <td>NaN</td>\n      <td>NaN</td>\n      <td>NaN</td>\n      <td>FEMALE</td>\n      <td>&lt;30</td>\n      <td>24.0</td>\n    </tr>\n    <tr>\n      <th>164847</th>\n      <td>621e36bb67b776a240b40d64</td>\n      <td>2022-01-20</td>\n      <td>0</td>\n      <td>NaN</td>\n      <td>NaN</td>\n      <td>NaN</td>\n      <td>NaN</td>\n      <td>NaN</td>\n      <td>NaN</td>\n      <td>NaN</td>\n      <td>...</td>\n      <td>NaN</td>\n      <td>NaN</td>\n      <td>NaN</td>\n      <td>NaN</td>\n      <td>NaN</td>\n      <td>NaN</td>\n      <td>NaN</td>\n      <td>FEMALE</td>\n      <td>&lt;30</td>\n      <td>24.0</td>\n    </tr>\n    <tr>\n      <th>164848</th>\n      <td>621e36bb67b776a240b40d64</td>\n      <td>2022-01-21</td>\n      <td>0</td>\n      <td>NaN</td>\n      <td>NaN</td>\n      <td>NaN</td>\n      <td>NaN</td>\n      <td>NaN</td>\n      <td>NaN</td>\n      <td>NaN</td>\n      <td>...</td>\n      <td>NaN</td>\n      <td>NaN</td>\n      <td>NaN</td>\n      <td>NaN</td>\n      <td>NaN</td>\n      <td>NaN</td>\n      <td>NaN</td>\n      <td>FEMALE</td>\n      <td>&lt;30</td>\n      <td>24.0</td>\n    </tr>\n    <tr>\n      <th>164849</th>\n      <td>621e36bb67b776a240b40d64</td>\n      <td>2022-01-22</td>\n      <td>0</td>\n      <td>NaN</td>\n      <td>NaN</td>\n      <td>NaN</td>\n      <td>NaN</td>\n      <td>NaN</td>\n      <td>NaN</td>\n      <td>NaN</td>\n      <td>...</td>\n      <td>NaN</td>\n      <td>NaN</td>\n      <td>NaN</td>\n      <td>NaN</td>\n      <td>NaN</td>\n      <td>NaN</td>\n      <td>NaN</td>\n      <td>FEMALE</td>\n      <td>&lt;30</td>\n      <td>24.0</td>\n    </tr>\n  </tbody>\n</table>\n<p>164850 rows × 76 columns</p>\n</div>"
     },
     "execution_count": 11,
     "metadata": {},
     "output_type": "execute_result"
    }
   ],
   "source": [
    "fitbit_df = pd.read_pickle('../data/loading_final/fitbit.pkl')\n",
    "fitbit_df"
   ],
   "metadata": {
    "collapsed": false,
    "pycharm": {
     "name": "#%%\n"
    }
   }
  },
  {
   "cell_type": "markdown",
   "source": [
    "##### bfpt"
   ],
   "metadata": {
    "collapsed": false,
    "pycharm": {
     "name": "#%% md\n"
    }
   }
  },
  {
   "cell_type": "code",
   "execution_count": 12,
   "outputs": [
    {
     "data": {
      "text/plain": "                          id   extraversion  agreeableness conscientiousness  \\\n0   621e2e8e67b776a24055b564  Below average  Below average     Above average   \n1   621e2eaf67b776a2406b14ac        Average  Above average           Average   \n2   621e2ed667b776a24085d8d1  Above average        Average     Below average   \n3   621e2f3967b776a240c654db        Average        Average     Below average   \n4   621e2f6167b776a240e082a9  Above average        Average           Average   \n5   621e2f7a67b776a240f14425        Average        Average     Above average   \n6   621e2f9167b776a240011ccb  Below average  Above average           Average   \n7   621e2fb367b776a24015accd  Above average        Average     Below average   \n8   621e2fce67b776a240279baa  Above average  Above average           Average   \n9   621e2ff067b776a2403eb737        Average  Above average     Below average   \n10  621e301367b776a24057738e        Average        Average           Average   \n11  621e301e67b776a240608a72        Average  Above average     Above average   \n12  621e309b67b776a240b532b0  Above average  Above average           Average   \n13  621e30c867b776a240d4aa6c        Average        Average     Below average   \n14  621e30e267b776a240e5bf90  Above average  Above average     Below average   \n15  621e30e467b776a240e817c7  Above average  Below average     Below average   \n16  621e30f467b776a240f22944        Average  Above average           Average   \n17  621e310d67b776a24003096d  Above average  Above average           Average   \n18  621e312a67b776a240164d59        Average  Below average     Above average   \n19  621e314867b776a24029ebf9  Below average  Above average     Above average   \n20  621e323667b776a240f19134  Above average  Above average           Average   \n21  621e324e67b776a2400191cb        Average        Average     Above average   \n22  621e328667b776a240281372  Above average        Average     Above average   \n23  621e329067b776a2402ffad2        Average  Above average     Above average   \n24  621e32af67b776a24045b4cf  Below average        Average     Above average   \n25  621e32d067b776a2405b7d54  Below average  Below average     Below average   \n26  621e32d967b776a240627414  Above average        Average     Above average   \n27  621e331067b776a24085dd3f  Below average        Average     Above average   \n28  621e332267b776a24092a584  Below average  Below average     Below average   \n29  621e333567b776a240a0c217        Average  Above average           Average   \n30  621e333967b776a240a3cd06  Below average        Average     Above average   \n31  621e335a67b776a240bb12ff  Below average  Below average     Above average   \n32  621e337667b776a240ce78ab  Below average  Below average     Below average   \n33  621e339967b776a240e502de        Average  Above average           Average   \n34  621e33b067b776a240f39e56  Above average  Above average     Above average   \n35  621e33cf67b776a240087de9  Below average  Below average     Above average   \n36  621e33ed67b776a2401cf5f7  Above average  Above average           Average   \n37  621e341067b776a24037b105  Below average  Below average     Below average   \n38  621e346f67b776a24081744f        Average  Above average     Below average   \n39  621e34db67b776a240c9c2be  Below average  Above average           Average   \n40  621e34ec67b776a240d60873        Average  Below average     Below average   \n41  621e34f767b776a240de4e1a  Above average        Average     Above average   \n42  621e356967b776a24027bd9f  Below average  Below average     Above average   \n43  621e360b67b776a24039709f        Average        Average           Average   \n44  621e362467b776a2404ad513  Below average        Average     Below average   \n45  621e366567b776a24076a727        Average        Average     Above average   \n46  621e367e67b776a24087d75d  Below average  Below average     Below average   \n47  621e36bb67b776a240b40d64  Above average  Below average           Average   \n48  621e36c267b776a240ba2756  Above average        Average     Below average   \n49  621e36dd67b776a240ce9a45  Above average        Average           Average   \n50  621e36f967b776a240e5e7c9  Above average        Average     Above average   \n51  621e375b67b776a240290cdc        Average  Above average           Average   \n\n        stability      intellect  \n0   Above average  Above average  \n1   Below average  Above average  \n2         Average        Average  \n3   Above average        Average  \n4   Above average  Below average  \n5   Above average        Average  \n6   Below average  Above average  \n7   Below average  Above average  \n8   Below average        Average  \n9   Below average  Below average  \n10  Above average        Average  \n11  Below average        Average  \n12  Above average        Average  \n13        Average  Above average  \n14        Average        Average  \n15  Below average  Below average  \n16        Average        Average  \n17        Average  Above average  \n18        Average  Below average  \n19  Above average        Average  \n20        Average        Average  \n21  Above average        Average  \n22  Below average  Below average  \n23        Average  Above average  \n24  Below average  Above average  \n25  Above average  Below average  \n26        Average  Above average  \n27        Average        Average  \n28        Average  Above average  \n29  Below average  Below average  \n30  Below average  Above average  \n31  Above average  Below average  \n32  Below average  Above average  \n33  Above average        Average  \n34  Above average  Above average  \n35  Above average  Below average  \n36  Above average  Above average  \n37  Below average  Below average  \n38  Above average        Average  \n39  Above average  Above average  \n40        Average  Below average  \n41  Above average        Average  \n42        Average  Above average  \n43        Average  Above average  \n44        Average        Average  \n45        Average        Average  \n46  Below average  Below average  \n47  Below average  Below average  \n48  Above average  Below average  \n49        Average        Average  \n50  Above average  Above average  \n51  Below average  Above average  ",
      "text/html": "<div>\n<style scoped>\n    .dataframe tbody tr th:only-of-type {\n        vertical-align: middle;\n    }\n\n    .dataframe tbody tr th {\n        vertical-align: top;\n    }\n\n    .dataframe thead th {\n        text-align: right;\n    }\n</style>\n<table border=\"1\" class=\"dataframe\">\n  <thead>\n    <tr style=\"text-align: right;\">\n      <th></th>\n      <th>id</th>\n      <th>extraversion</th>\n      <th>agreeableness</th>\n      <th>conscientiousness</th>\n      <th>stability</th>\n      <th>intellect</th>\n    </tr>\n  </thead>\n  <tbody>\n    <tr>\n      <th>0</th>\n      <td>621e2e8e67b776a24055b564</td>\n      <td>Below average</td>\n      <td>Below average</td>\n      <td>Above average</td>\n      <td>Above average</td>\n      <td>Above average</td>\n    </tr>\n    <tr>\n      <th>1</th>\n      <td>621e2eaf67b776a2406b14ac</td>\n      <td>Average</td>\n      <td>Above average</td>\n      <td>Average</td>\n      <td>Below average</td>\n      <td>Above average</td>\n    </tr>\n    <tr>\n      <th>2</th>\n      <td>621e2ed667b776a24085d8d1</td>\n      <td>Above average</td>\n      <td>Average</td>\n      <td>Below average</td>\n      <td>Average</td>\n      <td>Average</td>\n    </tr>\n    <tr>\n      <th>3</th>\n      <td>621e2f3967b776a240c654db</td>\n      <td>Average</td>\n      <td>Average</td>\n      <td>Below average</td>\n      <td>Above average</td>\n      <td>Average</td>\n    </tr>\n    <tr>\n      <th>4</th>\n      <td>621e2f6167b776a240e082a9</td>\n      <td>Above average</td>\n      <td>Average</td>\n      <td>Average</td>\n      <td>Above average</td>\n      <td>Below average</td>\n    </tr>\n    <tr>\n      <th>5</th>\n      <td>621e2f7a67b776a240f14425</td>\n      <td>Average</td>\n      <td>Average</td>\n      <td>Above average</td>\n      <td>Above average</td>\n      <td>Average</td>\n    </tr>\n    <tr>\n      <th>6</th>\n      <td>621e2f9167b776a240011ccb</td>\n      <td>Below average</td>\n      <td>Above average</td>\n      <td>Average</td>\n      <td>Below average</td>\n      <td>Above average</td>\n    </tr>\n    <tr>\n      <th>7</th>\n      <td>621e2fb367b776a24015accd</td>\n      <td>Above average</td>\n      <td>Average</td>\n      <td>Below average</td>\n      <td>Below average</td>\n      <td>Above average</td>\n    </tr>\n    <tr>\n      <th>8</th>\n      <td>621e2fce67b776a240279baa</td>\n      <td>Above average</td>\n      <td>Above average</td>\n      <td>Average</td>\n      <td>Below average</td>\n      <td>Average</td>\n    </tr>\n    <tr>\n      <th>9</th>\n      <td>621e2ff067b776a2403eb737</td>\n      <td>Average</td>\n      <td>Above average</td>\n      <td>Below average</td>\n      <td>Below average</td>\n      <td>Below average</td>\n    </tr>\n    <tr>\n      <th>10</th>\n      <td>621e301367b776a24057738e</td>\n      <td>Average</td>\n      <td>Average</td>\n      <td>Average</td>\n      <td>Above average</td>\n      <td>Average</td>\n    </tr>\n    <tr>\n      <th>11</th>\n      <td>621e301e67b776a240608a72</td>\n      <td>Average</td>\n      <td>Above average</td>\n      <td>Above average</td>\n      <td>Below average</td>\n      <td>Average</td>\n    </tr>\n    <tr>\n      <th>12</th>\n      <td>621e309b67b776a240b532b0</td>\n      <td>Above average</td>\n      <td>Above average</td>\n      <td>Average</td>\n      <td>Above average</td>\n      <td>Average</td>\n    </tr>\n    <tr>\n      <th>13</th>\n      <td>621e30c867b776a240d4aa6c</td>\n      <td>Average</td>\n      <td>Average</td>\n      <td>Below average</td>\n      <td>Average</td>\n      <td>Above average</td>\n    </tr>\n    <tr>\n      <th>14</th>\n      <td>621e30e267b776a240e5bf90</td>\n      <td>Above average</td>\n      <td>Above average</td>\n      <td>Below average</td>\n      <td>Average</td>\n      <td>Average</td>\n    </tr>\n    <tr>\n      <th>15</th>\n      <td>621e30e467b776a240e817c7</td>\n      <td>Above average</td>\n      <td>Below average</td>\n      <td>Below average</td>\n      <td>Below average</td>\n      <td>Below average</td>\n    </tr>\n    <tr>\n      <th>16</th>\n      <td>621e30f467b776a240f22944</td>\n      <td>Average</td>\n      <td>Above average</td>\n      <td>Average</td>\n      <td>Average</td>\n      <td>Average</td>\n    </tr>\n    <tr>\n      <th>17</th>\n      <td>621e310d67b776a24003096d</td>\n      <td>Above average</td>\n      <td>Above average</td>\n      <td>Average</td>\n      <td>Average</td>\n      <td>Above average</td>\n    </tr>\n    <tr>\n      <th>18</th>\n      <td>621e312a67b776a240164d59</td>\n      <td>Average</td>\n      <td>Below average</td>\n      <td>Above average</td>\n      <td>Average</td>\n      <td>Below average</td>\n    </tr>\n    <tr>\n      <th>19</th>\n      <td>621e314867b776a24029ebf9</td>\n      <td>Below average</td>\n      <td>Above average</td>\n      <td>Above average</td>\n      <td>Above average</td>\n      <td>Average</td>\n    </tr>\n    <tr>\n      <th>20</th>\n      <td>621e323667b776a240f19134</td>\n      <td>Above average</td>\n      <td>Above average</td>\n      <td>Average</td>\n      <td>Average</td>\n      <td>Average</td>\n    </tr>\n    <tr>\n      <th>21</th>\n      <td>621e324e67b776a2400191cb</td>\n      <td>Average</td>\n      <td>Average</td>\n      <td>Above average</td>\n      <td>Above average</td>\n      <td>Average</td>\n    </tr>\n    <tr>\n      <th>22</th>\n      <td>621e328667b776a240281372</td>\n      <td>Above average</td>\n      <td>Average</td>\n      <td>Above average</td>\n      <td>Below average</td>\n      <td>Below average</td>\n    </tr>\n    <tr>\n      <th>23</th>\n      <td>621e329067b776a2402ffad2</td>\n      <td>Average</td>\n      <td>Above average</td>\n      <td>Above average</td>\n      <td>Average</td>\n      <td>Above average</td>\n    </tr>\n    <tr>\n      <th>24</th>\n      <td>621e32af67b776a24045b4cf</td>\n      <td>Below average</td>\n      <td>Average</td>\n      <td>Above average</td>\n      <td>Below average</td>\n      <td>Above average</td>\n    </tr>\n    <tr>\n      <th>25</th>\n      <td>621e32d067b776a2405b7d54</td>\n      <td>Below average</td>\n      <td>Below average</td>\n      <td>Below average</td>\n      <td>Above average</td>\n      <td>Below average</td>\n    </tr>\n    <tr>\n      <th>26</th>\n      <td>621e32d967b776a240627414</td>\n      <td>Above average</td>\n      <td>Average</td>\n      <td>Above average</td>\n      <td>Average</td>\n      <td>Above average</td>\n    </tr>\n    <tr>\n      <th>27</th>\n      <td>621e331067b776a24085dd3f</td>\n      <td>Below average</td>\n      <td>Average</td>\n      <td>Above average</td>\n      <td>Average</td>\n      <td>Average</td>\n    </tr>\n    <tr>\n      <th>28</th>\n      <td>621e332267b776a24092a584</td>\n      <td>Below average</td>\n      <td>Below average</td>\n      <td>Below average</td>\n      <td>Average</td>\n      <td>Above average</td>\n    </tr>\n    <tr>\n      <th>29</th>\n      <td>621e333567b776a240a0c217</td>\n      <td>Average</td>\n      <td>Above average</td>\n      <td>Average</td>\n      <td>Below average</td>\n      <td>Below average</td>\n    </tr>\n    <tr>\n      <th>30</th>\n      <td>621e333967b776a240a3cd06</td>\n      <td>Below average</td>\n      <td>Average</td>\n      <td>Above average</td>\n      <td>Below average</td>\n      <td>Above average</td>\n    </tr>\n    <tr>\n      <th>31</th>\n      <td>621e335a67b776a240bb12ff</td>\n      <td>Below average</td>\n      <td>Below average</td>\n      <td>Above average</td>\n      <td>Above average</td>\n      <td>Below average</td>\n    </tr>\n    <tr>\n      <th>32</th>\n      <td>621e337667b776a240ce78ab</td>\n      <td>Below average</td>\n      <td>Below average</td>\n      <td>Below average</td>\n      <td>Below average</td>\n      <td>Above average</td>\n    </tr>\n    <tr>\n      <th>33</th>\n      <td>621e339967b776a240e502de</td>\n      <td>Average</td>\n      <td>Above average</td>\n      <td>Average</td>\n      <td>Above average</td>\n      <td>Average</td>\n    </tr>\n    <tr>\n      <th>34</th>\n      <td>621e33b067b776a240f39e56</td>\n      <td>Above average</td>\n      <td>Above average</td>\n      <td>Above average</td>\n      <td>Above average</td>\n      <td>Above average</td>\n    </tr>\n    <tr>\n      <th>35</th>\n      <td>621e33cf67b776a240087de9</td>\n      <td>Below average</td>\n      <td>Below average</td>\n      <td>Above average</td>\n      <td>Above average</td>\n      <td>Below average</td>\n    </tr>\n    <tr>\n      <th>36</th>\n      <td>621e33ed67b776a2401cf5f7</td>\n      <td>Above average</td>\n      <td>Above average</td>\n      <td>Average</td>\n      <td>Above average</td>\n      <td>Above average</td>\n    </tr>\n    <tr>\n      <th>37</th>\n      <td>621e341067b776a24037b105</td>\n      <td>Below average</td>\n      <td>Below average</td>\n      <td>Below average</td>\n      <td>Below average</td>\n      <td>Below average</td>\n    </tr>\n    <tr>\n      <th>38</th>\n      <td>621e346f67b776a24081744f</td>\n      <td>Average</td>\n      <td>Above average</td>\n      <td>Below average</td>\n      <td>Above average</td>\n      <td>Average</td>\n    </tr>\n    <tr>\n      <th>39</th>\n      <td>621e34db67b776a240c9c2be</td>\n      <td>Below average</td>\n      <td>Above average</td>\n      <td>Average</td>\n      <td>Above average</td>\n      <td>Above average</td>\n    </tr>\n    <tr>\n      <th>40</th>\n      <td>621e34ec67b776a240d60873</td>\n      <td>Average</td>\n      <td>Below average</td>\n      <td>Below average</td>\n      <td>Average</td>\n      <td>Below average</td>\n    </tr>\n    <tr>\n      <th>41</th>\n      <td>621e34f767b776a240de4e1a</td>\n      <td>Above average</td>\n      <td>Average</td>\n      <td>Above average</td>\n      <td>Above average</td>\n      <td>Average</td>\n    </tr>\n    <tr>\n      <th>42</th>\n      <td>621e356967b776a24027bd9f</td>\n      <td>Below average</td>\n      <td>Below average</td>\n      <td>Above average</td>\n      <td>Average</td>\n      <td>Above average</td>\n    </tr>\n    <tr>\n      <th>43</th>\n      <td>621e360b67b776a24039709f</td>\n      <td>Average</td>\n      <td>Average</td>\n      <td>Average</td>\n      <td>Average</td>\n      <td>Above average</td>\n    </tr>\n    <tr>\n      <th>44</th>\n      <td>621e362467b776a2404ad513</td>\n      <td>Below average</td>\n      <td>Average</td>\n      <td>Below average</td>\n      <td>Average</td>\n      <td>Average</td>\n    </tr>\n    <tr>\n      <th>45</th>\n      <td>621e366567b776a24076a727</td>\n      <td>Average</td>\n      <td>Average</td>\n      <td>Above average</td>\n      <td>Average</td>\n      <td>Average</td>\n    </tr>\n    <tr>\n      <th>46</th>\n      <td>621e367e67b776a24087d75d</td>\n      <td>Below average</td>\n      <td>Below average</td>\n      <td>Below average</td>\n      <td>Below average</td>\n      <td>Below average</td>\n    </tr>\n    <tr>\n      <th>47</th>\n      <td>621e36bb67b776a240b40d64</td>\n      <td>Above average</td>\n      <td>Below average</td>\n      <td>Average</td>\n      <td>Below average</td>\n      <td>Below average</td>\n    </tr>\n    <tr>\n      <th>48</th>\n      <td>621e36c267b776a240ba2756</td>\n      <td>Above average</td>\n      <td>Average</td>\n      <td>Below average</td>\n      <td>Above average</td>\n      <td>Below average</td>\n    </tr>\n    <tr>\n      <th>49</th>\n      <td>621e36dd67b776a240ce9a45</td>\n      <td>Above average</td>\n      <td>Average</td>\n      <td>Average</td>\n      <td>Average</td>\n      <td>Average</td>\n    </tr>\n    <tr>\n      <th>50</th>\n      <td>621e36f967b776a240e5e7c9</td>\n      <td>Above average</td>\n      <td>Average</td>\n      <td>Above average</td>\n      <td>Above average</td>\n      <td>Above average</td>\n    </tr>\n    <tr>\n      <th>51</th>\n      <td>621e375b67b776a240290cdc</td>\n      <td>Average</td>\n      <td>Above average</td>\n      <td>Average</td>\n      <td>Below average</td>\n      <td>Above average</td>\n    </tr>\n  </tbody>\n</table>\n</div>"
     },
     "execution_count": 12,
     "metadata": {},
     "output_type": "execute_result"
    }
   ],
   "source": [
    "bfpt = pd.DataFrame(columns=[\"user_id\", \"data\"])\n",
    "\n",
    "# read and load from MongoDB\n",
    "for user in users:\n",
    "    user_data = pd.DataFrame(list(\n",
    "        db.surveys.find({\"$and\": [\n",
    "            {\"type\": \"bfpt\"},\n",
    "            {\"user_id\": user}\n",
    "        ]},{\"_id\": 0})))\n",
    "    bfpt = pd.concat([bfpt, user_data], axis=0)\n",
    "\n",
    "# split data column (json format) into two columns (df format)\n",
    "for ipip in range(1,51):\n",
    "    if ipip < 10:\n",
    "        col_name = \"ipip[SQ00{}]\".format(ipip)\n",
    "    else:\n",
    "        col_name = \"ipip[SQ0{}]\".format(ipip)\n",
    "    bfpt[col_name] = bfpt[\"data\"].apply(lambda d: d[col_name])\n",
    "bfpt.drop(['data', 'type'], axis=1, inplace=True)\n",
    "\n",
    "# categorization of answers into positive and negative ones\n",
    "bfpt_scoring = pd.read_csv(\"../data/utils/BFPT-Coding.csv\", sep=\";\")\n",
    "ipip_plus = bfpt_scoring[bfpt_scoring.plus == True].code\n",
    "ipip_minus = bfpt_scoring[bfpt_scoring.plus == False].code\n",
    "\n",
    "# Based on the scoring document: https://openpsychometrics.org/printable/big-five-personality-test.pdf, some questions are reversed\n",
    "for col in bfpt.columns:\n",
    "    if col in ipip_minus.values:\n",
    "        bfpt[col] = bfpt[col].apply(lambda score: surveys_scoring.inverse_score(score, 1, 5))\n",
    "\n",
    "# calculation of the score of each personality type\n",
    "ipip_extraversion = bfpt_scoring[bfpt_scoring.factor == 1].code\n",
    "ipip_agreeableness = bfpt_scoring[bfpt_scoring.factor == 2].code\n",
    "ipip_conscientiousness = bfpt_scoring[bfpt_scoring.factor == 3].code\n",
    "ipip_stability = bfpt_scoring[bfpt_scoring.factor == 4].code\n",
    "ipip_intellect = bfpt_scoring[bfpt_scoring.factor == 5].code\n",
    "bfpt[\"extraversion\"] = bfpt[ipip_extraversion].sum(axis=1)\n",
    "bfpt[\"agreeableness\"] = bfpt[ipip_agreeableness].sum(axis=1)\n",
    "bfpt[\"conscientiousness\"] = bfpt[ipip_conscientiousness].sum(axis=1)\n",
    "bfpt[\"stability\"] = bfpt[ipip_stability].sum(axis=1)\n",
    "bfpt[\"intellect\"] = bfpt[ipip_intellect].sum(axis=1)\n",
    "\n",
    "# drop unnecessary columns and rename columns\n",
    "bfpt = bfpt[bfpt.columns.drop(list(bfpt.filter(regex='ipip\\[SQ')))]\n",
    "bfpt.rename(columns={'user_id': 'id'}, inplace=True)\n",
    "\n",
    "# convert the score into category using mean and std of a specific subgroup (in this case: gender)\n",
    "# add the gender information for each participant\n",
    "bfpt = bfpt.merge(fitbit_df[['id','gender']].drop_duplicates(), how='left')\n",
    "# there are two missing values\n",
    "bfpt.gender.fillna('FEMALE', inplace=True)\n",
    "# calculate means and stds\n",
    "MEAN_1_FEMALE, STD_1_FEMALE = bfpt.groupby('gender').extraversion.mean()[\"FEMALE\"], bfpt.groupby('gender').extraversion.std()[\"FEMALE\"]\n",
    "MEAN_1_MALE, STD_1_MALE = bfpt.groupby('gender').extraversion.mean()[\"MALE\"], bfpt.groupby('gender').extraversion.std()[\"MALE\"]\n",
    "MEAN_2_FEMALE, STD_2_FEMALE = bfpt.groupby('gender').agreeableness.mean()[\"FEMALE\"], bfpt.groupby('gender').agreeableness.std()[\"FEMALE\"]\n",
    "MEAN_2_MALE, STD_2_MALE = bfpt.groupby('gender').agreeableness.mean()[\"MALE\"], bfpt.groupby('gender').agreeableness.std()[\"MALE\"]\n",
    "MEAN_3_FEMALE, STD_3_FEMALE = bfpt.groupby('gender').conscientiousness.mean()[\"FEMALE\"], bfpt.groupby('gender').conscientiousness.std()[\"FEMALE\"]\n",
    "MEAN_3_MALE, STD_3_MALE = bfpt.groupby('gender').conscientiousness.mean()[\"MALE\"], bfpt.groupby('gender').conscientiousness.std()[\"MALE\"]\n",
    "MEAN_4_FEMALE, STD_4_FEMALE = bfpt.groupby('gender').stability.mean()[\"FEMALE\"], bfpt.groupby('gender').stability.std()[\"FEMALE\"]\n",
    "MEAN_4_MALE, STD_4_MALE = bfpt.groupby('gender').stability.mean()[\"MALE\"], bfpt.groupby('gender').stability.std()[\"MALE\"]\n",
    "MEAN_5_FEMALE, STD_5_FEMALE = bfpt.groupby('gender').intellect.mean()[\"FEMALE\"], bfpt.groupby('gender').intellect.std()[\"FEMALE\"]\n",
    "MEAN_5_MALE, STD_5_MALE = bfpt.groupby('gender').intellect.mean()[\"MALE\"], bfpt.groupby('gender').intellect.std()[\"MALE\"]\n",
    "# convert the score into category\n",
    "bfpt['extraversion'] = bfpt.apply(lambda row: surveys_scoring.get_category(row.extraversion, MEAN_1_MALE, STD_1_MALE) if row.gender == \"MALE\" else surveys_scoring.get_category(row.extraversion, MEAN_1_FEMALE, STD_1_FEMALE), axis=1)\n",
    "bfpt['agreeableness'] = bfpt.apply(lambda row: surveys_scoring.get_category(row.agreeableness, MEAN_2_MALE, STD_2_MALE) if row.gender == \"MALE\" else surveys_scoring.get_category(row.agreeableness, MEAN_2_FEMALE, STD_2_FEMALE), axis=1)\n",
    "bfpt['conscientiousness'] = bfpt.apply(lambda row: surveys_scoring.get_category(row.conscientiousness, MEAN_3_MALE, STD_3_MALE) if row.gender == \"MALE\" else surveys_scoring.get_category(row.conscientiousness, MEAN_3_FEMALE, STD_3_FEMALE), axis=1)\n",
    "bfpt['stability'] = bfpt.apply(lambda row: surveys_scoring.get_category(row.stability, MEAN_4_MALE, STD_4_MALE) if row.gender == \"MALE\" else surveys_scoring.get_category(row.stability, MEAN_4_FEMALE, STD_4_FEMALE), axis=1)\n",
    "bfpt['intellect'] = bfpt.apply(lambda row: surveys_scoring.get_category(row.intellect, MEAN_5_MALE, STD_5_MALE) if row.gender == \"MALE\" else surveys_scoring.get_category(row.intellect, MEAN_5_FEMALE, STD_5_FEMALE), axis=1)\n",
    "\n",
    "# drop unnecessary columns\n",
    "bfpt.drop(columns=['gender'], inplace=True)\n",
    "\n",
    "bfpt"
   ],
   "metadata": {
    "collapsed": false,
    "pycharm": {
     "name": "#%%\n"
    }
   }
  },
  {
   "cell_type": "code",
   "execution_count": 13,
   "outputs": [
    {
     "data": {
      "text/plain": "                              id       date  hour  ecg heart_rate_alert  \\\n0       621e2ff067b776a2403eb737 2021-12-22    19  NSR             NONE   \n1       621e2ff067b776a2403eb737 2021-11-18     0  NaN              NaN   \n2       621e2ff067b776a2403eb737 2021-11-18    21  NaN              NaN   \n3       621e2ff067b776a2403eb737 2021-11-20     0  NaN              NaN   \n4       621e2ff067b776a2403eb737 2021-11-20    23  NaN              NaN   \n...                          ...        ...   ...  ...              ...   \n164845  621e36bb67b776a240b40d64 2022-01-18     0  NaN              NaN   \n164846  621e36bb67b776a240b40d64 2022-01-19     0  NaN              NaN   \n164847  621e36bb67b776a240b40d64 2022-01-20     0  NaN              NaN   \n164848  621e36bb67b776a240b40d64 2022-01-21     0  NaN              NaN   \n164849  621e36bb67b776a240b40d64 2022-01-22     0  NaN              NaN   \n\n       sensor_type nightly_temperature  nremhr  spo2  rmssd  ...  main_sleep  \\\n0              NaN                 NaN     NaN   NaN    NaN  ...         NaN   \n1             SKIN            35.02573     NaN   NaN    NaN  ...         NaN   \n2             SKIN           34.866951     NaN   NaN    NaN  ...         NaN   \n3             SKIN           35.349583     NaN   NaN    NaN  ...         NaN   \n4             SKIN           34.495486     NaN   NaN    NaN  ...         NaN   \n...            ...                 ...     ...   ...    ...  ...         ...   \n164845         NaN                 NaN     NaN   NaN    NaN  ...         NaN   \n164846         NaN                 NaN     NaN   NaN    NaN  ...         NaN   \n164847         NaN                 NaN     NaN   NaN    NaN  ...         NaN   \n164848         NaN                 NaN     NaN   NaN    NaN  ...         NaN   \n164849         NaN                 NaN     NaN   NaN    NaN  ...         NaN   \n\n              bpm  gender  age   bmi   extraversion  agreeableness  \\\n0       82.756007  FEMALE  <30  >=25        Average  Above average   \n1       71.995227  FEMALE  <30  >=25        Average  Above average   \n2       79.097606  FEMALE  <30  >=25        Average  Above average   \n3       79.829004  FEMALE  <30  >=25        Average  Above average   \n4       73.230942  FEMALE  <30  >=25        Average  Above average   \n...           ...     ...  ...   ...            ...            ...   \n164845        NaN  FEMALE  <30  24.0  Above average  Below average   \n164846        NaN  FEMALE  <30  24.0  Above average  Below average   \n164847        NaN  FEMALE  <30  24.0  Above average  Below average   \n164848        NaN  FEMALE  <30  24.0  Above average  Below average   \n164849        NaN  FEMALE  <30  24.0  Above average  Below average   \n\n        conscientiousness      stability      intellect  \n0           Below average  Below average  Below average  \n1           Below average  Below average  Below average  \n2           Below average  Below average  Below average  \n3           Below average  Below average  Below average  \n4           Below average  Below average  Below average  \n...                   ...            ...            ...  \n164845            Average  Below average  Below average  \n164846            Average  Below average  Below average  \n164847            Average  Below average  Below average  \n164848            Average  Below average  Below average  \n164849            Average  Below average  Below average  \n\n[164850 rows x 81 columns]",
      "text/html": "<div>\n<style scoped>\n    .dataframe tbody tr th:only-of-type {\n        vertical-align: middle;\n    }\n\n    .dataframe tbody tr th {\n        vertical-align: top;\n    }\n\n    .dataframe thead th {\n        text-align: right;\n    }\n</style>\n<table border=\"1\" class=\"dataframe\">\n  <thead>\n    <tr style=\"text-align: right;\">\n      <th></th>\n      <th>id</th>\n      <th>date</th>\n      <th>hour</th>\n      <th>ecg</th>\n      <th>heart_rate_alert</th>\n      <th>sensor_type</th>\n      <th>nightly_temperature</th>\n      <th>nremhr</th>\n      <th>spo2</th>\n      <th>rmssd</th>\n      <th>...</th>\n      <th>main_sleep</th>\n      <th>bpm</th>\n      <th>gender</th>\n      <th>age</th>\n      <th>bmi</th>\n      <th>extraversion</th>\n      <th>agreeableness</th>\n      <th>conscientiousness</th>\n      <th>stability</th>\n      <th>intellect</th>\n    </tr>\n  </thead>\n  <tbody>\n    <tr>\n      <th>0</th>\n      <td>621e2ff067b776a2403eb737</td>\n      <td>2021-12-22</td>\n      <td>19</td>\n      <td>NSR</td>\n      <td>NONE</td>\n      <td>NaN</td>\n      <td>NaN</td>\n      <td>NaN</td>\n      <td>NaN</td>\n      <td>NaN</td>\n      <td>...</td>\n      <td>NaN</td>\n      <td>82.756007</td>\n      <td>FEMALE</td>\n      <td>&lt;30</td>\n      <td>&gt;=25</td>\n      <td>Average</td>\n      <td>Above average</td>\n      <td>Below average</td>\n      <td>Below average</td>\n      <td>Below average</td>\n    </tr>\n    <tr>\n      <th>1</th>\n      <td>621e2ff067b776a2403eb737</td>\n      <td>2021-11-18</td>\n      <td>0</td>\n      <td>NaN</td>\n      <td>NaN</td>\n      <td>SKIN</td>\n      <td>35.02573</td>\n      <td>NaN</td>\n      <td>NaN</td>\n      <td>NaN</td>\n      <td>...</td>\n      <td>NaN</td>\n      <td>71.995227</td>\n      <td>FEMALE</td>\n      <td>&lt;30</td>\n      <td>&gt;=25</td>\n      <td>Average</td>\n      <td>Above average</td>\n      <td>Below average</td>\n      <td>Below average</td>\n      <td>Below average</td>\n    </tr>\n    <tr>\n      <th>2</th>\n      <td>621e2ff067b776a2403eb737</td>\n      <td>2021-11-18</td>\n      <td>21</td>\n      <td>NaN</td>\n      <td>NaN</td>\n      <td>SKIN</td>\n      <td>34.866951</td>\n      <td>NaN</td>\n      <td>NaN</td>\n      <td>NaN</td>\n      <td>...</td>\n      <td>NaN</td>\n      <td>79.097606</td>\n      <td>FEMALE</td>\n      <td>&lt;30</td>\n      <td>&gt;=25</td>\n      <td>Average</td>\n      <td>Above average</td>\n      <td>Below average</td>\n      <td>Below average</td>\n      <td>Below average</td>\n    </tr>\n    <tr>\n      <th>3</th>\n      <td>621e2ff067b776a2403eb737</td>\n      <td>2021-11-20</td>\n      <td>0</td>\n      <td>NaN</td>\n      <td>NaN</td>\n      <td>SKIN</td>\n      <td>35.349583</td>\n      <td>NaN</td>\n      <td>NaN</td>\n      <td>NaN</td>\n      <td>...</td>\n      <td>NaN</td>\n      <td>79.829004</td>\n      <td>FEMALE</td>\n      <td>&lt;30</td>\n      <td>&gt;=25</td>\n      <td>Average</td>\n      <td>Above average</td>\n      <td>Below average</td>\n      <td>Below average</td>\n      <td>Below average</td>\n    </tr>\n    <tr>\n      <th>4</th>\n      <td>621e2ff067b776a2403eb737</td>\n      <td>2021-11-20</td>\n      <td>23</td>\n      <td>NaN</td>\n      <td>NaN</td>\n      <td>SKIN</td>\n      <td>34.495486</td>\n      <td>NaN</td>\n      <td>NaN</td>\n      <td>NaN</td>\n      <td>...</td>\n      <td>NaN</td>\n      <td>73.230942</td>\n      <td>FEMALE</td>\n      <td>&lt;30</td>\n      <td>&gt;=25</td>\n      <td>Average</td>\n      <td>Above average</td>\n      <td>Below average</td>\n      <td>Below average</td>\n      <td>Below average</td>\n    </tr>\n    <tr>\n      <th>...</th>\n      <td>...</td>\n      <td>...</td>\n      <td>...</td>\n      <td>...</td>\n      <td>...</td>\n      <td>...</td>\n      <td>...</td>\n      <td>...</td>\n      <td>...</td>\n      <td>...</td>\n      <td>...</td>\n      <td>...</td>\n      <td>...</td>\n      <td>...</td>\n      <td>...</td>\n      <td>...</td>\n      <td>...</td>\n      <td>...</td>\n      <td>...</td>\n      <td>...</td>\n      <td>...</td>\n    </tr>\n    <tr>\n      <th>164845</th>\n      <td>621e36bb67b776a240b40d64</td>\n      <td>2022-01-18</td>\n      <td>0</td>\n      <td>NaN</td>\n      <td>NaN</td>\n      <td>NaN</td>\n      <td>NaN</td>\n      <td>NaN</td>\n      <td>NaN</td>\n      <td>NaN</td>\n      <td>...</td>\n      <td>NaN</td>\n      <td>NaN</td>\n      <td>FEMALE</td>\n      <td>&lt;30</td>\n      <td>24.0</td>\n      <td>Above average</td>\n      <td>Below average</td>\n      <td>Average</td>\n      <td>Below average</td>\n      <td>Below average</td>\n    </tr>\n    <tr>\n      <th>164846</th>\n      <td>621e36bb67b776a240b40d64</td>\n      <td>2022-01-19</td>\n      <td>0</td>\n      <td>NaN</td>\n      <td>NaN</td>\n      <td>NaN</td>\n      <td>NaN</td>\n      <td>NaN</td>\n      <td>NaN</td>\n      <td>NaN</td>\n      <td>...</td>\n      <td>NaN</td>\n      <td>NaN</td>\n      <td>FEMALE</td>\n      <td>&lt;30</td>\n      <td>24.0</td>\n      <td>Above average</td>\n      <td>Below average</td>\n      <td>Average</td>\n      <td>Below average</td>\n      <td>Below average</td>\n    </tr>\n    <tr>\n      <th>164847</th>\n      <td>621e36bb67b776a240b40d64</td>\n      <td>2022-01-20</td>\n      <td>0</td>\n      <td>NaN</td>\n      <td>NaN</td>\n      <td>NaN</td>\n      <td>NaN</td>\n      <td>NaN</td>\n      <td>NaN</td>\n      <td>NaN</td>\n      <td>...</td>\n      <td>NaN</td>\n      <td>NaN</td>\n      <td>FEMALE</td>\n      <td>&lt;30</td>\n      <td>24.0</td>\n      <td>Above average</td>\n      <td>Below average</td>\n      <td>Average</td>\n      <td>Below average</td>\n      <td>Below average</td>\n    </tr>\n    <tr>\n      <th>164848</th>\n      <td>621e36bb67b776a240b40d64</td>\n      <td>2022-01-21</td>\n      <td>0</td>\n      <td>NaN</td>\n      <td>NaN</td>\n      <td>NaN</td>\n      <td>NaN</td>\n      <td>NaN</td>\n      <td>NaN</td>\n      <td>NaN</td>\n      <td>...</td>\n      <td>NaN</td>\n      <td>NaN</td>\n      <td>FEMALE</td>\n      <td>&lt;30</td>\n      <td>24.0</td>\n      <td>Above average</td>\n      <td>Below average</td>\n      <td>Average</td>\n      <td>Below average</td>\n      <td>Below average</td>\n    </tr>\n    <tr>\n      <th>164849</th>\n      <td>621e36bb67b776a240b40d64</td>\n      <td>2022-01-22</td>\n      <td>0</td>\n      <td>NaN</td>\n      <td>NaN</td>\n      <td>NaN</td>\n      <td>NaN</td>\n      <td>NaN</td>\n      <td>NaN</td>\n      <td>NaN</td>\n      <td>...</td>\n      <td>NaN</td>\n      <td>NaN</td>\n      <td>FEMALE</td>\n      <td>&lt;30</td>\n      <td>24.0</td>\n      <td>Above average</td>\n      <td>Below average</td>\n      <td>Average</td>\n      <td>Below average</td>\n      <td>Below average</td>\n    </tr>\n  </tbody>\n</table>\n<p>164850 rows × 81 columns</p>\n</div>"
     },
     "execution_count": 13,
     "metadata": {},
     "output_type": "execute_result"
    }
   ],
   "source": [
    "# merge with fitbit data\n",
    "df = fitbit_df.merge(bfpt, how='outer', on='id')\n",
    "df"
   ],
   "metadata": {
    "collapsed": false,
    "pycharm": {
     "name": "#%%\n"
    }
   }
  },
  {
   "cell_type": "markdown",
   "source": [
    "##### breq"
   ],
   "metadata": {
    "collapsed": false,
    "pycharm": {
     "name": "#%% md\n"
    }
   }
  },
  {
   "cell_type": "code",
   "execution_count": 14,
   "outputs": [
    {
     "data": {
      "text/plain": "                          id       date  hour      self_determination\n0   621e2e8e67b776a24055b564 2021-05-31    13    intrinsic_regulation\n1   621e2e8e67b776a24055b564 2021-07-26    13    intrinsic_regulation\n0   621e2eaf67b776a2406b14ac 2021-11-29    11   identified_regulation\n1   621e2eaf67b776a2406b14ac 2022-01-17    12   identified_regulation\n0   621e2ed667b776a24085d8d1 2021-07-06    17  introjected_regulation\n..                       ...        ...   ...                     ...\n0   621e36c267b776a240ba2756 2021-05-31    13    intrinsic_regulation\n0   621e36f967b776a240e5e7c9 2021-05-31    12  introjected_regulation\n1   621e36f967b776a240e5e7c9 2021-07-26    12  introjected_regulation\n0   621e375b67b776a240290cdc 2021-01-06    15   identified_regulation\n1   621e375b67b776a240290cdc 2021-07-06    12   identified_regulation\n\n[96 rows x 4 columns]",
      "text/html": "<div>\n<style scoped>\n    .dataframe tbody tr th:only-of-type {\n        vertical-align: middle;\n    }\n\n    .dataframe tbody tr th {\n        vertical-align: top;\n    }\n\n    .dataframe thead th {\n        text-align: right;\n    }\n</style>\n<table border=\"1\" class=\"dataframe\">\n  <thead>\n    <tr style=\"text-align: right;\">\n      <th></th>\n      <th>id</th>\n      <th>date</th>\n      <th>hour</th>\n      <th>self_determination</th>\n    </tr>\n  </thead>\n  <tbody>\n    <tr>\n      <th>0</th>\n      <td>621e2e8e67b776a24055b564</td>\n      <td>2021-05-31</td>\n      <td>13</td>\n      <td>intrinsic_regulation</td>\n    </tr>\n    <tr>\n      <th>1</th>\n      <td>621e2e8e67b776a24055b564</td>\n      <td>2021-07-26</td>\n      <td>13</td>\n      <td>intrinsic_regulation</td>\n    </tr>\n    <tr>\n      <th>0</th>\n      <td>621e2eaf67b776a2406b14ac</td>\n      <td>2021-11-29</td>\n      <td>11</td>\n      <td>identified_regulation</td>\n    </tr>\n    <tr>\n      <th>1</th>\n      <td>621e2eaf67b776a2406b14ac</td>\n      <td>2022-01-17</td>\n      <td>12</td>\n      <td>identified_regulation</td>\n    </tr>\n    <tr>\n      <th>0</th>\n      <td>621e2ed667b776a24085d8d1</td>\n      <td>2021-07-06</td>\n      <td>17</td>\n      <td>introjected_regulation</td>\n    </tr>\n    <tr>\n      <th>...</th>\n      <td>...</td>\n      <td>...</td>\n      <td>...</td>\n      <td>...</td>\n    </tr>\n    <tr>\n      <th>0</th>\n      <td>621e36c267b776a240ba2756</td>\n      <td>2021-05-31</td>\n      <td>13</td>\n      <td>intrinsic_regulation</td>\n    </tr>\n    <tr>\n      <th>0</th>\n      <td>621e36f967b776a240e5e7c9</td>\n      <td>2021-05-31</td>\n      <td>12</td>\n      <td>introjected_regulation</td>\n    </tr>\n    <tr>\n      <th>1</th>\n      <td>621e36f967b776a240e5e7c9</td>\n      <td>2021-07-26</td>\n      <td>12</td>\n      <td>introjected_regulation</td>\n    </tr>\n    <tr>\n      <th>0</th>\n      <td>621e375b67b776a240290cdc</td>\n      <td>2021-01-06</td>\n      <td>15</td>\n      <td>identified_regulation</td>\n    </tr>\n    <tr>\n      <th>1</th>\n      <td>621e375b67b776a240290cdc</td>\n      <td>2021-07-06</td>\n      <td>12</td>\n      <td>identified_regulation</td>\n    </tr>\n  </tbody>\n</table>\n<p>96 rows × 4 columns</p>\n</div>"
     },
     "execution_count": 14,
     "metadata": {},
     "output_type": "execute_result"
    }
   ],
   "source": [
    "breq = pd.DataFrame(columns=[\"user_id\", \"data\"])\n",
    "\n",
    "# read and load from MongoDB\n",
    "for user in users:\n",
    "    user_data = pd.DataFrame(list(\n",
    "        db.surveys.find({\"$and\": [\n",
    "            {\"type\": \"breq\"},\n",
    "            {\"user_id\": user}\n",
    "        ]},{\"_id\": 0})))\n",
    "    breq = pd.concat([breq, user_data], axis=0)\n",
    "\n",
    "# process the datetime object\n",
    "breq[\"date\"] = breq[\"data\"].apply(lambda d: d[\"submitdate\"])\n",
    "breq = data_loading.date_conversion(breq)\n",
    "\n",
    "# split data column (json format) into two columns (df format)\n",
    "for engage in range(1,20):\n",
    "    if engage < 10:\n",
    "        col_name = \"engage[SQ00{}]\".format(engage)\n",
    "    else:\n",
    "        col_name = \"engage[SQ0{}]\".format(engage)\n",
    "    breq[col_name] = breq[\"data\"].apply(lambda d: d[col_name])\n",
    "breq.drop(['data', 'type'], axis=1, inplace=True)\n",
    "\n",
    "# categorization and scoring of participants' regulations based on breq-2's scoring document\n",
    "breq[\"amotivation\"] = breq[[\"engage[SQ005]\", \"engage[SQ009]\", \"engage[SQ012]\", \"engage[SQ019]\"]].mean(axis=1)\n",
    "breq[\"external_regulation\"] = breq[[\"engage[SQ001]\", \"engage[SQ006]\", \"engage[SQ011]\", \"engage[SQ016]\"]].mean(axis=1)\n",
    "breq[\"introjected_regulation\"] = breq[[\"engage[SQ002]\", \"engage[SQ007]\", \"engage[SQ013]\"]].mean(axis=1)\n",
    "breq[\"identified_regulation\"] = breq[[\"engage[SQ003]\", \"engage[SQ008]\", \"engage[SQ014]\", \"engage[SQ017]\"]].mean(axis=1)\n",
    "breq[\"intrinsic_regulation\"] = breq[[\"engage[SQ004]\", \"engage[SQ010]\", \"engage[SQ015]\", \"engage[SQ018]\"]].mean(axis=1)\n",
    "\n",
    "# identify participants' final regulation based on the one collected the maximum score\n",
    "temp = breq[[\"amotivation\", \"external_regulation\", \"introjected_regulation\", \"identified_regulation\", \"intrinsic_regulation\"]].agg(['idxmax','max'], axis=1).mask(lambda x: x['max'].eq(0))\n",
    "breq.loc[:, \"self_determination\"] = temp.loc[:, \"idxmax\"]\n",
    "\n",
    "# drop unnecessary columns and rename columns\n",
    "breq.rename(columns={'user_id': 'id'}, inplace=True)\n",
    "breq = breq[['id', 'date', 'hour', 'self_determination']]\n",
    "\n",
    "# check for duplicates\n",
    "# Findings: 3 duplicates found based on (id, date) which is wrong, since this answer had to be collected max once at the beginning of the experiment and max once at the end of the experiment\n",
    "# Approach: keep the latest record\n",
    "breq.sort_values(by=['id', 'date', 'hour'], inplace=True)\n",
    "breq.drop_duplicates(subset=[\"id\", \"date\"], inplace=True, keep=\"last\")\n",
    "\n",
    "breq"
   ],
   "metadata": {
    "collapsed": false,
    "pycharm": {
     "name": "#%%\n"
    }
   }
  },
  {
   "cell_type": "code",
   "execution_count": 15,
   "outputs": [
    {
     "data": {
      "text/plain": "                              id       date  hour  ecg heart_rate_alert  \\\n0       621e2ff067b776a2403eb737 2021-12-22    19  NSR             NONE   \n1       621e2ff067b776a2403eb737 2021-11-18     0  NaN              NaN   \n2       621e2ff067b776a2403eb737 2021-11-18    21  NaN              NaN   \n3       621e2ff067b776a2403eb737 2021-11-20     0  NaN              NaN   \n4       621e2ff067b776a2403eb737 2021-11-20    23  NaN              NaN   \n...                          ...        ...   ...  ...              ...   \n164873  621e362467b776a2404ad513 2021-01-08    13  NaN              NaN   \n164874  621e362467b776a2404ad513 2021-02-06    11  NaN              NaN   \n164875  621e367e67b776a24087d75d 2022-01-27    18  NaN              NaN   \n164876  621e36f967b776a240e5e7c9 2021-07-26    12  NaN              NaN   \n164877  621e375b67b776a240290cdc 2021-01-06    15  NaN              NaN   \n\n       sensor_type nightly_temperature  nremhr  spo2  rmssd  ...        bpm  \\\n0              NaN                 NaN     NaN   NaN    NaN  ...  82.756007   \n1             SKIN            35.02573     NaN   NaN    NaN  ...  71.995227   \n2             SKIN           34.866951     NaN   NaN    NaN  ...  79.097606   \n3             SKIN           35.349583     NaN   NaN    NaN  ...  79.829004   \n4             SKIN           34.495486     NaN   NaN    NaN  ...  73.230942   \n...            ...                 ...     ...   ...    ...  ...        ...   \n164873         NaN                 NaN     NaN   NaN    NaN  ...        NaN   \n164874         NaN                 NaN     NaN   NaN    NaN  ...        NaN   \n164875         NaN                 NaN     NaN   NaN    NaN  ...        NaN   \n164876         NaN                 NaN     NaN   NaN    NaN  ...        NaN   \n164877         NaN                 NaN     NaN   NaN    NaN  ...        NaN   \n\n        gender  age   bmi  extraversion  agreeableness  conscientiousness  \\\n0       FEMALE  <30  >=25       Average  Above average      Below average   \n1       FEMALE  <30  >=25       Average  Above average      Below average   \n2       FEMALE  <30  >=25       Average  Above average      Below average   \n3       FEMALE  <30  >=25       Average  Above average      Below average   \n4       FEMALE  <30  >=25       Average  Above average      Below average   \n...        ...  ...   ...           ...            ...                ...   \n164873     NaN  NaN   NaN           NaN            NaN                NaN   \n164874     NaN  NaN   NaN           NaN            NaN                NaN   \n164875     NaN  NaN   NaN           NaN            NaN                NaN   \n164876     NaN  NaN   NaN           NaN            NaN                NaN   \n164877     NaN  NaN   NaN           NaN            NaN                NaN   \n\n            stability      intellect      self_determination  \n0       Below average  Below average                     NaN  \n1       Below average  Below average                     NaN  \n2       Below average  Below average                     NaN  \n3       Below average  Below average                     NaN  \n4       Below average  Below average                     NaN  \n...               ...            ...                     ...  \n164873            NaN            NaN    intrinsic_regulation  \n164874            NaN            NaN   identified_regulation  \n164875            NaN            NaN             amotivation  \n164876            NaN            NaN  introjected_regulation  \n164877            NaN            NaN   identified_regulation  \n\n[164878 rows x 82 columns]",
      "text/html": "<div>\n<style scoped>\n    .dataframe tbody tr th:only-of-type {\n        vertical-align: middle;\n    }\n\n    .dataframe tbody tr th {\n        vertical-align: top;\n    }\n\n    .dataframe thead th {\n        text-align: right;\n    }\n</style>\n<table border=\"1\" class=\"dataframe\">\n  <thead>\n    <tr style=\"text-align: right;\">\n      <th></th>\n      <th>id</th>\n      <th>date</th>\n      <th>hour</th>\n      <th>ecg</th>\n      <th>heart_rate_alert</th>\n      <th>sensor_type</th>\n      <th>nightly_temperature</th>\n      <th>nremhr</th>\n      <th>spo2</th>\n      <th>rmssd</th>\n      <th>...</th>\n      <th>bpm</th>\n      <th>gender</th>\n      <th>age</th>\n      <th>bmi</th>\n      <th>extraversion</th>\n      <th>agreeableness</th>\n      <th>conscientiousness</th>\n      <th>stability</th>\n      <th>intellect</th>\n      <th>self_determination</th>\n    </tr>\n  </thead>\n  <tbody>\n    <tr>\n      <th>0</th>\n      <td>621e2ff067b776a2403eb737</td>\n      <td>2021-12-22</td>\n      <td>19</td>\n      <td>NSR</td>\n      <td>NONE</td>\n      <td>NaN</td>\n      <td>NaN</td>\n      <td>NaN</td>\n      <td>NaN</td>\n      <td>NaN</td>\n      <td>...</td>\n      <td>82.756007</td>\n      <td>FEMALE</td>\n      <td>&lt;30</td>\n      <td>&gt;=25</td>\n      <td>Average</td>\n      <td>Above average</td>\n      <td>Below average</td>\n      <td>Below average</td>\n      <td>Below average</td>\n      <td>NaN</td>\n    </tr>\n    <tr>\n      <th>1</th>\n      <td>621e2ff067b776a2403eb737</td>\n      <td>2021-11-18</td>\n      <td>0</td>\n      <td>NaN</td>\n      <td>NaN</td>\n      <td>SKIN</td>\n      <td>35.02573</td>\n      <td>NaN</td>\n      <td>NaN</td>\n      <td>NaN</td>\n      <td>...</td>\n      <td>71.995227</td>\n      <td>FEMALE</td>\n      <td>&lt;30</td>\n      <td>&gt;=25</td>\n      <td>Average</td>\n      <td>Above average</td>\n      <td>Below average</td>\n      <td>Below average</td>\n      <td>Below average</td>\n      <td>NaN</td>\n    </tr>\n    <tr>\n      <th>2</th>\n      <td>621e2ff067b776a2403eb737</td>\n      <td>2021-11-18</td>\n      <td>21</td>\n      <td>NaN</td>\n      <td>NaN</td>\n      <td>SKIN</td>\n      <td>34.866951</td>\n      <td>NaN</td>\n      <td>NaN</td>\n      <td>NaN</td>\n      <td>...</td>\n      <td>79.097606</td>\n      <td>FEMALE</td>\n      <td>&lt;30</td>\n      <td>&gt;=25</td>\n      <td>Average</td>\n      <td>Above average</td>\n      <td>Below average</td>\n      <td>Below average</td>\n      <td>Below average</td>\n      <td>NaN</td>\n    </tr>\n    <tr>\n      <th>3</th>\n      <td>621e2ff067b776a2403eb737</td>\n      <td>2021-11-20</td>\n      <td>0</td>\n      <td>NaN</td>\n      <td>NaN</td>\n      <td>SKIN</td>\n      <td>35.349583</td>\n      <td>NaN</td>\n      <td>NaN</td>\n      <td>NaN</td>\n      <td>...</td>\n      <td>79.829004</td>\n      <td>FEMALE</td>\n      <td>&lt;30</td>\n      <td>&gt;=25</td>\n      <td>Average</td>\n      <td>Above average</td>\n      <td>Below average</td>\n      <td>Below average</td>\n      <td>Below average</td>\n      <td>NaN</td>\n    </tr>\n    <tr>\n      <th>4</th>\n      <td>621e2ff067b776a2403eb737</td>\n      <td>2021-11-20</td>\n      <td>23</td>\n      <td>NaN</td>\n      <td>NaN</td>\n      <td>SKIN</td>\n      <td>34.495486</td>\n      <td>NaN</td>\n      <td>NaN</td>\n      <td>NaN</td>\n      <td>...</td>\n      <td>73.230942</td>\n      <td>FEMALE</td>\n      <td>&lt;30</td>\n      <td>&gt;=25</td>\n      <td>Average</td>\n      <td>Above average</td>\n      <td>Below average</td>\n      <td>Below average</td>\n      <td>Below average</td>\n      <td>NaN</td>\n    </tr>\n    <tr>\n      <th>...</th>\n      <td>...</td>\n      <td>...</td>\n      <td>...</td>\n      <td>...</td>\n      <td>...</td>\n      <td>...</td>\n      <td>...</td>\n      <td>...</td>\n      <td>...</td>\n      <td>...</td>\n      <td>...</td>\n      <td>...</td>\n      <td>...</td>\n      <td>...</td>\n      <td>...</td>\n      <td>...</td>\n      <td>...</td>\n      <td>...</td>\n      <td>...</td>\n      <td>...</td>\n      <td>...</td>\n    </tr>\n    <tr>\n      <th>164873</th>\n      <td>621e362467b776a2404ad513</td>\n      <td>2021-01-08</td>\n      <td>13</td>\n      <td>NaN</td>\n      <td>NaN</td>\n      <td>NaN</td>\n      <td>NaN</td>\n      <td>NaN</td>\n      <td>NaN</td>\n      <td>NaN</td>\n      <td>...</td>\n      <td>NaN</td>\n      <td>NaN</td>\n      <td>NaN</td>\n      <td>NaN</td>\n      <td>NaN</td>\n      <td>NaN</td>\n      <td>NaN</td>\n      <td>NaN</td>\n      <td>NaN</td>\n      <td>intrinsic_regulation</td>\n    </tr>\n    <tr>\n      <th>164874</th>\n      <td>621e362467b776a2404ad513</td>\n      <td>2021-02-06</td>\n      <td>11</td>\n      <td>NaN</td>\n      <td>NaN</td>\n      <td>NaN</td>\n      <td>NaN</td>\n      <td>NaN</td>\n      <td>NaN</td>\n      <td>NaN</td>\n      <td>...</td>\n      <td>NaN</td>\n      <td>NaN</td>\n      <td>NaN</td>\n      <td>NaN</td>\n      <td>NaN</td>\n      <td>NaN</td>\n      <td>NaN</td>\n      <td>NaN</td>\n      <td>NaN</td>\n      <td>identified_regulation</td>\n    </tr>\n    <tr>\n      <th>164875</th>\n      <td>621e367e67b776a24087d75d</td>\n      <td>2022-01-27</td>\n      <td>18</td>\n      <td>NaN</td>\n      <td>NaN</td>\n      <td>NaN</td>\n      <td>NaN</td>\n      <td>NaN</td>\n      <td>NaN</td>\n      <td>NaN</td>\n      <td>...</td>\n      <td>NaN</td>\n      <td>NaN</td>\n      <td>NaN</td>\n      <td>NaN</td>\n      <td>NaN</td>\n      <td>NaN</td>\n      <td>NaN</td>\n      <td>NaN</td>\n      <td>NaN</td>\n      <td>amotivation</td>\n    </tr>\n    <tr>\n      <th>164876</th>\n      <td>621e36f967b776a240e5e7c9</td>\n      <td>2021-07-26</td>\n      <td>12</td>\n      <td>NaN</td>\n      <td>NaN</td>\n      <td>NaN</td>\n      <td>NaN</td>\n      <td>NaN</td>\n      <td>NaN</td>\n      <td>NaN</td>\n      <td>...</td>\n      <td>NaN</td>\n      <td>NaN</td>\n      <td>NaN</td>\n      <td>NaN</td>\n      <td>NaN</td>\n      <td>NaN</td>\n      <td>NaN</td>\n      <td>NaN</td>\n      <td>NaN</td>\n      <td>introjected_regulation</td>\n    </tr>\n    <tr>\n      <th>164877</th>\n      <td>621e375b67b776a240290cdc</td>\n      <td>2021-01-06</td>\n      <td>15</td>\n      <td>NaN</td>\n      <td>NaN</td>\n      <td>NaN</td>\n      <td>NaN</td>\n      <td>NaN</td>\n      <td>NaN</td>\n      <td>NaN</td>\n      <td>...</td>\n      <td>NaN</td>\n      <td>NaN</td>\n      <td>NaN</td>\n      <td>NaN</td>\n      <td>NaN</td>\n      <td>NaN</td>\n      <td>NaN</td>\n      <td>NaN</td>\n      <td>NaN</td>\n      <td>identified_regulation</td>\n    </tr>\n  </tbody>\n</table>\n<p>164878 rows × 82 columns</p>\n</div>"
     },
     "execution_count": 15,
     "metadata": {},
     "output_type": "execute_result"
    }
   ],
   "source": [
    "# merge with fitbit data\n",
    "df = df.merge(breq, how='outer', on=['id', 'date', 'hour'])\n",
    "df"
   ],
   "metadata": {
    "collapsed": false,
    "pycharm": {
     "name": "#%%\n"
    }
   }
  },
  {
   "cell_type": "markdown",
   "source": [
    "##### panas"
   ],
   "metadata": {
    "collapsed": false,
    "pycharm": {
     "name": "#%% md\n"
    }
   }
  },
  {
   "cell_type": "code",
   "execution_count": 16,
   "outputs": [
    {
     "data": {
      "text/plain": "                          id       date  hour positive_affect_score  \\\n2   621e2e8e67b776a24055b564 2021-05-31    13         Above average   \n4   621e2e8e67b776a24055b564 2021-06-28    17               Average   \n3   621e2e8e67b776a24055b564 2021-07-06    12         Above average   \n5   621e2e8e67b776a24055b564 2021-07-19    12         Above average   \n1   621e2e8e67b776a24055b564 2021-07-26    12         Above average   \n..                       ...        ...   ...                   ...   \n1   621e375367b776a24021e950 2022-02-01    17               Average   \n0   621e375b67b776a240290cdc 2021-01-06    14         Below average   \n3   621e375b67b776a240290cdc 2021-06-07    11               Average   \n2   621e375b67b776a240290cdc 2021-06-22    11               Average   \n1   621e375b67b776a240290cdc 2021-08-06    10               Average   \n\n   negative_affect_score  \n2          Below average  \n4          Below average  \n3          Below average  \n5          Below average  \n1          Below average  \n..                   ...  \n1          Above average  \n0          Above average  \n3          Above average  \n2          Above average  \n1          Above average  \n\n[278 rows x 5 columns]",
      "text/html": "<div>\n<style scoped>\n    .dataframe tbody tr th:only-of-type {\n        vertical-align: middle;\n    }\n\n    .dataframe tbody tr th {\n        vertical-align: top;\n    }\n\n    .dataframe thead th {\n        text-align: right;\n    }\n</style>\n<table border=\"1\" class=\"dataframe\">\n  <thead>\n    <tr style=\"text-align: right;\">\n      <th></th>\n      <th>id</th>\n      <th>date</th>\n      <th>hour</th>\n      <th>positive_affect_score</th>\n      <th>negative_affect_score</th>\n    </tr>\n  </thead>\n  <tbody>\n    <tr>\n      <th>2</th>\n      <td>621e2e8e67b776a24055b564</td>\n      <td>2021-05-31</td>\n      <td>13</td>\n      <td>Above average</td>\n      <td>Below average</td>\n    </tr>\n    <tr>\n      <th>4</th>\n      <td>621e2e8e67b776a24055b564</td>\n      <td>2021-06-28</td>\n      <td>17</td>\n      <td>Average</td>\n      <td>Below average</td>\n    </tr>\n    <tr>\n      <th>3</th>\n      <td>621e2e8e67b776a24055b564</td>\n      <td>2021-07-06</td>\n      <td>12</td>\n      <td>Above average</td>\n      <td>Below average</td>\n    </tr>\n    <tr>\n      <th>5</th>\n      <td>621e2e8e67b776a24055b564</td>\n      <td>2021-07-19</td>\n      <td>12</td>\n      <td>Above average</td>\n      <td>Below average</td>\n    </tr>\n    <tr>\n      <th>1</th>\n      <td>621e2e8e67b776a24055b564</td>\n      <td>2021-07-26</td>\n      <td>12</td>\n      <td>Above average</td>\n      <td>Below average</td>\n    </tr>\n    <tr>\n      <th>...</th>\n      <td>...</td>\n      <td>...</td>\n      <td>...</td>\n      <td>...</td>\n      <td>...</td>\n    </tr>\n    <tr>\n      <th>1</th>\n      <td>621e375367b776a24021e950</td>\n      <td>2022-02-01</td>\n      <td>17</td>\n      <td>Average</td>\n      <td>Above average</td>\n    </tr>\n    <tr>\n      <th>0</th>\n      <td>621e375b67b776a240290cdc</td>\n      <td>2021-01-06</td>\n      <td>14</td>\n      <td>Below average</td>\n      <td>Above average</td>\n    </tr>\n    <tr>\n      <th>3</th>\n      <td>621e375b67b776a240290cdc</td>\n      <td>2021-06-07</td>\n      <td>11</td>\n      <td>Average</td>\n      <td>Above average</td>\n    </tr>\n    <tr>\n      <th>2</th>\n      <td>621e375b67b776a240290cdc</td>\n      <td>2021-06-22</td>\n      <td>11</td>\n      <td>Average</td>\n      <td>Above average</td>\n    </tr>\n    <tr>\n      <th>1</th>\n      <td>621e375b67b776a240290cdc</td>\n      <td>2021-08-06</td>\n      <td>10</td>\n      <td>Average</td>\n      <td>Above average</td>\n    </tr>\n  </tbody>\n</table>\n<p>278 rows × 5 columns</p>\n</div>"
     },
     "execution_count": 16,
     "metadata": {},
     "output_type": "execute_result"
    }
   ],
   "source": [
    "panas = pd.DataFrame(columns=[\"user_id\", \"data\"])\n",
    "\n",
    "# read and load from MongoDB\n",
    "for user in users:\n",
    "    user_data = pd.DataFrame(list(\n",
    "        db.surveys.find({\"$and\": [\n",
    "            {\"type\": \"panas\"},\n",
    "            {\"user_id\": user}\n",
    "        ]},{\"_id\": 0})))\n",
    "    panas = pd.concat([panas, user_data], axis=0)\n",
    "\n",
    "# process the datetime object\n",
    "panas[\"date\"] = panas[\"data\"].apply(lambda d: d[\"submitdate\"])\n",
    "panas = data_loading.date_conversion(panas)\n",
    "\n",
    "# split data column (json format) into two columns (df format)\n",
    "for p in range(1,21):\n",
    "    if p < 10:\n",
    "        col_name = \"P1[SQ00{}]\".format(p)\n",
    "    else:\n",
    "        col_name = \"P1[SQ0{}]\".format(p)\n",
    "    panas[col_name] = panas[\"data\"].apply(lambda d: d[col_name])\n",
    "panas.drop(['data', 'type'], axis=1, inplace=True)\n",
    "\n",
    "# calculation of the score of negative and positive affect schedule\n",
    "positive = [\"P1[SQ001]\", \"P1[SQ003]\", \"P1[SQ005]\", \"P1[SQ009]\", \"P1[SQ010]\", \"P1[SQ012]\", \"P1[SQ014]\", \"P1[SQ016]\", \"P1[SQ017]\", \"P1[SQ019]\"]\n",
    "negative = [\"P1[SQ002]\", \"P1[SQ004]\", \"P1[SQ006]\", \"P1[SQ007]\", \"P1[SQ008]\", \"P1[SQ011]\", \"P1[SQ013]\", \"P1[SQ015]\", \"P1[SQ018]\", \"P1[SQ020]\"]\n",
    "panas[\"positive_affect_score\"] = panas[positive].sum(axis=1)\n",
    "panas[\"negative_affect_score\"] = panas[negative].sum(axis=1)\n",
    "\n",
    "# convert the score into stress category using mean and std\n",
    "negative_mean_panas = panas['negative_affect_score'].mean()\n",
    "negative_std_panas = panas['negative_affect_score'].std()\n",
    "panas['negative_affect_score'] = panas['negative_affect_score'].apply(lambda score: surveys_scoring.get_category(score, negative_mean_panas, negative_std_panas))\n",
    "positive_mean_panas = panas['positive_affect_score'].mean()\n",
    "positive_std_panas = panas['positive_affect_score'].std()\n",
    "panas['positive_affect_score'] = panas['positive_affect_score'].apply(lambda score: surveys_scoring.get_category(score, positive_mean_panas, positive_std_panas))\n",
    "\n",
    "# drop unnecessary columns and rename columns\n",
    "panas = panas[panas.columns.drop(list(panas.filter(regex='P1\\[SQ')))]\n",
    "panas.rename(columns={'user_id': 'id'}, inplace=True)\n",
    "\n",
    "# check for duplicates\n",
    "# Findings: 24 duplicates found based on (id, date) which is wrong, since this answer had to be collected max once per week\n",
    "# Approach: keep the latest record\n",
    "panas.sort_values(by=['id', 'date', 'hour'], inplace=True)\n",
    "panas.drop_duplicates(subset=[\"id\", \"date\"], inplace=True, keep=\"last\")\n",
    "\n",
    "panas"
   ],
   "metadata": {
    "collapsed": false,
    "pycharm": {
     "name": "#%%\n"
    }
   }
  },
  {
   "cell_type": "code",
   "execution_count": 17,
   "outputs": [
    {
     "data": {
      "text/plain": "                              id       date  hour  ecg heart_rate_alert  \\\n0       621e2ff067b776a2403eb737 2021-12-22    19  NSR             NONE   \n1       621e2ff067b776a2403eb737 2021-11-18     0  NaN              NaN   \n2       621e2ff067b776a2403eb737 2021-11-18    21  NaN              NaN   \n3       621e2ff067b776a2403eb737 2021-11-20     0  NaN              NaN   \n4       621e2ff067b776a2403eb737 2021-11-20    23  NaN              NaN   \n...                          ...        ...   ...  ...              ...   \n164948  621e367e67b776a24087d75d 2022-07-01     9  NaN              NaN   \n164949  621e36f967b776a240e5e7c9 2021-05-07    11  NaN              NaN   \n164950  621e36f967b776a240e5e7c9 2021-12-07    11  NaN              NaN   \n164951  621e375367b776a24021e950 2022-02-01    17  NaN              NaN   \n164952  621e375b67b776a240290cdc 2021-01-06    14  NaN              NaN   \n\n       sensor_type nightly_temperature  nremhr  spo2  rmssd  ...  age   bmi  \\\n0              NaN                 NaN     NaN   NaN    NaN  ...  <30  >=25   \n1             SKIN            35.02573     NaN   NaN    NaN  ...  <30  >=25   \n2             SKIN           34.866951     NaN   NaN    NaN  ...  <30  >=25   \n3             SKIN           35.349583     NaN   NaN    NaN  ...  <30  >=25   \n4             SKIN           34.495486     NaN   NaN    NaN  ...  <30  >=25   \n...            ...                 ...     ...   ...    ...  ...  ...   ...   \n164948         NaN                 NaN     NaN   NaN    NaN  ...  NaN   NaN   \n164949         NaN                 NaN     NaN   NaN    NaN  ...  NaN   NaN   \n164950         NaN                 NaN     NaN   NaN    NaN  ...  NaN   NaN   \n164951         NaN                 NaN     NaN   NaN    NaN  ...  NaN   NaN   \n164952         NaN                 NaN     NaN   NaN    NaN  ...  NaN   NaN   \n\n        extraversion  agreeableness  conscientiousness      stability  \\\n0            Average  Above average      Below average  Below average   \n1            Average  Above average      Below average  Below average   \n2            Average  Above average      Below average  Below average   \n3            Average  Above average      Below average  Below average   \n4            Average  Above average      Below average  Below average   \n...              ...            ...                ...            ...   \n164948           NaN            NaN                NaN            NaN   \n164949           NaN            NaN                NaN            NaN   \n164950           NaN            NaN                NaN            NaN   \n164951           NaN            NaN                NaN            NaN   \n164952           NaN            NaN                NaN            NaN   \n\n            intellect  self_determination  positive_affect_score  \\\n0       Below average                 NaN                    NaN   \n1       Below average                 NaN                    NaN   \n2       Below average                 NaN                    NaN   \n3       Below average                 NaN                    NaN   \n4       Below average                 NaN                    NaN   \n...               ...                 ...                    ...   \n164948            NaN                 NaN                Average   \n164949            NaN                 NaN          Above average   \n164950            NaN                 NaN                Average   \n164951            NaN                 NaN                Average   \n164952            NaN                 NaN          Below average   \n\n        negative_affect_score  \n0                         NaN  \n1                         NaN  \n2                         NaN  \n3                         NaN  \n4                         NaN  \n...                       ...  \n164948                Average  \n164949          Below average  \n164950                Average  \n164951          Above average  \n164952          Above average  \n\n[164953 rows x 84 columns]",
      "text/html": "<div>\n<style scoped>\n    .dataframe tbody tr th:only-of-type {\n        vertical-align: middle;\n    }\n\n    .dataframe tbody tr th {\n        vertical-align: top;\n    }\n\n    .dataframe thead th {\n        text-align: right;\n    }\n</style>\n<table border=\"1\" class=\"dataframe\">\n  <thead>\n    <tr style=\"text-align: right;\">\n      <th></th>\n      <th>id</th>\n      <th>date</th>\n      <th>hour</th>\n      <th>ecg</th>\n      <th>heart_rate_alert</th>\n      <th>sensor_type</th>\n      <th>nightly_temperature</th>\n      <th>nremhr</th>\n      <th>spo2</th>\n      <th>rmssd</th>\n      <th>...</th>\n      <th>age</th>\n      <th>bmi</th>\n      <th>extraversion</th>\n      <th>agreeableness</th>\n      <th>conscientiousness</th>\n      <th>stability</th>\n      <th>intellect</th>\n      <th>self_determination</th>\n      <th>positive_affect_score</th>\n      <th>negative_affect_score</th>\n    </tr>\n  </thead>\n  <tbody>\n    <tr>\n      <th>0</th>\n      <td>621e2ff067b776a2403eb737</td>\n      <td>2021-12-22</td>\n      <td>19</td>\n      <td>NSR</td>\n      <td>NONE</td>\n      <td>NaN</td>\n      <td>NaN</td>\n      <td>NaN</td>\n      <td>NaN</td>\n      <td>NaN</td>\n      <td>...</td>\n      <td>&lt;30</td>\n      <td>&gt;=25</td>\n      <td>Average</td>\n      <td>Above average</td>\n      <td>Below average</td>\n      <td>Below average</td>\n      <td>Below average</td>\n      <td>NaN</td>\n      <td>NaN</td>\n      <td>NaN</td>\n    </tr>\n    <tr>\n      <th>1</th>\n      <td>621e2ff067b776a2403eb737</td>\n      <td>2021-11-18</td>\n      <td>0</td>\n      <td>NaN</td>\n      <td>NaN</td>\n      <td>SKIN</td>\n      <td>35.02573</td>\n      <td>NaN</td>\n      <td>NaN</td>\n      <td>NaN</td>\n      <td>...</td>\n      <td>&lt;30</td>\n      <td>&gt;=25</td>\n      <td>Average</td>\n      <td>Above average</td>\n      <td>Below average</td>\n      <td>Below average</td>\n      <td>Below average</td>\n      <td>NaN</td>\n      <td>NaN</td>\n      <td>NaN</td>\n    </tr>\n    <tr>\n      <th>2</th>\n      <td>621e2ff067b776a2403eb737</td>\n      <td>2021-11-18</td>\n      <td>21</td>\n      <td>NaN</td>\n      <td>NaN</td>\n      <td>SKIN</td>\n      <td>34.866951</td>\n      <td>NaN</td>\n      <td>NaN</td>\n      <td>NaN</td>\n      <td>...</td>\n      <td>&lt;30</td>\n      <td>&gt;=25</td>\n      <td>Average</td>\n      <td>Above average</td>\n      <td>Below average</td>\n      <td>Below average</td>\n      <td>Below average</td>\n      <td>NaN</td>\n      <td>NaN</td>\n      <td>NaN</td>\n    </tr>\n    <tr>\n      <th>3</th>\n      <td>621e2ff067b776a2403eb737</td>\n      <td>2021-11-20</td>\n      <td>0</td>\n      <td>NaN</td>\n      <td>NaN</td>\n      <td>SKIN</td>\n      <td>35.349583</td>\n      <td>NaN</td>\n      <td>NaN</td>\n      <td>NaN</td>\n      <td>...</td>\n      <td>&lt;30</td>\n      <td>&gt;=25</td>\n      <td>Average</td>\n      <td>Above average</td>\n      <td>Below average</td>\n      <td>Below average</td>\n      <td>Below average</td>\n      <td>NaN</td>\n      <td>NaN</td>\n      <td>NaN</td>\n    </tr>\n    <tr>\n      <th>4</th>\n      <td>621e2ff067b776a2403eb737</td>\n      <td>2021-11-20</td>\n      <td>23</td>\n      <td>NaN</td>\n      <td>NaN</td>\n      <td>SKIN</td>\n      <td>34.495486</td>\n      <td>NaN</td>\n      <td>NaN</td>\n      <td>NaN</td>\n      <td>...</td>\n      <td>&lt;30</td>\n      <td>&gt;=25</td>\n      <td>Average</td>\n      <td>Above average</td>\n      <td>Below average</td>\n      <td>Below average</td>\n      <td>Below average</td>\n      <td>NaN</td>\n      <td>NaN</td>\n      <td>NaN</td>\n    </tr>\n    <tr>\n      <th>...</th>\n      <td>...</td>\n      <td>...</td>\n      <td>...</td>\n      <td>...</td>\n      <td>...</td>\n      <td>...</td>\n      <td>...</td>\n      <td>...</td>\n      <td>...</td>\n      <td>...</td>\n      <td>...</td>\n      <td>...</td>\n      <td>...</td>\n      <td>...</td>\n      <td>...</td>\n      <td>...</td>\n      <td>...</td>\n      <td>...</td>\n      <td>...</td>\n      <td>...</td>\n      <td>...</td>\n    </tr>\n    <tr>\n      <th>164948</th>\n      <td>621e367e67b776a24087d75d</td>\n      <td>2022-07-01</td>\n      <td>9</td>\n      <td>NaN</td>\n      <td>NaN</td>\n      <td>NaN</td>\n      <td>NaN</td>\n      <td>NaN</td>\n      <td>NaN</td>\n      <td>NaN</td>\n      <td>...</td>\n      <td>NaN</td>\n      <td>NaN</td>\n      <td>NaN</td>\n      <td>NaN</td>\n      <td>NaN</td>\n      <td>NaN</td>\n      <td>NaN</td>\n      <td>NaN</td>\n      <td>Average</td>\n      <td>Average</td>\n    </tr>\n    <tr>\n      <th>164949</th>\n      <td>621e36f967b776a240e5e7c9</td>\n      <td>2021-05-07</td>\n      <td>11</td>\n      <td>NaN</td>\n      <td>NaN</td>\n      <td>NaN</td>\n      <td>NaN</td>\n      <td>NaN</td>\n      <td>NaN</td>\n      <td>NaN</td>\n      <td>...</td>\n      <td>NaN</td>\n      <td>NaN</td>\n      <td>NaN</td>\n      <td>NaN</td>\n      <td>NaN</td>\n      <td>NaN</td>\n      <td>NaN</td>\n      <td>NaN</td>\n      <td>Above average</td>\n      <td>Below average</td>\n    </tr>\n    <tr>\n      <th>164950</th>\n      <td>621e36f967b776a240e5e7c9</td>\n      <td>2021-12-07</td>\n      <td>11</td>\n      <td>NaN</td>\n      <td>NaN</td>\n      <td>NaN</td>\n      <td>NaN</td>\n      <td>NaN</td>\n      <td>NaN</td>\n      <td>NaN</td>\n      <td>...</td>\n      <td>NaN</td>\n      <td>NaN</td>\n      <td>NaN</td>\n      <td>NaN</td>\n      <td>NaN</td>\n      <td>NaN</td>\n      <td>NaN</td>\n      <td>NaN</td>\n      <td>Average</td>\n      <td>Average</td>\n    </tr>\n    <tr>\n      <th>164951</th>\n      <td>621e375367b776a24021e950</td>\n      <td>2022-02-01</td>\n      <td>17</td>\n      <td>NaN</td>\n      <td>NaN</td>\n      <td>NaN</td>\n      <td>NaN</td>\n      <td>NaN</td>\n      <td>NaN</td>\n      <td>NaN</td>\n      <td>...</td>\n      <td>NaN</td>\n      <td>NaN</td>\n      <td>NaN</td>\n      <td>NaN</td>\n      <td>NaN</td>\n      <td>NaN</td>\n      <td>NaN</td>\n      <td>NaN</td>\n      <td>Average</td>\n      <td>Above average</td>\n    </tr>\n    <tr>\n      <th>164952</th>\n      <td>621e375b67b776a240290cdc</td>\n      <td>2021-01-06</td>\n      <td>14</td>\n      <td>NaN</td>\n      <td>NaN</td>\n      <td>NaN</td>\n      <td>NaN</td>\n      <td>NaN</td>\n      <td>NaN</td>\n      <td>NaN</td>\n      <td>...</td>\n      <td>NaN</td>\n      <td>NaN</td>\n      <td>NaN</td>\n      <td>NaN</td>\n      <td>NaN</td>\n      <td>NaN</td>\n      <td>NaN</td>\n      <td>NaN</td>\n      <td>Below average</td>\n      <td>Above average</td>\n    </tr>\n  </tbody>\n</table>\n<p>164953 rows × 84 columns</p>\n</div>"
     },
     "execution_count": 17,
     "metadata": {},
     "output_type": "execute_result"
    }
   ],
   "source": [
    "# merge with fitbit data\n",
    "df = df.merge(panas, how='outer', on=['id', 'date', 'hour'])\n",
    "df"
   ],
   "metadata": {
    "collapsed": false,
    "pycharm": {
     "name": "#%%\n"
    }
   }
  },
  {
   "cell_type": "markdown",
   "source": [
    "##### stai"
   ],
   "metadata": {
    "collapsed": false,
    "pycharm": {
     "name": "#%% md\n"
    }
   }
  },
  {
   "cell_type": "code",
   "execution_count": 18,
   "outputs": [
    {
     "data": {
      "text/plain": "                          id       date  hour    stai_stress\n0   621e2e8e67b776a24055b564 2021-05-31    13  Below average\n5   621e2e8e67b776a24055b564 2021-06-28    17  Above average\n1   621e2e8e67b776a24055b564 2021-07-06    12  Below average\n3   621e2e8e67b776a24055b564 2021-07-19    12  Below average\n4   621e2e8e67b776a24055b564 2021-07-26    12  Below average\n..                       ...        ...   ...            ...\n2   621e375b67b776a240290cdc 2021-01-06    14  Above average\n1   621e375b67b776a240290cdc 2021-06-07    11  Above average\n3   621e375b67b776a240290cdc 2021-06-22    11  Above average\n0   621e375b67b776a240290cdc 2021-08-06    10  Above average\n4   621e375b67b776a240290cdc 2021-12-07    12        Average\n\n[289 rows x 4 columns]",
      "text/html": "<div>\n<style scoped>\n    .dataframe tbody tr th:only-of-type {\n        vertical-align: middle;\n    }\n\n    .dataframe tbody tr th {\n        vertical-align: top;\n    }\n\n    .dataframe thead th {\n        text-align: right;\n    }\n</style>\n<table border=\"1\" class=\"dataframe\">\n  <thead>\n    <tr style=\"text-align: right;\">\n      <th></th>\n      <th>id</th>\n      <th>date</th>\n      <th>hour</th>\n      <th>stai_stress</th>\n    </tr>\n  </thead>\n  <tbody>\n    <tr>\n      <th>0</th>\n      <td>621e2e8e67b776a24055b564</td>\n      <td>2021-05-31</td>\n      <td>13</td>\n      <td>Below average</td>\n    </tr>\n    <tr>\n      <th>5</th>\n      <td>621e2e8e67b776a24055b564</td>\n      <td>2021-06-28</td>\n      <td>17</td>\n      <td>Above average</td>\n    </tr>\n    <tr>\n      <th>1</th>\n      <td>621e2e8e67b776a24055b564</td>\n      <td>2021-07-06</td>\n      <td>12</td>\n      <td>Below average</td>\n    </tr>\n    <tr>\n      <th>3</th>\n      <td>621e2e8e67b776a24055b564</td>\n      <td>2021-07-19</td>\n      <td>12</td>\n      <td>Below average</td>\n    </tr>\n    <tr>\n      <th>4</th>\n      <td>621e2e8e67b776a24055b564</td>\n      <td>2021-07-26</td>\n      <td>12</td>\n      <td>Below average</td>\n    </tr>\n    <tr>\n      <th>...</th>\n      <td>...</td>\n      <td>...</td>\n      <td>...</td>\n      <td>...</td>\n    </tr>\n    <tr>\n      <th>2</th>\n      <td>621e375b67b776a240290cdc</td>\n      <td>2021-01-06</td>\n      <td>14</td>\n      <td>Above average</td>\n    </tr>\n    <tr>\n      <th>1</th>\n      <td>621e375b67b776a240290cdc</td>\n      <td>2021-06-07</td>\n      <td>11</td>\n      <td>Above average</td>\n    </tr>\n    <tr>\n      <th>3</th>\n      <td>621e375b67b776a240290cdc</td>\n      <td>2021-06-22</td>\n      <td>11</td>\n      <td>Above average</td>\n    </tr>\n    <tr>\n      <th>0</th>\n      <td>621e375b67b776a240290cdc</td>\n      <td>2021-08-06</td>\n      <td>10</td>\n      <td>Above average</td>\n    </tr>\n    <tr>\n      <th>4</th>\n      <td>621e375b67b776a240290cdc</td>\n      <td>2021-12-07</td>\n      <td>12</td>\n      <td>Average</td>\n    </tr>\n  </tbody>\n</table>\n<p>289 rows × 4 columns</p>\n</div>"
     },
     "execution_count": 18,
     "metadata": {},
     "output_type": "execute_result"
    }
   ],
   "source": [
    "stai = pd.DataFrame(columns=[\"user_id\", \"data\"])\n",
    "\n",
    "# read and load from MongoDB\n",
    "for user in users:\n",
    "    user_data = pd.DataFrame(list(\n",
    "        db.surveys.find({\"$and\": [\n",
    "            {\"type\": \"stai\"},\n",
    "            {\"user_id\": user}\n",
    "        ]},{\"_id\": 0})))\n",
    "    stai = pd.concat([stai, user_data], axis=0)\n",
    "\n",
    "# process the datetime object\n",
    "stai[\"date\"] = stai[\"data\"].apply(lambda d: d[\"submitdate\"])\n",
    "stai = data_loading.date_conversion(stai)\n",
    "\n",
    "# split data column (json format) into two columns (df format)\n",
    "for engage in range(1,21):\n",
    "    if engage < 10:\n",
    "        col_name = \"STAI[SQ00{}]\".format(engage)\n",
    "    else:\n",
    "        col_name = \"STAI[SQ0{}]\".format(engage)\n",
    "    stai[col_name] = stai[\"data\"].apply(lambda d: d[col_name])\n",
    "stai.drop(['data', 'type'], axis=1, inplace=True)\n",
    "\n",
    "# convert 5-likert to 4-likert scale (mistakenly the STAI scale was distributed with a 5-likert, but it's originally 4-likert)\n",
    "stai.iloc[:, 3:] = stai.iloc[:, 3:].apply(lambda x: surveys_scoring.convert_5_to_4_likert(x))\n",
    "for col in stai.iloc[:, 3:].columns:\n",
    "    stai[col] = stai[col].apply(lambda x: surveys_scoring.proper_round(x))\n",
    "\n",
    "# Based on the scoring document: https://www.advancedassessments.co.uk/resources/Mental-Health-Test.pdf, some questions are reversed in STAI\n",
    "stai_reversed = [\"STAI[SQ001]\", \"STAI[SQ002]\", \"STAI[SQ005]\", \"STAI[SQ008]\", \"STAI[SQ010]\", \"STAI[SQ011]\", \"STAI[SQ015]\", \"STAI[SQ016]\", \"STAI[SQ019]\", \"STAI[SQ020]\"]\n",
    "for col in stai.columns:\n",
    "    if col in stai_reversed:\n",
    "        stai[col] = stai[col].apply(lambda score: surveys_scoring.inverse_score(score, 1, 4))\n",
    "# to calculate the total stress score simply sum per\n",
    "stai['stai_stress'] = stai.iloc[:, 3:].sum(axis=1)\n",
    "\n",
    "# convert the score into stress category using mean and std\n",
    "mean_stai = stai['stai_stress'].mean()\n",
    "std_stai = stai['stai_stress'].std()\n",
    "stai['stai_stress'] = stai['stai_stress'].apply(lambda score: surveys_scoring.get_category(score, mean_stai, std_stai))\n",
    "\n",
    "# drop unnecessary columns and rename columns\n",
    "stai = stai[stai.columns.drop(list(stai.filter(regex='STAI\\[SQ')))]\n",
    "stai.rename(columns={'user_id': 'id'}, inplace=True)\n",
    "\n",
    "# check for duplicates\n",
    "# Findings: 25 duplicates found based on (id, date) which is wrong, since this answer had to be collected max once per week\n",
    "# Approach: keep the latest record\n",
    "stai.sort_values(by=['id', 'date', 'hour'], inplace=True)\n",
    "stai.drop_duplicates(subset=[\"id\", \"date\"], inplace=True, keep=\"last\")\n",
    "\n",
    "stai"
   ],
   "metadata": {
    "collapsed": false,
    "pycharm": {
     "name": "#%%\n"
    }
   }
  },
  {
   "cell_type": "code",
   "execution_count": 19,
   "outputs": [
    {
     "data": {
      "text/plain": "                              id       date  hour  ecg heart_rate_alert  \\\n0       621e2ff067b776a2403eb737 2021-12-22    19  NSR             NONE   \n1       621e2ff067b776a2403eb737 2021-11-18     0  NaN              NaN   \n2       621e2ff067b776a2403eb737 2021-11-18    21  NaN              NaN   \n3       621e2ff067b776a2403eb737 2021-11-20     0  NaN              NaN   \n4       621e2ff067b776a2403eb737 2021-11-20    23  NaN              NaN   \n...                          ...        ...   ...  ...              ...   \n164954  621e2fce67b776a240279baa 2021-12-06    10  NaN              NaN   \n164955  621e312a67b776a240164d59 2022-03-01    10  NaN              NaN   \n164956  621e356967b776a24027bd9f 2022-03-01    11  NaN              NaN   \n164957  621e362467b776a2404ad513 2021-04-07    18  NaN              NaN   \n164958  621e375b67b776a240290cdc 2021-12-07    12  NaN              NaN   \n\n       sensor_type nightly_temperature  nremhr  spo2  rmssd  ...   bmi  \\\n0              NaN                 NaN     NaN   NaN    NaN  ...  >=25   \n1             SKIN            35.02573     NaN   NaN    NaN  ...  >=25   \n2             SKIN           34.866951     NaN   NaN    NaN  ...  >=25   \n3             SKIN           35.349583     NaN   NaN    NaN  ...  >=25   \n4             SKIN           34.495486     NaN   NaN    NaN  ...  >=25   \n...            ...                 ...     ...   ...    ...  ...   ...   \n164954         NaN                 NaN     NaN   NaN    NaN  ...   NaN   \n164955         NaN                 NaN     NaN   NaN    NaN  ...   NaN   \n164956         NaN                 NaN     NaN   NaN    NaN  ...   NaN   \n164957         NaN                 NaN     NaN   NaN    NaN  ...   NaN   \n164958         NaN                 NaN     NaN   NaN    NaN  ...   NaN   \n\n        extraversion  agreeableness  conscientiousness      stability  \\\n0            Average  Above average      Below average  Below average   \n1            Average  Above average      Below average  Below average   \n2            Average  Above average      Below average  Below average   \n3            Average  Above average      Below average  Below average   \n4            Average  Above average      Below average  Below average   \n...              ...            ...                ...            ...   \n164954           NaN            NaN                NaN            NaN   \n164955           NaN            NaN                NaN            NaN   \n164956           NaN            NaN                NaN            NaN   \n164957           NaN            NaN                NaN            NaN   \n164958           NaN            NaN                NaN            NaN   \n\n            intellect  self_determination  positive_affect_score  \\\n0       Below average                 NaN                    NaN   \n1       Below average                 NaN                    NaN   \n2       Below average                 NaN                    NaN   \n3       Below average                 NaN                    NaN   \n4       Below average                 NaN                    NaN   \n...               ...                 ...                    ...   \n164954            NaN                 NaN                    NaN   \n164955            NaN                 NaN                    NaN   \n164956            NaN                 NaN                    NaN   \n164957            NaN                 NaN                    NaN   \n164958            NaN                 NaN                    NaN   \n\n        negative_affect_score    stai_stress  \n0                         NaN            NaN  \n1                         NaN            NaN  \n2                         NaN            NaN  \n3                         NaN            NaN  \n4                         NaN            NaN  \n...                       ...            ...  \n164954                    NaN  Above average  \n164955                    NaN  Above average  \n164956                    NaN  Below average  \n164957                    NaN  Below average  \n164958                    NaN        Average  \n\n[164959 rows x 85 columns]",
      "text/html": "<div>\n<style scoped>\n    .dataframe tbody tr th:only-of-type {\n        vertical-align: middle;\n    }\n\n    .dataframe tbody tr th {\n        vertical-align: top;\n    }\n\n    .dataframe thead th {\n        text-align: right;\n    }\n</style>\n<table border=\"1\" class=\"dataframe\">\n  <thead>\n    <tr style=\"text-align: right;\">\n      <th></th>\n      <th>id</th>\n      <th>date</th>\n      <th>hour</th>\n      <th>ecg</th>\n      <th>heart_rate_alert</th>\n      <th>sensor_type</th>\n      <th>nightly_temperature</th>\n      <th>nremhr</th>\n      <th>spo2</th>\n      <th>rmssd</th>\n      <th>...</th>\n      <th>bmi</th>\n      <th>extraversion</th>\n      <th>agreeableness</th>\n      <th>conscientiousness</th>\n      <th>stability</th>\n      <th>intellect</th>\n      <th>self_determination</th>\n      <th>positive_affect_score</th>\n      <th>negative_affect_score</th>\n      <th>stai_stress</th>\n    </tr>\n  </thead>\n  <tbody>\n    <tr>\n      <th>0</th>\n      <td>621e2ff067b776a2403eb737</td>\n      <td>2021-12-22</td>\n      <td>19</td>\n      <td>NSR</td>\n      <td>NONE</td>\n      <td>NaN</td>\n      <td>NaN</td>\n      <td>NaN</td>\n      <td>NaN</td>\n      <td>NaN</td>\n      <td>...</td>\n      <td>&gt;=25</td>\n      <td>Average</td>\n      <td>Above average</td>\n      <td>Below average</td>\n      <td>Below average</td>\n      <td>Below average</td>\n      <td>NaN</td>\n      <td>NaN</td>\n      <td>NaN</td>\n      <td>NaN</td>\n    </tr>\n    <tr>\n      <th>1</th>\n      <td>621e2ff067b776a2403eb737</td>\n      <td>2021-11-18</td>\n      <td>0</td>\n      <td>NaN</td>\n      <td>NaN</td>\n      <td>SKIN</td>\n      <td>35.02573</td>\n      <td>NaN</td>\n      <td>NaN</td>\n      <td>NaN</td>\n      <td>...</td>\n      <td>&gt;=25</td>\n      <td>Average</td>\n      <td>Above average</td>\n      <td>Below average</td>\n      <td>Below average</td>\n      <td>Below average</td>\n      <td>NaN</td>\n      <td>NaN</td>\n      <td>NaN</td>\n      <td>NaN</td>\n    </tr>\n    <tr>\n      <th>2</th>\n      <td>621e2ff067b776a2403eb737</td>\n      <td>2021-11-18</td>\n      <td>21</td>\n      <td>NaN</td>\n      <td>NaN</td>\n      <td>SKIN</td>\n      <td>34.866951</td>\n      <td>NaN</td>\n      <td>NaN</td>\n      <td>NaN</td>\n      <td>...</td>\n      <td>&gt;=25</td>\n      <td>Average</td>\n      <td>Above average</td>\n      <td>Below average</td>\n      <td>Below average</td>\n      <td>Below average</td>\n      <td>NaN</td>\n      <td>NaN</td>\n      <td>NaN</td>\n      <td>NaN</td>\n    </tr>\n    <tr>\n      <th>3</th>\n      <td>621e2ff067b776a2403eb737</td>\n      <td>2021-11-20</td>\n      <td>0</td>\n      <td>NaN</td>\n      <td>NaN</td>\n      <td>SKIN</td>\n      <td>35.349583</td>\n      <td>NaN</td>\n      <td>NaN</td>\n      <td>NaN</td>\n      <td>...</td>\n      <td>&gt;=25</td>\n      <td>Average</td>\n      <td>Above average</td>\n      <td>Below average</td>\n      <td>Below average</td>\n      <td>Below average</td>\n      <td>NaN</td>\n      <td>NaN</td>\n      <td>NaN</td>\n      <td>NaN</td>\n    </tr>\n    <tr>\n      <th>4</th>\n      <td>621e2ff067b776a2403eb737</td>\n      <td>2021-11-20</td>\n      <td>23</td>\n      <td>NaN</td>\n      <td>NaN</td>\n      <td>SKIN</td>\n      <td>34.495486</td>\n      <td>NaN</td>\n      <td>NaN</td>\n      <td>NaN</td>\n      <td>...</td>\n      <td>&gt;=25</td>\n      <td>Average</td>\n      <td>Above average</td>\n      <td>Below average</td>\n      <td>Below average</td>\n      <td>Below average</td>\n      <td>NaN</td>\n      <td>NaN</td>\n      <td>NaN</td>\n      <td>NaN</td>\n    </tr>\n    <tr>\n      <th>...</th>\n      <td>...</td>\n      <td>...</td>\n      <td>...</td>\n      <td>...</td>\n      <td>...</td>\n      <td>...</td>\n      <td>...</td>\n      <td>...</td>\n      <td>...</td>\n      <td>...</td>\n      <td>...</td>\n      <td>...</td>\n      <td>...</td>\n      <td>...</td>\n      <td>...</td>\n      <td>...</td>\n      <td>...</td>\n      <td>...</td>\n      <td>...</td>\n      <td>...</td>\n      <td>...</td>\n    </tr>\n    <tr>\n      <th>164954</th>\n      <td>621e2fce67b776a240279baa</td>\n      <td>2021-12-06</td>\n      <td>10</td>\n      <td>NaN</td>\n      <td>NaN</td>\n      <td>NaN</td>\n      <td>NaN</td>\n      <td>NaN</td>\n      <td>NaN</td>\n      <td>NaN</td>\n      <td>...</td>\n      <td>NaN</td>\n      <td>NaN</td>\n      <td>NaN</td>\n      <td>NaN</td>\n      <td>NaN</td>\n      <td>NaN</td>\n      <td>NaN</td>\n      <td>NaN</td>\n      <td>NaN</td>\n      <td>Above average</td>\n    </tr>\n    <tr>\n      <th>164955</th>\n      <td>621e312a67b776a240164d59</td>\n      <td>2022-03-01</td>\n      <td>10</td>\n      <td>NaN</td>\n      <td>NaN</td>\n      <td>NaN</td>\n      <td>NaN</td>\n      <td>NaN</td>\n      <td>NaN</td>\n      <td>NaN</td>\n      <td>...</td>\n      <td>NaN</td>\n      <td>NaN</td>\n      <td>NaN</td>\n      <td>NaN</td>\n      <td>NaN</td>\n      <td>NaN</td>\n      <td>NaN</td>\n      <td>NaN</td>\n      <td>NaN</td>\n      <td>Above average</td>\n    </tr>\n    <tr>\n      <th>164956</th>\n      <td>621e356967b776a24027bd9f</td>\n      <td>2022-03-01</td>\n      <td>11</td>\n      <td>NaN</td>\n      <td>NaN</td>\n      <td>NaN</td>\n      <td>NaN</td>\n      <td>NaN</td>\n      <td>NaN</td>\n      <td>NaN</td>\n      <td>...</td>\n      <td>NaN</td>\n      <td>NaN</td>\n      <td>NaN</td>\n      <td>NaN</td>\n      <td>NaN</td>\n      <td>NaN</td>\n      <td>NaN</td>\n      <td>NaN</td>\n      <td>NaN</td>\n      <td>Below average</td>\n    </tr>\n    <tr>\n      <th>164957</th>\n      <td>621e362467b776a2404ad513</td>\n      <td>2021-04-07</td>\n      <td>18</td>\n      <td>NaN</td>\n      <td>NaN</td>\n      <td>NaN</td>\n      <td>NaN</td>\n      <td>NaN</td>\n      <td>NaN</td>\n      <td>NaN</td>\n      <td>...</td>\n      <td>NaN</td>\n      <td>NaN</td>\n      <td>NaN</td>\n      <td>NaN</td>\n      <td>NaN</td>\n      <td>NaN</td>\n      <td>NaN</td>\n      <td>NaN</td>\n      <td>NaN</td>\n      <td>Below average</td>\n    </tr>\n    <tr>\n      <th>164958</th>\n      <td>621e375b67b776a240290cdc</td>\n      <td>2021-12-07</td>\n      <td>12</td>\n      <td>NaN</td>\n      <td>NaN</td>\n      <td>NaN</td>\n      <td>NaN</td>\n      <td>NaN</td>\n      <td>NaN</td>\n      <td>NaN</td>\n      <td>...</td>\n      <td>NaN</td>\n      <td>NaN</td>\n      <td>NaN</td>\n      <td>NaN</td>\n      <td>NaN</td>\n      <td>NaN</td>\n      <td>NaN</td>\n      <td>NaN</td>\n      <td>NaN</td>\n      <td>Average</td>\n    </tr>\n  </tbody>\n</table>\n<p>164959 rows × 85 columns</p>\n</div>"
     },
     "execution_count": 19,
     "metadata": {},
     "output_type": "execute_result"
    }
   ],
   "source": [
    "# merge with fitbit data\n",
    "df = df.merge(stai, how='outer', on=['id', 'date', 'hour'])\n",
    "df"
   ],
   "metadata": {
    "collapsed": false,
    "pycharm": {
     "name": "#%%\n"
    }
   }
  },
  {
   "cell_type": "markdown",
   "source": [
    "##### ttmspbf"
   ],
   "metadata": {
    "collapsed": false,
    "pycharm": {
     "name": "#%% md\n"
    }
   }
  },
  {
   "cell_type": "code",
   "execution_count": 20,
   "outputs": [
    {
     "data": {
      "text/plain": "                          id       date  hour      ttm_stage  \\\n0   621e2e8e67b776a24055b564 2021-07-26    13    Maintenance   \n0   621e2eaf67b776a2406b14ac 2021-11-29    12  Contemplation   \n1   621e2eaf67b776a2406b14ac 2022-01-17    12         Action   \n0   621e2ed667b776a24085d8d1 2021-07-06    17    Preparation   \n1   621e2ed667b776a24085d8d1 2021-07-30     8  Contemplation   \n..                       ...        ...   ...            ...   \n0   621e36c267b776a240ba2756 2021-05-31    13         Action   \n0   621e36f967b776a240e5e7c9 2021-05-31    12         Action   \n1   621e36f967b776a240e5e7c9 2021-07-26    12         Action   \n0   621e375b67b776a240290cdc 2021-01-06    15         Action   \n1   621e375b67b776a240290cdc 2021-08-06    10         Action   \n\n   consciousness_raising_category dramatic_relief_category  \\\n0                   Below average                  Average   \n0                   Above average                  Average   \n1                   Above average                  Average   \n0                   Below average            Below average   \n1                   Below average                  Average   \n..                            ...                      ...   \n0                         Average            Below average   \n0                         Average            Above average   \n1                   Above average            Above average   \n0                         Average            Below average   \n1                         Average            Below average   \n\n   environmental_reevaluation_category self_reevaluation_category  \\\n0                        Below average                    Average   \n0                        Above average              Above average   \n1                        Above average                    Average   \n0                              Average              Below average   \n1                        Above average              Below average   \n..                                 ...                        ...   \n0                              Average                    Average   \n0                              Average              Above average   \n1                        Above average              Above average   \n0                        Below average              Below average   \n1                        Below average              Below average   \n\n   social_liberation_category counterconditioning_category  \\\n0               Above average                Above average   \n0               Above average                      Average   \n1                     Average                Below average   \n0                     Average                Below average   \n1                     Average                Below average   \n..                        ...                          ...   \n0                     Average                Above average   \n0               Below average                Above average   \n1               Below average                      Average   \n0               Above average                Below average   \n1               Above average                Below average   \n\n   helping_relationships_category reinforcement_management_category  \\\n0                   Above average                           Average   \n0                   Above average                     Above average   \n1                   Above average                     Above average   \n0                   Below average                           Average   \n1                   Below average                     Below average   \n..                            ...                               ...   \n0                   Above average                           Average   \n0                   Below average                           Average   \n1                   Below average                     Above average   \n0                   Above average                     Above average   \n1                   Above average                           Average   \n\n   self_liberation_category stimulus_control_category  \n0             Above average             Below average  \n0                   Average             Below average  \n1                   Average             Above average  \n0             Below average             Below average  \n1             Below average             Below average  \n..                      ...                       ...  \n0                   Average             Above average  \n0             Above average             Above average  \n1             Above average             Above average  \n0             Below average             Below average  \n1                   Average             Below average  \n\n[98 rows x 14 columns]",
      "text/html": "<div>\n<style scoped>\n    .dataframe tbody tr th:only-of-type {\n        vertical-align: middle;\n    }\n\n    .dataframe tbody tr th {\n        vertical-align: top;\n    }\n\n    .dataframe thead th {\n        text-align: right;\n    }\n</style>\n<table border=\"1\" class=\"dataframe\">\n  <thead>\n    <tr style=\"text-align: right;\">\n      <th></th>\n      <th>id</th>\n      <th>date</th>\n      <th>hour</th>\n      <th>ttm_stage</th>\n      <th>consciousness_raising_category</th>\n      <th>dramatic_relief_category</th>\n      <th>environmental_reevaluation_category</th>\n      <th>self_reevaluation_category</th>\n      <th>social_liberation_category</th>\n      <th>counterconditioning_category</th>\n      <th>helping_relationships_category</th>\n      <th>reinforcement_management_category</th>\n      <th>self_liberation_category</th>\n      <th>stimulus_control_category</th>\n    </tr>\n  </thead>\n  <tbody>\n    <tr>\n      <th>0</th>\n      <td>621e2e8e67b776a24055b564</td>\n      <td>2021-07-26</td>\n      <td>13</td>\n      <td>Maintenance</td>\n      <td>Below average</td>\n      <td>Average</td>\n      <td>Below average</td>\n      <td>Average</td>\n      <td>Above average</td>\n      <td>Above average</td>\n      <td>Above average</td>\n      <td>Average</td>\n      <td>Above average</td>\n      <td>Below average</td>\n    </tr>\n    <tr>\n      <th>0</th>\n      <td>621e2eaf67b776a2406b14ac</td>\n      <td>2021-11-29</td>\n      <td>12</td>\n      <td>Contemplation</td>\n      <td>Above average</td>\n      <td>Average</td>\n      <td>Above average</td>\n      <td>Above average</td>\n      <td>Above average</td>\n      <td>Average</td>\n      <td>Above average</td>\n      <td>Above average</td>\n      <td>Average</td>\n      <td>Below average</td>\n    </tr>\n    <tr>\n      <th>1</th>\n      <td>621e2eaf67b776a2406b14ac</td>\n      <td>2022-01-17</td>\n      <td>12</td>\n      <td>Action</td>\n      <td>Above average</td>\n      <td>Average</td>\n      <td>Above average</td>\n      <td>Average</td>\n      <td>Average</td>\n      <td>Below average</td>\n      <td>Above average</td>\n      <td>Above average</td>\n      <td>Average</td>\n      <td>Above average</td>\n    </tr>\n    <tr>\n      <th>0</th>\n      <td>621e2ed667b776a24085d8d1</td>\n      <td>2021-07-06</td>\n      <td>17</td>\n      <td>Preparation</td>\n      <td>Below average</td>\n      <td>Below average</td>\n      <td>Average</td>\n      <td>Below average</td>\n      <td>Average</td>\n      <td>Below average</td>\n      <td>Below average</td>\n      <td>Average</td>\n      <td>Below average</td>\n      <td>Below average</td>\n    </tr>\n    <tr>\n      <th>1</th>\n      <td>621e2ed667b776a24085d8d1</td>\n      <td>2021-07-30</td>\n      <td>8</td>\n      <td>Contemplation</td>\n      <td>Below average</td>\n      <td>Average</td>\n      <td>Above average</td>\n      <td>Below average</td>\n      <td>Average</td>\n      <td>Below average</td>\n      <td>Below average</td>\n      <td>Below average</td>\n      <td>Below average</td>\n      <td>Below average</td>\n    </tr>\n    <tr>\n      <th>...</th>\n      <td>...</td>\n      <td>...</td>\n      <td>...</td>\n      <td>...</td>\n      <td>...</td>\n      <td>...</td>\n      <td>...</td>\n      <td>...</td>\n      <td>...</td>\n      <td>...</td>\n      <td>...</td>\n      <td>...</td>\n      <td>...</td>\n      <td>...</td>\n    </tr>\n    <tr>\n      <th>0</th>\n      <td>621e36c267b776a240ba2756</td>\n      <td>2021-05-31</td>\n      <td>13</td>\n      <td>Action</td>\n      <td>Average</td>\n      <td>Below average</td>\n      <td>Average</td>\n      <td>Average</td>\n      <td>Average</td>\n      <td>Above average</td>\n      <td>Above average</td>\n      <td>Average</td>\n      <td>Average</td>\n      <td>Above average</td>\n    </tr>\n    <tr>\n      <th>0</th>\n      <td>621e36f967b776a240e5e7c9</td>\n      <td>2021-05-31</td>\n      <td>12</td>\n      <td>Action</td>\n      <td>Average</td>\n      <td>Above average</td>\n      <td>Average</td>\n      <td>Above average</td>\n      <td>Below average</td>\n      <td>Above average</td>\n      <td>Below average</td>\n      <td>Average</td>\n      <td>Above average</td>\n      <td>Above average</td>\n    </tr>\n    <tr>\n      <th>1</th>\n      <td>621e36f967b776a240e5e7c9</td>\n      <td>2021-07-26</td>\n      <td>12</td>\n      <td>Action</td>\n      <td>Above average</td>\n      <td>Above average</td>\n      <td>Above average</td>\n      <td>Above average</td>\n      <td>Below average</td>\n      <td>Average</td>\n      <td>Below average</td>\n      <td>Above average</td>\n      <td>Above average</td>\n      <td>Above average</td>\n    </tr>\n    <tr>\n      <th>0</th>\n      <td>621e375b67b776a240290cdc</td>\n      <td>2021-01-06</td>\n      <td>15</td>\n      <td>Action</td>\n      <td>Average</td>\n      <td>Below average</td>\n      <td>Below average</td>\n      <td>Below average</td>\n      <td>Above average</td>\n      <td>Below average</td>\n      <td>Above average</td>\n      <td>Above average</td>\n      <td>Below average</td>\n      <td>Below average</td>\n    </tr>\n    <tr>\n      <th>1</th>\n      <td>621e375b67b776a240290cdc</td>\n      <td>2021-08-06</td>\n      <td>10</td>\n      <td>Action</td>\n      <td>Average</td>\n      <td>Below average</td>\n      <td>Below average</td>\n      <td>Below average</td>\n      <td>Above average</td>\n      <td>Below average</td>\n      <td>Above average</td>\n      <td>Average</td>\n      <td>Average</td>\n      <td>Below average</td>\n    </tr>\n  </tbody>\n</table>\n<p>98 rows × 14 columns</p>\n</div>"
     },
     "execution_count": 20,
     "metadata": {},
     "output_type": "execute_result"
    }
   ],
   "source": [
    "ttm = pd.DataFrame(columns=[\"user_id\", \"data\"])\n",
    "\n",
    "# read and load from MongoDB\n",
    "for user in users:\n",
    "    user_data = pd.DataFrame(list(\n",
    "        db.surveys.find({\"$and\": [\n",
    "            {\"type\": \"ttmspbf\"},\n",
    "            {\"user_id\": user}\n",
    "        ]}, {\"_id\": 0})))\n",
    "    ttm = pd.concat([ttm, user_data], axis=0)\n",
    "\n",
    "# process the datetime object\n",
    "ttm[\"date\"] = ttm[\"data\"].apply(lambda d: d[\"submitdate\"])\n",
    "ttm = data_loading.date_conversion(ttm)\n",
    "\n",
    "# split data column (json format) into two columns (df format)\n",
    "ttm[\"ttm_stage\"] = ttm[\"data\"].apply(lambda d: d[\"stage\"])\n",
    "for engage in range(2,32):\n",
    "    if engage < 10:\n",
    "        col_name = \"processes[SQ00{}]\".format(engage)\n",
    "        new_col_name = \"processes[SQ00{}]\".format(engage-1)\n",
    "    else:\n",
    "        col_name = \"processes[SQ0{}]\".format(engage)\n",
    "        if engage == 10:\n",
    "            new_col_name = \"processes[SQ00{}]\".format(engage-1)\n",
    "        else:\n",
    "            new_col_name = \"processes[SQ0{}]\".format(engage-1)\n",
    "    ttm[new_col_name] = ttm[\"data\"].apply(lambda d: d[col_name])\n",
    "ttm.drop(['data', 'type'], axis=1, inplace=True)\n",
    "\n",
    "# encoding of the answer of the stage based on the official scoring document\n",
    "ttm[\"ttm_stage\"] = ttm.ttm_stage.apply(lambda response: surveys_scoring.define_stage_of_change(response))\n",
    "\n",
    "# calculation of each item's/stage's score based on the official scoring document\n",
    "ttm[\"consciousness_raising\"] = ttm[[\"processes[SQ001]\",\"processes[SQ011]\", \"processes[SQ021]\"]].mean(axis=1)\n",
    "ttm[\"dramatic_relief\"] = ttm[[\"processes[SQ002]\",\"processes[SQ012]\", \"processes[SQ022]\"]].mean(axis=1)\n",
    "ttm[\"environmental_reevaluation\"] = ttm[[\"processes[SQ003]\",\"processes[SQ013]\", \"processes[SQ023]\"]].mean(axis=1)\n",
    "ttm[\"self_reevaluation\"] = ttm[[\"processes[SQ004]\",\"processes[SQ014]\", \"processes[SQ024]\"]].mean(axis=1)\n",
    "ttm[\"social_liberation\"] = ttm[[\"processes[SQ005]\",\"processes[SQ015]\", \"processes[SQ025]\"]].mean(axis=1)\n",
    "ttm[\"counterconditioning\"] = ttm[[\"processes[SQ006]\",\"processes[SQ016]\", \"processes[SQ026]\"]].mean(axis=1)\n",
    "ttm[\"helping_relationships\"] = ttm[[\"processes[SQ007]\",\"processes[SQ017]\", \"processes[SQ027]\"]].mean(axis=1)\n",
    "ttm[\"reinforcement_management\"] = ttm[[\"processes[SQ008]\",\"processes[SQ018]\", \"processes[SQ028]\"]].mean(axis=1)\n",
    "ttm[\"self_liberation\"] = ttm[[\"processes[SQ009]\",\"processes[SQ019]\", \"processes[SQ029]\"]].mean(axis=1)\n",
    "ttm[\"stimulus_control\"] = ttm[[\"processes[SQ010]\",\"processes[SQ020]\", \"processes[SQ030]\"]].mean(axis=1)\n",
    "\n",
    "# convert the score into stress category using mean and std\n",
    "convert_ttm = ttm.iloc[:,-10:]\n",
    "for col in convert_ttm.columns:\n",
    "    mean_col = ttm[col].mean()\n",
    "    std_col = ttm[col].std()\n",
    "    col_name = \"{}_category\".format(col)\n",
    "    ttm[col_name] = ttm[col].apply(lambda score: surveys_scoring.get_category(score, mean_col, std_col))\n",
    "\n",
    "# drop unnecessary columns and rename columns\n",
    "ttm = ttm[ttm.columns.drop(list(ttm.filter(regex='processes')))]\n",
    "ttm.rename(columns={'user_id': 'id'}, inplace=True)\n",
    "ttm.drop(columns=ttm.columns[4:14], inplace=True)\n",
    "\n",
    "# check for duplicates\n",
    "# Findings: 4 duplicates found based on (id, date) which is wrong, since this answer had to be collected max once at the beginning of the experiment and max once at the end of the experiment\n",
    "# Approach: keep the latest record\n",
    "ttm.sort_values(by=['id', 'date', 'hour'], inplace=True)\n",
    "ttm.drop_duplicates(subset=[\"id\", \"date\"], inplace=True, keep=\"last\")\n",
    "\n",
    "ttm"
   ],
   "metadata": {
    "collapsed": false,
    "pycharm": {
     "name": "#%%\n"
    }
   }
  },
  {
   "cell_type": "code",
   "execution_count": 21,
   "outputs": [
    {
     "data": {
      "text/plain": "                              id       date  hour  ecg heart_rate_alert  \\\n0       621e2ff067b776a2403eb737 2021-12-22    19  NSR             NONE   \n1       621e2ff067b776a2403eb737 2021-11-18     0  NaN              NaN   \n2       621e2ff067b776a2403eb737 2021-11-18    21  NaN              NaN   \n3       621e2ff067b776a2403eb737 2021-11-20     0  NaN              NaN   \n4       621e2ff067b776a2403eb737 2021-11-20    23  NaN              NaN   \n...                          ...        ...   ...  ...              ...   \n164962  621e310d67b776a24003096d 2021-03-12    22  NaN              NaN   \n164963  621e310d67b776a24003096d 2022-01-24    14  NaN              NaN   \n164964  621e32d067b776a2405b7d54 2021-09-12    14  NaN              NaN   \n164965  621e332267b776a24092a584 2021-02-06     3  NaN              NaN   \n164966  621e33b067b776a240f39e56 2021-08-06    18  NaN              NaN   \n\n       sensor_type nightly_temperature  nremhr  spo2  rmssd  ...  \\\n0              NaN                 NaN     NaN   NaN    NaN  ...   \n1             SKIN            35.02573     NaN   NaN    NaN  ...   \n2             SKIN           34.866951     NaN   NaN    NaN  ...   \n3             SKIN           35.349583     NaN   NaN    NaN  ...   \n4             SKIN           34.495486     NaN   NaN    NaN  ...   \n...            ...                 ...     ...   ...    ...  ...   \n164962         NaN                 NaN     NaN   NaN    NaN  ...   \n164963         NaN                 NaN     NaN   NaN    NaN  ...   \n164964         NaN                 NaN     NaN   NaN    NaN  ...   \n164965         NaN                 NaN     NaN   NaN    NaN  ...   \n164966         NaN                 NaN     NaN   NaN    NaN  ...   \n\n        consciousness_raising_category  dramatic_relief_category  \\\n0                                  NaN                       NaN   \n1                                  NaN                       NaN   \n2                                  NaN                       NaN   \n3                                  NaN                       NaN   \n4                                  NaN                       NaN   \n...                                ...                       ...   \n164962                         Average             Above average   \n164963                   Above average             Above average   \n164964                         Average             Above average   \n164965                         Average             Above average   \n164966                         Average             Above average   \n\n        environmental_reevaluation_category  self_reevaluation_category  \\\n0                                       NaN                         NaN   \n1                                       NaN                         NaN   \n2                                       NaN                         NaN   \n3                                       NaN                         NaN   \n4                                       NaN                         NaN   \n...                                     ...                         ...   \n164962                              Average               Above average   \n164963                              Average               Above average   \n164964                        Above average               Above average   \n164965                        Above average                     Average   \n164966                        Above average                     Average   \n\n        social_liberation_category  counterconditioning_category  \\\n0                              NaN                           NaN   \n1                              NaN                           NaN   \n2                              NaN                           NaN   \n3                              NaN                           NaN   \n4                              NaN                           NaN   \n...                            ...                           ...   \n164962                     Average                 Above average   \n164963               Above average                       Average   \n164964               Above average                 Below average   \n164965               Below average                 Above average   \n164966               Above average                 Below average   \n\n        helping_relationships_category  reinforcement_management_category  \\\n0                                  NaN                                NaN   \n1                                  NaN                                NaN   \n2                                  NaN                                NaN   \n3                                  NaN                                NaN   \n4                                  NaN                                NaN   \n...                                ...                                ...   \n164962                         Average                      Above average   \n164963                         Average                      Above average   \n164964                   Above average                            Average   \n164965                   Above average                      Above average   \n164966                   Below average                      Above average   \n\n        self_liberation_category  stimulus_control_category  \n0                            NaN                        NaN  \n1                            NaN                        NaN  \n2                            NaN                        NaN  \n3                            NaN                        NaN  \n4                            NaN                        NaN  \n...                          ...                        ...  \n164962             Above average              Above average  \n164963             Above average              Above average  \n164964                   Average              Above average  \n164965                   Average              Below average  \n164966                   Average              Below average  \n\n[164967 rows x 96 columns]",
      "text/html": "<div>\n<style scoped>\n    .dataframe tbody tr th:only-of-type {\n        vertical-align: middle;\n    }\n\n    .dataframe tbody tr th {\n        vertical-align: top;\n    }\n\n    .dataframe thead th {\n        text-align: right;\n    }\n</style>\n<table border=\"1\" class=\"dataframe\">\n  <thead>\n    <tr style=\"text-align: right;\">\n      <th></th>\n      <th>id</th>\n      <th>date</th>\n      <th>hour</th>\n      <th>ecg</th>\n      <th>heart_rate_alert</th>\n      <th>sensor_type</th>\n      <th>nightly_temperature</th>\n      <th>nremhr</th>\n      <th>spo2</th>\n      <th>rmssd</th>\n      <th>...</th>\n      <th>consciousness_raising_category</th>\n      <th>dramatic_relief_category</th>\n      <th>environmental_reevaluation_category</th>\n      <th>self_reevaluation_category</th>\n      <th>social_liberation_category</th>\n      <th>counterconditioning_category</th>\n      <th>helping_relationships_category</th>\n      <th>reinforcement_management_category</th>\n      <th>self_liberation_category</th>\n      <th>stimulus_control_category</th>\n    </tr>\n  </thead>\n  <tbody>\n    <tr>\n      <th>0</th>\n      <td>621e2ff067b776a2403eb737</td>\n      <td>2021-12-22</td>\n      <td>19</td>\n      <td>NSR</td>\n      <td>NONE</td>\n      <td>NaN</td>\n      <td>NaN</td>\n      <td>NaN</td>\n      <td>NaN</td>\n      <td>NaN</td>\n      <td>...</td>\n      <td>NaN</td>\n      <td>NaN</td>\n      <td>NaN</td>\n      <td>NaN</td>\n      <td>NaN</td>\n      <td>NaN</td>\n      <td>NaN</td>\n      <td>NaN</td>\n      <td>NaN</td>\n      <td>NaN</td>\n    </tr>\n    <tr>\n      <th>1</th>\n      <td>621e2ff067b776a2403eb737</td>\n      <td>2021-11-18</td>\n      <td>0</td>\n      <td>NaN</td>\n      <td>NaN</td>\n      <td>SKIN</td>\n      <td>35.02573</td>\n      <td>NaN</td>\n      <td>NaN</td>\n      <td>NaN</td>\n      <td>...</td>\n      <td>NaN</td>\n      <td>NaN</td>\n      <td>NaN</td>\n      <td>NaN</td>\n      <td>NaN</td>\n      <td>NaN</td>\n      <td>NaN</td>\n      <td>NaN</td>\n      <td>NaN</td>\n      <td>NaN</td>\n    </tr>\n    <tr>\n      <th>2</th>\n      <td>621e2ff067b776a2403eb737</td>\n      <td>2021-11-18</td>\n      <td>21</td>\n      <td>NaN</td>\n      <td>NaN</td>\n      <td>SKIN</td>\n      <td>34.866951</td>\n      <td>NaN</td>\n      <td>NaN</td>\n      <td>NaN</td>\n      <td>...</td>\n      <td>NaN</td>\n      <td>NaN</td>\n      <td>NaN</td>\n      <td>NaN</td>\n      <td>NaN</td>\n      <td>NaN</td>\n      <td>NaN</td>\n      <td>NaN</td>\n      <td>NaN</td>\n      <td>NaN</td>\n    </tr>\n    <tr>\n      <th>3</th>\n      <td>621e2ff067b776a2403eb737</td>\n      <td>2021-11-20</td>\n      <td>0</td>\n      <td>NaN</td>\n      <td>NaN</td>\n      <td>SKIN</td>\n      <td>35.349583</td>\n      <td>NaN</td>\n      <td>NaN</td>\n      <td>NaN</td>\n      <td>...</td>\n      <td>NaN</td>\n      <td>NaN</td>\n      <td>NaN</td>\n      <td>NaN</td>\n      <td>NaN</td>\n      <td>NaN</td>\n      <td>NaN</td>\n      <td>NaN</td>\n      <td>NaN</td>\n      <td>NaN</td>\n    </tr>\n    <tr>\n      <th>4</th>\n      <td>621e2ff067b776a2403eb737</td>\n      <td>2021-11-20</td>\n      <td>23</td>\n      <td>NaN</td>\n      <td>NaN</td>\n      <td>SKIN</td>\n      <td>34.495486</td>\n      <td>NaN</td>\n      <td>NaN</td>\n      <td>NaN</td>\n      <td>...</td>\n      <td>NaN</td>\n      <td>NaN</td>\n      <td>NaN</td>\n      <td>NaN</td>\n      <td>NaN</td>\n      <td>NaN</td>\n      <td>NaN</td>\n      <td>NaN</td>\n      <td>NaN</td>\n      <td>NaN</td>\n    </tr>\n    <tr>\n      <th>...</th>\n      <td>...</td>\n      <td>...</td>\n      <td>...</td>\n      <td>...</td>\n      <td>...</td>\n      <td>...</td>\n      <td>...</td>\n      <td>...</td>\n      <td>...</td>\n      <td>...</td>\n      <td>...</td>\n      <td>...</td>\n      <td>...</td>\n      <td>...</td>\n      <td>...</td>\n      <td>...</td>\n      <td>...</td>\n      <td>...</td>\n      <td>...</td>\n      <td>...</td>\n      <td>...</td>\n    </tr>\n    <tr>\n      <th>164962</th>\n      <td>621e310d67b776a24003096d</td>\n      <td>2021-03-12</td>\n      <td>22</td>\n      <td>NaN</td>\n      <td>NaN</td>\n      <td>NaN</td>\n      <td>NaN</td>\n      <td>NaN</td>\n      <td>NaN</td>\n      <td>NaN</td>\n      <td>...</td>\n      <td>Average</td>\n      <td>Above average</td>\n      <td>Average</td>\n      <td>Above average</td>\n      <td>Average</td>\n      <td>Above average</td>\n      <td>Average</td>\n      <td>Above average</td>\n      <td>Above average</td>\n      <td>Above average</td>\n    </tr>\n    <tr>\n      <th>164963</th>\n      <td>621e310d67b776a24003096d</td>\n      <td>2022-01-24</td>\n      <td>14</td>\n      <td>NaN</td>\n      <td>NaN</td>\n      <td>NaN</td>\n      <td>NaN</td>\n      <td>NaN</td>\n      <td>NaN</td>\n      <td>NaN</td>\n      <td>...</td>\n      <td>Above average</td>\n      <td>Above average</td>\n      <td>Average</td>\n      <td>Above average</td>\n      <td>Above average</td>\n      <td>Average</td>\n      <td>Average</td>\n      <td>Above average</td>\n      <td>Above average</td>\n      <td>Above average</td>\n    </tr>\n    <tr>\n      <th>164964</th>\n      <td>621e32d067b776a2405b7d54</td>\n      <td>2021-09-12</td>\n      <td>14</td>\n      <td>NaN</td>\n      <td>NaN</td>\n      <td>NaN</td>\n      <td>NaN</td>\n      <td>NaN</td>\n      <td>NaN</td>\n      <td>NaN</td>\n      <td>...</td>\n      <td>Average</td>\n      <td>Above average</td>\n      <td>Above average</td>\n      <td>Above average</td>\n      <td>Above average</td>\n      <td>Below average</td>\n      <td>Above average</td>\n      <td>Average</td>\n      <td>Average</td>\n      <td>Above average</td>\n    </tr>\n    <tr>\n      <th>164965</th>\n      <td>621e332267b776a24092a584</td>\n      <td>2021-02-06</td>\n      <td>3</td>\n      <td>NaN</td>\n      <td>NaN</td>\n      <td>NaN</td>\n      <td>NaN</td>\n      <td>NaN</td>\n      <td>NaN</td>\n      <td>NaN</td>\n      <td>...</td>\n      <td>Average</td>\n      <td>Above average</td>\n      <td>Above average</td>\n      <td>Average</td>\n      <td>Below average</td>\n      <td>Above average</td>\n      <td>Above average</td>\n      <td>Above average</td>\n      <td>Average</td>\n      <td>Below average</td>\n    </tr>\n    <tr>\n      <th>164966</th>\n      <td>621e33b067b776a240f39e56</td>\n      <td>2021-08-06</td>\n      <td>18</td>\n      <td>NaN</td>\n      <td>NaN</td>\n      <td>NaN</td>\n      <td>NaN</td>\n      <td>NaN</td>\n      <td>NaN</td>\n      <td>NaN</td>\n      <td>...</td>\n      <td>Average</td>\n      <td>Above average</td>\n      <td>Above average</td>\n      <td>Average</td>\n      <td>Above average</td>\n      <td>Below average</td>\n      <td>Below average</td>\n      <td>Above average</td>\n      <td>Average</td>\n      <td>Below average</td>\n    </tr>\n  </tbody>\n</table>\n<p>164967 rows × 96 columns</p>\n</div>"
     },
     "execution_count": 21,
     "metadata": {},
     "output_type": "execute_result"
    }
   ],
   "source": [
    "# merge with fitbit data\n",
    "df = df.merge(ttm, how='outer', on=['id', 'date', 'hour'])\n",
    "df"
   ],
   "metadata": {
    "collapsed": false,
    "pycharm": {
     "name": "#%%\n"
    }
   }
  },
  {
   "cell_type": "code",
   "execution_count": 22,
   "outputs": [],
   "source": [
    "df.to_pickle('../data/loading_final/fitbit_surveys.pkl')"
   ],
   "metadata": {
    "collapsed": false,
    "pycharm": {
     "name": "#%%\n"
    }
   }
  }
 ],
 "metadata": {
  "kernelspec": {
   "display_name": "Python 3",
   "language": "python",
   "name": "python3"
  },
  "language_info": {
   "codemirror_mode": {
    "name": "ipython",
    "version": 2
   },
   "file_extension": ".py",
   "mimetype": "text/x-python",
   "name": "python",
   "nbconvert_exporter": "python",
   "pygments_lexer": "ipython2",
   "version": "2.7.6"
  }
 },
 "nbformat": 4,
 "nbformat_minor": 0
}
