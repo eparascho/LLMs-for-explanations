{
 "cells": [
  {
   "cell_type": "markdown",
   "source": [
    "##### This notebook collects all the survey data from MongoDB and creates the corresponding dataframe."
   ],
   "metadata": {
    "collapsed": false,
    "pycharm": {
     "name": "#%% md\n"
    }
   }
  },
  {
   "cell_type": "code",
   "execution_count": 96,
   "outputs": [],
   "source": [
    "import os\n",
    "import warnings\n",
    "import datetime\n",
    "import numpy as np\n",
    "import pandas as pd\n",
    "from dotenv import load_dotenv\n",
    "from pymongo import MongoClient\n",
    "from functions import data_loading\n",
    "from functions import surveys_scoring\n",
    "from dataprep.eda import create_report\n",
    "\n",
    "warnings.filterwarnings(\"ignore\")"
   ],
   "metadata": {
    "collapsed": false,
    "pycharm": {
     "name": "#%%\n"
    }
   }
  },
  {
   "cell_type": "markdown",
   "source": [
    "Connect securely to the database"
   ],
   "metadata": {
    "collapsed": false,
    "pycharm": {
     "name": "#%% md\n"
    }
   }
  },
  {
   "cell_type": "code",
   "execution_count": 97,
   "outputs": [],
   "source": [
    "load_dotenv(\"../config.env\")\n",
    "MONGO_USER = os.getenv(\"MONGO_USER\")\n",
    "MONGO_PASSWORD = os.getenv(\"MONGO_PASSWORD\")\n",
    "client = MongoClient(\"mongodb://\" + MONGO_USER + \":\" + MONGO_PASSWORD + \"@localhost:27017/\")\n",
    "db = client.rais"
   ],
   "metadata": {
    "collapsed": false,
    "pycharm": {
     "name": "#%%\n"
    }
   }
  },
  {
   "cell_type": "markdown",
   "source": [
    "#### Survey data"
   ],
   "metadata": {
    "collapsed": false,
    "pycharm": {
     "name": "#%% md\n"
    }
   }
  },
  {
   "cell_type": "markdown",
   "source": [
    "Find all users provided their survey data"
   ],
   "metadata": {
    "collapsed": false,
    "pycharm": {
     "name": "#%% md\n"
    }
   }
  },
  {
   "cell_type": "code",
   "execution_count": 98,
   "outputs": [
    {
     "name": "stdout",
     "output_type": "stream",
     "text": [
      "67 users provided their survey data\n"
     ]
    }
   ],
   "source": [
    "users = db.surveys.distinct('user_id')\n",
    "print(len(users), \"users provided their survey data\")"
   ],
   "metadata": {
    "collapsed": false,
    "pycharm": {
     "name": "#%%\n"
    }
   }
  },
  {
   "cell_type": "markdown",
   "source": [
    "Find all the data types"
   ],
   "metadata": {
    "collapsed": false,
    "pycharm": {
     "name": "#%% md\n"
    }
   }
  },
  {
   "cell_type": "code",
   "execution_count": 99,
   "outputs": [
    {
     "data": {
      "text/plain": "['bfpt', 'breq', 'dq', 'panas', 'stai', 'ttmspbf']"
     },
     "execution_count": 99,
     "metadata": {},
     "output_type": "execute_result"
    }
   ],
   "source": [
    "types = db.surveys.distinct('type')\n",
    "types"
   ],
   "metadata": {
    "collapsed": false,
    "pycharm": {
     "name": "#%%\n"
    }
   }
  },
  {
   "cell_type": "markdown",
   "source": [
    "Load fitbit data"
   ],
   "metadata": {
    "collapsed": false,
    "pycharm": {
     "name": "#%% md\n"
    }
   }
  },
  {
   "cell_type": "code",
   "execution_count": 100,
   "outputs": [
    {
     "data": {
      "text/plain": "                              id       date  hour  ecg heart_rate_alert  type  \\\n0       621e2ff067b776a2403eb737 2021-12-22    19  NSR             NONE   NaN   \n1       621e2ff067b776a2403eb737 2021-11-18     0  NaN              NaN  SKIN   \n2       621e2ff067b776a2403eb737 2021-11-18    21  NaN              NaN  SKIN   \n3       621e2ff067b776a2403eb737 2021-11-20     0  NaN              NaN  SKIN   \n4       621e2ff067b776a2403eb737 2021-11-20    23  NaN              NaN  SKIN   \n...                          ...        ...   ...  ...              ...   ...   \n164490  621e36bb67b776a240b40d64 2022-01-18     0  NaN              NaN   NaN   \n164491  621e36bb67b776a240b40d64 2022-01-19     0  NaN              NaN   NaN   \n164492  621e36bb67b776a240b40d64 2022-01-20     0  NaN              NaN   NaN   \n164493  621e36bb67b776a240b40d64 2022-01-21     0  NaN              NaN   NaN   \n164494  621e36bb67b776a240b40d64 2022-01-22     0  NaN              NaN   NaN   \n\n        nightly_temperature  nremhr  spo2  rmssd  ...  very_active_minutes  \\\n0                       NaN     NaN   NaN    NaN  ...                  NaN   \n1                 35.025730     NaN   NaN    NaN  ...                  0.0   \n2                 34.866951     NaN   NaN    NaN  ...                  NaN   \n3                 35.349583     NaN   NaN    NaN  ...                  0.0   \n4                 34.495486     NaN   NaN    NaN  ...                  NaN   \n...                     ...     ...   ...    ...  ...                  ...   \n164490                  NaN     NaN   NaN    NaN  ...                  NaN   \n164491                  NaN     NaN   NaN    NaN  ...                  NaN   \n164492                  NaN     NaN   NaN    NaN  ...                  NaN   \n164493                  NaN     NaN   NaN    NaN  ...                  NaN   \n164494                  NaN     NaN   NaN    NaN  ...                  NaN   \n\n        minutes_below_zone_1  minutes_in_zone_1  minutes_in_zone_2  \\\n0                        NaN                NaN                NaN   \n1                     1303.0              119.0                0.0   \n2                        NaN                NaN                NaN   \n3                     1400.0               36.0                0.0   \n4                        NaN                NaN                NaN   \n...                      ...                ...                ...   \n164490                   NaN                NaN                NaN   \n164491                   NaN                NaN                NaN   \n164492                   NaN                NaN                NaN   \n164493                   NaN                NaN                NaN   \n164494                   NaN                NaN                NaN   \n\n        minutes_in_zone_3  water_amount  mood_value  gender  age   bmi  \n0                     NaN           NaN         NaN  FEMALE  <30  >=25  \n1                     0.0           NaN         NaN  FEMALE  <30  >=25  \n2                     NaN           NaN         NaN  FEMALE  <30  >=25  \n3                     0.0           NaN         NaN  FEMALE  <30  >=25  \n4                     NaN           NaN         NaN  FEMALE  <30  >=25  \n...                   ...           ...         ...     ...  ...   ...  \n164490                NaN           NaN         NaN  FEMALE  <30  24.0  \n164491                NaN           NaN         NaN  FEMALE  <30  24.0  \n164492                NaN           NaN         NaN  FEMALE  <30  24.0  \n164493                NaN           NaN         NaN  FEMALE  <30  24.0  \n164494                NaN           NaN         NaN  FEMALE  <30  24.0  \n\n[164495 rows x 46 columns]",
      "text/html": "<div>\n<style scoped>\n    .dataframe tbody tr th:only-of-type {\n        vertical-align: middle;\n    }\n\n    .dataframe tbody tr th {\n        vertical-align: top;\n    }\n\n    .dataframe thead th {\n        text-align: right;\n    }\n</style>\n<table border=\"1\" class=\"dataframe\">\n  <thead>\n    <tr style=\"text-align: right;\">\n      <th></th>\n      <th>id</th>\n      <th>date</th>\n      <th>hour</th>\n      <th>ecg</th>\n      <th>heart_rate_alert</th>\n      <th>type</th>\n      <th>nightly_temperature</th>\n      <th>nremhr</th>\n      <th>spo2</th>\n      <th>rmssd</th>\n      <th>...</th>\n      <th>very_active_minutes</th>\n      <th>minutes_below_zone_1</th>\n      <th>minutes_in_zone_1</th>\n      <th>minutes_in_zone_2</th>\n      <th>minutes_in_zone_3</th>\n      <th>water_amount</th>\n      <th>mood_value</th>\n      <th>gender</th>\n      <th>age</th>\n      <th>bmi</th>\n    </tr>\n  </thead>\n  <tbody>\n    <tr>\n      <th>0</th>\n      <td>621e2ff067b776a2403eb737</td>\n      <td>2021-12-22</td>\n      <td>19</td>\n      <td>NSR</td>\n      <td>NONE</td>\n      <td>NaN</td>\n      <td>NaN</td>\n      <td>NaN</td>\n      <td>NaN</td>\n      <td>NaN</td>\n      <td>...</td>\n      <td>NaN</td>\n      <td>NaN</td>\n      <td>NaN</td>\n      <td>NaN</td>\n      <td>NaN</td>\n      <td>NaN</td>\n      <td>NaN</td>\n      <td>FEMALE</td>\n      <td>&lt;30</td>\n      <td>&gt;=25</td>\n    </tr>\n    <tr>\n      <th>1</th>\n      <td>621e2ff067b776a2403eb737</td>\n      <td>2021-11-18</td>\n      <td>0</td>\n      <td>NaN</td>\n      <td>NaN</td>\n      <td>SKIN</td>\n      <td>35.025730</td>\n      <td>NaN</td>\n      <td>NaN</td>\n      <td>NaN</td>\n      <td>...</td>\n      <td>0.0</td>\n      <td>1303.0</td>\n      <td>119.0</td>\n      <td>0.0</td>\n      <td>0.0</td>\n      <td>NaN</td>\n      <td>NaN</td>\n      <td>FEMALE</td>\n      <td>&lt;30</td>\n      <td>&gt;=25</td>\n    </tr>\n    <tr>\n      <th>2</th>\n      <td>621e2ff067b776a2403eb737</td>\n      <td>2021-11-18</td>\n      <td>21</td>\n      <td>NaN</td>\n      <td>NaN</td>\n      <td>SKIN</td>\n      <td>34.866951</td>\n      <td>NaN</td>\n      <td>NaN</td>\n      <td>NaN</td>\n      <td>...</td>\n      <td>NaN</td>\n      <td>NaN</td>\n      <td>NaN</td>\n      <td>NaN</td>\n      <td>NaN</td>\n      <td>NaN</td>\n      <td>NaN</td>\n      <td>FEMALE</td>\n      <td>&lt;30</td>\n      <td>&gt;=25</td>\n    </tr>\n    <tr>\n      <th>3</th>\n      <td>621e2ff067b776a2403eb737</td>\n      <td>2021-11-20</td>\n      <td>0</td>\n      <td>NaN</td>\n      <td>NaN</td>\n      <td>SKIN</td>\n      <td>35.349583</td>\n      <td>NaN</td>\n      <td>NaN</td>\n      <td>NaN</td>\n      <td>...</td>\n      <td>0.0</td>\n      <td>1400.0</td>\n      <td>36.0</td>\n      <td>0.0</td>\n      <td>0.0</td>\n      <td>NaN</td>\n      <td>NaN</td>\n      <td>FEMALE</td>\n      <td>&lt;30</td>\n      <td>&gt;=25</td>\n    </tr>\n    <tr>\n      <th>4</th>\n      <td>621e2ff067b776a2403eb737</td>\n      <td>2021-11-20</td>\n      <td>23</td>\n      <td>NaN</td>\n      <td>NaN</td>\n      <td>SKIN</td>\n      <td>34.495486</td>\n      <td>NaN</td>\n      <td>NaN</td>\n      <td>NaN</td>\n      <td>...</td>\n      <td>NaN</td>\n      <td>NaN</td>\n      <td>NaN</td>\n      <td>NaN</td>\n      <td>NaN</td>\n      <td>NaN</td>\n      <td>NaN</td>\n      <td>FEMALE</td>\n      <td>&lt;30</td>\n      <td>&gt;=25</td>\n    </tr>\n    <tr>\n      <th>...</th>\n      <td>...</td>\n      <td>...</td>\n      <td>...</td>\n      <td>...</td>\n      <td>...</td>\n      <td>...</td>\n      <td>...</td>\n      <td>...</td>\n      <td>...</td>\n      <td>...</td>\n      <td>...</td>\n      <td>...</td>\n      <td>...</td>\n      <td>...</td>\n      <td>...</td>\n      <td>...</td>\n      <td>...</td>\n      <td>...</td>\n      <td>...</td>\n      <td>...</td>\n      <td>...</td>\n    </tr>\n    <tr>\n      <th>164490</th>\n      <td>621e36bb67b776a240b40d64</td>\n      <td>2022-01-18</td>\n      <td>0</td>\n      <td>NaN</td>\n      <td>NaN</td>\n      <td>NaN</td>\n      <td>NaN</td>\n      <td>NaN</td>\n      <td>NaN</td>\n      <td>NaN</td>\n      <td>...</td>\n      <td>NaN</td>\n      <td>NaN</td>\n      <td>NaN</td>\n      <td>NaN</td>\n      <td>NaN</td>\n      <td>NaN</td>\n      <td>NaN</td>\n      <td>FEMALE</td>\n      <td>&lt;30</td>\n      <td>24.0</td>\n    </tr>\n    <tr>\n      <th>164491</th>\n      <td>621e36bb67b776a240b40d64</td>\n      <td>2022-01-19</td>\n      <td>0</td>\n      <td>NaN</td>\n      <td>NaN</td>\n      <td>NaN</td>\n      <td>NaN</td>\n      <td>NaN</td>\n      <td>NaN</td>\n      <td>NaN</td>\n      <td>...</td>\n      <td>NaN</td>\n      <td>NaN</td>\n      <td>NaN</td>\n      <td>NaN</td>\n      <td>NaN</td>\n      <td>NaN</td>\n      <td>NaN</td>\n      <td>FEMALE</td>\n      <td>&lt;30</td>\n      <td>24.0</td>\n    </tr>\n    <tr>\n      <th>164492</th>\n      <td>621e36bb67b776a240b40d64</td>\n      <td>2022-01-20</td>\n      <td>0</td>\n      <td>NaN</td>\n      <td>NaN</td>\n      <td>NaN</td>\n      <td>NaN</td>\n      <td>NaN</td>\n      <td>NaN</td>\n      <td>NaN</td>\n      <td>...</td>\n      <td>NaN</td>\n      <td>NaN</td>\n      <td>NaN</td>\n      <td>NaN</td>\n      <td>NaN</td>\n      <td>NaN</td>\n      <td>NaN</td>\n      <td>FEMALE</td>\n      <td>&lt;30</td>\n      <td>24.0</td>\n    </tr>\n    <tr>\n      <th>164493</th>\n      <td>621e36bb67b776a240b40d64</td>\n      <td>2022-01-21</td>\n      <td>0</td>\n      <td>NaN</td>\n      <td>NaN</td>\n      <td>NaN</td>\n      <td>NaN</td>\n      <td>NaN</td>\n      <td>NaN</td>\n      <td>NaN</td>\n      <td>...</td>\n      <td>NaN</td>\n      <td>NaN</td>\n      <td>NaN</td>\n      <td>NaN</td>\n      <td>NaN</td>\n      <td>NaN</td>\n      <td>NaN</td>\n      <td>FEMALE</td>\n      <td>&lt;30</td>\n      <td>24.0</td>\n    </tr>\n    <tr>\n      <th>164494</th>\n      <td>621e36bb67b776a240b40d64</td>\n      <td>2022-01-22</td>\n      <td>0</td>\n      <td>NaN</td>\n      <td>NaN</td>\n      <td>NaN</td>\n      <td>NaN</td>\n      <td>NaN</td>\n      <td>NaN</td>\n      <td>NaN</td>\n      <td>...</td>\n      <td>NaN</td>\n      <td>NaN</td>\n      <td>NaN</td>\n      <td>NaN</td>\n      <td>NaN</td>\n      <td>NaN</td>\n      <td>NaN</td>\n      <td>FEMALE</td>\n      <td>&lt;30</td>\n      <td>24.0</td>\n    </tr>\n  </tbody>\n</table>\n<p>164495 rows × 46 columns</p>\n</div>"
     },
     "execution_count": 100,
     "metadata": {},
     "output_type": "execute_result"
    }
   ],
   "source": [
    "fitbit_df = pd.read_pickle('../data/temp_fitbit.pkl')\n",
    "fitbit_df"
   ],
   "metadata": {
    "collapsed": false,
    "pycharm": {
     "name": "#%%\n"
    }
   }
  },
  {
   "cell_type": "markdown",
   "source": [
    "##### bfpt"
   ],
   "metadata": {
    "collapsed": false,
    "pycharm": {
     "name": "#%% md\n"
    }
   }
  },
  {
   "cell_type": "code",
   "execution_count": 101,
   "outputs": [
    {
     "data": {
      "text/plain": "                          id extraversion agreeableness conscientiousness  \\\n0   621e2e8e67b776a24055b564          LOW           LOW              HIGH   \n1   621e2eaf67b776a2406b14ac      AVERAGE          HIGH           AVERAGE   \n2   621e2ed667b776a24085d8d1         HIGH       AVERAGE               LOW   \n3   621e2f3967b776a240c654db      AVERAGE       AVERAGE               LOW   \n4   621e2f6167b776a240e082a9         HIGH       AVERAGE           AVERAGE   \n5   621e2f7a67b776a240f14425      AVERAGE       AVERAGE              HIGH   \n6   621e2f9167b776a240011ccb          LOW          HIGH           AVERAGE   \n7   621e2fb367b776a24015accd         HIGH       AVERAGE               LOW   \n8   621e2fce67b776a240279baa         HIGH          HIGH           AVERAGE   \n9   621e2ff067b776a2403eb737      AVERAGE          HIGH               LOW   \n10  621e301367b776a24057738e      AVERAGE       AVERAGE           AVERAGE   \n11  621e301e67b776a240608a72      AVERAGE          HIGH              HIGH   \n12  621e309b67b776a240b532b0         HIGH          HIGH           AVERAGE   \n13  621e30c867b776a240d4aa6c      AVERAGE       AVERAGE               LOW   \n14  621e30e267b776a240e5bf90         HIGH          HIGH               LOW   \n15  621e30e467b776a240e817c7         HIGH           LOW               LOW   \n16  621e30f467b776a240f22944      AVERAGE          HIGH           AVERAGE   \n17  621e310d67b776a24003096d         HIGH          HIGH           AVERAGE   \n18  621e312a67b776a240164d59      AVERAGE           LOW              HIGH   \n19  621e314867b776a24029ebf9          LOW          HIGH              HIGH   \n20  621e323667b776a240f19134         HIGH          HIGH           AVERAGE   \n21  621e324e67b776a2400191cb      AVERAGE       AVERAGE              HIGH   \n22  621e328667b776a240281372         HIGH       AVERAGE              HIGH   \n23  621e329067b776a2402ffad2      AVERAGE          HIGH              HIGH   \n24  621e32af67b776a24045b4cf          LOW       AVERAGE              HIGH   \n25  621e32d067b776a2405b7d54          LOW           LOW               LOW   \n26  621e32d967b776a240627414         HIGH       AVERAGE              HIGH   \n27  621e331067b776a24085dd3f          LOW       AVERAGE              HIGH   \n28  621e332267b776a24092a584          LOW           LOW               LOW   \n29  621e333567b776a240a0c217      AVERAGE          HIGH           AVERAGE   \n30  621e333967b776a240a3cd06          LOW       AVERAGE              HIGH   \n31  621e335a67b776a240bb12ff          LOW           LOW              HIGH   \n32  621e337667b776a240ce78ab          LOW           LOW               LOW   \n33  621e339967b776a240e502de      AVERAGE          HIGH           AVERAGE   \n34  621e33b067b776a240f39e56         HIGH          HIGH              HIGH   \n35  621e33cf67b776a240087de9          LOW           LOW              HIGH   \n36  621e33ed67b776a2401cf5f7         HIGH          HIGH           AVERAGE   \n37  621e341067b776a24037b105          LOW           LOW               LOW   \n38  621e346f67b776a24081744f      AVERAGE          HIGH               LOW   \n39  621e34db67b776a240c9c2be          LOW          HIGH           AVERAGE   \n40  621e34ec67b776a240d60873      AVERAGE           LOW               LOW   \n41  621e34f767b776a240de4e1a         HIGH       AVERAGE              HIGH   \n42  621e356967b776a24027bd9f          LOW           LOW              HIGH   \n43  621e360b67b776a24039709f      AVERAGE       AVERAGE           AVERAGE   \n44  621e362467b776a2404ad513          LOW       AVERAGE               LOW   \n45  621e366567b776a24076a727      AVERAGE       AVERAGE              HIGH   \n46  621e367e67b776a24087d75d          LOW           LOW               LOW   \n47  621e36bb67b776a240b40d64         HIGH           LOW           AVERAGE   \n48  621e36c267b776a240ba2756         HIGH       AVERAGE               LOW   \n49  621e36dd67b776a240ce9a45         HIGH       AVERAGE           AVERAGE   \n50  621e36f967b776a240e5e7c9         HIGH       AVERAGE              HIGH   \n51  621e375b67b776a240290cdc      AVERAGE          HIGH           AVERAGE   \n\n   stability intellect  \n0       HIGH      HIGH  \n1        LOW      HIGH  \n2    AVERAGE   AVERAGE  \n3       HIGH   AVERAGE  \n4       HIGH       LOW  \n5       HIGH   AVERAGE  \n6        LOW      HIGH  \n7        LOW      HIGH  \n8        LOW   AVERAGE  \n9        LOW       LOW  \n10      HIGH   AVERAGE  \n11       LOW   AVERAGE  \n12      HIGH   AVERAGE  \n13   AVERAGE      HIGH  \n14   AVERAGE   AVERAGE  \n15       LOW       LOW  \n16   AVERAGE   AVERAGE  \n17   AVERAGE      HIGH  \n18   AVERAGE       LOW  \n19      HIGH   AVERAGE  \n20   AVERAGE   AVERAGE  \n21      HIGH   AVERAGE  \n22       LOW       LOW  \n23   AVERAGE      HIGH  \n24       LOW      HIGH  \n25      HIGH       LOW  \n26   AVERAGE      HIGH  \n27   AVERAGE   AVERAGE  \n28   AVERAGE      HIGH  \n29       LOW       LOW  \n30       LOW      HIGH  \n31      HIGH       LOW  \n32       LOW      HIGH  \n33      HIGH   AVERAGE  \n34      HIGH      HIGH  \n35      HIGH       LOW  \n36      HIGH      HIGH  \n37       LOW       LOW  \n38      HIGH   AVERAGE  \n39      HIGH      HIGH  \n40   AVERAGE       LOW  \n41      HIGH   AVERAGE  \n42   AVERAGE      HIGH  \n43   AVERAGE      HIGH  \n44   AVERAGE   AVERAGE  \n45   AVERAGE   AVERAGE  \n46       LOW       LOW  \n47       LOW       LOW  \n48      HIGH       LOW  \n49   AVERAGE   AVERAGE  \n50      HIGH      HIGH  \n51       LOW      HIGH  ",
      "text/html": "<div>\n<style scoped>\n    .dataframe tbody tr th:only-of-type {\n        vertical-align: middle;\n    }\n\n    .dataframe tbody tr th {\n        vertical-align: top;\n    }\n\n    .dataframe thead th {\n        text-align: right;\n    }\n</style>\n<table border=\"1\" class=\"dataframe\">\n  <thead>\n    <tr style=\"text-align: right;\">\n      <th></th>\n      <th>id</th>\n      <th>extraversion</th>\n      <th>agreeableness</th>\n      <th>conscientiousness</th>\n      <th>stability</th>\n      <th>intellect</th>\n    </tr>\n  </thead>\n  <tbody>\n    <tr>\n      <th>0</th>\n      <td>621e2e8e67b776a24055b564</td>\n      <td>LOW</td>\n      <td>LOW</td>\n      <td>HIGH</td>\n      <td>HIGH</td>\n      <td>HIGH</td>\n    </tr>\n    <tr>\n      <th>1</th>\n      <td>621e2eaf67b776a2406b14ac</td>\n      <td>AVERAGE</td>\n      <td>HIGH</td>\n      <td>AVERAGE</td>\n      <td>LOW</td>\n      <td>HIGH</td>\n    </tr>\n    <tr>\n      <th>2</th>\n      <td>621e2ed667b776a24085d8d1</td>\n      <td>HIGH</td>\n      <td>AVERAGE</td>\n      <td>LOW</td>\n      <td>AVERAGE</td>\n      <td>AVERAGE</td>\n    </tr>\n    <tr>\n      <th>3</th>\n      <td>621e2f3967b776a240c654db</td>\n      <td>AVERAGE</td>\n      <td>AVERAGE</td>\n      <td>LOW</td>\n      <td>HIGH</td>\n      <td>AVERAGE</td>\n    </tr>\n    <tr>\n      <th>4</th>\n      <td>621e2f6167b776a240e082a9</td>\n      <td>HIGH</td>\n      <td>AVERAGE</td>\n      <td>AVERAGE</td>\n      <td>HIGH</td>\n      <td>LOW</td>\n    </tr>\n    <tr>\n      <th>5</th>\n      <td>621e2f7a67b776a240f14425</td>\n      <td>AVERAGE</td>\n      <td>AVERAGE</td>\n      <td>HIGH</td>\n      <td>HIGH</td>\n      <td>AVERAGE</td>\n    </tr>\n    <tr>\n      <th>6</th>\n      <td>621e2f9167b776a240011ccb</td>\n      <td>LOW</td>\n      <td>HIGH</td>\n      <td>AVERAGE</td>\n      <td>LOW</td>\n      <td>HIGH</td>\n    </tr>\n    <tr>\n      <th>7</th>\n      <td>621e2fb367b776a24015accd</td>\n      <td>HIGH</td>\n      <td>AVERAGE</td>\n      <td>LOW</td>\n      <td>LOW</td>\n      <td>HIGH</td>\n    </tr>\n    <tr>\n      <th>8</th>\n      <td>621e2fce67b776a240279baa</td>\n      <td>HIGH</td>\n      <td>HIGH</td>\n      <td>AVERAGE</td>\n      <td>LOW</td>\n      <td>AVERAGE</td>\n    </tr>\n    <tr>\n      <th>9</th>\n      <td>621e2ff067b776a2403eb737</td>\n      <td>AVERAGE</td>\n      <td>HIGH</td>\n      <td>LOW</td>\n      <td>LOW</td>\n      <td>LOW</td>\n    </tr>\n    <tr>\n      <th>10</th>\n      <td>621e301367b776a24057738e</td>\n      <td>AVERAGE</td>\n      <td>AVERAGE</td>\n      <td>AVERAGE</td>\n      <td>HIGH</td>\n      <td>AVERAGE</td>\n    </tr>\n    <tr>\n      <th>11</th>\n      <td>621e301e67b776a240608a72</td>\n      <td>AVERAGE</td>\n      <td>HIGH</td>\n      <td>HIGH</td>\n      <td>LOW</td>\n      <td>AVERAGE</td>\n    </tr>\n    <tr>\n      <th>12</th>\n      <td>621e309b67b776a240b532b0</td>\n      <td>HIGH</td>\n      <td>HIGH</td>\n      <td>AVERAGE</td>\n      <td>HIGH</td>\n      <td>AVERAGE</td>\n    </tr>\n    <tr>\n      <th>13</th>\n      <td>621e30c867b776a240d4aa6c</td>\n      <td>AVERAGE</td>\n      <td>AVERAGE</td>\n      <td>LOW</td>\n      <td>AVERAGE</td>\n      <td>HIGH</td>\n    </tr>\n    <tr>\n      <th>14</th>\n      <td>621e30e267b776a240e5bf90</td>\n      <td>HIGH</td>\n      <td>HIGH</td>\n      <td>LOW</td>\n      <td>AVERAGE</td>\n      <td>AVERAGE</td>\n    </tr>\n    <tr>\n      <th>15</th>\n      <td>621e30e467b776a240e817c7</td>\n      <td>HIGH</td>\n      <td>LOW</td>\n      <td>LOW</td>\n      <td>LOW</td>\n      <td>LOW</td>\n    </tr>\n    <tr>\n      <th>16</th>\n      <td>621e30f467b776a240f22944</td>\n      <td>AVERAGE</td>\n      <td>HIGH</td>\n      <td>AVERAGE</td>\n      <td>AVERAGE</td>\n      <td>AVERAGE</td>\n    </tr>\n    <tr>\n      <th>17</th>\n      <td>621e310d67b776a24003096d</td>\n      <td>HIGH</td>\n      <td>HIGH</td>\n      <td>AVERAGE</td>\n      <td>AVERAGE</td>\n      <td>HIGH</td>\n    </tr>\n    <tr>\n      <th>18</th>\n      <td>621e312a67b776a240164d59</td>\n      <td>AVERAGE</td>\n      <td>LOW</td>\n      <td>HIGH</td>\n      <td>AVERAGE</td>\n      <td>LOW</td>\n    </tr>\n    <tr>\n      <th>19</th>\n      <td>621e314867b776a24029ebf9</td>\n      <td>LOW</td>\n      <td>HIGH</td>\n      <td>HIGH</td>\n      <td>HIGH</td>\n      <td>AVERAGE</td>\n    </tr>\n    <tr>\n      <th>20</th>\n      <td>621e323667b776a240f19134</td>\n      <td>HIGH</td>\n      <td>HIGH</td>\n      <td>AVERAGE</td>\n      <td>AVERAGE</td>\n      <td>AVERAGE</td>\n    </tr>\n    <tr>\n      <th>21</th>\n      <td>621e324e67b776a2400191cb</td>\n      <td>AVERAGE</td>\n      <td>AVERAGE</td>\n      <td>HIGH</td>\n      <td>HIGH</td>\n      <td>AVERAGE</td>\n    </tr>\n    <tr>\n      <th>22</th>\n      <td>621e328667b776a240281372</td>\n      <td>HIGH</td>\n      <td>AVERAGE</td>\n      <td>HIGH</td>\n      <td>LOW</td>\n      <td>LOW</td>\n    </tr>\n    <tr>\n      <th>23</th>\n      <td>621e329067b776a2402ffad2</td>\n      <td>AVERAGE</td>\n      <td>HIGH</td>\n      <td>HIGH</td>\n      <td>AVERAGE</td>\n      <td>HIGH</td>\n    </tr>\n    <tr>\n      <th>24</th>\n      <td>621e32af67b776a24045b4cf</td>\n      <td>LOW</td>\n      <td>AVERAGE</td>\n      <td>HIGH</td>\n      <td>LOW</td>\n      <td>HIGH</td>\n    </tr>\n    <tr>\n      <th>25</th>\n      <td>621e32d067b776a2405b7d54</td>\n      <td>LOW</td>\n      <td>LOW</td>\n      <td>LOW</td>\n      <td>HIGH</td>\n      <td>LOW</td>\n    </tr>\n    <tr>\n      <th>26</th>\n      <td>621e32d967b776a240627414</td>\n      <td>HIGH</td>\n      <td>AVERAGE</td>\n      <td>HIGH</td>\n      <td>AVERAGE</td>\n      <td>HIGH</td>\n    </tr>\n    <tr>\n      <th>27</th>\n      <td>621e331067b776a24085dd3f</td>\n      <td>LOW</td>\n      <td>AVERAGE</td>\n      <td>HIGH</td>\n      <td>AVERAGE</td>\n      <td>AVERAGE</td>\n    </tr>\n    <tr>\n      <th>28</th>\n      <td>621e332267b776a24092a584</td>\n      <td>LOW</td>\n      <td>LOW</td>\n      <td>LOW</td>\n      <td>AVERAGE</td>\n      <td>HIGH</td>\n    </tr>\n    <tr>\n      <th>29</th>\n      <td>621e333567b776a240a0c217</td>\n      <td>AVERAGE</td>\n      <td>HIGH</td>\n      <td>AVERAGE</td>\n      <td>LOW</td>\n      <td>LOW</td>\n    </tr>\n    <tr>\n      <th>30</th>\n      <td>621e333967b776a240a3cd06</td>\n      <td>LOW</td>\n      <td>AVERAGE</td>\n      <td>HIGH</td>\n      <td>LOW</td>\n      <td>HIGH</td>\n    </tr>\n    <tr>\n      <th>31</th>\n      <td>621e335a67b776a240bb12ff</td>\n      <td>LOW</td>\n      <td>LOW</td>\n      <td>HIGH</td>\n      <td>HIGH</td>\n      <td>LOW</td>\n    </tr>\n    <tr>\n      <th>32</th>\n      <td>621e337667b776a240ce78ab</td>\n      <td>LOW</td>\n      <td>LOW</td>\n      <td>LOW</td>\n      <td>LOW</td>\n      <td>HIGH</td>\n    </tr>\n    <tr>\n      <th>33</th>\n      <td>621e339967b776a240e502de</td>\n      <td>AVERAGE</td>\n      <td>HIGH</td>\n      <td>AVERAGE</td>\n      <td>HIGH</td>\n      <td>AVERAGE</td>\n    </tr>\n    <tr>\n      <th>34</th>\n      <td>621e33b067b776a240f39e56</td>\n      <td>HIGH</td>\n      <td>HIGH</td>\n      <td>HIGH</td>\n      <td>HIGH</td>\n      <td>HIGH</td>\n    </tr>\n    <tr>\n      <th>35</th>\n      <td>621e33cf67b776a240087de9</td>\n      <td>LOW</td>\n      <td>LOW</td>\n      <td>HIGH</td>\n      <td>HIGH</td>\n      <td>LOW</td>\n    </tr>\n    <tr>\n      <th>36</th>\n      <td>621e33ed67b776a2401cf5f7</td>\n      <td>HIGH</td>\n      <td>HIGH</td>\n      <td>AVERAGE</td>\n      <td>HIGH</td>\n      <td>HIGH</td>\n    </tr>\n    <tr>\n      <th>37</th>\n      <td>621e341067b776a24037b105</td>\n      <td>LOW</td>\n      <td>LOW</td>\n      <td>LOW</td>\n      <td>LOW</td>\n      <td>LOW</td>\n    </tr>\n    <tr>\n      <th>38</th>\n      <td>621e346f67b776a24081744f</td>\n      <td>AVERAGE</td>\n      <td>HIGH</td>\n      <td>LOW</td>\n      <td>HIGH</td>\n      <td>AVERAGE</td>\n    </tr>\n    <tr>\n      <th>39</th>\n      <td>621e34db67b776a240c9c2be</td>\n      <td>LOW</td>\n      <td>HIGH</td>\n      <td>AVERAGE</td>\n      <td>HIGH</td>\n      <td>HIGH</td>\n    </tr>\n    <tr>\n      <th>40</th>\n      <td>621e34ec67b776a240d60873</td>\n      <td>AVERAGE</td>\n      <td>LOW</td>\n      <td>LOW</td>\n      <td>AVERAGE</td>\n      <td>LOW</td>\n    </tr>\n    <tr>\n      <th>41</th>\n      <td>621e34f767b776a240de4e1a</td>\n      <td>HIGH</td>\n      <td>AVERAGE</td>\n      <td>HIGH</td>\n      <td>HIGH</td>\n      <td>AVERAGE</td>\n    </tr>\n    <tr>\n      <th>42</th>\n      <td>621e356967b776a24027bd9f</td>\n      <td>LOW</td>\n      <td>LOW</td>\n      <td>HIGH</td>\n      <td>AVERAGE</td>\n      <td>HIGH</td>\n    </tr>\n    <tr>\n      <th>43</th>\n      <td>621e360b67b776a24039709f</td>\n      <td>AVERAGE</td>\n      <td>AVERAGE</td>\n      <td>AVERAGE</td>\n      <td>AVERAGE</td>\n      <td>HIGH</td>\n    </tr>\n    <tr>\n      <th>44</th>\n      <td>621e362467b776a2404ad513</td>\n      <td>LOW</td>\n      <td>AVERAGE</td>\n      <td>LOW</td>\n      <td>AVERAGE</td>\n      <td>AVERAGE</td>\n    </tr>\n    <tr>\n      <th>45</th>\n      <td>621e366567b776a24076a727</td>\n      <td>AVERAGE</td>\n      <td>AVERAGE</td>\n      <td>HIGH</td>\n      <td>AVERAGE</td>\n      <td>AVERAGE</td>\n    </tr>\n    <tr>\n      <th>46</th>\n      <td>621e367e67b776a24087d75d</td>\n      <td>LOW</td>\n      <td>LOW</td>\n      <td>LOW</td>\n      <td>LOW</td>\n      <td>LOW</td>\n    </tr>\n    <tr>\n      <th>47</th>\n      <td>621e36bb67b776a240b40d64</td>\n      <td>HIGH</td>\n      <td>LOW</td>\n      <td>AVERAGE</td>\n      <td>LOW</td>\n      <td>LOW</td>\n    </tr>\n    <tr>\n      <th>48</th>\n      <td>621e36c267b776a240ba2756</td>\n      <td>HIGH</td>\n      <td>AVERAGE</td>\n      <td>LOW</td>\n      <td>HIGH</td>\n      <td>LOW</td>\n    </tr>\n    <tr>\n      <th>49</th>\n      <td>621e36dd67b776a240ce9a45</td>\n      <td>HIGH</td>\n      <td>AVERAGE</td>\n      <td>AVERAGE</td>\n      <td>AVERAGE</td>\n      <td>AVERAGE</td>\n    </tr>\n    <tr>\n      <th>50</th>\n      <td>621e36f967b776a240e5e7c9</td>\n      <td>HIGH</td>\n      <td>AVERAGE</td>\n      <td>HIGH</td>\n      <td>HIGH</td>\n      <td>HIGH</td>\n    </tr>\n    <tr>\n      <th>51</th>\n      <td>621e375b67b776a240290cdc</td>\n      <td>AVERAGE</td>\n      <td>HIGH</td>\n      <td>AVERAGE</td>\n      <td>LOW</td>\n      <td>HIGH</td>\n    </tr>\n  </tbody>\n</table>\n</div>"
     },
     "execution_count": 101,
     "metadata": {},
     "output_type": "execute_result"
    }
   ],
   "source": [
    "bfpt = pd.DataFrame(columns=[\"user_id\", \"data\"])\n",
    "\n",
    "# read and load from MongoDB\n",
    "for user in users:\n",
    "    user_data = pd.DataFrame(list(\n",
    "        db.surveys.find({\"$and\": [\n",
    "            {\"type\": \"bfpt\"},\n",
    "            {\"user_id\": user}\n",
    "        ]},{\"_id\": 0})))\n",
    "    bfpt = pd.concat([bfpt, user_data], axis=0)\n",
    "\n",
    "# split data column (json format) into two columns (df format)\n",
    "for ipip in range(1,51):\n",
    "    if ipip < 10:\n",
    "        col_name = \"ipip[SQ00{}]\".format(ipip)\n",
    "    else:\n",
    "        col_name = \"ipip[SQ0{}]\".format(ipip)\n",
    "    bfpt[col_name] = bfpt[\"data\"].apply(lambda d: d[col_name])\n",
    "bfpt.drop(['data', 'type'], axis=1, inplace=True)\n",
    "\n",
    "# categorization of answers into positive and negative ones\n",
    "bfpt_scoring = pd.read_csv(\"../data/BFPT-Coding.csv\", sep=\";\")\n",
    "ipip_plus = bfpt_scoring[bfpt_scoring.plus == True].code\n",
    "ipip_minus = bfpt_scoring[bfpt_scoring.plus == False].code\n",
    "\n",
    "# Based on the scoring document: https://openpsychometrics.org/printable/big-five-personality-test.pdf, some questions are reversed\n",
    "for col in bfpt.columns:\n",
    "    if col in ipip_minus.values:\n",
    "        bfpt[col] = bfpt[col].apply(lambda score: surveys_scoring.inverse_score(score, 1, 5))\n",
    "\n",
    "# calculation of the score of each personality type\n",
    "ipip_extraversion = bfpt_scoring[bfpt_scoring.factor == 1].code\n",
    "ipip_agreeableness = bfpt_scoring[bfpt_scoring.factor == 2].code\n",
    "ipip_conscientiousness = bfpt_scoring[bfpt_scoring.factor == 3].code\n",
    "ipip_stability = bfpt_scoring[bfpt_scoring.factor == 4].code\n",
    "ipip_intellect = bfpt_scoring[bfpt_scoring.factor == 5].code\n",
    "bfpt[\"extraversion\"] = bfpt[ipip_extraversion].sum(axis=1)\n",
    "bfpt[\"agreeableness\"] = bfpt[ipip_agreeableness].sum(axis=1)\n",
    "bfpt[\"conscientiousness\"] = bfpt[ipip_conscientiousness].sum(axis=1)\n",
    "bfpt[\"stability\"] = bfpt[ipip_stability].sum(axis=1)\n",
    "bfpt[\"intellect\"] = bfpt[ipip_intellect].sum(axis=1)\n",
    "\n",
    "# drop unnecessary columns and rename columns\n",
    "bfpt = bfpt[bfpt.columns.drop(list(bfpt.filter(regex='ipip\\[SQ')))]\n",
    "bfpt.rename(columns={'user_id': 'id'}, inplace=True)\n",
    "\n",
    "# convert the score into category using mean and std of a specific subgroup (in this case: gender)\n",
    "# add the gender information for each participant\n",
    "bfpt = bfpt.merge(fitbit_df[['id','gender']].drop_duplicates(), how='left')\n",
    "# there are two missing values\n",
    "bfpt.gender.fillna('FEMALE', inplace=True)\n",
    "# calculate means and stds\n",
    "MEAN_1_FEMALE, STD_1_FEMALE = bfpt.groupby('gender').extraversion.mean()[\"FEMALE\"], bfpt.groupby('gender').extraversion.std()[\"FEMALE\"]\n",
    "MEAN_1_MALE, STD_1_MALE = bfpt.groupby('gender').extraversion.mean()[\"MALE\"], bfpt.groupby('gender').extraversion.std()[\"MALE\"]\n",
    "MEAN_2_FEMALE, STD_2_FEMALE = bfpt.groupby('gender').agreeableness.mean()[\"FEMALE\"], bfpt.groupby('gender').agreeableness.std()[\"FEMALE\"]\n",
    "MEAN_2_MALE, STD_2_MALE = bfpt.groupby('gender').agreeableness.mean()[\"MALE\"], bfpt.groupby('gender').agreeableness.std()[\"MALE\"]\n",
    "MEAN_3_FEMALE, STD_3_FEMALE = bfpt.groupby('gender').conscientiousness.mean()[\"FEMALE\"], bfpt.groupby('gender').conscientiousness.std()[\"FEMALE\"]\n",
    "MEAN_3_MALE, STD_3_MALE = bfpt.groupby('gender').conscientiousness.mean()[\"MALE\"], bfpt.groupby('gender').conscientiousness.std()[\"MALE\"]\n",
    "MEAN_4_FEMALE, STD_4_FEMALE = bfpt.groupby('gender').stability.mean()[\"FEMALE\"], bfpt.groupby('gender').stability.std()[\"FEMALE\"]\n",
    "MEAN_4_MALE, STD_4_MALE = bfpt.groupby('gender').stability.mean()[\"MALE\"], bfpt.groupby('gender').stability.std()[\"MALE\"]\n",
    "MEAN_5_FEMALE, STD_5_FEMALE = bfpt.groupby('gender').intellect.mean()[\"FEMALE\"], bfpt.groupby('gender').intellect.std()[\"FEMALE\"]\n",
    "MEAN_5_MALE, STD_5_MALE = bfpt.groupby('gender').intellect.mean()[\"MALE\"], bfpt.groupby('gender').intellect.std()[\"MALE\"]\n",
    "# convert the score into category\n",
    "bfpt['extraversion'] = bfpt.apply(lambda row: surveys_scoring.personality_category(row.extraversion, MEAN_1_MALE, STD_1_MALE) if row.gender == \"MALE\" else surveys_scoring.personality_category(row.extraversion, MEAN_1_FEMALE, STD_1_FEMALE), axis=1)\n",
    "bfpt['agreeableness'] = bfpt.apply(lambda row: surveys_scoring.personality_category(row.agreeableness, MEAN_2_MALE, STD_2_MALE) if row.gender == \"MALE\" else surveys_scoring.personality_category(row.agreeableness, MEAN_2_FEMALE, STD_2_FEMALE), axis=1)\n",
    "bfpt['conscientiousness'] = bfpt.apply(lambda row: surveys_scoring.personality_category(row.conscientiousness, MEAN_3_MALE, STD_3_MALE) if row.gender == \"MALE\" else surveys_scoring.personality_category(row.conscientiousness, MEAN_3_FEMALE, STD_3_FEMALE), axis=1)\n",
    "bfpt['stability'] = bfpt.apply(lambda row: surveys_scoring.personality_category(row.stability, MEAN_4_MALE, STD_4_MALE) if row.gender == \"MALE\" else surveys_scoring.personality_category(row.stability, MEAN_4_FEMALE, STD_4_FEMALE), axis=1)\n",
    "bfpt['intellect'] = bfpt.apply(lambda row: surveys_scoring.personality_category(row.intellect, MEAN_5_MALE, STD_5_MALE) if row.gender == \"MALE\" else surveys_scoring.personality_category(row.intellect, MEAN_5_FEMALE, STD_5_FEMALE), axis=1)\n",
    "\n",
    "# drop unnecessary columns\n",
    "bfpt.drop(columns=['gender'], inplace=True)\n",
    "\n",
    "bfpt"
   ],
   "metadata": {
    "collapsed": false,
    "pycharm": {
     "name": "#%%\n"
    }
   }
  },
  {
   "cell_type": "code",
   "execution_count": 102,
   "outputs": [
    {
     "data": {
      "text/plain": "                              id       date  hour  ecg heart_rate_alert  type  \\\n0       621e2ff067b776a2403eb737 2021-12-22    19  NSR             NONE   NaN   \n1       621e2ff067b776a2403eb737 2021-11-18     0  NaN              NaN  SKIN   \n2       621e2ff067b776a2403eb737 2021-11-18    21  NaN              NaN  SKIN   \n3       621e2ff067b776a2403eb737 2021-11-20     0  NaN              NaN  SKIN   \n4       621e2ff067b776a2403eb737 2021-11-20    23  NaN              NaN  SKIN   \n...                          ...        ...   ...  ...              ...   ...   \n164490  621e36bb67b776a240b40d64 2022-01-18     0  NaN              NaN   NaN   \n164491  621e36bb67b776a240b40d64 2022-01-19     0  NaN              NaN   NaN   \n164492  621e36bb67b776a240b40d64 2022-01-20     0  NaN              NaN   NaN   \n164493  621e36bb67b776a240b40d64 2022-01-21     0  NaN              NaN   NaN   \n164494  621e36bb67b776a240b40d64 2022-01-22     0  NaN              NaN   NaN   \n\n        nightly_temperature  nremhr  spo2  rmssd  ...  water_amount  \\\n0                       NaN     NaN   NaN    NaN  ...           NaN   \n1                 35.025730     NaN   NaN    NaN  ...           NaN   \n2                 34.866951     NaN   NaN    NaN  ...           NaN   \n3                 35.349583     NaN   NaN    NaN  ...           NaN   \n4                 34.495486     NaN   NaN    NaN  ...           NaN   \n...                     ...     ...   ...    ...  ...           ...   \n164490                  NaN     NaN   NaN    NaN  ...           NaN   \n164491                  NaN     NaN   NaN    NaN  ...           NaN   \n164492                  NaN     NaN   NaN    NaN  ...           NaN   \n164493                  NaN     NaN   NaN    NaN  ...           NaN   \n164494                  NaN     NaN   NaN    NaN  ...           NaN   \n\n        mood_value  gender  age   bmi  extraversion  agreeableness  \\\n0              NaN  FEMALE  <30  >=25       AVERAGE           HIGH   \n1              NaN  FEMALE  <30  >=25       AVERAGE           HIGH   \n2              NaN  FEMALE  <30  >=25       AVERAGE           HIGH   \n3              NaN  FEMALE  <30  >=25       AVERAGE           HIGH   \n4              NaN  FEMALE  <30  >=25       AVERAGE           HIGH   \n...            ...     ...  ...   ...           ...            ...   \n164490         NaN  FEMALE  <30  24.0          HIGH            LOW   \n164491         NaN  FEMALE  <30  24.0          HIGH            LOW   \n164492         NaN  FEMALE  <30  24.0          HIGH            LOW   \n164493         NaN  FEMALE  <30  24.0          HIGH            LOW   \n164494         NaN  FEMALE  <30  24.0          HIGH            LOW   \n\n        conscientiousness  stability  intellect  \n0                     LOW        LOW        LOW  \n1                     LOW        LOW        LOW  \n2                     LOW        LOW        LOW  \n3                     LOW        LOW        LOW  \n4                     LOW        LOW        LOW  \n...                   ...        ...        ...  \n164490            AVERAGE        LOW        LOW  \n164491            AVERAGE        LOW        LOW  \n164492            AVERAGE        LOW        LOW  \n164493            AVERAGE        LOW        LOW  \n164494            AVERAGE        LOW        LOW  \n\n[164495 rows x 51 columns]",
      "text/html": "<div>\n<style scoped>\n    .dataframe tbody tr th:only-of-type {\n        vertical-align: middle;\n    }\n\n    .dataframe tbody tr th {\n        vertical-align: top;\n    }\n\n    .dataframe thead th {\n        text-align: right;\n    }\n</style>\n<table border=\"1\" class=\"dataframe\">\n  <thead>\n    <tr style=\"text-align: right;\">\n      <th></th>\n      <th>id</th>\n      <th>date</th>\n      <th>hour</th>\n      <th>ecg</th>\n      <th>heart_rate_alert</th>\n      <th>type</th>\n      <th>nightly_temperature</th>\n      <th>nremhr</th>\n      <th>spo2</th>\n      <th>rmssd</th>\n      <th>...</th>\n      <th>water_amount</th>\n      <th>mood_value</th>\n      <th>gender</th>\n      <th>age</th>\n      <th>bmi</th>\n      <th>extraversion</th>\n      <th>agreeableness</th>\n      <th>conscientiousness</th>\n      <th>stability</th>\n      <th>intellect</th>\n    </tr>\n  </thead>\n  <tbody>\n    <tr>\n      <th>0</th>\n      <td>621e2ff067b776a2403eb737</td>\n      <td>2021-12-22</td>\n      <td>19</td>\n      <td>NSR</td>\n      <td>NONE</td>\n      <td>NaN</td>\n      <td>NaN</td>\n      <td>NaN</td>\n      <td>NaN</td>\n      <td>NaN</td>\n      <td>...</td>\n      <td>NaN</td>\n      <td>NaN</td>\n      <td>FEMALE</td>\n      <td>&lt;30</td>\n      <td>&gt;=25</td>\n      <td>AVERAGE</td>\n      <td>HIGH</td>\n      <td>LOW</td>\n      <td>LOW</td>\n      <td>LOW</td>\n    </tr>\n    <tr>\n      <th>1</th>\n      <td>621e2ff067b776a2403eb737</td>\n      <td>2021-11-18</td>\n      <td>0</td>\n      <td>NaN</td>\n      <td>NaN</td>\n      <td>SKIN</td>\n      <td>35.025730</td>\n      <td>NaN</td>\n      <td>NaN</td>\n      <td>NaN</td>\n      <td>...</td>\n      <td>NaN</td>\n      <td>NaN</td>\n      <td>FEMALE</td>\n      <td>&lt;30</td>\n      <td>&gt;=25</td>\n      <td>AVERAGE</td>\n      <td>HIGH</td>\n      <td>LOW</td>\n      <td>LOW</td>\n      <td>LOW</td>\n    </tr>\n    <tr>\n      <th>2</th>\n      <td>621e2ff067b776a2403eb737</td>\n      <td>2021-11-18</td>\n      <td>21</td>\n      <td>NaN</td>\n      <td>NaN</td>\n      <td>SKIN</td>\n      <td>34.866951</td>\n      <td>NaN</td>\n      <td>NaN</td>\n      <td>NaN</td>\n      <td>...</td>\n      <td>NaN</td>\n      <td>NaN</td>\n      <td>FEMALE</td>\n      <td>&lt;30</td>\n      <td>&gt;=25</td>\n      <td>AVERAGE</td>\n      <td>HIGH</td>\n      <td>LOW</td>\n      <td>LOW</td>\n      <td>LOW</td>\n    </tr>\n    <tr>\n      <th>3</th>\n      <td>621e2ff067b776a2403eb737</td>\n      <td>2021-11-20</td>\n      <td>0</td>\n      <td>NaN</td>\n      <td>NaN</td>\n      <td>SKIN</td>\n      <td>35.349583</td>\n      <td>NaN</td>\n      <td>NaN</td>\n      <td>NaN</td>\n      <td>...</td>\n      <td>NaN</td>\n      <td>NaN</td>\n      <td>FEMALE</td>\n      <td>&lt;30</td>\n      <td>&gt;=25</td>\n      <td>AVERAGE</td>\n      <td>HIGH</td>\n      <td>LOW</td>\n      <td>LOW</td>\n      <td>LOW</td>\n    </tr>\n    <tr>\n      <th>4</th>\n      <td>621e2ff067b776a2403eb737</td>\n      <td>2021-11-20</td>\n      <td>23</td>\n      <td>NaN</td>\n      <td>NaN</td>\n      <td>SKIN</td>\n      <td>34.495486</td>\n      <td>NaN</td>\n      <td>NaN</td>\n      <td>NaN</td>\n      <td>...</td>\n      <td>NaN</td>\n      <td>NaN</td>\n      <td>FEMALE</td>\n      <td>&lt;30</td>\n      <td>&gt;=25</td>\n      <td>AVERAGE</td>\n      <td>HIGH</td>\n      <td>LOW</td>\n      <td>LOW</td>\n      <td>LOW</td>\n    </tr>\n    <tr>\n      <th>...</th>\n      <td>...</td>\n      <td>...</td>\n      <td>...</td>\n      <td>...</td>\n      <td>...</td>\n      <td>...</td>\n      <td>...</td>\n      <td>...</td>\n      <td>...</td>\n      <td>...</td>\n      <td>...</td>\n      <td>...</td>\n      <td>...</td>\n      <td>...</td>\n      <td>...</td>\n      <td>...</td>\n      <td>...</td>\n      <td>...</td>\n      <td>...</td>\n      <td>...</td>\n      <td>...</td>\n    </tr>\n    <tr>\n      <th>164490</th>\n      <td>621e36bb67b776a240b40d64</td>\n      <td>2022-01-18</td>\n      <td>0</td>\n      <td>NaN</td>\n      <td>NaN</td>\n      <td>NaN</td>\n      <td>NaN</td>\n      <td>NaN</td>\n      <td>NaN</td>\n      <td>NaN</td>\n      <td>...</td>\n      <td>NaN</td>\n      <td>NaN</td>\n      <td>FEMALE</td>\n      <td>&lt;30</td>\n      <td>24.0</td>\n      <td>HIGH</td>\n      <td>LOW</td>\n      <td>AVERAGE</td>\n      <td>LOW</td>\n      <td>LOW</td>\n    </tr>\n    <tr>\n      <th>164491</th>\n      <td>621e36bb67b776a240b40d64</td>\n      <td>2022-01-19</td>\n      <td>0</td>\n      <td>NaN</td>\n      <td>NaN</td>\n      <td>NaN</td>\n      <td>NaN</td>\n      <td>NaN</td>\n      <td>NaN</td>\n      <td>NaN</td>\n      <td>...</td>\n      <td>NaN</td>\n      <td>NaN</td>\n      <td>FEMALE</td>\n      <td>&lt;30</td>\n      <td>24.0</td>\n      <td>HIGH</td>\n      <td>LOW</td>\n      <td>AVERAGE</td>\n      <td>LOW</td>\n      <td>LOW</td>\n    </tr>\n    <tr>\n      <th>164492</th>\n      <td>621e36bb67b776a240b40d64</td>\n      <td>2022-01-20</td>\n      <td>0</td>\n      <td>NaN</td>\n      <td>NaN</td>\n      <td>NaN</td>\n      <td>NaN</td>\n      <td>NaN</td>\n      <td>NaN</td>\n      <td>NaN</td>\n      <td>...</td>\n      <td>NaN</td>\n      <td>NaN</td>\n      <td>FEMALE</td>\n      <td>&lt;30</td>\n      <td>24.0</td>\n      <td>HIGH</td>\n      <td>LOW</td>\n      <td>AVERAGE</td>\n      <td>LOW</td>\n      <td>LOW</td>\n    </tr>\n    <tr>\n      <th>164493</th>\n      <td>621e36bb67b776a240b40d64</td>\n      <td>2022-01-21</td>\n      <td>0</td>\n      <td>NaN</td>\n      <td>NaN</td>\n      <td>NaN</td>\n      <td>NaN</td>\n      <td>NaN</td>\n      <td>NaN</td>\n      <td>NaN</td>\n      <td>...</td>\n      <td>NaN</td>\n      <td>NaN</td>\n      <td>FEMALE</td>\n      <td>&lt;30</td>\n      <td>24.0</td>\n      <td>HIGH</td>\n      <td>LOW</td>\n      <td>AVERAGE</td>\n      <td>LOW</td>\n      <td>LOW</td>\n    </tr>\n    <tr>\n      <th>164494</th>\n      <td>621e36bb67b776a240b40d64</td>\n      <td>2022-01-22</td>\n      <td>0</td>\n      <td>NaN</td>\n      <td>NaN</td>\n      <td>NaN</td>\n      <td>NaN</td>\n      <td>NaN</td>\n      <td>NaN</td>\n      <td>NaN</td>\n      <td>...</td>\n      <td>NaN</td>\n      <td>NaN</td>\n      <td>FEMALE</td>\n      <td>&lt;30</td>\n      <td>24.0</td>\n      <td>HIGH</td>\n      <td>LOW</td>\n      <td>AVERAGE</td>\n      <td>LOW</td>\n      <td>LOW</td>\n    </tr>\n  </tbody>\n</table>\n<p>164495 rows × 51 columns</p>\n</div>"
     },
     "execution_count": 102,
     "metadata": {},
     "output_type": "execute_result"
    }
   ],
   "source": [
    "# merge with fitbit data\n",
    "df = fitbit_df.merge(bfpt, how='outer', on='id')\n",
    "df"
   ],
   "metadata": {
    "collapsed": false,
    "pycharm": {
     "name": "#%%\n"
    }
   }
  },
  {
   "cell_type": "markdown",
   "source": [
    "##### breq"
   ],
   "metadata": {
    "collapsed": false,
    "pycharm": {
     "name": "#%% md\n"
    }
   }
  },
  {
   "cell_type": "code",
   "execution_count": 103,
   "outputs": [
    {
     "data": {
      "text/plain": "                          id       date  hour      self_determination\n0   621e2e8e67b776a24055b564 2021-05-31    13    intrinsic_regulation\n1   621e2e8e67b776a24055b564 2021-07-26    13    intrinsic_regulation\n0   621e2eaf67b776a2406b14ac 2021-11-29    11   identified_regulation\n1   621e2eaf67b776a2406b14ac 2022-01-17    12   identified_regulation\n0   621e2ed667b776a24085d8d1 2021-07-06    17  introjected_regulation\n..                       ...        ...   ...                     ...\n0   621e36c267b776a240ba2756 2021-05-31    13    intrinsic_regulation\n0   621e36f967b776a240e5e7c9 2021-05-31    12  introjected_regulation\n1   621e36f967b776a240e5e7c9 2021-07-26    12  introjected_regulation\n0   621e375b67b776a240290cdc 2021-01-06    15   identified_regulation\n1   621e375b67b776a240290cdc 2021-07-06    12   identified_regulation\n\n[96 rows x 4 columns]",
      "text/html": "<div>\n<style scoped>\n    .dataframe tbody tr th:only-of-type {\n        vertical-align: middle;\n    }\n\n    .dataframe tbody tr th {\n        vertical-align: top;\n    }\n\n    .dataframe thead th {\n        text-align: right;\n    }\n</style>\n<table border=\"1\" class=\"dataframe\">\n  <thead>\n    <tr style=\"text-align: right;\">\n      <th></th>\n      <th>id</th>\n      <th>date</th>\n      <th>hour</th>\n      <th>self_determination</th>\n    </tr>\n  </thead>\n  <tbody>\n    <tr>\n      <th>0</th>\n      <td>621e2e8e67b776a24055b564</td>\n      <td>2021-05-31</td>\n      <td>13</td>\n      <td>intrinsic_regulation</td>\n    </tr>\n    <tr>\n      <th>1</th>\n      <td>621e2e8e67b776a24055b564</td>\n      <td>2021-07-26</td>\n      <td>13</td>\n      <td>intrinsic_regulation</td>\n    </tr>\n    <tr>\n      <th>0</th>\n      <td>621e2eaf67b776a2406b14ac</td>\n      <td>2021-11-29</td>\n      <td>11</td>\n      <td>identified_regulation</td>\n    </tr>\n    <tr>\n      <th>1</th>\n      <td>621e2eaf67b776a2406b14ac</td>\n      <td>2022-01-17</td>\n      <td>12</td>\n      <td>identified_regulation</td>\n    </tr>\n    <tr>\n      <th>0</th>\n      <td>621e2ed667b776a24085d8d1</td>\n      <td>2021-07-06</td>\n      <td>17</td>\n      <td>introjected_regulation</td>\n    </tr>\n    <tr>\n      <th>...</th>\n      <td>...</td>\n      <td>...</td>\n      <td>...</td>\n      <td>...</td>\n    </tr>\n    <tr>\n      <th>0</th>\n      <td>621e36c267b776a240ba2756</td>\n      <td>2021-05-31</td>\n      <td>13</td>\n      <td>intrinsic_regulation</td>\n    </tr>\n    <tr>\n      <th>0</th>\n      <td>621e36f967b776a240e5e7c9</td>\n      <td>2021-05-31</td>\n      <td>12</td>\n      <td>introjected_regulation</td>\n    </tr>\n    <tr>\n      <th>1</th>\n      <td>621e36f967b776a240e5e7c9</td>\n      <td>2021-07-26</td>\n      <td>12</td>\n      <td>introjected_regulation</td>\n    </tr>\n    <tr>\n      <th>0</th>\n      <td>621e375b67b776a240290cdc</td>\n      <td>2021-01-06</td>\n      <td>15</td>\n      <td>identified_regulation</td>\n    </tr>\n    <tr>\n      <th>1</th>\n      <td>621e375b67b776a240290cdc</td>\n      <td>2021-07-06</td>\n      <td>12</td>\n      <td>identified_regulation</td>\n    </tr>\n  </tbody>\n</table>\n<p>96 rows × 4 columns</p>\n</div>"
     },
     "execution_count": 103,
     "metadata": {},
     "output_type": "execute_result"
    }
   ],
   "source": [
    "breq = pd.DataFrame(columns=[\"user_id\", \"data\"])\n",
    "\n",
    "# read and load from MongoDB\n",
    "for user in users:\n",
    "    user_data = pd.DataFrame(list(\n",
    "        db.surveys.find({\"$and\": [\n",
    "            {\"type\": \"breq\"},\n",
    "            {\"user_id\": user}\n",
    "        ]},{\"_id\": 0})))\n",
    "    breq = pd.concat([breq, user_data], axis=0)\n",
    "\n",
    "# process the datetime object\n",
    "breq[\"date\"] = breq[\"data\"].apply(lambda d: d[\"submitdate\"])\n",
    "breq = data_loading.date_conversion(breq)\n",
    "\n",
    "# split data column (json format) into two columns (df format)\n",
    "for engage in range(1,20):\n",
    "    if engage < 10:\n",
    "        col_name = \"engage[SQ00{}]\".format(engage)\n",
    "    else:\n",
    "        col_name = \"engage[SQ0{}]\".format(engage)\n",
    "    breq[col_name] = breq[\"data\"].apply(lambda d: d[col_name])\n",
    "breq.drop(['data', 'type'], axis=1, inplace=True)\n",
    "\n",
    "# categorization and scoring of participants' regulations based on breq-2's scoring document\n",
    "breq[\"amotivation\"] = breq[[\"engage[SQ005]\", \"engage[SQ009]\", \"engage[SQ012]\", \"engage[SQ019]\"]].mean(axis=1)\n",
    "breq[\"external_regulation\"] = breq[[\"engage[SQ001]\", \"engage[SQ006]\", \"engage[SQ011]\", \"engage[SQ016]\"]].mean(axis=1)\n",
    "breq[\"introjected_regulation\"] = breq[[\"engage[SQ002]\", \"engage[SQ007]\", \"engage[SQ013]\"]].mean(axis=1)\n",
    "breq[\"identified_regulation\"] = breq[[\"engage[SQ003]\", \"engage[SQ008]\", \"engage[SQ014]\", \"engage[SQ017]\"]].mean(axis=1)\n",
    "breq[\"intrinsic_regulation\"] = breq[[\"engage[SQ004]\", \"engage[SQ010]\", \"engage[SQ015]\", \"engage[SQ018]\"]].mean(axis=1)\n",
    "\n",
    "# identify participants' final regulation based on the one collected the maximum score\n",
    "temp = breq[[\"amotivation\", \"external_regulation\", \"introjected_regulation\", \"identified_regulation\", \"intrinsic_regulation\"]].agg(['idxmax','max'], axis=1).mask(lambda x: x['max'].eq(0))\n",
    "breq.loc[:, \"self_determination\"] = temp.loc[:, \"idxmax\"]\n",
    "\n",
    "# drop unnecessary columns and rename columns\n",
    "breq.rename(columns={'user_id': 'id'}, inplace=True)\n",
    "breq = breq[['id', 'date', 'hour', 'self_determination']]\n",
    "\n",
    "# check for duplicates\n",
    "# Findings: 3 duplicates found based on (id, date) which is wrong, since this answer had to be collected max once at the beginning of the experiment and max once at the end of the experiment\n",
    "# Approach: keep the latest record\n",
    "breq.sort_values(by=['id', 'date', 'hour'], inplace=True)\n",
    "breq.drop_duplicates(subset=[\"id\", \"date\"], inplace=True, keep=\"last\")\n",
    "\n",
    "breq"
   ],
   "metadata": {
    "collapsed": false,
    "pycharm": {
     "name": "#%%\n"
    }
   }
  },
  {
   "cell_type": "code",
   "execution_count": 104,
   "outputs": [
    {
     "data": {
      "text/plain": "                              id       date  hour  ecg heart_rate_alert  type  \\\n0       621e2ff067b776a2403eb737 2021-12-22    19  NSR             NONE   NaN   \n1       621e2ff067b776a2403eb737 2021-11-18     0  NaN              NaN  SKIN   \n2       621e2ff067b776a2403eb737 2021-11-18    21  NaN              NaN  SKIN   \n3       621e2ff067b776a2403eb737 2021-11-20     0  NaN              NaN  SKIN   \n4       621e2ff067b776a2403eb737 2021-11-20    23  NaN              NaN  SKIN   \n...                          ...        ...   ...  ...              ...   ...   \n164518  621e362467b776a2404ad513 2021-01-08    13  NaN              NaN   NaN   \n164519  621e362467b776a2404ad513 2021-02-06    11  NaN              NaN   NaN   \n164520  621e367e67b776a24087d75d 2022-01-27    18  NaN              NaN   NaN   \n164521  621e36f967b776a240e5e7c9 2021-07-26    12  NaN              NaN   NaN   \n164522  621e375b67b776a240290cdc 2021-01-06    15  NaN              NaN   NaN   \n\n        nightly_temperature  nremhr  spo2  rmssd  ...  mood_value  gender  \\\n0                       NaN     NaN   NaN    NaN  ...         NaN  FEMALE   \n1                 35.025730     NaN   NaN    NaN  ...         NaN  FEMALE   \n2                 34.866951     NaN   NaN    NaN  ...         NaN  FEMALE   \n3                 35.349583     NaN   NaN    NaN  ...         NaN  FEMALE   \n4                 34.495486     NaN   NaN    NaN  ...         NaN  FEMALE   \n...                     ...     ...   ...    ...  ...         ...     ...   \n164518                  NaN     NaN   NaN    NaN  ...         NaN     NaN   \n164519                  NaN     NaN   NaN    NaN  ...         NaN     NaN   \n164520                  NaN     NaN   NaN    NaN  ...         NaN     NaN   \n164521                  NaN     NaN   NaN    NaN  ...         NaN     NaN   \n164522                  NaN     NaN   NaN    NaN  ...         NaN     NaN   \n\n        age   bmi  extraversion  agreeableness  conscientiousness  stability  \\\n0       <30  >=25       AVERAGE           HIGH                LOW        LOW   \n1       <30  >=25       AVERAGE           HIGH                LOW        LOW   \n2       <30  >=25       AVERAGE           HIGH                LOW        LOW   \n3       <30  >=25       AVERAGE           HIGH                LOW        LOW   \n4       <30  >=25       AVERAGE           HIGH                LOW        LOW   \n...     ...   ...           ...            ...                ...        ...   \n164518  NaN   NaN           NaN            NaN                NaN        NaN   \n164519  NaN   NaN           NaN            NaN                NaN        NaN   \n164520  NaN   NaN           NaN            NaN                NaN        NaN   \n164521  NaN   NaN           NaN            NaN                NaN        NaN   \n164522  NaN   NaN           NaN            NaN                NaN        NaN   \n\n        intellect      self_determination  \n0             LOW                     NaN  \n1             LOW                     NaN  \n2             LOW                     NaN  \n3             LOW                     NaN  \n4             LOW                     NaN  \n...           ...                     ...  \n164518        NaN    intrinsic_regulation  \n164519        NaN   identified_regulation  \n164520        NaN             amotivation  \n164521        NaN  introjected_regulation  \n164522        NaN   identified_regulation  \n\n[164523 rows x 52 columns]",
      "text/html": "<div>\n<style scoped>\n    .dataframe tbody tr th:only-of-type {\n        vertical-align: middle;\n    }\n\n    .dataframe tbody tr th {\n        vertical-align: top;\n    }\n\n    .dataframe thead th {\n        text-align: right;\n    }\n</style>\n<table border=\"1\" class=\"dataframe\">\n  <thead>\n    <tr style=\"text-align: right;\">\n      <th></th>\n      <th>id</th>\n      <th>date</th>\n      <th>hour</th>\n      <th>ecg</th>\n      <th>heart_rate_alert</th>\n      <th>type</th>\n      <th>nightly_temperature</th>\n      <th>nremhr</th>\n      <th>spo2</th>\n      <th>rmssd</th>\n      <th>...</th>\n      <th>mood_value</th>\n      <th>gender</th>\n      <th>age</th>\n      <th>bmi</th>\n      <th>extraversion</th>\n      <th>agreeableness</th>\n      <th>conscientiousness</th>\n      <th>stability</th>\n      <th>intellect</th>\n      <th>self_determination</th>\n    </tr>\n  </thead>\n  <tbody>\n    <tr>\n      <th>0</th>\n      <td>621e2ff067b776a2403eb737</td>\n      <td>2021-12-22</td>\n      <td>19</td>\n      <td>NSR</td>\n      <td>NONE</td>\n      <td>NaN</td>\n      <td>NaN</td>\n      <td>NaN</td>\n      <td>NaN</td>\n      <td>NaN</td>\n      <td>...</td>\n      <td>NaN</td>\n      <td>FEMALE</td>\n      <td>&lt;30</td>\n      <td>&gt;=25</td>\n      <td>AVERAGE</td>\n      <td>HIGH</td>\n      <td>LOW</td>\n      <td>LOW</td>\n      <td>LOW</td>\n      <td>NaN</td>\n    </tr>\n    <tr>\n      <th>1</th>\n      <td>621e2ff067b776a2403eb737</td>\n      <td>2021-11-18</td>\n      <td>0</td>\n      <td>NaN</td>\n      <td>NaN</td>\n      <td>SKIN</td>\n      <td>35.025730</td>\n      <td>NaN</td>\n      <td>NaN</td>\n      <td>NaN</td>\n      <td>...</td>\n      <td>NaN</td>\n      <td>FEMALE</td>\n      <td>&lt;30</td>\n      <td>&gt;=25</td>\n      <td>AVERAGE</td>\n      <td>HIGH</td>\n      <td>LOW</td>\n      <td>LOW</td>\n      <td>LOW</td>\n      <td>NaN</td>\n    </tr>\n    <tr>\n      <th>2</th>\n      <td>621e2ff067b776a2403eb737</td>\n      <td>2021-11-18</td>\n      <td>21</td>\n      <td>NaN</td>\n      <td>NaN</td>\n      <td>SKIN</td>\n      <td>34.866951</td>\n      <td>NaN</td>\n      <td>NaN</td>\n      <td>NaN</td>\n      <td>...</td>\n      <td>NaN</td>\n      <td>FEMALE</td>\n      <td>&lt;30</td>\n      <td>&gt;=25</td>\n      <td>AVERAGE</td>\n      <td>HIGH</td>\n      <td>LOW</td>\n      <td>LOW</td>\n      <td>LOW</td>\n      <td>NaN</td>\n    </tr>\n    <tr>\n      <th>3</th>\n      <td>621e2ff067b776a2403eb737</td>\n      <td>2021-11-20</td>\n      <td>0</td>\n      <td>NaN</td>\n      <td>NaN</td>\n      <td>SKIN</td>\n      <td>35.349583</td>\n      <td>NaN</td>\n      <td>NaN</td>\n      <td>NaN</td>\n      <td>...</td>\n      <td>NaN</td>\n      <td>FEMALE</td>\n      <td>&lt;30</td>\n      <td>&gt;=25</td>\n      <td>AVERAGE</td>\n      <td>HIGH</td>\n      <td>LOW</td>\n      <td>LOW</td>\n      <td>LOW</td>\n      <td>NaN</td>\n    </tr>\n    <tr>\n      <th>4</th>\n      <td>621e2ff067b776a2403eb737</td>\n      <td>2021-11-20</td>\n      <td>23</td>\n      <td>NaN</td>\n      <td>NaN</td>\n      <td>SKIN</td>\n      <td>34.495486</td>\n      <td>NaN</td>\n      <td>NaN</td>\n      <td>NaN</td>\n      <td>...</td>\n      <td>NaN</td>\n      <td>FEMALE</td>\n      <td>&lt;30</td>\n      <td>&gt;=25</td>\n      <td>AVERAGE</td>\n      <td>HIGH</td>\n      <td>LOW</td>\n      <td>LOW</td>\n      <td>LOW</td>\n      <td>NaN</td>\n    </tr>\n    <tr>\n      <th>...</th>\n      <td>...</td>\n      <td>...</td>\n      <td>...</td>\n      <td>...</td>\n      <td>...</td>\n      <td>...</td>\n      <td>...</td>\n      <td>...</td>\n      <td>...</td>\n      <td>...</td>\n      <td>...</td>\n      <td>...</td>\n      <td>...</td>\n      <td>...</td>\n      <td>...</td>\n      <td>...</td>\n      <td>...</td>\n      <td>...</td>\n      <td>...</td>\n      <td>...</td>\n      <td>...</td>\n    </tr>\n    <tr>\n      <th>164518</th>\n      <td>621e362467b776a2404ad513</td>\n      <td>2021-01-08</td>\n      <td>13</td>\n      <td>NaN</td>\n      <td>NaN</td>\n      <td>NaN</td>\n      <td>NaN</td>\n      <td>NaN</td>\n      <td>NaN</td>\n      <td>NaN</td>\n      <td>...</td>\n      <td>NaN</td>\n      <td>NaN</td>\n      <td>NaN</td>\n      <td>NaN</td>\n      <td>NaN</td>\n      <td>NaN</td>\n      <td>NaN</td>\n      <td>NaN</td>\n      <td>NaN</td>\n      <td>intrinsic_regulation</td>\n    </tr>\n    <tr>\n      <th>164519</th>\n      <td>621e362467b776a2404ad513</td>\n      <td>2021-02-06</td>\n      <td>11</td>\n      <td>NaN</td>\n      <td>NaN</td>\n      <td>NaN</td>\n      <td>NaN</td>\n      <td>NaN</td>\n      <td>NaN</td>\n      <td>NaN</td>\n      <td>...</td>\n      <td>NaN</td>\n      <td>NaN</td>\n      <td>NaN</td>\n      <td>NaN</td>\n      <td>NaN</td>\n      <td>NaN</td>\n      <td>NaN</td>\n      <td>NaN</td>\n      <td>NaN</td>\n      <td>identified_regulation</td>\n    </tr>\n    <tr>\n      <th>164520</th>\n      <td>621e367e67b776a24087d75d</td>\n      <td>2022-01-27</td>\n      <td>18</td>\n      <td>NaN</td>\n      <td>NaN</td>\n      <td>NaN</td>\n      <td>NaN</td>\n      <td>NaN</td>\n      <td>NaN</td>\n      <td>NaN</td>\n      <td>...</td>\n      <td>NaN</td>\n      <td>NaN</td>\n      <td>NaN</td>\n      <td>NaN</td>\n      <td>NaN</td>\n      <td>NaN</td>\n      <td>NaN</td>\n      <td>NaN</td>\n      <td>NaN</td>\n      <td>amotivation</td>\n    </tr>\n    <tr>\n      <th>164521</th>\n      <td>621e36f967b776a240e5e7c9</td>\n      <td>2021-07-26</td>\n      <td>12</td>\n      <td>NaN</td>\n      <td>NaN</td>\n      <td>NaN</td>\n      <td>NaN</td>\n      <td>NaN</td>\n      <td>NaN</td>\n      <td>NaN</td>\n      <td>...</td>\n      <td>NaN</td>\n      <td>NaN</td>\n      <td>NaN</td>\n      <td>NaN</td>\n      <td>NaN</td>\n      <td>NaN</td>\n      <td>NaN</td>\n      <td>NaN</td>\n      <td>NaN</td>\n      <td>introjected_regulation</td>\n    </tr>\n    <tr>\n      <th>164522</th>\n      <td>621e375b67b776a240290cdc</td>\n      <td>2021-01-06</td>\n      <td>15</td>\n      <td>NaN</td>\n      <td>NaN</td>\n      <td>NaN</td>\n      <td>NaN</td>\n      <td>NaN</td>\n      <td>NaN</td>\n      <td>NaN</td>\n      <td>...</td>\n      <td>NaN</td>\n      <td>NaN</td>\n      <td>NaN</td>\n      <td>NaN</td>\n      <td>NaN</td>\n      <td>NaN</td>\n      <td>NaN</td>\n      <td>NaN</td>\n      <td>NaN</td>\n      <td>identified_regulation</td>\n    </tr>\n  </tbody>\n</table>\n<p>164523 rows × 52 columns</p>\n</div>"
     },
     "execution_count": 104,
     "metadata": {},
     "output_type": "execute_result"
    }
   ],
   "source": [
    "# merge with fitbit data\n",
    "df = df.merge(breq, how='outer', on=['id', 'date', 'hour'])\n",
    "df"
   ],
   "metadata": {
    "collapsed": false,
    "pycharm": {
     "name": "#%%\n"
    }
   }
  },
  {
   "cell_type": "markdown",
   "source": [
    "##### panas"
   ],
   "metadata": {
    "collapsed": false,
    "pycharm": {
     "name": "#%% md\n"
    }
   }
  },
  {
   "cell_type": "code",
   "execution_count": 105,
   "outputs": [
    {
     "data": {
      "text/plain": "                          id       date  hour positive_affect_score  \\\n2   621e2e8e67b776a24055b564 2021-05-31    13         Above average   \n4   621e2e8e67b776a24055b564 2021-06-28    17               Average   \n3   621e2e8e67b776a24055b564 2021-07-06    12         Above average   \n5   621e2e8e67b776a24055b564 2021-07-19    12         Above average   \n1   621e2e8e67b776a24055b564 2021-07-26    12         Above average   \n..                       ...        ...   ...                   ...   \n1   621e375367b776a24021e950 2022-02-01    17               Average   \n0   621e375b67b776a240290cdc 2021-01-06    14         Below average   \n3   621e375b67b776a240290cdc 2021-06-07    11               Average   \n2   621e375b67b776a240290cdc 2021-06-22    11               Average   \n1   621e375b67b776a240290cdc 2021-08-06    10               Average   \n\n   negative_affect_score  \n2          Below average  \n4          Below average  \n3          Below average  \n5          Below average  \n1          Below average  \n..                   ...  \n1          Above average  \n0          Above average  \n3          Above average  \n2          Above average  \n1          Above average  \n\n[278 rows x 5 columns]",
      "text/html": "<div>\n<style scoped>\n    .dataframe tbody tr th:only-of-type {\n        vertical-align: middle;\n    }\n\n    .dataframe tbody tr th {\n        vertical-align: top;\n    }\n\n    .dataframe thead th {\n        text-align: right;\n    }\n</style>\n<table border=\"1\" class=\"dataframe\">\n  <thead>\n    <tr style=\"text-align: right;\">\n      <th></th>\n      <th>id</th>\n      <th>date</th>\n      <th>hour</th>\n      <th>positive_affect_score</th>\n      <th>negative_affect_score</th>\n    </tr>\n  </thead>\n  <tbody>\n    <tr>\n      <th>2</th>\n      <td>621e2e8e67b776a24055b564</td>\n      <td>2021-05-31</td>\n      <td>13</td>\n      <td>Above average</td>\n      <td>Below average</td>\n    </tr>\n    <tr>\n      <th>4</th>\n      <td>621e2e8e67b776a24055b564</td>\n      <td>2021-06-28</td>\n      <td>17</td>\n      <td>Average</td>\n      <td>Below average</td>\n    </tr>\n    <tr>\n      <th>3</th>\n      <td>621e2e8e67b776a24055b564</td>\n      <td>2021-07-06</td>\n      <td>12</td>\n      <td>Above average</td>\n      <td>Below average</td>\n    </tr>\n    <tr>\n      <th>5</th>\n      <td>621e2e8e67b776a24055b564</td>\n      <td>2021-07-19</td>\n      <td>12</td>\n      <td>Above average</td>\n      <td>Below average</td>\n    </tr>\n    <tr>\n      <th>1</th>\n      <td>621e2e8e67b776a24055b564</td>\n      <td>2021-07-26</td>\n      <td>12</td>\n      <td>Above average</td>\n      <td>Below average</td>\n    </tr>\n    <tr>\n      <th>...</th>\n      <td>...</td>\n      <td>...</td>\n      <td>...</td>\n      <td>...</td>\n      <td>...</td>\n    </tr>\n    <tr>\n      <th>1</th>\n      <td>621e375367b776a24021e950</td>\n      <td>2022-02-01</td>\n      <td>17</td>\n      <td>Average</td>\n      <td>Above average</td>\n    </tr>\n    <tr>\n      <th>0</th>\n      <td>621e375b67b776a240290cdc</td>\n      <td>2021-01-06</td>\n      <td>14</td>\n      <td>Below average</td>\n      <td>Above average</td>\n    </tr>\n    <tr>\n      <th>3</th>\n      <td>621e375b67b776a240290cdc</td>\n      <td>2021-06-07</td>\n      <td>11</td>\n      <td>Average</td>\n      <td>Above average</td>\n    </tr>\n    <tr>\n      <th>2</th>\n      <td>621e375b67b776a240290cdc</td>\n      <td>2021-06-22</td>\n      <td>11</td>\n      <td>Average</td>\n      <td>Above average</td>\n    </tr>\n    <tr>\n      <th>1</th>\n      <td>621e375b67b776a240290cdc</td>\n      <td>2021-08-06</td>\n      <td>10</td>\n      <td>Average</td>\n      <td>Above average</td>\n    </tr>\n  </tbody>\n</table>\n<p>278 rows × 5 columns</p>\n</div>"
     },
     "execution_count": 105,
     "metadata": {},
     "output_type": "execute_result"
    }
   ],
   "source": [
    "panas = pd.DataFrame(columns=[\"user_id\", \"data\"])\n",
    "\n",
    "# read and load from MongoDB\n",
    "for user in users:\n",
    "    user_data = pd.DataFrame(list(\n",
    "        db.surveys.find({\"$and\": [\n",
    "            {\"type\": \"panas\"},\n",
    "            {\"user_id\": user}\n",
    "        ]},{\"_id\": 0})))\n",
    "    panas = pd.concat([panas, user_data], axis=0)\n",
    "\n",
    "# process the datetime object\n",
    "panas[\"date\"] = panas[\"data\"].apply(lambda d: d[\"submitdate\"])\n",
    "panas = data_loading.date_conversion(panas)\n",
    "\n",
    "# split data column (json format) into two columns (df format)\n",
    "for p in range(1,21):\n",
    "    if p < 10:\n",
    "        col_name = \"P1[SQ00{}]\".format(p)\n",
    "    else:\n",
    "        col_name = \"P1[SQ0{}]\".format(p)\n",
    "    panas[col_name] = panas[\"data\"].apply(lambda d: d[col_name])\n",
    "panas.drop(['data', 'type'], axis=1, inplace=True)\n",
    "\n",
    "# calculation of the score of negative and positive affect schedule\n",
    "positive = [\"P1[SQ001]\", \"P1[SQ003]\", \"P1[SQ005]\", \"P1[SQ009]\", \"P1[SQ010]\", \"P1[SQ012]\", \"P1[SQ014]\", \"P1[SQ016]\", \"P1[SQ017]\", \"P1[SQ019]\"]\n",
    "negative = [\"P1[SQ002]\", \"P1[SQ004]\", \"P1[SQ006]\", \"P1[SQ007]\", \"P1[SQ008]\", \"P1[SQ011]\", \"P1[SQ013]\", \"P1[SQ015]\", \"P1[SQ018]\", \"P1[SQ020]\"]\n",
    "panas[\"positive_affect_score\"] = panas[positive].sum(axis=1)\n",
    "panas[\"negative_affect_score\"] = panas[negative].sum(axis=1)\n",
    "\n",
    "# convert the score into stress category using mean and std of a specific subgroup\n",
    "negative_mean_panas = panas['negative_affect_score'].mean()\n",
    "negative_std_panas = panas['negative_affect_score'].std()\n",
    "panas['negative_affect_score'] = panas['negative_affect_score'].apply(lambda score: surveys_scoring.get_stai_category(score, negative_mean_panas, negative_std_panas))\n",
    "positive_mean_panas = panas['positive_affect_score'].mean()\n",
    "positive_std_panas = panas['positive_affect_score'].std()\n",
    "panas['positive_affect_score'] = panas['positive_affect_score'].apply(lambda score: surveys_scoring.get_stai_category(score, positive_mean_panas, positive_std_panas))\n",
    "\n",
    "# drop unnecessary columns and rename columns\n",
    "panas = panas[panas.columns.drop(list(panas.filter(regex='P1\\[SQ')))]\n",
    "panas.rename(columns={'user_id': 'id'}, inplace=True)\n",
    "\n",
    "# check for duplicates\n",
    "# Findings: 24 duplicates found based on (id, date) which is wrong, since this answer had to be collected max once per two weeks\n",
    "# Approach: keep the latest record\n",
    "panas.sort_values(by=['id', 'date', 'hour'], inplace=True)\n",
    "panas.drop_duplicates(subset=[\"id\", \"date\"], inplace=True, keep=\"last\")\n",
    "\n",
    "panas"
   ],
   "metadata": {
    "collapsed": false,
    "pycharm": {
     "name": "#%%\n"
    }
   }
  },
  {
   "cell_type": "code",
   "execution_count": 106,
   "outputs": [
    {
     "data": {
      "text/plain": "                              id       date  hour  ecg heart_rate_alert  type  \\\n0       621e2ff067b776a2403eb737 2021-12-22    19  NSR             NONE   NaN   \n1       621e2ff067b776a2403eb737 2021-11-18     0  NaN              NaN  SKIN   \n2       621e2ff067b776a2403eb737 2021-11-18    21  NaN              NaN  SKIN   \n3       621e2ff067b776a2403eb737 2021-11-20     0  NaN              NaN  SKIN   \n4       621e2ff067b776a2403eb737 2021-11-20    23  NaN              NaN  SKIN   \n...                          ...        ...   ...  ...              ...   ...   \n164577  621e36f967b776a240e5e7c9 2021-05-07    11  NaN              NaN   NaN   \n164578  621e36f967b776a240e5e7c9 2021-07-26    12  NaN              NaN   NaN   \n164579  621e36f967b776a240e5e7c9 2021-12-07    11  NaN              NaN   NaN   \n164580  621e375367b776a24021e950 2022-02-01    17  NaN              NaN   NaN   \n164581  621e375b67b776a240290cdc 2021-01-06    14  NaN              NaN   NaN   \n\n        nightly_temperature  nremhr  spo2  rmssd  ...  minutes_in_zone_1  \\\n0                       NaN     NaN   NaN    NaN  ...                NaN   \n1                 35.025730     NaN   NaN    NaN  ...              119.0   \n2                 34.866951     NaN   NaN    NaN  ...                NaN   \n3                 35.349583     NaN   NaN    NaN  ...               36.0   \n4                 34.495486     NaN   NaN    NaN  ...                NaN   \n...                     ...     ...   ...    ...  ...                ...   \n164577                  NaN     NaN   NaN    NaN  ...                NaN   \n164578                  NaN     NaN   NaN    NaN  ...                NaN   \n164579                  NaN     NaN   NaN    NaN  ...                NaN   \n164580                  NaN     NaN   NaN    NaN  ...                NaN   \n164581                  NaN     NaN   NaN    NaN  ...                NaN   \n\n        minutes_in_zone_2  minutes_in_zone_3  water_amount  mood_value  \\\n0                     NaN                NaN           NaN         NaN   \n1                     0.0                0.0           NaN         NaN   \n2                     NaN                NaN           NaN         NaN   \n3                     0.0                0.0           NaN         NaN   \n4                     NaN                NaN           NaN         NaN   \n...                   ...                ...           ...         ...   \n164577                NaN                NaN           NaN         NaN   \n164578                NaN                NaN           NaN         NaN   \n164579                NaN                NaN           NaN         NaN   \n164580                NaN                NaN           NaN         NaN   \n164581                NaN                NaN           NaN         NaN   \n\n        gender  age   bmi  positive_affect_score  negative_affect_score  \n0       FEMALE  <30  >=25                    NaN                    NaN  \n1       FEMALE  <30  >=25                    NaN                    NaN  \n2       FEMALE  <30  >=25                    NaN                    NaN  \n3       FEMALE  <30  >=25                    NaN                    NaN  \n4       FEMALE  <30  >=25                    NaN                    NaN  \n...        ...  ...   ...                    ...                    ...  \n164577     NaN  NaN   NaN          Above average          Below average  \n164578     NaN  NaN   NaN          Below average          Above average  \n164579     NaN  NaN   NaN                Average                Average  \n164580     NaN  NaN   NaN                Average          Above average  \n164581     NaN  NaN   NaN          Below average          Above average  \n\n[164582 rows x 48 columns]",
      "text/html": "<div>\n<style scoped>\n    .dataframe tbody tr th:only-of-type {\n        vertical-align: middle;\n    }\n\n    .dataframe tbody tr th {\n        vertical-align: top;\n    }\n\n    .dataframe thead th {\n        text-align: right;\n    }\n</style>\n<table border=\"1\" class=\"dataframe\">\n  <thead>\n    <tr style=\"text-align: right;\">\n      <th></th>\n      <th>id</th>\n      <th>date</th>\n      <th>hour</th>\n      <th>ecg</th>\n      <th>heart_rate_alert</th>\n      <th>type</th>\n      <th>nightly_temperature</th>\n      <th>nremhr</th>\n      <th>spo2</th>\n      <th>rmssd</th>\n      <th>...</th>\n      <th>minutes_in_zone_1</th>\n      <th>minutes_in_zone_2</th>\n      <th>minutes_in_zone_3</th>\n      <th>water_amount</th>\n      <th>mood_value</th>\n      <th>gender</th>\n      <th>age</th>\n      <th>bmi</th>\n      <th>positive_affect_score</th>\n      <th>negative_affect_score</th>\n    </tr>\n  </thead>\n  <tbody>\n    <tr>\n      <th>0</th>\n      <td>621e2ff067b776a2403eb737</td>\n      <td>2021-12-22</td>\n      <td>19</td>\n      <td>NSR</td>\n      <td>NONE</td>\n      <td>NaN</td>\n      <td>NaN</td>\n      <td>NaN</td>\n      <td>NaN</td>\n      <td>NaN</td>\n      <td>...</td>\n      <td>NaN</td>\n      <td>NaN</td>\n      <td>NaN</td>\n      <td>NaN</td>\n      <td>NaN</td>\n      <td>FEMALE</td>\n      <td>&lt;30</td>\n      <td>&gt;=25</td>\n      <td>NaN</td>\n      <td>NaN</td>\n    </tr>\n    <tr>\n      <th>1</th>\n      <td>621e2ff067b776a2403eb737</td>\n      <td>2021-11-18</td>\n      <td>0</td>\n      <td>NaN</td>\n      <td>NaN</td>\n      <td>SKIN</td>\n      <td>35.025730</td>\n      <td>NaN</td>\n      <td>NaN</td>\n      <td>NaN</td>\n      <td>...</td>\n      <td>119.0</td>\n      <td>0.0</td>\n      <td>0.0</td>\n      <td>NaN</td>\n      <td>NaN</td>\n      <td>FEMALE</td>\n      <td>&lt;30</td>\n      <td>&gt;=25</td>\n      <td>NaN</td>\n      <td>NaN</td>\n    </tr>\n    <tr>\n      <th>2</th>\n      <td>621e2ff067b776a2403eb737</td>\n      <td>2021-11-18</td>\n      <td>21</td>\n      <td>NaN</td>\n      <td>NaN</td>\n      <td>SKIN</td>\n      <td>34.866951</td>\n      <td>NaN</td>\n      <td>NaN</td>\n      <td>NaN</td>\n      <td>...</td>\n      <td>NaN</td>\n      <td>NaN</td>\n      <td>NaN</td>\n      <td>NaN</td>\n      <td>NaN</td>\n      <td>FEMALE</td>\n      <td>&lt;30</td>\n      <td>&gt;=25</td>\n      <td>NaN</td>\n      <td>NaN</td>\n    </tr>\n    <tr>\n      <th>3</th>\n      <td>621e2ff067b776a2403eb737</td>\n      <td>2021-11-20</td>\n      <td>0</td>\n      <td>NaN</td>\n      <td>NaN</td>\n      <td>SKIN</td>\n      <td>35.349583</td>\n      <td>NaN</td>\n      <td>NaN</td>\n      <td>NaN</td>\n      <td>...</td>\n      <td>36.0</td>\n      <td>0.0</td>\n      <td>0.0</td>\n      <td>NaN</td>\n      <td>NaN</td>\n      <td>FEMALE</td>\n      <td>&lt;30</td>\n      <td>&gt;=25</td>\n      <td>NaN</td>\n      <td>NaN</td>\n    </tr>\n    <tr>\n      <th>4</th>\n      <td>621e2ff067b776a2403eb737</td>\n      <td>2021-11-20</td>\n      <td>23</td>\n      <td>NaN</td>\n      <td>NaN</td>\n      <td>SKIN</td>\n      <td>34.495486</td>\n      <td>NaN</td>\n      <td>NaN</td>\n      <td>NaN</td>\n      <td>...</td>\n      <td>NaN</td>\n      <td>NaN</td>\n      <td>NaN</td>\n      <td>NaN</td>\n      <td>NaN</td>\n      <td>FEMALE</td>\n      <td>&lt;30</td>\n      <td>&gt;=25</td>\n      <td>NaN</td>\n      <td>NaN</td>\n    </tr>\n    <tr>\n      <th>...</th>\n      <td>...</td>\n      <td>...</td>\n      <td>...</td>\n      <td>...</td>\n      <td>...</td>\n      <td>...</td>\n      <td>...</td>\n      <td>...</td>\n      <td>...</td>\n      <td>...</td>\n      <td>...</td>\n      <td>...</td>\n      <td>...</td>\n      <td>...</td>\n      <td>...</td>\n      <td>...</td>\n      <td>...</td>\n      <td>...</td>\n      <td>...</td>\n      <td>...</td>\n      <td>...</td>\n    </tr>\n    <tr>\n      <th>164577</th>\n      <td>621e36f967b776a240e5e7c9</td>\n      <td>2021-05-07</td>\n      <td>11</td>\n      <td>NaN</td>\n      <td>NaN</td>\n      <td>NaN</td>\n      <td>NaN</td>\n      <td>NaN</td>\n      <td>NaN</td>\n      <td>NaN</td>\n      <td>...</td>\n      <td>NaN</td>\n      <td>NaN</td>\n      <td>NaN</td>\n      <td>NaN</td>\n      <td>NaN</td>\n      <td>NaN</td>\n      <td>NaN</td>\n      <td>NaN</td>\n      <td>Above average</td>\n      <td>Below average</td>\n    </tr>\n    <tr>\n      <th>164578</th>\n      <td>621e36f967b776a240e5e7c9</td>\n      <td>2021-07-26</td>\n      <td>12</td>\n      <td>NaN</td>\n      <td>NaN</td>\n      <td>NaN</td>\n      <td>NaN</td>\n      <td>NaN</td>\n      <td>NaN</td>\n      <td>NaN</td>\n      <td>...</td>\n      <td>NaN</td>\n      <td>NaN</td>\n      <td>NaN</td>\n      <td>NaN</td>\n      <td>NaN</td>\n      <td>NaN</td>\n      <td>NaN</td>\n      <td>NaN</td>\n      <td>Below average</td>\n      <td>Above average</td>\n    </tr>\n    <tr>\n      <th>164579</th>\n      <td>621e36f967b776a240e5e7c9</td>\n      <td>2021-12-07</td>\n      <td>11</td>\n      <td>NaN</td>\n      <td>NaN</td>\n      <td>NaN</td>\n      <td>NaN</td>\n      <td>NaN</td>\n      <td>NaN</td>\n      <td>NaN</td>\n      <td>...</td>\n      <td>NaN</td>\n      <td>NaN</td>\n      <td>NaN</td>\n      <td>NaN</td>\n      <td>NaN</td>\n      <td>NaN</td>\n      <td>NaN</td>\n      <td>NaN</td>\n      <td>Average</td>\n      <td>Average</td>\n    </tr>\n    <tr>\n      <th>164580</th>\n      <td>621e375367b776a24021e950</td>\n      <td>2022-02-01</td>\n      <td>17</td>\n      <td>NaN</td>\n      <td>NaN</td>\n      <td>NaN</td>\n      <td>NaN</td>\n      <td>NaN</td>\n      <td>NaN</td>\n      <td>NaN</td>\n      <td>...</td>\n      <td>NaN</td>\n      <td>NaN</td>\n      <td>NaN</td>\n      <td>NaN</td>\n      <td>NaN</td>\n      <td>NaN</td>\n      <td>NaN</td>\n      <td>NaN</td>\n      <td>Average</td>\n      <td>Above average</td>\n    </tr>\n    <tr>\n      <th>164581</th>\n      <td>621e375b67b776a240290cdc</td>\n      <td>2021-01-06</td>\n      <td>14</td>\n      <td>NaN</td>\n      <td>NaN</td>\n      <td>NaN</td>\n      <td>NaN</td>\n      <td>NaN</td>\n      <td>NaN</td>\n      <td>NaN</td>\n      <td>...</td>\n      <td>NaN</td>\n      <td>NaN</td>\n      <td>NaN</td>\n      <td>NaN</td>\n      <td>NaN</td>\n      <td>NaN</td>\n      <td>NaN</td>\n      <td>NaN</td>\n      <td>Below average</td>\n      <td>Above average</td>\n    </tr>\n  </tbody>\n</table>\n<p>164582 rows × 48 columns</p>\n</div>"
     },
     "execution_count": 106,
     "metadata": {},
     "output_type": "execute_result"
    }
   ],
   "source": [
    "# merge with fitbit data\n",
    "df = fitbit_df.merge(panas, how='outer', on=['id', 'date', 'hour'])\n",
    "df"
   ],
   "metadata": {
    "collapsed": false,
    "pycharm": {
     "name": "#%%\n"
    }
   }
  },
  {
   "cell_type": "markdown",
   "source": [
    "##### stai"
   ],
   "metadata": {
    "collapsed": false,
    "pycharm": {
     "name": "#%% md\n"
    }
   }
  },
  {
   "cell_type": "code",
   "execution_count": 107,
   "outputs": [],
   "source": [
    "# stai = pd.DataFrame(columns=[\"user_id\", \"data\"])\n",
    "#\n",
    "# # read and load from MongoDB\n",
    "# for user in users:\n",
    "#     user_data = pd.DataFrame(list(\n",
    "#         db.surveys.find({\"$and\": [\n",
    "#             {\"type\": \"stai\"},\n",
    "#             {\"user_id\": user}\n",
    "#         ]},{\"_id\": 0})))\n",
    "#     stai = pd.concat([stai, user_data], axis=0)\n",
    "#\n",
    "# # process the datetime object\n",
    "# stai[\"date\"] = stai[\"data\"].apply(lambda d: d[\"submitdate\"])\n",
    "# stai = data_loading.date_conversion(stai)\n",
    "#\n",
    "# # split data column (json format) into two columns (df format)\n",
    "# for engage in range(1,21):\n",
    "#     if engage < 10:\n",
    "#         col_name = \"STAI[SQ00{}]\".format(engage)\n",
    "#     else:\n",
    "#         col_name = \"STAI[SQ0{}]\".format(engage)\n",
    "#     stai[col_name] = stai[\"data\"].apply(lambda d: d[col_name])\n",
    "# stai.drop(['data', 'type'], axis=1, inplace=True)\n",
    "#\n",
    "# # convert 5-likert to 4-likert scale (mistakenly the STAI scale was distributed with a 5-likert, but it's originally 4-likert)\n",
    "# stai.iloc[:, 3:] = stai.iloc[:, 3:].apply(lambda x: surveys_scoring.convert_5_to_4_likert(x))\n",
    "# for col in stai.iloc[:, 3:].columns:\n",
    "#     stai[col] = stai[col].apply(lambda x: surveys_scoring.proper_round(x))\n",
    "#\n",
    "# # Based on the scoring document: https://oml.eular.org/sysModules/obxOML/docs/id_150/State-Trait-Anxiety-Inventory.pdf, some questions are reversed in STAI\n",
    "# stai_reversed = [\"STAI[SQ001]\", \"STAI[SQ002]\", \"STAI[SQ005]\", \"STAI[SQ008]\", \"STAI[SQ010]\", \"STAI[SQ011]\", \"STAI[SQ015]\", \"STAI[SQ016]\", \"STAI[SQ019]\", \"STAI[SQ020]\"]\n",
    "# for col in stai.columns:\n",
    "#     if col in stai_reversed:\n",
    "#         stai[col] = stai[col].apply(lambda score: surveys_scoring.inverse_score(score, 1, 4))\n",
    "#\n",
    "# # to calculate the total stress score simply sum per\n",
    "# stai['stai_stress'] = stai.iloc[:, 3:].sum(axis=1)\n",
    "#\n",
    "# # convert the score into stress category using mean and std of a specific subgroup\n",
    "# mean_stai = stai['stai_stress'].mean()\n",
    "# std_stai = stai['stai_stress'].std()\n",
    "# stai['stai_stress'] = stai['stai_stress'].apply(lambda score: surveys_scoring.get_stai_category(score, mean_stai, std_stai))\n",
    "#\n",
    "# # drop unnecessary columns and rename columns\n",
    "# stai = stai[stai.columns.drop(list(stai.filter(regex='STAI\\[SQ')))]\n",
    "# stai.rename(columns={'user_id': 'id'}, inplace=True)\n",
    "#\n",
    "# # check for duplicates\n",
    "# # Findings: 25 duplicates found based on (id, date) which is wrong, since this answer had to be collected max once per two weeks\n",
    "# # Approach: keep the latest record\n",
    "# stai.sort_values(by=['id', 'date', 'hour'], inplace=True)\n",
    "# stai.drop_duplicates(subset=[\"id\", \"date\"], inplace=True, keep=\"last\")\n",
    "# stai"
   ],
   "metadata": {
    "collapsed": false,
    "pycharm": {
     "name": "#%%\n"
    }
   }
  },
  {
   "cell_type": "code",
   "execution_count": 108,
   "outputs": [],
   "source": [
    "# # merge with fitbit data\n",
    "# df = fitbit_df.merge(stai, how='outer', on=['id', 'date', 'hour'])\n",
    "# duplicate = df[df.duplicated(['id', 'date', 'hour'])]\n",
    "# duplicate\n",
    "# df"
   ],
   "metadata": {
    "collapsed": false,
    "pycharm": {
     "name": "#%%\n"
    }
   }
  },
  {
   "cell_type": "markdown",
   "source": [
    "##### ttmspbf"
   ],
   "metadata": {
    "collapsed": false,
    "pycharm": {
     "name": "#%% md\n"
    }
   }
  },
  {
   "cell_type": "code",
   "execution_count": 109,
   "outputs": [],
   "source": [
    "# ttm = pd.DataFrame(columns=[\"user_id\", \"data\"])\n",
    "# for user in users:\n",
    "#     user_data = pd.DataFrame(list(\n",
    "#         db.surveys.find({\"$and\": [\n",
    "#             {\"type\": \"ttmspbf\"},\n",
    "#             {\"user_id\": user}\n",
    "#         ]}, {\"_id\": 0})))\n",
    "#     ttm = pd.concat([ttm, user_data], axis=0)\n",
    "#\n",
    "# ttm[\"date\"] = ttm[\"data\"].apply(lambda d: d[\"submitdate\"])\n",
    "# ttm[\"stage\"] = ttm[\"data\"].apply(lambda d: d[\"stage\"])\n",
    "# ttm = data_loading.date_conversion(ttm)\n",
    "#\n",
    "# for engage in range(2,32):\n",
    "#     if engage < 10:\n",
    "#         col_name = \"processes[SQ00{}]\".format(engage)\n",
    "#         new_col_name = \"processes[SQ00{}]\".format(engage-1)\n",
    "#     else:\n",
    "#         col_name = \"processes[SQ0{}]\".format(engage)\n",
    "#         if engage == 10:\n",
    "#             new_col_name = \"processes[SQ00{}]\".format(engage-1)\n",
    "#         else:\n",
    "#             new_col_name = \"processes[SQ0{}]\".format(engage-1)\n",
    "#     ttm[new_col_name] = ttm[\"data\"].apply(lambda d: d[col_name])\n",
    "# ttm.drop(['data'], axis=1, inplace=True)\n",
    "#\n",
    "# ttm[\"stage\"] = ttm.stage.apply(lambda response: surveys_scoring.define_stage_of_change(response))\n",
    "# ttm\n",
    "# # users_ttm.drop_duplicates(subset=[\"user_id\", \"submitdate\"], keep=\"last\", inplace=True)\n",
    "# # print(\"We have {} survey responses for the TTM and Processes of Change scale after duplicate elimination.\".format(users_ttm.shape[0]))\n",
    "#\n",
    "# # users_ttm[\"ttm_consciousness_raising\"] = users_ttm[[\"processes[SQ001]\",\"processes[SQ011]\", \"processes[SQ021]\"]].mean(axis=1)\n",
    "# # users_ttm[\"ttm_dramatic_relief\"] = users_ttm[[\"processes[SQ002]\",\"processes[SQ012]\", \"processes[SQ022]\"]].mean(axis=1)\n",
    "# # users_ttm[\"ttm_environmental_reevaluation\"] = users_ttm[[\"processes[SQ003]\",\"processes[SQ013]\", \"processes[SQ023]\"]].mean(axis=1)\n",
    "# # users_ttm[\"ttm_self_reevaluation\"] = users_ttm[[\"processes[SQ004]\",\"processes[SQ014]\", \"processes[SQ024]\"]].mean(axis=1)\n",
    "# # users_ttm[\"ttm_social_liberation\"] = users_ttm[[\"processes[SQ005]\",\"processes[SQ015]\", \"processes[SQ025]\"]].mean(axis=1)\n",
    "# # users_ttm[\"ttm_counterconditioning\"] = users_ttm[[\"processes[SQ006]\",\"processes[SQ016]\", \"processes[SQ026]\"]].mean(axis=1)\n",
    "# # users_ttm[\"ttm_helping_relationships\"] = users_ttm[[\"processes[SQ007]\",\"processes[SQ017]\", \"processes[SQ027]\"]].mean(axis=1)\n",
    "# # users_ttm[\"ttm_reinforcement_management\"] = users_ttm[[\"processes[SQ008]\",\"processes[SQ018]\", \"processes[SQ028]\"]].mean(axis=1)\n",
    "# # users_ttm[\"ttm_self_liberation\"] = users_ttm[[\"processes[SQ009]\",\"processes[SQ019]\", \"processes[SQ029]\"]].mean(axis=1)\n",
    "# # users_ttm[\"ttm_stimulus_control\"] = users_ttm[[\"processes[SQ010]\",\"processes[SQ020]\", \"processes[SQ030]\"]].mean(axis=1)\n",
    "#\n",
    "# # users_ttm = users_ttm[users_ttm.columns.drop(list(users_ttm.filter(regex='processes')))]\n"
   ],
   "metadata": {
    "collapsed": false,
    "pycharm": {
     "name": "#%%\n"
    }
   }
  },
  {
   "cell_type": "code",
   "execution_count": 109,
   "outputs": [],
   "source": [],
   "metadata": {
    "collapsed": false,
    "pycharm": {
     "name": "#%%\n"
    }
   }
  }
 ],
 "metadata": {
  "kernelspec": {
   "display_name": "Python 3",
   "language": "python",
   "name": "python3"
  },
  "language_info": {
   "codemirror_mode": {
    "name": "ipython",
    "version": 2
   },
   "file_extension": ".py",
   "mimetype": "text/x-python",
   "name": "python",
   "nbconvert_exporter": "python",
   "pygments_lexer": "ipython2",
   "version": "2.7.6"
  }
 },
 "nbformat": 4,
 "nbformat_minor": 0
}