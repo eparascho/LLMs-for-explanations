{
 "cells": [
  {
   "cell_type": "markdown",
   "source": [
    "##### This notebook collects all the sema data from MongoDB and creates the corresponding dataframe."
   ],
   "metadata": {
    "collapsed": false,
    "pycharm": {
     "name": "#%% md\n"
    }
   }
  },
  {
   "cell_type": "code",
   "execution_count": 126,
   "outputs": [],
   "source": [
    "import os\n",
    "import warnings\n",
    "import datetime\n",
    "import numpy as np\n",
    "import pandas as pd\n",
    "from dotenv import load_dotenv\n",
    "from pymongo import MongoClient\n",
    "from functions import data_loading\n",
    "from functions import surveys_scoring\n",
    "from dataprep.eda import create_report\n",
    "\n",
    "warnings.filterwarnings(\"ignore\")"
   ],
   "metadata": {
    "collapsed": false,
    "pycharm": {
     "name": "#%%\n"
    }
   }
  },
  {
   "cell_type": "markdown",
   "source": [
    "Connect securely to the database"
   ],
   "metadata": {
    "collapsed": false,
    "pycharm": {
     "name": "#%% md\n"
    }
   }
  },
  {
   "cell_type": "code",
   "execution_count": 127,
   "outputs": [],
   "source": [
    "load_dotenv(\"../config.env\")\n",
    "MONGO_USER = os.getenv(\"MONGO_USER\")\n",
    "MONGO_PASSWORD = os.getenv(\"MONGO_PASSWORD\")\n",
    "client = MongoClient(\"mongodb://\" + MONGO_USER + \":\" + MONGO_PASSWORD + \"@localhost:27017/\")\n",
    "db = client.rais"
   ],
   "metadata": {
    "collapsed": false,
    "pycharm": {
     "name": "#%%\n"
    }
   }
  },
  {
   "cell_type": "markdown",
   "source": [
    "Load fitbit data"
   ],
   "metadata": {
    "collapsed": false,
    "pycharm": {
     "name": "#%% md\n"
    }
   }
  },
  {
   "cell_type": "code",
   "execution_count": 128,
   "outputs": [
    {
     "data": {
      "text/plain": "                              id       date  hour  ecg heart_rate_alert  type  \\\n0       621e2ff067b776a2403eb737 2021-12-22    19  NSR             NONE   NaN   \n1       621e2ff067b776a2403eb737 2021-11-18     0  NaN              NaN  SKIN   \n2       621e2ff067b776a2403eb737 2021-11-18    21  NaN              NaN  SKIN   \n3       621e2ff067b776a2403eb737 2021-11-20     0  NaN              NaN  SKIN   \n4       621e2ff067b776a2403eb737 2021-11-20    23  NaN              NaN  SKIN   \n...                          ...        ...   ...  ...              ...   ...   \n164490  621e36bb67b776a240b40d64 2022-01-18     0  NaN              NaN   NaN   \n164491  621e36bb67b776a240b40d64 2022-01-19     0  NaN              NaN   NaN   \n164492  621e36bb67b776a240b40d64 2022-01-20     0  NaN              NaN   NaN   \n164493  621e36bb67b776a240b40d64 2022-01-21     0  NaN              NaN   NaN   \n164494  621e36bb67b776a240b40d64 2022-01-22     0  NaN              NaN   NaN   \n\n        nightly_temperature  nremhr  spo2  rmssd  ...  very_active_minutes  \\\n0                       NaN     NaN   NaN    NaN  ...                  NaN   \n1                 35.025730     NaN   NaN    NaN  ...                  0.0   \n2                 34.866951     NaN   NaN    NaN  ...                  NaN   \n3                 35.349583     NaN   NaN    NaN  ...                  0.0   \n4                 34.495486     NaN   NaN    NaN  ...                  NaN   \n...                     ...     ...   ...    ...  ...                  ...   \n164490                  NaN     NaN   NaN    NaN  ...                  NaN   \n164491                  NaN     NaN   NaN    NaN  ...                  NaN   \n164492                  NaN     NaN   NaN    NaN  ...                  NaN   \n164493                  NaN     NaN   NaN    NaN  ...                  NaN   \n164494                  NaN     NaN   NaN    NaN  ...                  NaN   \n\n        minutes_below_zone_1  minutes_in_zone_1  minutes_in_zone_2  \\\n0                        NaN                NaN                NaN   \n1                     1303.0              119.0                0.0   \n2                        NaN                NaN                NaN   \n3                     1400.0               36.0                0.0   \n4                        NaN                NaN                NaN   \n...                      ...                ...                ...   \n164490                   NaN                NaN                NaN   \n164491                   NaN                NaN                NaN   \n164492                   NaN                NaN                NaN   \n164493                   NaN                NaN                NaN   \n164494                   NaN                NaN                NaN   \n\n        minutes_in_zone_3  water_amount  mood_value  gender  age   bmi  \n0                     NaN           NaN         NaN  FEMALE  <30  >=25  \n1                     0.0           NaN         NaN  FEMALE  <30  >=25  \n2                     NaN           NaN         NaN  FEMALE  <30  >=25  \n3                     0.0           NaN         NaN  FEMALE  <30  >=25  \n4                     NaN           NaN         NaN  FEMALE  <30  >=25  \n...                   ...           ...         ...     ...  ...   ...  \n164490                NaN           NaN         NaN  FEMALE  <30  24.0  \n164491                NaN           NaN         NaN  FEMALE  <30  24.0  \n164492                NaN           NaN         NaN  FEMALE  <30  24.0  \n164493                NaN           NaN         NaN  FEMALE  <30  24.0  \n164494                NaN           NaN         NaN  FEMALE  <30  24.0  \n\n[164495 rows x 46 columns]",
      "text/html": "<div>\n<style scoped>\n    .dataframe tbody tr th:only-of-type {\n        vertical-align: middle;\n    }\n\n    .dataframe tbody tr th {\n        vertical-align: top;\n    }\n\n    .dataframe thead th {\n        text-align: right;\n    }\n</style>\n<table border=\"1\" class=\"dataframe\">\n  <thead>\n    <tr style=\"text-align: right;\">\n      <th></th>\n      <th>id</th>\n      <th>date</th>\n      <th>hour</th>\n      <th>ecg</th>\n      <th>heart_rate_alert</th>\n      <th>type</th>\n      <th>nightly_temperature</th>\n      <th>nremhr</th>\n      <th>spo2</th>\n      <th>rmssd</th>\n      <th>...</th>\n      <th>very_active_minutes</th>\n      <th>minutes_below_zone_1</th>\n      <th>minutes_in_zone_1</th>\n      <th>minutes_in_zone_2</th>\n      <th>minutes_in_zone_3</th>\n      <th>water_amount</th>\n      <th>mood_value</th>\n      <th>gender</th>\n      <th>age</th>\n      <th>bmi</th>\n    </tr>\n  </thead>\n  <tbody>\n    <tr>\n      <th>0</th>\n      <td>621e2ff067b776a2403eb737</td>\n      <td>2021-12-22</td>\n      <td>19</td>\n      <td>NSR</td>\n      <td>NONE</td>\n      <td>NaN</td>\n      <td>NaN</td>\n      <td>NaN</td>\n      <td>NaN</td>\n      <td>NaN</td>\n      <td>...</td>\n      <td>NaN</td>\n      <td>NaN</td>\n      <td>NaN</td>\n      <td>NaN</td>\n      <td>NaN</td>\n      <td>NaN</td>\n      <td>NaN</td>\n      <td>FEMALE</td>\n      <td>&lt;30</td>\n      <td>&gt;=25</td>\n    </tr>\n    <tr>\n      <th>1</th>\n      <td>621e2ff067b776a2403eb737</td>\n      <td>2021-11-18</td>\n      <td>0</td>\n      <td>NaN</td>\n      <td>NaN</td>\n      <td>SKIN</td>\n      <td>35.025730</td>\n      <td>NaN</td>\n      <td>NaN</td>\n      <td>NaN</td>\n      <td>...</td>\n      <td>0.0</td>\n      <td>1303.0</td>\n      <td>119.0</td>\n      <td>0.0</td>\n      <td>0.0</td>\n      <td>NaN</td>\n      <td>NaN</td>\n      <td>FEMALE</td>\n      <td>&lt;30</td>\n      <td>&gt;=25</td>\n    </tr>\n    <tr>\n      <th>2</th>\n      <td>621e2ff067b776a2403eb737</td>\n      <td>2021-11-18</td>\n      <td>21</td>\n      <td>NaN</td>\n      <td>NaN</td>\n      <td>SKIN</td>\n      <td>34.866951</td>\n      <td>NaN</td>\n      <td>NaN</td>\n      <td>NaN</td>\n      <td>...</td>\n      <td>NaN</td>\n      <td>NaN</td>\n      <td>NaN</td>\n      <td>NaN</td>\n      <td>NaN</td>\n      <td>NaN</td>\n      <td>NaN</td>\n      <td>FEMALE</td>\n      <td>&lt;30</td>\n      <td>&gt;=25</td>\n    </tr>\n    <tr>\n      <th>3</th>\n      <td>621e2ff067b776a2403eb737</td>\n      <td>2021-11-20</td>\n      <td>0</td>\n      <td>NaN</td>\n      <td>NaN</td>\n      <td>SKIN</td>\n      <td>35.349583</td>\n      <td>NaN</td>\n      <td>NaN</td>\n      <td>NaN</td>\n      <td>...</td>\n      <td>0.0</td>\n      <td>1400.0</td>\n      <td>36.0</td>\n      <td>0.0</td>\n      <td>0.0</td>\n      <td>NaN</td>\n      <td>NaN</td>\n      <td>FEMALE</td>\n      <td>&lt;30</td>\n      <td>&gt;=25</td>\n    </tr>\n    <tr>\n      <th>4</th>\n      <td>621e2ff067b776a2403eb737</td>\n      <td>2021-11-20</td>\n      <td>23</td>\n      <td>NaN</td>\n      <td>NaN</td>\n      <td>SKIN</td>\n      <td>34.495486</td>\n      <td>NaN</td>\n      <td>NaN</td>\n      <td>NaN</td>\n      <td>...</td>\n      <td>NaN</td>\n      <td>NaN</td>\n      <td>NaN</td>\n      <td>NaN</td>\n      <td>NaN</td>\n      <td>NaN</td>\n      <td>NaN</td>\n      <td>FEMALE</td>\n      <td>&lt;30</td>\n      <td>&gt;=25</td>\n    </tr>\n    <tr>\n      <th>...</th>\n      <td>...</td>\n      <td>...</td>\n      <td>...</td>\n      <td>...</td>\n      <td>...</td>\n      <td>...</td>\n      <td>...</td>\n      <td>...</td>\n      <td>...</td>\n      <td>...</td>\n      <td>...</td>\n      <td>...</td>\n      <td>...</td>\n      <td>...</td>\n      <td>...</td>\n      <td>...</td>\n      <td>...</td>\n      <td>...</td>\n      <td>...</td>\n      <td>...</td>\n      <td>...</td>\n    </tr>\n    <tr>\n      <th>164490</th>\n      <td>621e36bb67b776a240b40d64</td>\n      <td>2022-01-18</td>\n      <td>0</td>\n      <td>NaN</td>\n      <td>NaN</td>\n      <td>NaN</td>\n      <td>NaN</td>\n      <td>NaN</td>\n      <td>NaN</td>\n      <td>NaN</td>\n      <td>...</td>\n      <td>NaN</td>\n      <td>NaN</td>\n      <td>NaN</td>\n      <td>NaN</td>\n      <td>NaN</td>\n      <td>NaN</td>\n      <td>NaN</td>\n      <td>FEMALE</td>\n      <td>&lt;30</td>\n      <td>24.0</td>\n    </tr>\n    <tr>\n      <th>164491</th>\n      <td>621e36bb67b776a240b40d64</td>\n      <td>2022-01-19</td>\n      <td>0</td>\n      <td>NaN</td>\n      <td>NaN</td>\n      <td>NaN</td>\n      <td>NaN</td>\n      <td>NaN</td>\n      <td>NaN</td>\n      <td>NaN</td>\n      <td>...</td>\n      <td>NaN</td>\n      <td>NaN</td>\n      <td>NaN</td>\n      <td>NaN</td>\n      <td>NaN</td>\n      <td>NaN</td>\n      <td>NaN</td>\n      <td>FEMALE</td>\n      <td>&lt;30</td>\n      <td>24.0</td>\n    </tr>\n    <tr>\n      <th>164492</th>\n      <td>621e36bb67b776a240b40d64</td>\n      <td>2022-01-20</td>\n      <td>0</td>\n      <td>NaN</td>\n      <td>NaN</td>\n      <td>NaN</td>\n      <td>NaN</td>\n      <td>NaN</td>\n      <td>NaN</td>\n      <td>NaN</td>\n      <td>...</td>\n      <td>NaN</td>\n      <td>NaN</td>\n      <td>NaN</td>\n      <td>NaN</td>\n      <td>NaN</td>\n      <td>NaN</td>\n      <td>NaN</td>\n      <td>FEMALE</td>\n      <td>&lt;30</td>\n      <td>24.0</td>\n    </tr>\n    <tr>\n      <th>164493</th>\n      <td>621e36bb67b776a240b40d64</td>\n      <td>2022-01-21</td>\n      <td>0</td>\n      <td>NaN</td>\n      <td>NaN</td>\n      <td>NaN</td>\n      <td>NaN</td>\n      <td>NaN</td>\n      <td>NaN</td>\n      <td>NaN</td>\n      <td>...</td>\n      <td>NaN</td>\n      <td>NaN</td>\n      <td>NaN</td>\n      <td>NaN</td>\n      <td>NaN</td>\n      <td>NaN</td>\n      <td>NaN</td>\n      <td>FEMALE</td>\n      <td>&lt;30</td>\n      <td>24.0</td>\n    </tr>\n    <tr>\n      <th>164494</th>\n      <td>621e36bb67b776a240b40d64</td>\n      <td>2022-01-22</td>\n      <td>0</td>\n      <td>NaN</td>\n      <td>NaN</td>\n      <td>NaN</td>\n      <td>NaN</td>\n      <td>NaN</td>\n      <td>NaN</td>\n      <td>NaN</td>\n      <td>...</td>\n      <td>NaN</td>\n      <td>NaN</td>\n      <td>NaN</td>\n      <td>NaN</td>\n      <td>NaN</td>\n      <td>NaN</td>\n      <td>NaN</td>\n      <td>FEMALE</td>\n      <td>&lt;30</td>\n      <td>24.0</td>\n    </tr>\n  </tbody>\n</table>\n<p>164495 rows × 46 columns</p>\n</div>"
     },
     "execution_count": 128,
     "metadata": {},
     "output_type": "execute_result"
    }
   ],
   "source": [
    "fitbit_df = pd.read_pickle('../data/temp_fitbit.pkl')\n",
    "fitbit_df"
   ],
   "metadata": {
    "collapsed": false,
    "pycharm": {
     "name": "#%%\n"
    }
   }
  },
  {
   "cell_type": "markdown",
   "source": [
    "#### Sema data"
   ],
   "metadata": {
    "collapsed": false,
    "pycharm": {
     "name": "#%% md\n"
    }
   }
  },
  {
   "cell_type": "markdown",
   "source": [
    "Find all users provided their survey data"
   ],
   "metadata": {
    "collapsed": false,
    "pycharm": {
     "name": "#%% md\n"
    }
   }
  },
  {
   "cell_type": "code",
   "execution_count": 129,
   "outputs": [
    {
     "name": "stdout",
     "output_type": "stream",
     "text": [
      "63 users provided their survey data\n"
     ]
    }
   ],
   "source": [
    "users = db.sema.distinct('user_id')\n",
    "print(len(users), \"users provided their survey data\")"
   ],
   "metadata": {
    "collapsed": false,
    "pycharm": {
     "name": "#%%\n"
    }
   }
  },
  {
   "cell_type": "markdown",
   "source": [
    "Information about the manually declared steps goal from sema"
   ],
   "metadata": {
    "collapsed": false,
    "pycharm": {
     "name": "#%% md\n"
    }
   }
  },
  {
   "cell_type": "code",
   "execution_count": 130,
   "outputs": [
    {
     "data": {
      "text/plain": "                              id       date  hour  ecg heart_rate_alert  type  \\\n0       621e2ff067b776a2403eb737 2021-12-22    19  NSR             NONE   NaN   \n1       621e2ff067b776a2403eb737 2021-11-18     0  NaN              NaN  SKIN   \n2       621e2ff067b776a2403eb737 2021-11-18    21  NaN              NaN  SKIN   \n3       621e2ff067b776a2403eb737 2021-11-20     0  NaN              NaN  SKIN   \n4       621e2ff067b776a2403eb737 2021-11-20    23  NaN              NaN  SKIN   \n...                          ...        ...   ...  ...              ...   ...   \n164538  621e36f967b776a240e5e7c9 2021-05-03    11  NaN              NaN   NaN   \n164539  621e36f967b776a240e5e7c9 2021-05-06    11  NaN              NaN   NaN   \n164540  621e36f967b776a240e5e7c9 2021-05-15    13  NaN              NaN   NaN   \n164541  621e36f967b776a240e5e7c9 2021-05-16    12  NaN              NaN   NaN   \n164542  621e36f967b776a240e5e7c9 2021-05-17    11  NaN              NaN   NaN   \n\n        nightly_temperature  nremhr  spo2  rmssd  ...  minutes_below_zone_1  \\\n0                       NaN     NaN   NaN    NaN  ...                   NaN   \n1                 35.025730     NaN   NaN    NaN  ...                1303.0   \n2                 34.866951     NaN   NaN    NaN  ...                   NaN   \n3                 35.349583     NaN   NaN    NaN  ...                1400.0   \n4                 34.495486     NaN   NaN    NaN  ...                   NaN   \n...                     ...     ...   ...    ...  ...                   ...   \n164538                  NaN     NaN   NaN    NaN  ...                   NaN   \n164539                  NaN     NaN   NaN    NaN  ...                   NaN   \n164540                  NaN     NaN   NaN    NaN  ...                   NaN   \n164541                  NaN     NaN   NaN    NaN  ...                   NaN   \n164542                  NaN     NaN   NaN    NaN  ...                   NaN   \n\n        minutes_in_zone_1  minutes_in_zone_2  minutes_in_zone_3  water_amount  \\\n0                     NaN                NaN                NaN           NaN   \n1                   119.0                0.0                0.0           NaN   \n2                     NaN                NaN                NaN           NaN   \n3                    36.0                0.0                0.0           NaN   \n4                     NaN                NaN                NaN           NaN   \n...                   ...                ...                ...           ...   \n164538                NaN                NaN                NaN           NaN   \n164539                NaN                NaN                NaN           NaN   \n164540                NaN                NaN                NaN           NaN   \n164541                NaN                NaN                NaN           NaN   \n164542                NaN                NaN                NaN           NaN   \n\n        mood_value  gender  age   bmi  step_goal  \n0              NaN  FEMALE  <30  >=25        NaN  \n1              NaN  FEMALE  <30  >=25        NaN  \n2              NaN  FEMALE  <30  >=25        NaN  \n3              NaN  FEMALE  <30  >=25        NaN  \n4              NaN  FEMALE  <30  >=25        NaN  \n...            ...     ...  ...   ...        ...  \n164538         NaN     NaN  NaN   NaN       7999  \n164539         NaN     NaN  NaN   NaN       9999  \n164540         NaN     NaN  NaN   NaN      14999  \n164541         NaN     NaN  NaN   NaN      14999  \n164542         NaN     NaN  NaN   NaN       9999  \n\n[164543 rows x 47 columns]",
      "text/html": "<div>\n<style scoped>\n    .dataframe tbody tr th:only-of-type {\n        vertical-align: middle;\n    }\n\n    .dataframe tbody tr th {\n        vertical-align: top;\n    }\n\n    .dataframe thead th {\n        text-align: right;\n    }\n</style>\n<table border=\"1\" class=\"dataframe\">\n  <thead>\n    <tr style=\"text-align: right;\">\n      <th></th>\n      <th>id</th>\n      <th>date</th>\n      <th>hour</th>\n      <th>ecg</th>\n      <th>heart_rate_alert</th>\n      <th>type</th>\n      <th>nightly_temperature</th>\n      <th>nremhr</th>\n      <th>spo2</th>\n      <th>rmssd</th>\n      <th>...</th>\n      <th>minutes_below_zone_1</th>\n      <th>minutes_in_zone_1</th>\n      <th>minutes_in_zone_2</th>\n      <th>minutes_in_zone_3</th>\n      <th>water_amount</th>\n      <th>mood_value</th>\n      <th>gender</th>\n      <th>age</th>\n      <th>bmi</th>\n      <th>step_goal</th>\n    </tr>\n  </thead>\n  <tbody>\n    <tr>\n      <th>0</th>\n      <td>621e2ff067b776a2403eb737</td>\n      <td>2021-12-22</td>\n      <td>19</td>\n      <td>NSR</td>\n      <td>NONE</td>\n      <td>NaN</td>\n      <td>NaN</td>\n      <td>NaN</td>\n      <td>NaN</td>\n      <td>NaN</td>\n      <td>...</td>\n      <td>NaN</td>\n      <td>NaN</td>\n      <td>NaN</td>\n      <td>NaN</td>\n      <td>NaN</td>\n      <td>NaN</td>\n      <td>FEMALE</td>\n      <td>&lt;30</td>\n      <td>&gt;=25</td>\n      <td>NaN</td>\n    </tr>\n    <tr>\n      <th>1</th>\n      <td>621e2ff067b776a2403eb737</td>\n      <td>2021-11-18</td>\n      <td>0</td>\n      <td>NaN</td>\n      <td>NaN</td>\n      <td>SKIN</td>\n      <td>35.025730</td>\n      <td>NaN</td>\n      <td>NaN</td>\n      <td>NaN</td>\n      <td>...</td>\n      <td>1303.0</td>\n      <td>119.0</td>\n      <td>0.0</td>\n      <td>0.0</td>\n      <td>NaN</td>\n      <td>NaN</td>\n      <td>FEMALE</td>\n      <td>&lt;30</td>\n      <td>&gt;=25</td>\n      <td>NaN</td>\n    </tr>\n    <tr>\n      <th>2</th>\n      <td>621e2ff067b776a2403eb737</td>\n      <td>2021-11-18</td>\n      <td>21</td>\n      <td>NaN</td>\n      <td>NaN</td>\n      <td>SKIN</td>\n      <td>34.866951</td>\n      <td>NaN</td>\n      <td>NaN</td>\n      <td>NaN</td>\n      <td>...</td>\n      <td>NaN</td>\n      <td>NaN</td>\n      <td>NaN</td>\n      <td>NaN</td>\n      <td>NaN</td>\n      <td>NaN</td>\n      <td>FEMALE</td>\n      <td>&lt;30</td>\n      <td>&gt;=25</td>\n      <td>NaN</td>\n    </tr>\n    <tr>\n      <th>3</th>\n      <td>621e2ff067b776a2403eb737</td>\n      <td>2021-11-20</td>\n      <td>0</td>\n      <td>NaN</td>\n      <td>NaN</td>\n      <td>SKIN</td>\n      <td>35.349583</td>\n      <td>NaN</td>\n      <td>NaN</td>\n      <td>NaN</td>\n      <td>...</td>\n      <td>1400.0</td>\n      <td>36.0</td>\n      <td>0.0</td>\n      <td>0.0</td>\n      <td>NaN</td>\n      <td>NaN</td>\n      <td>FEMALE</td>\n      <td>&lt;30</td>\n      <td>&gt;=25</td>\n      <td>NaN</td>\n    </tr>\n    <tr>\n      <th>4</th>\n      <td>621e2ff067b776a2403eb737</td>\n      <td>2021-11-20</td>\n      <td>23</td>\n      <td>NaN</td>\n      <td>NaN</td>\n      <td>SKIN</td>\n      <td>34.495486</td>\n      <td>NaN</td>\n      <td>NaN</td>\n      <td>NaN</td>\n      <td>...</td>\n      <td>NaN</td>\n      <td>NaN</td>\n      <td>NaN</td>\n      <td>NaN</td>\n      <td>NaN</td>\n      <td>NaN</td>\n      <td>FEMALE</td>\n      <td>&lt;30</td>\n      <td>&gt;=25</td>\n      <td>NaN</td>\n    </tr>\n    <tr>\n      <th>...</th>\n      <td>...</td>\n      <td>...</td>\n      <td>...</td>\n      <td>...</td>\n      <td>...</td>\n      <td>...</td>\n      <td>...</td>\n      <td>...</td>\n      <td>...</td>\n      <td>...</td>\n      <td>...</td>\n      <td>...</td>\n      <td>...</td>\n      <td>...</td>\n      <td>...</td>\n      <td>...</td>\n      <td>...</td>\n      <td>...</td>\n      <td>...</td>\n      <td>...</td>\n      <td>...</td>\n    </tr>\n    <tr>\n      <th>164538</th>\n      <td>621e36f967b776a240e5e7c9</td>\n      <td>2021-05-03</td>\n      <td>11</td>\n      <td>NaN</td>\n      <td>NaN</td>\n      <td>NaN</td>\n      <td>NaN</td>\n      <td>NaN</td>\n      <td>NaN</td>\n      <td>NaN</td>\n      <td>...</td>\n      <td>NaN</td>\n      <td>NaN</td>\n      <td>NaN</td>\n      <td>NaN</td>\n      <td>NaN</td>\n      <td>NaN</td>\n      <td>NaN</td>\n      <td>NaN</td>\n      <td>NaN</td>\n      <td>7999</td>\n    </tr>\n    <tr>\n      <th>164539</th>\n      <td>621e36f967b776a240e5e7c9</td>\n      <td>2021-05-06</td>\n      <td>11</td>\n      <td>NaN</td>\n      <td>NaN</td>\n      <td>NaN</td>\n      <td>NaN</td>\n      <td>NaN</td>\n      <td>NaN</td>\n      <td>NaN</td>\n      <td>...</td>\n      <td>NaN</td>\n      <td>NaN</td>\n      <td>NaN</td>\n      <td>NaN</td>\n      <td>NaN</td>\n      <td>NaN</td>\n      <td>NaN</td>\n      <td>NaN</td>\n      <td>NaN</td>\n      <td>9999</td>\n    </tr>\n    <tr>\n      <th>164540</th>\n      <td>621e36f967b776a240e5e7c9</td>\n      <td>2021-05-15</td>\n      <td>13</td>\n      <td>NaN</td>\n      <td>NaN</td>\n      <td>NaN</td>\n      <td>NaN</td>\n      <td>NaN</td>\n      <td>NaN</td>\n      <td>NaN</td>\n      <td>...</td>\n      <td>NaN</td>\n      <td>NaN</td>\n      <td>NaN</td>\n      <td>NaN</td>\n      <td>NaN</td>\n      <td>NaN</td>\n      <td>NaN</td>\n      <td>NaN</td>\n      <td>NaN</td>\n      <td>14999</td>\n    </tr>\n    <tr>\n      <th>164541</th>\n      <td>621e36f967b776a240e5e7c9</td>\n      <td>2021-05-16</td>\n      <td>12</td>\n      <td>NaN</td>\n      <td>NaN</td>\n      <td>NaN</td>\n      <td>NaN</td>\n      <td>NaN</td>\n      <td>NaN</td>\n      <td>NaN</td>\n      <td>...</td>\n      <td>NaN</td>\n      <td>NaN</td>\n      <td>NaN</td>\n      <td>NaN</td>\n      <td>NaN</td>\n      <td>NaN</td>\n      <td>NaN</td>\n      <td>NaN</td>\n      <td>NaN</td>\n      <td>14999</td>\n    </tr>\n    <tr>\n      <th>164542</th>\n      <td>621e36f967b776a240e5e7c9</td>\n      <td>2021-05-17</td>\n      <td>11</td>\n      <td>NaN</td>\n      <td>NaN</td>\n      <td>NaN</td>\n      <td>NaN</td>\n      <td>NaN</td>\n      <td>NaN</td>\n      <td>NaN</td>\n      <td>...</td>\n      <td>NaN</td>\n      <td>NaN</td>\n      <td>NaN</td>\n      <td>NaN</td>\n      <td>NaN</td>\n      <td>NaN</td>\n      <td>NaN</td>\n      <td>NaN</td>\n      <td>NaN</td>\n      <td>9999</td>\n    </tr>\n  </tbody>\n</table>\n<p>164543 rows × 47 columns</p>\n</div>"
     },
     "execution_count": 130,
     "metadata": {},
     "output_type": "execute_result"
    }
   ],
   "source": [
    "sema_goals = pd.DataFrame(columns=[\"user_id\", \"data\"])\n",
    "\n",
    "# read and load\n",
    "for user in users:\n",
    "    user_data = pd.DataFrame(list(\n",
    "                    db.sema.find({ \"$and\": [\n",
    "                        { \"data.STEPS\": { \"$ne\": \"<no-response>\" } },\n",
    "                        {\"user_id\": user}\n",
    "                    ]},{\"data.STEPS\": 1, \"id\": 1, \"user_id\": 1, \"data.STARTED_TS\": 1, '_id': 0})))\n",
    "    sema_goals = pd.concat([sema_goals, user_data], axis=0)\n",
    "\n",
    "# split data column (json format) into two columns (df format)\n",
    "sema_goals[\"date\"] = sema_goals[\"data\"].apply(lambda d: d[\"STARTED_TS\"])\n",
    "sema_goals[\"step_goal\"] = sema_goals[\"data\"].apply(lambda d: d[\"STEPS\"])\n",
    "sema_goals.drop([\"data\"], inplace=True, axis=1)\n",
    "\n",
    "# process the datetime object and rename the dataframe columns\n",
    "sema_goals = data_loading.date_conversion(sema_goals)\n",
    "sema_goals.rename(columns={'user_id': 'id'}, inplace=True)\n",
    "\n",
    "# check for duplicates\n",
    "# Findings: 6 duplicates found based on (id, date) which is wrong, since this answer had to be collected max once per day\n",
    "# Approach: keep the latest record\n",
    "sema_goals.drop_duplicates(subset=[\"id\", \"date\"], keep=\"last\", inplace=True)\n",
    "\n",
    "# merge with fitbit data\n",
    "df = fitbit_df.merge(sema_goals, how='outer', on=['id', 'date', 'hour'])\n",
    "df"
   ],
   "metadata": {
    "collapsed": false,
    "pycharm": {
     "name": "#%%\n"
    }
   }
  },
  {
   "cell_type": "markdown",
   "source": [
    "Information about the manually reported mood and place from sema"
   ],
   "metadata": {
    "collapsed": false,
    "pycharm": {
     "name": "#%% md\n"
    }
   }
  },
  {
   "cell_type": "code",
   "execution_count": 131,
   "outputs": [
    {
     "data": {
      "text/plain": "                              id       date  hour  ecg heart_rate_alert  type  \\\n0       621e2ff067b776a2403eb737 2021-12-22    19  NSR             NONE   NaN   \n1       621e2ff067b776a2403eb737 2021-11-18     0  NaN              NaN  SKIN   \n2       621e2ff067b776a2403eb737 2021-11-18    21  NaN              NaN  SKIN   \n3       621e2ff067b776a2403eb737 2021-11-20     0  NaN              NaN  SKIN   \n4       621e2ff067b776a2403eb737 2021-11-20    23  NaN              NaN  SKIN   \n...                          ...        ...   ...  ...              ...   ...   \n164615  621e36f967b776a240e5e7c9 2021-05-20    16  NaN              NaN   NaN   \n164616  621e36f967b776a240e5e7c9 2021-05-20    20  NaN              NaN   NaN   \n164617  621e36f967b776a240e5e7c9 2021-05-21    17  NaN              NaN   NaN   \n164618  621e36f967b776a240e5e7c9 2021-05-21    22  NaN              NaN   NaN   \n164619  621e36f967b776a240e5e7c9 2021-05-22    18  NaN              NaN   NaN   \n\n        nightly_temperature  nremhr  spo2  rmssd  ...  minutes_in_zone_2  \\\n0                       NaN     NaN   NaN    NaN  ...                NaN   \n1                 35.025730     NaN   NaN    NaN  ...                0.0   \n2                 34.866951     NaN   NaN    NaN  ...                NaN   \n3                 35.349583     NaN   NaN    NaN  ...                0.0   \n4                 34.495486     NaN   NaN    NaN  ...                NaN   \n...                     ...     ...   ...    ...  ...                ...   \n164615                  NaN     NaN   NaN    NaN  ...                NaN   \n164616                  NaN     NaN   NaN    NaN  ...                NaN   \n164617                  NaN     NaN   NaN    NaN  ...                NaN   \n164618                  NaN     NaN   NaN    NaN  ...                NaN   \n164619                  NaN     NaN   NaN    NaN  ...                NaN   \n\n        minutes_in_zone_3  water_amount  mood_value  gender  age   bmi  \\\n0                     NaN           NaN         NaN  FEMALE  <30  >=25   \n1                     0.0           NaN         NaN  FEMALE  <30  >=25   \n2                     NaN           NaN         NaN  FEMALE  <30  >=25   \n3                     0.0           NaN         NaN  FEMALE  <30  >=25   \n4                     NaN           NaN         NaN  FEMALE  <30  >=25   \n...                   ...           ...         ...     ...  ...   ...   \n164615                NaN           NaN         NaN     NaN  NaN   NaN   \n164616                NaN           NaN         NaN     NaN  NaN   NaN   \n164617                NaN           NaN         NaN     NaN  NaN   NaN   \n164618                NaN           NaN         NaN     NaN  NaN   NaN   \n164619                NaN           NaN         NaN     NaN  NaN   NaN   \n\n        step_goal            mood        place  \n0             NaN             NaN          NaN  \n1             NaN             NaN          NaN  \n2             NaN             NaN          NaN  \n3             NaN             NaN          NaN  \n4             NaN             NaN          NaN  \n...           ...             ...          ...  \n164615        NaN           TIRED  WORK/SCHOOL  \n164616        NaN  RESTED/RELAXED         HOME  \n164617        NaN           HAPPY      TRANSIT  \n164618        NaN  RESTED/RELAXED         HOME  \n164619        NaN  RESTED/RELAXED         HOME  \n\n[164620 rows x 49 columns]",
      "text/html": "<div>\n<style scoped>\n    .dataframe tbody tr th:only-of-type {\n        vertical-align: middle;\n    }\n\n    .dataframe tbody tr th {\n        vertical-align: top;\n    }\n\n    .dataframe thead th {\n        text-align: right;\n    }\n</style>\n<table border=\"1\" class=\"dataframe\">\n  <thead>\n    <tr style=\"text-align: right;\">\n      <th></th>\n      <th>id</th>\n      <th>date</th>\n      <th>hour</th>\n      <th>ecg</th>\n      <th>heart_rate_alert</th>\n      <th>type</th>\n      <th>nightly_temperature</th>\n      <th>nremhr</th>\n      <th>spo2</th>\n      <th>rmssd</th>\n      <th>...</th>\n      <th>minutes_in_zone_2</th>\n      <th>minutes_in_zone_3</th>\n      <th>water_amount</th>\n      <th>mood_value</th>\n      <th>gender</th>\n      <th>age</th>\n      <th>bmi</th>\n      <th>step_goal</th>\n      <th>mood</th>\n      <th>place</th>\n    </tr>\n  </thead>\n  <tbody>\n    <tr>\n      <th>0</th>\n      <td>621e2ff067b776a2403eb737</td>\n      <td>2021-12-22</td>\n      <td>19</td>\n      <td>NSR</td>\n      <td>NONE</td>\n      <td>NaN</td>\n      <td>NaN</td>\n      <td>NaN</td>\n      <td>NaN</td>\n      <td>NaN</td>\n      <td>...</td>\n      <td>NaN</td>\n      <td>NaN</td>\n      <td>NaN</td>\n      <td>NaN</td>\n      <td>FEMALE</td>\n      <td>&lt;30</td>\n      <td>&gt;=25</td>\n      <td>NaN</td>\n      <td>NaN</td>\n      <td>NaN</td>\n    </tr>\n    <tr>\n      <th>1</th>\n      <td>621e2ff067b776a2403eb737</td>\n      <td>2021-11-18</td>\n      <td>0</td>\n      <td>NaN</td>\n      <td>NaN</td>\n      <td>SKIN</td>\n      <td>35.025730</td>\n      <td>NaN</td>\n      <td>NaN</td>\n      <td>NaN</td>\n      <td>...</td>\n      <td>0.0</td>\n      <td>0.0</td>\n      <td>NaN</td>\n      <td>NaN</td>\n      <td>FEMALE</td>\n      <td>&lt;30</td>\n      <td>&gt;=25</td>\n      <td>NaN</td>\n      <td>NaN</td>\n      <td>NaN</td>\n    </tr>\n    <tr>\n      <th>2</th>\n      <td>621e2ff067b776a2403eb737</td>\n      <td>2021-11-18</td>\n      <td>21</td>\n      <td>NaN</td>\n      <td>NaN</td>\n      <td>SKIN</td>\n      <td>34.866951</td>\n      <td>NaN</td>\n      <td>NaN</td>\n      <td>NaN</td>\n      <td>...</td>\n      <td>NaN</td>\n      <td>NaN</td>\n      <td>NaN</td>\n      <td>NaN</td>\n      <td>FEMALE</td>\n      <td>&lt;30</td>\n      <td>&gt;=25</td>\n      <td>NaN</td>\n      <td>NaN</td>\n      <td>NaN</td>\n    </tr>\n    <tr>\n      <th>3</th>\n      <td>621e2ff067b776a2403eb737</td>\n      <td>2021-11-20</td>\n      <td>0</td>\n      <td>NaN</td>\n      <td>NaN</td>\n      <td>SKIN</td>\n      <td>35.349583</td>\n      <td>NaN</td>\n      <td>NaN</td>\n      <td>NaN</td>\n      <td>...</td>\n      <td>0.0</td>\n      <td>0.0</td>\n      <td>NaN</td>\n      <td>NaN</td>\n      <td>FEMALE</td>\n      <td>&lt;30</td>\n      <td>&gt;=25</td>\n      <td>NaN</td>\n      <td>NaN</td>\n      <td>NaN</td>\n    </tr>\n    <tr>\n      <th>4</th>\n      <td>621e2ff067b776a2403eb737</td>\n      <td>2021-11-20</td>\n      <td>23</td>\n      <td>NaN</td>\n      <td>NaN</td>\n      <td>SKIN</td>\n      <td>34.495486</td>\n      <td>NaN</td>\n      <td>NaN</td>\n      <td>NaN</td>\n      <td>...</td>\n      <td>NaN</td>\n      <td>NaN</td>\n      <td>NaN</td>\n      <td>NaN</td>\n      <td>FEMALE</td>\n      <td>&lt;30</td>\n      <td>&gt;=25</td>\n      <td>NaN</td>\n      <td>NaN</td>\n      <td>NaN</td>\n    </tr>\n    <tr>\n      <th>...</th>\n      <td>...</td>\n      <td>...</td>\n      <td>...</td>\n      <td>...</td>\n      <td>...</td>\n      <td>...</td>\n      <td>...</td>\n      <td>...</td>\n      <td>...</td>\n      <td>...</td>\n      <td>...</td>\n      <td>...</td>\n      <td>...</td>\n      <td>...</td>\n      <td>...</td>\n      <td>...</td>\n      <td>...</td>\n      <td>...</td>\n      <td>...</td>\n      <td>...</td>\n      <td>...</td>\n    </tr>\n    <tr>\n      <th>164615</th>\n      <td>621e36f967b776a240e5e7c9</td>\n      <td>2021-05-20</td>\n      <td>16</td>\n      <td>NaN</td>\n      <td>NaN</td>\n      <td>NaN</td>\n      <td>NaN</td>\n      <td>NaN</td>\n      <td>NaN</td>\n      <td>NaN</td>\n      <td>...</td>\n      <td>NaN</td>\n      <td>NaN</td>\n      <td>NaN</td>\n      <td>NaN</td>\n      <td>NaN</td>\n      <td>NaN</td>\n      <td>NaN</td>\n      <td>NaN</td>\n      <td>TIRED</td>\n      <td>WORK/SCHOOL</td>\n    </tr>\n    <tr>\n      <th>164616</th>\n      <td>621e36f967b776a240e5e7c9</td>\n      <td>2021-05-20</td>\n      <td>20</td>\n      <td>NaN</td>\n      <td>NaN</td>\n      <td>NaN</td>\n      <td>NaN</td>\n      <td>NaN</td>\n      <td>NaN</td>\n      <td>NaN</td>\n      <td>...</td>\n      <td>NaN</td>\n      <td>NaN</td>\n      <td>NaN</td>\n      <td>NaN</td>\n      <td>NaN</td>\n      <td>NaN</td>\n      <td>NaN</td>\n      <td>NaN</td>\n      <td>RESTED/RELAXED</td>\n      <td>HOME</td>\n    </tr>\n    <tr>\n      <th>164617</th>\n      <td>621e36f967b776a240e5e7c9</td>\n      <td>2021-05-21</td>\n      <td>17</td>\n      <td>NaN</td>\n      <td>NaN</td>\n      <td>NaN</td>\n      <td>NaN</td>\n      <td>NaN</td>\n      <td>NaN</td>\n      <td>NaN</td>\n      <td>...</td>\n      <td>NaN</td>\n      <td>NaN</td>\n      <td>NaN</td>\n      <td>NaN</td>\n      <td>NaN</td>\n      <td>NaN</td>\n      <td>NaN</td>\n      <td>NaN</td>\n      <td>HAPPY</td>\n      <td>TRANSIT</td>\n    </tr>\n    <tr>\n      <th>164618</th>\n      <td>621e36f967b776a240e5e7c9</td>\n      <td>2021-05-21</td>\n      <td>22</td>\n      <td>NaN</td>\n      <td>NaN</td>\n      <td>NaN</td>\n      <td>NaN</td>\n      <td>NaN</td>\n      <td>NaN</td>\n      <td>NaN</td>\n      <td>...</td>\n      <td>NaN</td>\n      <td>NaN</td>\n      <td>NaN</td>\n      <td>NaN</td>\n      <td>NaN</td>\n      <td>NaN</td>\n      <td>NaN</td>\n      <td>NaN</td>\n      <td>RESTED/RELAXED</td>\n      <td>HOME</td>\n    </tr>\n    <tr>\n      <th>164619</th>\n      <td>621e36f967b776a240e5e7c9</td>\n      <td>2021-05-22</td>\n      <td>18</td>\n      <td>NaN</td>\n      <td>NaN</td>\n      <td>NaN</td>\n      <td>NaN</td>\n      <td>NaN</td>\n      <td>NaN</td>\n      <td>NaN</td>\n      <td>...</td>\n      <td>NaN</td>\n      <td>NaN</td>\n      <td>NaN</td>\n      <td>NaN</td>\n      <td>NaN</td>\n      <td>NaN</td>\n      <td>NaN</td>\n      <td>NaN</td>\n      <td>RESTED/RELAXED</td>\n      <td>HOME</td>\n    </tr>\n  </tbody>\n</table>\n<p>164620 rows × 49 columns</p>\n</div>"
     },
     "execution_count": 131,
     "metadata": {},
     "output_type": "execute_result"
    }
   ],
   "source": [
    "sema_mood = pd.DataFrame(columns=[\"user_id\", \"data\"])\n",
    "\n",
    "# read and load\n",
    "for user in users:\n",
    "    user_data = pd.DataFrame(list(\n",
    "                    db.sema.find({\n",
    "                        \"$or\": [{\"$and\": [{ \"data.MOOD\": { \"$ne\": \"<no-response>\" } },\n",
    "                                    {\"data.MOOD\": { \"$ne\": None }},\n",
    "                                    {\"user_id\": user}]},\n",
    "                            {\"$and\": [{ \"data.PLACE\": { \"$ne\": \"<no-response>\" } },\n",
    "                                    {\"data.PLACE\": { \"$ne\": None }},\n",
    "                                    {\"user_id\": user}]}]},\n",
    "                        {\"data.MOOD\": 1, \"data.PLACE\": 1, \"id\": 1, \"_id\": 0, \"user_id\": 1, \"data.STARTED_TS\": 1})))\n",
    "    sema_mood = pd.concat([sema_mood, user_data], axis=0)\n",
    "\n",
    "# split data column (json format) into two columns (df format)\n",
    "sema_mood[\"date\"] = sema_mood[\"data\"].apply(lambda d: d[\"STARTED_TS\"])\n",
    "sema_mood[\"mood\"] = sema_mood[\"data\"].apply(lambda d: d[\"MOOD\"])\n",
    "sema_mood[\"place\"] = sema_mood[\"data\"].apply(lambda d: d[\"PLACE\"])\n",
    "sema_mood.drop([\"data\"], axis=1, inplace=True)\n",
    "\n",
    "# process the datetime object and rename the dataframe columns\n",
    "sema_mood = data_loading.date_conversion(sema_mood)\n",
    "sema_mood.rename(columns={'user_id': 'id'}, inplace=True)\n",
    "\n",
    "# check for duplicates\n",
    "# Findings: 2 duplicates found based on all the features of the dataframe (aka exact replicates)\n",
    "# Approach: keep the latest record\n",
    "sema_mood.drop_duplicates(keep=\"last\", inplace=True)\n",
    "\n",
    "# check for duplicates\n",
    "# Findings: 14 4-plicates found based on (id,date) which is wrong, since this answer had to be collected max thrice per day\n",
    "# Approach: keep the latest record\n",
    "sema_mood.sort_values(by=['id', 'date', 'hour'], inplace=True)\n",
    "mood_place = pd.DataFrame()\n",
    "for user_id, group in sema_mood.groupby(['id', 'date']):\n",
    "    if len(group) == 4:\n",
    "        group = group.iloc[1:]\n",
    "    mood_place = pd.concat([mood_place, group])\n",
    "\n",
    "# merge with fitbit data\n",
    "df = df.merge(mood_place, how='outer', on=['id', 'date', 'hour'])\n",
    "df"
   ],
   "metadata": {
    "collapsed": false,
    "pycharm": {
     "name": "#%%\n"
    }
   }
  },
  {
   "cell_type": "code",
   "execution_count": 132,
   "outputs": [],
   "source": [
    "df.to_pickle('../data/fitbit_semas.pkl')"
   ],
   "metadata": {
    "collapsed": false,
    "pycharm": {
     "name": "#%%\n"
    }
   }
  }
 ],
 "metadata": {
  "kernelspec": {
   "display_name": "Python 3",
   "language": "python",
   "name": "python3"
  },
  "language_info": {
   "codemirror_mode": {
    "name": "ipython",
    "version": 2
   },
   "file_extension": ".py",
   "mimetype": "text/x-python",
   "name": "python",
   "nbconvert_exporter": "python",
   "pygments_lexer": "ipython2",
   "version": "2.7.6"
  }
 },
 "nbformat": 4,
 "nbformat_minor": 0
}