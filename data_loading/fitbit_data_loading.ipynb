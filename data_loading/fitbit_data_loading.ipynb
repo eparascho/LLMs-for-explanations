{
 "cells": [
  {
   "cell_type": "markdown",
   "source": [
    "##### This notebook collects all the Fitbit data from MongoDB and creates the corresponding dataframe."
   ],
   "metadata": {
    "collapsed": false,
    "pycharm": {
     "name": "#%% md\n"
    }
   }
  },
  {
   "cell_type": "code",
   "execution_count": 14,
   "outputs": [],
   "source": [
    "import os\n",
    "import warnings\n",
    "import datetime\n",
    "import numpy as np\n",
    "import pandas as pd\n",
    "from dotenv import load_dotenv\n",
    "from pymongo import MongoClient\n",
    "from functions import data_loading\n",
    "from dataprep.eda import create_report\n",
    "\n",
    "warnings.filterwarnings(\"ignore\")"
   ],
   "metadata": {
    "collapsed": false,
    "pycharm": {
     "name": "#%%\n"
    }
   }
  },
  {
   "cell_type": "markdown",
   "source": [
    "Connect securely to the database"
   ],
   "metadata": {
    "collapsed": false,
    "pycharm": {
     "name": "#%% md\n"
    }
   }
  },
  {
   "cell_type": "code",
   "execution_count": 15,
   "outputs": [],
   "source": [
    "load_dotenv(\"config.env\")\n",
    "MONGO_USER = os.getenv(\"MONGO_USER\")\n",
    "MONGO_PASSWORD = os.getenv(\"MONGO_PASSWORD\")\n",
    "client = MongoClient(\"mongodb://\" + MONGO_USER + \":\" + MONGO_PASSWORD + \"@localhost:27017/\")\n",
    "db = client.rais"
   ],
   "metadata": {
    "collapsed": false,
    "pycharm": {
     "name": "#%%\n"
    }
   }
  },
  {
   "cell_type": "markdown",
   "source": [
    "#### Fitbit data"
   ],
   "metadata": {
    "collapsed": false,
    "pycharm": {
     "name": "#%% md\n"
    }
   }
  },
  {
   "cell_type": "markdown",
   "source": [
    "Find all users provided their Fitbit data"
   ],
   "metadata": {
    "collapsed": false,
    "pycharm": {
     "name": "#%% md\n"
    }
   }
  },
  {
   "cell_type": "code",
   "execution_count": 16,
   "outputs": [
    {
     "name": "stdout",
     "output_type": "stream",
     "text": [
      "71 users provided their Fitbit data\n"
     ]
    }
   ],
   "source": [
    "users = db.fitbit.distinct('id')\n",
    "print(len(users), \"users provided their Fitbit data\")"
   ],
   "metadata": {
    "collapsed": false,
    "pycharm": {
     "name": "#%%\n"
    }
   }
  },
  {
   "cell_type": "markdown",
   "source": [
    "Find all the data types"
   ],
   "metadata": {
    "collapsed": false,
    "pycharm": {
     "name": "#%% md\n"
    }
   }
  },
  {
   "cell_type": "code",
   "execution_count": null,
   "outputs": [],
   "source": [
    "types = db.fitbit.distinct('type')\n",
    "types"
   ],
   "metadata": {
    "collapsed": false,
    "pycharm": {
     "name": "#%%\n"
    }
   }
  },
  {
   "cell_type": "markdown",
   "source": [
    "##### Afib ECG Readings"
   ],
   "metadata": {
    "collapsed": false,
    "pycharm": {
     "name": "#%% md\n"
    }
   }
  },
  {
   "cell_type": "code",
   "execution_count": null,
   "outputs": [],
   "source": [
    "ecg = pd.DataFrame(columns=[\"id\", \"data\"])\n",
    "\n",
    "# read and load from MongoDB\n",
    "for user in users:\n",
    "    user_data = pd.DataFrame(list(\n",
    "        db.fitbit.find({\"$and\": [\n",
    "            {\"type\": \"Afib ECG Readings\"},\n",
    "            {\"id\": user}]},\n",
    "            {\"id\": 1, \"data.reading_time\": 1, \"data.result_classification\": 1, \"data.heart_rate_alert\": 1, \"_id\": 0})))\n",
    "    ecg = pd.concat([ecg, user_data], axis=0)\n",
    "\n",
    "# split data column (json format) into two columns (df format)\n",
    "ecg[\"date\"] = ecg[\"data\"].apply(lambda d: d[\"reading_time\"])\n",
    "ecg[\"ecg\"] = ecg[\"data\"].apply(lambda d: d[\"result_classification\"])\n",
    "ecg[\"heart_rate_alert\"] = ecg[\"data\"].apply(lambda d: d[\"heart_rate_alert\"])\n",
    "ecg.drop([\"data\"], inplace=True, axis=1)\n",
    "\n",
    "# process the datetime object, group and aggregate the data\n",
    "ecg = data_loading.date_conversion(ecg)\n",
    "ecg = data_loading.aggregate_column(ecg, list(ecg.columns))\n",
    "\n",
    "# merge with the final dataframe\n",
    "df = ecg\n",
    "df"
   ],
   "metadata": {
    "collapsed": false,
    "pycharm": {
     "name": "#%%\n"
    }
   }
  },
  {
   "cell_type": "markdown",
   "source": [
    "##### Computed Temperature"
   ],
   "metadata": {
    "collapsed": false,
    "pycharm": {
     "name": "#%% md\n"
    }
   }
  },
  {
   "cell_type": "code",
   "execution_count": null,
   "outputs": [],
   "source": [
    "nightly_temperature = pd.DataFrame(columns=[\"id\", \"data\"])\n",
    "\n",
    "# read and load from MongoDB\n",
    "for user in users:\n",
    "    user_data = pd.DataFrame(list(\n",
    "        db.fitbit.find({\"$and\": [\n",
    "            {\"type\": \"Computed Temperature\"},\n",
    "            {\"id\": user}]},\n",
    "            {\"id\": 1, \"data.sleep_start\": 1, \"data.type\": 1, \"data.nightly_temperature\": 1, \"_id\": 0})))\n",
    "    nightly_temperature = pd.concat([nightly_temperature, user_data], axis=0)\n",
    "\n",
    "# split data column (json format) into two columns (df format)\n",
    "nightly_temperature[\"date\"] = nightly_temperature[\"data\"].apply(lambda d: d[\"sleep_start\"])\n",
    "nightly_temperature[\"type\"] = nightly_temperature[\"data\"].apply(lambda d: d[\"type\"])\n",
    "nightly_temperature[\"nightly_temperature\"] = nightly_temperature[\"data\"].apply(lambda d: d[\"nightly_temperature\"])\n",
    "nightly_temperature.drop([\"data\"], inplace=True, axis=1)\n",
    "\n",
    "# process the datetime object, feature types and group and aggregate the data\n",
    "nightly_temperature = data_loading.date_conversion(nightly_temperature)\n",
    "nightly_temperature['nightly_temperature'] = pd.to_numeric(nightly_temperature['nightly_temperature'])\n",
    "nightly_temperature = data_loading.aggregate_column(nightly_temperature, list(nightly_temperature.columns))\n",
    "\n",
    "# merge with the final dataframe\n",
    "df = df.merge(nightly_temperature, how='outer', on=['id', 'date', 'hour'])\n",
    "df"
   ],
   "metadata": {
    "collapsed": false,
    "pycharm": {
     "name": "#%%\n"
    }
   }
  },
  {
   "cell_type": "markdown",
   "source": [
    "##### Daily Heart Rate Variability Summary"
   ],
   "metadata": {
    "collapsed": false,
    "pycharm": {
     "name": "#%% md\n"
    }
   }
  },
  {
   "cell_type": "code",
   "execution_count": null,
   "outputs": [],
   "source": [
    "nremhr = pd.DataFrame(columns=[\"id\", \"data\"])\n",
    "\n",
    "# read and load from MongoDB\n",
    "for user in users:\n",
    "    user_data = pd.DataFrame(list(\n",
    "        db.fitbit.find({\"$and\": [\n",
    "            {\"type\": \"Daily Heart Rate Variability Summary\"},\n",
    "            {\"id\": user}]},\n",
    "            {\"id\": 1, \"data.timestamp\": 1, \"data.nremhr\": 1, \"_id\": 0})))\n",
    "    nremhr = pd.concat([nremhr, user_data], axis=0)\n",
    "\n",
    "# split data column (json format) into two columns (df format)\n",
    "nremhr[\"date\"] = nremhr[\"data\"].apply(lambda d: d[\"timestamp\"])\n",
    "nremhr[\"nremhr\"] = nremhr[\"data\"].apply(lambda d: d[\"nremhr\"])\n",
    "nremhr.drop([\"data\"], inplace=True, axis=1)\n",
    "\n",
    "# process the datetime object, feature types and group and aggregate the data\n",
    "nremhr = data_loading.date_conversion(nremhr)\n",
    "nremhr['nremhr'] = pd.to_numeric(nremhr['nremhr'])\n",
    "nremhr = data_loading.aggregate_column(nremhr, list(nremhr.columns))\n",
    "\n",
    "# merge with the final dataframe\n",
    "df = df.merge(nremhr, how='outer', on=['id', 'date', 'hour'])\n",
    "df"
   ],
   "metadata": {
    "collapsed": false,
    "pycharm": {
     "name": "#%%\n"
    }
   }
  },
  {
   "cell_type": "markdown",
   "source": [
    "##### Daily SpO2"
   ],
   "metadata": {
    "collapsed": false,
    "pycharm": {
     "name": "#%% md\n"
    }
   }
  },
  {
   "cell_type": "code",
   "execution_count": null,
   "outputs": [],
   "source": [
    "spo2 = pd.DataFrame(columns=[\"id\", \"data\"])\n",
    "\n",
    "# read and load from MongoDB\n",
    "for user in users:\n",
    "    user_data = pd.DataFrame(list(\n",
    "        db.fitbit.find({\"$and\": [\n",
    "            {\"type\": \"Daily SpO2\"},\n",
    "            {\"id\": user}]},\n",
    "            {\"id\": 1, \"data.timestamp\": 1, \"data.average_value\": 1, \"_id\": 0})))\n",
    "    spo2 = pd.concat([spo2, user_data], axis=0)\n",
    "\n",
    "# split data column (json format) into two columns (df format)\n",
    "spo2[\"date\"] = spo2[\"data\"].apply(lambda d: d[\"timestamp\"])\n",
    "spo2[\"spo2\"] = spo2[\"data\"].apply(lambda d: d[\"average_value\"])\n",
    "spo2.drop([\"data\"], inplace=True, axis=1)\n",
    "\n",
    "# process the datetime object, feature types and group and aggregate the data\n",
    "spo2 = data_loading.date_conversion(spo2)\n",
    "spo2['spo2'] = pd.to_numeric(spo2['spo2'])\n",
    "spo2 = data_loading.aggregate_column(spo2, list(spo2.columns))\n",
    "\n",
    "# merge with the final dataframe\n",
    "df = df.merge(spo2, how='outer', on=['id', 'date', 'hour'])\n",
    "df"
   ],
   "metadata": {
    "collapsed": false,
    "pycharm": {
     "name": "#%%\n"
    }
   }
  },
  {
   "cell_type": "markdown",
   "source": [
    "##### Heart Rate Variability Details"
   ],
   "metadata": {
    "collapsed": false,
    "pycharm": {
     "name": "#%% md\n"
    }
   }
  },
  {
   "cell_type": "code",
   "execution_count": null,
   "outputs": [],
   "source": [
    "rmssd = pd.DataFrame(columns=[\"id\", \"data\"])\n",
    "\n",
    "# read and load from MongoDB\n",
    "for user in users:\n",
    "    user_data = pd.DataFrame(list(\n",
    "        db.fitbit.find({\"$and\": [\n",
    "            {\"type\": \"Heart Rate Variability Details\"},\n",
    "            {\"id\": user}]},\n",
    "            {\"id\": 1, \"data.timestamp\": 1, \"data.rmssd\": 1, \"_id\": 0})))\n",
    "    rmssd = pd.concat([rmssd , user_data], axis=0)\n",
    "\n",
    "# split data column (json format) into two columns (df format)\n",
    "rmssd[\"date\"] = rmssd[\"data\"].apply(lambda d: d[\"timestamp\"])\n",
    "rmssd[\"rmssd\"] = rmssd[\"data\"].apply(lambda d: d[\"rmssd\"])\n",
    "rmssd.drop([\"data\"], inplace=True, axis=1)\n",
    "\n",
    "# process the datetime object, feature types and group and aggregate the data\n",
    "rmssd = data_loading.date_conversion(rmssd)\n",
    "rmssd['rmssd'] = pd.to_numeric(rmssd['rmssd'])\n",
    "rmssd = data_loading.aggregate_column(rmssd, list(rmssd.columns))\n",
    "\n",
    "# merge with the final dataframe\n",
    "df = df.merge(rmssd, how='outer', on=['id', 'date', 'hour'])\n",
    "df"
   ],
   "metadata": {
    "collapsed": false,
    "pycharm": {
     "name": "#%%\n"
    }
   }
  },
  {
   "cell_type": "markdown",
   "source": [
    "##### Respiratory Rate Summary"
   ],
   "metadata": {
    "collapsed": false,
    "pycharm": {
     "name": "#%% md\n"
    }
   }
  },
  {
   "cell_type": "code",
   "execution_count": null,
   "outputs": [],
   "source": [
    "respiratory_rate = pd.DataFrame(columns=[\"id\", \"data\"])\n",
    "\n",
    "# read and load from MongoDB\n",
    "for user in users:\n",
    "    user_data = pd.DataFrame(list(\n",
    "        db.fitbit.find({\"$and\": [\n",
    "            {\"type\": \"Respiratory Rate Summary\"},\n",
    "            {\"id\": user}]},\n",
    "            {\"id\": 1, \"data.timestamp\": 1, \"data.full_sleep_breathing_rate\": 1, \"data.deep_sleep_breathing_rate\": 1, \"data.light_sleep_breathing_rate\": 1, \"data.rem_sleep_breathing_rate\": 1, \"_id\": 0})))\n",
    "    respiratory_rate = pd.concat([respiratory_rate , user_data], axis=0)\n",
    "\n",
    "# split data column (json format) into two columns (df format)\n",
    "respiratory_rate[\"date\"] = respiratory_rate[\"data\"].apply(lambda d: d[\"timestamp\"])\n",
    "respiratory_rate[\"full_sleep_breathing_rate\"] = respiratory_rate[\"data\"].apply(lambda d: d[\"full_sleep_breathing_rate\"])\n",
    "respiratory_rate[\"deep_sleep_breathing_rate\"] = respiratory_rate[\"data\"].apply(lambda d: d[\"deep_sleep_breathing_rate\"])\n",
    "respiratory_rate[\"light_sleep_breathing_rate\"] = respiratory_rate[\"data\"].apply(lambda d: d[\"light_sleep_breathing_rate\"])\n",
    "respiratory_rate[\"rem_sleep_breathing_rate\"] = respiratory_rate[\"data\"].apply(lambda d: d[\"rem_sleep_breathing_rate\"])\n",
    "respiratory_rate.drop([\"data\"], inplace=True, axis=1)\n",
    "\n",
    "# process the datetime object, feature types and group and aggregate the data\n",
    "respiratory_rate = data_loading.date_conversion(respiratory_rate)\n",
    "respiratory_rate['full_sleep_breathing_rate'] = pd.to_numeric(respiratory_rate['full_sleep_breathing_rate'])\n",
    "respiratory_rate['deep_sleep_breathing_rate'] = pd.to_numeric(respiratory_rate['deep_sleep_breathing_rate'])\n",
    "respiratory_rate['light_sleep_breathing_rate'] = pd.to_numeric(respiratory_rate['light_sleep_breathing_rate'])\n",
    "respiratory_rate['rem_sleep_breathing_rate'] = pd.to_numeric(respiratory_rate['rem_sleep_breathing_rate'])\n",
    "respiratory_rate = data_loading.aggregate_column(respiratory_rate, list(respiratory_rate.columns))\n",
    "\n",
    "# merge with the final dataframe\n",
    "df = df.merge(respiratory_rate, how='outer', on=['id', 'date', 'hour'])\n",
    "df"
   ],
   "metadata": {
    "collapsed": false,
    "pycharm": {
     "name": "#%%\n"
    }
   }
  },
  {
   "cell_type": "markdown",
   "source": [
    "##### Stress Score"
   ],
   "metadata": {
    "collapsed": false,
    "pycharm": {
     "name": "#%% md\n"
    }
   }
  },
  {
   "cell_type": "code",
   "execution_count": null,
   "outputs": [],
   "source": [
    "stress = pd.DataFrame(columns=[\"id\", \"data\"])\n",
    "\n",
    "# read and load from MongoDB\n",
    "for user in users:\n",
    "    user_data = pd.DataFrame(list(\n",
    "        db.fitbit.find({\"$and\": [\n",
    "            {\"type\": \"Stress Score\"},\n",
    "            {\"id\": user}]},\n",
    "            {\"id\": 1, \"data.DATE\": 1, \"data.STRESS_SCORE\": 1, \"data.SLEEP_POINTS\": 1, \"data.RESPONSIVENESS_POINTS\": 1, \"data.EXERTION_POINTS\": 1, \"_id\": 0})))\n",
    "    stress = pd.concat([stress , user_data], axis=0)\n",
    "\n",
    "# split data column (json format) into two columns (df format)\n",
    "stress[\"date\"] = stress[\"data\"].apply(lambda d: d[\"DATE\"])\n",
    "stress[\"stress_score\"] = stress[\"data\"].apply(lambda d: d[\"STRESS_SCORE\"])\n",
    "stress[\"sleep_points\"] = stress[\"data\"].apply(lambda d: d[\"SLEEP_POINTS\"])\n",
    "stress[\"responsiveness_points\"] = stress[\"data\"].apply(lambda d: d[\"RESPONSIVENESS_POINTS\"])\n",
    "stress[\"exertion_points\"] = stress[\"data\"].apply(lambda d: d[\"EXERTION_POINTS\"])\n",
    "stress.drop([\"data\"], inplace=True, axis=1)\n",
    "\n",
    "# process the datetime object, feature types and group and aggregate the data\n",
    "stress = data_loading.date_conversion(stress)\n",
    "stress['stress_score'] = pd.to_numeric(stress['stress_score'])\n",
    "stress['sleep_points'] = pd.to_numeric(stress['sleep_points'])\n",
    "stress['responsiveness_points'] = pd.to_numeric(stress['responsiveness_points'])\n",
    "stress['exertion_points'] = pd.to_numeric(stress['exertion_points'])\n",
    "stress = data_loading.aggregate_column(stress, list(stress.columns))\n",
    "\n",
    "# merge with the final dataframe\n",
    "df = df.merge(stress, how='outer', on=['id', 'date', 'hour'])\n",
    "df"
   ],
   "metadata": {
    "collapsed": false,
    "pycharm": {
     "name": "#%%\n"
    }
   }
  },
  {
   "cell_type": "markdown",
   "source": [
    "##### Wrist Temperature"
   ],
   "metadata": {
    "collapsed": false,
    "pycharm": {
     "name": "#%% md\n"
    }
   }
  },
  {
   "cell_type": "code",
   "execution_count": null,
   "outputs": [],
   "source": [
    "wrist_temperature = pd.DataFrame(columns=[\"id\", \"data\"])\n",
    "\n",
    "# read and load from MongoDB\n",
    "for user in users:\n",
    "    user_data = pd.DataFrame(list(\n",
    "        db.fitbit.find({\"$and\": [\n",
    "            {\"type\": \"Wrist Temperature\"},\n",
    "            {\"id\": user}]},\n",
    "            {\"id\": 1, \"data.recorded_time\": 1, \"data.temperature\": 1, \"_id\": 0})))\n",
    "    wrist_temperature = pd.concat([wrist_temperature , user_data], axis=0)\n",
    "\n",
    "# split data column (json format) into two columns (df format)\n",
    "wrist_temperature[\"date\"] = wrist_temperature[\"data\"].apply(lambda d: d[\"recorded_time\"])\n",
    "wrist_temperature[\"wrist_temperature\"] = wrist_temperature[\"data\"].apply(lambda d: d[\"temperature\"])\n",
    "wrist_temperature.drop([\"data\"], inplace=True, axis=1)\n",
    "\n",
    "# process the datetime object, feature types and group and aggregate the data\n",
    "wrist_temperature = data_loading.date_conversion(wrist_temperature)\n",
    "wrist_temperature['wrist_temperature'] = pd.to_numeric(wrist_temperature['wrist_temperature'])\n",
    "wrist_temperature = data_loading.aggregate_column(wrist_temperature, list(wrist_temperature.columns))\n",
    "\n",
    "# merge with the final dataframe\n",
    "df = df.merge(wrist_temperature, how='outer', on=['id', 'date', 'hour'])\n",
    "df"
   ],
   "metadata": {
    "collapsed": false,
    "pycharm": {
     "name": "#%%\n"
    }
   }
  },
  {
   "cell_type": "markdown",
   "source": [
    "##### altitude"
   ],
   "metadata": {
    "collapsed": false,
    "pycharm": {
     "name": "#%% md\n"
    }
   }
  },
  {
   "cell_type": "code",
   "execution_count": null,
   "outputs": [],
   "source": [
    "altitude = pd.DataFrame(columns=[\"id\", \"data\"])\n",
    "\n",
    "# read and load from MongoDB\n",
    "for user in users:\n",
    "    user_data = pd.DataFrame(list(\n",
    "        db.fitbit.find({\"$and\": [\n",
    "            {\"type\": \"altitude\"},\n",
    "            {\"id\": user}]},\n",
    "            {\"id\": 1, \"data.dateTime\": 1, \"data.value\": 1, \"_id\": 0})))\n",
    "    altitude = pd.concat([altitude , user_data], axis=0)\n",
    "\n",
    "# split data column (json format) into two columns (df format)\n",
    "altitude[\"date\"] = altitude[\"data\"].apply(lambda d: d[\"dateTime\"])\n",
    "altitude[\"altitude\"] = altitude[\"data\"].apply(lambda d: d[\"value\"])\n",
    "altitude.drop([\"data\"], inplace=True, axis=1)\n",
    "\n",
    "# process the datetime object, feature types and group and aggregate the data\n",
    "altitude = data_loading.date_conversion(altitude)\n",
    "altitude['altitude'] = pd.to_numeric(altitude['altitude'])\n",
    "altitude = data_loading.aggregate_column(altitude, list(altitude.columns))\n",
    "\n",
    "# merge with the final dataframe\n",
    "df = df.merge(altitude, how='outer', on=['id', 'date', 'hour'])\n",
    "df"
   ],
   "metadata": {
    "collapsed": false,
    "pycharm": {
     "name": "#%%\n"
    }
   }
  },
  {
   "cell_type": "markdown",
   "source": [
    "##### badge"
   ],
   "metadata": {
    "collapsed": false,
    "pycharm": {
     "name": "#%% md\n"
    }
   }
  },
  {
   "cell_type": "code",
   "execution_count": null,
   "outputs": [],
   "source": [
    "badge = pd.DataFrame(columns=[\"id\", \"data\"])\n",
    "\n",
    "# read and load from MongoDB\n",
    "for user in users:\n",
    "    user_data = pd.DataFrame(list(\n",
    "        db.fitbit.find({\"$and\": [\n",
    "            {\"type\": \"badge\"},\n",
    "            {\"id\": user}]},\n",
    "            {\"id\": 1, \"data.dateTime\": 1, \"data.badgeType\": 1, \"data.value\": 1, \"_id\": 0})))\n",
    "    badge = pd.concat([badge , user_data], axis=0)\n",
    "\n",
    "# split data column (json format) into two columns (df format)\n",
    "badge[\"date\"] = badge[\"data\"].apply(lambda d: d[\"dateTime\"])\n",
    "badge[\"badge_type\"] = badge[\"data\"].apply(lambda d: d[\"badgeType\"])\n",
    "badge[\"badge_value\"] = badge[\"data\"].apply(lambda d: d[\"value\"])\n",
    "badge.drop([\"data\"], inplace=True, axis=1)\n",
    "\n",
    "# process the datetime object, feature types and group and aggregate the data\n",
    "badge = data_loading.date_conversion(badge)\n",
    "badge['badge_value'] = pd.to_numeric(badge['badge_value'])\n",
    "badge = data_loading.aggregate_column(badge, list(badge.columns))\n",
    "\n",
    "# merge with the final dataframe\n",
    "df = df.merge(badge, how='outer', on=['id', 'date', 'hour'])\n",
    "df"
   ],
   "metadata": {
    "collapsed": false,
    "pycharm": {
     "name": "#%%\n"
    }
   }
  },
  {
   "cell_type": "markdown",
   "source": [
    "##### calories"
   ],
   "metadata": {
    "collapsed": false,
    "pycharm": {
     "name": "#%% md\n"
    }
   }
  },
  {
   "cell_type": "code",
   "execution_count": null,
   "outputs": [],
   "source": [
    "calories = pd.DataFrame(columns=[\"id\", \"data\"])\n",
    "\n",
    "# read and load from MongoDB\n",
    "for user in users:\n",
    "    user_data = pd.DataFrame(list(\n",
    "        db.fitbit.find({\"$and\": [\n",
    "            {\"type\": \"calories\"},\n",
    "            {\"id\": user}]},\n",
    "            {\"id\": 1, \"data.dateTime\": 1, \"data.value\": 1, \"_id\": 0})))\n",
    "    calories = pd.concat([calories , user_data], axis=0)\n",
    "\n",
    "# split data column (json format) into two columns (df format)\n",
    "calories[\"date\"] = calories[\"data\"].apply(lambda d: d[\"dateTime\"])\n",
    "calories[\"calories\"] = calories[\"data\"].apply(lambda d: d[\"value\"])\n",
    "calories.drop([\"data\"], inplace=True, axis=1)\n",
    "\n",
    "# process the datetime object, feature types and group and aggregate the data\n",
    "calories = data_loading.date_conversion(calories)\n",
    "calories['calories'] = pd.to_numeric(calories['calories'])\n",
    "calories = data_loading.aggregate_column(calories, list(calories.columns))\n",
    "\n",
    "# merge with the final dataframe\n",
    "df = df.merge(calories, how='outer', on=['id', 'date', 'hour'])\n",
    "df"
   ],
   "metadata": {
    "collapsed": false,
    "pycharm": {
     "name": "#%%\n"
    }
   }
  },
  {
   "cell_type": "code",
   "execution_count": null,
   "outputs": [],
   "source": [
    "df.to_pickle(\"data/temp_after_calories.pkl\")"
   ],
   "metadata": {
    "collapsed": false,
    "pycharm": {
     "name": "#%%\n"
    }
   }
  },
  {
   "cell_type": "code",
   "execution_count": null,
   "outputs": [],
   "source": [
    "df = pd.read_pickle(\"data/temp_after_calories.pkl\")"
   ],
   "metadata": {
    "collapsed": false,
    "pycharm": {
     "name": "#%%\n"
    }
   }
  },
  {
   "cell_type": "markdown",
   "source": [
    "##### demographic_vo2_max"
   ],
   "metadata": {
    "collapsed": false,
    "pycharm": {
     "name": "#%% md\n"
    }
   }
  },
  {
   "cell_type": "code",
   "execution_count": null,
   "outputs": [],
   "source": [
    "vo2max = pd.DataFrame(columns=[\"id\", \"data\"])\n",
    "\n",
    "# read and load from MongoDB\n",
    "for user in users:\n",
    "    user_data = pd.DataFrame(list(\n",
    "        db.fitbit.find({\"$and\": [\n",
    "            {\"type\": \"demographic_vo2_max\"},\n",
    "            {\"id\": user}]},\n",
    "            {\"id\": 1, \"data.value.filteredDemographicVO2Max\": 1, \"data.dateTime\": 1, \"_id\": 0})))\n",
    "    vo2max = pd.concat([vo2max , user_data], axis=0)\n",
    "\n",
    "# split data column (json format) into two columns (df format)\n",
    "vo2max[\"date\"] = vo2max[\"data\"].apply(lambda d: d[\"dateTime\"])\n",
    "vo2max[\"vo2max\"] = vo2max[\"data\"].apply(lambda d: d[\"value\"].get(\"filteredDemographicVO2Max\"))\n",
    "vo2max.drop([\"data\"], inplace=True, axis=1)\n",
    "\n",
    "# process the datetime object, feature types and group and aggregate the data\n",
    "vo2max = data_loading.date_conversion(vo2max)\n",
    "vo2max['vo2max'] = pd.to_numeric(vo2max['vo2max'])\n",
    "vo2max = data_loading.aggregate_column(vo2max, list(vo2max.columns))\n",
    "\n",
    "# merge with the final dataframe\n",
    "df = df.merge(vo2max, how='outer', on=['id', 'date', 'hour'])\n",
    "df"
   ],
   "metadata": {
    "collapsed": false,
    "pycharm": {
     "name": "#%%\n"
    }
   }
  },
  {
   "cell_type": "markdown",
   "source": [
    "##### distance"
   ],
   "metadata": {
    "collapsed": false,
    "pycharm": {
     "name": "#%% md\n"
    }
   }
  },
  {
   "cell_type": "code",
   "execution_count": null,
   "outputs": [],
   "source": [
    "distance = pd.DataFrame(columns=[\"id\", \"data\"])\n",
    "\n",
    "# read and load from MongoDB\n",
    "for user in users:\n",
    "    user_data = pd.DataFrame(list(\n",
    "        db.fitbit.find({\"$and\": [\n",
    "            {\"type\": \"distance\"},\n",
    "            {\"id\": user}]},\n",
    "            {\"id\": 1, \"data.dateTime\": 1, \"data.value\": 1, \"_id\": 0})))\n",
    "    distance = pd.concat([distance , user_data], axis=0)\n",
    "\n",
    "# split data column (json format) into two columns (df format)\n",
    "distance[\"date\"] = distance[\"data\"].apply(lambda d: d[\"dateTime\"])\n",
    "distance[\"distance\"] = distance[\"data\"].apply(lambda d: d[\"value\"])\n",
    "distance.drop([\"data\"], inplace=True, axis=1)\n",
    "\n",
    "# process the datetime object, feature types and group and aggregate the data\n",
    "distance = data_loading.date_conversion(distance)\n",
    "distance['distance'] = pd.to_numeric(distance['distance'])\n",
    "distance = data_loading.aggregate_column(distance, list(distance.columns))\n",
    "\n",
    "# merge with the final dataframe\n",
    "df = df.merge(distance, how='outer', on=['id', 'date', 'hour'])\n",
    "df"
   ],
   "metadata": {
    "collapsed": false,
    "pycharm": {
     "name": "#%%\n"
    }
   }
  },
  {
   "cell_type": "markdown",
   "source": [
    "##### estimated_oxygen_variation"
   ],
   "metadata": {
    "collapsed": false,
    "pycharm": {
     "name": "#%% md\n"
    }
   }
  },
  {
   "cell_type": "code",
   "execution_count": null,
   "outputs": [],
   "source": [
    "oxygen_var = pd.DataFrame(columns=[\"id\", \"data\"])\n",
    "\n",
    "# read and load from MongoDB\n",
    "for user in users:\n",
    "    user_data = pd.DataFrame(list(\n",
    "        db.fitbit.find({\"$and\": [\n",
    "            {\"type\": \"estimated_oxygen_variation\"},\n",
    "            {\"id\": user}]},\n",
    "            {\"id\": 1, \"data.timestamp\": 1, \"data.Infrared to Red Signal Ratio\": 1, \"_id\": 0})))\n",
    "    oxygen_var = pd.concat([oxygen_var , user_data], axis=0)\n",
    "\n",
    "# split data column (json format) into two columns (df format)\n",
    "oxygen_var[\"date\"] = oxygen_var[\"data\"].apply(lambda d: d[\"timestamp\"])\n",
    "oxygen_var[\"oxygen_variation\"] = oxygen_var[\"data\"].apply(lambda d: d[\"Infrared to Red Signal Ratio\"])\n",
    "oxygen_var.drop([\"data\"], inplace=True, axis=1)\n",
    "\n",
    "# process the datetime object, feature types and group and aggregate the data\n",
    "oxygen_var = data_loading.date_conversion(oxygen_var)\n",
    "oxygen_var['oxygen_variation'] = pd.to_numeric(oxygen_var['oxygen_variation'])\n",
    "oxygen_var = data_loading.aggregate_column(oxygen_var, list(oxygen_var.columns))\n",
    "\n",
    "# merge with the final dataframe\n",
    "df = df.merge(oxygen_var, how='outer', on=['id', 'date', 'hour'])\n",
    "df"
   ],
   "metadata": {
    "collapsed": false,
    "pycharm": {
     "name": "#%%\n"
    }
   }
  },
  {
   "cell_type": "markdown",
   "source": [
    "##### heart_rate"
   ],
   "metadata": {
    "collapsed": false,
    "pycharm": {
     "name": "#%% md\n"
    }
   }
  },
  {
   "cell_type": "code",
   "execution_count": null,
   "outputs": [],
   "source": [
    "# bpm = pd.DataFrame(columns=[\"id\", \"data\"])\n",
    "#\n",
    "# # read and load from MongoDB\n",
    "# for user in users:\n",
    "#     user_data = pd.DataFrame(list(\n",
    "#         db.fitbit.find({\"$and\": [\n",
    "#             {\"type\": \"heart_rate\"},\n",
    "#             {\"id\": user}]},\n",
    "#             {\"id\": 1, \"data.dateTime\": 1, \"data.value.bpm\": 1, \"_id\": 0})))\n",
    "#     bpm = pd.concat([bpm , user_data], axis=0)\n",
    "#\n",
    "# # split data column (json format) into two columns (df format)\n",
    "# bpm[\"date\"] = bpm[\"data\"].apply(lambda d: d[\"dateTime\"])\n",
    "# bpm[\"bpm\"] = bpm[\"data\"].apply(lambda d: d[\"value\"].get(\"bpm\"))\n",
    "# bpm.drop([\"data\"], inplace=True, axis=1)\n",
    "#\n",
    "# # process the datetime object, feature types and group and aggregate the data\n",
    "# bpm = data_loading.date_conversion(bpm)\n",
    "# bpm['bpm'] = pd.to_numeric(bpm['bpm'])\n",
    "# bpm = data_loading.aggregate_column(bpm, list(bpm.columns), False)\n",
    "#\n",
    "# # merge with the final dataframe\n",
    "# df = df.merge(bpm, how='outer', on=['id', 'date', 'hour'])\n",
    "# df"
   ],
   "metadata": {
    "collapsed": false,
    "pycharm": {
     "name": "#%%\n"
    }
   }
  },
  {
   "cell_type": "code",
   "execution_count": null,
   "outputs": [],
   "source": [
    "# df.to_pickle(\"data/temp_after_heart_rate.pkl\")"
   ],
   "metadata": {
    "collapsed": false,
    "pycharm": {
     "name": "#%%\n"
    }
   }
  },
  {
   "cell_type": "code",
   "execution_count": null,
   "outputs": [],
   "source": [
    "# df = pd.read_pickle(\"data/temp_after_heart_rate.pkl\")"
   ],
   "metadata": {
    "collapsed": false,
    "pycharm": {
     "name": "#%%\n"
    }
   }
  },
  {
   "cell_type": "markdown",
   "source": [
    "##### lightly_active_minutes"
   ],
   "metadata": {
    "collapsed": false,
    "pycharm": {
     "name": "#%% md\n"
    }
   }
  },
  {
   "cell_type": "code",
   "execution_count": null,
   "outputs": [],
   "source": [
    "light_minutes = pd.DataFrame(columns=[\"id\", \"data\"])\n",
    "\n",
    "# read and load from MongoDB\n",
    "for user in users:\n",
    "    user_data = pd.DataFrame(list(\n",
    "        db.fitbit.find({\"$and\": [\n",
    "            {\"type\": \"lightly_active_minutes\"},\n",
    "            {\"id\": user}]},\n",
    "            {\"id\": 1, \"data.dateTime\": 1, \"data.value\": 1, \"_id\": 0})))\n",
    "    light_minutes = pd.concat([light_minutes , user_data], axis=0)\n",
    "\n",
    "# split data column (json format) into two columns (df format)\n",
    "light_minutes[\"date\"] = light_minutes[\"data\"].apply(lambda d: d[\"dateTime\"])\n",
    "light_minutes[\"lightly_active_minutes\"] = light_minutes[\"data\"].apply(lambda d: d[\"value\"])\n",
    "light_minutes.drop([\"data\"], inplace=True, axis=1)\n",
    "\n",
    "# process the datetime object, feature types and group and aggregate the data\n",
    "light_minutes = data_loading.date_conversion(light_minutes)\n",
    "light_minutes['lightly_active_minutes'] = pd.to_numeric(light_minutes['lightly_active_minutes'])\n",
    "light_minutes = data_loading.aggregate_column(light_minutes, list(light_minutes.columns))\n",
    "\n",
    "# merge with the final dataframe\n",
    "df = df.merge(light_minutes, how='outer', on=['id', 'date', 'hour'])\n",
    "df"
   ],
   "metadata": {
    "collapsed": false,
    "pycharm": {
     "name": "#%%\n"
    }
   }
  },
  {
   "cell_type": "markdown",
   "source": [
    "##### mindfulness_eda_data_sessions"
   ],
   "metadata": {
    "collapsed": false,
    "pycharm": {
     "name": "#%% md\n"
    }
   }
  },
  {
   "cell_type": "code",
   "execution_count": null,
   "outputs": [],
   "source": [
    "eda_sessions = pd.DataFrame(columns=[\"id\", \"data\"])\n",
    "\n",
    "# read and load from MongoDB\n",
    "for user in users:\n",
    "    user_data = pd.DataFrame(list(\n",
    "        db.fitbit.find({\"$and\": [\n",
    "            {\"type\": \"mindfulness_eda_data_sessions\"},\n",
    "            {\"id\": user}]},\n",
    "            {\"id\": 1, \"data.timestamp\": 1, \"data.scl_avg\": 1, \"_id\": 0})))\n",
    "    eda_sessions = pd.concat([eda_sessions , user_data], axis=0)\n",
    "\n",
    "# split data column (json format) into two columns (df format)\n",
    "eda_sessions[\"date\"] = eda_sessions[\"data\"].apply(lambda d: d[\"timestamp\"])\n",
    "eda_sessions[\"scl_avg\"] = eda_sessions[\"data\"].apply(lambda d: d[\"scl_avg\"])\n",
    "eda_sessions.drop([\"data\"], inplace=True, axis=1)\n",
    "\n",
    "# process the datetime object, feature types and group and aggregate the data\n",
    "eda_sessions = data_loading.date_conversion(eda_sessions)\n",
    "eda_sessions['scl_avg'] = pd.to_numeric(eda_sessions['scl_avg'])\n",
    "eda_sessions = data_loading.aggregate_column(eda_sessions, list(eda_sessions.columns))\n",
    "\n",
    "# merge with the final dataframe\n",
    "df = df.merge(eda_sessions, how='outer', on=['id', 'date', 'hour'])\n",
    "df"
   ],
   "metadata": {
    "collapsed": false,
    "pycharm": {
     "name": "#%%\n"
    }
   }
  },
  {
   "cell_type": "markdown",
   "source": [
    "##### mindfulness_goals"
   ],
   "metadata": {
    "collapsed": false,
    "pycharm": {
     "name": "#%% md\n"
    }
   }
  },
  {
   "cell_type": "code",
   "execution_count": null,
   "outputs": [],
   "source": [
    "mindfulness_goals = pd.DataFrame(columns=[\"id\", \"data\"])\n",
    "\n",
    "# read and load from MongoDB\n",
    "for user in users:\n",
    "    user_data = pd.DataFrame(list(\n",
    "        db.fitbit.find({\"$and\": [\n",
    "            {\"type\": \"mindfulness_goals\"},\n",
    "            {\"id\": user}]},\n",
    "            {\"id\": 1, \"data.date\": 1, \"data.days\": 1, \"_id\": 0})))\n",
    "    mindfulness_goals = pd.concat([mindfulness_goals , user_data], axis=0)\n",
    "\n",
    "# split data column (json format) into two columns (df format)\n",
    "mindfulness_goals[\"date\"] = mindfulness_goals[\"data\"].apply(lambda d: d[\"date\"])\n",
    "mindfulness_goals[\"mindfulness_goal\"] = mindfulness_goals[\"data\"].apply(lambda d: d[\"days\"])\n",
    "mindfulness_goals.drop([\"data\"], inplace=True, axis=1)\n",
    "\n",
    "# process the datetime object, feature types and group and aggregate the data\n",
    "mindfulness_goals = data_loading.date_conversion(mindfulness_goals)\n",
    "mindfulness_goals['mindfulness_goal'] = pd.to_numeric(mindfulness_goals['mindfulness_goal'])\n",
    "mindfulness_goals = data_loading.aggregate_column(mindfulness_goals, list(mindfulness_goals.columns))\n",
    "\n",
    "# merge with the final dataframe\n",
    "df = df.merge(mindfulness_goals, how='outer', on=['id', 'date', 'hour'])\n",
    "df"
   ],
   "metadata": {
    "collapsed": false,
    "pycharm": {
     "name": "#%%\n"
    }
   }
  },
  {
   "cell_type": "markdown",
   "source": [
    "##### mindfulness_sessions"
   ],
   "metadata": {
    "collapsed": false,
    "pycharm": {
     "name": "#%% md\n"
    }
   }
  },
  {
   "cell_type": "code",
   "execution_count": null,
   "outputs": [],
   "source": [
    "mindfulness_sessions = pd.DataFrame(columns=[\"id\", \"data\"])\n",
    "\n",
    "# read and load from MongoDB\n",
    "for user in users:\n",
    "    user_data = pd.DataFrame(list(\n",
    "        db.fitbit.find({\"$and\": [\n",
    "            {\"type\": \"mindfulness_sessions\"},\n",
    "            {\"id\": user}]},\n",
    "            {\"id\": 1, \"data.start_date_time\": 1, \"data.start_heart_rate\": 1, \"data.end_heart_rate\": 1, \"_id\": 0})))\n",
    "    mindfulness_sessions = pd.concat([mindfulness_sessions , user_data], axis=0)\n",
    "\n",
    "# split data column (json format) into two columns (df format)\n",
    "mindfulness_sessions[\"date\"] = mindfulness_sessions[\"data\"].apply(lambda d: d[\"start_date_time\"])\n",
    "mindfulness_sessions[\"mindfulness_start_heart_rate\"] = mindfulness_sessions[\"data\"].apply(lambda d: d[\"start_heart_rate\"])\n",
    "mindfulness_sessions[\"mindfulness_end_heart_rate\"] = mindfulness_sessions[\"data\"].apply(lambda d: d[\"end_heart_rate\"])\n",
    "mindfulness_sessions.drop([\"data\"], inplace=True, axis=1)\n",
    "\n",
    "# process the datetime object, feature types and group and aggregate the data\n",
    "mindfulness_sessions = data_loading.date_conversion(mindfulness_sessions)\n",
    "mindfulness_sessions['mindfulness_start_heart_rate'] = pd.to_numeric(mindfulness_sessions['mindfulness_start_heart_rate'])\n",
    "mindfulness_sessions['mindfulness_end_heart_rate'] = pd.to_numeric(mindfulness_sessions['mindfulness_end_heart_rate'])\n",
    "mindfulness_sessions = data_loading.aggregate_column(mindfulness_sessions, list(mindfulness_sessions.columns))\n",
    "\n",
    "# merge with the final dataframe\n",
    "df = df.merge(mindfulness_sessions, how='outer', on=['id', 'date', 'hour'])\n",
    "df"
   ],
   "metadata": {
    "collapsed": false,
    "pycharm": {
     "name": "#%%\n"
    }
   }
  },
  {
   "cell_type": "markdown",
   "source": [
    "##### moderately_active_minutes"
   ],
   "metadata": {
    "collapsed": false,
    "pycharm": {
     "name": "#%% md\n"
    }
   }
  },
  {
   "cell_type": "code",
   "execution_count": null,
   "outputs": [],
   "source": [
    "moderately_minutes = pd.DataFrame(columns=[\"id\", \"data\"])\n",
    "\n",
    "# read and load from MongoDB\n",
    "for user in users:\n",
    "    user_data = pd.DataFrame(list(\n",
    "        db.fitbit.find({\"$and\": [\n",
    "            {\"type\": \"moderately_active_minutes\"},\n",
    "            {\"id\": user}]},\n",
    "            {\"id\": 1, \"data.dateTime\": 1, \"data.value\": 1, \"_id\": 0})))\n",
    "    moderately_minutes = pd.concat([moderately_minutes , user_data], axis=0)\n",
    "\n",
    "# split data column (json format) into two columns (df format)\n",
    "moderately_minutes[\"date\"] = moderately_minutes[\"data\"].apply(lambda d: d[\"dateTime\"])\n",
    "moderately_minutes[\"moderately_active_minutes\"] = moderately_minutes[\"data\"].apply(lambda d: d[\"value\"])\n",
    "moderately_minutes.drop([\"data\"], inplace=True, axis=1)\n",
    "\n",
    "# process the datetime object, feature types and group and aggregate the data\n",
    "moderately_minutes = data_loading.date_conversion(moderately_minutes)\n",
    "moderately_minutes[\"moderately_active_minutes\"] = pd.to_numeric(moderately_minutes[\"moderately_active_minutes\"])\n",
    "moderately_minutes = data_loading.aggregate_column(moderately_minutes, list(moderately_minutes.columns))\n",
    "\n",
    "# merge with the final dataframe\n",
    "df = df.merge(moderately_minutes, how='outer', on=['id', 'date', 'hour'])\n",
    "df"
   ],
   "metadata": {
    "collapsed": false,
    "pycharm": {
     "name": "#%%\n"
    }
   }
  },
  {
   "cell_type": "markdown",
   "source": [
    "##### resting_heart_rate"
   ],
   "metadata": {
    "collapsed": false,
    "pycharm": {
     "name": "#%% md\n"
    }
   }
  },
  {
   "cell_type": "code",
   "execution_count": null,
   "outputs": [],
   "source": [
    "resting_heart_rate = pd.DataFrame(columns=[\"id\", \"data\"])\n",
    "\n",
    "# read and load from MongoDB\n",
    "for user in users:\n",
    "    user_data = pd.DataFrame(list(\n",
    "        db.fitbit.find({\"$and\": [\n",
    "            {\"type\": \"resting_heart_rate\"},\n",
    "            {\"id\": user}]},\n",
    "            {\"id\": 1, \"data.dateTime\": 1, \"data.value\": 1, \"_id\": 0})))\n",
    "    resting_heart_rate = pd.concat([resting_heart_rate , user_data], axis=0)\n",
    "\n",
    "# split data column (json format) into two columns (df format)\n",
    "resting_heart_rate[\"date\"] = resting_heart_rate[\"data\"].apply(lambda d: d[\"dateTime\"])\n",
    "resting_heart_rate[\"resting_heart_rate\"] = resting_heart_rate[\"data\"].apply(lambda d: d[\"value\"].get('value'))\n",
    "resting_heart_rate.drop([\"data\"], inplace=True, axis=1)\n",
    "\n",
    "# process the datetime object, feature types and group and aggregate the data\n",
    "resting_heart_rate = data_loading.date_conversion(resting_heart_rate)\n",
    "resting_heart_rate[\"resting_heart_rate\"] = pd.to_numeric(resting_heart_rate[\"resting_heart_rate\"])\n",
    "resting_heart_rate = data_loading.aggregate_column(resting_heart_rate, list(resting_heart_rate.columns))\n",
    "\n",
    "# merge with the final dataframe\n",
    "df = df.merge(resting_heart_rate, how='outer', on=['id', 'date', 'hour'])\n",
    "df"
   ],
   "metadata": {
    "collapsed": false,
    "pycharm": {
     "name": "#%%\n"
    }
   }
  },
  {
   "cell_type": "markdown",
   "source": [
    "##### sedentary_minutes"
   ],
   "metadata": {
    "collapsed": false,
    "pycharm": {
     "name": "#%% md\n"
    }
   }
  },
  {
   "cell_type": "code",
   "execution_count": null,
   "outputs": [],
   "source": [
    "sedentary_minutes = pd.DataFrame(columns=[\"id\", \"data\"])\n",
    "\n",
    "# read and load from MongoDB\n",
    "for user in users:\n",
    "    user_data = pd.DataFrame(list(\n",
    "        db.fitbit.find({\"$and\": [\n",
    "            {\"type\": \"sedentary_minutes\"},\n",
    "            {\"id\": user}]},\n",
    "            {\"id\": 1, \"data.dateTime\": 1, \"data.value\": 1, \"_id\": 0})))\n",
    "    sedentary_minutes = pd.concat([sedentary_minutes , user_data], axis=0)\n",
    "\n",
    "# split data column (json format) into two columns (df format)\n",
    "sedentary_minutes[\"date\"] = sedentary_minutes[\"data\"].apply(lambda d: d[\"dateTime\"])\n",
    "sedentary_minutes[\"sedentary_minutes\"] = sedentary_minutes[\"data\"].apply(lambda d: d[\"value\"])\n",
    "sedentary_minutes.drop([\"data\"], inplace=True, axis=1)\n",
    "\n",
    "# process the datetime object, feature types and group and aggregate the data\n",
    "sedentary_minutes = data_loading.date_conversion(sedentary_minutes)\n",
    "sedentary_minutes[\"sedentary_minutes\"] = pd.to_numeric(sedentary_minutes[\"sedentary_minutes\"])\n",
    "sedentary_minutes = data_loading.aggregate_column(sedentary_minutes, list(sedentary_minutes.columns))\n",
    "\n",
    "# merge with the final dataframe\n",
    "df = df.merge(sedentary_minutes, how='outer', on=['id', 'date', 'hour'])\n",
    "df"
   ],
   "metadata": {
    "collapsed": false,
    "pycharm": {
     "name": "#%%\n"
    }
   }
  },
  {
   "cell_type": "markdown",
   "source": [
    "##### steps"
   ],
   "metadata": {
    "collapsed": false,
    "pycharm": {
     "name": "#%% md\n"
    }
   }
  },
  {
   "cell_type": "code",
   "execution_count": null,
   "outputs": [],
   "source": [
    "steps = pd.DataFrame(columns=[\"id\", \"data\"])\n",
    "\n",
    "# read and load from MongoDB\n",
    "for user in users:\n",
    "    user_data = pd.DataFrame(list(\n",
    "        db.fitbit.find({\"$and\": [\n",
    "            {\"type\": \"steps\"},\n",
    "            {\"id\": user}]},\n",
    "            {\"id\": 1, \"data.dateTime\": 1, \"data.value\": 1, \"_id\": 0})))\n",
    "    steps = pd.concat([steps , user_data], axis=0)\n",
    "\n",
    "# split data column (json format) into two columns (df format)\n",
    "steps[\"date\"] = steps[\"data\"].apply(lambda d: d[\"dateTime\"])\n",
    "steps[\"steps\"] = steps[\"data\"].apply(lambda d: d[\"value\"])\n",
    "steps.drop([\"data\"], inplace=True, axis=1)\n",
    "\n",
    "# process the datetime object, feature types and group and aggregate the data\n",
    "steps = data_loading.date_conversion(steps)\n",
    "steps[\"steps\"] = pd.to_numeric(steps[\"steps\"])\n",
    "steps = data_loading.aggregate_column(steps, list(steps.columns))\n",
    "\n",
    "# merge with the final dataframe\n",
    "df = df.merge(steps, how='outer', on=['id', 'date', 'hour'])\n",
    "df"
   ],
   "metadata": {
    "collapsed": false,
    "pycharm": {
     "name": "#%%\n"
    }
   }
  },
  {
   "cell_type": "markdown",
   "source": [
    "##### very_active_minutes"
   ],
   "metadata": {
    "collapsed": false,
    "pycharm": {
     "name": "#%% md\n"
    }
   }
  },
  {
   "cell_type": "code",
   "execution_count": null,
   "outputs": [],
   "source": [
    "very_active_minutes = pd.DataFrame(columns=[\"id\", \"data\"])\n",
    "\n",
    "# read and load from MongoDB\n",
    "for user in users:\n",
    "    user_data = pd.DataFrame(list(\n",
    "        db.fitbit.find({\"$and\": [\n",
    "            {\"type\": \"very_active_minutes\"},\n",
    "            {\"id\": user}]},\n",
    "            {\"id\": 1, \"data.dateTime\": 1, \"data.value\": 1, \"_id\": 0})))\n",
    "    very_active_minutes = pd.concat([very_active_minutes , user_data], axis=0)\n",
    "\n",
    "# split data column (json format) into two columns (df format)\n",
    "very_active_minutes[\"date\"] = very_active_minutes[\"data\"].apply(lambda d: d[\"dateTime\"])\n",
    "very_active_minutes[\"very_active_minutes\"] = very_active_minutes[\"data\"].apply(lambda d: d[\"value\"])\n",
    "very_active_minutes.drop([\"data\"], inplace=True, axis=1)\n",
    "\n",
    "# process the datetime object, feature types and group and aggregate the data\n",
    "very_active_minutes = data_loading.date_conversion(very_active_minutes)\n",
    "very_active_minutes[\"very_active_minutes\"] = pd.to_numeric(very_active_minutes[\"very_active_minutes\"])\n",
    "very_active_minutes = data_loading.aggregate_column(very_active_minutes, list(very_active_minutes.columns))\n",
    "\n",
    "# merge with the final dataframe\n",
    "df = df.merge(very_active_minutes, how='outer', on=['id', 'date', 'hour'])\n",
    "df"
   ],
   "metadata": {
    "collapsed": false,
    "pycharm": {
     "name": "#%%\n"
    }
   }
  },
  {
   "cell_type": "markdown",
   "source": [
    "##### time_in_heart_rate_zones"
   ],
   "metadata": {
    "collapsed": false,
    "pycharm": {
     "name": "#%% md\n"
    }
   }
  },
  {
   "cell_type": "code",
   "execution_count": null,
   "outputs": [],
   "source": [
    "heart_rate_zones = pd.DataFrame(columns=[\"id\", \"data\"])\n",
    "\n",
    "# read and load from MongoDB\n",
    "for user in users:\n",
    "    user_data = pd.DataFrame(list(\n",
    "        db.fitbit.find({\"$and\": [\n",
    "            {\"type\": \"time_in_heart_rate_zones\"},\n",
    "            {\"id\": user}]},\n",
    "            {\"id\": 1, \"data.dateTime\": 1, \"data.value\": 1, \"_id\": 0})))\n",
    "    heart_rate_zones = pd.concat([heart_rate_zones , user_data], axis=0)\n",
    "\n",
    "# split data column (json format) into two columns (df format)\n",
    "heart_rate_zones[\"date\"] = heart_rate_zones[\"data\"].apply(lambda d: d[\"dateTime\"])\n",
    "heart_rate_zones[\"minutes_below_zone_1\"] = heart_rate_zones[\"data\"].apply(lambda d: d[\"value\"].get(\"valuesInZones\").get(\"BELOW_DEFAULT_ZONE_1\"))\n",
    "heart_rate_zones[\"minutes_in_zone_1\"] = heart_rate_zones[\"data\"].apply(lambda d: d[\"value\"].get(\"valuesInZones\").get(\"IN_DEFAULT_ZONE_1\"))\n",
    "heart_rate_zones[\"minutes_in_zone_2\"] = heart_rate_zones[\"data\"].apply(lambda d: d[\"value\"].get(\"valuesInZones\").get(\"IN_DEFAULT_ZONE_2\"))\n",
    "heart_rate_zones[\"minutes_in_zone_3\"] = heart_rate_zones[\"data\"].apply(lambda d: d[\"value\"].get(\"valuesInZones\").get(\"IN_DEFAULT_ZONE_3\"))\n",
    "heart_rate_zones.drop([\"data\"], inplace=True, axis=1)\n",
    "\n",
    "# process the datetime object, feature types and group and aggregate the data\n",
    "heart_rate_zones = data_loading.date_conversion(heart_rate_zones)\n",
    "heart_rate_zones[\"minutes_below_zone_1\"] = pd.to_numeric(heart_rate_zones[\"minutes_below_zone_1\"])\n",
    "heart_rate_zones[\"minutes_in_zone_1\"] = pd.to_numeric(heart_rate_zones[\"minutes_in_zone_1\"])\n",
    "heart_rate_zones[\"minutes_in_zone_2\"] = pd.to_numeric(heart_rate_zones[\"minutes_in_zone_2\"])\n",
    "heart_rate_zones[\"minutes_in_zone_3\"] = pd.to_numeric(heart_rate_zones[\"minutes_in_zone_3\"])\n",
    "heart_rate_zones = data_loading.aggregate_column(heart_rate_zones, list(heart_rate_zones.columns))\n",
    "\n",
    "# merge with the final dataframe\n",
    "df = df.merge(heart_rate_zones, how='outer', on=['id', 'date', 'hour'])\n",
    "df"
   ],
   "metadata": {
    "collapsed": false,
    "pycharm": {
     "name": "#%%\n"
    }
   }
  },
  {
   "cell_type": "markdown",
   "source": [
    "##### water_logs"
   ],
   "metadata": {
    "collapsed": false,
    "pycharm": {
     "name": "#%% md\n"
    }
   }
  },
  {
   "cell_type": "code",
   "execution_count": null,
   "outputs": [],
   "source": [
    "water = pd.DataFrame(columns=[\"id\", \"data\"])\n",
    "\n",
    "# read and load from MongoDB\n",
    "for user in users:\n",
    "    user_data = pd.DataFrame(list(\n",
    "        db.fitbit.find({\"$and\": [\n",
    "            {\"type\": \"water_logs\"},\n",
    "            {\"id\": user}]},\n",
    "            {\"id\": 1, \"data.date\": 1, \"data.waterAmount\": 1, \"_id\": 0})))\n",
    "    water = pd.concat([water , user_data], axis=0)\n",
    "\n",
    "# split data column (json format) into two columns (df format)\n",
    "water[\"date\"] = water[\"data\"].apply(lambda d: d[\"date\"])\n",
    "water[\"water_amount\"] = water[\"data\"].apply(lambda d: d[\"waterAmount\"])\n",
    "water.drop([\"data\"], inplace=True, axis=1)\n",
    "\n",
    "# process the datetime object, feature types and group and aggregate the data\n",
    "water = data_loading.date_conversion(water)\n",
    "water[\"water_amount\"] = pd.to_numeric(water[\"water_amount\"])\n",
    "water = data_loading.aggregate_column(water, list(water.columns))\n",
    "\n",
    "# merge with the final dataframe\n",
    "df = df.merge(water, how='outer', on=['id', 'date', 'hour'])\n",
    "df"
   ],
   "metadata": {
    "collapsed": false,
    "pycharm": {
     "name": "#%%\n"
    }
   }
  },
  {
   "cell_type": "markdown",
   "source": [
    "##### journal_entries"
   ],
   "metadata": {
    "collapsed": false,
    "pycharm": {
     "name": "#%% md\n"
    }
   }
  },
  {
   "cell_type": "code",
   "execution_count": null,
   "outputs": [],
   "source": [
    "journal = pd.DataFrame(columns=[\"id\", \"data\"])\n",
    "\n",
    "# read and load from MongoDB\n",
    "for user in users:\n",
    "    user_data = pd.DataFrame(list(\n",
    "        db.fitbit.find({\"$and\": [\n",
    "            {\"type\": \"journal_entries\"},\n",
    "            {\"id\": user}]},\n",
    "            {\"id\": 1, \"data.log_time\": 1, \"data.value\": 1, \"_id\": 0})))\n",
    "    journal = pd.concat([journal , user_data], axis=0)\n",
    "\n",
    "# split data column (json format) into two columns (df format)\n",
    "journal[\"date\"] = journal[\"data\"].apply(lambda d: d[\"log_time\"])\n",
    "journal[\"mood_value\"] = journal[\"data\"].apply(lambda d: d[\"value\"])\n",
    "journal.drop([\"data\"], inplace=True, axis=1)\n",
    "\n",
    "# process the datetime object, feature types and group and aggregate the data\n",
    "journal = data_loading.date_conversion(journal)\n",
    "journal[\"mood_value\"] = pd.to_numeric(journal[\"mood_value\"])\n",
    "journal = data_loading.aggregate_column(journal, list(journal.columns))\n",
    "\n",
    "# merge with the final dataframe\n",
    "df = df.merge(journal, how='outer', on=['id', 'date', 'hour'])\n",
    "df"
   ],
   "metadata": {
    "collapsed": false,
    "pycharm": {
     "name": "#%%\n"
    }
   }
  },
  {
   "cell_type": "code",
   "execution_count": null,
   "outputs": [],
   "source": [
    "df.to_pickle('data/temp_after_journal.pkl')"
   ],
   "metadata": {
    "collapsed": false,
    "pycharm": {
     "name": "#%%\n"
    }
   }
  },
  {
   "cell_type": "code",
   "execution_count": 17,
   "outputs": [
    {
     "data": {
      "text/plain": "                              id       date  hour             ecg  \\\n0       621e2ff067b776a2403eb737 2021-12-22    19             NSR   \n1       621e301367b776a24057738e 2021-06-08    21             NSR   \n2       621e312a67b776a240164d59 2021-10-07    17             NSR   \n3       621e312a67b776a240164d59 2021-10-10    20             NSR   \n4       621e326767b776a24012e179 2021-07-22    17  UNCLASSIFIABLE   \n...                          ...        ...   ...             ...   \n164490  621e375b67b776a240290cdc 2022-01-18     0             NaN   \n164491  621e375b67b776a240290cdc 2022-01-19     0             NaN   \n164492  621e375b67b776a240290cdc 2022-01-20     0             NaN   \n164493  621e375b67b776a240290cdc 2022-01-21     0             NaN   \n164494  621e375b67b776a240290cdc 2022-01-22     0             NaN   \n\n       heart_rate_alert type  nightly_temperature  nremhr  spo2  rmssd  ...  \\\n0                  NONE  NaN                  NaN     NaN   NaN    NaN  ...   \n1                  NONE  NaN                  NaN     NaN   NaN    NaN  ...   \n2                  NONE  NaN                  NaN     NaN   NaN    NaN  ...   \n3                  NONE  NaN                  NaN     NaN   NaN    NaN  ...   \n4                  NONE  NaN                  NaN     NaN   NaN    NaN  ...   \n...                 ...  ...                  ...     ...   ...    ...  ...   \n164490              NaN  NaN                  NaN     NaN   NaN    NaN  ...   \n164491              NaN  NaN                  NaN     NaN   NaN    NaN  ...   \n164492              NaN  NaN                  NaN     NaN   NaN    NaN  ...   \n164493              NaN  NaN                  NaN     NaN   NaN    NaN  ...   \n164494              NaN  NaN                  NaN     NaN   NaN    NaN  ...   \n\n        resting_heart_rate  sedentary_minutes  steps  very_active_minutes  \\\n0                      NaN                NaN    0.0                  NaN   \n1                      NaN                NaN    0.0                  NaN   \n2                      NaN                NaN    0.0                  NaN   \n3                      NaN                NaN    0.0                  NaN   \n4                      NaN                NaN    0.0                  NaN   \n...                    ...                ...    ...                  ...   \n164490                 0.0                NaN    NaN                  NaN   \n164491                 0.0                NaN    NaN                  NaN   \n164492                 0.0                NaN    NaN                  NaN   \n164493                 0.0                NaN    NaN                  NaN   \n164494                 0.0                NaN    NaN                  NaN   \n\n        minutes_below_zone_1  minutes_in_zone_1  minutes_in_zone_2  \\\n0                        NaN                NaN                NaN   \n1                        NaN                NaN                NaN   \n2                        NaN                NaN                NaN   \n3                        NaN                NaN                NaN   \n4                        NaN                NaN                NaN   \n...                      ...                ...                ...   \n164490                   NaN                NaN                NaN   \n164491                   NaN                NaN                NaN   \n164492                   NaN                NaN                NaN   \n164493                   NaN                NaN                NaN   \n164494                   NaN                NaN                NaN   \n\n        minutes_in_zone_3  water_amount  mood_value  \n0                     NaN           NaN         NaN  \n1                     NaN           NaN         NaN  \n2                     NaN           NaN         NaN  \n3                     NaN           NaN         NaN  \n4                     NaN           NaN         NaN  \n...                   ...           ...         ...  \n164490                NaN           NaN         NaN  \n164491                NaN           NaN         NaN  \n164492                NaN           NaN         NaN  \n164493                NaN           NaN         NaN  \n164494                NaN           NaN         NaN  \n\n[164495 rows x 43 columns]",
      "text/html": "<div>\n<style scoped>\n    .dataframe tbody tr th:only-of-type {\n        vertical-align: middle;\n    }\n\n    .dataframe tbody tr th {\n        vertical-align: top;\n    }\n\n    .dataframe thead th {\n        text-align: right;\n    }\n</style>\n<table border=\"1\" class=\"dataframe\">\n  <thead>\n    <tr style=\"text-align: right;\">\n      <th></th>\n      <th>id</th>\n      <th>date</th>\n      <th>hour</th>\n      <th>ecg</th>\n      <th>heart_rate_alert</th>\n      <th>type</th>\n      <th>nightly_temperature</th>\n      <th>nremhr</th>\n      <th>spo2</th>\n      <th>rmssd</th>\n      <th>...</th>\n      <th>resting_heart_rate</th>\n      <th>sedentary_minutes</th>\n      <th>steps</th>\n      <th>very_active_minutes</th>\n      <th>minutes_below_zone_1</th>\n      <th>minutes_in_zone_1</th>\n      <th>minutes_in_zone_2</th>\n      <th>minutes_in_zone_3</th>\n      <th>water_amount</th>\n      <th>mood_value</th>\n    </tr>\n  </thead>\n  <tbody>\n    <tr>\n      <th>0</th>\n      <td>621e2ff067b776a2403eb737</td>\n      <td>2021-12-22</td>\n      <td>19</td>\n      <td>NSR</td>\n      <td>NONE</td>\n      <td>NaN</td>\n      <td>NaN</td>\n      <td>NaN</td>\n      <td>NaN</td>\n      <td>NaN</td>\n      <td>...</td>\n      <td>NaN</td>\n      <td>NaN</td>\n      <td>0.0</td>\n      <td>NaN</td>\n      <td>NaN</td>\n      <td>NaN</td>\n      <td>NaN</td>\n      <td>NaN</td>\n      <td>NaN</td>\n      <td>NaN</td>\n    </tr>\n    <tr>\n      <th>1</th>\n      <td>621e301367b776a24057738e</td>\n      <td>2021-06-08</td>\n      <td>21</td>\n      <td>NSR</td>\n      <td>NONE</td>\n      <td>NaN</td>\n      <td>NaN</td>\n      <td>NaN</td>\n      <td>NaN</td>\n      <td>NaN</td>\n      <td>...</td>\n      <td>NaN</td>\n      <td>NaN</td>\n      <td>0.0</td>\n      <td>NaN</td>\n      <td>NaN</td>\n      <td>NaN</td>\n      <td>NaN</td>\n      <td>NaN</td>\n      <td>NaN</td>\n      <td>NaN</td>\n    </tr>\n    <tr>\n      <th>2</th>\n      <td>621e312a67b776a240164d59</td>\n      <td>2021-10-07</td>\n      <td>17</td>\n      <td>NSR</td>\n      <td>NONE</td>\n      <td>NaN</td>\n      <td>NaN</td>\n      <td>NaN</td>\n      <td>NaN</td>\n      <td>NaN</td>\n      <td>...</td>\n      <td>NaN</td>\n      <td>NaN</td>\n      <td>0.0</td>\n      <td>NaN</td>\n      <td>NaN</td>\n      <td>NaN</td>\n      <td>NaN</td>\n      <td>NaN</td>\n      <td>NaN</td>\n      <td>NaN</td>\n    </tr>\n    <tr>\n      <th>3</th>\n      <td>621e312a67b776a240164d59</td>\n      <td>2021-10-10</td>\n      <td>20</td>\n      <td>NSR</td>\n      <td>NONE</td>\n      <td>NaN</td>\n      <td>NaN</td>\n      <td>NaN</td>\n      <td>NaN</td>\n      <td>NaN</td>\n      <td>...</td>\n      <td>NaN</td>\n      <td>NaN</td>\n      <td>0.0</td>\n      <td>NaN</td>\n      <td>NaN</td>\n      <td>NaN</td>\n      <td>NaN</td>\n      <td>NaN</td>\n      <td>NaN</td>\n      <td>NaN</td>\n    </tr>\n    <tr>\n      <th>4</th>\n      <td>621e326767b776a24012e179</td>\n      <td>2021-07-22</td>\n      <td>17</td>\n      <td>UNCLASSIFIABLE</td>\n      <td>NONE</td>\n      <td>NaN</td>\n      <td>NaN</td>\n      <td>NaN</td>\n      <td>NaN</td>\n      <td>NaN</td>\n      <td>...</td>\n      <td>NaN</td>\n      <td>NaN</td>\n      <td>0.0</td>\n      <td>NaN</td>\n      <td>NaN</td>\n      <td>NaN</td>\n      <td>NaN</td>\n      <td>NaN</td>\n      <td>NaN</td>\n      <td>NaN</td>\n    </tr>\n    <tr>\n      <th>...</th>\n      <td>...</td>\n      <td>...</td>\n      <td>...</td>\n      <td>...</td>\n      <td>...</td>\n      <td>...</td>\n      <td>...</td>\n      <td>...</td>\n      <td>...</td>\n      <td>...</td>\n      <td>...</td>\n      <td>...</td>\n      <td>...</td>\n      <td>...</td>\n      <td>...</td>\n      <td>...</td>\n      <td>...</td>\n      <td>...</td>\n      <td>...</td>\n      <td>...</td>\n      <td>...</td>\n    </tr>\n    <tr>\n      <th>164490</th>\n      <td>621e375b67b776a240290cdc</td>\n      <td>2022-01-18</td>\n      <td>0</td>\n      <td>NaN</td>\n      <td>NaN</td>\n      <td>NaN</td>\n      <td>NaN</td>\n      <td>NaN</td>\n      <td>NaN</td>\n      <td>NaN</td>\n      <td>...</td>\n      <td>0.0</td>\n      <td>NaN</td>\n      <td>NaN</td>\n      <td>NaN</td>\n      <td>NaN</td>\n      <td>NaN</td>\n      <td>NaN</td>\n      <td>NaN</td>\n      <td>NaN</td>\n      <td>NaN</td>\n    </tr>\n    <tr>\n      <th>164491</th>\n      <td>621e375b67b776a240290cdc</td>\n      <td>2022-01-19</td>\n      <td>0</td>\n      <td>NaN</td>\n      <td>NaN</td>\n      <td>NaN</td>\n      <td>NaN</td>\n      <td>NaN</td>\n      <td>NaN</td>\n      <td>NaN</td>\n      <td>...</td>\n      <td>0.0</td>\n      <td>NaN</td>\n      <td>NaN</td>\n      <td>NaN</td>\n      <td>NaN</td>\n      <td>NaN</td>\n      <td>NaN</td>\n      <td>NaN</td>\n      <td>NaN</td>\n      <td>NaN</td>\n    </tr>\n    <tr>\n      <th>164492</th>\n      <td>621e375b67b776a240290cdc</td>\n      <td>2022-01-20</td>\n      <td>0</td>\n      <td>NaN</td>\n      <td>NaN</td>\n      <td>NaN</td>\n      <td>NaN</td>\n      <td>NaN</td>\n      <td>NaN</td>\n      <td>NaN</td>\n      <td>...</td>\n      <td>0.0</td>\n      <td>NaN</td>\n      <td>NaN</td>\n      <td>NaN</td>\n      <td>NaN</td>\n      <td>NaN</td>\n      <td>NaN</td>\n      <td>NaN</td>\n      <td>NaN</td>\n      <td>NaN</td>\n    </tr>\n    <tr>\n      <th>164493</th>\n      <td>621e375b67b776a240290cdc</td>\n      <td>2022-01-21</td>\n      <td>0</td>\n      <td>NaN</td>\n      <td>NaN</td>\n      <td>NaN</td>\n      <td>NaN</td>\n      <td>NaN</td>\n      <td>NaN</td>\n      <td>NaN</td>\n      <td>...</td>\n      <td>0.0</td>\n      <td>NaN</td>\n      <td>NaN</td>\n      <td>NaN</td>\n      <td>NaN</td>\n      <td>NaN</td>\n      <td>NaN</td>\n      <td>NaN</td>\n      <td>NaN</td>\n      <td>NaN</td>\n    </tr>\n    <tr>\n      <th>164494</th>\n      <td>621e375b67b776a240290cdc</td>\n      <td>2022-01-22</td>\n      <td>0</td>\n      <td>NaN</td>\n      <td>NaN</td>\n      <td>NaN</td>\n      <td>NaN</td>\n      <td>NaN</td>\n      <td>NaN</td>\n      <td>NaN</td>\n      <td>...</td>\n      <td>0.0</td>\n      <td>NaN</td>\n      <td>NaN</td>\n      <td>NaN</td>\n      <td>NaN</td>\n      <td>NaN</td>\n      <td>NaN</td>\n      <td>NaN</td>\n      <td>NaN</td>\n      <td>NaN</td>\n    </tr>\n  </tbody>\n</table>\n<p>164495 rows × 43 columns</p>\n</div>"
     },
     "execution_count": 17,
     "metadata": {},
     "output_type": "execute_result"
    }
   ],
   "source": [
    "df = pd.read_pickle('data/temp_after_journal.pkl')\n",
    "df"
   ],
   "metadata": {
    "collapsed": false,
    "pycharm": {
     "name": "#%%\n"
    }
   }
  },
  {
   "cell_type": "markdown",
   "source": [
    "##### Profile"
   ],
   "metadata": {
    "collapsed": false,
    "pycharm": {
     "name": "#%% md\n"
    }
   }
  },
  {
   "cell_type": "code",
   "execution_count": 18,
   "outputs": [
    {
     "data": {
      "text/plain": "                              id       date  hour  ecg heart_rate_alert  type  \\\n0       621e2ff067b776a2403eb737 2021-12-22    19  NSR             NONE   NaN   \n1       621e2ff067b776a2403eb737 2021-11-18     0  NaN              NaN  SKIN   \n2       621e2ff067b776a2403eb737 2021-11-18    21  NaN              NaN  SKIN   \n3       621e2ff067b776a2403eb737 2021-11-20     0  NaN              NaN  SKIN   \n4       621e2ff067b776a2403eb737 2021-11-20    23  NaN              NaN  SKIN   \n...                          ...        ...   ...  ...              ...   ...   \n164490  621e36bb67b776a240b40d64 2022-01-18     0  NaN              NaN   NaN   \n164491  621e36bb67b776a240b40d64 2022-01-19     0  NaN              NaN   NaN   \n164492  621e36bb67b776a240b40d64 2022-01-20     0  NaN              NaN   NaN   \n164493  621e36bb67b776a240b40d64 2022-01-21     0  NaN              NaN   NaN   \n164494  621e36bb67b776a240b40d64 2022-01-22     0  NaN              NaN   NaN   \n\n        nightly_temperature  nremhr  spo2  rmssd  ...  very_active_minutes  \\\n0                       NaN     NaN   NaN    NaN  ...                  NaN   \n1                 35.025730     NaN   NaN    NaN  ...                  0.0   \n2                 34.866951     NaN   NaN    NaN  ...                  NaN   \n3                 35.349583     NaN   NaN    NaN  ...                  0.0   \n4                 34.495486     NaN   NaN    NaN  ...                  NaN   \n...                     ...     ...   ...    ...  ...                  ...   \n164490                  NaN     NaN   NaN    NaN  ...                  NaN   \n164491                  NaN     NaN   NaN    NaN  ...                  NaN   \n164492                  NaN     NaN   NaN    NaN  ...                  NaN   \n164493                  NaN     NaN   NaN    NaN  ...                  NaN   \n164494                  NaN     NaN   NaN    NaN  ...                  NaN   \n\n        minutes_below_zone_1  minutes_in_zone_1  minutes_in_zone_2  \\\n0                        NaN                NaN                NaN   \n1                     1303.0              119.0                0.0   \n2                        NaN                NaN                NaN   \n3                     1400.0               36.0                0.0   \n4                        NaN                NaN                NaN   \n...                      ...                ...                ...   \n164490                   NaN                NaN                NaN   \n164491                   NaN                NaN                NaN   \n164492                   NaN                NaN                NaN   \n164493                   NaN                NaN                NaN   \n164494                   NaN                NaN                NaN   \n\n        minutes_in_zone_3  water_amount  mood_value  gender  age   bmi  \n0                     NaN           NaN         NaN  FEMALE  <30  >=25  \n1                     0.0           NaN         NaN  FEMALE  <30  >=25  \n2                     NaN           NaN         NaN  FEMALE  <30  >=25  \n3                     0.0           NaN         NaN  FEMALE  <30  >=25  \n4                     NaN           NaN         NaN  FEMALE  <30  >=25  \n...                   ...           ...         ...     ...  ...   ...  \n164490                NaN           NaN         NaN  FEMALE  <30  24.0  \n164491                NaN           NaN         NaN  FEMALE  <30  24.0  \n164492                NaN           NaN         NaN  FEMALE  <30  24.0  \n164493                NaN           NaN         NaN  FEMALE  <30  24.0  \n164494                NaN           NaN         NaN  FEMALE  <30  24.0  \n\n[164495 rows x 46 columns]",
      "text/html": "<div>\n<style scoped>\n    .dataframe tbody tr th:only-of-type {\n        vertical-align: middle;\n    }\n\n    .dataframe tbody tr th {\n        vertical-align: top;\n    }\n\n    .dataframe thead th {\n        text-align: right;\n    }\n</style>\n<table border=\"1\" class=\"dataframe\">\n  <thead>\n    <tr style=\"text-align: right;\">\n      <th></th>\n      <th>id</th>\n      <th>date</th>\n      <th>hour</th>\n      <th>ecg</th>\n      <th>heart_rate_alert</th>\n      <th>type</th>\n      <th>nightly_temperature</th>\n      <th>nremhr</th>\n      <th>spo2</th>\n      <th>rmssd</th>\n      <th>...</th>\n      <th>very_active_minutes</th>\n      <th>minutes_below_zone_1</th>\n      <th>minutes_in_zone_1</th>\n      <th>minutes_in_zone_2</th>\n      <th>minutes_in_zone_3</th>\n      <th>water_amount</th>\n      <th>mood_value</th>\n      <th>gender</th>\n      <th>age</th>\n      <th>bmi</th>\n    </tr>\n  </thead>\n  <tbody>\n    <tr>\n      <th>0</th>\n      <td>621e2ff067b776a2403eb737</td>\n      <td>2021-12-22</td>\n      <td>19</td>\n      <td>NSR</td>\n      <td>NONE</td>\n      <td>NaN</td>\n      <td>NaN</td>\n      <td>NaN</td>\n      <td>NaN</td>\n      <td>NaN</td>\n      <td>...</td>\n      <td>NaN</td>\n      <td>NaN</td>\n      <td>NaN</td>\n      <td>NaN</td>\n      <td>NaN</td>\n      <td>NaN</td>\n      <td>NaN</td>\n      <td>FEMALE</td>\n      <td>&lt;30</td>\n      <td>&gt;=25</td>\n    </tr>\n    <tr>\n      <th>1</th>\n      <td>621e2ff067b776a2403eb737</td>\n      <td>2021-11-18</td>\n      <td>0</td>\n      <td>NaN</td>\n      <td>NaN</td>\n      <td>SKIN</td>\n      <td>35.025730</td>\n      <td>NaN</td>\n      <td>NaN</td>\n      <td>NaN</td>\n      <td>...</td>\n      <td>0.0</td>\n      <td>1303.0</td>\n      <td>119.0</td>\n      <td>0.0</td>\n      <td>0.0</td>\n      <td>NaN</td>\n      <td>NaN</td>\n      <td>FEMALE</td>\n      <td>&lt;30</td>\n      <td>&gt;=25</td>\n    </tr>\n    <tr>\n      <th>2</th>\n      <td>621e2ff067b776a2403eb737</td>\n      <td>2021-11-18</td>\n      <td>21</td>\n      <td>NaN</td>\n      <td>NaN</td>\n      <td>SKIN</td>\n      <td>34.866951</td>\n      <td>NaN</td>\n      <td>NaN</td>\n      <td>NaN</td>\n      <td>...</td>\n      <td>NaN</td>\n      <td>NaN</td>\n      <td>NaN</td>\n      <td>NaN</td>\n      <td>NaN</td>\n      <td>NaN</td>\n      <td>NaN</td>\n      <td>FEMALE</td>\n      <td>&lt;30</td>\n      <td>&gt;=25</td>\n    </tr>\n    <tr>\n      <th>3</th>\n      <td>621e2ff067b776a2403eb737</td>\n      <td>2021-11-20</td>\n      <td>0</td>\n      <td>NaN</td>\n      <td>NaN</td>\n      <td>SKIN</td>\n      <td>35.349583</td>\n      <td>NaN</td>\n      <td>NaN</td>\n      <td>NaN</td>\n      <td>...</td>\n      <td>0.0</td>\n      <td>1400.0</td>\n      <td>36.0</td>\n      <td>0.0</td>\n      <td>0.0</td>\n      <td>NaN</td>\n      <td>NaN</td>\n      <td>FEMALE</td>\n      <td>&lt;30</td>\n      <td>&gt;=25</td>\n    </tr>\n    <tr>\n      <th>4</th>\n      <td>621e2ff067b776a2403eb737</td>\n      <td>2021-11-20</td>\n      <td>23</td>\n      <td>NaN</td>\n      <td>NaN</td>\n      <td>SKIN</td>\n      <td>34.495486</td>\n      <td>NaN</td>\n      <td>NaN</td>\n      <td>NaN</td>\n      <td>...</td>\n      <td>NaN</td>\n      <td>NaN</td>\n      <td>NaN</td>\n      <td>NaN</td>\n      <td>NaN</td>\n      <td>NaN</td>\n      <td>NaN</td>\n      <td>FEMALE</td>\n      <td>&lt;30</td>\n      <td>&gt;=25</td>\n    </tr>\n    <tr>\n      <th>...</th>\n      <td>...</td>\n      <td>...</td>\n      <td>...</td>\n      <td>...</td>\n      <td>...</td>\n      <td>...</td>\n      <td>...</td>\n      <td>...</td>\n      <td>...</td>\n      <td>...</td>\n      <td>...</td>\n      <td>...</td>\n      <td>...</td>\n      <td>...</td>\n      <td>...</td>\n      <td>...</td>\n      <td>...</td>\n      <td>...</td>\n      <td>...</td>\n      <td>...</td>\n      <td>...</td>\n    </tr>\n    <tr>\n      <th>164490</th>\n      <td>621e36bb67b776a240b40d64</td>\n      <td>2022-01-18</td>\n      <td>0</td>\n      <td>NaN</td>\n      <td>NaN</td>\n      <td>NaN</td>\n      <td>NaN</td>\n      <td>NaN</td>\n      <td>NaN</td>\n      <td>NaN</td>\n      <td>...</td>\n      <td>NaN</td>\n      <td>NaN</td>\n      <td>NaN</td>\n      <td>NaN</td>\n      <td>NaN</td>\n      <td>NaN</td>\n      <td>NaN</td>\n      <td>FEMALE</td>\n      <td>&lt;30</td>\n      <td>24.0</td>\n    </tr>\n    <tr>\n      <th>164491</th>\n      <td>621e36bb67b776a240b40d64</td>\n      <td>2022-01-19</td>\n      <td>0</td>\n      <td>NaN</td>\n      <td>NaN</td>\n      <td>NaN</td>\n      <td>NaN</td>\n      <td>NaN</td>\n      <td>NaN</td>\n      <td>NaN</td>\n      <td>...</td>\n      <td>NaN</td>\n      <td>NaN</td>\n      <td>NaN</td>\n      <td>NaN</td>\n      <td>NaN</td>\n      <td>NaN</td>\n      <td>NaN</td>\n      <td>FEMALE</td>\n      <td>&lt;30</td>\n      <td>24.0</td>\n    </tr>\n    <tr>\n      <th>164492</th>\n      <td>621e36bb67b776a240b40d64</td>\n      <td>2022-01-20</td>\n      <td>0</td>\n      <td>NaN</td>\n      <td>NaN</td>\n      <td>NaN</td>\n      <td>NaN</td>\n      <td>NaN</td>\n      <td>NaN</td>\n      <td>NaN</td>\n      <td>...</td>\n      <td>NaN</td>\n      <td>NaN</td>\n      <td>NaN</td>\n      <td>NaN</td>\n      <td>NaN</td>\n      <td>NaN</td>\n      <td>NaN</td>\n      <td>FEMALE</td>\n      <td>&lt;30</td>\n      <td>24.0</td>\n    </tr>\n    <tr>\n      <th>164493</th>\n      <td>621e36bb67b776a240b40d64</td>\n      <td>2022-01-21</td>\n      <td>0</td>\n      <td>NaN</td>\n      <td>NaN</td>\n      <td>NaN</td>\n      <td>NaN</td>\n      <td>NaN</td>\n      <td>NaN</td>\n      <td>NaN</td>\n      <td>...</td>\n      <td>NaN</td>\n      <td>NaN</td>\n      <td>NaN</td>\n      <td>NaN</td>\n      <td>NaN</td>\n      <td>NaN</td>\n      <td>NaN</td>\n      <td>FEMALE</td>\n      <td>&lt;30</td>\n      <td>24.0</td>\n    </tr>\n    <tr>\n      <th>164494</th>\n      <td>621e36bb67b776a240b40d64</td>\n      <td>2022-01-22</td>\n      <td>0</td>\n      <td>NaN</td>\n      <td>NaN</td>\n      <td>NaN</td>\n      <td>NaN</td>\n      <td>NaN</td>\n      <td>NaN</td>\n      <td>NaN</td>\n      <td>...</td>\n      <td>NaN</td>\n      <td>NaN</td>\n      <td>NaN</td>\n      <td>NaN</td>\n      <td>NaN</td>\n      <td>NaN</td>\n      <td>NaN</td>\n      <td>FEMALE</td>\n      <td>&lt;30</td>\n      <td>24.0</td>\n    </tr>\n  </tbody>\n</table>\n<p>164495 rows × 46 columns</p>\n</div>"
     },
     "execution_count": 18,
     "metadata": {},
     "output_type": "execute_result"
    }
   ],
   "source": [
    "profile = pd.DataFrame(columns=[\"id\", \"data\"])\n",
    "\n",
    "# read and load from MongoDB\n",
    "for user in users:\n",
    "    user_data = pd.DataFrame(list(\n",
    "        db.fitbit.find({\"$and\": [\n",
    "            {\"type\": \"Profile\"},\n",
    "            {\"id\": user}]},\n",
    "            {\"id\": 1, \"data.gender\": 1, \"data.bmi\": 1, \"data.age\": 1, \"_id\": 0})))\n",
    "    profile = pd.concat([profile , user_data], axis=0)\n",
    "\n",
    "# split data column (json format) into two columns (df format)\n",
    "profile[\"gender\"] = profile[\"data\"].apply(lambda d: d[\"gender\"])\n",
    "profile[\"age\"] = profile[\"data\"].apply(lambda d: d[\"age\"] if \"age\" in d else np.NaN)\n",
    "profile[\"bmi\"] = profile[\"data\"].apply(lambda d: d[\"bmi\"] if \"bmi\" in d else np.NaN)\n",
    "profile.drop([\"data\"], inplace=True, axis=1)\n",
    "\n",
    "# merge with the final dataframe\n",
    "df = df.merge(profile, how='outer', on=['id'])\n",
    "df"
   ],
   "metadata": {
    "collapsed": false,
    "pycharm": {
     "name": "#%%\n"
    }
   }
  },
  {
   "cell_type": "code",
   "execution_count": 19,
   "outputs": [],
   "source": [
    "df.to_pickle('data/temp_fitbit.pkl')"
   ],
   "metadata": {
    "collapsed": false,
    "pycharm": {
     "name": "#%%\n"
    }
   }
  },
  {
   "cell_type": "code",
   "execution_count": 20,
   "outputs": [
    {
     "data": {
      "text/plain": "                              id       date  hour  ecg heart_rate_alert  type  \\\n0       621e2ff067b776a2403eb737 2021-12-22    19  NSR             NONE   NaN   \n1       621e2ff067b776a2403eb737 2021-11-18     0  NaN              NaN  SKIN   \n2       621e2ff067b776a2403eb737 2021-11-18    21  NaN              NaN  SKIN   \n3       621e2ff067b776a2403eb737 2021-11-20     0  NaN              NaN  SKIN   \n4       621e2ff067b776a2403eb737 2021-11-20    23  NaN              NaN  SKIN   \n...                          ...        ...   ...  ...              ...   ...   \n164490  621e36bb67b776a240b40d64 2022-01-18     0  NaN              NaN   NaN   \n164491  621e36bb67b776a240b40d64 2022-01-19     0  NaN              NaN   NaN   \n164492  621e36bb67b776a240b40d64 2022-01-20     0  NaN              NaN   NaN   \n164493  621e36bb67b776a240b40d64 2022-01-21     0  NaN              NaN   NaN   \n164494  621e36bb67b776a240b40d64 2022-01-22     0  NaN              NaN   NaN   \n\n        nightly_temperature  nremhr  spo2  rmssd  ...  very_active_minutes  \\\n0                       NaN     NaN   NaN    NaN  ...                  NaN   \n1                 35.025730     NaN   NaN    NaN  ...                  0.0   \n2                 34.866951     NaN   NaN    NaN  ...                  NaN   \n3                 35.349583     NaN   NaN    NaN  ...                  0.0   \n4                 34.495486     NaN   NaN    NaN  ...                  NaN   \n...                     ...     ...   ...    ...  ...                  ...   \n164490                  NaN     NaN   NaN    NaN  ...                  NaN   \n164491                  NaN     NaN   NaN    NaN  ...                  NaN   \n164492                  NaN     NaN   NaN    NaN  ...                  NaN   \n164493                  NaN     NaN   NaN    NaN  ...                  NaN   \n164494                  NaN     NaN   NaN    NaN  ...                  NaN   \n\n        minutes_below_zone_1  minutes_in_zone_1  minutes_in_zone_2  \\\n0                        NaN                NaN                NaN   \n1                     1303.0              119.0                0.0   \n2                        NaN                NaN                NaN   \n3                     1400.0               36.0                0.0   \n4                        NaN                NaN                NaN   \n...                      ...                ...                ...   \n164490                   NaN                NaN                NaN   \n164491                   NaN                NaN                NaN   \n164492                   NaN                NaN                NaN   \n164493                   NaN                NaN                NaN   \n164494                   NaN                NaN                NaN   \n\n        minutes_in_zone_3  water_amount  mood_value  gender  age   bmi  \n0                     NaN           NaN         NaN  FEMALE  <30  >=25  \n1                     0.0           NaN         NaN  FEMALE  <30  >=25  \n2                     NaN           NaN         NaN  FEMALE  <30  >=25  \n3                     0.0           NaN         NaN  FEMALE  <30  >=25  \n4                     NaN           NaN         NaN  FEMALE  <30  >=25  \n...                   ...           ...         ...     ...  ...   ...  \n164490                NaN           NaN         NaN  FEMALE  <30  24.0  \n164491                NaN           NaN         NaN  FEMALE  <30  24.0  \n164492                NaN           NaN         NaN  FEMALE  <30  24.0  \n164493                NaN           NaN         NaN  FEMALE  <30  24.0  \n164494                NaN           NaN         NaN  FEMALE  <30  24.0  \n\n[164495 rows x 46 columns]",
      "text/html": "<div>\n<style scoped>\n    .dataframe tbody tr th:only-of-type {\n        vertical-align: middle;\n    }\n\n    .dataframe tbody tr th {\n        vertical-align: top;\n    }\n\n    .dataframe thead th {\n        text-align: right;\n    }\n</style>\n<table border=\"1\" class=\"dataframe\">\n  <thead>\n    <tr style=\"text-align: right;\">\n      <th></th>\n      <th>id</th>\n      <th>date</th>\n      <th>hour</th>\n      <th>ecg</th>\n      <th>heart_rate_alert</th>\n      <th>type</th>\n      <th>nightly_temperature</th>\n      <th>nremhr</th>\n      <th>spo2</th>\n      <th>rmssd</th>\n      <th>...</th>\n      <th>very_active_minutes</th>\n      <th>minutes_below_zone_1</th>\n      <th>minutes_in_zone_1</th>\n      <th>minutes_in_zone_2</th>\n      <th>minutes_in_zone_3</th>\n      <th>water_amount</th>\n      <th>mood_value</th>\n      <th>gender</th>\n      <th>age</th>\n      <th>bmi</th>\n    </tr>\n  </thead>\n  <tbody>\n    <tr>\n      <th>0</th>\n      <td>621e2ff067b776a2403eb737</td>\n      <td>2021-12-22</td>\n      <td>19</td>\n      <td>NSR</td>\n      <td>NONE</td>\n      <td>NaN</td>\n      <td>NaN</td>\n      <td>NaN</td>\n      <td>NaN</td>\n      <td>NaN</td>\n      <td>...</td>\n      <td>NaN</td>\n      <td>NaN</td>\n      <td>NaN</td>\n      <td>NaN</td>\n      <td>NaN</td>\n      <td>NaN</td>\n      <td>NaN</td>\n      <td>FEMALE</td>\n      <td>&lt;30</td>\n      <td>&gt;=25</td>\n    </tr>\n    <tr>\n      <th>1</th>\n      <td>621e2ff067b776a2403eb737</td>\n      <td>2021-11-18</td>\n      <td>0</td>\n      <td>NaN</td>\n      <td>NaN</td>\n      <td>SKIN</td>\n      <td>35.025730</td>\n      <td>NaN</td>\n      <td>NaN</td>\n      <td>NaN</td>\n      <td>...</td>\n      <td>0.0</td>\n      <td>1303.0</td>\n      <td>119.0</td>\n      <td>0.0</td>\n      <td>0.0</td>\n      <td>NaN</td>\n      <td>NaN</td>\n      <td>FEMALE</td>\n      <td>&lt;30</td>\n      <td>&gt;=25</td>\n    </tr>\n    <tr>\n      <th>2</th>\n      <td>621e2ff067b776a2403eb737</td>\n      <td>2021-11-18</td>\n      <td>21</td>\n      <td>NaN</td>\n      <td>NaN</td>\n      <td>SKIN</td>\n      <td>34.866951</td>\n      <td>NaN</td>\n      <td>NaN</td>\n      <td>NaN</td>\n      <td>...</td>\n      <td>NaN</td>\n      <td>NaN</td>\n      <td>NaN</td>\n      <td>NaN</td>\n      <td>NaN</td>\n      <td>NaN</td>\n      <td>NaN</td>\n      <td>FEMALE</td>\n      <td>&lt;30</td>\n      <td>&gt;=25</td>\n    </tr>\n    <tr>\n      <th>3</th>\n      <td>621e2ff067b776a2403eb737</td>\n      <td>2021-11-20</td>\n      <td>0</td>\n      <td>NaN</td>\n      <td>NaN</td>\n      <td>SKIN</td>\n      <td>35.349583</td>\n      <td>NaN</td>\n      <td>NaN</td>\n      <td>NaN</td>\n      <td>...</td>\n      <td>0.0</td>\n      <td>1400.0</td>\n      <td>36.0</td>\n      <td>0.0</td>\n      <td>0.0</td>\n      <td>NaN</td>\n      <td>NaN</td>\n      <td>FEMALE</td>\n      <td>&lt;30</td>\n      <td>&gt;=25</td>\n    </tr>\n    <tr>\n      <th>4</th>\n      <td>621e2ff067b776a2403eb737</td>\n      <td>2021-11-20</td>\n      <td>23</td>\n      <td>NaN</td>\n      <td>NaN</td>\n      <td>SKIN</td>\n      <td>34.495486</td>\n      <td>NaN</td>\n      <td>NaN</td>\n      <td>NaN</td>\n      <td>...</td>\n      <td>NaN</td>\n      <td>NaN</td>\n      <td>NaN</td>\n      <td>NaN</td>\n      <td>NaN</td>\n      <td>NaN</td>\n      <td>NaN</td>\n      <td>FEMALE</td>\n      <td>&lt;30</td>\n      <td>&gt;=25</td>\n    </tr>\n    <tr>\n      <th>...</th>\n      <td>...</td>\n      <td>...</td>\n      <td>...</td>\n      <td>...</td>\n      <td>...</td>\n      <td>...</td>\n      <td>...</td>\n      <td>...</td>\n      <td>...</td>\n      <td>...</td>\n      <td>...</td>\n      <td>...</td>\n      <td>...</td>\n      <td>...</td>\n      <td>...</td>\n      <td>...</td>\n      <td>...</td>\n      <td>...</td>\n      <td>...</td>\n      <td>...</td>\n      <td>...</td>\n    </tr>\n    <tr>\n      <th>164490</th>\n      <td>621e36bb67b776a240b40d64</td>\n      <td>2022-01-18</td>\n      <td>0</td>\n      <td>NaN</td>\n      <td>NaN</td>\n      <td>NaN</td>\n      <td>NaN</td>\n      <td>NaN</td>\n      <td>NaN</td>\n      <td>NaN</td>\n      <td>...</td>\n      <td>NaN</td>\n      <td>NaN</td>\n      <td>NaN</td>\n      <td>NaN</td>\n      <td>NaN</td>\n      <td>NaN</td>\n      <td>NaN</td>\n      <td>FEMALE</td>\n      <td>&lt;30</td>\n      <td>24.0</td>\n    </tr>\n    <tr>\n      <th>164491</th>\n      <td>621e36bb67b776a240b40d64</td>\n      <td>2022-01-19</td>\n      <td>0</td>\n      <td>NaN</td>\n      <td>NaN</td>\n      <td>NaN</td>\n      <td>NaN</td>\n      <td>NaN</td>\n      <td>NaN</td>\n      <td>NaN</td>\n      <td>...</td>\n      <td>NaN</td>\n      <td>NaN</td>\n      <td>NaN</td>\n      <td>NaN</td>\n      <td>NaN</td>\n      <td>NaN</td>\n      <td>NaN</td>\n      <td>FEMALE</td>\n      <td>&lt;30</td>\n      <td>24.0</td>\n    </tr>\n    <tr>\n      <th>164492</th>\n      <td>621e36bb67b776a240b40d64</td>\n      <td>2022-01-20</td>\n      <td>0</td>\n      <td>NaN</td>\n      <td>NaN</td>\n      <td>NaN</td>\n      <td>NaN</td>\n      <td>NaN</td>\n      <td>NaN</td>\n      <td>NaN</td>\n      <td>...</td>\n      <td>NaN</td>\n      <td>NaN</td>\n      <td>NaN</td>\n      <td>NaN</td>\n      <td>NaN</td>\n      <td>NaN</td>\n      <td>NaN</td>\n      <td>FEMALE</td>\n      <td>&lt;30</td>\n      <td>24.0</td>\n    </tr>\n    <tr>\n      <th>164493</th>\n      <td>621e36bb67b776a240b40d64</td>\n      <td>2022-01-21</td>\n      <td>0</td>\n      <td>NaN</td>\n      <td>NaN</td>\n      <td>NaN</td>\n      <td>NaN</td>\n      <td>NaN</td>\n      <td>NaN</td>\n      <td>NaN</td>\n      <td>...</td>\n      <td>NaN</td>\n      <td>NaN</td>\n      <td>NaN</td>\n      <td>NaN</td>\n      <td>NaN</td>\n      <td>NaN</td>\n      <td>NaN</td>\n      <td>FEMALE</td>\n      <td>&lt;30</td>\n      <td>24.0</td>\n    </tr>\n    <tr>\n      <th>164494</th>\n      <td>621e36bb67b776a240b40d64</td>\n      <td>2022-01-22</td>\n      <td>0</td>\n      <td>NaN</td>\n      <td>NaN</td>\n      <td>NaN</td>\n      <td>NaN</td>\n      <td>NaN</td>\n      <td>NaN</td>\n      <td>NaN</td>\n      <td>...</td>\n      <td>NaN</td>\n      <td>NaN</td>\n      <td>NaN</td>\n      <td>NaN</td>\n      <td>NaN</td>\n      <td>NaN</td>\n      <td>NaN</td>\n      <td>FEMALE</td>\n      <td>&lt;30</td>\n      <td>24.0</td>\n    </tr>\n  </tbody>\n</table>\n<p>164495 rows × 46 columns</p>\n</div>"
     },
     "execution_count": 20,
     "metadata": {},
     "output_type": "execute_result"
    }
   ],
   "source": [
    "df = pd.read_pickle('data/temp_fitbit.pkl')\n",
    "df"
   ],
   "metadata": {
    "collapsed": false,
    "pycharm": {
     "name": "#%%\n"
    }
   }
  },
  {
   "cell_type": "markdown",
   "source": [
    "Create preprocessing report"
   ],
   "metadata": {
    "collapsed": false,
    "pycharm": {
     "name": "#%% md\n"
    }
   }
  },
  {
   "cell_type": "code",
   "execution_count": 21,
   "outputs": [],
   "source": [
    "# df_new = df.drop(columns=['id'])\n",
    "# report = create_report(df_new, title='My Report')\n",
    "# report.show_browser()"
   ],
   "metadata": {
    "collapsed": false,
    "pycharm": {
     "name": "#%%\n"
    }
   }
  }
 ],
 "metadata": {
  "kernelspec": {
   "display_name": "Python 3",
   "language": "python",
   "name": "python3"
  },
  "language_info": {
   "codemirror_mode": {
    "name": "ipython",
    "version": 2
   },
   "file_extension": ".py",
   "mimetype": "text/x-python",
   "name": "python",
   "nbconvert_exporter": "python",
   "pygments_lexer": "ipython2",
   "version": "2.7.6"
  }
 },
 "nbformat": 4,
 "nbformat_minor": 0
}