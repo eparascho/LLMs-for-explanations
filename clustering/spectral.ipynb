{
 "cells": [
  {
   "cell_type": "markdown",
   "metadata": {},
   "source": [
    "This notebook performs the parametric multi-view spectral clustering algorithm."
   ]
  },
  {
   "cell_type": "code",
   "execution_count": 3,
   "metadata": {},
   "outputs": [],
   "source": [
    "import sys\n",
    "import time\n",
    "import pandas as pd\n",
    "sys.path.append('../')\n",
    "from sklearn.cluster import SpectralClustering\n",
    "from functions.clustering import perform_clustering, elbow_method, silhouette_method"
   ]
  },
  {
   "cell_type": "code",
   "execution_count": 4,
   "metadata": {},
   "outputs": [],
   "source": [
    "# read data\n",
    "data = pd.read_pickle('../data/clustering_input/clustering_df_clean.pkl')"
   ]
  },
  {
   "cell_type": "code",
   "execution_count": 5,
   "metadata": {},
   "outputs": [],
   "source": [
    "# prepare data for clustering (store and then remove id)\n",
    "user_id = data['id']\n",
    "dates = data['date']\n",
    "data.drop(columns=['id', 'date'], inplace=True)"
   ]
  },
  {
   "cell_type": "code",
   "execution_count": 6,
   "metadata": {},
   "outputs": [],
   "source": [
    "# find optimal k for spectral with the silhouette method\n",
    "# silhouette_method('spectral', 'daily', 'clean', data)"
   ]
  },
  {
   "cell_type": "code",
   "execution_count": 7,
   "metadata": {},
   "outputs": [],
   "source": [
    "# perform k-means clustering\n",
    "start = time.time()\n",
    "print(\"Clustering with Spectral ... \")\n",
    "spectral = SpectralClustering(n_clusters=2, random_state=0)\n",
    "metadata = pd.concat([user_id, dates], axis=1)\n",
    "results = perform_clustering(spectral, data, metadata, 'spectral')\n",
    "print(\"Specrtal finished after\", time.time() - start)\n",
    "results.to_csv('../data/clustering_results/spectral_2_results_daily_clean.csv', index=False)"
   ]
  }
 ],
 "metadata": {
  "kernelspec": {
   "display_name": ".venv",
   "language": "python",
   "name": "python3"
  },
  "language_info": {
   "codemirror_mode": {
    "name": "ipython",
    "version": 3
   },
   "file_extension": ".py",
   "mimetype": "text/x-python",
   "name": "python",
   "nbconvert_exporter": "python",
   "pygments_lexer": "ipython3",
   "version": "3.9.13"
  }
 },
 "nbformat": 4,
 "nbformat_minor": 2
}
