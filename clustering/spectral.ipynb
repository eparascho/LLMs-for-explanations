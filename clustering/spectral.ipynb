{
 "cells": [
  {
   "cell_type": "code",
   "execution_count": 33,
   "metadata": {},
   "outputs": [],
   "source": [
    "import sys\n",
    "import time\n",
    "import pandas as pd\n",
    "sys.path.append('../')\n",
    "from sklearn.cluster import SpectralClustering\n",
    "from functions.clustering import perform_clustering, elbow_method, silhouette_method"
   ]
  },
  {
   "cell_type": "code",
   "execution_count": 34,
   "metadata": {},
   "outputs": [],
   "source": [
    "# read data\n",
    "data = pd.read_pickle('../data/clustering_input/clustering_df_daily_clean.pkl')"
   ]
  },
  {
   "cell_type": "code",
   "execution_count": 35,
   "metadata": {},
   "outputs": [],
   "source": [
    "# prepare data for clustering (store and then remove id)\n",
    "user_id = data['id']\n",
    "dates = data['date']\n",
    "data.drop(columns=['id', 'date'], inplace=True)"
   ]
  },
  {
   "cell_type": "code",
   "execution_count": 36,
   "metadata": {},
   "outputs": [],
   "source": [
    "# find optimal k for spectral with the silhouette method\n",
    "# silhouette_method('spectral', 'daily', 'clean', data)"
   ]
  },
  {
   "cell_type": "code",
   "execution_count": 37,
   "metadata": {},
   "outputs": [
    {
     "name": "stdout",
     "output_type": "stream",
     "text": [
      "Clustering with Spectral ... \n",
      "Specrtal finished after 10.5481858253479\n"
     ]
    }
   ],
   "source": [
    "# perform k-means clustering\n",
    "start = time.time()\n",
    "print(\"Clustering with Spectral ... \")\n",
    "spectral = SpectralClustering(n_clusters=2, random_state=0)\n",
    "metadata = pd.concat([user_id, dates], axis=1)\n",
    "results = perform_clustering(spectral, data, metadata)\n",
    "print(\"Specrtal finished after\", time.time() - start)\n",
    "results.to_csv('../data/clustering_results/spectral_2_results_daily_clean.csv', index=False)"
   ]
  }
 ],
 "metadata": {
  "kernelspec": {
   "display_name": ".venv",
   "language": "python",
   "name": "python3"
  },
  "language_info": {
   "codemirror_mode": {
    "name": "ipython",
    "version": 3
   },
   "file_extension": ".py",
   "mimetype": "text/x-python",
   "name": "python",
   "nbconvert_exporter": "python",
   "pygments_lexer": "ipython3",
   "version": "3.9.13"
  }
 },
 "nbformat": 4,
 "nbformat_minor": 2
}
