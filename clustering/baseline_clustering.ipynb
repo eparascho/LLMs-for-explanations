{
 "cells": [
  {
   "cell_type": "markdown",
   "source": [
    "##### This notebook performs and evaluates different baseline algorithms\n",
    "In more detail it performs the following clustering algorithm categories:\n",
    "1. Density-based clustering algorithms\n",
    "2. Spectral clustering algorithms"
   ],
   "metadata": {
    "collapsed": false,
    "pycharm": {
     "name": "#%% md\n"
    }
   }
  },
  {
   "cell_type": "code",
   "execution_count": 20,
   "metadata": {
    "collapsed": true,
    "pycharm": {
     "name": "#%%\n"
    }
   },
   "outputs": [],
   "source": [
    "import time\n",
    "import numpy as np\n",
    "import pandas as pd\n",
    "import matplotlib.pyplot as plt\n",
    "from sklearn.cluster import DBSCAN, OPTICS, HDBSCAN, SpectralClustering, KMeans\n",
    "from sklearn.metrics import silhouette_score, calinski_harabasz_score, davies_bouldin_score"
   ]
  },
  {
   "cell_type": "code",
   "execution_count": 2,
   "outputs": [
    {
     "data": {
      "text/plain": "                              id  sleep_points  exertion_points  altitude  \\\n0       621e2e8e67b776a24055b564      0.810469         0.622928       0.0   \n1       621e2e8e67b776a24055b564      0.810469         0.622928       0.0   \n2       621e2e8e67b776a24055b564      0.810469         0.622928       0.0   \n3       621e2e8e67b776a24055b564      0.810469         0.622928       0.0   \n4       621e2e8e67b776a24055b564      0.810469         0.622928       0.0   \n...                          ...           ...              ...       ...   \n159921  621e375b67b776a240290cdc      0.680095         0.720932       0.0   \n159922  621e375b67b776a240290cdc      0.680095         0.720932       0.0   \n159923  621e375b67b776a240290cdc      0.680095         0.720932       0.0   \n159924  621e375b67b776a240290cdc      0.680095         0.720932       0.0   \n159925  621e375b67b776a240290cdc      0.680095         0.720932       0.0   \n\n        calories  lightly_active_minutes  moderately_active_minutes  \\\n0       0.029382                0.254701                   0.083045   \n1       0.002914                0.254701                   0.083045   \n2       0.000729                0.254701                   0.083045   \n3       0.012860                0.254701                   0.083045   \n4       0.003315                0.254701                   0.083045   \n...          ...                     ...                        ...   \n159921  0.000383                0.000000                   0.000000   \n159922  0.000383                0.000000                   0.000000   \n159923  0.000383                0.000000                   0.000000   \n159924  0.000383                0.000000                   0.000000   \n159925  0.000383                0.000000                   0.000000   \n\n        sedentary_minutes     steps  very_active_minutes  ...  WORK/SCHOOL  \\\n0                0.495139  0.017563             0.080685  ...          0.0   \n1                0.495139  0.000000             0.080685  ...          0.0   \n2                0.495139  0.046184             0.080685  ...          0.0   \n3                0.495139  0.002661             0.080685  ...          0.0   \n4                0.495139  0.000000             0.080685  ...          0.0   \n...                   ...       ...                  ...  ...          ...   \n159921           0.490278  0.064983             0.000000  ...          0.0   \n159922           0.490278  0.064983             0.000000  ...          0.0   \n159923           0.490278  0.064983             0.000000  ...          0.0   \n159924           0.490278  0.064983             0.000000  ...          0.0   \n159925           0.490278  0.064983             0.000000  ...          0.0   \n\n        badges  exercises  exercise_duration  is_weekend  is_holiday  \\\n0          0.0   0.074074           0.001865         0.0         0.0   \n1          0.0   0.074074           0.001865         0.0         0.0   \n2          0.0   0.074074           0.001865         0.0         0.0   \n3          0.0   0.074074           0.001865         0.0         0.0   \n4          0.0   0.074074           0.001865         0.0         0.0   \n...        ...        ...                ...         ...         ...   \n159921     0.0   0.000000           0.000000         0.0         0.0   \n159922     0.0   0.000000           0.000000         0.0         0.0   \n159923     0.0   0.000000           0.000000         0.0         0.0   \n159924     0.0   0.000000           0.000000         0.0         0.0   \n159925     0.0   0.000000           0.000000         0.0         0.0   \n\n         day_sin  hour_sin   day_cos  hour_cos  \n0       0.005131  0.500000  0.574623  1.000000  \n1       0.005131  0.629410  0.574623  0.982963  \n2       0.005131  0.750000  0.574623  0.933013  \n3       0.005131  0.853553  0.574623  0.853553  \n4       0.005131  0.933013  0.574623  0.750000  \n...          ...       ...       ...       ...  \n159921  0.350126  0.982963  0.020417  0.370590  \n159922  0.350126  0.933013  0.020417  0.250000  \n159923  0.350126  0.853553  0.020417  0.146447  \n159924  0.350126  0.750000  0.020417  0.066987  \n159925  0.350126  0.629410  0.020417  0.017037  \n\n[159783 rows x 37 columns]",
      "text/html": "<div>\n<style scoped>\n    .dataframe tbody tr th:only-of-type {\n        vertical-align: middle;\n    }\n\n    .dataframe tbody tr th {\n        vertical-align: top;\n    }\n\n    .dataframe thead th {\n        text-align: right;\n    }\n</style>\n<table border=\"1\" class=\"dataframe\">\n  <thead>\n    <tr style=\"text-align: right;\">\n      <th></th>\n      <th>id</th>\n      <th>sleep_points</th>\n      <th>exertion_points</th>\n      <th>altitude</th>\n      <th>calories</th>\n      <th>lightly_active_minutes</th>\n      <th>moderately_active_minutes</th>\n      <th>sedentary_minutes</th>\n      <th>steps</th>\n      <th>very_active_minutes</th>\n      <th>...</th>\n      <th>WORK/SCHOOL</th>\n      <th>badges</th>\n      <th>exercises</th>\n      <th>exercise_duration</th>\n      <th>is_weekend</th>\n      <th>is_holiday</th>\n      <th>day_sin</th>\n      <th>hour_sin</th>\n      <th>day_cos</th>\n      <th>hour_cos</th>\n    </tr>\n  </thead>\n  <tbody>\n    <tr>\n      <th>0</th>\n      <td>621e2e8e67b776a24055b564</td>\n      <td>0.810469</td>\n      <td>0.622928</td>\n      <td>0.0</td>\n      <td>0.029382</td>\n      <td>0.254701</td>\n      <td>0.083045</td>\n      <td>0.495139</td>\n      <td>0.017563</td>\n      <td>0.080685</td>\n      <td>...</td>\n      <td>0.0</td>\n      <td>0.0</td>\n      <td>0.074074</td>\n      <td>0.001865</td>\n      <td>0.0</td>\n      <td>0.0</td>\n      <td>0.005131</td>\n      <td>0.500000</td>\n      <td>0.574623</td>\n      <td>1.000000</td>\n    </tr>\n    <tr>\n      <th>1</th>\n      <td>621e2e8e67b776a24055b564</td>\n      <td>0.810469</td>\n      <td>0.622928</td>\n      <td>0.0</td>\n      <td>0.002914</td>\n      <td>0.254701</td>\n      <td>0.083045</td>\n      <td>0.495139</td>\n      <td>0.000000</td>\n      <td>0.080685</td>\n      <td>...</td>\n      <td>0.0</td>\n      <td>0.0</td>\n      <td>0.074074</td>\n      <td>0.001865</td>\n      <td>0.0</td>\n      <td>0.0</td>\n      <td>0.005131</td>\n      <td>0.629410</td>\n      <td>0.574623</td>\n      <td>0.982963</td>\n    </tr>\n    <tr>\n      <th>2</th>\n      <td>621e2e8e67b776a24055b564</td>\n      <td>0.810469</td>\n      <td>0.622928</td>\n      <td>0.0</td>\n      <td>0.000729</td>\n      <td>0.254701</td>\n      <td>0.083045</td>\n      <td>0.495139</td>\n      <td>0.046184</td>\n      <td>0.080685</td>\n      <td>...</td>\n      <td>0.0</td>\n      <td>0.0</td>\n      <td>0.074074</td>\n      <td>0.001865</td>\n      <td>0.0</td>\n      <td>0.0</td>\n      <td>0.005131</td>\n      <td>0.750000</td>\n      <td>0.574623</td>\n      <td>0.933013</td>\n    </tr>\n    <tr>\n      <th>3</th>\n      <td>621e2e8e67b776a24055b564</td>\n      <td>0.810469</td>\n      <td>0.622928</td>\n      <td>0.0</td>\n      <td>0.012860</td>\n      <td>0.254701</td>\n      <td>0.083045</td>\n      <td>0.495139</td>\n      <td>0.002661</td>\n      <td>0.080685</td>\n      <td>...</td>\n      <td>0.0</td>\n      <td>0.0</td>\n      <td>0.074074</td>\n      <td>0.001865</td>\n      <td>0.0</td>\n      <td>0.0</td>\n      <td>0.005131</td>\n      <td>0.853553</td>\n      <td>0.574623</td>\n      <td>0.853553</td>\n    </tr>\n    <tr>\n      <th>4</th>\n      <td>621e2e8e67b776a24055b564</td>\n      <td>0.810469</td>\n      <td>0.622928</td>\n      <td>0.0</td>\n      <td>0.003315</td>\n      <td>0.254701</td>\n      <td>0.083045</td>\n      <td>0.495139</td>\n      <td>0.000000</td>\n      <td>0.080685</td>\n      <td>...</td>\n      <td>0.0</td>\n      <td>0.0</td>\n      <td>0.074074</td>\n      <td>0.001865</td>\n      <td>0.0</td>\n      <td>0.0</td>\n      <td>0.005131</td>\n      <td>0.933013</td>\n      <td>0.574623</td>\n      <td>0.750000</td>\n    </tr>\n    <tr>\n      <th>...</th>\n      <td>...</td>\n      <td>...</td>\n      <td>...</td>\n      <td>...</td>\n      <td>...</td>\n      <td>...</td>\n      <td>...</td>\n      <td>...</td>\n      <td>...</td>\n      <td>...</td>\n      <td>...</td>\n      <td>...</td>\n      <td>...</td>\n      <td>...</td>\n      <td>...</td>\n      <td>...</td>\n      <td>...</td>\n      <td>...</td>\n      <td>...</td>\n      <td>...</td>\n      <td>...</td>\n    </tr>\n    <tr>\n      <th>159921</th>\n      <td>621e375b67b776a240290cdc</td>\n      <td>0.680095</td>\n      <td>0.720932</td>\n      <td>0.0</td>\n      <td>0.000383</td>\n      <td>0.000000</td>\n      <td>0.000000</td>\n      <td>0.490278</td>\n      <td>0.064983</td>\n      <td>0.000000</td>\n      <td>...</td>\n      <td>0.0</td>\n      <td>0.0</td>\n      <td>0.000000</td>\n      <td>0.000000</td>\n      <td>0.0</td>\n      <td>0.0</td>\n      <td>0.350126</td>\n      <td>0.982963</td>\n      <td>0.020417</td>\n      <td>0.370590</td>\n    </tr>\n    <tr>\n      <th>159922</th>\n      <td>621e375b67b776a240290cdc</td>\n      <td>0.680095</td>\n      <td>0.720932</td>\n      <td>0.0</td>\n      <td>0.000383</td>\n      <td>0.000000</td>\n      <td>0.000000</td>\n      <td>0.490278</td>\n      <td>0.064983</td>\n      <td>0.000000</td>\n      <td>...</td>\n      <td>0.0</td>\n      <td>0.0</td>\n      <td>0.000000</td>\n      <td>0.000000</td>\n      <td>0.0</td>\n      <td>0.0</td>\n      <td>0.350126</td>\n      <td>0.933013</td>\n      <td>0.020417</td>\n      <td>0.250000</td>\n    </tr>\n    <tr>\n      <th>159923</th>\n      <td>621e375b67b776a240290cdc</td>\n      <td>0.680095</td>\n      <td>0.720932</td>\n      <td>0.0</td>\n      <td>0.000383</td>\n      <td>0.000000</td>\n      <td>0.000000</td>\n      <td>0.490278</td>\n      <td>0.064983</td>\n      <td>0.000000</td>\n      <td>...</td>\n      <td>0.0</td>\n      <td>0.0</td>\n      <td>0.000000</td>\n      <td>0.000000</td>\n      <td>0.0</td>\n      <td>0.0</td>\n      <td>0.350126</td>\n      <td>0.853553</td>\n      <td>0.020417</td>\n      <td>0.146447</td>\n    </tr>\n    <tr>\n      <th>159924</th>\n      <td>621e375b67b776a240290cdc</td>\n      <td>0.680095</td>\n      <td>0.720932</td>\n      <td>0.0</td>\n      <td>0.000383</td>\n      <td>0.000000</td>\n      <td>0.000000</td>\n      <td>0.490278</td>\n      <td>0.064983</td>\n      <td>0.000000</td>\n      <td>...</td>\n      <td>0.0</td>\n      <td>0.0</td>\n      <td>0.000000</td>\n      <td>0.000000</td>\n      <td>0.0</td>\n      <td>0.0</td>\n      <td>0.350126</td>\n      <td>0.750000</td>\n      <td>0.020417</td>\n      <td>0.066987</td>\n    </tr>\n    <tr>\n      <th>159925</th>\n      <td>621e375b67b776a240290cdc</td>\n      <td>0.680095</td>\n      <td>0.720932</td>\n      <td>0.0</td>\n      <td>0.000383</td>\n      <td>0.000000</td>\n      <td>0.000000</td>\n      <td>0.490278</td>\n      <td>0.064983</td>\n      <td>0.000000</td>\n      <td>...</td>\n      <td>0.0</td>\n      <td>0.0</td>\n      <td>0.000000</td>\n      <td>0.000000</td>\n      <td>0.0</td>\n      <td>0.0</td>\n      <td>0.350126</td>\n      <td>0.629410</td>\n      <td>0.020417</td>\n      <td>0.017037</td>\n    </tr>\n  </tbody>\n</table>\n<p>159783 rows × 37 columns</p>\n</div>"
     },
     "execution_count": 2,
     "metadata": {},
     "output_type": "execute_result"
    }
   ],
   "source": [
    "data = pd.read_pickle('../data/feature_elimination_temps/correlation_training_df.pkl')\n",
    "data"
   ],
   "metadata": {
    "collapsed": false,
    "pycharm": {
     "name": "#%%\n"
    }
   }
  },
  {
   "cell_type": "markdown",
   "source": [
    "Prepare data for clustering"
   ],
   "metadata": {
    "collapsed": false,
    "pycharm": {
     "name": "#%% md\n"
    }
   }
  },
  {
   "cell_type": "code",
   "execution_count": 3,
   "outputs": [],
   "source": [
    "user_id = data['id']\n",
    "data.drop(columns=['id'], inplace=True)"
   ],
   "metadata": {
    "collapsed": false,
    "pycharm": {
     "name": "#%%\n"
    }
   }
  },
  {
   "cell_type": "markdown",
   "source": [
    "##### 1. Perform multiple density-based clustering algorithms"
   ],
   "metadata": {
    "collapsed": false,
    "pycharm": {
     "name": "#%% md\n"
    }
   }
  },
  {
   "cell_type": "markdown",
   "source": [
    "Perform DBSCAN"
   ],
   "metadata": {
    "collapsed": false,
    "pycharm": {
     "name": "#%% md\n"
    }
   }
  },
  {
   "cell_type": "code",
   "execution_count": null,
   "outputs": [
    {
     "name": "stdout",
     "output_type": "stream",
     "text": [
      "Clustering with DBSCAN ... \n"
     ]
    }
   ],
   "source": [
    "start = time.time()\n",
    "print(\"Clustering with DBSCAN ... \")\n",
    "\n",
    "# perform clustering\n",
    "dbscan = DBSCAN(eps=3, min_samples=2)\n",
    "y = dbscan.fit_predict(data)\n",
    "dbscan_data = data.copy()\n",
    "dbscan_data['cluster'] = y\n",
    "\n",
    "# evaluate clustering results\n",
    "print (\"The Silhouette score is:\", silhouette_score(data, y))\n",
    "print (\"The Davies-Bouldin Index is:\", davies_bouldin_score(data, y))\n",
    "print (\"The Calinski-Harabasz Index is:\", calinski_harabasz_score(data, y))\n",
    "\n",
    "print(\"DBSCAN finished after\", time.time() - start)"
   ],
   "metadata": {
    "collapsed": false,
    "pycharm": {
     "name": "#%%\n",
     "is_executing": true
    }
   }
  },
  {
   "cell_type": "code",
   "execution_count": null,
   "outputs": [],
   "source": [
    "dbscan_data = pd.concat([user_id, dbscan_data], axis=1, ignore_index=True)\n",
    "dbscan_data.to_csv('../data/clustering_results/dbscan_results.csv')"
   ],
   "metadata": {
    "collapsed": false,
    "pycharm": {
     "name": "#%%\n",
     "is_executing": true
    }
   }
  },
  {
   "cell_type": "markdown",
   "source": [
    "Perform OPTICS"
   ],
   "metadata": {
    "collapsed": false,
    "pycharm": {
     "name": "#%% md\n"
    }
   }
  },
  {
   "cell_type": "code",
   "execution_count": null,
   "outputs": [],
   "source": [
    "start = time.time()\n",
    "print(\"Clustering with OPTICS ... \")\n",
    "\n",
    "# perform clustering\n",
    "optics = OPTICS(min_samples=2)\n",
    "y = optics.fit_predict(data)\n",
    "optics_data = data.copy()\n",
    "optics_data['cluster'] = y\n",
    "\n",
    "# evaluate clustering results\n",
    "print (\"The Silhouette score is:\", silhouette_score(data, y))\n",
    "print (\"The Davies-Bouldin Index is:\", davies_bouldin_score(data, y))\n",
    "print (\"The Calinski-Harabasz Index is:\", calinski_harabasz_score(data, y))\n",
    "\n",
    "print(\"OPTICS finished after\", time.time() - start)"
   ],
   "metadata": {
    "collapsed": false,
    "pycharm": {
     "name": "#%%\n",
     "is_executing": true
    }
   }
  },
  {
   "cell_type": "code",
   "execution_count": null,
   "outputs": [],
   "source": [
    "optics_data = pd.concat([user_id, optics_data], axis=1, ignore_index=True)\n",
    "optics_data.to_csv('../data/clustering_results/optics_results.csv')"
   ],
   "metadata": {
    "collapsed": false,
    "pycharm": {
     "name": "#%%\n",
     "is_executing": true
    }
   }
  },
  {
   "cell_type": "markdown",
   "source": [
    "Perform HDBSCAN"
   ],
   "metadata": {
    "collapsed": false,
    "pycharm": {
     "name": "#%% md\n"
    }
   }
  },
  {
   "cell_type": "code",
   "execution_count": 6,
   "outputs": [
    {
     "name": "stdout",
     "output_type": "stream",
     "text": [
      "Clustering with HDBSCAN ... \n",
      "The Silhouette score is: -0.055715805357403274\n",
      "The Davies-Bouldin Index is: 2.0665128211784927\n",
      "The Calinski-Harabasz Index is: 2565.3137153946623\n",
      "HDBSCAN finished after 1968.430926322937\n"
     ]
    }
   ],
   "source": [
    "start = time.time()\n",
    "print(\"Clustering with HDBSCAN ... \")\n",
    "\n",
    "# perform clustering\n",
    "hdbscan = HDBSCAN(min_cluster_size=100)\n",
    "y = hdbscan.fit_predict(data)\n",
    "hdbscan_data = data.copy()\n",
    "hdbscan_data['cluster'] = y\n",
    "\n",
    "# evaluate clustering results\n",
    "print (\"The Silhouette score is:\", silhouette_score(data, y))\n",
    "print (\"The Davies-Bouldin Index is:\", davies_bouldin_score(data, y))\n",
    "print (\"The Calinski-Harabasz Index is:\", calinski_harabasz_score(data, y))\n",
    "\n",
    "print(\"HDBSCAN finished after\", time.time() - start)"
   ],
   "metadata": {
    "collapsed": false,
    "pycharm": {
     "name": "#%%\n"
    }
   }
  },
  {
   "cell_type": "code",
   "execution_count": 15,
   "outputs": [
    {
     "name": "stdout",
     "output_type": "stream",
     "text": [
      "HDBSCAN detected 32 clusters (including outliers).\n"
     ]
    }
   ],
   "source": [
    "print(\"HDBSCAN detected\", len(np.unique(y)), \"clusters (including outliers).\")"
   ],
   "metadata": {
    "collapsed": false,
    "pycharm": {
     "name": "#%%\n"
    }
   }
  },
  {
   "cell_type": "code",
   "execution_count": 7,
   "outputs": [],
   "source": [
    "hdbscan_data = pd.concat([user_id, hdbscan_data], axis=1, ignore_index=True)\n",
    "hdbscan_data.to_csv('../data/clustering_results/hdbscan_results.csv')"
   ],
   "metadata": {
    "collapsed": false,
    "pycharm": {
     "name": "#%%\n"
    }
   }
  },
  {
   "cell_type": "markdown",
   "source": [
    "##### 2. Perform the spectral clustering algorithm"
   ],
   "metadata": {
    "collapsed": false,
    "pycharm": {
     "name": "#%% md\n"
    }
   }
  },
  {
   "cell_type": "markdown",
   "source": [
    "Perform Spectral clustering"
   ],
   "metadata": {
    "collapsed": false,
    "pycharm": {
     "name": "#%% md\n"
    }
   }
  },
  {
   "cell_type": "code",
   "execution_count": null,
   "outputs": [],
   "source": [
    "start = time.time()\n",
    "print(\"Clustering with Spectral ... \")\n",
    "\n",
    "# perform clustering\n",
    "spectral = SpectralClustering(n_clusters=2, assign_labels='cluster_qr', random_state=0)\n",
    "y = spectral.fit_predict(data)\n",
    "spectral_data = data.copy()\n",
    "spectral_data['cluster'] = y\n",
    "\n",
    "# evaluate clustering results\n",
    "print (\"The Silhouette score is:\", silhouette_score(data, y))\n",
    "print (\"The Davies-Bouldin Index is:\", davies_bouldin_score(data, y))\n",
    "print (\"The Calinski-Harabasz Index is:\", calinski_harabasz_score(data, y))\n",
    "\n",
    "print(\"Spectral finished after\", time.time() - start)"
   ],
   "metadata": {
    "collapsed": false,
    "pycharm": {
     "name": "#%%\n",
     "is_executing": true
    }
   }
  },
  {
   "cell_type": "code",
   "execution_count": null,
   "outputs": [],
   "source": [
    "spectral_data = pd.concat([user_id, spectral_data], axis=1, ignore_index=True)\n",
    "spectral_data.to_csv('../data/clustering_results/spectral_results.csv')"
   ],
   "metadata": {
    "collapsed": false,
    "pycharm": {
     "name": "#%%\n",
     "is_executing": true
    }
   }
  },
  {
   "cell_type": "markdown",
   "source": [
    "##### K-means"
   ],
   "metadata": {
    "collapsed": false,
    "pycharm": {
     "name": "#%% md\n"
    }
   }
  },
  {
   "cell_type": "code",
   "execution_count": null,
   "outputs": [],
   "source": [
    "start = time.time()\n",
    "print(\"Clustering with K-means ... \")\n",
    "\n",
    "# perform clustering\n",
    "kmeans = KMeans(n_clusters=2, random_state=0, n_init=\"auto\")\n",
    "y = kmeans.fit_predict(data)\n",
    "kmeans_data = data.copy()\n",
    "kmeans_data['cluster'] = y\n",
    "\n",
    "# evaluate clustering results\n",
    "print (\"The Silhouette score is:\", silhouette_score(data, y))\n",
    "print (\"The Davies-Bouldin Index is:\", davies_bouldin_score(data, y))\n",
    "print (\"The Calinski-Harabasz Index is:\", calinski_harabasz_score(data, y))\n",
    "\n",
    "print(\"K-means finished after\", time.time() - start)"
   ],
   "metadata": {
    "collapsed": false,
    "pycharm": {
     "name": "#%%\n"
    }
   }
  },
  {
   "cell_type": "code",
   "execution_count": null,
   "outputs": [],
   "source": [
    "kmeans_data = pd.concat([user_id, kmeans_data], axis=1, ignore_index=True)\n",
    "kmeans_data.to_csv('../data/clustering_results/kmeans_results.csv')"
   ],
   "metadata": {
    "collapsed": false,
    "pycharm": {
     "name": "#%%\n"
    }
   }
  },
  {
   "cell_type": "markdown",
   "source": [
    "##### Visualize HDBSCAN results"
   ],
   "metadata": {
    "collapsed": false,
    "pycharm": {
     "name": "#%% md\n"
    }
   }
  },
  {
   "cell_type": "code",
   "execution_count": 25,
   "outputs": [
    {
     "ename": "InvalidIndexError",
     "evalue": "(array([False, False,  True, ...,  True,  True,  True]), 0)",
     "output_type": "error",
     "traceback": [
      "\u001B[1;31m---------------------------------------------------------------------------\u001B[0m",
      "\u001B[1;31mInvalidIndexError\u001B[0m                         Traceback (most recent call last)",
      "Cell \u001B[1;32mIn[25], line 3\u001B[0m\n\u001B[0;32m      1\u001B[0m clusters \u001B[38;5;241m=\u001B[39m np\u001B[38;5;241m.\u001B[39munique(y)\n\u001B[0;32m      2\u001B[0m \u001B[38;5;28;01mfor\u001B[39;00m i \u001B[38;5;129;01min\u001B[39;00m clusters:\n\u001B[1;32m----> 3\u001B[0m     plt\u001B[38;5;241m.\u001B[39mscatter(\u001B[43mhdbscan_data\u001B[49m\u001B[43m[\u001B[49m\u001B[43my\u001B[49m\u001B[43m \u001B[49m\u001B[38;5;241;43m==\u001B[39;49m\u001B[43m \u001B[49m\u001B[43mi\u001B[49m\u001B[43m \u001B[49m\u001B[43m,\u001B[49m\u001B[43m \u001B[49m\u001B[38;5;241;43m0\u001B[39;49m\u001B[43m]\u001B[49m , hdbscan_data[y \u001B[38;5;241m==\u001B[39m i , \u001B[38;5;241m1\u001B[39m] , y \u001B[38;5;241m=\u001B[39m i)\n\u001B[0;32m      4\u001B[0m plt\u001B[38;5;241m.\u001B[39mlegend()\n\u001B[0;32m      5\u001B[0m plt\u001B[38;5;241m.\u001B[39mshow()\n",
      "File \u001B[1;32m~\\PycharmProjects\\LLMs-for-explanations\\llms-for-explanations\\lib\\site-packages\\pandas\\core\\frame.py:3807\u001B[0m, in \u001B[0;36mDataFrame.__getitem__\u001B[1;34m(self, key)\u001B[0m\n\u001B[0;32m   3805\u001B[0m \u001B[38;5;28;01mif\u001B[39;00m \u001B[38;5;28mself\u001B[39m\u001B[38;5;241m.\u001B[39mcolumns\u001B[38;5;241m.\u001B[39mnlevels \u001B[38;5;241m>\u001B[39m \u001B[38;5;241m1\u001B[39m:\n\u001B[0;32m   3806\u001B[0m     \u001B[38;5;28;01mreturn\u001B[39;00m \u001B[38;5;28mself\u001B[39m\u001B[38;5;241m.\u001B[39m_getitem_multilevel(key)\n\u001B[1;32m-> 3807\u001B[0m indexer \u001B[38;5;241m=\u001B[39m \u001B[38;5;28;43mself\u001B[39;49m\u001B[38;5;241;43m.\u001B[39;49m\u001B[43mcolumns\u001B[49m\u001B[38;5;241;43m.\u001B[39;49m\u001B[43mget_loc\u001B[49m\u001B[43m(\u001B[49m\u001B[43mkey\u001B[49m\u001B[43m)\u001B[49m\n\u001B[0;32m   3808\u001B[0m \u001B[38;5;28;01mif\u001B[39;00m is_integer(indexer):\n\u001B[0;32m   3809\u001B[0m     indexer \u001B[38;5;241m=\u001B[39m [indexer]\n",
      "File \u001B[1;32m~\\PycharmProjects\\LLMs-for-explanations\\llms-for-explanations\\lib\\site-packages\\pandas\\core\\indexes\\range.py:394\u001B[0m, in \u001B[0;36mRangeIndex.get_loc\u001B[1;34m(self, key, method, tolerance)\u001B[0m\n\u001B[0;32m    392\u001B[0m         \u001B[38;5;28;01mexcept\u001B[39;00m \u001B[38;5;167;01mValueError\u001B[39;00m \u001B[38;5;28;01mas\u001B[39;00m err:\n\u001B[0;32m    393\u001B[0m             \u001B[38;5;28;01mraise\u001B[39;00m \u001B[38;5;167;01mKeyError\u001B[39;00m(key) \u001B[38;5;28;01mfrom\u001B[39;00m \u001B[38;5;21;01merr\u001B[39;00m\n\u001B[1;32m--> 394\u001B[0m     \u001B[38;5;28;43mself\u001B[39;49m\u001B[38;5;241;43m.\u001B[39;49m\u001B[43m_check_indexing_error\u001B[49m\u001B[43m(\u001B[49m\u001B[43mkey\u001B[49m\u001B[43m)\u001B[49m\n\u001B[0;32m    395\u001B[0m     \u001B[38;5;28;01mraise\u001B[39;00m \u001B[38;5;167;01mKeyError\u001B[39;00m(key)\n\u001B[0;32m    396\u001B[0m \u001B[38;5;28;01mreturn\u001B[39;00m \u001B[38;5;28msuper\u001B[39m()\u001B[38;5;241m.\u001B[39mget_loc(key, method\u001B[38;5;241m=\u001B[39mmethod, tolerance\u001B[38;5;241m=\u001B[39mtolerance)\n",
      "File \u001B[1;32m~\\PycharmProjects\\LLMs-for-explanations\\llms-for-explanations\\lib\\site-packages\\pandas\\core\\indexes\\base.py:5925\u001B[0m, in \u001B[0;36mIndex._check_indexing_error\u001B[1;34m(self, key)\u001B[0m\n\u001B[0;32m   5921\u001B[0m \u001B[38;5;28;01mdef\u001B[39;00m \u001B[38;5;21m_check_indexing_error\u001B[39m(\u001B[38;5;28mself\u001B[39m, key):\n\u001B[0;32m   5922\u001B[0m     \u001B[38;5;28;01mif\u001B[39;00m \u001B[38;5;129;01mnot\u001B[39;00m is_scalar(key):\n\u001B[0;32m   5923\u001B[0m         \u001B[38;5;66;03m# if key is not a scalar, directly raise an error (the code below\u001B[39;00m\n\u001B[0;32m   5924\u001B[0m         \u001B[38;5;66;03m# would convert to numpy arrays and raise later any way) - GH29926\u001B[39;00m\n\u001B[1;32m-> 5925\u001B[0m         \u001B[38;5;28;01mraise\u001B[39;00m InvalidIndexError(key)\n",
      "\u001B[1;31mInvalidIndexError\u001B[0m: (array([False, False,  True, ...,  True,  True,  True]), 0)"
     ]
    }
   ],
   "source": [
    "clusters = np.unique(y)\n",
    "for i in clusters:\n",
    "    plt.scatter(hdbscan_data[y == i , 0] , hdbscan_data[y == i , 1] , y = i)\n",
    "plt.legend()\n",
    "plt.show()"
   ],
   "metadata": {
    "collapsed": false,
    "pycharm": {
     "name": "#%%\n"
    }
   }
  },
  {
   "cell_type": "code",
   "execution_count": null,
   "outputs": [],
   "source": [],
   "metadata": {
    "collapsed": false,
    "pycharm": {
     "name": "#%%\n"
    }
   }
  }
 ],
 "metadata": {
  "kernelspec": {
   "display_name": "Python 3",
   "language": "python",
   "name": "python3"
  },
  "language_info": {
   "codemirror_mode": {
    "name": "ipython",
    "version": 2
   },
   "file_extension": ".py",
   "mimetype": "text/x-python",
   "name": "python",
   "nbconvert_exporter": "python",
   "pygments_lexer": "ipython2",
   "version": "2.7.6"
  }
 },
 "nbformat": 4,
 "nbformat_minor": 0
}