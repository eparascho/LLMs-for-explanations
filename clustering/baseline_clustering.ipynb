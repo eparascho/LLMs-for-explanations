{
 "cells": [
  {
   "cell_type": "markdown",
   "source": [
    "##### This notebook performs and evaluates different baseline algorithms\n",
    "In more detail it performs the following clustering algorithm categories:\n",
    "1. Density-based clustering algorithms\n",
    "2. Spectral clustering algorithms"
   ],
   "metadata": {
    "collapsed": false,
    "pycharm": {
     "name": "#%% md\n"
    }
   }
  },
  {
   "cell_type": "code",
   "execution_count": 6,
   "metadata": {
    "collapsed": true,
    "pycharm": {
     "name": "#%%\n"
    }
   },
   "outputs": [],
   "source": [
    "import time\n",
    "import pandas as pd\n",
    "from sklearn.cluster import DBSCAN, OPTICS, HDBSCAN, SpectralClustering\n",
    "from sklearn.metrics import silhouette_score, calinski_harabasz_score, davies_bouldin_score"
   ]
  },
  {
   "cell_type": "code",
   "execution_count": 7,
   "outputs": [
    {
     "data": {
      "text/plain": "                              id  sleep_points  exertion_points  altitude  \\\n0       621e2e8e67b776a24055b564      0.810469         0.622928       0.0   \n1       621e2e8e67b776a24055b564      0.810469         0.622928       0.0   \n2       621e2e8e67b776a24055b564      0.810469         0.622928       0.0   \n3       621e2e8e67b776a24055b564      0.810469         0.622928       0.0   \n4       621e2e8e67b776a24055b564      0.810469         0.622928       0.0   \n...                          ...           ...              ...       ...   \n159921  621e375b67b776a240290cdc      0.680095         0.720932       0.0   \n159922  621e375b67b776a240290cdc      0.680095         0.720932       0.0   \n159923  621e375b67b776a240290cdc      0.680095         0.720932       0.0   \n159924  621e375b67b776a240290cdc      0.680095         0.720932       0.0   \n159925  621e375b67b776a240290cdc      0.680095         0.720932       0.0   \n\n        calories  lightly_active_minutes  moderately_active_minutes  \\\n0       0.029382                0.254701                   0.083045   \n1       0.002914                0.254701                   0.083045   \n2       0.000729                0.254701                   0.083045   \n3       0.012860                0.254701                   0.083045   \n4       0.003315                0.254701                   0.083045   \n...          ...                     ...                        ...   \n159921  0.000383                0.000000                   0.000000   \n159922  0.000383                0.000000                   0.000000   \n159923  0.000383                0.000000                   0.000000   \n159924  0.000383                0.000000                   0.000000   \n159925  0.000383                0.000000                   0.000000   \n\n        sedentary_minutes     steps  very_active_minutes  ...  WORK/SCHOOL  \\\n0                0.495139  0.017563             0.080685  ...          0.0   \n1                0.495139  0.000000             0.080685  ...          0.0   \n2                0.495139  0.046184             0.080685  ...          0.0   \n3                0.495139  0.002661             0.080685  ...          0.0   \n4                0.495139  0.000000             0.080685  ...          0.0   \n...                   ...       ...                  ...  ...          ...   \n159921           0.490278  0.064983             0.000000  ...          0.0   \n159922           0.490278  0.064983             0.000000  ...          0.0   \n159923           0.490278  0.064983             0.000000  ...          0.0   \n159924           0.490278  0.064983             0.000000  ...          0.0   \n159925           0.490278  0.064983             0.000000  ...          0.0   \n\n        badges  exercises  exercise_duration  is_weekend  is_holiday  \\\n0          0.0   0.074074           0.001865         0.0         0.0   \n1          0.0   0.074074           0.001865         0.0         0.0   \n2          0.0   0.074074           0.001865         0.0         0.0   \n3          0.0   0.074074           0.001865         0.0         0.0   \n4          0.0   0.074074           0.001865         0.0         0.0   \n...        ...        ...                ...         ...         ...   \n159921     0.0   0.000000           0.000000         0.0         0.0   \n159922     0.0   0.000000           0.000000         0.0         0.0   \n159923     0.0   0.000000           0.000000         0.0         0.0   \n159924     0.0   0.000000           0.000000         0.0         0.0   \n159925     0.0   0.000000           0.000000         0.0         0.0   \n\n         day_sin  hour_sin   day_cos  hour_cos  \n0       0.005131  0.500000  0.574623  1.000000  \n1       0.005131  0.629410  0.574623  0.982963  \n2       0.005131  0.750000  0.574623  0.933013  \n3       0.005131  0.853553  0.574623  0.853553  \n4       0.005131  0.933013  0.574623  0.750000  \n...          ...       ...       ...       ...  \n159921  0.350126  0.982963  0.020417  0.370590  \n159922  0.350126  0.933013  0.020417  0.250000  \n159923  0.350126  0.853553  0.020417  0.146447  \n159924  0.350126  0.750000  0.020417  0.066987  \n159925  0.350126  0.629410  0.020417  0.017037  \n\n[159783 rows x 37 columns]",
      "text/html": "<div>\n<style scoped>\n    .dataframe tbody tr th:only-of-type {\n        vertical-align: middle;\n    }\n\n    .dataframe tbody tr th {\n        vertical-align: top;\n    }\n\n    .dataframe thead th {\n        text-align: right;\n    }\n</style>\n<table border=\"1\" class=\"dataframe\">\n  <thead>\n    <tr style=\"text-align: right;\">\n      <th></th>\n      <th>id</th>\n      <th>sleep_points</th>\n      <th>exertion_points</th>\n      <th>altitude</th>\n      <th>calories</th>\n      <th>lightly_active_minutes</th>\n      <th>moderately_active_minutes</th>\n      <th>sedentary_minutes</th>\n      <th>steps</th>\n      <th>very_active_minutes</th>\n      <th>...</th>\n      <th>WORK/SCHOOL</th>\n      <th>badges</th>\n      <th>exercises</th>\n      <th>exercise_duration</th>\n      <th>is_weekend</th>\n      <th>is_holiday</th>\n      <th>day_sin</th>\n      <th>hour_sin</th>\n      <th>day_cos</th>\n      <th>hour_cos</th>\n    </tr>\n  </thead>\n  <tbody>\n    <tr>\n      <th>0</th>\n      <td>621e2e8e67b776a24055b564</td>\n      <td>0.810469</td>\n      <td>0.622928</td>\n      <td>0.0</td>\n      <td>0.029382</td>\n      <td>0.254701</td>\n      <td>0.083045</td>\n      <td>0.495139</td>\n      <td>0.017563</td>\n      <td>0.080685</td>\n      <td>...</td>\n      <td>0.0</td>\n      <td>0.0</td>\n      <td>0.074074</td>\n      <td>0.001865</td>\n      <td>0.0</td>\n      <td>0.0</td>\n      <td>0.005131</td>\n      <td>0.500000</td>\n      <td>0.574623</td>\n      <td>1.000000</td>\n    </tr>\n    <tr>\n      <th>1</th>\n      <td>621e2e8e67b776a24055b564</td>\n      <td>0.810469</td>\n      <td>0.622928</td>\n      <td>0.0</td>\n      <td>0.002914</td>\n      <td>0.254701</td>\n      <td>0.083045</td>\n      <td>0.495139</td>\n      <td>0.000000</td>\n      <td>0.080685</td>\n      <td>...</td>\n      <td>0.0</td>\n      <td>0.0</td>\n      <td>0.074074</td>\n      <td>0.001865</td>\n      <td>0.0</td>\n      <td>0.0</td>\n      <td>0.005131</td>\n      <td>0.629410</td>\n      <td>0.574623</td>\n      <td>0.982963</td>\n    </tr>\n    <tr>\n      <th>2</th>\n      <td>621e2e8e67b776a24055b564</td>\n      <td>0.810469</td>\n      <td>0.622928</td>\n      <td>0.0</td>\n      <td>0.000729</td>\n      <td>0.254701</td>\n      <td>0.083045</td>\n      <td>0.495139</td>\n      <td>0.046184</td>\n      <td>0.080685</td>\n      <td>...</td>\n      <td>0.0</td>\n      <td>0.0</td>\n      <td>0.074074</td>\n      <td>0.001865</td>\n      <td>0.0</td>\n      <td>0.0</td>\n      <td>0.005131</td>\n      <td>0.750000</td>\n      <td>0.574623</td>\n      <td>0.933013</td>\n    </tr>\n    <tr>\n      <th>3</th>\n      <td>621e2e8e67b776a24055b564</td>\n      <td>0.810469</td>\n      <td>0.622928</td>\n      <td>0.0</td>\n      <td>0.012860</td>\n      <td>0.254701</td>\n      <td>0.083045</td>\n      <td>0.495139</td>\n      <td>0.002661</td>\n      <td>0.080685</td>\n      <td>...</td>\n      <td>0.0</td>\n      <td>0.0</td>\n      <td>0.074074</td>\n      <td>0.001865</td>\n      <td>0.0</td>\n      <td>0.0</td>\n      <td>0.005131</td>\n      <td>0.853553</td>\n      <td>0.574623</td>\n      <td>0.853553</td>\n    </tr>\n    <tr>\n      <th>4</th>\n      <td>621e2e8e67b776a24055b564</td>\n      <td>0.810469</td>\n      <td>0.622928</td>\n      <td>0.0</td>\n      <td>0.003315</td>\n      <td>0.254701</td>\n      <td>0.083045</td>\n      <td>0.495139</td>\n      <td>0.000000</td>\n      <td>0.080685</td>\n      <td>...</td>\n      <td>0.0</td>\n      <td>0.0</td>\n      <td>0.074074</td>\n      <td>0.001865</td>\n      <td>0.0</td>\n      <td>0.0</td>\n      <td>0.005131</td>\n      <td>0.933013</td>\n      <td>0.574623</td>\n      <td>0.750000</td>\n    </tr>\n    <tr>\n      <th>...</th>\n      <td>...</td>\n      <td>...</td>\n      <td>...</td>\n      <td>...</td>\n      <td>...</td>\n      <td>...</td>\n      <td>...</td>\n      <td>...</td>\n      <td>...</td>\n      <td>...</td>\n      <td>...</td>\n      <td>...</td>\n      <td>...</td>\n      <td>...</td>\n      <td>...</td>\n      <td>...</td>\n      <td>...</td>\n      <td>...</td>\n      <td>...</td>\n      <td>...</td>\n      <td>...</td>\n    </tr>\n    <tr>\n      <th>159921</th>\n      <td>621e375b67b776a240290cdc</td>\n      <td>0.680095</td>\n      <td>0.720932</td>\n      <td>0.0</td>\n      <td>0.000383</td>\n      <td>0.000000</td>\n      <td>0.000000</td>\n      <td>0.490278</td>\n      <td>0.064983</td>\n      <td>0.000000</td>\n      <td>...</td>\n      <td>0.0</td>\n      <td>0.0</td>\n      <td>0.000000</td>\n      <td>0.000000</td>\n      <td>0.0</td>\n      <td>0.0</td>\n      <td>0.350126</td>\n      <td>0.982963</td>\n      <td>0.020417</td>\n      <td>0.370590</td>\n    </tr>\n    <tr>\n      <th>159922</th>\n      <td>621e375b67b776a240290cdc</td>\n      <td>0.680095</td>\n      <td>0.720932</td>\n      <td>0.0</td>\n      <td>0.000383</td>\n      <td>0.000000</td>\n      <td>0.000000</td>\n      <td>0.490278</td>\n      <td>0.064983</td>\n      <td>0.000000</td>\n      <td>...</td>\n      <td>0.0</td>\n      <td>0.0</td>\n      <td>0.000000</td>\n      <td>0.000000</td>\n      <td>0.0</td>\n      <td>0.0</td>\n      <td>0.350126</td>\n      <td>0.933013</td>\n      <td>0.020417</td>\n      <td>0.250000</td>\n    </tr>\n    <tr>\n      <th>159923</th>\n      <td>621e375b67b776a240290cdc</td>\n      <td>0.680095</td>\n      <td>0.720932</td>\n      <td>0.0</td>\n      <td>0.000383</td>\n      <td>0.000000</td>\n      <td>0.000000</td>\n      <td>0.490278</td>\n      <td>0.064983</td>\n      <td>0.000000</td>\n      <td>...</td>\n      <td>0.0</td>\n      <td>0.0</td>\n      <td>0.000000</td>\n      <td>0.000000</td>\n      <td>0.0</td>\n      <td>0.0</td>\n      <td>0.350126</td>\n      <td>0.853553</td>\n      <td>0.020417</td>\n      <td>0.146447</td>\n    </tr>\n    <tr>\n      <th>159924</th>\n      <td>621e375b67b776a240290cdc</td>\n      <td>0.680095</td>\n      <td>0.720932</td>\n      <td>0.0</td>\n      <td>0.000383</td>\n      <td>0.000000</td>\n      <td>0.000000</td>\n      <td>0.490278</td>\n      <td>0.064983</td>\n      <td>0.000000</td>\n      <td>...</td>\n      <td>0.0</td>\n      <td>0.0</td>\n      <td>0.000000</td>\n      <td>0.000000</td>\n      <td>0.0</td>\n      <td>0.0</td>\n      <td>0.350126</td>\n      <td>0.750000</td>\n      <td>0.020417</td>\n      <td>0.066987</td>\n    </tr>\n    <tr>\n      <th>159925</th>\n      <td>621e375b67b776a240290cdc</td>\n      <td>0.680095</td>\n      <td>0.720932</td>\n      <td>0.0</td>\n      <td>0.000383</td>\n      <td>0.000000</td>\n      <td>0.000000</td>\n      <td>0.490278</td>\n      <td>0.064983</td>\n      <td>0.000000</td>\n      <td>...</td>\n      <td>0.0</td>\n      <td>0.0</td>\n      <td>0.000000</td>\n      <td>0.000000</td>\n      <td>0.0</td>\n      <td>0.0</td>\n      <td>0.350126</td>\n      <td>0.629410</td>\n      <td>0.020417</td>\n      <td>0.017037</td>\n    </tr>\n  </tbody>\n</table>\n<p>159783 rows × 37 columns</p>\n</div>"
     },
     "execution_count": 7,
     "metadata": {},
     "output_type": "execute_result"
    }
   ],
   "source": [
    "data = pd.read_pickle('../data/feature_elimination_temps/correlation_training_df.pkl')\n",
    "data"
   ],
   "metadata": {
    "collapsed": false,
    "pycharm": {
     "name": "#%%\n"
    }
   }
  },
  {
   "cell_type": "markdown",
   "source": [
    "Prepare data for clustering"
   ],
   "metadata": {
    "collapsed": false,
    "pycharm": {
     "name": "#%% md\n"
    }
   }
  },
  {
   "cell_type": "code",
   "execution_count": 8,
   "outputs": [],
   "source": [
    "user_id = data['id']\n",
    "data.drop(columns=['id'], inplace=True)"
   ],
   "metadata": {
    "collapsed": false,
    "pycharm": {
     "name": "#%%\n"
    }
   }
  },
  {
   "cell_type": "markdown",
   "source": [
    "##### 1. Perform multiple density-based clustering algorithms"
   ],
   "metadata": {
    "collapsed": false,
    "pycharm": {
     "name": "#%% md\n"
    }
   }
  },
  {
   "cell_type": "markdown",
   "source": [
    "Perform DBSCAN"
   ],
   "metadata": {
    "collapsed": false,
    "pycharm": {
     "name": "#%% md\n"
    }
   }
  },
  {
   "cell_type": "code",
   "execution_count": null,
   "outputs": [
    {
     "name": "stdout",
     "output_type": "stream",
     "text": [
      "Clustering with DBSCAN ... \n"
     ]
    }
   ],
   "source": [
    "start = time.time()\n",
    "print(\"Clustering with DBSCAN ... \")\n",
    "\n",
    "# perform clustering\n",
    "dbscan = DBSCAN(eps=3, min_samples=2)\n",
    "y = dbscan.fit_predict(data)\n",
    "dbscan_data = data.copy()\n",
    "dbscan_data['cluster'] = y\n",
    "\n",
    "# evaluate clustering results\n",
    "print (\"The Silhouette score is:\", silhouette_score(data, y))\n",
    "print (\"The Davies-Bouldin Index is:\", davies_bouldin_score(data, y))\n",
    "print (\"The Calinski-Harabasz Index is:\", calinski_harabasz_score(data, y))\n",
    "\n",
    "print(\"DBSCAN finished after\", time.time() - start)"
   ],
   "metadata": {
    "collapsed": false,
    "pycharm": {
     "name": "#%%\n",
     "is_executing": true
    }
   }
  },
  {
   "cell_type": "code",
   "execution_count": null,
   "outputs": [],
   "source": [
    "dbscan_data = pd.concat([user_id, dbscan_data], axis=1, ignore_index=True)\n",
    "dbscan_data.to_csv('../data/clustering_results/dbscan_results.csv')"
   ],
   "metadata": {
    "collapsed": false,
    "pycharm": {
     "name": "#%%\n",
     "is_executing": true
    }
   }
  },
  {
   "cell_type": "markdown",
   "source": [
    "Perform OPTICS"
   ],
   "metadata": {
    "collapsed": false,
    "pycharm": {
     "name": "#%% md\n"
    }
   }
  },
  {
   "cell_type": "code",
   "execution_count": null,
   "outputs": [],
   "source": [
    "start = time.time()\n",
    "print(\"Clustering with OPTICS ... \")\n",
    "\n",
    "# perform clustering\n",
    "optics = OPTICS(min_samples=2)\n",
    "y = optics.fit_predict(data)\n",
    "optics_data = data.copy()\n",
    "optics_data['cluster'] = y\n",
    "\n",
    "# evaluate clustering results\n",
    "print (\"The Silhouette score is:\", silhouette_score(data, y))\n",
    "print (\"The Davies-Bouldin Index is:\", davies_bouldin_score(data, y))\n",
    "print (\"The Calinski-Harabasz Index is:\", calinski_harabasz_score(data, y))\n",
    "\n",
    "print(\"OPTICS finished after\", time.time() - start)"
   ],
   "metadata": {
    "collapsed": false,
    "pycharm": {
     "name": "#%%\n",
     "is_executing": true
    }
   }
  },
  {
   "cell_type": "code",
   "execution_count": null,
   "outputs": [],
   "source": [
    "optics_data = pd.concat([user_id, optics_data], axis=1, ignore_index=True)\n",
    "optics_data.to_csv('../data/clustering_results/optics_results.csv')"
   ],
   "metadata": {
    "collapsed": false,
    "pycharm": {
     "name": "#%%\n",
     "is_executing": true
    }
   }
  },
  {
   "cell_type": "markdown",
   "source": [
    "Perform HDBSCAN"
   ],
   "metadata": {
    "collapsed": false,
    "pycharm": {
     "name": "#%% md\n"
    }
   }
  },
  {
   "cell_type": "code",
   "execution_count": null,
   "outputs": [],
   "source": [
    "start = time.time()\n",
    "print(\"Clustering with HDBSCAN ... \")\n",
    "\n",
    "# perform clustering\n",
    "hdbscan = HDBSCAN(min_cluster_size=100)\n",
    "y = hdbscan.fit_predict(data)\n",
    "hdbscan_data = data.copy()\n",
    "hdbscan_data['cluster'] = y\n",
    "\n",
    "# evaluate clustering results\n",
    "print (\"The Silhouette score is:\", silhouette_score(data, y))\n",
    "print (\"The Davies-Bouldin Index is:\", davies_bouldin_score(data, y))\n",
    "print (\"The Calinski-Harabasz Index is:\", calinski_harabasz_score(data, y))\n",
    "\n",
    "print(\"HDBSCAN finished after\", time.time() - start)"
   ],
   "metadata": {
    "collapsed": false,
    "pycharm": {
     "name": "#%%\n",
     "is_executing": true
    }
   }
  },
  {
   "cell_type": "code",
   "execution_count": null,
   "outputs": [],
   "source": [
    "hdbscan_data = pd.concat([user_id, hdbscan_data], axis=1, ignore_index=True)\n",
    "hdbscan_data.to_csv('../data/clustering_results/hdbscan_results.csv')"
   ],
   "metadata": {
    "collapsed": false,
    "pycharm": {
     "name": "#%%\n",
     "is_executing": true
    }
   }
  },
  {
   "cell_type": "markdown",
   "source": [
    "##### 2. Perform the spectral clustering algorithm"
   ],
   "metadata": {
    "collapsed": false,
    "pycharm": {
     "name": "#%% md\n"
    }
   }
  },
  {
   "cell_type": "markdown",
   "source": [
    "Perform Spectral clustering"
   ],
   "metadata": {
    "collapsed": false,
    "pycharm": {
     "name": "#%% md\n"
    }
   }
  },
  {
   "cell_type": "code",
   "execution_count": null,
   "outputs": [],
   "source": [
    "start = time.time()\n",
    "print(\"Clustering with Spectral ... \")\n",
    "\n",
    "# perform clustering\n",
    "spectral = SpectralClustering(n_clusters=71, assign_labels='cluster_qr', random_state=0)\n",
    "y = spectral.fit_predict(data)\n",
    "spectral_data = data.copy()\n",
    "spectral_data['cluster'] = y\n",
    "\n",
    "# evaluate clustering results\n",
    "print (\"The Silhouette score is:\", silhouette_score(data, y))\n",
    "print (\"The Davies-Bouldin Index is:\", davies_bouldin_score(data, y))\n",
    "print (\"The Calinski-Harabasz Index is:\", calinski_harabasz_score(data, y))\n",
    "\n",
    "print(\"Spectral finished after\", time.time() - start)"
   ],
   "metadata": {
    "collapsed": false,
    "pycharm": {
     "name": "#%%\n",
     "is_executing": true
    }
   }
  },
  {
   "cell_type": "code",
   "execution_count": null,
   "outputs": [],
   "source": [
    "spectral_data = pd.concat([user_id, spectral_data], axis=1, ignore_index=True)\n",
    "spectral_data.to_csv('../data/clustering_results/spectral_results.csv')"
   ],
   "metadata": {
    "collapsed": false,
    "pycharm": {
     "name": "#%%\n",
     "is_executing": true
    }
   }
  }
 ],
 "metadata": {
  "kernelspec": {
   "display_name": "Python 3",
   "language": "python",
   "name": "python3"
  },
  "language_info": {
   "codemirror_mode": {
    "name": "ipython",
    "version": 2
   },
   "file_extension": ".py",
   "mimetype": "text/x-python",
   "name": "python",
   "nbconvert_exporter": "python",
   "pygments_lexer": "ipython2",
   "version": "2.7.6"
  }
 },
 "nbformat": 4,
 "nbformat_minor": 0
}