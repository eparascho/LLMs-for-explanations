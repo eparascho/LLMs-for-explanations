{
 "cells": [
  {
   "cell_type": "markdown",
   "metadata": {},
   "source": [
    "This notebook searches for the best parameters for the non-parametric hierarchical density-based HDBSCAN clustering algorithm."
   ]
  },
  {
   "cell_type": "code",
   "execution_count": 20,
   "metadata": {},
   "outputs": [],
   "source": [
    "import sys\n",
    "import time\n",
    "import pandas as pd\n",
    "sys.path.append('../')\n",
    "from hdbscan import HDBSCAN\n",
    "from sklearn.model_selection import ParameterGrid\n",
    "from functions.clustering import silhouette_scorer"
   ]
  },
  {
   "cell_type": "code",
   "execution_count": 21,
   "metadata": {},
   "outputs": [],
   "source": [
    "# read data\n",
    "data = pd.read_pickle('../data/clustering_input/clustering_df_daily_clean.pkl')"
   ]
  },
  {
   "cell_type": "code",
   "execution_count": 22,
   "metadata": {},
   "outputs": [],
   "source": [
    "# prepare data for clustering (store and then remove id)\n",
    "user_id = data['id']\n",
    "dates = data['date']\n",
    "data.drop(columns=['id', 'date'], inplace=True)"
   ]
  },
  {
   "cell_type": "code",
   "execution_count": 23,
   "metadata": {},
   "outputs": [],
   "source": [
    "# specify parameters and distributions to sample from\n",
    "param_dist = {'min_samples': [7, 40, 83, 200, 400], 'min_cluster_size': [65, 400, 830, 2000, 4000]}  # for daily data\n",
    "# param_dist = {'min_samples': [60, 550, 1600, 4000], 'min_cluster_size': [600, 5500, 16000, 40000]}  # for hourly data"
   ]
  },
  {
   "cell_type": "code",
   "execution_count": null,
   "metadata": {},
   "outputs": [],
   "source": [
    "# performing grid search\n",
    "results = []\n",
    "start = time.time()\n",
    "print(\"Performing grid search\")\n",
    "for params in ParameterGrid(param_dist):\n",
    "    print(\"for parameters:\", params)\n",
    "    model = HDBSCAN(**params)\n",
    "    score = silhouette_scorer(model, data)\n",
    "    results.append((params, score))\n",
    "print(\"finished after\", time.time() - start)\n",
    "\n",
    "best_params, best_score = max(results, key=lambda x: x[1])\n",
    "print(\"Best parameters:\", best_params)\n",
    "print(\"Best silhouette score:\", best_score)"
   ]
  }
 ],
 "metadata": {
  "kernelspec": {
   "display_name": ".venv",
   "language": "python",
   "name": "python3"
  },
  "language_info": {
   "codemirror_mode": {
    "name": "ipython",
    "version": 3
   },
   "file_extension": ".py",
   "mimetype": "text/x-python",
   "name": "python",
   "nbconvert_exporter": "python",
   "pygments_lexer": "ipython3",
   "version": "3.9.13"
  }
 },
 "nbformat": 4,
 "nbformat_minor": 2
}
