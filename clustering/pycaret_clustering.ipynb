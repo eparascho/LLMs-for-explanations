{
 "cells": [
  {
   "cell_type": "markdown",
   "metadata": {},
   "source": [
    "This notebook runs pycaret for the clustering task and ends with useful visualizations."
   ]
  },
  {
   "cell_type": "code",
   "execution_count": 1,
   "metadata": {},
   "outputs": [],
   "source": [
    "import sys\n",
    "import pandas as pd\n",
    "sys.path.append('../')"
   ]
  },
  {
   "cell_type": "code",
   "execution_count": 2,
   "metadata": {},
   "outputs": [],
   "source": [
    "# read the data\n",
    "data = pd.read_pickle('../data/clustering_input/clustering_df_categories_no_outliers.pkl')\n",
    "data.drop(columns=['id', 'date'], inplace=True)"
   ]
  },
  {
   "cell_type": "code",
   "execution_count": 3,
   "metadata": {},
   "outputs": [
    {
     "data": {
      "text/html": [
       "<style type=\"text/css\">\n",
       "</style>\n",
       "<table id=\"T_820ea\">\n",
       "  <thead>\n",
       "    <tr>\n",
       "      <th class=\"blank level0\" >&nbsp;</th>\n",
       "      <th id=\"T_820ea_level0_col0\" class=\"col_heading level0 col0\" >Description</th>\n",
       "      <th id=\"T_820ea_level0_col1\" class=\"col_heading level0 col1\" >Value</th>\n",
       "    </tr>\n",
       "  </thead>\n",
       "  <tbody>\n",
       "    <tr>\n",
       "      <th id=\"T_820ea_level0_row0\" class=\"row_heading level0 row0\" >0</th>\n",
       "      <td id=\"T_820ea_row0_col0\" class=\"data row0 col0\" >Session id</td>\n",
       "      <td id=\"T_820ea_row0_col1\" class=\"data row0 col1\" >7859</td>\n",
       "    </tr>\n",
       "    <tr>\n",
       "      <th id=\"T_820ea_level0_row1\" class=\"row_heading level0 row1\" >1</th>\n",
       "      <td id=\"T_820ea_row1_col0\" class=\"data row1 col0\" >Original data shape</td>\n",
       "      <td id=\"T_820ea_row1_col1\" class=\"data row1 col1\" >(159783, 17)</td>\n",
       "    </tr>\n",
       "    <tr>\n",
       "      <th id=\"T_820ea_level0_row2\" class=\"row_heading level0 row2\" >2</th>\n",
       "      <td id=\"T_820ea_row2_col0\" class=\"data row2 col0\" >Transformed data shape</td>\n",
       "      <td id=\"T_820ea_row2_col1\" class=\"data row2 col1\" >(159783, 17)</td>\n",
       "    </tr>\n",
       "    <tr>\n",
       "      <th id=\"T_820ea_level0_row3\" class=\"row_heading level0 row3\" >3</th>\n",
       "      <td id=\"T_820ea_row3_col0\" class=\"data row3 col0\" >Numeric features</td>\n",
       "      <td id=\"T_820ea_row3_col1\" class=\"data row3 col1\" >17</td>\n",
       "    </tr>\n",
       "  </tbody>\n",
       "</table>\n"
      ],
      "text/plain": [
       "<pandas.io.formats.style.Styler at 0x16e62f04b20>"
      ]
     },
     "metadata": {},
     "output_type": "display_data"
    }
   ],
   "source": [
    "from pycaret.clustering import *\n",
    "s = setup(data, normalize = False, preprocess=False)"
   ]
  },
  {
   "cell_type": "code",
   "execution_count": 4,
   "metadata": {},
   "outputs": [
    {
     "data": {
      "text/html": [],
      "text/plain": [
       "<IPython.core.display.HTML object>"
      ]
     },
     "metadata": {},
     "output_type": "display_data"
    },
    {
     "data": {
      "text/html": [],
      "text/plain": [
       "<IPython.core.display.HTML object>"
      ]
     },
     "metadata": {},
     "output_type": "display_data"
    },
    {
     "data": {
      "application/vnd.jupyter.widget-view+json": {
       "model_id": "a8689323f8b141989454a0c0935adc7b",
       "version_major": 2,
       "version_minor": 0
      },
      "text/plain": [
       "Processing:   0%|          | 0/3 [00:00<?, ?it/s]"
      ]
     },
     "metadata": {},
     "output_type": "display_data"
    }
   ],
   "source": [
    "kmeans = create_model('kmeans', num_clusters=2)"
   ]
  },
  {
   "cell_type": "code",
   "execution_count": 6,
   "metadata": {},
   "outputs": [
    {
     "data": {
      "application/vnd.jupyter.widget-view+json": {
       "model_id": "a2191339ea294ff883fa765bc5c29a67",
       "version_major": 2,
       "version_minor": 0
      },
      "text/plain": [
       "interactive(children=(ToggleButtons(description='Plot Type:', icons=('',), options=(('Pipeline Plot', 'pipelin…"
      ]
     },
     "metadata": {},
     "output_type": "display_data"
    }
   ],
   "source": [
    "evaluate_model(kmeans)"
   ]
  }
 ],
 "metadata": {
  "kernelspec": {
   "display_name": ".venv",
   "language": "python",
   "name": "python3"
  },
  "language_info": {
   "codemirror_mode": {
    "name": "ipython",
    "version": 3
   },
   "file_extension": ".py",
   "mimetype": "text/x-python",
   "name": "python",
   "nbconvert_exporter": "python",
   "pygments_lexer": "ipython3",
   "version": "3.9.13"
  }
 },
 "nbformat": 4,
 "nbformat_minor": 2
}
