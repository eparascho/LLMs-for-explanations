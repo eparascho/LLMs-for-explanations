{
 "cells": [
  {
   "cell_type": "markdown",
   "metadata": {},
   "source": [
    "This notebook performs the parametric partitional fuzzy-c-means clustering algorithm."
   ]
  },
  {
   "cell_type": "code",
   "execution_count": 31,
   "metadata": {},
   "outputs": [],
   "source": [
    "import sys\n",
    "import time\n",
    "import pandas as pd\n",
    "sys.path.append('../')\n",
    "from fcmeans import FCM\n",
    "from functions.clustering import perform_clustering, silhouette_method"
   ]
  },
  {
   "cell_type": "code",
   "execution_count": 32,
   "metadata": {},
   "outputs": [],
   "source": [
    "# read data\n",
    "data = pd.read_pickle('../data/clustering_input/clustering_df_full.pkl')"
   ]
  },
  {
   "cell_type": "code",
   "execution_count": 33,
   "metadata": {},
   "outputs": [],
   "source": [
    "# prepare data for clustering (store and then remove id)\n",
    "user_id = data['id']\n",
    "dates = data['date']\n",
    "data.drop(columns=['id', 'date'], inplace=True)"
   ]
  },
  {
   "cell_type": "code",
   "execution_count": 34,
   "metadata": {},
   "outputs": [
    {
     "name": "stdout",
     "output_type": "stream",
     "text": [
      "Clustering with Fuzzy-c-means ... \n",
      "Fuzzy-c-means finished after 10.086941719055176\n"
     ]
    }
   ],
   "source": [
    "# perform fuzzy-c-means clustering\n",
    "start = time.time()\n",
    "print(\"Clustering with Fuzzy-c-means ... \")\n",
    "fuzzy = FCM(n_clusters=2, random_state=0)\n",
    "metadata = pd.concat([user_id, dates], axis=1).reset_index(drop=True)\n",
    "results = perform_clustering(fuzzy, data, metadata, 'fuzzy')\n",
    "print(\"Fuzzy-c-means finished after\", time.time() - start)\n",
    "results.to_csv('../data/clustering_results/fuzzy_2_results_hourly_full.csv', index=False)"
   ]
  }
 ],
 "metadata": {
  "kernelspec": {
   "display_name": ".venv",
   "language": "python",
   "name": "python3"
  },
  "language_info": {
   "codemirror_mode": {
    "name": "ipython",
    "version": 3
   },
   "file_extension": ".py",
   "mimetype": "text/x-python",
   "name": "python",
   "nbconvert_exporter": "python",
   "pygments_lexer": "ipython3",
   "version": "3.9.13"
  }
 },
 "nbformat": 4,
 "nbformat_minor": 2
}
