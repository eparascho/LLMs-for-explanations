{
 "cells": [
  {
   "cell_type": "markdown",
   "metadata": {},
   "source": [
    "This notebook evaluates the performance of different clustering algorithms."
   ]
  },
  {
   "cell_type": "code",
   "execution_count": 13,
   "metadata": {},
   "outputs": [],
   "source": [
    "import sys\n",
    "import pandas as pd\n",
    "sys.path.append('../')\n",
    "from functions.clustering import evaluation_metrics"
   ]
  },
  {
   "cell_type": "code",
   "execution_count": 15,
   "metadata": {},
   "outputs": [
    {
     "name": "stdout",
     "output_type": "stream",
     "text": [
      "There are 2 clusters.\n",
      "calculating Silhouette score ... \n",
      "The Silhouette score is: 0.42792582881038144\n",
      "calculating DB index ... \n",
      "The Davies-Bouldin Index is: 0.9834446032692927\n",
      "calculating CH index ... \n",
      "The Calinski-Harabasz Index is: 80523.34056307186\n",
      "calculating Dunn index ... \n",
      "The Dunn Index is: 0.7060894002333331\n",
      "calculating PBM index ... \n",
      "The PBM is: 0.023629089831392135\n",
      "calculating Xie-Beni index ... \n",
      "The Xie-Beni is: 0.49135111216031313\n"
     ]
    }
   ],
   "source": [
    "# evaluate the model\n",
    "model = pd.read_csv('../data/clustering_results/kmeans_2_results_hourly_categories_nooutliers1.5.csv')\n",
    "# drop id and date columns\n",
    "model = model.iloc[:, 2:]\n",
    "print(\"There are\", model['cluster'].nunique(), \"clusters.\")\n",
    "evaluation_metrics(model)"
   ]
  },
  {
   "cell_type": "code",
   "execution_count": null,
   "metadata": {},
   "outputs": [],
   "source": []
  }
 ],
 "metadata": {
  "kernelspec": {
   "display_name": ".venv",
   "language": "python",
   "name": "python3"
  },
  "language_info": {
   "codemirror_mode": {
    "name": "ipython",
    "version": 3
   },
   "file_extension": ".py",
   "mimetype": "text/x-python",
   "name": "python",
   "nbconvert_exporter": "python",
   "pygments_lexer": "ipython3",
   "version": "3.9.13"
  }
 },
 "nbformat": 4,
 "nbformat_minor": 2
}
