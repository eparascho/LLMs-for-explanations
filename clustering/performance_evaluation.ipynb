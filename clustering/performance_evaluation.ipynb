{
 "cells": [
  {
   "cell_type": "markdown",
   "metadata": {},
   "source": [
    "This notebook evaluates the performance of different clustering algorithms."
   ]
  },
  {
   "cell_type": "code",
   "execution_count": 9,
   "metadata": {},
   "outputs": [],
   "source": [
    "import sys\n",
    "import pandas as pd\n",
    "sys.path.append('../')\n",
    "from functions.clustering import evaluation_metrics"
   ]
  },
  {
   "cell_type": "code",
   "execution_count": 10,
   "metadata": {},
   "outputs": [
    {
     "name": "stdout",
     "output_type": "stream",
     "text": [
      "There are 2 clusters.\n",
      "calculating Silhouette score ... \n",
      "The Silhouette score is: 0.4037241715653276\n",
      "calculating DB index ... \n",
      "The Davies-Bouldin Index is: 1.037676165754605\n",
      "calculating CH index ... \n",
      "The Calinski-Harabasz Index is: 86781.7514464954\n",
      "calculating Dunn index ... \n",
      "The Dunn Index is: 0.6419315424754172\n",
      "calculating PBM index ... \n",
      "The PBM is: 0.019800574842776707\n",
      "calculating Xie-Beni index ... \n",
      "The Xie-Beni is: 0.518918154933424\n"
     ]
    }
   ],
   "source": [
    "# evaluate the model\n",
    "model = pd.read_csv('../data/clustering_results/kmeans_2_results_hourly_categories_nooutliers3.csv')\n",
    "# drop id and date columns\n",
    "model = model.iloc[:, 2:]\n",
    "print(\"There are\", model['cluster'].nunique(), \"clusters.\")\n",
    "evaluation_metrics(model)"
   ]
  }
 ],
 "metadata": {
  "kernelspec": {
   "display_name": ".venv",
   "language": "python",
   "name": "python3"
  },
  "language_info": {
   "codemirror_mode": {
    "name": "ipython",
    "version": 3
   },
   "file_extension": ".py",
   "mimetype": "text/x-python",
   "name": "python",
   "nbconvert_exporter": "python",
   "pygments_lexer": "ipython3",
   "version": "3.9.13"
  }
 },
 "nbformat": 4,
 "nbformat_minor": 2
}
