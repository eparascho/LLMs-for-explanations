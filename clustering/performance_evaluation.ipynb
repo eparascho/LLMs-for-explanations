{
 "cells": [
  {
   "cell_type": "markdown",
   "metadata": {},
   "source": [
    "This notebook evaluates the performance of different clustering algorithms."
   ]
  },
  {
   "cell_type": "code",
   "execution_count": 15,
   "metadata": {},
   "outputs": [],
   "source": [
    "import sys\n",
    "import pandas as pd\n",
    "sys.path.append('../')\n",
    "from functions.clustering import evaluation_metrics"
   ]
  },
  {
   "cell_type": "code",
   "execution_count": 16,
   "metadata": {},
   "outputs": [
    {
     "name": "stdout",
     "output_type": "stream",
     "text": [
      "calculating Silhouette score ... \n",
      "The Silhouette score is: 0.2967503933248222\n",
      "calculating DB index ... \n",
      "The Davies-Bouldin Index is: 1.4171176599457622\n",
      "calculating CH index ... \n",
      "The Calinski-Harabasz Index is: 3825.809440445519\n",
      "calculating Dunn index ... \n",
      "The Dunn Index is: 0.5492953728679166\n",
      "calculating PBM index ... \n",
      "The PBM is: 0.10451063485884457\n",
      "calculating Xie-Beni index ... \n",
      "The Xie-Beni is: 0.7044197367858008\n"
     ]
    }
   ],
   "source": [
    "# evaluate the model\n",
    "model = pd.read_csv('../data/clustering_results/spectral_2_results_daily_clean.csv')\n",
    "# drop id and date columns\n",
    "model = model.iloc[:, 2:]\n",
    "evaluation_metrics(model)"
   ]
  }
 ],
 "metadata": {
  "kernelspec": {
   "display_name": ".venv",
   "language": "python",
   "name": "python3"
  },
  "language_info": {
   "codemirror_mode": {
    "name": "ipython",
    "version": 3
   },
   "file_extension": ".py",
   "mimetype": "text/x-python",
   "name": "python",
   "nbconvert_exporter": "python",
   "pygments_lexer": "ipython3",
   "version": "3.9.13"
  }
 },
 "nbformat": 4,
 "nbformat_minor": 2
}
