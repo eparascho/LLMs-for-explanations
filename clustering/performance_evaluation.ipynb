{
 "cells": [
  {
   "cell_type": "markdown",
   "metadata": {},
   "source": [
    "This notebook evaluates the performance of different clustering algorithms."
   ]
  },
  {
   "cell_type": "code",
   "execution_count": 1,
   "metadata": {},
   "outputs": [],
   "source": [
    "import sys\n",
    "import pandas as pd\n",
    "sys.path.append('../')\n",
    "from functions.clustering import evaluation_metrics"
   ]
  },
  {
   "cell_type": "code",
   "execution_count": 2,
   "metadata": {},
   "outputs": [
    {
     "name": "stdout",
     "output_type": "stream",
     "text": [
      "There are 2 clusters.\n",
      "calculating Silhouette score ... \n",
      "The Silhouette score is: 0.39632525395177426\n",
      "calculating DB index ... \n",
      "The Davies-Bouldin Index is: 1.05088734223947\n",
      "calculating CH index ... \n",
      "The Calinski-Harabasz Index is: 128111.17840746809\n",
      "calculating Dunn index ... \n",
      "The Dunn Index is: 0.6708310702956043\n",
      "calculating PBM index ... \n",
      "The PBM is: 0.017506243383687465\n",
      "calculating Xie-Beni index ... \n",
      "The Xie-Beni is: 0.5229071349711132\n"
     ]
    }
   ],
   "source": [
    "# evaluate the model\n",
    "model = pd.read_csv('../data/clustering_results/kmeans_2_results_hourly_categories_nooutliers.csv')\n",
    "# drop id and date columns\n",
    "model = model.iloc[:, 2:]\n",
    "print(\"There are\", model['cluster'].nunique(), \"clusters.\")\n",
    "evaluation_metrics(model)"
   ]
  }
 ],
 "metadata": {
  "kernelspec": {
   "display_name": ".venv",
   "language": "python",
   "name": "python3"
  },
  "language_info": {
   "codemirror_mode": {
    "name": "ipython",
    "version": 3
   },
   "file_extension": ".py",
   "mimetype": "text/x-python",
   "name": "python",
   "nbconvert_exporter": "python",
   "pygments_lexer": "ipython3",
   "version": "3.9.13"
  }
 },
 "nbformat": 4,
 "nbformat_minor": 2
}
