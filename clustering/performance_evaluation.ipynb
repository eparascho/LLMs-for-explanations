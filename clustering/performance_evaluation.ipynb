{
 "cells": [
  {
   "cell_type": "markdown",
   "metadata": {},
   "source": [
    "This notebook evaluates the performance of different clustering algorithms."
   ]
  },
  {
   "cell_type": "code",
   "execution_count": 31,
   "metadata": {},
   "outputs": [],
   "source": [
    "import sys\n",
    "import pandas as pd\n",
    "sys.path.append('../')\n",
    "from functions.clustering import evaluation_metrics"
   ]
  },
  {
   "cell_type": "code",
   "execution_count": 32,
   "metadata": {},
   "outputs": [
    {
     "name": "stdout",
     "output_type": "stream",
     "text": [
      "There are 66 clusters.\n",
      "calculating Silhouette score ... \n",
      "The Silhouette score is: 0.2975942984390026\n",
      "calculating DB index ... \n",
      "The Davies-Bouldin Index is: 1.236143012528767\n",
      "calculating CH index ... \n",
      "The Calinski-Harabasz Index is: 8360.535077430515\n",
      "calculating Dunn index ... \n",
      "The Dunn Index is: 0.015754618456958334\n",
      "calculating PBM index ... \n",
      "The PBM is: 0.0030120286138218006\n",
      "calculating Xie-Beni index ... \n",
      "The Xie-Beni is: 10.042425685931171\n"
     ]
    }
   ],
   "source": [
    "# evaluate the model\n",
    "model = pd.read_csv('../data/clustering_results/hdbscan_results_clean.csv')\n",
    "# drop id and date columns\n",
    "model = model.iloc[:, 2:]\n",
    "print(\"There are\", model['cluster'].nunique(), \"clusters.\")\n",
    "evaluation_metrics(model)"
   ]
  },
  {
   "cell_type": "code",
   "execution_count": null,
   "metadata": {},
   "outputs": [],
   "source": []
  }
 ],
 "metadata": {
  "kernelspec": {
   "display_name": ".venv",
   "language": "python",
   "name": "python3"
  },
  "language_info": {
   "codemirror_mode": {
    "name": "ipython",
    "version": 3
   },
   "file_extension": ".py",
   "mimetype": "text/x-python",
   "name": "python",
   "nbconvert_exporter": "python",
   "pygments_lexer": "ipython3",
   "version": "3.9.13"
  }
 },
 "nbformat": 4,
 "nbformat_minor": 2
}
