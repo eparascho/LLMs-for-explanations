{
 "cells": [
  {
   "cell_type": "markdown",
   "metadata": {},
   "source": [
    "This notebook searches for the best parameters for the non-parametric density-based DBSCAN clustering algorithm."
   ]
  },
  {
   "cell_type": "code",
   "execution_count": 5,
   "metadata": {},
   "outputs": [],
   "source": [
    "import sys\n",
    "import time\n",
    "import numpy as np\n",
    "import pandas as pd\n",
    "sys.path.append('../')\n",
    "from sklearn.cluster import DBSCAN\n",
    "from matplotlib import pyplot as plt\n",
    "from sklearn.neighbors import NearestNeighbors\n",
    "from functions.clustering import silhouette_scorer"
   ]
  },
  {
   "cell_type": "code",
   "execution_count": 16,
   "metadata": {},
   "outputs": [],
   "source": [
    "# read data\n",
    "data = pd.read_pickle('../data/clustering_input/clustering_df_daily_clean.pkl')"
   ]
  },
  {
   "cell_type": "code",
   "execution_count": 17,
   "metadata": {},
   "outputs": [],
   "source": [
    "# prepare data for clustering (store and then remove id)\n",
    "user_id = data['id']\n",
    "dates = data['date']\n",
    "data.drop(columns=['id', 'date'], inplace=True)"
   ]
  },
  {
   "cell_type": "code",
   "execution_count": 18,
   "metadata": {},
   "outputs": [
    {
     "name": "stdout",
     "output_type": "stream",
     "text": [
      "Performing search for min_samples ... \n",
      "for parameter: 20\n",
      "for parameter: 30\n",
      "for parameter: 40\n",
      "finished after 15.250878810882568\n",
      "Best parameter value: 30\n",
      "Best silhouette score: 0.22262291070949014\n"
     ]
    }
   ],
   "source": [
    "# min_samples parameter\n",
    "min_samples = [20, 30, 40]\n",
    "print(\"Performing search for min_samples ... \")\n",
    "start = time.time()\n",
    "results = []\n",
    "for min_sample in min_samples:\n",
    "    print(\"for parameter:\", min_sample)\n",
    "    model = DBSCAN(eps=0.5, min_samples=min_sample)  # default eps\n",
    "    score = silhouette_scorer(model, data)\n",
    "    results.append((min_sample, score))\n",
    "print(\"finished after\", time.time() - start)\n",
    "\n",
    "best_params, best_score = max(results, key=lambda x: x[1])\n",
    "print(\"Best parameter value:\", best_params)\n",
    "print(\"Best silhouette score:\", best_score)"
   ]
  },
  {
   "cell_type": "code",
   "execution_count": 19,
   "metadata": {},
   "outputs": [
    {
     "data": {
      "image/png": "[encoded data removed]",
      "text/plain": [
       "<Figure size 640x480 with 1 Axes>"
      ]
     },
     "metadata": {},
     "output_type": "display_data"
    }
   ],
   "source": [
    "# eps parameter\n",
    "\n",
    "# calculate the average distance between each point in the dataset and its min_samples nearest neighbors\n",
    "neighbors = NearestNeighbors(n_neighbors=30)\n",
    "neighbors_fit = neighbors.fit(data)\n",
    "distances, indices = neighbors_fit.kneighbors(data)\n",
    "# visualize the distances\n",
    "distances = np.sort(distances, axis=0)\n",
    "distances = distances[:, 1]\n",
    "plt.plot(distances)\n",
    "plt.show()"
   ]
  },
  {
   "cell_type": "code",
   "execution_count": 20,
   "metadata": {},
   "outputs": [
    {
     "name": "stdout",
     "output_type": "stream",
     "text": [
      "Performing search for eps ... \n",
      "for parameter: 0.15\n",
      "for parameter: 0.2\n",
      "for parameter: 0.25\n",
      "for parameter: 0.3\n",
      "finished after 15.536440134048462\n",
      "Best parameter value: 0.3\n",
      "Best silhouette score: 0.27024400181463043\n"
     ]
    }
   ],
   "source": [
    "# eps hyperparameter search\n",
    "eps = [0.15, 0.2, 0.25, 0.3]\n",
    "print(\"Performing search for eps ... \")\n",
    "start = time.time()\n",
    "results = []\n",
    "for ep in eps:\n",
    "    print(\"for parameter:\", ep)\n",
    "    model = DBSCAN(eps=ep, min_samples=30)\n",
    "    score = silhouette_scorer(model, data)\n",
    "    results.append((ep, score))\n",
    "print(\"finished after\", time.time() - start)\n",
    "\n",
    "best_params, best_score = max(results, key=lambda x: x[1])\n",
    "print(\"Best parameter value:\", best_params)\n",
    "print(\"Best silhouette score:\", best_score)"
   ]
  },
  {
   "cell_type": "code",
   "execution_count": null,
   "metadata": {},
   "outputs": [],
   "source": []
  }
 ],
 "metadata": {
  "kernelspec": {
   "display_name": ".venv",
   "language": "python",
   "name": "python3"
  },
  "language_info": {
   "codemirror_mode": {
    "name": "ipython",
    "version": 3
   },
   "file_extension": ".py",
   "mimetype": "text/x-python",
   "name": "python",
   "nbconvert_exporter": "python",
   "pygments_lexer": "ipython3",
   "version": "3.9.13"
  }
 },
 "nbformat": 4,
 "nbformat_minor": 2
}
