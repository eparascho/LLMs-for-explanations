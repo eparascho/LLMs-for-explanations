{
 "cells": [
  {
   "cell_type": "markdown",
   "metadata": {},
   "source": [
    "This notebook performs the non-parametric hierarchical density-based HDBSCAN clustering algorithm."
   ]
  },
  {
   "cell_type": "code",
   "execution_count": 16,
   "metadata": {},
   "outputs": [],
   "source": [
    "import sys\n",
    "import time\n",
    "sys.path.append('../')\n",
    "import pandas as pd\n",
    "from sklearn.cluster import HDBSCAN\n",
    "from functions.clustering import perform_clustering"
   ]
  },
  {
   "cell_type": "code",
   "execution_count": 17,
   "metadata": {},
   "outputs": [],
   "source": [
    "# read data\n",
    "data = pd.read_pickle('../data/clustering_input/clustering_df_daily_full.pkl')"
   ]
  },
  {
   "cell_type": "code",
   "execution_count": 18,
   "metadata": {},
   "outputs": [],
   "source": [
    "# prepare data for clustering (store and then remove id)\n",
    "user_id = data['id']\n",
    "dates = data['date']\n",
    "data.drop(columns=['id', 'date'], inplace=True)"
   ]
  },
  {
   "cell_type": "code",
   "execution_count": 19,
   "metadata": {},
   "outputs": [
    {
     "name": "stdout",
     "output_type": "stream",
     "text": [
      "Clustering with HDBSCAN ... \n"
     ]
    },
    {
     "name": "stdout",
     "output_type": "stream",
     "text": [
      "HDBSCAN finished after 6.991096019744873\n"
     ]
    }
   ],
   "source": [
    "# perform hdbscan clustering\n",
    "start = time.time()\n",
    "print(\"Clustering with HDBSCAN ... \")\n",
    "hdbscan = HDBSCAN(min_cluster_size=400, min_samples=7)\n",
    "metadata = pd.concat([user_id, dates], axis=1)\n",
    "results = perform_clustering(hdbscan, data, metadata, 'hdbscan')\n",
    "print(\"HDBSCAN finished after\", time.time() - start)\n",
    "results.to_csv('../data/clustering_results/hdbscan_results_daily_full.csv', index=False)"
   ]
  }
 ],
 "metadata": {
  "kernelspec": {
   "display_name": ".venv",
   "language": "python",
   "name": "python3"
  },
  "language_info": {
   "codemirror_mode": {
    "name": "ipython",
    "version": 3
   },
   "file_extension": ".py",
   "mimetype": "text/x-python",
   "name": "python",
   "nbconvert_exporter": "python",
   "pygments_lexer": "ipython3",
   "version": "3.9.13"
  }
 },
 "nbformat": 4,
 "nbformat_minor": 2
}
