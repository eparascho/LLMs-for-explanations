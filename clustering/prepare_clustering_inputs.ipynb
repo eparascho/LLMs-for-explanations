{
 "cells": [
  {
   "cell_type": "markdown",
   "source": [
    "##### This notebook creates some subsets of the full clustering dataframe to be used for re-running the clustering algorithms.\n",
    "In more detail, it creates the following subsets:\n",
    "1. \"Categories\" subset, which contains all the features related to physical activity, sleep and health and excludes all the features related yo behavior, date and other."
   ],
   "metadata": {
    "collapsed": false
   },
   "id": "313733c5227eed52"
  },
  {
   "cell_type": "code",
   "outputs": [],
   "source": [
    "import pandas as pd"
   ],
   "metadata": {
    "collapsed": false,
    "ExecuteTime": {
     "end_time": "2024-02-05T09:29:17.984079700Z",
     "start_time": "2024-02-05T09:29:17.075094200Z"
    }
   },
   "id": "7e5ffa891ef20813",
   "execution_count": 1
  },
  {
   "cell_type": "code",
   "outputs": [
    {
     "data": {
      "text/plain": "                              id                date  sleep_points  \\\n0       621e2e8e67b776a24055b564 2021-05-24 00:00:00      0.810469   \n1       621e2e8e67b776a24055b564 2021-05-24 01:00:00      0.810469   \n2       621e2e8e67b776a24055b564 2021-05-24 02:00:00      0.810469   \n3       621e2e8e67b776a24055b564 2021-05-24 03:00:00      0.810469   \n4       621e2e8e67b776a24055b564 2021-05-24 04:00:00      0.810469   \n...                          ...                 ...           ...   \n159921  621e375b67b776a240290cdc 2021-08-17 07:00:00      0.680095   \n159922  621e375b67b776a240290cdc 2021-08-17 08:00:00      0.680095   \n159923  621e375b67b776a240290cdc 2021-08-17 09:00:00      0.680095   \n159924  621e375b67b776a240290cdc 2021-08-17 10:00:00      0.680095   \n159925  621e375b67b776a240290cdc 2021-08-17 11:00:00      0.680095   \n\n        exertion_points  altitude  calories  lightly_active_minutes  \\\n0              0.622928       0.0  0.029382                0.254701   \n1              0.622928       0.0  0.002914                0.254701   \n2              0.622928       0.0  0.000729                0.254701   \n3              0.622928       0.0  0.012860                0.254701   \n4              0.622928       0.0  0.003315                0.254701   \n...                 ...       ...       ...                     ...   \n159921         0.720932       0.0  0.000383                0.000000   \n159922         0.720932       0.0  0.000383                0.000000   \n159923         0.720932       0.0  0.000383                0.000000   \n159924         0.720932       0.0  0.000383                0.000000   \n159925         0.720932       0.0  0.000383                0.000000   \n\n        moderately_active_minutes  sedentary_minutes     steps  ...  \\\n0                        0.083045           0.495139  0.017563  ...   \n1                        0.083045           0.495139  0.000000  ...   \n2                        0.083045           0.495139  0.046184  ...   \n3                        0.083045           0.495139  0.002661  ...   \n4                        0.083045           0.495139  0.000000  ...   \n...                           ...                ...       ...  ...   \n159921                   0.000000           0.490278  0.064983  ...   \n159922                   0.000000           0.490278  0.064983  ...   \n159923                   0.000000           0.490278  0.064983  ...   \n159924                   0.000000           0.490278  0.064983  ...   \n159925                   0.000000           0.490278  0.064983  ...   \n\n        WORK/SCHOOL  badges  exercises  exercise_duration  is_weekend  \\\n0               0.0     0.0   0.074074           0.001865         0.0   \n1               0.0     0.0   0.074074           0.001865         0.0   \n2               0.0     0.0   0.074074           0.001865         0.0   \n3               0.0     0.0   0.074074           0.001865         0.0   \n4               0.0     0.0   0.074074           0.001865         0.0   \n...             ...     ...        ...                ...         ...   \n159921          0.0     0.0   0.000000           0.000000         0.0   \n159922          0.0     0.0   0.000000           0.000000         0.0   \n159923          0.0     0.0   0.000000           0.000000         0.0   \n159924          0.0     0.0   0.000000           0.000000         0.0   \n159925          0.0     0.0   0.000000           0.000000         0.0   \n\n        is_holiday   day_sin  hour_sin   day_cos  hour_cos  \n0              0.0  0.005131  0.500000  0.574623  1.000000  \n1              0.0  0.005131  0.629410  0.574623  0.982963  \n2              0.0  0.005131  0.750000  0.574623  0.933013  \n3              0.0  0.005131  0.853553  0.574623  0.853553  \n4              0.0  0.005131  0.933013  0.574623  0.750000  \n...            ...       ...       ...       ...       ...  \n159921         0.0  0.350126  0.982963  0.020417  0.370590  \n159922         0.0  0.350126  0.933013  0.020417  0.250000  \n159923         0.0  0.350126  0.853553  0.020417  0.146447  \n159924         0.0  0.350126  0.750000  0.020417  0.066987  \n159925         0.0  0.350126  0.629410  0.020417  0.017037  \n\n[159783 rows x 38 columns]",
      "text/html": "<div>\n<style scoped>\n    .dataframe tbody tr th:only-of-type {\n        vertical-align: middle;\n    }\n\n    .dataframe tbody tr th {\n        vertical-align: top;\n    }\n\n    .dataframe thead th {\n        text-align: right;\n    }\n</style>\n<table border=\"1\" class=\"dataframe\">\n  <thead>\n    <tr style=\"text-align: right;\">\n      <th></th>\n      <th>id</th>\n      <th>date</th>\n      <th>sleep_points</th>\n      <th>exertion_points</th>\n      <th>altitude</th>\n      <th>calories</th>\n      <th>lightly_active_minutes</th>\n      <th>moderately_active_minutes</th>\n      <th>sedentary_minutes</th>\n      <th>steps</th>\n      <th>...</th>\n      <th>WORK/SCHOOL</th>\n      <th>badges</th>\n      <th>exercises</th>\n      <th>exercise_duration</th>\n      <th>is_weekend</th>\n      <th>is_holiday</th>\n      <th>day_sin</th>\n      <th>hour_sin</th>\n      <th>day_cos</th>\n      <th>hour_cos</th>\n    </tr>\n  </thead>\n  <tbody>\n    <tr>\n      <th>0</th>\n      <td>621e2e8e67b776a24055b564</td>\n      <td>2021-05-24 00:00:00</td>\n      <td>0.810469</td>\n      <td>0.622928</td>\n      <td>0.0</td>\n      <td>0.029382</td>\n      <td>0.254701</td>\n      <td>0.083045</td>\n      <td>0.495139</td>\n      <td>0.017563</td>\n      <td>...</td>\n      <td>0.0</td>\n      <td>0.0</td>\n      <td>0.074074</td>\n      <td>0.001865</td>\n      <td>0.0</td>\n      <td>0.0</td>\n      <td>0.005131</td>\n      <td>0.500000</td>\n      <td>0.574623</td>\n      <td>1.000000</td>\n    </tr>\n    <tr>\n      <th>1</th>\n      <td>621e2e8e67b776a24055b564</td>\n      <td>2021-05-24 01:00:00</td>\n      <td>0.810469</td>\n      <td>0.622928</td>\n      <td>0.0</td>\n      <td>0.002914</td>\n      <td>0.254701</td>\n      <td>0.083045</td>\n      <td>0.495139</td>\n      <td>0.000000</td>\n      <td>...</td>\n      <td>0.0</td>\n      <td>0.0</td>\n      <td>0.074074</td>\n      <td>0.001865</td>\n      <td>0.0</td>\n      <td>0.0</td>\n      <td>0.005131</td>\n      <td>0.629410</td>\n      <td>0.574623</td>\n      <td>0.982963</td>\n    </tr>\n    <tr>\n      <th>2</th>\n      <td>621e2e8e67b776a24055b564</td>\n      <td>2021-05-24 02:00:00</td>\n      <td>0.810469</td>\n      <td>0.622928</td>\n      <td>0.0</td>\n      <td>0.000729</td>\n      <td>0.254701</td>\n      <td>0.083045</td>\n      <td>0.495139</td>\n      <td>0.046184</td>\n      <td>...</td>\n      <td>0.0</td>\n      <td>0.0</td>\n      <td>0.074074</td>\n      <td>0.001865</td>\n      <td>0.0</td>\n      <td>0.0</td>\n      <td>0.005131</td>\n      <td>0.750000</td>\n      <td>0.574623</td>\n      <td>0.933013</td>\n    </tr>\n    <tr>\n      <th>3</th>\n      <td>621e2e8e67b776a24055b564</td>\n      <td>2021-05-24 03:00:00</td>\n      <td>0.810469</td>\n      <td>0.622928</td>\n      <td>0.0</td>\n      <td>0.012860</td>\n      <td>0.254701</td>\n      <td>0.083045</td>\n      <td>0.495139</td>\n      <td>0.002661</td>\n      <td>...</td>\n      <td>0.0</td>\n      <td>0.0</td>\n      <td>0.074074</td>\n      <td>0.001865</td>\n      <td>0.0</td>\n      <td>0.0</td>\n      <td>0.005131</td>\n      <td>0.853553</td>\n      <td>0.574623</td>\n      <td>0.853553</td>\n    </tr>\n    <tr>\n      <th>4</th>\n      <td>621e2e8e67b776a24055b564</td>\n      <td>2021-05-24 04:00:00</td>\n      <td>0.810469</td>\n      <td>0.622928</td>\n      <td>0.0</td>\n      <td>0.003315</td>\n      <td>0.254701</td>\n      <td>0.083045</td>\n      <td>0.495139</td>\n      <td>0.000000</td>\n      <td>...</td>\n      <td>0.0</td>\n      <td>0.0</td>\n      <td>0.074074</td>\n      <td>0.001865</td>\n      <td>0.0</td>\n      <td>0.0</td>\n      <td>0.005131</td>\n      <td>0.933013</td>\n      <td>0.574623</td>\n      <td>0.750000</td>\n    </tr>\n    <tr>\n      <th>...</th>\n      <td>...</td>\n      <td>...</td>\n      <td>...</td>\n      <td>...</td>\n      <td>...</td>\n      <td>...</td>\n      <td>...</td>\n      <td>...</td>\n      <td>...</td>\n      <td>...</td>\n      <td>...</td>\n      <td>...</td>\n      <td>...</td>\n      <td>...</td>\n      <td>...</td>\n      <td>...</td>\n      <td>...</td>\n      <td>...</td>\n      <td>...</td>\n      <td>...</td>\n      <td>...</td>\n    </tr>\n    <tr>\n      <th>159921</th>\n      <td>621e375b67b776a240290cdc</td>\n      <td>2021-08-17 07:00:00</td>\n      <td>0.680095</td>\n      <td>0.720932</td>\n      <td>0.0</td>\n      <td>0.000383</td>\n      <td>0.000000</td>\n      <td>0.000000</td>\n      <td>0.490278</td>\n      <td>0.064983</td>\n      <td>...</td>\n      <td>0.0</td>\n      <td>0.0</td>\n      <td>0.000000</td>\n      <td>0.000000</td>\n      <td>0.0</td>\n      <td>0.0</td>\n      <td>0.350126</td>\n      <td>0.982963</td>\n      <td>0.020417</td>\n      <td>0.370590</td>\n    </tr>\n    <tr>\n      <th>159922</th>\n      <td>621e375b67b776a240290cdc</td>\n      <td>2021-08-17 08:00:00</td>\n      <td>0.680095</td>\n      <td>0.720932</td>\n      <td>0.0</td>\n      <td>0.000383</td>\n      <td>0.000000</td>\n      <td>0.000000</td>\n      <td>0.490278</td>\n      <td>0.064983</td>\n      <td>...</td>\n      <td>0.0</td>\n      <td>0.0</td>\n      <td>0.000000</td>\n      <td>0.000000</td>\n      <td>0.0</td>\n      <td>0.0</td>\n      <td>0.350126</td>\n      <td>0.933013</td>\n      <td>0.020417</td>\n      <td>0.250000</td>\n    </tr>\n    <tr>\n      <th>159923</th>\n      <td>621e375b67b776a240290cdc</td>\n      <td>2021-08-17 09:00:00</td>\n      <td>0.680095</td>\n      <td>0.720932</td>\n      <td>0.0</td>\n      <td>0.000383</td>\n      <td>0.000000</td>\n      <td>0.000000</td>\n      <td>0.490278</td>\n      <td>0.064983</td>\n      <td>...</td>\n      <td>0.0</td>\n      <td>0.0</td>\n      <td>0.000000</td>\n      <td>0.000000</td>\n      <td>0.0</td>\n      <td>0.0</td>\n      <td>0.350126</td>\n      <td>0.853553</td>\n      <td>0.020417</td>\n      <td>0.146447</td>\n    </tr>\n    <tr>\n      <th>159924</th>\n      <td>621e375b67b776a240290cdc</td>\n      <td>2021-08-17 10:00:00</td>\n      <td>0.680095</td>\n      <td>0.720932</td>\n      <td>0.0</td>\n      <td>0.000383</td>\n      <td>0.000000</td>\n      <td>0.000000</td>\n      <td>0.490278</td>\n      <td>0.064983</td>\n      <td>...</td>\n      <td>0.0</td>\n      <td>0.0</td>\n      <td>0.000000</td>\n      <td>0.000000</td>\n      <td>0.0</td>\n      <td>0.0</td>\n      <td>0.350126</td>\n      <td>0.750000</td>\n      <td>0.020417</td>\n      <td>0.066987</td>\n    </tr>\n    <tr>\n      <th>159925</th>\n      <td>621e375b67b776a240290cdc</td>\n      <td>2021-08-17 11:00:00</td>\n      <td>0.680095</td>\n      <td>0.720932</td>\n      <td>0.0</td>\n      <td>0.000383</td>\n      <td>0.000000</td>\n      <td>0.000000</td>\n      <td>0.490278</td>\n      <td>0.064983</td>\n      <td>...</td>\n      <td>0.0</td>\n      <td>0.0</td>\n      <td>0.000000</td>\n      <td>0.000000</td>\n      <td>0.0</td>\n      <td>0.0</td>\n      <td>0.350126</td>\n      <td>0.629410</td>\n      <td>0.020417</td>\n      <td>0.017037</td>\n    </tr>\n  </tbody>\n</table>\n<p>159783 rows × 38 columns</p>\n</div>"
     },
     "execution_count": 2,
     "metadata": {},
     "output_type": "execute_result"
    }
   ],
   "source": [
    "full_data = pd.read_pickle('../data/clustering_input/clustering_df_full.pkl')\n",
    "full_data"
   ],
   "metadata": {
    "collapsed": false,
    "ExecuteTime": {
     "end_time": "2024-02-05T09:30:12.104897Z",
     "start_time": "2024-02-05T09:30:11.891877800Z"
    }
   },
   "id": "c12df407dd00d7f",
   "execution_count": 2
  },
  {
   "cell_type": "code",
   "outputs": [
    {
     "data": {
      "text/plain": "                              id                date  exertion_points  \\\n0       621e2e8e67b776a24055b564 2021-05-24 00:00:00         0.622928   \n1       621e2e8e67b776a24055b564 2021-05-24 01:00:00         0.622928   \n2       621e2e8e67b776a24055b564 2021-05-24 02:00:00         0.622928   \n3       621e2e8e67b776a24055b564 2021-05-24 03:00:00         0.622928   \n4       621e2e8e67b776a24055b564 2021-05-24 04:00:00         0.622928   \n...                          ...                 ...              ...   \n159921  621e375b67b776a240290cdc 2021-08-17 07:00:00         0.720932   \n159922  621e375b67b776a240290cdc 2021-08-17 08:00:00         0.720932   \n159923  621e375b67b776a240290cdc 2021-08-17 09:00:00         0.720932   \n159924  621e375b67b776a240290cdc 2021-08-17 10:00:00         0.720932   \n159925  621e375b67b776a240290cdc 2021-08-17 11:00:00         0.720932   \n\n        step_goal  minutes_below_zone_1  minutes_in_zone_1     steps  \\\n0             0.0              0.936806           0.081134  0.017563   \n1             0.0              0.936806           0.081134  0.000000   \n2             0.0              0.936806           0.081134  0.046184   \n3             0.0              0.936806           0.081134  0.002661   \n4             0.0              0.936806           0.081134  0.000000   \n...           ...                   ...                ...       ...   \n159921        0.0              0.736277           0.269189  0.064983   \n159922        0.0              0.736277           0.269189  0.064983   \n159923        0.0              0.736277           0.269189  0.064983   \n159924        0.0              0.736277           0.269189  0.064983   \n159925        0.0              0.736277           0.269189  0.064983   \n\n        very_active_minutes  minutes_in_zone_2  minutes_in_zone_3  altitude  \\\n0                  0.080685           0.000000           0.000000       0.0   \n1                  0.080685           0.000000           0.000000       0.0   \n2                  0.080685           0.000000           0.000000       0.0   \n3                  0.080685           0.000000           0.000000       0.0   \n4                  0.080685           0.000000           0.000000       0.0   \n...                     ...                ...                ...       ...   \n159921             0.000000           0.024974           0.000114       0.0   \n159922             0.000000           0.024974           0.000114       0.0   \n159923             0.000000           0.024974           0.000114       0.0   \n159924             0.000000           0.024974           0.000114       0.0   \n159925             0.000000           0.024974           0.000114       0.0   \n\n        lightly_active_minutes  moderately_active_minutes  sedentary_minutes  \\\n0                     0.254701                   0.083045           0.495139   \n1                     0.254701                   0.083045           0.495139   \n2                     0.254701                   0.083045           0.495139   \n3                     0.254701                   0.083045           0.495139   \n4                     0.254701                   0.083045           0.495139   \n...                        ...                        ...                ...   \n159921                0.000000                   0.000000           0.490278   \n159922                0.000000                   0.000000           0.490278   \n159923                0.000000                   0.000000           0.490278   \n159924                0.000000                   0.000000           0.490278   \n159925                0.000000                   0.000000           0.490278   \n\n        exercises  exercise_duration  sleep_points  sleep_duration  calories  \n0        0.074074           0.001865      0.810469             0.0  0.029382  \n1        0.074074           0.001865      0.810469             0.0  0.002914  \n2        0.074074           0.001865      0.810469             0.0  0.000729  \n3        0.074074           0.001865      0.810469             0.0  0.012860  \n4        0.074074           0.001865      0.810469             0.0  0.003315  \n...           ...                ...           ...             ...       ...  \n159921   0.000000           0.000000      0.680095             0.0  0.000383  \n159922   0.000000           0.000000      0.680095             0.0  0.000383  \n159923   0.000000           0.000000      0.680095             0.0  0.000383  \n159924   0.000000           0.000000      0.680095             0.0  0.000383  \n159925   0.000000           0.000000      0.680095             0.0  0.000383  \n\n[159783 rows x 19 columns]",
      "text/html": "<div>\n<style scoped>\n    .dataframe tbody tr th:only-of-type {\n        vertical-align: middle;\n    }\n\n    .dataframe tbody tr th {\n        vertical-align: top;\n    }\n\n    .dataframe thead th {\n        text-align: right;\n    }\n</style>\n<table border=\"1\" class=\"dataframe\">\n  <thead>\n    <tr style=\"text-align: right;\">\n      <th></th>\n      <th>id</th>\n      <th>date</th>\n      <th>exertion_points</th>\n      <th>step_goal</th>\n      <th>minutes_below_zone_1</th>\n      <th>minutes_in_zone_1</th>\n      <th>steps</th>\n      <th>very_active_minutes</th>\n      <th>minutes_in_zone_2</th>\n      <th>minutes_in_zone_3</th>\n      <th>altitude</th>\n      <th>lightly_active_minutes</th>\n      <th>moderately_active_minutes</th>\n      <th>sedentary_minutes</th>\n      <th>exercises</th>\n      <th>exercise_duration</th>\n      <th>sleep_points</th>\n      <th>sleep_duration</th>\n      <th>calories</th>\n    </tr>\n  </thead>\n  <tbody>\n    <tr>\n      <th>0</th>\n      <td>621e2e8e67b776a24055b564</td>\n      <td>2021-05-24 00:00:00</td>\n      <td>0.622928</td>\n      <td>0.0</td>\n      <td>0.936806</td>\n      <td>0.081134</td>\n      <td>0.017563</td>\n      <td>0.080685</td>\n      <td>0.000000</td>\n      <td>0.000000</td>\n      <td>0.0</td>\n      <td>0.254701</td>\n      <td>0.083045</td>\n      <td>0.495139</td>\n      <td>0.074074</td>\n      <td>0.001865</td>\n      <td>0.810469</td>\n      <td>0.0</td>\n      <td>0.029382</td>\n    </tr>\n    <tr>\n      <th>1</th>\n      <td>621e2e8e67b776a24055b564</td>\n      <td>2021-05-24 01:00:00</td>\n      <td>0.622928</td>\n      <td>0.0</td>\n      <td>0.936806</td>\n      <td>0.081134</td>\n      <td>0.000000</td>\n      <td>0.080685</td>\n      <td>0.000000</td>\n      <td>0.000000</td>\n      <td>0.0</td>\n      <td>0.254701</td>\n      <td>0.083045</td>\n      <td>0.495139</td>\n      <td>0.074074</td>\n      <td>0.001865</td>\n      <td>0.810469</td>\n      <td>0.0</td>\n      <td>0.002914</td>\n    </tr>\n    <tr>\n      <th>2</th>\n      <td>621e2e8e67b776a24055b564</td>\n      <td>2021-05-24 02:00:00</td>\n      <td>0.622928</td>\n      <td>0.0</td>\n      <td>0.936806</td>\n      <td>0.081134</td>\n      <td>0.046184</td>\n      <td>0.080685</td>\n      <td>0.000000</td>\n      <td>0.000000</td>\n      <td>0.0</td>\n      <td>0.254701</td>\n      <td>0.083045</td>\n      <td>0.495139</td>\n      <td>0.074074</td>\n      <td>0.001865</td>\n      <td>0.810469</td>\n      <td>0.0</td>\n      <td>0.000729</td>\n    </tr>\n    <tr>\n      <th>3</th>\n      <td>621e2e8e67b776a24055b564</td>\n      <td>2021-05-24 03:00:00</td>\n      <td>0.622928</td>\n      <td>0.0</td>\n      <td>0.936806</td>\n      <td>0.081134</td>\n      <td>0.002661</td>\n      <td>0.080685</td>\n      <td>0.000000</td>\n      <td>0.000000</td>\n      <td>0.0</td>\n      <td>0.254701</td>\n      <td>0.083045</td>\n      <td>0.495139</td>\n      <td>0.074074</td>\n      <td>0.001865</td>\n      <td>0.810469</td>\n      <td>0.0</td>\n      <td>0.012860</td>\n    </tr>\n    <tr>\n      <th>4</th>\n      <td>621e2e8e67b776a24055b564</td>\n      <td>2021-05-24 04:00:00</td>\n      <td>0.622928</td>\n      <td>0.0</td>\n      <td>0.936806</td>\n      <td>0.081134</td>\n      <td>0.000000</td>\n      <td>0.080685</td>\n      <td>0.000000</td>\n      <td>0.000000</td>\n      <td>0.0</td>\n      <td>0.254701</td>\n      <td>0.083045</td>\n      <td>0.495139</td>\n      <td>0.074074</td>\n      <td>0.001865</td>\n      <td>0.810469</td>\n      <td>0.0</td>\n      <td>0.003315</td>\n    </tr>\n    <tr>\n      <th>...</th>\n      <td>...</td>\n      <td>...</td>\n      <td>...</td>\n      <td>...</td>\n      <td>...</td>\n      <td>...</td>\n      <td>...</td>\n      <td>...</td>\n      <td>...</td>\n      <td>...</td>\n      <td>...</td>\n      <td>...</td>\n      <td>...</td>\n      <td>...</td>\n      <td>...</td>\n      <td>...</td>\n      <td>...</td>\n      <td>...</td>\n      <td>...</td>\n    </tr>\n    <tr>\n      <th>159921</th>\n      <td>621e375b67b776a240290cdc</td>\n      <td>2021-08-17 07:00:00</td>\n      <td>0.720932</td>\n      <td>0.0</td>\n      <td>0.736277</td>\n      <td>0.269189</td>\n      <td>0.064983</td>\n      <td>0.000000</td>\n      <td>0.024974</td>\n      <td>0.000114</td>\n      <td>0.0</td>\n      <td>0.000000</td>\n      <td>0.000000</td>\n      <td>0.490278</td>\n      <td>0.000000</td>\n      <td>0.000000</td>\n      <td>0.680095</td>\n      <td>0.0</td>\n      <td>0.000383</td>\n    </tr>\n    <tr>\n      <th>159922</th>\n      <td>621e375b67b776a240290cdc</td>\n      <td>2021-08-17 08:00:00</td>\n      <td>0.720932</td>\n      <td>0.0</td>\n      <td>0.736277</td>\n      <td>0.269189</td>\n      <td>0.064983</td>\n      <td>0.000000</td>\n      <td>0.024974</td>\n      <td>0.000114</td>\n      <td>0.0</td>\n      <td>0.000000</td>\n      <td>0.000000</td>\n      <td>0.490278</td>\n      <td>0.000000</td>\n      <td>0.000000</td>\n      <td>0.680095</td>\n      <td>0.0</td>\n      <td>0.000383</td>\n    </tr>\n    <tr>\n      <th>159923</th>\n      <td>621e375b67b776a240290cdc</td>\n      <td>2021-08-17 09:00:00</td>\n      <td>0.720932</td>\n      <td>0.0</td>\n      <td>0.736277</td>\n      <td>0.269189</td>\n      <td>0.064983</td>\n      <td>0.000000</td>\n      <td>0.024974</td>\n      <td>0.000114</td>\n      <td>0.0</td>\n      <td>0.000000</td>\n      <td>0.000000</td>\n      <td>0.490278</td>\n      <td>0.000000</td>\n      <td>0.000000</td>\n      <td>0.680095</td>\n      <td>0.0</td>\n      <td>0.000383</td>\n    </tr>\n    <tr>\n      <th>159924</th>\n      <td>621e375b67b776a240290cdc</td>\n      <td>2021-08-17 10:00:00</td>\n      <td>0.720932</td>\n      <td>0.0</td>\n      <td>0.736277</td>\n      <td>0.269189</td>\n      <td>0.064983</td>\n      <td>0.000000</td>\n      <td>0.024974</td>\n      <td>0.000114</td>\n      <td>0.0</td>\n      <td>0.000000</td>\n      <td>0.000000</td>\n      <td>0.490278</td>\n      <td>0.000000</td>\n      <td>0.000000</td>\n      <td>0.680095</td>\n      <td>0.0</td>\n      <td>0.000383</td>\n    </tr>\n    <tr>\n      <th>159925</th>\n      <td>621e375b67b776a240290cdc</td>\n      <td>2021-08-17 11:00:00</td>\n      <td>0.720932</td>\n      <td>0.0</td>\n      <td>0.736277</td>\n      <td>0.269189</td>\n      <td>0.064983</td>\n      <td>0.000000</td>\n      <td>0.024974</td>\n      <td>0.000114</td>\n      <td>0.0</td>\n      <td>0.000000</td>\n      <td>0.000000</td>\n      <td>0.490278</td>\n      <td>0.000000</td>\n      <td>0.000000</td>\n      <td>0.680095</td>\n      <td>0.0</td>\n      <td>0.000383</td>\n    </tr>\n  </tbody>\n</table>\n<p>159783 rows × 19 columns</p>\n</div>"
     },
     "execution_count": 3,
     "metadata": {},
     "output_type": "execute_result"
    }
   ],
   "source": [
    "categories_data = full_data[['id', 'date', 'exertion_points','step_goal', 'minutes_below_zone_1', 'minutes_in_zone_1', 'steps', 'very_active_minutes', 'minutes_in_zone_2', 'minutes_in_zone_3', 'altitude', 'lightly_active_minutes', 'moderately_active_minutes', 'sedentary_minutes', 'exercises', 'exercise_duration', 'sleep_points', 'sleep_duration', 'calories']]\n",
    "categories_data"
   ],
   "metadata": {
    "collapsed": false,
    "ExecuteTime": {
     "end_time": "2024-02-05T09:37:36.931347600Z",
     "start_time": "2024-02-05T09:37:36.847968400Z"
    }
   },
   "id": "e27050472f546760",
   "execution_count": 3
  },
  {
   "cell_type": "code",
   "outputs": [],
   "source": [
    "categories_data.to_pickle('../data/clustering_input/clustering_df_categories.pkl')"
   ],
   "metadata": {
    "collapsed": false,
    "ExecuteTime": {
     "end_time": "2024-02-05T09:38:02.470327700Z",
     "start_time": "2024-02-05T09:38:02.420078Z"
    }
   },
   "id": "832e0a5d3d0c8814",
   "execution_count": 4
  },
  {
   "cell_type": "code",
   "outputs": [],
   "source": [],
   "metadata": {
    "collapsed": false
   },
   "id": "356ab00faa236c25"
  }
 ],
 "metadata": {
  "kernelspec": {
   "display_name": "Python 3",
   "language": "python",
   "name": "python3"
  },
  "language_info": {
   "codemirror_mode": {
    "name": "ipython",
    "version": 2
   },
   "file_extension": ".py",
   "mimetype": "text/x-python",
   "name": "python",
   "nbconvert_exporter": "python",
   "pygments_lexer": "ipython2",
   "version": "2.7.6"
  }
 },
 "nbformat": 4,
 "nbformat_minor": 5
}
