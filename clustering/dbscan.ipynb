{
 "cells": [
  {
   "cell_type": "markdown",
   "metadata": {},
   "source": [
    "This notebook performs the non-parametric density-based DBSCAN clustering algorithm."
   ]
  },
  {
   "cell_type": "code",
   "execution_count": 13,
   "metadata": {},
   "outputs": [],
   "source": [
    "import sys\n",
    "import time\n",
    "sys.path.append('../')\n",
    "import pandas as pd\n",
    "from sklearn.cluster import DBSCAN\n",
    "from functions.clustering import perform_clustering"
   ]
  },
  {
   "cell_type": "code",
   "execution_count": 14,
   "metadata": {},
   "outputs": [],
   "source": [
    "# read data\n",
    "data = pd.read_pickle('../data/clustering_input/clustering_df_daily_clean.pkl')"
   ]
  },
  {
   "cell_type": "code",
   "execution_count": 15,
   "metadata": {},
   "outputs": [],
   "source": [
    "# prepare data for clustering (store and then remove id)\n",
    "user_id = data['id']\n",
    "dates = data['date']\n",
    "data.drop(columns=['id', 'date'], inplace=True)"
   ]
  },
  {
   "cell_type": "code",
   "execution_count": 16,
   "metadata": {},
   "outputs": [
    {
     "name": "stdout",
     "output_type": "stream",
     "text": [
      "Clustering with DBSCAN ... \n"
     ]
    },
    {
     "name": "stdout",
     "output_type": "stream",
     "text": [
      "DBSCAN finished after 3.344358205795288\n"
     ]
    }
   ],
   "source": [
    "# perform dbscan clustering\n",
    "start = time.time()\n",
    "print(\"Clustering with DBSCAN ... \")\n",
    "dbscan = DBSCAN(min_samples=30, eps=0.25)\n",
    "metadata = pd.concat([user_id, dates], axis=1)\n",
    "results = perform_clustering(dbscan, data, metadata, 'dbscan')\n",
    "print(\"DBSCAN finished after\", time.time() - start)\n",
    "results.to_csv('../data/clustering_results/dbscan_results_daily_clean.csv', index=False)"
   ]
  },
  {
   "cell_type": "code",
   "execution_count": null,
   "metadata": {},
   "outputs": [],
   "source": []
  }
 ],
 "metadata": {
  "kernelspec": {
   "display_name": ".venv",
   "language": "python",
   "name": "python3"
  },
  "language_info": {
   "codemirror_mode": {
    "name": "ipython",
    "version": 3
   },
   "file_extension": ".py",
   "mimetype": "text/x-python",
   "name": "python",
   "nbconvert_exporter": "python",
   "pygments_lexer": "ipython3",
   "version": "3.9.13"
  }
 },
 "nbformat": 4,
 "nbformat_minor": 2
}
