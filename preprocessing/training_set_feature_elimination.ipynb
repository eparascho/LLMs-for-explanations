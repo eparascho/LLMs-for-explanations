{
 "cells": [
  {
   "cell_type": "markdown",
   "source": [
    "##### This notebook implements feature elimination to the preprocessed dataframe.\n",
    "\n",
    "In more detail it implements the feature elimination by following the **correlation analysis** technique"
   ],
   "metadata": {
    "collapsed": false,
    "pycharm": {
     "name": "#%% md\n"
    }
   }
  },
  {
   "cell_type": "code",
   "execution_count": 1,
   "outputs": [],
   "source": [
    "import numpy as np\n",
    "import pandas as pd\n",
    "from statsmodels.stats.outliers_influence import variance_inflation_factor"
   ],
   "metadata": {
    "collapsed": false,
    "pycharm": {
     "name": "#%%\n"
    },
    "ExecuteTime": {
     "end_time": "2024-01-31T11:45:48.617241Z",
     "start_time": "2024-01-31T11:45:47.531317Z"
    }
   }
  },
  {
   "cell_type": "markdown",
   "source": [
    "Load the preprocessed dataframe"
   ],
   "metadata": {
    "collapsed": false,
    "pycharm": {
     "name": "#%% md\n"
    }
   }
  },
  {
   "cell_type": "code",
   "execution_count": 2,
   "outputs": [
    {
     "data": {
      "text/plain": "                              id                date  sleep_points  \\\n0       621e2e8e67b776a24055b564 2021-05-24 00:00:00      0.810469   \n1       621e2e8e67b776a24055b564 2021-05-24 01:00:00      0.810469   \n2       621e2e8e67b776a24055b564 2021-05-24 02:00:00      0.810469   \n3       621e2e8e67b776a24055b564 2021-05-24 03:00:00      0.810469   \n4       621e2e8e67b776a24055b564 2021-05-24 04:00:00      0.810469   \n...                          ...                 ...           ...   \n159921  621e375b67b776a240290cdc 2021-08-17 07:00:00      0.680095   \n159922  621e375b67b776a240290cdc 2021-08-17 08:00:00      0.680095   \n159923  621e375b67b776a240290cdc 2021-08-17 09:00:00      0.680095   \n159924  621e375b67b776a240290cdc 2021-08-17 10:00:00      0.680095   \n159925  621e375b67b776a240290cdc 2021-08-17 11:00:00      0.680095   \n\n        exertion_points  altitude  calories  distance  lightly_active_minutes  \\\n0              0.622928       0.0  0.029382  0.008276                0.254701   \n1              0.622928       0.0  0.002914  0.000000                0.254701   \n2              0.622928       0.0  0.000729  0.021869                0.254701   \n3              0.622928       0.0  0.012860  0.001254                0.254701   \n4              0.622928       0.0  0.003315  0.000000                0.254701   \n...                 ...       ...       ...       ...                     ...   \n159921         0.720932       0.0  0.000383  0.027588                0.000000   \n159922         0.720932       0.0  0.000383  0.027588                0.000000   \n159923         0.720932       0.0  0.000383  0.027588                0.000000   \n159924         0.720932       0.0  0.000383  0.027588                0.000000   \n159925         0.720932       0.0  0.000383  0.027588                0.000000   \n\n        moderately_active_minutes  sedentary_minutes  ...  WORK/SCHOOL  \\\n0                        0.083045           0.495139  ...          0.0   \n1                        0.083045           0.495139  ...          0.0   \n2                        0.083045           0.495139  ...          0.0   \n3                        0.083045           0.495139  ...          0.0   \n4                        0.083045           0.495139  ...          0.0   \n...                           ...                ...  ...          ...   \n159921                   0.000000           0.490278  ...          0.0   \n159922                   0.000000           0.490278  ...          0.0   \n159923                   0.000000           0.490278  ...          0.0   \n159924                   0.000000           0.490278  ...          0.0   \n159925                   0.000000           0.490278  ...          0.0   \n\n        badges  exercises  exercise_duration  is_weekend  is_holiday  \\\n0          0.0   0.074074           0.001865         0.0         0.0   \n1          0.0   0.074074           0.001865         0.0         0.0   \n2          0.0   0.074074           0.001865         0.0         0.0   \n3          0.0   0.074074           0.001865         0.0         0.0   \n4          0.0   0.074074           0.001865         0.0         0.0   \n...        ...        ...                ...         ...         ...   \n159921     0.0   0.000000           0.000000         0.0         0.0   \n159922     0.0   0.000000           0.000000         0.0         0.0   \n159923     0.0   0.000000           0.000000         0.0         0.0   \n159924     0.0   0.000000           0.000000         0.0         0.0   \n159925     0.0   0.000000           0.000000         0.0         0.0   \n\n         day_sin  hour_sin   day_cos  hour_cos  \n0       0.005131  0.500000  0.574623  1.000000  \n1       0.005131  0.629410  0.574623  0.982963  \n2       0.005131  0.750000  0.574623  0.933013  \n3       0.005131  0.853553  0.574623  0.853553  \n4       0.005131  0.933013  0.574623  0.750000  \n...          ...       ...       ...       ...  \n159921  0.350126  0.982963  0.020417  0.370590  \n159922  0.350126  0.933013  0.020417  0.250000  \n159923  0.350126  0.853553  0.020417  0.146447  \n159924  0.350126  0.750000  0.020417  0.066987  \n159925  0.350126  0.629410  0.020417  0.017037  \n\n[159783 rows x 39 columns]",
      "text/html": "<div>\n<style scoped>\n    .dataframe tbody tr th:only-of-type {\n        vertical-align: middle;\n    }\n\n    .dataframe tbody tr th {\n        vertical-align: top;\n    }\n\n    .dataframe thead th {\n        text-align: right;\n    }\n</style>\n<table border=\"1\" class=\"dataframe\">\n  <thead>\n    <tr style=\"text-align: right;\">\n      <th></th>\n      <th>id</th>\n      <th>date</th>\n      <th>sleep_points</th>\n      <th>exertion_points</th>\n      <th>altitude</th>\n      <th>calories</th>\n      <th>distance</th>\n      <th>lightly_active_minutes</th>\n      <th>moderately_active_minutes</th>\n      <th>sedentary_minutes</th>\n      <th>...</th>\n      <th>WORK/SCHOOL</th>\n      <th>badges</th>\n      <th>exercises</th>\n      <th>exercise_duration</th>\n      <th>is_weekend</th>\n      <th>is_holiday</th>\n      <th>day_sin</th>\n      <th>hour_sin</th>\n      <th>day_cos</th>\n      <th>hour_cos</th>\n    </tr>\n  </thead>\n  <tbody>\n    <tr>\n      <th>0</th>\n      <td>621e2e8e67b776a24055b564</td>\n      <td>2021-05-24 00:00:00</td>\n      <td>0.810469</td>\n      <td>0.622928</td>\n      <td>0.0</td>\n      <td>0.029382</td>\n      <td>0.008276</td>\n      <td>0.254701</td>\n      <td>0.083045</td>\n      <td>0.495139</td>\n      <td>...</td>\n      <td>0.0</td>\n      <td>0.0</td>\n      <td>0.074074</td>\n      <td>0.001865</td>\n      <td>0.0</td>\n      <td>0.0</td>\n      <td>0.005131</td>\n      <td>0.500000</td>\n      <td>0.574623</td>\n      <td>1.000000</td>\n    </tr>\n    <tr>\n      <th>1</th>\n      <td>621e2e8e67b776a24055b564</td>\n      <td>2021-05-24 01:00:00</td>\n      <td>0.810469</td>\n      <td>0.622928</td>\n      <td>0.0</td>\n      <td>0.002914</td>\n      <td>0.000000</td>\n      <td>0.254701</td>\n      <td>0.083045</td>\n      <td>0.495139</td>\n      <td>...</td>\n      <td>0.0</td>\n      <td>0.0</td>\n      <td>0.074074</td>\n      <td>0.001865</td>\n      <td>0.0</td>\n      <td>0.0</td>\n      <td>0.005131</td>\n      <td>0.629410</td>\n      <td>0.574623</td>\n      <td>0.982963</td>\n    </tr>\n    <tr>\n      <th>2</th>\n      <td>621e2e8e67b776a24055b564</td>\n      <td>2021-05-24 02:00:00</td>\n      <td>0.810469</td>\n      <td>0.622928</td>\n      <td>0.0</td>\n      <td>0.000729</td>\n      <td>0.021869</td>\n      <td>0.254701</td>\n      <td>0.083045</td>\n      <td>0.495139</td>\n      <td>...</td>\n      <td>0.0</td>\n      <td>0.0</td>\n      <td>0.074074</td>\n      <td>0.001865</td>\n      <td>0.0</td>\n      <td>0.0</td>\n      <td>0.005131</td>\n      <td>0.750000</td>\n      <td>0.574623</td>\n      <td>0.933013</td>\n    </tr>\n    <tr>\n      <th>3</th>\n      <td>621e2e8e67b776a24055b564</td>\n      <td>2021-05-24 03:00:00</td>\n      <td>0.810469</td>\n      <td>0.622928</td>\n      <td>0.0</td>\n      <td>0.012860</td>\n      <td>0.001254</td>\n      <td>0.254701</td>\n      <td>0.083045</td>\n      <td>0.495139</td>\n      <td>...</td>\n      <td>0.0</td>\n      <td>0.0</td>\n      <td>0.074074</td>\n      <td>0.001865</td>\n      <td>0.0</td>\n      <td>0.0</td>\n      <td>0.005131</td>\n      <td>0.853553</td>\n      <td>0.574623</td>\n      <td>0.853553</td>\n    </tr>\n    <tr>\n      <th>4</th>\n      <td>621e2e8e67b776a24055b564</td>\n      <td>2021-05-24 04:00:00</td>\n      <td>0.810469</td>\n      <td>0.622928</td>\n      <td>0.0</td>\n      <td>0.003315</td>\n      <td>0.000000</td>\n      <td>0.254701</td>\n      <td>0.083045</td>\n      <td>0.495139</td>\n      <td>...</td>\n      <td>0.0</td>\n      <td>0.0</td>\n      <td>0.074074</td>\n      <td>0.001865</td>\n      <td>0.0</td>\n      <td>0.0</td>\n      <td>0.005131</td>\n      <td>0.933013</td>\n      <td>0.574623</td>\n      <td>0.750000</td>\n    </tr>\n    <tr>\n      <th>...</th>\n      <td>...</td>\n      <td>...</td>\n      <td>...</td>\n      <td>...</td>\n      <td>...</td>\n      <td>...</td>\n      <td>...</td>\n      <td>...</td>\n      <td>...</td>\n      <td>...</td>\n      <td>...</td>\n      <td>...</td>\n      <td>...</td>\n      <td>...</td>\n      <td>...</td>\n      <td>...</td>\n      <td>...</td>\n      <td>...</td>\n      <td>...</td>\n      <td>...</td>\n      <td>...</td>\n    </tr>\n    <tr>\n      <th>159921</th>\n      <td>621e375b67b776a240290cdc</td>\n      <td>2021-08-17 07:00:00</td>\n      <td>0.680095</td>\n      <td>0.720932</td>\n      <td>0.0</td>\n      <td>0.000383</td>\n      <td>0.027588</td>\n      <td>0.000000</td>\n      <td>0.000000</td>\n      <td>0.490278</td>\n      <td>...</td>\n      <td>0.0</td>\n      <td>0.0</td>\n      <td>0.000000</td>\n      <td>0.000000</td>\n      <td>0.0</td>\n      <td>0.0</td>\n      <td>0.350126</td>\n      <td>0.982963</td>\n      <td>0.020417</td>\n      <td>0.370590</td>\n    </tr>\n    <tr>\n      <th>159922</th>\n      <td>621e375b67b776a240290cdc</td>\n      <td>2021-08-17 08:00:00</td>\n      <td>0.680095</td>\n      <td>0.720932</td>\n      <td>0.0</td>\n      <td>0.000383</td>\n      <td>0.027588</td>\n      <td>0.000000</td>\n      <td>0.000000</td>\n      <td>0.490278</td>\n      <td>...</td>\n      <td>0.0</td>\n      <td>0.0</td>\n      <td>0.000000</td>\n      <td>0.000000</td>\n      <td>0.0</td>\n      <td>0.0</td>\n      <td>0.350126</td>\n      <td>0.933013</td>\n      <td>0.020417</td>\n      <td>0.250000</td>\n    </tr>\n    <tr>\n      <th>159923</th>\n      <td>621e375b67b776a240290cdc</td>\n      <td>2021-08-17 09:00:00</td>\n      <td>0.680095</td>\n      <td>0.720932</td>\n      <td>0.0</td>\n      <td>0.000383</td>\n      <td>0.027588</td>\n      <td>0.000000</td>\n      <td>0.000000</td>\n      <td>0.490278</td>\n      <td>...</td>\n      <td>0.0</td>\n      <td>0.0</td>\n      <td>0.000000</td>\n      <td>0.000000</td>\n      <td>0.0</td>\n      <td>0.0</td>\n      <td>0.350126</td>\n      <td>0.853553</td>\n      <td>0.020417</td>\n      <td>0.146447</td>\n    </tr>\n    <tr>\n      <th>159924</th>\n      <td>621e375b67b776a240290cdc</td>\n      <td>2021-08-17 10:00:00</td>\n      <td>0.680095</td>\n      <td>0.720932</td>\n      <td>0.0</td>\n      <td>0.000383</td>\n      <td>0.027588</td>\n      <td>0.000000</td>\n      <td>0.000000</td>\n      <td>0.490278</td>\n      <td>...</td>\n      <td>0.0</td>\n      <td>0.0</td>\n      <td>0.000000</td>\n      <td>0.000000</td>\n      <td>0.0</td>\n      <td>0.0</td>\n      <td>0.350126</td>\n      <td>0.750000</td>\n      <td>0.020417</td>\n      <td>0.066987</td>\n    </tr>\n    <tr>\n      <th>159925</th>\n      <td>621e375b67b776a240290cdc</td>\n      <td>2021-08-17 11:00:00</td>\n      <td>0.680095</td>\n      <td>0.720932</td>\n      <td>0.0</td>\n      <td>0.000383</td>\n      <td>0.027588</td>\n      <td>0.000000</td>\n      <td>0.000000</td>\n      <td>0.490278</td>\n      <td>...</td>\n      <td>0.0</td>\n      <td>0.0</td>\n      <td>0.000000</td>\n      <td>0.000000</td>\n      <td>0.0</td>\n      <td>0.0</td>\n      <td>0.350126</td>\n      <td>0.629410</td>\n      <td>0.020417</td>\n      <td>0.017037</td>\n    </tr>\n  </tbody>\n</table>\n<p>159783 rows × 39 columns</p>\n</div>"
     },
     "execution_count": 2,
     "metadata": {},
     "output_type": "execute_result"
    }
   ],
   "source": [
    "training_df = pd.read_pickle('../data/preprocessing_temps/preprocessed_training_df.pkl')\n",
    "training_df"
   ],
   "metadata": {
    "collapsed": false,
    "pycharm": {
     "name": "#%%\n"
    },
    "ExecuteTime": {
     "end_time": "2024-01-31T11:45:51.238788Z",
     "start_time": "2024-01-31T11:45:51.114276900Z"
    }
   }
  },
  {
   "cell_type": "markdown",
   "source": [
    "##### Correlation Analysis"
   ],
   "metadata": {
    "collapsed": false,
    "pycharm": {
     "name": "#%% md\n"
    }
   }
  },
  {
   "cell_type": "markdown",
   "source": [
    "Compute the correlation matrix of all the training set features and find feature pairs with correlation higher than 0.9"
   ],
   "metadata": {
    "collapsed": false,
    "pycharm": {
     "name": "#%% md\n"
    }
   }
  },
  {
   "cell_type": "code",
   "execution_count": 3,
   "outputs": [
    {
     "name": "stdout",
     "output_type": "stream",
     "text": [
      "distance - steps  --> correlation 0.9447563780490101\n"
     ]
    }
   ],
   "source": [
    "# compute the correlation matrix\n",
    "correlation_analysis_df = training_df.drop(columns=['id', 'date'])\n",
    "correlation_matrix = correlation_analysis_df.corr()\n",
    "\n",
    "# find and print column pairs with correlation higher than 0.9\n",
    "high_correlation_pairs = [(col1, col2) for col1 in correlation_analysis_df.columns for col2 in correlation_analysis_df.columns if col1 < col2 and correlation_matrix.loc[col1, col2] > 0.9]\n",
    "for col1, col2 in high_correlation_pairs:\n",
    "    print(col1, \"-\", col2, \" --> correlation\", correlation_matrix.loc[col1, col2])"
   ],
   "metadata": {
    "collapsed": false,
    "pycharm": {
     "name": "#%%\n"
    },
    "ExecuteTime": {
     "end_time": "2024-01-31T11:46:00.733265500Z",
     "start_time": "2024-01-31T11:46:00.129762400Z"
    }
   }
  },
  {
   "cell_type": "markdown",
   "source": [
    "Calculate the VIF for each column pair and find for each pair the feature with the higher VIF"
   ],
   "metadata": {
    "collapsed": false,
    "pycharm": {
     "name": "#%% md\n"
    }
   }
  },
  {
   "cell_type": "code",
   "execution_count": 4,
   "outputs": [
    {
     "name": "stdout",
     "output_type": "stream",
     "text": [
      "steps  --> the higher VIF: 18.249657784990216 while distance --> VIF: 16.0668799519794\n"
     ]
    }
   ],
   "source": [
    "for col1, col2 in high_correlation_pairs:\n",
    "    vif1 = variance_inflation_factor(correlation_analysis_df.values, correlation_analysis_df.columns.get_loc(col1))\n",
    "    vif2 = variance_inflation_factor(correlation_analysis_df.values, correlation_analysis_df.columns.get_loc(col2))\n",
    "    if vif1 > vif2:\n",
    "        print(col1, \" --> the higher VIF:\",vif1, \"while\", col2, \"--> VIF:\", vif2)\n",
    "    else:\n",
    "        print(col2, \" --> the higher VIF:\",vif2, \"while\", col1, \"--> VIF:\", vif1)"
   ],
   "metadata": {
    "collapsed": false,
    "pycharm": {
     "name": "#%%\n"
    },
    "ExecuteTime": {
     "end_time": "2024-01-31T11:46:04.193059700Z",
     "start_time": "2024-01-31T11:46:02.742335700Z"
    }
   }
  },
  {
   "cell_type": "markdown",
   "source": [
    "Drop the features with higher VIF"
   ],
   "metadata": {
    "collapsed": false,
    "pycharm": {
     "name": "#%% md\n"
    }
   }
  },
  {
   "cell_type": "code",
   "execution_count": 5,
   "outputs": [
    {
     "data": {
      "text/plain": "                              id                date  sleep_points  \\\n0       621e2e8e67b776a24055b564 2021-05-24 00:00:00      0.810469   \n1       621e2e8e67b776a24055b564 2021-05-24 01:00:00      0.810469   \n2       621e2e8e67b776a24055b564 2021-05-24 02:00:00      0.810469   \n3       621e2e8e67b776a24055b564 2021-05-24 03:00:00      0.810469   \n4       621e2e8e67b776a24055b564 2021-05-24 04:00:00      0.810469   \n...                          ...                 ...           ...   \n159921  621e375b67b776a240290cdc 2021-08-17 07:00:00      0.680095   \n159922  621e375b67b776a240290cdc 2021-08-17 08:00:00      0.680095   \n159923  621e375b67b776a240290cdc 2021-08-17 09:00:00      0.680095   \n159924  621e375b67b776a240290cdc 2021-08-17 10:00:00      0.680095   \n159925  621e375b67b776a240290cdc 2021-08-17 11:00:00      0.680095   \n\n        exertion_points  altitude  calories  lightly_active_minutes  \\\n0              0.622928       0.0  0.029382                0.254701   \n1              0.622928       0.0  0.002914                0.254701   \n2              0.622928       0.0  0.000729                0.254701   \n3              0.622928       0.0  0.012860                0.254701   \n4              0.622928       0.0  0.003315                0.254701   \n...                 ...       ...       ...                     ...   \n159921         0.720932       0.0  0.000383                0.000000   \n159922         0.720932       0.0  0.000383                0.000000   \n159923         0.720932       0.0  0.000383                0.000000   \n159924         0.720932       0.0  0.000383                0.000000   \n159925         0.720932       0.0  0.000383                0.000000   \n\n        moderately_active_minutes  sedentary_minutes     steps  ...  \\\n0                        0.083045           0.495139  0.017563  ...   \n1                        0.083045           0.495139  0.000000  ...   \n2                        0.083045           0.495139  0.046184  ...   \n3                        0.083045           0.495139  0.002661  ...   \n4                        0.083045           0.495139  0.000000  ...   \n...                           ...                ...       ...  ...   \n159921                   0.000000           0.490278  0.064983  ...   \n159922                   0.000000           0.490278  0.064983  ...   \n159923                   0.000000           0.490278  0.064983  ...   \n159924                   0.000000           0.490278  0.064983  ...   \n159925                   0.000000           0.490278  0.064983  ...   \n\n        WORK/SCHOOL  badges  exercises  exercise_duration  is_weekend  \\\n0               0.0     0.0   0.074074           0.001865         0.0   \n1               0.0     0.0   0.074074           0.001865         0.0   \n2               0.0     0.0   0.074074           0.001865         0.0   \n3               0.0     0.0   0.074074           0.001865         0.0   \n4               0.0     0.0   0.074074           0.001865         0.0   \n...             ...     ...        ...                ...         ...   \n159921          0.0     0.0   0.000000           0.000000         0.0   \n159922          0.0     0.0   0.000000           0.000000         0.0   \n159923          0.0     0.0   0.000000           0.000000         0.0   \n159924          0.0     0.0   0.000000           0.000000         0.0   \n159925          0.0     0.0   0.000000           0.000000         0.0   \n\n        is_holiday   day_sin  hour_sin   day_cos  hour_cos  \n0              0.0  0.005131  0.500000  0.574623  1.000000  \n1              0.0  0.005131  0.629410  0.574623  0.982963  \n2              0.0  0.005131  0.750000  0.574623  0.933013  \n3              0.0  0.005131  0.853553  0.574623  0.853553  \n4              0.0  0.005131  0.933013  0.574623  0.750000  \n...            ...       ...       ...       ...       ...  \n159921         0.0  0.350126  0.982963  0.020417  0.370590  \n159922         0.0  0.350126  0.933013  0.020417  0.250000  \n159923         0.0  0.350126  0.853553  0.020417  0.146447  \n159924         0.0  0.350126  0.750000  0.020417  0.066987  \n159925         0.0  0.350126  0.629410  0.020417  0.017037  \n\n[159783 rows x 38 columns]",
      "text/html": "<div>\n<style scoped>\n    .dataframe tbody tr th:only-of-type {\n        vertical-align: middle;\n    }\n\n    .dataframe tbody tr th {\n        vertical-align: top;\n    }\n\n    .dataframe thead th {\n        text-align: right;\n    }\n</style>\n<table border=\"1\" class=\"dataframe\">\n  <thead>\n    <tr style=\"text-align: right;\">\n      <th></th>\n      <th>id</th>\n      <th>date</th>\n      <th>sleep_points</th>\n      <th>exertion_points</th>\n      <th>altitude</th>\n      <th>calories</th>\n      <th>lightly_active_minutes</th>\n      <th>moderately_active_minutes</th>\n      <th>sedentary_minutes</th>\n      <th>steps</th>\n      <th>...</th>\n      <th>WORK/SCHOOL</th>\n      <th>badges</th>\n      <th>exercises</th>\n      <th>exercise_duration</th>\n      <th>is_weekend</th>\n      <th>is_holiday</th>\n      <th>day_sin</th>\n      <th>hour_sin</th>\n      <th>day_cos</th>\n      <th>hour_cos</th>\n    </tr>\n  </thead>\n  <tbody>\n    <tr>\n      <th>0</th>\n      <td>621e2e8e67b776a24055b564</td>\n      <td>2021-05-24 00:00:00</td>\n      <td>0.810469</td>\n      <td>0.622928</td>\n      <td>0.0</td>\n      <td>0.029382</td>\n      <td>0.254701</td>\n      <td>0.083045</td>\n      <td>0.495139</td>\n      <td>0.017563</td>\n      <td>...</td>\n      <td>0.0</td>\n      <td>0.0</td>\n      <td>0.074074</td>\n      <td>0.001865</td>\n      <td>0.0</td>\n      <td>0.0</td>\n      <td>0.005131</td>\n      <td>0.500000</td>\n      <td>0.574623</td>\n      <td>1.000000</td>\n    </tr>\n    <tr>\n      <th>1</th>\n      <td>621e2e8e67b776a24055b564</td>\n      <td>2021-05-24 01:00:00</td>\n      <td>0.810469</td>\n      <td>0.622928</td>\n      <td>0.0</td>\n      <td>0.002914</td>\n      <td>0.254701</td>\n      <td>0.083045</td>\n      <td>0.495139</td>\n      <td>0.000000</td>\n      <td>...</td>\n      <td>0.0</td>\n      <td>0.0</td>\n      <td>0.074074</td>\n      <td>0.001865</td>\n      <td>0.0</td>\n      <td>0.0</td>\n      <td>0.005131</td>\n      <td>0.629410</td>\n      <td>0.574623</td>\n      <td>0.982963</td>\n    </tr>\n    <tr>\n      <th>2</th>\n      <td>621e2e8e67b776a24055b564</td>\n      <td>2021-05-24 02:00:00</td>\n      <td>0.810469</td>\n      <td>0.622928</td>\n      <td>0.0</td>\n      <td>0.000729</td>\n      <td>0.254701</td>\n      <td>0.083045</td>\n      <td>0.495139</td>\n      <td>0.046184</td>\n      <td>...</td>\n      <td>0.0</td>\n      <td>0.0</td>\n      <td>0.074074</td>\n      <td>0.001865</td>\n      <td>0.0</td>\n      <td>0.0</td>\n      <td>0.005131</td>\n      <td>0.750000</td>\n      <td>0.574623</td>\n      <td>0.933013</td>\n    </tr>\n    <tr>\n      <th>3</th>\n      <td>621e2e8e67b776a24055b564</td>\n      <td>2021-05-24 03:00:00</td>\n      <td>0.810469</td>\n      <td>0.622928</td>\n      <td>0.0</td>\n      <td>0.012860</td>\n      <td>0.254701</td>\n      <td>0.083045</td>\n      <td>0.495139</td>\n      <td>0.002661</td>\n      <td>...</td>\n      <td>0.0</td>\n      <td>0.0</td>\n      <td>0.074074</td>\n      <td>0.001865</td>\n      <td>0.0</td>\n      <td>0.0</td>\n      <td>0.005131</td>\n      <td>0.853553</td>\n      <td>0.574623</td>\n      <td>0.853553</td>\n    </tr>\n    <tr>\n      <th>4</th>\n      <td>621e2e8e67b776a24055b564</td>\n      <td>2021-05-24 04:00:00</td>\n      <td>0.810469</td>\n      <td>0.622928</td>\n      <td>0.0</td>\n      <td>0.003315</td>\n      <td>0.254701</td>\n      <td>0.083045</td>\n      <td>0.495139</td>\n      <td>0.000000</td>\n      <td>...</td>\n      <td>0.0</td>\n      <td>0.0</td>\n      <td>0.074074</td>\n      <td>0.001865</td>\n      <td>0.0</td>\n      <td>0.0</td>\n      <td>0.005131</td>\n      <td>0.933013</td>\n      <td>0.574623</td>\n      <td>0.750000</td>\n    </tr>\n    <tr>\n      <th>...</th>\n      <td>...</td>\n      <td>...</td>\n      <td>...</td>\n      <td>...</td>\n      <td>...</td>\n      <td>...</td>\n      <td>...</td>\n      <td>...</td>\n      <td>...</td>\n      <td>...</td>\n      <td>...</td>\n      <td>...</td>\n      <td>...</td>\n      <td>...</td>\n      <td>...</td>\n      <td>...</td>\n      <td>...</td>\n      <td>...</td>\n      <td>...</td>\n      <td>...</td>\n      <td>...</td>\n    </tr>\n    <tr>\n      <th>159921</th>\n      <td>621e375b67b776a240290cdc</td>\n      <td>2021-08-17 07:00:00</td>\n      <td>0.680095</td>\n      <td>0.720932</td>\n      <td>0.0</td>\n      <td>0.000383</td>\n      <td>0.000000</td>\n      <td>0.000000</td>\n      <td>0.490278</td>\n      <td>0.064983</td>\n      <td>...</td>\n      <td>0.0</td>\n      <td>0.0</td>\n      <td>0.000000</td>\n      <td>0.000000</td>\n      <td>0.0</td>\n      <td>0.0</td>\n      <td>0.350126</td>\n      <td>0.982963</td>\n      <td>0.020417</td>\n      <td>0.370590</td>\n    </tr>\n    <tr>\n      <th>159922</th>\n      <td>621e375b67b776a240290cdc</td>\n      <td>2021-08-17 08:00:00</td>\n      <td>0.680095</td>\n      <td>0.720932</td>\n      <td>0.0</td>\n      <td>0.000383</td>\n      <td>0.000000</td>\n      <td>0.000000</td>\n      <td>0.490278</td>\n      <td>0.064983</td>\n      <td>...</td>\n      <td>0.0</td>\n      <td>0.0</td>\n      <td>0.000000</td>\n      <td>0.000000</td>\n      <td>0.0</td>\n      <td>0.0</td>\n      <td>0.350126</td>\n      <td>0.933013</td>\n      <td>0.020417</td>\n      <td>0.250000</td>\n    </tr>\n    <tr>\n      <th>159923</th>\n      <td>621e375b67b776a240290cdc</td>\n      <td>2021-08-17 09:00:00</td>\n      <td>0.680095</td>\n      <td>0.720932</td>\n      <td>0.0</td>\n      <td>0.000383</td>\n      <td>0.000000</td>\n      <td>0.000000</td>\n      <td>0.490278</td>\n      <td>0.064983</td>\n      <td>...</td>\n      <td>0.0</td>\n      <td>0.0</td>\n      <td>0.000000</td>\n      <td>0.000000</td>\n      <td>0.0</td>\n      <td>0.0</td>\n      <td>0.350126</td>\n      <td>0.853553</td>\n      <td>0.020417</td>\n      <td>0.146447</td>\n    </tr>\n    <tr>\n      <th>159924</th>\n      <td>621e375b67b776a240290cdc</td>\n      <td>2021-08-17 10:00:00</td>\n      <td>0.680095</td>\n      <td>0.720932</td>\n      <td>0.0</td>\n      <td>0.000383</td>\n      <td>0.000000</td>\n      <td>0.000000</td>\n      <td>0.490278</td>\n      <td>0.064983</td>\n      <td>...</td>\n      <td>0.0</td>\n      <td>0.0</td>\n      <td>0.000000</td>\n      <td>0.000000</td>\n      <td>0.0</td>\n      <td>0.0</td>\n      <td>0.350126</td>\n      <td>0.750000</td>\n      <td>0.020417</td>\n      <td>0.066987</td>\n    </tr>\n    <tr>\n      <th>159925</th>\n      <td>621e375b67b776a240290cdc</td>\n      <td>2021-08-17 11:00:00</td>\n      <td>0.680095</td>\n      <td>0.720932</td>\n      <td>0.0</td>\n      <td>0.000383</td>\n      <td>0.000000</td>\n      <td>0.000000</td>\n      <td>0.490278</td>\n      <td>0.064983</td>\n      <td>...</td>\n      <td>0.0</td>\n      <td>0.0</td>\n      <td>0.000000</td>\n      <td>0.000000</td>\n      <td>0.0</td>\n      <td>0.0</td>\n      <td>0.350126</td>\n      <td>0.629410</td>\n      <td>0.020417</td>\n      <td>0.017037</td>\n    </tr>\n  </tbody>\n</table>\n<p>159783 rows × 38 columns</p>\n</div>"
     },
     "execution_count": 5,
     "metadata": {},
     "output_type": "execute_result"
    }
   ],
   "source": [
    "training_df.drop(columns=['distance'], inplace=True)\n",
    "training_df"
   ],
   "metadata": {
    "collapsed": false,
    "pycharm": {
     "name": "#%%\n"
    },
    "ExecuteTime": {
     "end_time": "2024-01-31T11:46:07.828349600Z",
     "start_time": "2024-01-31T11:46:07.721741100Z"
    }
   }
  },
  {
   "cell_type": "code",
   "execution_count": 6,
   "outputs": [],
   "source": [
    "training_df.to_pickle('../data/clustering_df.pkl')"
   ],
   "metadata": {
    "collapsed": false,
    "pycharm": {
     "name": "#%%\n"
    },
    "ExecuteTime": {
     "end_time": "2024-01-31T11:46:09.801303400Z",
     "start_time": "2024-01-31T11:46:09.714959800Z"
    }
   }
  },
  {
   "cell_type": "code",
   "outputs": [],
   "source": [],
   "metadata": {
    "collapsed": false
   }
  }
 ],
 "metadata": {
  "kernelspec": {
   "display_name": "Python 3",
   "language": "python",
   "name": "python3"
  },
  "language_info": {
   "codemirror_mode": {
    "name": "ipython",
    "version": 2
   },
   "file_extension": ".py",
   "mimetype": "text/x-python",
   "name": "python",
   "nbconvert_exporter": "python",
   "pygments_lexer": "ipython2",
   "version": "2.7.6"
  }
 },
 "nbformat": 4,
 "nbformat_minor": 0
}
