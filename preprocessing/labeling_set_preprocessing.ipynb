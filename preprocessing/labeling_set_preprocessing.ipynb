{
 "cells": [
  {
   "cell_type": "markdown",
   "source": [
    "##### This notebook preprocesses a subset of the labeling features and creates a slightly revised version of the labeling set to be visualized.\n",
    "In more detail the features that are preprocessed are:\n",
    "1. bmi\n",
    "2. ecg\n",
    "3. heart_rate_alert\n",
    "4. nightly_temperature"
   ],
   "metadata": {
    "collapsed": false
   },
   "id": "4a2e6d92e740a70f"
  },
  {
   "cell_type": "code",
   "outputs": [],
   "source": [
    "import numpy as np\n",
    "import pandas as pd"
   ],
   "metadata": {
    "collapsed": false,
    "ExecuteTime": {
     "end_time": "2024-02-02T07:53:55.251923300Z",
     "start_time": "2024-02-02T07:53:55.188714100Z"
    }
   },
   "id": "5e8d38cf1f693eb1",
   "execution_count": 37
  },
  {
   "cell_type": "code",
   "outputs": [
    {
     "data": {
      "text/plain": "                              id                date  sleep_points  \\\n0       621e2e8e67b776a24055b564 2021-05-24 00:00:00      0.810469   \n1       621e2e8e67b776a24055b564 2021-05-24 01:00:00      0.810469   \n2       621e2e8e67b776a24055b564 2021-05-24 02:00:00      0.810469   \n3       621e2e8e67b776a24055b564 2021-05-24 03:00:00      0.810469   \n4       621e2e8e67b776a24055b564 2021-05-24 04:00:00      0.810469   \n...                          ...                 ...           ...   \n159779  621e375b67b776a240290cdc 2021-08-11 08:00:00      0.680095   \n159780  621e375b67b776a240290cdc 2021-08-11 09:00:00      0.680095   \n159781  621e375b67b776a240290cdc 2021-08-11 10:00:00      0.680095   \n159782  621e375b67b776a240290cdc 2021-08-11 11:00:00      0.680095   \n159783  621e375b67b776a240290cdc 2021-08-11 12:00:00      0.680095   \n\n        exertion_points  altitude  calories  lightly_active_minutes  \\\n0              0.622928       0.0  0.029382                0.254701   \n1              0.622928       0.0  0.002914                0.254701   \n2              0.622928       0.0  0.000729                0.254701   \n3              0.622928       0.0  0.012860                0.254701   \n4              0.622928       0.0  0.003315                0.254701   \n...                 ...       ...       ...                     ...   \n159779         0.720932       0.0  0.000383                0.000000   \n159780         0.720932       0.0  0.000383                0.000000   \n159781         0.720932       0.0  0.000383                0.000000   \n159782         0.720932       0.0  0.000383                0.000000   \n159783         0.720932       0.0  0.000383                0.000000   \n\n        moderately_active_minutes  sedentary_minutes     steps  ...  \\\n0                        0.083045           0.495139  0.017563  ...   \n1                        0.083045           0.495139  0.000000  ...   \n2                        0.083045           0.495139  0.046184  ...   \n3                        0.083045           0.495139  0.002661  ...   \n4                        0.083045           0.495139  0.000000  ...   \n...                           ...                ...       ...  ...   \n159779                   0.000000           0.490278  0.064983  ...   \n159780                   0.000000           0.490278  0.064983  ...   \n159781                   0.000000           0.490278  0.064983  ...   \n159782                   0.000000           0.490278  0.064983  ...   \n159783                   0.000000           0.490278  0.064983  ...   \n\n        negative_affect_score  stai_stress  ttm_stage  \\\n0                         NaN          NaN        NaN   \n1                         NaN          NaN        NaN   \n2                         NaN          NaN        NaN   \n3                         NaN          NaN        NaN   \n4                         NaN          NaN        NaN   \n...                       ...          ...        ...   \n159779                    NaN          NaN        NaN   \n159780                    NaN          NaN        NaN   \n159781                    NaN          NaN        NaN   \n159782                    NaN          NaN        NaN   \n159783                    NaN          NaN        NaN   \n\n        dramatic_relief_category  environmental_reevaluation_category  \\\n0                            NaN                                  NaN   \n1                            NaN                                  NaN   \n2                            NaN                                  NaN   \n3                            NaN                                  NaN   \n4                            NaN                                  NaN   \n...                          ...                                  ...   \n159779                       NaN                                  NaN   \n159780                       NaN                                  NaN   \n159781                       NaN                                  NaN   \n159782                       NaN                                  NaN   \n159783                       NaN                                  NaN   \n\n        self_reevaluation_category  social_liberation_category  \\\n0                              NaN                         NaN   \n1                              NaN                         NaN   \n2                              NaN                         NaN   \n3                              NaN                         NaN   \n4                              NaN                         NaN   \n...                            ...                         ...   \n159779                         NaN                         NaN   \n159780                         NaN                         NaN   \n159781                         NaN                         NaN   \n159782                         NaN                         NaN   \n159783                         NaN                         NaN   \n\n        reinforcement_management_category  self_liberation_category  mood  \n0                                     NaN                       NaN   NaN  \n1                                     NaN                       NaN   NaN  \n2                                     NaN                       NaN   NaN  \n3                                     NaN                       NaN   NaN  \n4                                     NaN                       NaN   NaN  \n...                                   ...                       ...   ...  \n159779                                NaN                       NaN   NaN  \n159780                                NaN                       NaN   NaN  \n159781                                NaN                       NaN   NaN  \n159782                                NaN                       NaN   NaN  \n159783                                NaN                       NaN   NaN  \n\n[159784 rows x 80 columns]",
      "text/html": "<div>\n<style scoped>\n    .dataframe tbody tr th:only-of-type {\n        vertical-align: middle;\n    }\n\n    .dataframe tbody tr th {\n        vertical-align: top;\n    }\n\n    .dataframe thead th {\n        text-align: right;\n    }\n</style>\n<table border=\"1\" class=\"dataframe\">\n  <thead>\n    <tr style=\"text-align: right;\">\n      <th></th>\n      <th>id</th>\n      <th>date</th>\n      <th>sleep_points</th>\n      <th>exertion_points</th>\n      <th>altitude</th>\n      <th>calories</th>\n      <th>lightly_active_minutes</th>\n      <th>moderately_active_minutes</th>\n      <th>sedentary_minutes</th>\n      <th>steps</th>\n      <th>...</th>\n      <th>negative_affect_score</th>\n      <th>stai_stress</th>\n      <th>ttm_stage</th>\n      <th>dramatic_relief_category</th>\n      <th>environmental_reevaluation_category</th>\n      <th>self_reevaluation_category</th>\n      <th>social_liberation_category</th>\n      <th>reinforcement_management_category</th>\n      <th>self_liberation_category</th>\n      <th>mood</th>\n    </tr>\n  </thead>\n  <tbody>\n    <tr>\n      <th>0</th>\n      <td>621e2e8e67b776a24055b564</td>\n      <td>2021-05-24 00:00:00</td>\n      <td>0.810469</td>\n      <td>0.622928</td>\n      <td>0.0</td>\n      <td>0.029382</td>\n      <td>0.254701</td>\n      <td>0.083045</td>\n      <td>0.495139</td>\n      <td>0.017563</td>\n      <td>...</td>\n      <td>NaN</td>\n      <td>NaN</td>\n      <td>NaN</td>\n      <td>NaN</td>\n      <td>NaN</td>\n      <td>NaN</td>\n      <td>NaN</td>\n      <td>NaN</td>\n      <td>NaN</td>\n      <td>NaN</td>\n    </tr>\n    <tr>\n      <th>1</th>\n      <td>621e2e8e67b776a24055b564</td>\n      <td>2021-05-24 01:00:00</td>\n      <td>0.810469</td>\n      <td>0.622928</td>\n      <td>0.0</td>\n      <td>0.002914</td>\n      <td>0.254701</td>\n      <td>0.083045</td>\n      <td>0.495139</td>\n      <td>0.000000</td>\n      <td>...</td>\n      <td>NaN</td>\n      <td>NaN</td>\n      <td>NaN</td>\n      <td>NaN</td>\n      <td>NaN</td>\n      <td>NaN</td>\n      <td>NaN</td>\n      <td>NaN</td>\n      <td>NaN</td>\n      <td>NaN</td>\n    </tr>\n    <tr>\n      <th>2</th>\n      <td>621e2e8e67b776a24055b564</td>\n      <td>2021-05-24 02:00:00</td>\n      <td>0.810469</td>\n      <td>0.622928</td>\n      <td>0.0</td>\n      <td>0.000729</td>\n      <td>0.254701</td>\n      <td>0.083045</td>\n      <td>0.495139</td>\n      <td>0.046184</td>\n      <td>...</td>\n      <td>NaN</td>\n      <td>NaN</td>\n      <td>NaN</td>\n      <td>NaN</td>\n      <td>NaN</td>\n      <td>NaN</td>\n      <td>NaN</td>\n      <td>NaN</td>\n      <td>NaN</td>\n      <td>NaN</td>\n    </tr>\n    <tr>\n      <th>3</th>\n      <td>621e2e8e67b776a24055b564</td>\n      <td>2021-05-24 03:00:00</td>\n      <td>0.810469</td>\n      <td>0.622928</td>\n      <td>0.0</td>\n      <td>0.012860</td>\n      <td>0.254701</td>\n      <td>0.083045</td>\n      <td>0.495139</td>\n      <td>0.002661</td>\n      <td>...</td>\n      <td>NaN</td>\n      <td>NaN</td>\n      <td>NaN</td>\n      <td>NaN</td>\n      <td>NaN</td>\n      <td>NaN</td>\n      <td>NaN</td>\n      <td>NaN</td>\n      <td>NaN</td>\n      <td>NaN</td>\n    </tr>\n    <tr>\n      <th>4</th>\n      <td>621e2e8e67b776a24055b564</td>\n      <td>2021-05-24 04:00:00</td>\n      <td>0.810469</td>\n      <td>0.622928</td>\n      <td>0.0</td>\n      <td>0.003315</td>\n      <td>0.254701</td>\n      <td>0.083045</td>\n      <td>0.495139</td>\n      <td>0.000000</td>\n      <td>...</td>\n      <td>NaN</td>\n      <td>NaN</td>\n      <td>NaN</td>\n      <td>NaN</td>\n      <td>NaN</td>\n      <td>NaN</td>\n      <td>NaN</td>\n      <td>NaN</td>\n      <td>NaN</td>\n      <td>NaN</td>\n    </tr>\n    <tr>\n      <th>...</th>\n      <td>...</td>\n      <td>...</td>\n      <td>...</td>\n      <td>...</td>\n      <td>...</td>\n      <td>...</td>\n      <td>...</td>\n      <td>...</td>\n      <td>...</td>\n      <td>...</td>\n      <td>...</td>\n      <td>...</td>\n      <td>...</td>\n      <td>...</td>\n      <td>...</td>\n      <td>...</td>\n      <td>...</td>\n      <td>...</td>\n      <td>...</td>\n      <td>...</td>\n      <td>...</td>\n    </tr>\n    <tr>\n      <th>159779</th>\n      <td>621e375b67b776a240290cdc</td>\n      <td>2021-08-11 08:00:00</td>\n      <td>0.680095</td>\n      <td>0.720932</td>\n      <td>0.0</td>\n      <td>0.000383</td>\n      <td>0.000000</td>\n      <td>0.000000</td>\n      <td>0.490278</td>\n      <td>0.064983</td>\n      <td>...</td>\n      <td>NaN</td>\n      <td>NaN</td>\n      <td>NaN</td>\n      <td>NaN</td>\n      <td>NaN</td>\n      <td>NaN</td>\n      <td>NaN</td>\n      <td>NaN</td>\n      <td>NaN</td>\n      <td>NaN</td>\n    </tr>\n    <tr>\n      <th>159780</th>\n      <td>621e375b67b776a240290cdc</td>\n      <td>2021-08-11 09:00:00</td>\n      <td>0.680095</td>\n      <td>0.720932</td>\n      <td>0.0</td>\n      <td>0.000383</td>\n      <td>0.000000</td>\n      <td>0.000000</td>\n      <td>0.490278</td>\n      <td>0.064983</td>\n      <td>...</td>\n      <td>NaN</td>\n      <td>NaN</td>\n      <td>NaN</td>\n      <td>NaN</td>\n      <td>NaN</td>\n      <td>NaN</td>\n      <td>NaN</td>\n      <td>NaN</td>\n      <td>NaN</td>\n      <td>NaN</td>\n    </tr>\n    <tr>\n      <th>159781</th>\n      <td>621e375b67b776a240290cdc</td>\n      <td>2021-08-11 10:00:00</td>\n      <td>0.680095</td>\n      <td>0.720932</td>\n      <td>0.0</td>\n      <td>0.000383</td>\n      <td>0.000000</td>\n      <td>0.000000</td>\n      <td>0.490278</td>\n      <td>0.064983</td>\n      <td>...</td>\n      <td>NaN</td>\n      <td>NaN</td>\n      <td>NaN</td>\n      <td>NaN</td>\n      <td>NaN</td>\n      <td>NaN</td>\n      <td>NaN</td>\n      <td>NaN</td>\n      <td>NaN</td>\n      <td>NaN</td>\n    </tr>\n    <tr>\n      <th>159782</th>\n      <td>621e375b67b776a240290cdc</td>\n      <td>2021-08-11 11:00:00</td>\n      <td>0.680095</td>\n      <td>0.720932</td>\n      <td>0.0</td>\n      <td>0.000383</td>\n      <td>0.000000</td>\n      <td>0.000000</td>\n      <td>0.490278</td>\n      <td>0.064983</td>\n      <td>...</td>\n      <td>NaN</td>\n      <td>NaN</td>\n      <td>NaN</td>\n      <td>NaN</td>\n      <td>NaN</td>\n      <td>NaN</td>\n      <td>NaN</td>\n      <td>NaN</td>\n      <td>NaN</td>\n      <td>NaN</td>\n    </tr>\n    <tr>\n      <th>159783</th>\n      <td>621e375b67b776a240290cdc</td>\n      <td>2021-08-11 12:00:00</td>\n      <td>0.680095</td>\n      <td>0.720932</td>\n      <td>0.0</td>\n      <td>0.000383</td>\n      <td>0.000000</td>\n      <td>0.000000</td>\n      <td>0.490278</td>\n      <td>0.064983</td>\n      <td>...</td>\n      <td>NaN</td>\n      <td>NaN</td>\n      <td>NaN</td>\n      <td>NaN</td>\n      <td>NaN</td>\n      <td>NaN</td>\n      <td>NaN</td>\n      <td>NaN</td>\n      <td>NaN</td>\n      <td>NaN</td>\n    </tr>\n  </tbody>\n</table>\n<p>159784 rows × 80 columns</p>\n</div>"
     },
     "execution_count": 38,
     "metadata": {},
     "output_type": "execute_result"
    }
   ],
   "source": [
    "data = pd.read_pickle('../data/labeling_visualizations/kmeans_labeling.pkl')\n",
    "data"
   ],
   "metadata": {
    "collapsed": false,
    "ExecuteTime": {
     "end_time": "2024-02-02T07:53:55.729886700Z",
     "start_time": "2024-02-02T07:53:55.256943100Z"
    }
   },
   "id": "9e6ecafefe86260a",
   "execution_count": 38
  },
  {
   "cell_type": "markdown",
   "source": [
    "#### 1. bmi"
   ],
   "metadata": {
    "collapsed": false
   },
   "id": "a7417cccf73e7ca5"
  },
  {
   "cell_type": "code",
   "outputs": [
    {
     "data": {
      "text/plain": "                              id                date  sleep_points  \\\n0       621e2e8e67b776a24055b564 2021-05-24 00:00:00      0.810469   \n1       621e2e8e67b776a24055b564 2021-05-24 01:00:00      0.810469   \n2       621e2e8e67b776a24055b564 2021-05-24 02:00:00      0.810469   \n3       621e2e8e67b776a24055b564 2021-05-24 03:00:00      0.810469   \n4       621e2e8e67b776a24055b564 2021-05-24 04:00:00      0.810469   \n...                          ...                 ...           ...   \n159779  621e375b67b776a240290cdc 2021-08-11 08:00:00      0.680095   \n159780  621e375b67b776a240290cdc 2021-08-11 09:00:00      0.680095   \n159781  621e375b67b776a240290cdc 2021-08-11 10:00:00      0.680095   \n159782  621e375b67b776a240290cdc 2021-08-11 11:00:00      0.680095   \n159783  621e375b67b776a240290cdc 2021-08-11 12:00:00      0.680095   \n\n        exertion_points  altitude  calories  lightly_active_minutes  \\\n0              0.622928       0.0  0.029382                0.254701   \n1              0.622928       0.0  0.002914                0.254701   \n2              0.622928       0.0  0.000729                0.254701   \n3              0.622928       0.0  0.012860                0.254701   \n4              0.622928       0.0  0.003315                0.254701   \n...                 ...       ...       ...                     ...   \n159779         0.720932       0.0  0.000383                0.000000   \n159780         0.720932       0.0  0.000383                0.000000   \n159781         0.720932       0.0  0.000383                0.000000   \n159782         0.720932       0.0  0.000383                0.000000   \n159783         0.720932       0.0  0.000383                0.000000   \n\n        moderately_active_minutes  sedentary_minutes     steps  ...  \\\n0                        0.083045           0.495139  0.017563  ...   \n1                        0.083045           0.495139  0.000000  ...   \n2                        0.083045           0.495139  0.046184  ...   \n3                        0.083045           0.495139  0.002661  ...   \n4                        0.083045           0.495139  0.000000  ...   \n...                           ...                ...       ...  ...   \n159779                   0.000000           0.490278  0.064983  ...   \n159780                   0.000000           0.490278  0.064983  ...   \n159781                   0.000000           0.490278  0.064983  ...   \n159782                   0.000000           0.490278  0.064983  ...   \n159783                   0.000000           0.490278  0.064983  ...   \n\n        negative_affect_score  stai_stress  ttm_stage  \\\n0                         NaN          NaN        NaN   \n1                         NaN          NaN        NaN   \n2                         NaN          NaN        NaN   \n3                         NaN          NaN        NaN   \n4                         NaN          NaN        NaN   \n...                       ...          ...        ...   \n159779                    NaN          NaN        NaN   \n159780                    NaN          NaN        NaN   \n159781                    NaN          NaN        NaN   \n159782                    NaN          NaN        NaN   \n159783                    NaN          NaN        NaN   \n\n        dramatic_relief_category  environmental_reevaluation_category  \\\n0                            NaN                                  NaN   \n1                            NaN                                  NaN   \n2                            NaN                                  NaN   \n3                            NaN                                  NaN   \n4                            NaN                                  NaN   \n...                          ...                                  ...   \n159779                       NaN                                  NaN   \n159780                       NaN                                  NaN   \n159781                       NaN                                  NaN   \n159782                       NaN                                  NaN   \n159783                       NaN                                  NaN   \n\n        self_reevaluation_category  social_liberation_category  \\\n0                              NaN                         NaN   \n1                              NaN                         NaN   \n2                              NaN                         NaN   \n3                              NaN                         NaN   \n4                              NaN                         NaN   \n...                            ...                         ...   \n159779                         NaN                         NaN   \n159780                         NaN                         NaN   \n159781                         NaN                         NaN   \n159782                         NaN                         NaN   \n159783                         NaN                         NaN   \n\n        reinforcement_management_category  self_liberation_category  mood  \n0                                     NaN                       NaN   NaN  \n1                                     NaN                       NaN   NaN  \n2                                     NaN                       NaN   NaN  \n3                                     NaN                       NaN   NaN  \n4                                     NaN                       NaN   NaN  \n...                                   ...                       ...   ...  \n159779                                NaN                       NaN   NaN  \n159780                                NaN                       NaN   NaN  \n159781                                NaN                       NaN   NaN  \n159782                                NaN                       NaN   NaN  \n159783                                NaN                       NaN   NaN  \n\n[159784 rows x 80 columns]",
      "text/html": "<div>\n<style scoped>\n    .dataframe tbody tr th:only-of-type {\n        vertical-align: middle;\n    }\n\n    .dataframe tbody tr th {\n        vertical-align: top;\n    }\n\n    .dataframe thead th {\n        text-align: right;\n    }\n</style>\n<table border=\"1\" class=\"dataframe\">\n  <thead>\n    <tr style=\"text-align: right;\">\n      <th></th>\n      <th>id</th>\n      <th>date</th>\n      <th>sleep_points</th>\n      <th>exertion_points</th>\n      <th>altitude</th>\n      <th>calories</th>\n      <th>lightly_active_minutes</th>\n      <th>moderately_active_minutes</th>\n      <th>sedentary_minutes</th>\n      <th>steps</th>\n      <th>...</th>\n      <th>negative_affect_score</th>\n      <th>stai_stress</th>\n      <th>ttm_stage</th>\n      <th>dramatic_relief_category</th>\n      <th>environmental_reevaluation_category</th>\n      <th>self_reevaluation_category</th>\n      <th>social_liberation_category</th>\n      <th>reinforcement_management_category</th>\n      <th>self_liberation_category</th>\n      <th>mood</th>\n    </tr>\n  </thead>\n  <tbody>\n    <tr>\n      <th>0</th>\n      <td>621e2e8e67b776a24055b564</td>\n      <td>2021-05-24 00:00:00</td>\n      <td>0.810469</td>\n      <td>0.622928</td>\n      <td>0.0</td>\n      <td>0.029382</td>\n      <td>0.254701</td>\n      <td>0.083045</td>\n      <td>0.495139</td>\n      <td>0.017563</td>\n      <td>...</td>\n      <td>NaN</td>\n      <td>NaN</td>\n      <td>NaN</td>\n      <td>NaN</td>\n      <td>NaN</td>\n      <td>NaN</td>\n      <td>NaN</td>\n      <td>NaN</td>\n      <td>NaN</td>\n      <td>NaN</td>\n    </tr>\n    <tr>\n      <th>1</th>\n      <td>621e2e8e67b776a24055b564</td>\n      <td>2021-05-24 01:00:00</td>\n      <td>0.810469</td>\n      <td>0.622928</td>\n      <td>0.0</td>\n      <td>0.002914</td>\n      <td>0.254701</td>\n      <td>0.083045</td>\n      <td>0.495139</td>\n      <td>0.000000</td>\n      <td>...</td>\n      <td>NaN</td>\n      <td>NaN</td>\n      <td>NaN</td>\n      <td>NaN</td>\n      <td>NaN</td>\n      <td>NaN</td>\n      <td>NaN</td>\n      <td>NaN</td>\n      <td>NaN</td>\n      <td>NaN</td>\n    </tr>\n    <tr>\n      <th>2</th>\n      <td>621e2e8e67b776a24055b564</td>\n      <td>2021-05-24 02:00:00</td>\n      <td>0.810469</td>\n      <td>0.622928</td>\n      <td>0.0</td>\n      <td>0.000729</td>\n      <td>0.254701</td>\n      <td>0.083045</td>\n      <td>0.495139</td>\n      <td>0.046184</td>\n      <td>...</td>\n      <td>NaN</td>\n      <td>NaN</td>\n      <td>NaN</td>\n      <td>NaN</td>\n      <td>NaN</td>\n      <td>NaN</td>\n      <td>NaN</td>\n      <td>NaN</td>\n      <td>NaN</td>\n      <td>NaN</td>\n    </tr>\n    <tr>\n      <th>3</th>\n      <td>621e2e8e67b776a24055b564</td>\n      <td>2021-05-24 03:00:00</td>\n      <td>0.810469</td>\n      <td>0.622928</td>\n      <td>0.0</td>\n      <td>0.012860</td>\n      <td>0.254701</td>\n      <td>0.083045</td>\n      <td>0.495139</td>\n      <td>0.002661</td>\n      <td>...</td>\n      <td>NaN</td>\n      <td>NaN</td>\n      <td>NaN</td>\n      <td>NaN</td>\n      <td>NaN</td>\n      <td>NaN</td>\n      <td>NaN</td>\n      <td>NaN</td>\n      <td>NaN</td>\n      <td>NaN</td>\n    </tr>\n    <tr>\n      <th>4</th>\n      <td>621e2e8e67b776a24055b564</td>\n      <td>2021-05-24 04:00:00</td>\n      <td>0.810469</td>\n      <td>0.622928</td>\n      <td>0.0</td>\n      <td>0.003315</td>\n      <td>0.254701</td>\n      <td>0.083045</td>\n      <td>0.495139</td>\n      <td>0.000000</td>\n      <td>...</td>\n      <td>NaN</td>\n      <td>NaN</td>\n      <td>NaN</td>\n      <td>NaN</td>\n      <td>NaN</td>\n      <td>NaN</td>\n      <td>NaN</td>\n      <td>NaN</td>\n      <td>NaN</td>\n      <td>NaN</td>\n    </tr>\n    <tr>\n      <th>...</th>\n      <td>...</td>\n      <td>...</td>\n      <td>...</td>\n      <td>...</td>\n      <td>...</td>\n      <td>...</td>\n      <td>...</td>\n      <td>...</td>\n      <td>...</td>\n      <td>...</td>\n      <td>...</td>\n      <td>...</td>\n      <td>...</td>\n      <td>...</td>\n      <td>...</td>\n      <td>...</td>\n      <td>...</td>\n      <td>...</td>\n      <td>...</td>\n      <td>...</td>\n      <td>...</td>\n    </tr>\n    <tr>\n      <th>159779</th>\n      <td>621e375b67b776a240290cdc</td>\n      <td>2021-08-11 08:00:00</td>\n      <td>0.680095</td>\n      <td>0.720932</td>\n      <td>0.0</td>\n      <td>0.000383</td>\n      <td>0.000000</td>\n      <td>0.000000</td>\n      <td>0.490278</td>\n      <td>0.064983</td>\n      <td>...</td>\n      <td>NaN</td>\n      <td>NaN</td>\n      <td>NaN</td>\n      <td>NaN</td>\n      <td>NaN</td>\n      <td>NaN</td>\n      <td>NaN</td>\n      <td>NaN</td>\n      <td>NaN</td>\n      <td>NaN</td>\n    </tr>\n    <tr>\n      <th>159780</th>\n      <td>621e375b67b776a240290cdc</td>\n      <td>2021-08-11 09:00:00</td>\n      <td>0.680095</td>\n      <td>0.720932</td>\n      <td>0.0</td>\n      <td>0.000383</td>\n      <td>0.000000</td>\n      <td>0.000000</td>\n      <td>0.490278</td>\n      <td>0.064983</td>\n      <td>...</td>\n      <td>NaN</td>\n      <td>NaN</td>\n      <td>NaN</td>\n      <td>NaN</td>\n      <td>NaN</td>\n      <td>NaN</td>\n      <td>NaN</td>\n      <td>NaN</td>\n      <td>NaN</td>\n      <td>NaN</td>\n    </tr>\n    <tr>\n      <th>159781</th>\n      <td>621e375b67b776a240290cdc</td>\n      <td>2021-08-11 10:00:00</td>\n      <td>0.680095</td>\n      <td>0.720932</td>\n      <td>0.0</td>\n      <td>0.000383</td>\n      <td>0.000000</td>\n      <td>0.000000</td>\n      <td>0.490278</td>\n      <td>0.064983</td>\n      <td>...</td>\n      <td>NaN</td>\n      <td>NaN</td>\n      <td>NaN</td>\n      <td>NaN</td>\n      <td>NaN</td>\n      <td>NaN</td>\n      <td>NaN</td>\n      <td>NaN</td>\n      <td>NaN</td>\n      <td>NaN</td>\n    </tr>\n    <tr>\n      <th>159782</th>\n      <td>621e375b67b776a240290cdc</td>\n      <td>2021-08-11 11:00:00</td>\n      <td>0.680095</td>\n      <td>0.720932</td>\n      <td>0.0</td>\n      <td>0.000383</td>\n      <td>0.000000</td>\n      <td>0.000000</td>\n      <td>0.490278</td>\n      <td>0.064983</td>\n      <td>...</td>\n      <td>NaN</td>\n      <td>NaN</td>\n      <td>NaN</td>\n      <td>NaN</td>\n      <td>NaN</td>\n      <td>NaN</td>\n      <td>NaN</td>\n      <td>NaN</td>\n      <td>NaN</td>\n      <td>NaN</td>\n    </tr>\n    <tr>\n      <th>159783</th>\n      <td>621e375b67b776a240290cdc</td>\n      <td>2021-08-11 12:00:00</td>\n      <td>0.680095</td>\n      <td>0.720932</td>\n      <td>0.0</td>\n      <td>0.000383</td>\n      <td>0.000000</td>\n      <td>0.000000</td>\n      <td>0.490278</td>\n      <td>0.064983</td>\n      <td>...</td>\n      <td>NaN</td>\n      <td>NaN</td>\n      <td>NaN</td>\n      <td>NaN</td>\n      <td>NaN</td>\n      <td>NaN</td>\n      <td>NaN</td>\n      <td>NaN</td>\n      <td>NaN</td>\n      <td>NaN</td>\n    </tr>\n  </tbody>\n</table>\n<p>159784 rows × 80 columns</p>\n</div>"
     },
     "execution_count": 39,
     "metadata": {},
     "output_type": "execute_result"
    }
   ],
   "source": [
    "# bmi is converted into a categorical feature with 4 values (0: Underweight, 1: Normal, 2: Overweight, 3: Obese)\n",
    "data['bmi'] = data['bmi'].fillna(data['bmi'].mode().iloc[0])\n",
    "data[\"bmi\"] = data[\"bmi\"].apply(lambda x: 31.0 if x == '>=30' else x)\n",
    "data[\"bmi\"] = data[\"bmi\"].apply(lambda x: 18.0 if x == '<19' else x)\n",
    "data[\"bmi\"] = data[\"bmi\"].apply(lambda x: 26.0 if x == '>=25' else x)  # it belongs to overweight\n",
    "data[\"bmi\"] = data[\"bmi\"].apply(lambda x: 31 if x == '>=30' else x)\n",
    "data['bmi'] = data.bmi.apply(lambda bmi: 'Underweight' if bmi < 18.5 else ('Normal' if bmi < 25 else ('Overweight' if bmi < 30 else 'Obese')))\n",
    "data"
   ],
   "metadata": {
    "collapsed": false,
    "ExecuteTime": {
     "end_time": "2024-02-02T07:53:56.088950100Z",
     "start_time": "2024-02-02T07:53:55.733392900Z"
    }
   },
   "id": "f0f52e8e98b521fe",
   "execution_count": 39
  },
  {
   "cell_type": "markdown",
   "source": [
    "#### 2. ecg"
   ],
   "metadata": {
    "collapsed": false
   },
   "id": "2cda86a59cc8834e"
  },
  {
   "cell_type": "code",
   "outputs": [
    {
     "data": {
      "text/plain": "NSR                                 68\n[UNCLASSIFIABLE, UNCLASSIFIABLE]     1\nName: ecg, dtype: int64"
     },
     "execution_count": 40,
     "metadata": {},
     "output_type": "execute_result"
    }
   ],
   "source": [
    "data['ecg'].value_counts()"
   ],
   "metadata": {
    "collapsed": false,
    "ExecuteTime": {
     "end_time": "2024-02-02T07:53:56.115742200Z",
     "start_time": "2024-02-02T07:53:56.095991200Z"
    }
   },
   "id": "d7bab76bf5c3297b",
   "execution_count": 40
  },
  {
   "cell_type": "code",
   "outputs": [
    {
     "data": {
      "text/plain": "NSR               68\nUNCLASSIFIABLE     1\nName: ecg, dtype: int64"
     },
     "execution_count": 41,
     "metadata": {},
     "output_type": "execute_result"
    }
   ],
   "source": [
    "for index, row in data.iterrows():\n",
    "        if isinstance(data.at[index, 'ecg'], np.ndarray):\n",
    "            data.at[index, 'ecg'] = 'UNCLASSIFIABLE'\n",
    "data['ecg'].value_counts()"
   ],
   "metadata": {
    "collapsed": false,
    "ExecuteTime": {
     "end_time": "2024-02-02T07:54:07.427870100Z",
     "start_time": "2024-02-02T07:53:56.106409200Z"
    }
   },
   "id": "5ad95343370ca8df",
   "execution_count": 41
  },
  {
   "cell_type": "markdown",
   "source": [
    "#### 3. heart_rate_alert"
   ],
   "metadata": {
    "collapsed": false
   },
   "id": "faa35df375c18dac"
  },
  {
   "cell_type": "code",
   "outputs": [
    {
     "data": {
      "text/plain": "NONE              68\n[NONE, LOW_HR]     1\nName: heart_rate_alert, dtype: int64"
     },
     "execution_count": 42,
     "metadata": {},
     "output_type": "execute_result"
    }
   ],
   "source": [
    "data['heart_rate_alert'].value_counts()"
   ],
   "metadata": {
    "collapsed": false,
    "ExecuteTime": {
     "end_time": "2024-02-02T07:54:07.456653900Z",
     "start_time": "2024-02-02T07:54:07.429865400Z"
    }
   },
   "id": "2e0c17e684a425ec",
   "execution_count": 42
  },
  {
   "cell_type": "code",
   "outputs": [
    {
     "data": {
      "text/plain": "NONE      68\nLOW_HR     1\nName: heart_rate_alert, dtype: int64"
     },
     "execution_count": 43,
     "metadata": {},
     "output_type": "execute_result"
    }
   ],
   "source": [
    "for index, row in data.iterrows():\n",
    "        if isinstance(data.at[index, 'heart_rate_alert'], np.ndarray):\n",
    "            data.at[index, 'heart_rate_alert'] = 'LOW_HR'\n",
    "data['heart_rate_alert'].value_counts()"
   ],
   "metadata": {
    "collapsed": false,
    "ExecuteTime": {
     "end_time": "2024-02-02T07:54:20.277901Z",
     "start_time": "2024-02-02T07:54:07.459483800Z"
    }
   },
   "id": "4a237d64cfde793c",
   "execution_count": 43
  },
  {
   "cell_type": "markdown",
   "source": [
    "#### 4. nightly_temperature"
   ],
   "metadata": {
    "collapsed": false
   },
   "id": "3d174fc0178071c7"
  },
  {
   "cell_type": "code",
   "outputs": [
    {
     "data": {
      "text/plain": "34.467719    3\n34.352998    3\n34.105792    3\n34.277305    3\n34.447053    2\n            ..\n34.586139    1\n34.080868    1\n33.900247    1\n34.636734    1\n34.571786    1\nName: nightly_temperature, Length: 3209, dtype: int64"
     },
     "execution_count": 44,
     "metadata": {},
     "output_type": "execute_result"
    }
   ],
   "source": [
    "data['nightly_temperature'].value_counts()"
   ],
   "metadata": {
    "collapsed": false,
    "ExecuteTime": {
     "end_time": "2024-02-02T07:54:20.438717200Z",
     "start_time": "2024-02-02T07:54:20.281418600Z"
    }
   },
   "id": "4e72df561718ecd3",
   "execution_count": 44
  },
  {
   "cell_type": "code",
   "outputs": [],
   "source": [
    "for index, row in data.iterrows():\n",
    "        if isinstance(data.at[index, 'nightly_temperature'], np.ndarray):\n",
    "            mean_value = np.nanmean(data.at[index, 'nightly_temperature'])\n",
    "            data.at[index, 'nightly_temperature'] = mean_value"
   ],
   "metadata": {
    "collapsed": false,
    "ExecuteTime": {
     "end_time": "2024-02-02T07:54:32.548248Z",
     "start_time": "2024-02-02T07:54:20.437703700Z"
    }
   },
   "id": "7e4c5ae201b5636b",
   "execution_count": 45
  },
  {
   "cell_type": "code",
   "outputs": [],
   "source": [
    "data.to_pickle('../data/labeling_visualizations/kmeans_labeling_processed.pkl')"
   ],
   "metadata": {
    "collapsed": false,
    "ExecuteTime": {
     "end_time": "2024-02-02T07:54:32.892870900Z",
     "start_time": "2024-02-02T07:54:32.551540500Z"
    }
   },
   "id": "2b1257110d2801ca",
   "execution_count": 46
  }
 ],
 "metadata": {
  "kernelspec": {
   "display_name": "Python 3",
   "language": "python",
   "name": "python3"
  },
  "language_info": {
   "codemirror_mode": {
    "name": "ipython",
    "version": 2
   },
   "file_extension": ".py",
   "mimetype": "text/x-python",
   "name": "python",
   "nbconvert_exporter": "python",
   "pygments_lexer": "ipython2",
   "version": "2.7.6"
  }
 },
 "nbformat": 4,
 "nbformat_minor": 5
}
