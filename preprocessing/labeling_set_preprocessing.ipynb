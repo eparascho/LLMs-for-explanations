{
 "cells": [
  {
   "cell_type": "markdown",
   "source": [
    "##### This notebook preprocesses a subset of the labeling features and creates a slightly revised version of the labeling set to be visualized.\n",
    "In more detail the features that are preprocessed are:\n",
    "1. bmi\n",
    "2. ecg\n",
    "3. heart_rate_alert\n",
    "4. nightly_temperature"
   ],
   "metadata": {
    "collapsed": false
   },
   "id": "4a2e6d92e740a70f"
  },
  {
   "cell_type": "code",
   "outputs": [],
   "source": [
    "import numpy as np\n",
    "import pandas as pd"
   ],
   "metadata": {
    "collapsed": false,
    "ExecuteTime": {
     "end_time": "2024-02-06T19:41:31.332576100Z",
     "start_time": "2024-02-06T19:41:31.280268100Z"
    }
   },
   "id": "5e8d38cf1f693eb1",
   "execution_count": 3
  },
  {
   "cell_type": "code",
   "outputs": [
    {
     "data": {
      "text/plain": "                              id       date  hour  ecg heart_rate_alert  \\\n0       621e2ff067b776a2403eb737 2021-12-22    19  NSR             NONE   \n1       621e2ff067b776a2403eb737 2021-11-18     0  NaN              NaN   \n2       621e2ff067b776a2403eb737 2021-11-18    21  NaN              NaN   \n3       621e2ff067b776a2403eb737 2021-11-20     0  NaN              NaN   \n4       621e2ff067b776a2403eb737 2021-11-20    23  NaN              NaN   \n...                          ...        ...   ...  ...              ...   \n165086  621e36f967b776a240e5e7c9 2021-05-20    16  NaN              NaN   \n165087  621e36f967b776a240e5e7c9 2021-05-20    20  NaN              NaN   \n165088  621e36f967b776a240e5e7c9 2021-05-21    17  NaN              NaN   \n165089  621e36f967b776a240e5e7c9 2021-05-21    22  NaN              NaN   \n165090  621e36f967b776a240e5e7c9 2021-05-22    18  NaN              NaN   \n\n       nightly_temperature  nremhr  spo2  rmssd  full_sleep_breathing_rate  \\\n0                      NaN     NaN   NaN    NaN                        NaN   \n1                 35.02573     NaN   NaN    NaN                        NaN   \n2                34.866951     NaN   NaN    NaN                        NaN   \n3                35.349583     NaN   NaN    NaN                        NaN   \n4                34.495486     NaN   NaN    NaN                        NaN   \n...                    ...     ...   ...    ...                        ...   \n165086                 NaN     NaN   NaN    NaN                        NaN   \n165087                 NaN     NaN   NaN    NaN                        NaN   \n165088                 NaN     NaN   NaN    NaN                        NaN   \n165089                 NaN     NaN   NaN    NaN                        NaN   \n165090                 NaN     NaN   NaN    NaN                        NaN   \n\n        ...  negative_affect_score  stai_stress  ttm_stage  \\\n0       ...                    NaN          NaN        NaN   \n1       ...                    NaN          NaN        NaN   \n2       ...                    NaN          NaN        NaN   \n3       ...                    NaN          NaN        NaN   \n4       ...                    NaN          NaN        NaN   \n...     ...                    ...          ...        ...   \n165086  ...                    NaN          NaN        NaN   \n165087  ...                    NaN          NaN        NaN   \n165088  ...                    NaN          NaN        NaN   \n165089  ...                    NaN          NaN        NaN   \n165090  ...                    NaN          NaN        NaN   \n\n        dramatic_relief_category  environmental_reevaluation_category  \\\n0                            NaN                                  NaN   \n1                            NaN                                  NaN   \n2                            NaN                                  NaN   \n3                            NaN                                  NaN   \n4                            NaN                                  NaN   \n...                          ...                                  ...   \n165086                       NaN                                  NaN   \n165087                       NaN                                  NaN   \n165088                       NaN                                  NaN   \n165089                       NaN                                  NaN   \n165090                       NaN                                  NaN   \n\n        self_reevaluation_category  social_liberation_category  \\\n0                              NaN                         NaN   \n1                              NaN                         NaN   \n2                              NaN                         NaN   \n3                              NaN                         NaN   \n4                              NaN                         NaN   \n...                            ...                         ...   \n165086                         NaN                         NaN   \n165087                         NaN                         NaN   \n165088                         NaN                         NaN   \n165089                         NaN                         NaN   \n165090                         NaN                         NaN   \n\n        reinforcement_management_category  self_liberation_category  \\\n0                                     NaN                       NaN   \n1                                     NaN                       NaN   \n2                                     NaN                       NaN   \n3                                     NaN                       NaN   \n4                                     NaN                       NaN   \n...                                   ...                       ...   \n165086                                NaN                       NaN   \n165087                                NaN                       NaN   \n165088                                NaN                       NaN   \n165089                                NaN                       NaN   \n165090                                NaN                       NaN   \n\n                  mood  \n0                  NaN  \n1                  NaN  \n2                  NaN  \n3                  NaN  \n4                  NaN  \n...                ...  \n165086           TIRED  \n165087  RESTED/RELAXED  \n165088           HAPPY  \n165089  RESTED/RELAXED  \n165090  RESTED/RELAXED  \n\n[165091 rows x 44 columns]",
      "text/html": "<div>\n<style scoped>\n    .dataframe tbody tr th:only-of-type {\n        vertical-align: middle;\n    }\n\n    .dataframe tbody tr th {\n        vertical-align: top;\n    }\n\n    .dataframe thead th {\n        text-align: right;\n    }\n</style>\n<table border=\"1\" class=\"dataframe\">\n  <thead>\n    <tr style=\"text-align: right;\">\n      <th></th>\n      <th>id</th>\n      <th>date</th>\n      <th>hour</th>\n      <th>ecg</th>\n      <th>heart_rate_alert</th>\n      <th>nightly_temperature</th>\n      <th>nremhr</th>\n      <th>spo2</th>\n      <th>rmssd</th>\n      <th>full_sleep_breathing_rate</th>\n      <th>...</th>\n      <th>negative_affect_score</th>\n      <th>stai_stress</th>\n      <th>ttm_stage</th>\n      <th>dramatic_relief_category</th>\n      <th>environmental_reevaluation_category</th>\n      <th>self_reevaluation_category</th>\n      <th>social_liberation_category</th>\n      <th>reinforcement_management_category</th>\n      <th>self_liberation_category</th>\n      <th>mood</th>\n    </tr>\n  </thead>\n  <tbody>\n    <tr>\n      <th>0</th>\n      <td>621e2ff067b776a2403eb737</td>\n      <td>2021-12-22</td>\n      <td>19</td>\n      <td>NSR</td>\n      <td>NONE</td>\n      <td>NaN</td>\n      <td>NaN</td>\n      <td>NaN</td>\n      <td>NaN</td>\n      <td>NaN</td>\n      <td>...</td>\n      <td>NaN</td>\n      <td>NaN</td>\n      <td>NaN</td>\n      <td>NaN</td>\n      <td>NaN</td>\n      <td>NaN</td>\n      <td>NaN</td>\n      <td>NaN</td>\n      <td>NaN</td>\n      <td>NaN</td>\n    </tr>\n    <tr>\n      <th>1</th>\n      <td>621e2ff067b776a2403eb737</td>\n      <td>2021-11-18</td>\n      <td>0</td>\n      <td>NaN</td>\n      <td>NaN</td>\n      <td>35.02573</td>\n      <td>NaN</td>\n      <td>NaN</td>\n      <td>NaN</td>\n      <td>NaN</td>\n      <td>...</td>\n      <td>NaN</td>\n      <td>NaN</td>\n      <td>NaN</td>\n      <td>NaN</td>\n      <td>NaN</td>\n      <td>NaN</td>\n      <td>NaN</td>\n      <td>NaN</td>\n      <td>NaN</td>\n      <td>NaN</td>\n    </tr>\n    <tr>\n      <th>2</th>\n      <td>621e2ff067b776a2403eb737</td>\n      <td>2021-11-18</td>\n      <td>21</td>\n      <td>NaN</td>\n      <td>NaN</td>\n      <td>34.866951</td>\n      <td>NaN</td>\n      <td>NaN</td>\n      <td>NaN</td>\n      <td>NaN</td>\n      <td>...</td>\n      <td>NaN</td>\n      <td>NaN</td>\n      <td>NaN</td>\n      <td>NaN</td>\n      <td>NaN</td>\n      <td>NaN</td>\n      <td>NaN</td>\n      <td>NaN</td>\n      <td>NaN</td>\n      <td>NaN</td>\n    </tr>\n    <tr>\n      <th>3</th>\n      <td>621e2ff067b776a2403eb737</td>\n      <td>2021-11-20</td>\n      <td>0</td>\n      <td>NaN</td>\n      <td>NaN</td>\n      <td>35.349583</td>\n      <td>NaN</td>\n      <td>NaN</td>\n      <td>NaN</td>\n      <td>NaN</td>\n      <td>...</td>\n      <td>NaN</td>\n      <td>NaN</td>\n      <td>NaN</td>\n      <td>NaN</td>\n      <td>NaN</td>\n      <td>NaN</td>\n      <td>NaN</td>\n      <td>NaN</td>\n      <td>NaN</td>\n      <td>NaN</td>\n    </tr>\n    <tr>\n      <th>4</th>\n      <td>621e2ff067b776a2403eb737</td>\n      <td>2021-11-20</td>\n      <td>23</td>\n      <td>NaN</td>\n      <td>NaN</td>\n      <td>34.495486</td>\n      <td>NaN</td>\n      <td>NaN</td>\n      <td>NaN</td>\n      <td>NaN</td>\n      <td>...</td>\n      <td>NaN</td>\n      <td>NaN</td>\n      <td>NaN</td>\n      <td>NaN</td>\n      <td>NaN</td>\n      <td>NaN</td>\n      <td>NaN</td>\n      <td>NaN</td>\n      <td>NaN</td>\n      <td>NaN</td>\n    </tr>\n    <tr>\n      <th>...</th>\n      <td>...</td>\n      <td>...</td>\n      <td>...</td>\n      <td>...</td>\n      <td>...</td>\n      <td>...</td>\n      <td>...</td>\n      <td>...</td>\n      <td>...</td>\n      <td>...</td>\n      <td>...</td>\n      <td>...</td>\n      <td>...</td>\n      <td>...</td>\n      <td>...</td>\n      <td>...</td>\n      <td>...</td>\n      <td>...</td>\n      <td>...</td>\n      <td>...</td>\n      <td>...</td>\n    </tr>\n    <tr>\n      <th>165086</th>\n      <td>621e36f967b776a240e5e7c9</td>\n      <td>2021-05-20</td>\n      <td>16</td>\n      <td>NaN</td>\n      <td>NaN</td>\n      <td>NaN</td>\n      <td>NaN</td>\n      <td>NaN</td>\n      <td>NaN</td>\n      <td>NaN</td>\n      <td>...</td>\n      <td>NaN</td>\n      <td>NaN</td>\n      <td>NaN</td>\n      <td>NaN</td>\n      <td>NaN</td>\n      <td>NaN</td>\n      <td>NaN</td>\n      <td>NaN</td>\n      <td>NaN</td>\n      <td>TIRED</td>\n    </tr>\n    <tr>\n      <th>165087</th>\n      <td>621e36f967b776a240e5e7c9</td>\n      <td>2021-05-20</td>\n      <td>20</td>\n      <td>NaN</td>\n      <td>NaN</td>\n      <td>NaN</td>\n      <td>NaN</td>\n      <td>NaN</td>\n      <td>NaN</td>\n      <td>NaN</td>\n      <td>...</td>\n      <td>NaN</td>\n      <td>NaN</td>\n      <td>NaN</td>\n      <td>NaN</td>\n      <td>NaN</td>\n      <td>NaN</td>\n      <td>NaN</td>\n      <td>NaN</td>\n      <td>NaN</td>\n      <td>RESTED/RELAXED</td>\n    </tr>\n    <tr>\n      <th>165088</th>\n      <td>621e36f967b776a240e5e7c9</td>\n      <td>2021-05-21</td>\n      <td>17</td>\n      <td>NaN</td>\n      <td>NaN</td>\n      <td>NaN</td>\n      <td>NaN</td>\n      <td>NaN</td>\n      <td>NaN</td>\n      <td>NaN</td>\n      <td>...</td>\n      <td>NaN</td>\n      <td>NaN</td>\n      <td>NaN</td>\n      <td>NaN</td>\n      <td>NaN</td>\n      <td>NaN</td>\n      <td>NaN</td>\n      <td>NaN</td>\n      <td>NaN</td>\n      <td>HAPPY</td>\n    </tr>\n    <tr>\n      <th>165089</th>\n      <td>621e36f967b776a240e5e7c9</td>\n      <td>2021-05-21</td>\n      <td>22</td>\n      <td>NaN</td>\n      <td>NaN</td>\n      <td>NaN</td>\n      <td>NaN</td>\n      <td>NaN</td>\n      <td>NaN</td>\n      <td>NaN</td>\n      <td>...</td>\n      <td>NaN</td>\n      <td>NaN</td>\n      <td>NaN</td>\n      <td>NaN</td>\n      <td>NaN</td>\n      <td>NaN</td>\n      <td>NaN</td>\n      <td>NaN</td>\n      <td>NaN</td>\n      <td>RESTED/RELAXED</td>\n    </tr>\n    <tr>\n      <th>165090</th>\n      <td>621e36f967b776a240e5e7c9</td>\n      <td>2021-05-22</td>\n      <td>18</td>\n      <td>NaN</td>\n      <td>NaN</td>\n      <td>NaN</td>\n      <td>NaN</td>\n      <td>NaN</td>\n      <td>NaN</td>\n      <td>NaN</td>\n      <td>...</td>\n      <td>NaN</td>\n      <td>NaN</td>\n      <td>NaN</td>\n      <td>NaN</td>\n      <td>NaN</td>\n      <td>NaN</td>\n      <td>NaN</td>\n      <td>NaN</td>\n      <td>NaN</td>\n      <td>RESTED/RELAXED</td>\n    </tr>\n  </tbody>\n</table>\n<p>165091 rows × 44 columns</p>\n</div>"
     },
     "execution_count": 13,
     "metadata": {},
     "output_type": "execute_result"
    }
   ],
   "source": [
    "data = pd.read_pickle('../data/preprocessing_final/labeling_df_unprocessed.pkl')\n",
    "data"
   ],
   "metadata": {
    "collapsed": false,
    "ExecuteTime": {
     "end_time": "2024-02-06T19:54:33.864364600Z",
     "start_time": "2024-02-06T19:54:33.154078400Z"
    }
   },
   "id": "9e6ecafefe86260a",
   "execution_count": 13
  },
  {
   "cell_type": "markdown",
   "source": [
    "#### 1. bmi"
   ],
   "metadata": {
    "collapsed": false
   },
   "id": "a7417cccf73e7ca5"
  },
  {
   "cell_type": "code",
   "outputs": [
    {
     "data": {
      "text/plain": "                              id       date  hour  ecg heart_rate_alert  \\\n0       621e2ff067b776a2403eb737 2021-12-22    19  NSR             NONE   \n1       621e2ff067b776a2403eb737 2021-11-18     0  NaN              NaN   \n2       621e2ff067b776a2403eb737 2021-11-18    21  NaN              NaN   \n3       621e2ff067b776a2403eb737 2021-11-20     0  NaN              NaN   \n4       621e2ff067b776a2403eb737 2021-11-20    23  NaN              NaN   \n...                          ...        ...   ...  ...              ...   \n165086  621e36f967b776a240e5e7c9 2021-05-20    16  NaN              NaN   \n165087  621e36f967b776a240e5e7c9 2021-05-20    20  NaN              NaN   \n165088  621e36f967b776a240e5e7c9 2021-05-21    17  NaN              NaN   \n165089  621e36f967b776a240e5e7c9 2021-05-21    22  NaN              NaN   \n165090  621e36f967b776a240e5e7c9 2021-05-22    18  NaN              NaN   \n\n       nightly_temperature  nremhr  spo2  rmssd  full_sleep_breathing_rate  \\\n0                      NaN     NaN   NaN    NaN                        NaN   \n1                 35.02573     NaN   NaN    NaN                        NaN   \n2                34.866951     NaN   NaN    NaN                        NaN   \n3                35.349583     NaN   NaN    NaN                        NaN   \n4                34.495486     NaN   NaN    NaN                        NaN   \n...                    ...     ...   ...    ...                        ...   \n165086                 NaN     NaN   NaN    NaN                        NaN   \n165087                 NaN     NaN   NaN    NaN                        NaN   \n165088                 NaN     NaN   NaN    NaN                        NaN   \n165089                 NaN     NaN   NaN    NaN                        NaN   \n165090                 NaN     NaN   NaN    NaN                        NaN   \n\n        ...  negative_affect_score  stai_stress  ttm_stage  \\\n0       ...                    NaN          NaN        NaN   \n1       ...                    NaN          NaN        NaN   \n2       ...                    NaN          NaN        NaN   \n3       ...                    NaN          NaN        NaN   \n4       ...                    NaN          NaN        NaN   \n...     ...                    ...          ...        ...   \n165086  ...                    NaN          NaN        NaN   \n165087  ...                    NaN          NaN        NaN   \n165088  ...                    NaN          NaN        NaN   \n165089  ...                    NaN          NaN        NaN   \n165090  ...                    NaN          NaN        NaN   \n\n        dramatic_relief_category  environmental_reevaluation_category  \\\n0                            NaN                                  NaN   \n1                            NaN                                  NaN   \n2                            NaN                                  NaN   \n3                            NaN                                  NaN   \n4                            NaN                                  NaN   \n...                          ...                                  ...   \n165086                       NaN                                  NaN   \n165087                       NaN                                  NaN   \n165088                       NaN                                  NaN   \n165089                       NaN                                  NaN   \n165090                       NaN                                  NaN   \n\n        self_reevaluation_category  social_liberation_category  \\\n0                              NaN                         NaN   \n1                              NaN                         NaN   \n2                              NaN                         NaN   \n3                              NaN                         NaN   \n4                              NaN                         NaN   \n...                            ...                         ...   \n165086                         NaN                         NaN   \n165087                         NaN                         NaN   \n165088                         NaN                         NaN   \n165089                         NaN                         NaN   \n165090                         NaN                         NaN   \n\n        reinforcement_management_category  self_liberation_category  \\\n0                                     NaN                       NaN   \n1                                     NaN                       NaN   \n2                                     NaN                       NaN   \n3                                     NaN                       NaN   \n4                                     NaN                       NaN   \n...                                   ...                       ...   \n165086                                NaN                       NaN   \n165087                                NaN                       NaN   \n165088                                NaN                       NaN   \n165089                                NaN                       NaN   \n165090                                NaN                       NaN   \n\n                  mood  \n0                  NaN  \n1                  NaN  \n2                  NaN  \n3                  NaN  \n4                  NaN  \n...                ...  \n165086           TIRED  \n165087  RESTED/RELAXED  \n165088           HAPPY  \n165089  RESTED/RELAXED  \n165090  RESTED/RELAXED  \n\n[165091 rows x 44 columns]",
      "text/html": "<div>\n<style scoped>\n    .dataframe tbody tr th:only-of-type {\n        vertical-align: middle;\n    }\n\n    .dataframe tbody tr th {\n        vertical-align: top;\n    }\n\n    .dataframe thead th {\n        text-align: right;\n    }\n</style>\n<table border=\"1\" class=\"dataframe\">\n  <thead>\n    <tr style=\"text-align: right;\">\n      <th></th>\n      <th>id</th>\n      <th>date</th>\n      <th>hour</th>\n      <th>ecg</th>\n      <th>heart_rate_alert</th>\n      <th>nightly_temperature</th>\n      <th>nremhr</th>\n      <th>spo2</th>\n      <th>rmssd</th>\n      <th>full_sleep_breathing_rate</th>\n      <th>...</th>\n      <th>negative_affect_score</th>\n      <th>stai_stress</th>\n      <th>ttm_stage</th>\n      <th>dramatic_relief_category</th>\n      <th>environmental_reevaluation_category</th>\n      <th>self_reevaluation_category</th>\n      <th>social_liberation_category</th>\n      <th>reinforcement_management_category</th>\n      <th>self_liberation_category</th>\n      <th>mood</th>\n    </tr>\n  </thead>\n  <tbody>\n    <tr>\n      <th>0</th>\n      <td>621e2ff067b776a2403eb737</td>\n      <td>2021-12-22</td>\n      <td>19</td>\n      <td>NSR</td>\n      <td>NONE</td>\n      <td>NaN</td>\n      <td>NaN</td>\n      <td>NaN</td>\n      <td>NaN</td>\n      <td>NaN</td>\n      <td>...</td>\n      <td>NaN</td>\n      <td>NaN</td>\n      <td>NaN</td>\n      <td>NaN</td>\n      <td>NaN</td>\n      <td>NaN</td>\n      <td>NaN</td>\n      <td>NaN</td>\n      <td>NaN</td>\n      <td>NaN</td>\n    </tr>\n    <tr>\n      <th>1</th>\n      <td>621e2ff067b776a2403eb737</td>\n      <td>2021-11-18</td>\n      <td>0</td>\n      <td>NaN</td>\n      <td>NaN</td>\n      <td>35.02573</td>\n      <td>NaN</td>\n      <td>NaN</td>\n      <td>NaN</td>\n      <td>NaN</td>\n      <td>...</td>\n      <td>NaN</td>\n      <td>NaN</td>\n      <td>NaN</td>\n      <td>NaN</td>\n      <td>NaN</td>\n      <td>NaN</td>\n      <td>NaN</td>\n      <td>NaN</td>\n      <td>NaN</td>\n      <td>NaN</td>\n    </tr>\n    <tr>\n      <th>2</th>\n      <td>621e2ff067b776a2403eb737</td>\n      <td>2021-11-18</td>\n      <td>21</td>\n      <td>NaN</td>\n      <td>NaN</td>\n      <td>34.866951</td>\n      <td>NaN</td>\n      <td>NaN</td>\n      <td>NaN</td>\n      <td>NaN</td>\n      <td>...</td>\n      <td>NaN</td>\n      <td>NaN</td>\n      <td>NaN</td>\n      <td>NaN</td>\n      <td>NaN</td>\n      <td>NaN</td>\n      <td>NaN</td>\n      <td>NaN</td>\n      <td>NaN</td>\n      <td>NaN</td>\n    </tr>\n    <tr>\n      <th>3</th>\n      <td>621e2ff067b776a2403eb737</td>\n      <td>2021-11-20</td>\n      <td>0</td>\n      <td>NaN</td>\n      <td>NaN</td>\n      <td>35.349583</td>\n      <td>NaN</td>\n      <td>NaN</td>\n      <td>NaN</td>\n      <td>NaN</td>\n      <td>...</td>\n      <td>NaN</td>\n      <td>NaN</td>\n      <td>NaN</td>\n      <td>NaN</td>\n      <td>NaN</td>\n      <td>NaN</td>\n      <td>NaN</td>\n      <td>NaN</td>\n      <td>NaN</td>\n      <td>NaN</td>\n    </tr>\n    <tr>\n      <th>4</th>\n      <td>621e2ff067b776a2403eb737</td>\n      <td>2021-11-20</td>\n      <td>23</td>\n      <td>NaN</td>\n      <td>NaN</td>\n      <td>34.495486</td>\n      <td>NaN</td>\n      <td>NaN</td>\n      <td>NaN</td>\n      <td>NaN</td>\n      <td>...</td>\n      <td>NaN</td>\n      <td>NaN</td>\n      <td>NaN</td>\n      <td>NaN</td>\n      <td>NaN</td>\n      <td>NaN</td>\n      <td>NaN</td>\n      <td>NaN</td>\n      <td>NaN</td>\n      <td>NaN</td>\n    </tr>\n    <tr>\n      <th>...</th>\n      <td>...</td>\n      <td>...</td>\n      <td>...</td>\n      <td>...</td>\n      <td>...</td>\n      <td>...</td>\n      <td>...</td>\n      <td>...</td>\n      <td>...</td>\n      <td>...</td>\n      <td>...</td>\n      <td>...</td>\n      <td>...</td>\n      <td>...</td>\n      <td>...</td>\n      <td>...</td>\n      <td>...</td>\n      <td>...</td>\n      <td>...</td>\n      <td>...</td>\n      <td>...</td>\n    </tr>\n    <tr>\n      <th>165086</th>\n      <td>621e36f967b776a240e5e7c9</td>\n      <td>2021-05-20</td>\n      <td>16</td>\n      <td>NaN</td>\n      <td>NaN</td>\n      <td>NaN</td>\n      <td>NaN</td>\n      <td>NaN</td>\n      <td>NaN</td>\n      <td>NaN</td>\n      <td>...</td>\n      <td>NaN</td>\n      <td>NaN</td>\n      <td>NaN</td>\n      <td>NaN</td>\n      <td>NaN</td>\n      <td>NaN</td>\n      <td>NaN</td>\n      <td>NaN</td>\n      <td>NaN</td>\n      <td>TIRED</td>\n    </tr>\n    <tr>\n      <th>165087</th>\n      <td>621e36f967b776a240e5e7c9</td>\n      <td>2021-05-20</td>\n      <td>20</td>\n      <td>NaN</td>\n      <td>NaN</td>\n      <td>NaN</td>\n      <td>NaN</td>\n      <td>NaN</td>\n      <td>NaN</td>\n      <td>NaN</td>\n      <td>...</td>\n      <td>NaN</td>\n      <td>NaN</td>\n      <td>NaN</td>\n      <td>NaN</td>\n      <td>NaN</td>\n      <td>NaN</td>\n      <td>NaN</td>\n      <td>NaN</td>\n      <td>NaN</td>\n      <td>RESTED/RELAXED</td>\n    </tr>\n    <tr>\n      <th>165088</th>\n      <td>621e36f967b776a240e5e7c9</td>\n      <td>2021-05-21</td>\n      <td>17</td>\n      <td>NaN</td>\n      <td>NaN</td>\n      <td>NaN</td>\n      <td>NaN</td>\n      <td>NaN</td>\n      <td>NaN</td>\n      <td>NaN</td>\n      <td>...</td>\n      <td>NaN</td>\n      <td>NaN</td>\n      <td>NaN</td>\n      <td>NaN</td>\n      <td>NaN</td>\n      <td>NaN</td>\n      <td>NaN</td>\n      <td>NaN</td>\n      <td>NaN</td>\n      <td>HAPPY</td>\n    </tr>\n    <tr>\n      <th>165089</th>\n      <td>621e36f967b776a240e5e7c9</td>\n      <td>2021-05-21</td>\n      <td>22</td>\n      <td>NaN</td>\n      <td>NaN</td>\n      <td>NaN</td>\n      <td>NaN</td>\n      <td>NaN</td>\n      <td>NaN</td>\n      <td>NaN</td>\n      <td>...</td>\n      <td>NaN</td>\n      <td>NaN</td>\n      <td>NaN</td>\n      <td>NaN</td>\n      <td>NaN</td>\n      <td>NaN</td>\n      <td>NaN</td>\n      <td>NaN</td>\n      <td>NaN</td>\n      <td>RESTED/RELAXED</td>\n    </tr>\n    <tr>\n      <th>165090</th>\n      <td>621e36f967b776a240e5e7c9</td>\n      <td>2021-05-22</td>\n      <td>18</td>\n      <td>NaN</td>\n      <td>NaN</td>\n      <td>NaN</td>\n      <td>NaN</td>\n      <td>NaN</td>\n      <td>NaN</td>\n      <td>NaN</td>\n      <td>...</td>\n      <td>NaN</td>\n      <td>NaN</td>\n      <td>NaN</td>\n      <td>NaN</td>\n      <td>NaN</td>\n      <td>NaN</td>\n      <td>NaN</td>\n      <td>NaN</td>\n      <td>NaN</td>\n      <td>RESTED/RELAXED</td>\n    </tr>\n  </tbody>\n</table>\n<p>165091 rows × 44 columns</p>\n</div>"
     },
     "execution_count": 14,
     "metadata": {},
     "output_type": "execute_result"
    }
   ],
   "source": [
    "# bmi is converted into a categorical feature with 4 values (0: Underweight, 1: Normal, 2: Overweight, 3: Obese)\n",
    "data['bmi'] = data['bmi'].fillna(data['bmi'].mode().iloc[0])\n",
    "data[\"bmi\"] = data[\"bmi\"].apply(lambda x: 31.0 if x == '>=30' else x)\n",
    "data[\"bmi\"] = data[\"bmi\"].apply(lambda x: 18.0 if x == '<19' else x)\n",
    "data[\"bmi\"] = data[\"bmi\"].apply(lambda x: 26.0 if x == '>=25' else x)  # it belongs to overweight\n",
    "data[\"bmi\"] = data[\"bmi\"].apply(lambda x: 31 if x == '>=30' else x)\n",
    "data['bmi'] = data.bmi.apply(lambda bmi: 'Underweight' if bmi < 18.5 else ('Normal' if bmi < 25 else ('Overweight' if bmi < 30 else 'Obese')))\n",
    "data"
   ],
   "metadata": {
    "collapsed": false,
    "ExecuteTime": {
     "end_time": "2024-02-06T19:54:40.902165100Z",
     "start_time": "2024-02-06T19:54:40.566377100Z"
    }
   },
   "id": "f0f52e8e98b521fe",
   "execution_count": 14
  },
  {
   "cell_type": "markdown",
   "source": [
    "#### 2. ecg"
   ],
   "metadata": {
    "collapsed": false
   },
   "id": "2cda86a59cc8834e"
  },
  {
   "cell_type": "code",
   "outputs": [
    {
     "data": {
      "text/plain": "NSR                                 68\n[UNCLASSIFIABLE, UNCLASSIFIABLE]     1\nUNCLASSIFIABLE                       1\nName: ecg, dtype: int64"
     },
     "execution_count": 15,
     "metadata": {},
     "output_type": "execute_result"
    }
   ],
   "source": [
    "data['ecg'].value_counts()"
   ],
   "metadata": {
    "collapsed": false,
    "ExecuteTime": {
     "end_time": "2024-02-06T19:54:45.101874100Z",
     "start_time": "2024-02-06T19:54:45.068750500Z"
    }
   },
   "id": "d7bab76bf5c3297b",
   "execution_count": 15
  },
  {
   "cell_type": "code",
   "outputs": [
    {
     "data": {
      "text/plain": "NSR               68\nUNCLASSIFIABLE     2\nName: ecg, dtype: int64"
     },
     "execution_count": 16,
     "metadata": {},
     "output_type": "execute_result"
    }
   ],
   "source": [
    "for index, row in data.iterrows():\n",
    "        if isinstance(data.at[index, 'ecg'], np.ndarray):\n",
    "            data.at[index, 'ecg'] = 'UNCLASSIFIABLE'\n",
    "data['ecg'].value_counts()"
   ],
   "metadata": {
    "collapsed": false,
    "ExecuteTime": {
     "end_time": "2024-02-06T19:54:52.276621100Z",
     "start_time": "2024-02-06T19:54:46.292168400Z"
    }
   },
   "id": "5ad95343370ca8df",
   "execution_count": 16
  },
  {
   "cell_type": "markdown",
   "source": [
    "#### 3. heart_rate_alert"
   ],
   "metadata": {
    "collapsed": false
   },
   "id": "faa35df375c18dac"
  },
  {
   "cell_type": "code",
   "outputs": [
    {
     "data": {
      "text/plain": "NONE              68\n[NONE, LOW_HR]     1\nLOW_HR             1\nName: heart_rate_alert, dtype: int64"
     },
     "execution_count": 17,
     "metadata": {},
     "output_type": "execute_result"
    }
   ],
   "source": [
    "data['heart_rate_alert'].value_counts()"
   ],
   "metadata": {
    "collapsed": false,
    "ExecuteTime": {
     "end_time": "2024-02-06T19:54:54.351470400Z",
     "start_time": "2024-02-06T19:54:54.324724200Z"
    }
   },
   "id": "2e0c17e684a425ec",
   "execution_count": 17
  },
  {
   "cell_type": "code",
   "outputs": [
    {
     "data": {
      "text/plain": "NONE      68\nLOW_HR     2\nName: heart_rate_alert, dtype: int64"
     },
     "execution_count": 18,
     "metadata": {},
     "output_type": "execute_result"
    }
   ],
   "source": [
    "for index, row in data.iterrows():\n",
    "        if isinstance(data.at[index, 'heart_rate_alert'], np.ndarray):\n",
    "            data.at[index, 'heart_rate_alert'] = 'LOW_HR'\n",
    "data['heart_rate_alert'].value_counts()"
   ],
   "metadata": {
    "collapsed": false,
    "ExecuteTime": {
     "end_time": "2024-02-06T19:55:01.764205Z",
     "start_time": "2024-02-06T19:54:55.814731Z"
    }
   },
   "id": "4a237d64cfde793c",
   "execution_count": 18
  },
  {
   "cell_type": "markdown",
   "source": [
    "#### 4. nightly_temperature"
   ],
   "metadata": {
    "collapsed": false
   },
   "id": "3d174fc0178071c7"
  },
  {
   "cell_type": "code",
   "outputs": [
    {
     "data": {
      "text/plain": "32.702906    2\n33.254289    2\n34.022489    2\n33.926760    2\n33.300426    2\n            ..\n33.345872    1\n34.409266    1\n32.952437    1\n33.654396    1\n34.571786    1\nName: nightly_temperature, Length: 3292, dtype: int64"
     },
     "execution_count": 19,
     "metadata": {},
     "output_type": "execute_result"
    }
   ],
   "source": [
    "data['nightly_temperature'].value_counts()"
   ],
   "metadata": {
    "collapsed": false,
    "ExecuteTime": {
     "end_time": "2024-02-06T19:55:13.189564700Z",
     "start_time": "2024-02-06T19:55:13.103789400Z"
    }
   },
   "id": "4e72df561718ecd3",
   "execution_count": 19
  },
  {
   "cell_type": "code",
   "outputs": [],
   "source": [
    "for index, row in data.iterrows():\n",
    "        if isinstance(data.at[index, 'nightly_temperature'], np.ndarray):\n",
    "            mean_value = np.nanmean(data.at[index, 'nightly_temperature'])\n",
    "            data.at[index, 'nightly_temperature'] = mean_value"
   ],
   "metadata": {
    "collapsed": false,
    "ExecuteTime": {
     "end_time": "2024-02-06T19:55:20.684734300Z",
     "start_time": "2024-02-06T19:55:14.617307800Z"
    }
   },
   "id": "7e4c5ae201b5636b",
   "execution_count": 20
  },
  {
   "cell_type": "code",
   "outputs": [],
   "source": [
    "data.to_pickle('../data/preprocessing_final/labeling_df_processed.pkl')"
   ],
   "metadata": {
    "collapsed": false,
    "ExecuteTime": {
     "end_time": "2024-02-06T19:55:48.324396600Z",
     "start_time": "2024-02-06T19:55:48.134122900Z"
    }
   },
   "id": "2b1257110d2801ca",
   "execution_count": 21
  }
 ],
 "metadata": {
  "kernelspec": {
   "display_name": "Python 3",
   "language": "python",
   "name": "python3"
  },
  "language_info": {
   "codemirror_mode": {
    "name": "ipython",
    "version": 2
   },
   "file_extension": ".py",
   "mimetype": "text/x-python",
   "name": "python",
   "nbconvert_exporter": "python",
   "pygments_lexer": "ipython2",
   "version": "2.7.6"
  }
 },
 "nbformat": 4,
 "nbformat_minor": 5
}
