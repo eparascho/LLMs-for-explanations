{
 "cells": [
  {
   "cell_type": "markdown",
   "source": [
    "##### This notebook preprocesses the initial training set and creates a cleaned version of the training set to be provided to the clustering algorithm.\n",
    "In more detail it contains the following steps:\n",
    "1. It encodes features (e.g., with one-hot encoding and binary-encoding) that contain series as values\n",
    "2. It runs dataprep and identifies basic preprocessing\n",
    "3. It implements basic preprocessing actions on the corresponding features\n",
    "3. It implements preprocessing on the different features' granularity\n",
    "4. It identifies and reports the preprocessing actions need per each feature individually\n",
    "4. It drops features that exceed a specific NaN threshold\n",
    "5. It drops users that exceed a specific NaN threshold\n",
    "6. It implements the preprocessing actions identified on step 2\n"
   ],
   "metadata": {
    "collapsed": false,
    "pycharm": {
     "name": "#%% md\n"
    }
   }
  },
  {
   "cell_type": "code",
   "execution_count": 57,
   "outputs": [],
   "source": [
    "import warnings\n",
    "import numpy as np\n",
    "import pandas as pd\n",
    "from dataprep.eda import create_report\n",
    "from functions import training_set_preprocessing\n",
    "\n",
    "warnings.filterwarnings(\"ignore\")"
   ],
   "metadata": {
    "collapsed": false,
    "pycharm": {
     "name": "#%%\n"
    }
   }
  },
  {
   "cell_type": "markdown",
   "source": [
    "Load the initial training set"
   ],
   "metadata": {
    "collapsed": false,
    "pycharm": {
     "name": "#%% md\n"
    }
   }
  },
  {
   "cell_type": "code",
   "execution_count": 63,
   "outputs": [
    {
     "data": {
      "text/plain": "                              id       date  hour  sleep_points  \\\n0       621e2ff067b776a2403eb737 2021-12-22    19           NaN   \n1       621e2ff067b776a2403eb737 2021-11-18     0           NaN   \n2       621e2ff067b776a2403eb737 2021-11-18    21           NaN   \n3       621e2ff067b776a2403eb737 2021-11-20     0           NaN   \n4       621e2ff067b776a2403eb737 2021-11-20    23           NaN   \n...                          ...        ...   ...           ...   \n165086  621e36f967b776a240e5e7c9 2021-05-20    16           NaN   \n165087  621e36f967b776a240e5e7c9 2021-05-20    20           NaN   \n165088  621e36f967b776a240e5e7c9 2021-05-21    17           NaN   \n165089  621e36f967b776a240e5e7c9 2021-05-21    22           NaN   \n165090  621e36f967b776a240e5e7c9 2021-05-22    18           NaN   \n\n        exertion_points  altitude badge_type badge_value  calories  distance  \\\n0                   NaN      10.0        NaN         NaN     27.35   19650.0   \n1                   NaN       NaN        NaN         NaN      2.35       0.0   \n2                   NaN      20.0        NaN         NaN     44.50   26880.0   \n3                   NaN      20.0        NaN         NaN     46.06   32050.0   \n4                   NaN       NaN        NaN         NaN      2.35       0.0   \n...                 ...       ...        ...         ...       ...       ...   \n165086              NaN       NaN        NaN         NaN       NaN       NaN   \n165087              NaN       NaN        NaN         NaN       NaN       NaN   \n165088              NaN       NaN        NaN         NaN       NaN       NaN   \n165089              NaN       NaN        NaN         NaN       NaN       NaN   \n165090              NaN       NaN        NaN         NaN       NaN       NaN   \n\n        ...  minutes_after_wakeup  time_in_bed  sleep_efficiency  main_sleep  \\\n0       ...                   NaN          NaN               NaN         NaN   \n1       ...                   NaN          NaN               NaN         NaN   \n2       ...                   NaN          NaN               NaN         NaN   \n3       ...                   NaN          NaN               NaN         NaN   \n4       ...                   NaN          NaN               NaN         NaN   \n...     ...                   ...          ...               ...         ...   \n165086  ...                   NaN          NaN               NaN         NaN   \n165087  ...                   NaN          NaN               NaN         NaN   \n165088  ...                   NaN          NaN               NaN         NaN   \n165089  ...                   NaN          NaN               NaN         NaN   \n165090  ...                   NaN          NaN               NaN         NaN   \n\n        consciousness_raising_category  counterconditioning_category  \\\n0                                  NaN                           NaN   \n1                                  NaN                           NaN   \n2                                  NaN                           NaN   \n3                                  NaN                           NaN   \n4                                  NaN                           NaN   \n...                                ...                           ...   \n165086                             NaN                           NaN   \n165087                             NaN                           NaN   \n165088                             NaN                           NaN   \n165089                             NaN                           NaN   \n165090                             NaN                           NaN   \n\n        helping_relationships_category  stimulus_control_category  step_goal  \\\n0                                  NaN                        NaN        NaN   \n1                                  NaN                        NaN        NaN   \n2                                  NaN                        NaN        NaN   \n3                                  NaN                        NaN        NaN   \n4                                  NaN                        NaN        NaN   \n...                                ...                        ...        ...   \n165086                             NaN                        NaN        NaN   \n165087                             NaN                        NaN        NaN   \n165088                             NaN                        NaN        NaN   \n165089                             NaN                        NaN        NaN   \n165090                             NaN                        NaN        NaN   \n\n              place  \n0               NaN  \n1               NaN  \n2               NaN  \n3               NaN  \n4               NaN  \n...             ...  \n165086  WORK/SCHOOL  \n165087         HOME  \n165088      TRANSIT  \n165089         HOME  \n165090         HOME  \n\n[165091 rows x 56 columns]",
      "text/html": "<div>\n<style scoped>\n    .dataframe tbody tr th:only-of-type {\n        vertical-align: middle;\n    }\n\n    .dataframe tbody tr th {\n        vertical-align: top;\n    }\n\n    .dataframe thead th {\n        text-align: right;\n    }\n</style>\n<table border=\"1\" class=\"dataframe\">\n  <thead>\n    <tr style=\"text-align: right;\">\n      <th></th>\n      <th>id</th>\n      <th>date</th>\n      <th>hour</th>\n      <th>sleep_points</th>\n      <th>exertion_points</th>\n      <th>altitude</th>\n      <th>badge_type</th>\n      <th>badge_value</th>\n      <th>calories</th>\n      <th>distance</th>\n      <th>...</th>\n      <th>minutes_after_wakeup</th>\n      <th>time_in_bed</th>\n      <th>sleep_efficiency</th>\n      <th>main_sleep</th>\n      <th>consciousness_raising_category</th>\n      <th>counterconditioning_category</th>\n      <th>helping_relationships_category</th>\n      <th>stimulus_control_category</th>\n      <th>step_goal</th>\n      <th>place</th>\n    </tr>\n  </thead>\n  <tbody>\n    <tr>\n      <th>0</th>\n      <td>621e2ff067b776a2403eb737</td>\n      <td>2021-12-22</td>\n      <td>19</td>\n      <td>NaN</td>\n      <td>NaN</td>\n      <td>10.0</td>\n      <td>NaN</td>\n      <td>NaN</td>\n      <td>27.35</td>\n      <td>19650.0</td>\n      <td>...</td>\n      <td>NaN</td>\n      <td>NaN</td>\n      <td>NaN</td>\n      <td>NaN</td>\n      <td>NaN</td>\n      <td>NaN</td>\n      <td>NaN</td>\n      <td>NaN</td>\n      <td>NaN</td>\n      <td>NaN</td>\n    </tr>\n    <tr>\n      <th>1</th>\n      <td>621e2ff067b776a2403eb737</td>\n      <td>2021-11-18</td>\n      <td>0</td>\n      <td>NaN</td>\n      <td>NaN</td>\n      <td>NaN</td>\n      <td>NaN</td>\n      <td>NaN</td>\n      <td>2.35</td>\n      <td>0.0</td>\n      <td>...</td>\n      <td>NaN</td>\n      <td>NaN</td>\n      <td>NaN</td>\n      <td>NaN</td>\n      <td>NaN</td>\n      <td>NaN</td>\n      <td>NaN</td>\n      <td>NaN</td>\n      <td>NaN</td>\n      <td>NaN</td>\n    </tr>\n    <tr>\n      <th>2</th>\n      <td>621e2ff067b776a2403eb737</td>\n      <td>2021-11-18</td>\n      <td>21</td>\n      <td>NaN</td>\n      <td>NaN</td>\n      <td>20.0</td>\n      <td>NaN</td>\n      <td>NaN</td>\n      <td>44.50</td>\n      <td>26880.0</td>\n      <td>...</td>\n      <td>NaN</td>\n      <td>NaN</td>\n      <td>NaN</td>\n      <td>NaN</td>\n      <td>NaN</td>\n      <td>NaN</td>\n      <td>NaN</td>\n      <td>NaN</td>\n      <td>NaN</td>\n      <td>NaN</td>\n    </tr>\n    <tr>\n      <th>3</th>\n      <td>621e2ff067b776a2403eb737</td>\n      <td>2021-11-20</td>\n      <td>0</td>\n      <td>NaN</td>\n      <td>NaN</td>\n      <td>20.0</td>\n      <td>NaN</td>\n      <td>NaN</td>\n      <td>46.06</td>\n      <td>32050.0</td>\n      <td>...</td>\n      <td>NaN</td>\n      <td>NaN</td>\n      <td>NaN</td>\n      <td>NaN</td>\n      <td>NaN</td>\n      <td>NaN</td>\n      <td>NaN</td>\n      <td>NaN</td>\n      <td>NaN</td>\n      <td>NaN</td>\n    </tr>\n    <tr>\n      <th>4</th>\n      <td>621e2ff067b776a2403eb737</td>\n      <td>2021-11-20</td>\n      <td>23</td>\n      <td>NaN</td>\n      <td>NaN</td>\n      <td>NaN</td>\n      <td>NaN</td>\n      <td>NaN</td>\n      <td>2.35</td>\n      <td>0.0</td>\n      <td>...</td>\n      <td>NaN</td>\n      <td>NaN</td>\n      <td>NaN</td>\n      <td>NaN</td>\n      <td>NaN</td>\n      <td>NaN</td>\n      <td>NaN</td>\n      <td>NaN</td>\n      <td>NaN</td>\n      <td>NaN</td>\n    </tr>\n    <tr>\n      <th>...</th>\n      <td>...</td>\n      <td>...</td>\n      <td>...</td>\n      <td>...</td>\n      <td>...</td>\n      <td>...</td>\n      <td>...</td>\n      <td>...</td>\n      <td>...</td>\n      <td>...</td>\n      <td>...</td>\n      <td>...</td>\n      <td>...</td>\n      <td>...</td>\n      <td>...</td>\n      <td>...</td>\n      <td>...</td>\n      <td>...</td>\n      <td>...</td>\n      <td>...</td>\n      <td>...</td>\n    </tr>\n    <tr>\n      <th>165086</th>\n      <td>621e36f967b776a240e5e7c9</td>\n      <td>2021-05-20</td>\n      <td>16</td>\n      <td>NaN</td>\n      <td>NaN</td>\n      <td>NaN</td>\n      <td>NaN</td>\n      <td>NaN</td>\n      <td>NaN</td>\n      <td>NaN</td>\n      <td>...</td>\n      <td>NaN</td>\n      <td>NaN</td>\n      <td>NaN</td>\n      <td>NaN</td>\n      <td>NaN</td>\n      <td>NaN</td>\n      <td>NaN</td>\n      <td>NaN</td>\n      <td>NaN</td>\n      <td>WORK/SCHOOL</td>\n    </tr>\n    <tr>\n      <th>165087</th>\n      <td>621e36f967b776a240e5e7c9</td>\n      <td>2021-05-20</td>\n      <td>20</td>\n      <td>NaN</td>\n      <td>NaN</td>\n      <td>NaN</td>\n      <td>NaN</td>\n      <td>NaN</td>\n      <td>NaN</td>\n      <td>NaN</td>\n      <td>...</td>\n      <td>NaN</td>\n      <td>NaN</td>\n      <td>NaN</td>\n      <td>NaN</td>\n      <td>NaN</td>\n      <td>NaN</td>\n      <td>NaN</td>\n      <td>NaN</td>\n      <td>NaN</td>\n      <td>HOME</td>\n    </tr>\n    <tr>\n      <th>165088</th>\n      <td>621e36f967b776a240e5e7c9</td>\n      <td>2021-05-21</td>\n      <td>17</td>\n      <td>NaN</td>\n      <td>NaN</td>\n      <td>NaN</td>\n      <td>NaN</td>\n      <td>NaN</td>\n      <td>NaN</td>\n      <td>NaN</td>\n      <td>...</td>\n      <td>NaN</td>\n      <td>NaN</td>\n      <td>NaN</td>\n      <td>NaN</td>\n      <td>NaN</td>\n      <td>NaN</td>\n      <td>NaN</td>\n      <td>NaN</td>\n      <td>NaN</td>\n      <td>TRANSIT</td>\n    </tr>\n    <tr>\n      <th>165089</th>\n      <td>621e36f967b776a240e5e7c9</td>\n      <td>2021-05-21</td>\n      <td>22</td>\n      <td>NaN</td>\n      <td>NaN</td>\n      <td>NaN</td>\n      <td>NaN</td>\n      <td>NaN</td>\n      <td>NaN</td>\n      <td>NaN</td>\n      <td>...</td>\n      <td>NaN</td>\n      <td>NaN</td>\n      <td>NaN</td>\n      <td>NaN</td>\n      <td>NaN</td>\n      <td>NaN</td>\n      <td>NaN</td>\n      <td>NaN</td>\n      <td>NaN</td>\n      <td>HOME</td>\n    </tr>\n    <tr>\n      <th>165090</th>\n      <td>621e36f967b776a240e5e7c9</td>\n      <td>2021-05-22</td>\n      <td>18</td>\n      <td>NaN</td>\n      <td>NaN</td>\n      <td>NaN</td>\n      <td>NaN</td>\n      <td>NaN</td>\n      <td>NaN</td>\n      <td>NaN</td>\n      <td>...</td>\n      <td>NaN</td>\n      <td>NaN</td>\n      <td>NaN</td>\n      <td>NaN</td>\n      <td>NaN</td>\n      <td>NaN</td>\n      <td>NaN</td>\n      <td>NaN</td>\n      <td>NaN</td>\n      <td>HOME</td>\n    </tr>\n  </tbody>\n</table>\n<p>165091 rows × 56 columns</p>\n</div>"
     },
     "execution_count": 63,
     "metadata": {},
     "output_type": "execute_result"
    }
   ],
   "source": [
    "training_df = pd.read_pickle('../data/training_df.pkl')\n",
    "training_df"
   ],
   "metadata": {
    "collapsed": false,
    "pycharm": {
     "name": "#%%\n"
    }
   }
  },
  {
   "cell_type": "markdown",
   "source": [
    "##### 1. Encode features that contain series as values"
   ],
   "metadata": {
    "collapsed": false,
    "pycharm": {
     "name": "#%% md\n"
    }
   }
  },
  {
   "cell_type": "markdown",
   "source": [
    "Find the features that contain series and arrays as values"
   ],
   "metadata": {
    "collapsed": false,
    "pycharm": {
     "name": "#%% md\n"
    }
   }
  },
  {
   "cell_type": "code",
   "execution_count": 64,
   "outputs": [
    {
     "name": "stdout",
     "output_type": "stream",
     "text": [
      "19\n"
     ]
    },
    {
     "data": {
      "text/plain": "['badge_type',\n 'badge_value',\n 'exercise',\n 'exercise_calories',\n 'exercise_avg_hr',\n 'exercise_duration',\n 'exercise_steps',\n 'exercise_sedentary_minutes',\n 'exercise_lightly_minutes',\n 'exercise_fairly_minutes',\n 'exercise_very_minutes',\n 'exercise_Out of Range_zone_minutes',\n 'exercise_Out of Range_zone_calories',\n 'exercise_Fat Burn_zone_minutes',\n 'exercise_Fat Burn_zone_calories',\n 'exercise_Cardio_zone_minutes',\n 'exercise_Cardio_zone_calories',\n 'exercise_Peak_zone_minutes',\n 'exercise_Peak_zone_calories']"
     },
     "execution_count": 64,
     "metadata": {},
     "output_type": "execute_result"
    }
   ],
   "source": [
    "features = list(training_df.columns)\n",
    "del features[0:3]\n",
    "preprocessing_features = []\n",
    "for feature in features:\n",
    "    if training_df[feature].apply(lambda d: True if isinstance(d, np.ndarray) or isinstance(d, pd.Series) else False).any():\n",
    "        preprocessing_features.append(feature)\n",
    "print(len(preprocessing_features))\n",
    "preprocessing_features"
   ],
   "metadata": {
    "collapsed": false,
    "pycharm": {
     "name": "#%%\n"
    }
   }
  },
  {
   "cell_type": "markdown",
   "source": [
    "Preprocessing for badge_type and badge_value"
   ],
   "metadata": {
    "collapsed": false,
    "pycharm": {
     "name": "#%% md\n"
    }
   }
  },
  {
   "cell_type": "code",
   "execution_count": 65,
   "outputs": [
    {
     "data": {
      "text/plain": "                              id       date  hour  sleep_points  \\\n0       621e2ff067b776a2403eb737 2021-12-22    19           NaN   \n1       621e2ff067b776a2403eb737 2021-11-18     0           NaN   \n2       621e2ff067b776a2403eb737 2021-11-18    21           NaN   \n3       621e2ff067b776a2403eb737 2021-11-20     0           NaN   \n4       621e2ff067b776a2403eb737 2021-11-20    23           NaN   \n...                          ...        ...   ...           ...   \n165086  621e36f967b776a240e5e7c9 2021-05-20    16           NaN   \n165087  621e36f967b776a240e5e7c9 2021-05-20    20           NaN   \n165088  621e36f967b776a240e5e7c9 2021-05-21    17           NaN   \n165089  621e36f967b776a240e5e7c9 2021-05-21    22           NaN   \n165090  621e36f967b776a240e5e7c9 2021-05-22    18           NaN   \n\n        exertion_points  altitude  calories  distance  lightly_active_minutes  \\\n0                   NaN      10.0     27.35   19650.0                     NaN   \n1                   NaN       NaN      2.35       0.0                   314.0   \n2                   NaN      20.0     44.50   26880.0                     NaN   \n3                   NaN      20.0     46.06   32050.0                   272.0   \n4                   NaN       NaN      2.35       0.0                     NaN   \n...                 ...       ...       ...       ...                     ...   \n165086              NaN       NaN       NaN       NaN                     NaN   \n165087              NaN       NaN       NaN       NaN                     NaN   \n165088              NaN       NaN       NaN       NaN                     NaN   \n165089              NaN       NaN       NaN       NaN                     NaN   \n165090              NaN       NaN       NaN       NaN                     NaN   \n\n        mindfulness_goal  ...  helping_relationships_category  \\\n0                    NaN  ...                             NaN   \n1                    NaN  ...                             NaN   \n2                    NaN  ...                             NaN   \n3                    NaN  ...                             NaN   \n4                    NaN  ...                             NaN   \n...                  ...  ...                             ...   \n165086               NaN  ...                             NaN   \n165087               NaN  ...                             NaN   \n165088               NaN  ...                             NaN   \n165089               NaN  ...                             NaN   \n165090               NaN  ...                             NaN   \n\n        stimulus_control_category  step_goal        place  LIFETIME_DISTANCE  \\\n0                             NaN        NaN          NaN                NaN   \n1                             NaN        NaN          NaN                NaN   \n2                             NaN        NaN          NaN                NaN   \n3                             NaN        NaN          NaN                NaN   \n4                             NaN        NaN          NaN                NaN   \n...                           ...        ...          ...                ...   \n165086                        NaN        NaN  WORK/SCHOOL                NaN   \n165087                        NaN        NaN         HOME                NaN   \n165088                        NaN        NaN      TRANSIT                NaN   \n165089                        NaN        NaN         HOME                NaN   \n165090                        NaN        NaN         HOME                NaN   \n\n        LIFETIME_FLOORS  DAILY_STEPS  DAILY_FLOORS  \\\n0                   NaN          NaN           NaN   \n1                   NaN          NaN           NaN   \n2                   NaN          NaN           NaN   \n3                   NaN          NaN           NaN   \n4                   NaN          NaN           NaN   \n...                 ...          ...           ...   \n165086              NaN          NaN           NaN   \n165087              NaN          NaN           NaN   \n165088              NaN          NaN           NaN   \n165089              NaN          NaN           NaN   \n165090              NaN          NaN           NaN   \n\n        LIFETIME_WEIGHT_GOAL_SETUP GOAL_BASED_WEIGHT_LOSS  \n0                              NaN                    NaN  \n1                              NaN                    NaN  \n2                              NaN                    NaN  \n3                              NaN                    NaN  \n4                              NaN                    NaN  \n...                            ...                    ...  \n165086                         NaN                    NaN  \n165087                         NaN                    NaN  \n165088                         NaN                    NaN  \n165089                         NaN                    NaN  \n165090                         NaN                    NaN  \n\n[165091 rows x 60 columns]",
      "text/html": "<div>\n<style scoped>\n    .dataframe tbody tr th:only-of-type {\n        vertical-align: middle;\n    }\n\n    .dataframe tbody tr th {\n        vertical-align: top;\n    }\n\n    .dataframe thead th {\n        text-align: right;\n    }\n</style>\n<table border=\"1\" class=\"dataframe\">\n  <thead>\n    <tr style=\"text-align: right;\">\n      <th></th>\n      <th>id</th>\n      <th>date</th>\n      <th>hour</th>\n      <th>sleep_points</th>\n      <th>exertion_points</th>\n      <th>altitude</th>\n      <th>calories</th>\n      <th>distance</th>\n      <th>lightly_active_minutes</th>\n      <th>mindfulness_goal</th>\n      <th>...</th>\n      <th>helping_relationships_category</th>\n      <th>stimulus_control_category</th>\n      <th>step_goal</th>\n      <th>place</th>\n      <th>LIFETIME_DISTANCE</th>\n      <th>LIFETIME_FLOORS</th>\n      <th>DAILY_STEPS</th>\n      <th>DAILY_FLOORS</th>\n      <th>LIFETIME_WEIGHT_GOAL_SETUP</th>\n      <th>GOAL_BASED_WEIGHT_LOSS</th>\n    </tr>\n  </thead>\n  <tbody>\n    <tr>\n      <th>0</th>\n      <td>621e2ff067b776a2403eb737</td>\n      <td>2021-12-22</td>\n      <td>19</td>\n      <td>NaN</td>\n      <td>NaN</td>\n      <td>10.0</td>\n      <td>27.35</td>\n      <td>19650.0</td>\n      <td>NaN</td>\n      <td>NaN</td>\n      <td>...</td>\n      <td>NaN</td>\n      <td>NaN</td>\n      <td>NaN</td>\n      <td>NaN</td>\n      <td>NaN</td>\n      <td>NaN</td>\n      <td>NaN</td>\n      <td>NaN</td>\n      <td>NaN</td>\n      <td>NaN</td>\n    </tr>\n    <tr>\n      <th>1</th>\n      <td>621e2ff067b776a2403eb737</td>\n      <td>2021-11-18</td>\n      <td>0</td>\n      <td>NaN</td>\n      <td>NaN</td>\n      <td>NaN</td>\n      <td>2.35</td>\n      <td>0.0</td>\n      <td>314.0</td>\n      <td>NaN</td>\n      <td>...</td>\n      <td>NaN</td>\n      <td>NaN</td>\n      <td>NaN</td>\n      <td>NaN</td>\n      <td>NaN</td>\n      <td>NaN</td>\n      <td>NaN</td>\n      <td>NaN</td>\n      <td>NaN</td>\n      <td>NaN</td>\n    </tr>\n    <tr>\n      <th>2</th>\n      <td>621e2ff067b776a2403eb737</td>\n      <td>2021-11-18</td>\n      <td>21</td>\n      <td>NaN</td>\n      <td>NaN</td>\n      <td>20.0</td>\n      <td>44.50</td>\n      <td>26880.0</td>\n      <td>NaN</td>\n      <td>NaN</td>\n      <td>...</td>\n      <td>NaN</td>\n      <td>NaN</td>\n      <td>NaN</td>\n      <td>NaN</td>\n      <td>NaN</td>\n      <td>NaN</td>\n      <td>NaN</td>\n      <td>NaN</td>\n      <td>NaN</td>\n      <td>NaN</td>\n    </tr>\n    <tr>\n      <th>3</th>\n      <td>621e2ff067b776a2403eb737</td>\n      <td>2021-11-20</td>\n      <td>0</td>\n      <td>NaN</td>\n      <td>NaN</td>\n      <td>20.0</td>\n      <td>46.06</td>\n      <td>32050.0</td>\n      <td>272.0</td>\n      <td>NaN</td>\n      <td>...</td>\n      <td>NaN</td>\n      <td>NaN</td>\n      <td>NaN</td>\n      <td>NaN</td>\n      <td>NaN</td>\n      <td>NaN</td>\n      <td>NaN</td>\n      <td>NaN</td>\n      <td>NaN</td>\n      <td>NaN</td>\n    </tr>\n    <tr>\n      <th>4</th>\n      <td>621e2ff067b776a2403eb737</td>\n      <td>2021-11-20</td>\n      <td>23</td>\n      <td>NaN</td>\n      <td>NaN</td>\n      <td>NaN</td>\n      <td>2.35</td>\n      <td>0.0</td>\n      <td>NaN</td>\n      <td>NaN</td>\n      <td>...</td>\n      <td>NaN</td>\n      <td>NaN</td>\n      <td>NaN</td>\n      <td>NaN</td>\n      <td>NaN</td>\n      <td>NaN</td>\n      <td>NaN</td>\n      <td>NaN</td>\n      <td>NaN</td>\n      <td>NaN</td>\n    </tr>\n    <tr>\n      <th>...</th>\n      <td>...</td>\n      <td>...</td>\n      <td>...</td>\n      <td>...</td>\n      <td>...</td>\n      <td>...</td>\n      <td>...</td>\n      <td>...</td>\n      <td>...</td>\n      <td>...</td>\n      <td>...</td>\n      <td>...</td>\n      <td>...</td>\n      <td>...</td>\n      <td>...</td>\n      <td>...</td>\n      <td>...</td>\n      <td>...</td>\n      <td>...</td>\n      <td>...</td>\n      <td>...</td>\n    </tr>\n    <tr>\n      <th>165086</th>\n      <td>621e36f967b776a240e5e7c9</td>\n      <td>2021-05-20</td>\n      <td>16</td>\n      <td>NaN</td>\n      <td>NaN</td>\n      <td>NaN</td>\n      <td>NaN</td>\n      <td>NaN</td>\n      <td>NaN</td>\n      <td>NaN</td>\n      <td>...</td>\n      <td>NaN</td>\n      <td>NaN</td>\n      <td>NaN</td>\n      <td>WORK/SCHOOL</td>\n      <td>NaN</td>\n      <td>NaN</td>\n      <td>NaN</td>\n      <td>NaN</td>\n      <td>NaN</td>\n      <td>NaN</td>\n    </tr>\n    <tr>\n      <th>165087</th>\n      <td>621e36f967b776a240e5e7c9</td>\n      <td>2021-05-20</td>\n      <td>20</td>\n      <td>NaN</td>\n      <td>NaN</td>\n      <td>NaN</td>\n      <td>NaN</td>\n      <td>NaN</td>\n      <td>NaN</td>\n      <td>NaN</td>\n      <td>...</td>\n      <td>NaN</td>\n      <td>NaN</td>\n      <td>NaN</td>\n      <td>HOME</td>\n      <td>NaN</td>\n      <td>NaN</td>\n      <td>NaN</td>\n      <td>NaN</td>\n      <td>NaN</td>\n      <td>NaN</td>\n    </tr>\n    <tr>\n      <th>165088</th>\n      <td>621e36f967b776a240e5e7c9</td>\n      <td>2021-05-21</td>\n      <td>17</td>\n      <td>NaN</td>\n      <td>NaN</td>\n      <td>NaN</td>\n      <td>NaN</td>\n      <td>NaN</td>\n      <td>NaN</td>\n      <td>NaN</td>\n      <td>...</td>\n      <td>NaN</td>\n      <td>NaN</td>\n      <td>NaN</td>\n      <td>TRANSIT</td>\n      <td>NaN</td>\n      <td>NaN</td>\n      <td>NaN</td>\n      <td>NaN</td>\n      <td>NaN</td>\n      <td>NaN</td>\n    </tr>\n    <tr>\n      <th>165089</th>\n      <td>621e36f967b776a240e5e7c9</td>\n      <td>2021-05-21</td>\n      <td>22</td>\n      <td>NaN</td>\n      <td>NaN</td>\n      <td>NaN</td>\n      <td>NaN</td>\n      <td>NaN</td>\n      <td>NaN</td>\n      <td>NaN</td>\n      <td>...</td>\n      <td>NaN</td>\n      <td>NaN</td>\n      <td>NaN</td>\n      <td>HOME</td>\n      <td>NaN</td>\n      <td>NaN</td>\n      <td>NaN</td>\n      <td>NaN</td>\n      <td>NaN</td>\n      <td>NaN</td>\n    </tr>\n    <tr>\n      <th>165090</th>\n      <td>621e36f967b776a240e5e7c9</td>\n      <td>2021-05-22</td>\n      <td>18</td>\n      <td>NaN</td>\n      <td>NaN</td>\n      <td>NaN</td>\n      <td>NaN</td>\n      <td>NaN</td>\n      <td>NaN</td>\n      <td>NaN</td>\n      <td>...</td>\n      <td>NaN</td>\n      <td>NaN</td>\n      <td>NaN</td>\n      <td>HOME</td>\n      <td>NaN</td>\n      <td>NaN</td>\n      <td>NaN</td>\n      <td>NaN</td>\n      <td>NaN</td>\n      <td>NaN</td>\n    </tr>\n  </tbody>\n</table>\n<p>165091 rows × 60 columns</p>\n</div>"
     },
     "execution_count": 65,
     "metadata": {},
     "output_type": "execute_result"
    }
   ],
   "source": [
    "# encode a pair of categorical-numerical features\n",
    "df_badges = training_df[['badge_type', 'badge_value']]\n",
    "new_df = pd.concat([training_set_preprocessing.encode_row(row, list(df_badges.columns)) for _, row in df_badges.iterrows()], axis=1).T\n",
    "\n",
    "# merge with the final dataframe and drop unnecessary columns\n",
    "training_df = pd.concat([training_df, new_df], axis=1)\n",
    "training_df.drop(columns=['badge_type', 'badge_value'], inplace=True)\n",
    "training_df"
   ],
   "metadata": {
    "collapsed": false,
    "pycharm": {
     "name": "#%%\n"
    }
   }
  },
  {
   "cell_type": "markdown",
   "source": [
    "Preprocessing for exercise features (17)"
   ],
   "metadata": {
    "collapsed": false,
    "pycharm": {
     "name": "#%% md\n"
    }
   }
  },
  {
   "cell_type": "code",
   "execution_count": 67,
   "outputs": [
    {
     "data": {
      "text/plain": "                              id       date  hour  sleep_points  \\\n0       621e2ff067b776a2403eb737 2021-12-22    19           NaN   \n1       621e2ff067b776a2403eb737 2021-11-18     0           NaN   \n2       621e2ff067b776a2403eb737 2021-11-18    21           NaN   \n3       621e2ff067b776a2403eb737 2021-11-20     0           NaN   \n4       621e2ff067b776a2403eb737 2021-11-20    23           NaN   \n...                          ...        ...   ...           ...   \n165086  621e36f967b776a240e5e7c9 2021-05-20    16           NaN   \n165087  621e36f967b776a240e5e7c9 2021-05-20    20           NaN   \n165088  621e36f967b776a240e5e7c9 2021-05-21    17           NaN   \n165089  621e36f967b776a240e5e7c9 2021-05-21    22           NaN   \n165090  621e36f967b776a240e5e7c9 2021-05-22    18           NaN   \n\n        exertion_points  altitude  calories  distance  lightly_active_minutes  \\\n0                   NaN      10.0     27.35   19650.0                     NaN   \n1                   NaN       NaN      2.35       0.0                   314.0   \n2                   NaN      20.0     44.50   26880.0                     NaN   \n3                   NaN      20.0     46.06   32050.0                   272.0   \n4                   NaN       NaN      2.35       0.0                     NaN   \n...                 ...       ...       ...       ...                     ...   \n165086              NaN       NaN       NaN       NaN                     NaN   \n165087              NaN       NaN       NaN       NaN                     NaN   \n165088              NaN       NaN       NaN       NaN                     NaN   \n165089              NaN       NaN       NaN       NaN                     NaN   \n165090              NaN       NaN       NaN       NaN                     NaN   \n\n        mindfulness_goal  ...  Swim  Aerobic Workout  Tennis  Sport  \\\n0                    NaN  ...   NaN              NaN     NaN    NaN   \n1                    NaN  ...   NaN              NaN     NaN    NaN   \n2                    NaN  ...   NaN              NaN     NaN    NaN   \n3                    NaN  ...   NaN              NaN     NaN    NaN   \n4                    NaN  ...   NaN              NaN     NaN    NaN   \n...                  ...  ...   ...              ...     ...    ...   \n165086               NaN  ...   NaN              NaN     NaN    NaN   \n165087               NaN  ...   NaN              NaN     NaN    NaN   \n165088               NaN  ...   NaN              NaN     NaN    NaN   \n165089               NaN  ...   NaN              NaN     NaN    NaN   \n165090               NaN  ...   NaN              NaN     NaN    NaN   \n\n        Interval Workout  Spinning  Weights  Elliptical  Treadmill  Bootcamp  \n0                    NaN       NaN      NaN         NaN        NaN       NaN  \n1                    NaN       NaN      NaN         NaN        NaN       NaN  \n2                    NaN       NaN      NaN         NaN        NaN       NaN  \n3                    NaN       NaN      NaN         NaN        NaN       NaN  \n4                    NaN       NaN      NaN         NaN        NaN       NaN  \n...                  ...       ...      ...         ...        ...       ...  \n165086               NaN       NaN      NaN         NaN        NaN       NaN  \n165087               NaN       NaN      NaN         NaN        NaN       NaN  \n165088               NaN       NaN      NaN         NaN        NaN       NaN  \n165089               NaN       NaN      NaN         NaN        NaN       NaN  \n165090               NaN       NaN      NaN         NaN        NaN       NaN  \n\n[165091 rows x 76 columns]",
      "text/html": "<div>\n<style scoped>\n    .dataframe tbody tr th:only-of-type {\n        vertical-align: middle;\n    }\n\n    .dataframe tbody tr th {\n        vertical-align: top;\n    }\n\n    .dataframe thead th {\n        text-align: right;\n    }\n</style>\n<table border=\"1\" class=\"dataframe\">\n  <thead>\n    <tr style=\"text-align: right;\">\n      <th></th>\n      <th>id</th>\n      <th>date</th>\n      <th>hour</th>\n      <th>sleep_points</th>\n      <th>exertion_points</th>\n      <th>altitude</th>\n      <th>calories</th>\n      <th>distance</th>\n      <th>lightly_active_minutes</th>\n      <th>mindfulness_goal</th>\n      <th>...</th>\n      <th>Swim</th>\n      <th>Aerobic Workout</th>\n      <th>Tennis</th>\n      <th>Sport</th>\n      <th>Interval Workout</th>\n      <th>Spinning</th>\n      <th>Weights</th>\n      <th>Elliptical</th>\n      <th>Treadmill</th>\n      <th>Bootcamp</th>\n    </tr>\n  </thead>\n  <tbody>\n    <tr>\n      <th>0</th>\n      <td>621e2ff067b776a2403eb737</td>\n      <td>2021-12-22</td>\n      <td>19</td>\n      <td>NaN</td>\n      <td>NaN</td>\n      <td>10.0</td>\n      <td>27.35</td>\n      <td>19650.0</td>\n      <td>NaN</td>\n      <td>NaN</td>\n      <td>...</td>\n      <td>NaN</td>\n      <td>NaN</td>\n      <td>NaN</td>\n      <td>NaN</td>\n      <td>NaN</td>\n      <td>NaN</td>\n      <td>NaN</td>\n      <td>NaN</td>\n      <td>NaN</td>\n      <td>NaN</td>\n    </tr>\n    <tr>\n      <th>1</th>\n      <td>621e2ff067b776a2403eb737</td>\n      <td>2021-11-18</td>\n      <td>0</td>\n      <td>NaN</td>\n      <td>NaN</td>\n      <td>NaN</td>\n      <td>2.35</td>\n      <td>0.0</td>\n      <td>314.0</td>\n      <td>NaN</td>\n      <td>...</td>\n      <td>NaN</td>\n      <td>NaN</td>\n      <td>NaN</td>\n      <td>NaN</td>\n      <td>NaN</td>\n      <td>NaN</td>\n      <td>NaN</td>\n      <td>NaN</td>\n      <td>NaN</td>\n      <td>NaN</td>\n    </tr>\n    <tr>\n      <th>2</th>\n      <td>621e2ff067b776a2403eb737</td>\n      <td>2021-11-18</td>\n      <td>21</td>\n      <td>NaN</td>\n      <td>NaN</td>\n      <td>20.0</td>\n      <td>44.50</td>\n      <td>26880.0</td>\n      <td>NaN</td>\n      <td>NaN</td>\n      <td>...</td>\n      <td>NaN</td>\n      <td>NaN</td>\n      <td>NaN</td>\n      <td>NaN</td>\n      <td>NaN</td>\n      <td>NaN</td>\n      <td>NaN</td>\n      <td>NaN</td>\n      <td>NaN</td>\n      <td>NaN</td>\n    </tr>\n    <tr>\n      <th>3</th>\n      <td>621e2ff067b776a2403eb737</td>\n      <td>2021-11-20</td>\n      <td>0</td>\n      <td>NaN</td>\n      <td>NaN</td>\n      <td>20.0</td>\n      <td>46.06</td>\n      <td>32050.0</td>\n      <td>272.0</td>\n      <td>NaN</td>\n      <td>...</td>\n      <td>NaN</td>\n      <td>NaN</td>\n      <td>NaN</td>\n      <td>NaN</td>\n      <td>NaN</td>\n      <td>NaN</td>\n      <td>NaN</td>\n      <td>NaN</td>\n      <td>NaN</td>\n      <td>NaN</td>\n    </tr>\n    <tr>\n      <th>4</th>\n      <td>621e2ff067b776a2403eb737</td>\n      <td>2021-11-20</td>\n      <td>23</td>\n      <td>NaN</td>\n      <td>NaN</td>\n      <td>NaN</td>\n      <td>2.35</td>\n      <td>0.0</td>\n      <td>NaN</td>\n      <td>NaN</td>\n      <td>...</td>\n      <td>NaN</td>\n      <td>NaN</td>\n      <td>NaN</td>\n      <td>NaN</td>\n      <td>NaN</td>\n      <td>NaN</td>\n      <td>NaN</td>\n      <td>NaN</td>\n      <td>NaN</td>\n      <td>NaN</td>\n    </tr>\n    <tr>\n      <th>...</th>\n      <td>...</td>\n      <td>...</td>\n      <td>...</td>\n      <td>...</td>\n      <td>...</td>\n      <td>...</td>\n      <td>...</td>\n      <td>...</td>\n      <td>...</td>\n      <td>...</td>\n      <td>...</td>\n      <td>...</td>\n      <td>...</td>\n      <td>...</td>\n      <td>...</td>\n      <td>...</td>\n      <td>...</td>\n      <td>...</td>\n      <td>...</td>\n      <td>...</td>\n      <td>...</td>\n    </tr>\n    <tr>\n      <th>165086</th>\n      <td>621e36f967b776a240e5e7c9</td>\n      <td>2021-05-20</td>\n      <td>16</td>\n      <td>NaN</td>\n      <td>NaN</td>\n      <td>NaN</td>\n      <td>NaN</td>\n      <td>NaN</td>\n      <td>NaN</td>\n      <td>NaN</td>\n      <td>...</td>\n      <td>NaN</td>\n      <td>NaN</td>\n      <td>NaN</td>\n      <td>NaN</td>\n      <td>NaN</td>\n      <td>NaN</td>\n      <td>NaN</td>\n      <td>NaN</td>\n      <td>NaN</td>\n      <td>NaN</td>\n    </tr>\n    <tr>\n      <th>165087</th>\n      <td>621e36f967b776a240e5e7c9</td>\n      <td>2021-05-20</td>\n      <td>20</td>\n      <td>NaN</td>\n      <td>NaN</td>\n      <td>NaN</td>\n      <td>NaN</td>\n      <td>NaN</td>\n      <td>NaN</td>\n      <td>NaN</td>\n      <td>...</td>\n      <td>NaN</td>\n      <td>NaN</td>\n      <td>NaN</td>\n      <td>NaN</td>\n      <td>NaN</td>\n      <td>NaN</td>\n      <td>NaN</td>\n      <td>NaN</td>\n      <td>NaN</td>\n      <td>NaN</td>\n    </tr>\n    <tr>\n      <th>165088</th>\n      <td>621e36f967b776a240e5e7c9</td>\n      <td>2021-05-21</td>\n      <td>17</td>\n      <td>NaN</td>\n      <td>NaN</td>\n      <td>NaN</td>\n      <td>NaN</td>\n      <td>NaN</td>\n      <td>NaN</td>\n      <td>NaN</td>\n      <td>...</td>\n      <td>NaN</td>\n      <td>NaN</td>\n      <td>NaN</td>\n      <td>NaN</td>\n      <td>NaN</td>\n      <td>NaN</td>\n      <td>NaN</td>\n      <td>NaN</td>\n      <td>NaN</td>\n      <td>NaN</td>\n    </tr>\n    <tr>\n      <th>165089</th>\n      <td>621e36f967b776a240e5e7c9</td>\n      <td>2021-05-21</td>\n      <td>22</td>\n      <td>NaN</td>\n      <td>NaN</td>\n      <td>NaN</td>\n      <td>NaN</td>\n      <td>NaN</td>\n      <td>NaN</td>\n      <td>NaN</td>\n      <td>...</td>\n      <td>NaN</td>\n      <td>NaN</td>\n      <td>NaN</td>\n      <td>NaN</td>\n      <td>NaN</td>\n      <td>NaN</td>\n      <td>NaN</td>\n      <td>NaN</td>\n      <td>NaN</td>\n      <td>NaN</td>\n    </tr>\n    <tr>\n      <th>165090</th>\n      <td>621e36f967b776a240e5e7c9</td>\n      <td>2021-05-22</td>\n      <td>18</td>\n      <td>NaN</td>\n      <td>NaN</td>\n      <td>NaN</td>\n      <td>NaN</td>\n      <td>NaN</td>\n      <td>NaN</td>\n      <td>NaN</td>\n      <td>...</td>\n      <td>NaN</td>\n      <td>NaN</td>\n      <td>NaN</td>\n      <td>NaN</td>\n      <td>NaN</td>\n      <td>NaN</td>\n      <td>NaN</td>\n      <td>NaN</td>\n      <td>NaN</td>\n      <td>NaN</td>\n    </tr>\n  </tbody>\n</table>\n<p>165091 rows × 76 columns</p>\n</div>"
     },
     "execution_count": 67,
     "metadata": {},
     "output_type": "execute_result"
    }
   ],
   "source": [
    "# calculate the sum and avg of specific features\n",
    "exercise_df = training_df.loc[:, 'exercise':'exercise_Peak_zone_calories']\n",
    "sum_features = list(exercise_df.loc[:, 'exercise_steps': 'exercise_Peak_zone_calories'].columns)\n",
    "sum_features.append('exercise_calories')\n",
    "for feature in sum_features:\n",
    "    exercise_df[feature] = exercise_df[feature].apply(lambda d: training_set_preprocessing.replace_with_sum(d))\n",
    "exercise_df['exercise_avg_hr'] = exercise_df['exercise_avg_hr'].apply(lambda d: training_set_preprocessing.replace_with_avg(d))\n",
    "\n",
    "# encode a pair of categorical-numerical features\n",
    "encoding_df = exercise_df[['exercise', 'exercise_duration']]\n",
    "new_df = pd.concat([training_set_preprocessing.encode_row(row, list(encoding_df.columns)) for _, row in encoding_df.iterrows()], axis=1).T\n",
    "\n",
    "# merge with the final dataframe and drop unnecessary columns\n",
    "exercise_df = pd.concat([exercise_df, new_df], axis=1)\n",
    "exercise_df.drop(columns=['exercise', 'exercise_duration'], inplace=True)\n",
    "delete_features = list(training_df.loc[:, 'exercise':'exercise_Peak_zone_calories'].columns)\n",
    "training_df.drop(columns=delete_features, inplace=True)\n",
    "training_df = pd.concat([training_df, exercise_df], axis=1)\n",
    "training_df"
   ],
   "metadata": {
    "collapsed": false,
    "pycharm": {
     "name": "#%%\n"
    }
   }
  },
  {
   "cell_type": "code",
   "execution_count": 68,
   "outputs": [],
   "source": [
    "training_df.to_pickle('../data/encoded_training_df.pkl')"
   ],
   "metadata": {
    "collapsed": false,
    "pycharm": {
     "name": "#%%\n"
    }
   }
  },
  {
   "cell_type": "markdown",
   "source": [
    "##### 2. Run dataprep and identify basic preprocessing"
   ],
   "metadata": {
    "collapsed": false,
    "pycharm": {
     "name": "#%% md\n"
    }
   }
  },
  {
   "cell_type": "code",
   "execution_count": 58,
   "outputs": [
    {
     "data": {
      "text/plain": "                              id       date  hour  sleep_points  \\\n0       621e2ff067b776a2403eb737 2021-12-22    19           NaN   \n1       621e2ff067b776a2403eb737 2021-11-18     0           NaN   \n2       621e2ff067b776a2403eb737 2021-11-18    21           NaN   \n3       621e2ff067b776a2403eb737 2021-11-20     0           NaN   \n4       621e2ff067b776a2403eb737 2021-11-20    23           NaN   \n...                          ...        ...   ...           ...   \n165086  621e36f967b776a240e5e7c9 2021-05-20    16           NaN   \n165087  621e36f967b776a240e5e7c9 2021-05-20    20           NaN   \n165088  621e36f967b776a240e5e7c9 2021-05-21    17           NaN   \n165089  621e36f967b776a240e5e7c9 2021-05-21    22           NaN   \n165090  621e36f967b776a240e5e7c9 2021-05-22    18           NaN   \n\n        exertion_points  altitude  calories  distance  lightly_active_minutes  \\\n0                   NaN      10.0     27.35   19650.0                     NaN   \n1                   NaN       NaN      2.35       0.0                   314.0   \n2                   NaN      20.0     44.50   26880.0                     NaN   \n3                   NaN      20.0     46.06   32050.0                   272.0   \n4                   NaN       NaN      2.35       0.0                     NaN   \n...                 ...       ...       ...       ...                     ...   \n165086              NaN       NaN       NaN       NaN                     NaN   \n165087              NaN       NaN       NaN       NaN                     NaN   \n165088              NaN       NaN       NaN       NaN                     NaN   \n165089              NaN       NaN       NaN       NaN                     NaN   \n165090              NaN       NaN       NaN       NaN                     NaN   \n\n        mindfulness_goal  ...  Swim  Aerobic Workout  Tennis  Sport  \\\n0                    NaN  ...   NaN              NaN     NaN    NaN   \n1                    NaN  ...   NaN              NaN     NaN    NaN   \n2                    NaN  ...   NaN              NaN     NaN    NaN   \n3                    NaN  ...   NaN              NaN     NaN    NaN   \n4                    NaN  ...   NaN              NaN     NaN    NaN   \n...                  ...  ...   ...              ...     ...    ...   \n165086               NaN  ...   NaN              NaN     NaN    NaN   \n165087               NaN  ...   NaN              NaN     NaN    NaN   \n165088               NaN  ...   NaN              NaN     NaN    NaN   \n165089               NaN  ...   NaN              NaN     NaN    NaN   \n165090               NaN  ...   NaN              NaN     NaN    NaN   \n\n        Interval Workout  Spinning  Weights  Elliptical  Treadmill  Bootcamp  \n0                    NaN       NaN      NaN         NaN        NaN       NaN  \n1                    NaN       NaN      NaN         NaN        NaN       NaN  \n2                    NaN       NaN      NaN         NaN        NaN       NaN  \n3                    NaN       NaN      NaN         NaN        NaN       NaN  \n4                    NaN       NaN      NaN         NaN        NaN       NaN  \n...                  ...       ...      ...         ...        ...       ...  \n165086               NaN       NaN      NaN         NaN        NaN       NaN  \n165087               NaN       NaN      NaN         NaN        NaN       NaN  \n165088               NaN       NaN      NaN         NaN        NaN       NaN  \n165089               NaN       NaN      NaN         NaN        NaN       NaN  \n165090               NaN       NaN      NaN         NaN        NaN       NaN  \n\n[165091 rows x 76 columns]",
      "text/html": "<div>\n<style scoped>\n    .dataframe tbody tr th:only-of-type {\n        vertical-align: middle;\n    }\n\n    .dataframe tbody tr th {\n        vertical-align: top;\n    }\n\n    .dataframe thead th {\n        text-align: right;\n    }\n</style>\n<table border=\"1\" class=\"dataframe\">\n  <thead>\n    <tr style=\"text-align: right;\">\n      <th></th>\n      <th>id</th>\n      <th>date</th>\n      <th>hour</th>\n      <th>sleep_points</th>\n      <th>exertion_points</th>\n      <th>altitude</th>\n      <th>calories</th>\n      <th>distance</th>\n      <th>lightly_active_minutes</th>\n      <th>mindfulness_goal</th>\n      <th>...</th>\n      <th>Swim</th>\n      <th>Aerobic Workout</th>\n      <th>Tennis</th>\n      <th>Sport</th>\n      <th>Interval Workout</th>\n      <th>Spinning</th>\n      <th>Weights</th>\n      <th>Elliptical</th>\n      <th>Treadmill</th>\n      <th>Bootcamp</th>\n    </tr>\n  </thead>\n  <tbody>\n    <tr>\n      <th>0</th>\n      <td>621e2ff067b776a2403eb737</td>\n      <td>2021-12-22</td>\n      <td>19</td>\n      <td>NaN</td>\n      <td>NaN</td>\n      <td>10.0</td>\n      <td>27.35</td>\n      <td>19650.0</td>\n      <td>NaN</td>\n      <td>NaN</td>\n      <td>...</td>\n      <td>NaN</td>\n      <td>NaN</td>\n      <td>NaN</td>\n      <td>NaN</td>\n      <td>NaN</td>\n      <td>NaN</td>\n      <td>NaN</td>\n      <td>NaN</td>\n      <td>NaN</td>\n      <td>NaN</td>\n    </tr>\n    <tr>\n      <th>1</th>\n      <td>621e2ff067b776a2403eb737</td>\n      <td>2021-11-18</td>\n      <td>0</td>\n      <td>NaN</td>\n      <td>NaN</td>\n      <td>NaN</td>\n      <td>2.35</td>\n      <td>0.0</td>\n      <td>314.0</td>\n      <td>NaN</td>\n      <td>...</td>\n      <td>NaN</td>\n      <td>NaN</td>\n      <td>NaN</td>\n      <td>NaN</td>\n      <td>NaN</td>\n      <td>NaN</td>\n      <td>NaN</td>\n      <td>NaN</td>\n      <td>NaN</td>\n      <td>NaN</td>\n    </tr>\n    <tr>\n      <th>2</th>\n      <td>621e2ff067b776a2403eb737</td>\n      <td>2021-11-18</td>\n      <td>21</td>\n      <td>NaN</td>\n      <td>NaN</td>\n      <td>20.0</td>\n      <td>44.50</td>\n      <td>26880.0</td>\n      <td>NaN</td>\n      <td>NaN</td>\n      <td>...</td>\n      <td>NaN</td>\n      <td>NaN</td>\n      <td>NaN</td>\n      <td>NaN</td>\n      <td>NaN</td>\n      <td>NaN</td>\n      <td>NaN</td>\n      <td>NaN</td>\n      <td>NaN</td>\n      <td>NaN</td>\n    </tr>\n    <tr>\n      <th>3</th>\n      <td>621e2ff067b776a2403eb737</td>\n      <td>2021-11-20</td>\n      <td>0</td>\n      <td>NaN</td>\n      <td>NaN</td>\n      <td>20.0</td>\n      <td>46.06</td>\n      <td>32050.0</td>\n      <td>272.0</td>\n      <td>NaN</td>\n      <td>...</td>\n      <td>NaN</td>\n      <td>NaN</td>\n      <td>NaN</td>\n      <td>NaN</td>\n      <td>NaN</td>\n      <td>NaN</td>\n      <td>NaN</td>\n      <td>NaN</td>\n      <td>NaN</td>\n      <td>NaN</td>\n    </tr>\n    <tr>\n      <th>4</th>\n      <td>621e2ff067b776a2403eb737</td>\n      <td>2021-11-20</td>\n      <td>23</td>\n      <td>NaN</td>\n      <td>NaN</td>\n      <td>NaN</td>\n      <td>2.35</td>\n      <td>0.0</td>\n      <td>NaN</td>\n      <td>NaN</td>\n      <td>...</td>\n      <td>NaN</td>\n      <td>NaN</td>\n      <td>NaN</td>\n      <td>NaN</td>\n      <td>NaN</td>\n      <td>NaN</td>\n      <td>NaN</td>\n      <td>NaN</td>\n      <td>NaN</td>\n      <td>NaN</td>\n    </tr>\n    <tr>\n      <th>...</th>\n      <td>...</td>\n      <td>...</td>\n      <td>...</td>\n      <td>...</td>\n      <td>...</td>\n      <td>...</td>\n      <td>...</td>\n      <td>...</td>\n      <td>...</td>\n      <td>...</td>\n      <td>...</td>\n      <td>...</td>\n      <td>...</td>\n      <td>...</td>\n      <td>...</td>\n      <td>...</td>\n      <td>...</td>\n      <td>...</td>\n      <td>...</td>\n      <td>...</td>\n      <td>...</td>\n    </tr>\n    <tr>\n      <th>165086</th>\n      <td>621e36f967b776a240e5e7c9</td>\n      <td>2021-05-20</td>\n      <td>16</td>\n      <td>NaN</td>\n      <td>NaN</td>\n      <td>NaN</td>\n      <td>NaN</td>\n      <td>NaN</td>\n      <td>NaN</td>\n      <td>NaN</td>\n      <td>...</td>\n      <td>NaN</td>\n      <td>NaN</td>\n      <td>NaN</td>\n      <td>NaN</td>\n      <td>NaN</td>\n      <td>NaN</td>\n      <td>NaN</td>\n      <td>NaN</td>\n      <td>NaN</td>\n      <td>NaN</td>\n    </tr>\n    <tr>\n      <th>165087</th>\n      <td>621e36f967b776a240e5e7c9</td>\n      <td>2021-05-20</td>\n      <td>20</td>\n      <td>NaN</td>\n      <td>NaN</td>\n      <td>NaN</td>\n      <td>NaN</td>\n      <td>NaN</td>\n      <td>NaN</td>\n      <td>NaN</td>\n      <td>...</td>\n      <td>NaN</td>\n      <td>NaN</td>\n      <td>NaN</td>\n      <td>NaN</td>\n      <td>NaN</td>\n      <td>NaN</td>\n      <td>NaN</td>\n      <td>NaN</td>\n      <td>NaN</td>\n      <td>NaN</td>\n    </tr>\n    <tr>\n      <th>165088</th>\n      <td>621e36f967b776a240e5e7c9</td>\n      <td>2021-05-21</td>\n      <td>17</td>\n      <td>NaN</td>\n      <td>NaN</td>\n      <td>NaN</td>\n      <td>NaN</td>\n      <td>NaN</td>\n      <td>NaN</td>\n      <td>NaN</td>\n      <td>...</td>\n      <td>NaN</td>\n      <td>NaN</td>\n      <td>NaN</td>\n      <td>NaN</td>\n      <td>NaN</td>\n      <td>NaN</td>\n      <td>NaN</td>\n      <td>NaN</td>\n      <td>NaN</td>\n      <td>NaN</td>\n    </tr>\n    <tr>\n      <th>165089</th>\n      <td>621e36f967b776a240e5e7c9</td>\n      <td>2021-05-21</td>\n      <td>22</td>\n      <td>NaN</td>\n      <td>NaN</td>\n      <td>NaN</td>\n      <td>NaN</td>\n      <td>NaN</td>\n      <td>NaN</td>\n      <td>NaN</td>\n      <td>...</td>\n      <td>NaN</td>\n      <td>NaN</td>\n      <td>NaN</td>\n      <td>NaN</td>\n      <td>NaN</td>\n      <td>NaN</td>\n      <td>NaN</td>\n      <td>NaN</td>\n      <td>NaN</td>\n      <td>NaN</td>\n    </tr>\n    <tr>\n      <th>165090</th>\n      <td>621e36f967b776a240e5e7c9</td>\n      <td>2021-05-22</td>\n      <td>18</td>\n      <td>NaN</td>\n      <td>NaN</td>\n      <td>NaN</td>\n      <td>NaN</td>\n      <td>NaN</td>\n      <td>NaN</td>\n      <td>NaN</td>\n      <td>...</td>\n      <td>NaN</td>\n      <td>NaN</td>\n      <td>NaN</td>\n      <td>NaN</td>\n      <td>NaN</td>\n      <td>NaN</td>\n      <td>NaN</td>\n      <td>NaN</td>\n      <td>NaN</td>\n      <td>NaN</td>\n    </tr>\n  </tbody>\n</table>\n<p>165091 rows × 76 columns</p>\n</div>"
     },
     "execution_count": 58,
     "metadata": {},
     "output_type": "execute_result"
    }
   ],
   "source": [
    "training_df = pd.read_pickle('../data/encoded_training_df.pkl')\n",
    "training_df"
   ],
   "metadata": {
    "collapsed": false,
    "pycharm": {
     "name": "#%%\n"
    }
   }
  },
  {
   "cell_type": "code",
   "execution_count": 4,
   "outputs": [
    {
     "data": {
      "text/plain": "  0%|          | 0/17968 [00:00<?, ?it/s]",
      "application/vnd.jupyter.widget-view+json": {
       "version_major": 2,
       "version_minor": 0,
       "model_id": "fd0eb3c6a6d046bebedf54738c7bb526"
      }
     },
     "metadata": {},
     "output_type": "display_data"
    }
   ],
   "source": [
    "report = create_report(training_df, title='Training Dataframe')\n",
    "report.show_browser()"
   ],
   "metadata": {
    "collapsed": false,
    "pycharm": {
     "name": "#%%\n"
    }
   }
  },
  {
   "cell_type": "markdown",
   "source": [
    "##### Tests"
   ],
   "metadata": {
    "collapsed": false,
    "pycharm": {
     "name": "#%% md\n"
    }
   }
  },
  {
   "cell_type": "code",
   "execution_count": 12,
   "outputs": [
    {
     "name": "stdout",
     "output_type": "stream",
     "text": [
      "There are 48230 rows out of experiment dates from 71 unique users.\n"
     ]
    }
   ],
   "source": [
    "training_df = training_df.sort_values(by='date', ascending=True)\n",
    "training_df['date'] = pd.to_datetime(training_df['date'].astype(\"str\"), format='%Y-%m-%d')\n",
    "experiments_df = training_df.loc[((training_df['date'] > '2021-05-23') & (training_df['date'] < '2021-07-27')) | (\n",
    "        (training_df['date'] > '2021-11-14') & (training_df['date'] < '2022-01-18'))]\n",
    "experiments_df.reset_index(inplace=True, drop=True)\n",
    "extra = pd.concat([training_df,experiments_df]).drop_duplicates(keep=False)\n",
    "print(\"There are\", len(extra), \"rows out of experiment dates from\", extra['id'].nunique(), \"unique users.\")"
   ],
   "metadata": {
    "collapsed": false,
    "pycharm": {
     "name": "#%%\n"
    }
   }
  },
  {
   "cell_type": "markdown",
   "source": [
    "##### 3. Implement basic preprocessing"
   ],
   "metadata": {
    "collapsed": false,
    "pycharm": {
     "name": "#%% md\n"
    }
   }
  },
  {
   "cell_type": "markdown",
   "source": [
    "step_goal preprocessing"
   ],
   "metadata": {
    "collapsed": false,
    "pycharm": {
     "name": "#%% md\n"
    }
   }
  },
  {
   "cell_type": "code",
   "execution_count": 59,
   "outputs": [],
   "source": [
    "# convert from categorical to numerical\n",
    "training_df['step_goal'].replace(to_replace=['NO_GOAL'], value=[0], inplace=True)\n",
    "training_df['step_goal'] = training_df['step_goal'].astype(float)"
   ],
   "metadata": {
    "collapsed": false,
    "pycharm": {
     "name": "#%%\n"
    }
   }
  },
  {
   "cell_type": "markdown",
   "source": [
    "main_sleep preprocecssing"
   ],
   "metadata": {
    "collapsed": false,
    "pycharm": {
     "name": "#%% md\n"
    }
   }
  },
  {
   "cell_type": "code",
   "execution_count": 60,
   "outputs": [],
   "source": [
    "# binary encoding\n",
    "training_df['main_sleep'].replace(to_replace=[True], value=[1], inplace=True)"
   ],
   "metadata": {
    "collapsed": false,
    "pycharm": {
     "name": "#%%\n"
    }
   }
  },
  {
   "cell_type": "markdown",
   "source": [
    "consciousness_raising, counterconditioning, helping_relationships and stimulus_control preprocessing"
   ],
   "metadata": {
    "collapsed": false,
    "pycharm": {
     "name": "#%% md\n"
    }
   }
  },
  {
   "cell_type": "code",
   "execution_count": 61,
   "outputs": [],
   "source": [
    "# replace with 0,1,2 (ordinal relationship)\n",
    "for feature in ['consciousness_raising_category', 'counterconditioning_category', 'helping_relationships_category', 'stimulus_control_category']:\n",
    "    training_df[feature].replace(to_replace=['Below average', 'Average', 'Above average'], value=[0, 1 ,2], inplace=True)"
   ],
   "metadata": {
    "collapsed": false,
    "pycharm": {
     "name": "#%%\n"
    }
   }
  },
  {
   "cell_type": "markdown",
   "source": [
    "place preprocessing"
   ],
   "metadata": {
    "collapsed": false,
    "pycharm": {
     "name": "#%% md\n"
    }
   }
  },
  {
   "cell_type": "code",
   "execution_count": 62,
   "outputs": [],
   "source": [
    "# one-hot-encoding\n",
    "s = training_df['place']\n",
    "dum = pd.get_dummies(s.apply(pd.Series).stack()).sum(level=0)\n",
    "df = pd.concat([s, dum], axis=1)\n",
    "training_df = pd.concat([training_df, df], axis=1)\n",
    "training_df = training_df.drop(columns='place')"
   ],
   "metadata": {
    "collapsed": false,
    "pycharm": {
     "name": "#%%\n"
    }
   }
  },
  {
   "cell_type": "code",
   "execution_count": 63,
   "outputs": [],
   "source": [
    "training_df.to_pickle('../data/basic_preprocessed_training_df.pkl')"
   ],
   "metadata": {
    "collapsed": false,
    "pycharm": {
     "name": "#%%\n"
    }
   }
  },
  {
   "cell_type": "markdown",
   "source": [
    "##### 4. Preprocess the different features' granularity"
   ],
   "metadata": {
    "collapsed": false,
    "pycharm": {
     "name": "#%% md\n"
    }
   }
  },
  {
   "cell_type": "code",
   "execution_count": 64,
   "outputs": [
    {
     "data": {
      "text/plain": "                              id       date  hour  sleep_points  \\\n0       621e2ff067b776a2403eb737 2021-12-22    19           NaN   \n1       621e2ff067b776a2403eb737 2021-11-18     0           NaN   \n2       621e2ff067b776a2403eb737 2021-11-18    21           NaN   \n3       621e2ff067b776a2403eb737 2021-11-20     0           NaN   \n4       621e2ff067b776a2403eb737 2021-11-20    23           NaN   \n...                          ...        ...   ...           ...   \n165086  621e36f967b776a240e5e7c9 2021-05-20    16           NaN   \n165087  621e36f967b776a240e5e7c9 2021-05-20    20           NaN   \n165088  621e36f967b776a240e5e7c9 2021-05-21    17           NaN   \n165089  621e36f967b776a240e5e7c9 2021-05-21    22           NaN   \n165090  621e36f967b776a240e5e7c9 2021-05-22    18           NaN   \n\n        exertion_points  altitude  calories  distance  lightly_active_minutes  \\\n0                   NaN      10.0     27.35   19650.0                     NaN   \n1                   NaN       NaN      2.35       0.0                   314.0   \n2                   NaN      20.0     44.50   26880.0                     NaN   \n3                   NaN      20.0     46.06   32050.0                   272.0   \n4                   NaN       NaN      2.35       0.0                     NaN   \n...                 ...       ...       ...       ...                     ...   \n165086              NaN       NaN       NaN       NaN                     NaN   \n165087              NaN       NaN       NaN       NaN                     NaN   \n165088              NaN       NaN       NaN       NaN                     NaN   \n165089              NaN       NaN       NaN       NaN                     NaN   \n165090              NaN       NaN       NaN       NaN                     NaN   \n\n        mindfulness_goal  ...  Treadmill  Bootcamp  ENTERTAINMENT  GYM  HOME  \\\n0                    NaN  ...        NaN       NaN            NaN  NaN   NaN   \n1                    NaN  ...        NaN       NaN            NaN  NaN   NaN   \n2                    NaN  ...        NaN       NaN            NaN  NaN   NaN   \n3                    NaN  ...        NaN       NaN            NaN  NaN   NaN   \n4                    NaN  ...        NaN       NaN            NaN  NaN   NaN   \n...                  ...  ...        ...       ...            ...  ...   ...   \n165086               NaN  ...        NaN       NaN            0.0  0.0   0.0   \n165087               NaN  ...        NaN       NaN            0.0  0.0   1.0   \n165088               NaN  ...        NaN       NaN            0.0  0.0   0.0   \n165089               NaN  ...        NaN       NaN            0.0  0.0   1.0   \n165090               NaN  ...        NaN       NaN            0.0  0.0   1.0   \n\n        HOME_OFFICE  OTHER  OUTDOORS  TRANSIT  WORK/SCHOOL  \n0               NaN    NaN       NaN      NaN          NaN  \n1               NaN    NaN       NaN      NaN          NaN  \n2               NaN    NaN       NaN      NaN          NaN  \n3               NaN    NaN       NaN      NaN          NaN  \n4               NaN    NaN       NaN      NaN          NaN  \n...             ...    ...       ...      ...          ...  \n165086          0.0    0.0       0.0      0.0          1.0  \n165087          0.0    0.0       0.0      0.0          0.0  \n165088          0.0    0.0       0.0      1.0          0.0  \n165089          0.0    0.0       0.0      0.0          0.0  \n165090          0.0    0.0       0.0      0.0          0.0  \n\n[165091 rows x 83 columns]",
      "text/html": "<div>\n<style scoped>\n    .dataframe tbody tr th:only-of-type {\n        vertical-align: middle;\n    }\n\n    .dataframe tbody tr th {\n        vertical-align: top;\n    }\n\n    .dataframe thead th {\n        text-align: right;\n    }\n</style>\n<table border=\"1\" class=\"dataframe\">\n  <thead>\n    <tr style=\"text-align: right;\">\n      <th></th>\n      <th>id</th>\n      <th>date</th>\n      <th>hour</th>\n      <th>sleep_points</th>\n      <th>exertion_points</th>\n      <th>altitude</th>\n      <th>calories</th>\n      <th>distance</th>\n      <th>lightly_active_minutes</th>\n      <th>mindfulness_goal</th>\n      <th>...</th>\n      <th>Treadmill</th>\n      <th>Bootcamp</th>\n      <th>ENTERTAINMENT</th>\n      <th>GYM</th>\n      <th>HOME</th>\n      <th>HOME_OFFICE</th>\n      <th>OTHER</th>\n      <th>OUTDOORS</th>\n      <th>TRANSIT</th>\n      <th>WORK/SCHOOL</th>\n    </tr>\n  </thead>\n  <tbody>\n    <tr>\n      <th>0</th>\n      <td>621e2ff067b776a2403eb737</td>\n      <td>2021-12-22</td>\n      <td>19</td>\n      <td>NaN</td>\n      <td>NaN</td>\n      <td>10.0</td>\n      <td>27.35</td>\n      <td>19650.0</td>\n      <td>NaN</td>\n      <td>NaN</td>\n      <td>...</td>\n      <td>NaN</td>\n      <td>NaN</td>\n      <td>NaN</td>\n      <td>NaN</td>\n      <td>NaN</td>\n      <td>NaN</td>\n      <td>NaN</td>\n      <td>NaN</td>\n      <td>NaN</td>\n      <td>NaN</td>\n    </tr>\n    <tr>\n      <th>1</th>\n      <td>621e2ff067b776a2403eb737</td>\n      <td>2021-11-18</td>\n      <td>0</td>\n      <td>NaN</td>\n      <td>NaN</td>\n      <td>NaN</td>\n      <td>2.35</td>\n      <td>0.0</td>\n      <td>314.0</td>\n      <td>NaN</td>\n      <td>...</td>\n      <td>NaN</td>\n      <td>NaN</td>\n      <td>NaN</td>\n      <td>NaN</td>\n      <td>NaN</td>\n      <td>NaN</td>\n      <td>NaN</td>\n      <td>NaN</td>\n      <td>NaN</td>\n      <td>NaN</td>\n    </tr>\n    <tr>\n      <th>2</th>\n      <td>621e2ff067b776a2403eb737</td>\n      <td>2021-11-18</td>\n      <td>21</td>\n      <td>NaN</td>\n      <td>NaN</td>\n      <td>20.0</td>\n      <td>44.50</td>\n      <td>26880.0</td>\n      <td>NaN</td>\n      <td>NaN</td>\n      <td>...</td>\n      <td>NaN</td>\n      <td>NaN</td>\n      <td>NaN</td>\n      <td>NaN</td>\n      <td>NaN</td>\n      <td>NaN</td>\n      <td>NaN</td>\n      <td>NaN</td>\n      <td>NaN</td>\n      <td>NaN</td>\n    </tr>\n    <tr>\n      <th>3</th>\n      <td>621e2ff067b776a2403eb737</td>\n      <td>2021-11-20</td>\n      <td>0</td>\n      <td>NaN</td>\n      <td>NaN</td>\n      <td>20.0</td>\n      <td>46.06</td>\n      <td>32050.0</td>\n      <td>272.0</td>\n      <td>NaN</td>\n      <td>...</td>\n      <td>NaN</td>\n      <td>NaN</td>\n      <td>NaN</td>\n      <td>NaN</td>\n      <td>NaN</td>\n      <td>NaN</td>\n      <td>NaN</td>\n      <td>NaN</td>\n      <td>NaN</td>\n      <td>NaN</td>\n    </tr>\n    <tr>\n      <th>4</th>\n      <td>621e2ff067b776a2403eb737</td>\n      <td>2021-11-20</td>\n      <td>23</td>\n      <td>NaN</td>\n      <td>NaN</td>\n      <td>NaN</td>\n      <td>2.35</td>\n      <td>0.0</td>\n      <td>NaN</td>\n      <td>NaN</td>\n      <td>...</td>\n      <td>NaN</td>\n      <td>NaN</td>\n      <td>NaN</td>\n      <td>NaN</td>\n      <td>NaN</td>\n      <td>NaN</td>\n      <td>NaN</td>\n      <td>NaN</td>\n      <td>NaN</td>\n      <td>NaN</td>\n    </tr>\n    <tr>\n      <th>...</th>\n      <td>...</td>\n      <td>...</td>\n      <td>...</td>\n      <td>...</td>\n      <td>...</td>\n      <td>...</td>\n      <td>...</td>\n      <td>...</td>\n      <td>...</td>\n      <td>...</td>\n      <td>...</td>\n      <td>...</td>\n      <td>...</td>\n      <td>...</td>\n      <td>...</td>\n      <td>...</td>\n      <td>...</td>\n      <td>...</td>\n      <td>...</td>\n      <td>...</td>\n      <td>...</td>\n    </tr>\n    <tr>\n      <th>165086</th>\n      <td>621e36f967b776a240e5e7c9</td>\n      <td>2021-05-20</td>\n      <td>16</td>\n      <td>NaN</td>\n      <td>NaN</td>\n      <td>NaN</td>\n      <td>NaN</td>\n      <td>NaN</td>\n      <td>NaN</td>\n      <td>NaN</td>\n      <td>...</td>\n      <td>NaN</td>\n      <td>NaN</td>\n      <td>0.0</td>\n      <td>0.0</td>\n      <td>0.0</td>\n      <td>0.0</td>\n      <td>0.0</td>\n      <td>0.0</td>\n      <td>0.0</td>\n      <td>1.0</td>\n    </tr>\n    <tr>\n      <th>165087</th>\n      <td>621e36f967b776a240e5e7c9</td>\n      <td>2021-05-20</td>\n      <td>20</td>\n      <td>NaN</td>\n      <td>NaN</td>\n      <td>NaN</td>\n      <td>NaN</td>\n      <td>NaN</td>\n      <td>NaN</td>\n      <td>NaN</td>\n      <td>...</td>\n      <td>NaN</td>\n      <td>NaN</td>\n      <td>0.0</td>\n      <td>0.0</td>\n      <td>1.0</td>\n      <td>0.0</td>\n      <td>0.0</td>\n      <td>0.0</td>\n      <td>0.0</td>\n      <td>0.0</td>\n    </tr>\n    <tr>\n      <th>165088</th>\n      <td>621e36f967b776a240e5e7c9</td>\n      <td>2021-05-21</td>\n      <td>17</td>\n      <td>NaN</td>\n      <td>NaN</td>\n      <td>NaN</td>\n      <td>NaN</td>\n      <td>NaN</td>\n      <td>NaN</td>\n      <td>NaN</td>\n      <td>...</td>\n      <td>NaN</td>\n      <td>NaN</td>\n      <td>0.0</td>\n      <td>0.0</td>\n      <td>0.0</td>\n      <td>0.0</td>\n      <td>0.0</td>\n      <td>0.0</td>\n      <td>1.0</td>\n      <td>0.0</td>\n    </tr>\n    <tr>\n      <th>165089</th>\n      <td>621e36f967b776a240e5e7c9</td>\n      <td>2021-05-21</td>\n      <td>22</td>\n      <td>NaN</td>\n      <td>NaN</td>\n      <td>NaN</td>\n      <td>NaN</td>\n      <td>NaN</td>\n      <td>NaN</td>\n      <td>NaN</td>\n      <td>...</td>\n      <td>NaN</td>\n      <td>NaN</td>\n      <td>0.0</td>\n      <td>0.0</td>\n      <td>1.0</td>\n      <td>0.0</td>\n      <td>0.0</td>\n      <td>0.0</td>\n      <td>0.0</td>\n      <td>0.0</td>\n    </tr>\n    <tr>\n      <th>165090</th>\n      <td>621e36f967b776a240e5e7c9</td>\n      <td>2021-05-22</td>\n      <td>18</td>\n      <td>NaN</td>\n      <td>NaN</td>\n      <td>NaN</td>\n      <td>NaN</td>\n      <td>NaN</td>\n      <td>NaN</td>\n      <td>NaN</td>\n      <td>...</td>\n      <td>NaN</td>\n      <td>NaN</td>\n      <td>0.0</td>\n      <td>0.0</td>\n      <td>1.0</td>\n      <td>0.0</td>\n      <td>0.0</td>\n      <td>0.0</td>\n      <td>0.0</td>\n      <td>0.0</td>\n    </tr>\n  </tbody>\n</table>\n<p>165091 rows × 83 columns</p>\n</div>"
     },
     "execution_count": 64,
     "metadata": {},
     "output_type": "execute_result"
    }
   ],
   "source": [
    "training_df = pd.read_pickle('../data/basic_preprocessed_training_df.pkl')\n",
    "training_df"
   ],
   "metadata": {
    "collapsed": false,
    "pycharm": {
     "name": "#%%\n"
    }
   }
  },
  {
   "cell_type": "markdown",
   "source": [
    "Group together features that need the same granularity preprocessing"
   ],
   "metadata": {
    "collapsed": false,
    "pycharm": {
     "name": "#%% md\n"
    }
   }
  },
  {
   "cell_type": "code",
   "execution_count": null,
   "outputs": [],
   "source": [
    "copy_daily = ['exertion_points', 'lightly_active_minutes ', 'moderately_active_ minutes', 'sedentary_minutes', 'very_active_minutes', 'step_goal', '']"
   ],
   "metadata": {
    "collapsed": false,
    "pycharm": {
     "name": "#%%\n"
    }
   }
  },
  {
   "cell_type": "code",
   "execution_count": null,
   "outputs": [],
   "source": [],
   "metadata": {
    "collapsed": false,
    "pycharm": {
     "name": "#%%\n"
    }
   }
  }
 ],
 "metadata": {
  "kernelspec": {
   "display_name": "Python 3",
   "language": "python",
   "name": "python3"
  },
  "language_info": {
   "codemirror_mode": {
    "name": "ipython",
    "version": 2
   },
   "file_extension": ".py",
   "mimetype": "text/x-python",
   "name": "python",
   "nbconvert_exporter": "python",
   "pygments_lexer": "ipython2",
   "version": "2.7.6"
  }
 },
 "nbformat": 4,
 "nbformat_minor": 0
}