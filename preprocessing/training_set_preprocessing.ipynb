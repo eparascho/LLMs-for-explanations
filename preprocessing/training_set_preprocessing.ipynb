{
 "cells": [
  {
   "cell_type": "markdown",
   "source": [
    "##### This notebook preprocesses the initial training set and creates a cleaned version of the training set to be provided to the clustering algorithm.\n",
    "In more detail it contains the following steps:\n",
    "1. It encodes features (e.g., with one-hot encoding and binary-encoding) that contain series as values\n",
    "2. It explores the encoded dataframe to remove unnecessary rows and columns\n",
    "3. It runs dataprep and identifies basic preprocessing\n",
    "4. It implements basic preprocessing actions on the corresponding features\n",
    "5. It implements preprocessing on the different features' granularity\n",
    "6. It identifies and reports the preprocessing actions need per each feature individually\n",
    "7. It drops features that exceed a specific NaN threshold\n",
    "8. It drops users that exceed a specific NaN threshold\n",
    "9. It implements the preprocessing actions identified on step 2\n"
   ],
   "metadata": {
    "collapsed": false,
    "pycharm": {
     "name": "#%% md\n"
    }
   }
  },
  {
   "cell_type": "code",
   "execution_count": 5,
   "outputs": [],
   "source": [
    "import warnings\n",
    "import datetime\n",
    "import numpy as np\n",
    "import pandas as pd\n",
    "from dataprep.eda import create_report\n",
    "from functions import training_set_preprocessing\n",
    "\n",
    "warnings.filterwarnings(\"ignore\")"
   ],
   "metadata": {
    "collapsed": false,
    "pycharm": {
     "name": "#%%\n"
    }
   }
  },
  {
   "cell_type": "markdown",
   "source": [
    "Load the initial training set"
   ],
   "metadata": {
    "collapsed": false,
    "pycharm": {
     "name": "#%% md\n"
    }
   }
  },
  {
   "cell_type": "code",
   "execution_count": 6,
   "outputs": [
    {
     "data": {
      "text/plain": "                              id       date  hour  sleep_points  \\\n0       621e2ff067b776a2403eb737 2021-12-22    19           NaN   \n1       621e2ff067b776a2403eb737 2021-11-18     0           NaN   \n2       621e2ff067b776a2403eb737 2021-11-18    21           NaN   \n3       621e2ff067b776a2403eb737 2021-11-20     0           NaN   \n4       621e2ff067b776a2403eb737 2021-11-20    23           NaN   \n...                          ...        ...   ...           ...   \n165086  621e36f967b776a240e5e7c9 2021-05-20    16           NaN   \n165087  621e36f967b776a240e5e7c9 2021-05-20    20           NaN   \n165088  621e36f967b776a240e5e7c9 2021-05-21    17           NaN   \n165089  621e36f967b776a240e5e7c9 2021-05-21    22           NaN   \n165090  621e36f967b776a240e5e7c9 2021-05-22    18           NaN   \n\n        exertion_points  altitude badge_type badge_value  calories  distance  \\\n0                   NaN      10.0        NaN         NaN     27.35   19650.0   \n1                   NaN       NaN        NaN         NaN      2.35       0.0   \n2                   NaN      20.0        NaN         NaN     44.50   26880.0   \n3                   NaN      20.0        NaN         NaN     46.06   32050.0   \n4                   NaN       NaN        NaN         NaN      2.35       0.0   \n...                 ...       ...        ...         ...       ...       ...   \n165086              NaN       NaN        NaN         NaN       NaN       NaN   \n165087              NaN       NaN        NaN         NaN       NaN       NaN   \n165088              NaN       NaN        NaN         NaN       NaN       NaN   \n165089              NaN       NaN        NaN         NaN       NaN       NaN   \n165090              NaN       NaN        NaN         NaN       NaN       NaN   \n\n        ...  minutes_after_wakeup  time_in_bed  sleep_efficiency  main_sleep  \\\n0       ...                   NaN          NaN               NaN         NaN   \n1       ...                   NaN          NaN               NaN         NaN   \n2       ...                   NaN          NaN               NaN         NaN   \n3       ...                   NaN          NaN               NaN         NaN   \n4       ...                   NaN          NaN               NaN         NaN   \n...     ...                   ...          ...               ...         ...   \n165086  ...                   NaN          NaN               NaN         NaN   \n165087  ...                   NaN          NaN               NaN         NaN   \n165088  ...                   NaN          NaN               NaN         NaN   \n165089  ...                   NaN          NaN               NaN         NaN   \n165090  ...                   NaN          NaN               NaN         NaN   \n\n        consciousness_raising_category  counterconditioning_category  \\\n0                                  NaN                           NaN   \n1                                  NaN                           NaN   \n2                                  NaN                           NaN   \n3                                  NaN                           NaN   \n4                                  NaN                           NaN   \n...                                ...                           ...   \n165086                             NaN                           NaN   \n165087                             NaN                           NaN   \n165088                             NaN                           NaN   \n165089                             NaN                           NaN   \n165090                             NaN                           NaN   \n\n        helping_relationships_category  stimulus_control_category  step_goal  \\\n0                                  NaN                        NaN        NaN   \n1                                  NaN                        NaN        NaN   \n2                                  NaN                        NaN        NaN   \n3                                  NaN                        NaN        NaN   \n4                                  NaN                        NaN        NaN   \n...                                ...                        ...        ...   \n165086                             NaN                        NaN        NaN   \n165087                             NaN                        NaN        NaN   \n165088                             NaN                        NaN        NaN   \n165089                             NaN                        NaN        NaN   \n165090                             NaN                        NaN        NaN   \n\n              place  \n0               NaN  \n1               NaN  \n2               NaN  \n3               NaN  \n4               NaN  \n...             ...  \n165086  WORK/SCHOOL  \n165087         HOME  \n165088      TRANSIT  \n165089         HOME  \n165090         HOME  \n\n[165091 rows x 56 columns]",
      "text/html": "<div>\n<style scoped>\n    .dataframe tbody tr th:only-of-type {\n        vertical-align: middle;\n    }\n\n    .dataframe tbody tr th {\n        vertical-align: top;\n    }\n\n    .dataframe thead th {\n        text-align: right;\n    }\n</style>\n<table border=\"1\" class=\"dataframe\">\n  <thead>\n    <tr style=\"text-align: right;\">\n      <th></th>\n      <th>id</th>\n      <th>date</th>\n      <th>hour</th>\n      <th>sleep_points</th>\n      <th>exertion_points</th>\n      <th>altitude</th>\n      <th>badge_type</th>\n      <th>badge_value</th>\n      <th>calories</th>\n      <th>distance</th>\n      <th>...</th>\n      <th>minutes_after_wakeup</th>\n      <th>time_in_bed</th>\n      <th>sleep_efficiency</th>\n      <th>main_sleep</th>\n      <th>consciousness_raising_category</th>\n      <th>counterconditioning_category</th>\n      <th>helping_relationships_category</th>\n      <th>stimulus_control_category</th>\n      <th>step_goal</th>\n      <th>place</th>\n    </tr>\n  </thead>\n  <tbody>\n    <tr>\n      <th>0</th>\n      <td>621e2ff067b776a2403eb737</td>\n      <td>2021-12-22</td>\n      <td>19</td>\n      <td>NaN</td>\n      <td>NaN</td>\n      <td>10.0</td>\n      <td>NaN</td>\n      <td>NaN</td>\n      <td>27.35</td>\n      <td>19650.0</td>\n      <td>...</td>\n      <td>NaN</td>\n      <td>NaN</td>\n      <td>NaN</td>\n      <td>NaN</td>\n      <td>NaN</td>\n      <td>NaN</td>\n      <td>NaN</td>\n      <td>NaN</td>\n      <td>NaN</td>\n      <td>NaN</td>\n    </tr>\n    <tr>\n      <th>1</th>\n      <td>621e2ff067b776a2403eb737</td>\n      <td>2021-11-18</td>\n      <td>0</td>\n      <td>NaN</td>\n      <td>NaN</td>\n      <td>NaN</td>\n      <td>NaN</td>\n      <td>NaN</td>\n      <td>2.35</td>\n      <td>0.0</td>\n      <td>...</td>\n      <td>NaN</td>\n      <td>NaN</td>\n      <td>NaN</td>\n      <td>NaN</td>\n      <td>NaN</td>\n      <td>NaN</td>\n      <td>NaN</td>\n      <td>NaN</td>\n      <td>NaN</td>\n      <td>NaN</td>\n    </tr>\n    <tr>\n      <th>2</th>\n      <td>621e2ff067b776a2403eb737</td>\n      <td>2021-11-18</td>\n      <td>21</td>\n      <td>NaN</td>\n      <td>NaN</td>\n      <td>20.0</td>\n      <td>NaN</td>\n      <td>NaN</td>\n      <td>44.50</td>\n      <td>26880.0</td>\n      <td>...</td>\n      <td>NaN</td>\n      <td>NaN</td>\n      <td>NaN</td>\n      <td>NaN</td>\n      <td>NaN</td>\n      <td>NaN</td>\n      <td>NaN</td>\n      <td>NaN</td>\n      <td>NaN</td>\n      <td>NaN</td>\n    </tr>\n    <tr>\n      <th>3</th>\n      <td>621e2ff067b776a2403eb737</td>\n      <td>2021-11-20</td>\n      <td>0</td>\n      <td>NaN</td>\n      <td>NaN</td>\n      <td>20.0</td>\n      <td>NaN</td>\n      <td>NaN</td>\n      <td>46.06</td>\n      <td>32050.0</td>\n      <td>...</td>\n      <td>NaN</td>\n      <td>NaN</td>\n      <td>NaN</td>\n      <td>NaN</td>\n      <td>NaN</td>\n      <td>NaN</td>\n      <td>NaN</td>\n      <td>NaN</td>\n      <td>NaN</td>\n      <td>NaN</td>\n    </tr>\n    <tr>\n      <th>4</th>\n      <td>621e2ff067b776a2403eb737</td>\n      <td>2021-11-20</td>\n      <td>23</td>\n      <td>NaN</td>\n      <td>NaN</td>\n      <td>NaN</td>\n      <td>NaN</td>\n      <td>NaN</td>\n      <td>2.35</td>\n      <td>0.0</td>\n      <td>...</td>\n      <td>NaN</td>\n      <td>NaN</td>\n      <td>NaN</td>\n      <td>NaN</td>\n      <td>NaN</td>\n      <td>NaN</td>\n      <td>NaN</td>\n      <td>NaN</td>\n      <td>NaN</td>\n      <td>NaN</td>\n    </tr>\n    <tr>\n      <th>...</th>\n      <td>...</td>\n      <td>...</td>\n      <td>...</td>\n      <td>...</td>\n      <td>...</td>\n      <td>...</td>\n      <td>...</td>\n      <td>...</td>\n      <td>...</td>\n      <td>...</td>\n      <td>...</td>\n      <td>...</td>\n      <td>...</td>\n      <td>...</td>\n      <td>...</td>\n      <td>...</td>\n      <td>...</td>\n      <td>...</td>\n      <td>...</td>\n      <td>...</td>\n      <td>...</td>\n    </tr>\n    <tr>\n      <th>165086</th>\n      <td>621e36f967b776a240e5e7c9</td>\n      <td>2021-05-20</td>\n      <td>16</td>\n      <td>NaN</td>\n      <td>NaN</td>\n      <td>NaN</td>\n      <td>NaN</td>\n      <td>NaN</td>\n      <td>NaN</td>\n      <td>NaN</td>\n      <td>...</td>\n      <td>NaN</td>\n      <td>NaN</td>\n      <td>NaN</td>\n      <td>NaN</td>\n      <td>NaN</td>\n      <td>NaN</td>\n      <td>NaN</td>\n      <td>NaN</td>\n      <td>NaN</td>\n      <td>WORK/SCHOOL</td>\n    </tr>\n    <tr>\n      <th>165087</th>\n      <td>621e36f967b776a240e5e7c9</td>\n      <td>2021-05-20</td>\n      <td>20</td>\n      <td>NaN</td>\n      <td>NaN</td>\n      <td>NaN</td>\n      <td>NaN</td>\n      <td>NaN</td>\n      <td>NaN</td>\n      <td>NaN</td>\n      <td>...</td>\n      <td>NaN</td>\n      <td>NaN</td>\n      <td>NaN</td>\n      <td>NaN</td>\n      <td>NaN</td>\n      <td>NaN</td>\n      <td>NaN</td>\n      <td>NaN</td>\n      <td>NaN</td>\n      <td>HOME</td>\n    </tr>\n    <tr>\n      <th>165088</th>\n      <td>621e36f967b776a240e5e7c9</td>\n      <td>2021-05-21</td>\n      <td>17</td>\n      <td>NaN</td>\n      <td>NaN</td>\n      <td>NaN</td>\n      <td>NaN</td>\n      <td>NaN</td>\n      <td>NaN</td>\n      <td>NaN</td>\n      <td>...</td>\n      <td>NaN</td>\n      <td>NaN</td>\n      <td>NaN</td>\n      <td>NaN</td>\n      <td>NaN</td>\n      <td>NaN</td>\n      <td>NaN</td>\n      <td>NaN</td>\n      <td>NaN</td>\n      <td>TRANSIT</td>\n    </tr>\n    <tr>\n      <th>165089</th>\n      <td>621e36f967b776a240e5e7c9</td>\n      <td>2021-05-21</td>\n      <td>22</td>\n      <td>NaN</td>\n      <td>NaN</td>\n      <td>NaN</td>\n      <td>NaN</td>\n      <td>NaN</td>\n      <td>NaN</td>\n      <td>NaN</td>\n      <td>...</td>\n      <td>NaN</td>\n      <td>NaN</td>\n      <td>NaN</td>\n      <td>NaN</td>\n      <td>NaN</td>\n      <td>NaN</td>\n      <td>NaN</td>\n      <td>NaN</td>\n      <td>NaN</td>\n      <td>HOME</td>\n    </tr>\n    <tr>\n      <th>165090</th>\n      <td>621e36f967b776a240e5e7c9</td>\n      <td>2021-05-22</td>\n      <td>18</td>\n      <td>NaN</td>\n      <td>NaN</td>\n      <td>NaN</td>\n      <td>NaN</td>\n      <td>NaN</td>\n      <td>NaN</td>\n      <td>NaN</td>\n      <td>...</td>\n      <td>NaN</td>\n      <td>NaN</td>\n      <td>NaN</td>\n      <td>NaN</td>\n      <td>NaN</td>\n      <td>NaN</td>\n      <td>NaN</td>\n      <td>NaN</td>\n      <td>NaN</td>\n      <td>HOME</td>\n    </tr>\n  </tbody>\n</table>\n<p>165091 rows × 56 columns</p>\n</div>"
     },
     "execution_count": 6,
     "metadata": {},
     "output_type": "execute_result"
    }
   ],
   "source": [
    "training_df = pd.read_pickle('../data/training_df.pkl')\n",
    "training_df"
   ],
   "metadata": {
    "collapsed": false,
    "pycharm": {
     "name": "#%%\n"
    }
   }
  },
  {
   "cell_type": "markdown",
   "source": [
    "##### 1. Encode features that contain series as values"
   ],
   "metadata": {
    "collapsed": false,
    "pycharm": {
     "name": "#%% md\n"
    }
   }
  },
  {
   "cell_type": "markdown",
   "source": [
    "Find the features that contain series and arrays as values"
   ],
   "metadata": {
    "collapsed": false,
    "pycharm": {
     "name": "#%% md\n"
    }
   }
  },
  {
   "cell_type": "code",
   "execution_count": 7,
   "outputs": [
    {
     "name": "stdout",
     "output_type": "stream",
     "text": [
      "19\n"
     ]
    },
    {
     "data": {
      "text/plain": "['badge_type',\n 'badge_value',\n 'exercise',\n 'exercise_calories',\n 'exercise_avg_hr',\n 'exercise_duration',\n 'exercise_steps',\n 'exercise_sedentary_minutes',\n 'exercise_lightly_minutes',\n 'exercise_fairly_minutes',\n 'exercise_very_minutes',\n 'exercise_Out of Range_zone_minutes',\n 'exercise_Out of Range_zone_calories',\n 'exercise_Fat Burn_zone_minutes',\n 'exercise_Fat Burn_zone_calories',\n 'exercise_Cardio_zone_minutes',\n 'exercise_Cardio_zone_calories',\n 'exercise_Peak_zone_minutes',\n 'exercise_Peak_zone_calories']"
     },
     "execution_count": 7,
     "metadata": {},
     "output_type": "execute_result"
    }
   ],
   "source": [
    "features = list(training_df.columns)\n",
    "del features[0:3]\n",
    "preprocessing_features = []\n",
    "for feature in features:\n",
    "    if training_df[feature].apply(lambda d: True if isinstance(d, np.ndarray) or isinstance(d, pd.Series) else False).any():\n",
    "        preprocessing_features.append(feature)\n",
    "print(len(preprocessing_features))\n",
    "preprocessing_features"
   ],
   "metadata": {
    "collapsed": false,
    "pycharm": {
     "name": "#%%\n"
    }
   }
  },
  {
   "cell_type": "markdown",
   "source": [
    "Preprocessing for badge_type and badge_value"
   ],
   "metadata": {
    "collapsed": false,
    "pycharm": {
     "name": "#%% md\n"
    }
   }
  },
  {
   "cell_type": "code",
   "execution_count": 8,
   "outputs": [
    {
     "data": {
      "text/plain": "                              id       date  hour  sleep_points  \\\n0       621e2ff067b776a2403eb737 2021-12-22    19           NaN   \n1       621e2ff067b776a2403eb737 2021-11-18     0           NaN   \n2       621e2ff067b776a2403eb737 2021-11-18    21           NaN   \n3       621e2ff067b776a2403eb737 2021-11-20     0           NaN   \n4       621e2ff067b776a2403eb737 2021-11-20    23           NaN   \n...                          ...        ...   ...           ...   \n165086  621e36f967b776a240e5e7c9 2021-05-20    16           NaN   \n165087  621e36f967b776a240e5e7c9 2021-05-20    20           NaN   \n165088  621e36f967b776a240e5e7c9 2021-05-21    17           NaN   \n165089  621e36f967b776a240e5e7c9 2021-05-21    22           NaN   \n165090  621e36f967b776a240e5e7c9 2021-05-22    18           NaN   \n\n        exertion_points  altitude  calories  distance  lightly_active_minutes  \\\n0                   NaN      10.0     27.35   19650.0                     NaN   \n1                   NaN       NaN      2.35       0.0                   314.0   \n2                   NaN      20.0     44.50   26880.0                     NaN   \n3                   NaN      20.0     46.06   32050.0                   272.0   \n4                   NaN       NaN      2.35       0.0                     NaN   \n...                 ...       ...       ...       ...                     ...   \n165086              NaN       NaN       NaN       NaN                     NaN   \n165087              NaN       NaN       NaN       NaN                     NaN   \n165088              NaN       NaN       NaN       NaN                     NaN   \n165089              NaN       NaN       NaN       NaN                     NaN   \n165090              NaN       NaN       NaN       NaN                     NaN   \n\n        mindfulness_goal  ...  helping_relationships_category  \\\n0                    NaN  ...                             NaN   \n1                    NaN  ...                             NaN   \n2                    NaN  ...                             NaN   \n3                    NaN  ...                             NaN   \n4                    NaN  ...                             NaN   \n...                  ...  ...                             ...   \n165086               NaN  ...                             NaN   \n165087               NaN  ...                             NaN   \n165088               NaN  ...                             NaN   \n165089               NaN  ...                             NaN   \n165090               NaN  ...                             NaN   \n\n        stimulus_control_category  step_goal        place  LIFETIME_DISTANCE  \\\n0                             NaN        NaN          NaN                NaN   \n1                             NaN        NaN          NaN                NaN   \n2                             NaN        NaN          NaN                NaN   \n3                             NaN        NaN          NaN                NaN   \n4                             NaN        NaN          NaN                NaN   \n...                           ...        ...          ...                ...   \n165086                        NaN        NaN  WORK/SCHOOL                NaN   \n165087                        NaN        NaN         HOME                NaN   \n165088                        NaN        NaN      TRANSIT                NaN   \n165089                        NaN        NaN         HOME                NaN   \n165090                        NaN        NaN         HOME                NaN   \n\n        LIFETIME_FLOORS  DAILY_STEPS  DAILY_FLOORS  \\\n0                   NaN          NaN           NaN   \n1                   NaN          NaN           NaN   \n2                   NaN          NaN           NaN   \n3                   NaN          NaN           NaN   \n4                   NaN          NaN           NaN   \n...                 ...          ...           ...   \n165086              NaN          NaN           NaN   \n165087              NaN          NaN           NaN   \n165088              NaN          NaN           NaN   \n165089              NaN          NaN           NaN   \n165090              NaN          NaN           NaN   \n\n        LIFETIME_WEIGHT_GOAL_SETUP GOAL_BASED_WEIGHT_LOSS  \n0                              NaN                    NaN  \n1                              NaN                    NaN  \n2                              NaN                    NaN  \n3                              NaN                    NaN  \n4                              NaN                    NaN  \n...                            ...                    ...  \n165086                         NaN                    NaN  \n165087                         NaN                    NaN  \n165088                         NaN                    NaN  \n165089                         NaN                    NaN  \n165090                         NaN                    NaN  \n\n[165091 rows x 60 columns]",
      "text/html": "<div>\n<style scoped>\n    .dataframe tbody tr th:only-of-type {\n        vertical-align: middle;\n    }\n\n    .dataframe tbody tr th {\n        vertical-align: top;\n    }\n\n    .dataframe thead th {\n        text-align: right;\n    }\n</style>\n<table border=\"1\" class=\"dataframe\">\n  <thead>\n    <tr style=\"text-align: right;\">\n      <th></th>\n      <th>id</th>\n      <th>date</th>\n      <th>hour</th>\n      <th>sleep_points</th>\n      <th>exertion_points</th>\n      <th>altitude</th>\n      <th>calories</th>\n      <th>distance</th>\n      <th>lightly_active_minutes</th>\n      <th>mindfulness_goal</th>\n      <th>...</th>\n      <th>helping_relationships_category</th>\n      <th>stimulus_control_category</th>\n      <th>step_goal</th>\n      <th>place</th>\n      <th>LIFETIME_DISTANCE</th>\n      <th>LIFETIME_FLOORS</th>\n      <th>DAILY_STEPS</th>\n      <th>DAILY_FLOORS</th>\n      <th>LIFETIME_WEIGHT_GOAL_SETUP</th>\n      <th>GOAL_BASED_WEIGHT_LOSS</th>\n    </tr>\n  </thead>\n  <tbody>\n    <tr>\n      <th>0</th>\n      <td>621e2ff067b776a2403eb737</td>\n      <td>2021-12-22</td>\n      <td>19</td>\n      <td>NaN</td>\n      <td>NaN</td>\n      <td>10.0</td>\n      <td>27.35</td>\n      <td>19650.0</td>\n      <td>NaN</td>\n      <td>NaN</td>\n      <td>...</td>\n      <td>NaN</td>\n      <td>NaN</td>\n      <td>NaN</td>\n      <td>NaN</td>\n      <td>NaN</td>\n      <td>NaN</td>\n      <td>NaN</td>\n      <td>NaN</td>\n      <td>NaN</td>\n      <td>NaN</td>\n    </tr>\n    <tr>\n      <th>1</th>\n      <td>621e2ff067b776a2403eb737</td>\n      <td>2021-11-18</td>\n      <td>0</td>\n      <td>NaN</td>\n      <td>NaN</td>\n      <td>NaN</td>\n      <td>2.35</td>\n      <td>0.0</td>\n      <td>314.0</td>\n      <td>NaN</td>\n      <td>...</td>\n      <td>NaN</td>\n      <td>NaN</td>\n      <td>NaN</td>\n      <td>NaN</td>\n      <td>NaN</td>\n      <td>NaN</td>\n      <td>NaN</td>\n      <td>NaN</td>\n      <td>NaN</td>\n      <td>NaN</td>\n    </tr>\n    <tr>\n      <th>2</th>\n      <td>621e2ff067b776a2403eb737</td>\n      <td>2021-11-18</td>\n      <td>21</td>\n      <td>NaN</td>\n      <td>NaN</td>\n      <td>20.0</td>\n      <td>44.50</td>\n      <td>26880.0</td>\n      <td>NaN</td>\n      <td>NaN</td>\n      <td>...</td>\n      <td>NaN</td>\n      <td>NaN</td>\n      <td>NaN</td>\n      <td>NaN</td>\n      <td>NaN</td>\n      <td>NaN</td>\n      <td>NaN</td>\n      <td>NaN</td>\n      <td>NaN</td>\n      <td>NaN</td>\n    </tr>\n    <tr>\n      <th>3</th>\n      <td>621e2ff067b776a2403eb737</td>\n      <td>2021-11-20</td>\n      <td>0</td>\n      <td>NaN</td>\n      <td>NaN</td>\n      <td>20.0</td>\n      <td>46.06</td>\n      <td>32050.0</td>\n      <td>272.0</td>\n      <td>NaN</td>\n      <td>...</td>\n      <td>NaN</td>\n      <td>NaN</td>\n      <td>NaN</td>\n      <td>NaN</td>\n      <td>NaN</td>\n      <td>NaN</td>\n      <td>NaN</td>\n      <td>NaN</td>\n      <td>NaN</td>\n      <td>NaN</td>\n    </tr>\n    <tr>\n      <th>4</th>\n      <td>621e2ff067b776a2403eb737</td>\n      <td>2021-11-20</td>\n      <td>23</td>\n      <td>NaN</td>\n      <td>NaN</td>\n      <td>NaN</td>\n      <td>2.35</td>\n      <td>0.0</td>\n      <td>NaN</td>\n      <td>NaN</td>\n      <td>...</td>\n      <td>NaN</td>\n      <td>NaN</td>\n      <td>NaN</td>\n      <td>NaN</td>\n      <td>NaN</td>\n      <td>NaN</td>\n      <td>NaN</td>\n      <td>NaN</td>\n      <td>NaN</td>\n      <td>NaN</td>\n    </tr>\n    <tr>\n      <th>...</th>\n      <td>...</td>\n      <td>...</td>\n      <td>...</td>\n      <td>...</td>\n      <td>...</td>\n      <td>...</td>\n      <td>...</td>\n      <td>...</td>\n      <td>...</td>\n      <td>...</td>\n      <td>...</td>\n      <td>...</td>\n      <td>...</td>\n      <td>...</td>\n      <td>...</td>\n      <td>...</td>\n      <td>...</td>\n      <td>...</td>\n      <td>...</td>\n      <td>...</td>\n      <td>...</td>\n    </tr>\n    <tr>\n      <th>165086</th>\n      <td>621e36f967b776a240e5e7c9</td>\n      <td>2021-05-20</td>\n      <td>16</td>\n      <td>NaN</td>\n      <td>NaN</td>\n      <td>NaN</td>\n      <td>NaN</td>\n      <td>NaN</td>\n      <td>NaN</td>\n      <td>NaN</td>\n      <td>...</td>\n      <td>NaN</td>\n      <td>NaN</td>\n      <td>NaN</td>\n      <td>WORK/SCHOOL</td>\n      <td>NaN</td>\n      <td>NaN</td>\n      <td>NaN</td>\n      <td>NaN</td>\n      <td>NaN</td>\n      <td>NaN</td>\n    </tr>\n    <tr>\n      <th>165087</th>\n      <td>621e36f967b776a240e5e7c9</td>\n      <td>2021-05-20</td>\n      <td>20</td>\n      <td>NaN</td>\n      <td>NaN</td>\n      <td>NaN</td>\n      <td>NaN</td>\n      <td>NaN</td>\n      <td>NaN</td>\n      <td>NaN</td>\n      <td>...</td>\n      <td>NaN</td>\n      <td>NaN</td>\n      <td>NaN</td>\n      <td>HOME</td>\n      <td>NaN</td>\n      <td>NaN</td>\n      <td>NaN</td>\n      <td>NaN</td>\n      <td>NaN</td>\n      <td>NaN</td>\n    </tr>\n    <tr>\n      <th>165088</th>\n      <td>621e36f967b776a240e5e7c9</td>\n      <td>2021-05-21</td>\n      <td>17</td>\n      <td>NaN</td>\n      <td>NaN</td>\n      <td>NaN</td>\n      <td>NaN</td>\n      <td>NaN</td>\n      <td>NaN</td>\n      <td>NaN</td>\n      <td>...</td>\n      <td>NaN</td>\n      <td>NaN</td>\n      <td>NaN</td>\n      <td>TRANSIT</td>\n      <td>NaN</td>\n      <td>NaN</td>\n      <td>NaN</td>\n      <td>NaN</td>\n      <td>NaN</td>\n      <td>NaN</td>\n    </tr>\n    <tr>\n      <th>165089</th>\n      <td>621e36f967b776a240e5e7c9</td>\n      <td>2021-05-21</td>\n      <td>22</td>\n      <td>NaN</td>\n      <td>NaN</td>\n      <td>NaN</td>\n      <td>NaN</td>\n      <td>NaN</td>\n      <td>NaN</td>\n      <td>NaN</td>\n      <td>...</td>\n      <td>NaN</td>\n      <td>NaN</td>\n      <td>NaN</td>\n      <td>HOME</td>\n      <td>NaN</td>\n      <td>NaN</td>\n      <td>NaN</td>\n      <td>NaN</td>\n      <td>NaN</td>\n      <td>NaN</td>\n    </tr>\n    <tr>\n      <th>165090</th>\n      <td>621e36f967b776a240e5e7c9</td>\n      <td>2021-05-22</td>\n      <td>18</td>\n      <td>NaN</td>\n      <td>NaN</td>\n      <td>NaN</td>\n      <td>NaN</td>\n      <td>NaN</td>\n      <td>NaN</td>\n      <td>NaN</td>\n      <td>...</td>\n      <td>NaN</td>\n      <td>NaN</td>\n      <td>NaN</td>\n      <td>HOME</td>\n      <td>NaN</td>\n      <td>NaN</td>\n      <td>NaN</td>\n      <td>NaN</td>\n      <td>NaN</td>\n      <td>NaN</td>\n    </tr>\n  </tbody>\n</table>\n<p>165091 rows × 60 columns</p>\n</div>"
     },
     "execution_count": 8,
     "metadata": {},
     "output_type": "execute_result"
    }
   ],
   "source": [
    "# encode a pair of categorical-numerical features\n",
    "df_badges = training_df[['badge_type', 'badge_value']]\n",
    "new_df = pd.concat([training_set_preprocessing.encode_row(row, list(df_badges.columns)) for _, row in df_badges.iterrows()], axis=1).T\n",
    "\n",
    "# merge with the final dataframe and drop unnecessary columns\n",
    "training_df = pd.concat([training_df, new_df], axis=1)\n",
    "training_df.drop(columns=['badge_type', 'badge_value'], inplace=True)\n",
    "training_df"
   ],
   "metadata": {
    "collapsed": false,
    "pycharm": {
     "name": "#%%\n"
    }
   }
  },
  {
   "cell_type": "markdown",
   "source": [
    "Preprocessing for exercise features (17)"
   ],
   "metadata": {
    "collapsed": false,
    "pycharm": {
     "name": "#%% md\n"
    }
   }
  },
  {
   "cell_type": "code",
   "execution_count": 9,
   "outputs": [
    {
     "data": {
      "text/plain": "                              id       date  hour  sleep_points  \\\n0       621e2ff067b776a2403eb737 2021-12-22    19           NaN   \n1       621e2ff067b776a2403eb737 2021-11-18     0           NaN   \n2       621e2ff067b776a2403eb737 2021-11-18    21           NaN   \n3       621e2ff067b776a2403eb737 2021-11-20     0           NaN   \n4       621e2ff067b776a2403eb737 2021-11-20    23           NaN   \n...                          ...        ...   ...           ...   \n165086  621e36f967b776a240e5e7c9 2021-05-20    16           NaN   \n165087  621e36f967b776a240e5e7c9 2021-05-20    20           NaN   \n165088  621e36f967b776a240e5e7c9 2021-05-21    17           NaN   \n165089  621e36f967b776a240e5e7c9 2021-05-21    22           NaN   \n165090  621e36f967b776a240e5e7c9 2021-05-22    18           NaN   \n\n        exertion_points  altitude  calories  distance  lightly_active_minutes  \\\n0                   NaN      10.0     27.35   19650.0                     NaN   \n1                   NaN       NaN      2.35       0.0                   314.0   \n2                   NaN      20.0     44.50   26880.0                     NaN   \n3                   NaN      20.0     46.06   32050.0                   272.0   \n4                   NaN       NaN      2.35       0.0                     NaN   \n...                 ...       ...       ...       ...                     ...   \n165086              NaN       NaN       NaN       NaN                     NaN   \n165087              NaN       NaN       NaN       NaN                     NaN   \n165088              NaN       NaN       NaN       NaN                     NaN   \n165089              NaN       NaN       NaN       NaN                     NaN   \n165090              NaN       NaN       NaN       NaN                     NaN   \n\n        mindfulness_goal  ...  Swim  Aerobic Workout  Tennis  Sport  \\\n0                    NaN  ...   NaN              NaN     NaN    NaN   \n1                    NaN  ...   NaN              NaN     NaN    NaN   \n2                    NaN  ...   NaN              NaN     NaN    NaN   \n3                    NaN  ...   NaN              NaN     NaN    NaN   \n4                    NaN  ...   NaN              NaN     NaN    NaN   \n...                  ...  ...   ...              ...     ...    ...   \n165086               NaN  ...   NaN              NaN     NaN    NaN   \n165087               NaN  ...   NaN              NaN     NaN    NaN   \n165088               NaN  ...   NaN              NaN     NaN    NaN   \n165089               NaN  ...   NaN              NaN     NaN    NaN   \n165090               NaN  ...   NaN              NaN     NaN    NaN   \n\n        Interval Workout  Spinning  Weights  Elliptical  Treadmill  Bootcamp  \n0                    NaN       NaN      NaN         NaN        NaN       NaN  \n1                    NaN       NaN      NaN         NaN        NaN       NaN  \n2                    NaN       NaN      NaN         NaN        NaN       NaN  \n3                    NaN       NaN      NaN         NaN        NaN       NaN  \n4                    NaN       NaN      NaN         NaN        NaN       NaN  \n...                  ...       ...      ...         ...        ...       ...  \n165086               NaN       NaN      NaN         NaN        NaN       NaN  \n165087               NaN       NaN      NaN         NaN        NaN       NaN  \n165088               NaN       NaN      NaN         NaN        NaN       NaN  \n165089               NaN       NaN      NaN         NaN        NaN       NaN  \n165090               NaN       NaN      NaN         NaN        NaN       NaN  \n\n[165091 rows x 76 columns]",
      "text/html": "<div>\n<style scoped>\n    .dataframe tbody tr th:only-of-type {\n        vertical-align: middle;\n    }\n\n    .dataframe tbody tr th {\n        vertical-align: top;\n    }\n\n    .dataframe thead th {\n        text-align: right;\n    }\n</style>\n<table border=\"1\" class=\"dataframe\">\n  <thead>\n    <tr style=\"text-align: right;\">\n      <th></th>\n      <th>id</th>\n      <th>date</th>\n      <th>hour</th>\n      <th>sleep_points</th>\n      <th>exertion_points</th>\n      <th>altitude</th>\n      <th>calories</th>\n      <th>distance</th>\n      <th>lightly_active_minutes</th>\n      <th>mindfulness_goal</th>\n      <th>...</th>\n      <th>Swim</th>\n      <th>Aerobic Workout</th>\n      <th>Tennis</th>\n      <th>Sport</th>\n      <th>Interval Workout</th>\n      <th>Spinning</th>\n      <th>Weights</th>\n      <th>Elliptical</th>\n      <th>Treadmill</th>\n      <th>Bootcamp</th>\n    </tr>\n  </thead>\n  <tbody>\n    <tr>\n      <th>0</th>\n      <td>621e2ff067b776a2403eb737</td>\n      <td>2021-12-22</td>\n      <td>19</td>\n      <td>NaN</td>\n      <td>NaN</td>\n      <td>10.0</td>\n      <td>27.35</td>\n      <td>19650.0</td>\n      <td>NaN</td>\n      <td>NaN</td>\n      <td>...</td>\n      <td>NaN</td>\n      <td>NaN</td>\n      <td>NaN</td>\n      <td>NaN</td>\n      <td>NaN</td>\n      <td>NaN</td>\n      <td>NaN</td>\n      <td>NaN</td>\n      <td>NaN</td>\n      <td>NaN</td>\n    </tr>\n    <tr>\n      <th>1</th>\n      <td>621e2ff067b776a2403eb737</td>\n      <td>2021-11-18</td>\n      <td>0</td>\n      <td>NaN</td>\n      <td>NaN</td>\n      <td>NaN</td>\n      <td>2.35</td>\n      <td>0.0</td>\n      <td>314.0</td>\n      <td>NaN</td>\n      <td>...</td>\n      <td>NaN</td>\n      <td>NaN</td>\n      <td>NaN</td>\n      <td>NaN</td>\n      <td>NaN</td>\n      <td>NaN</td>\n      <td>NaN</td>\n      <td>NaN</td>\n      <td>NaN</td>\n      <td>NaN</td>\n    </tr>\n    <tr>\n      <th>2</th>\n      <td>621e2ff067b776a2403eb737</td>\n      <td>2021-11-18</td>\n      <td>21</td>\n      <td>NaN</td>\n      <td>NaN</td>\n      <td>20.0</td>\n      <td>44.50</td>\n      <td>26880.0</td>\n      <td>NaN</td>\n      <td>NaN</td>\n      <td>...</td>\n      <td>NaN</td>\n      <td>NaN</td>\n      <td>NaN</td>\n      <td>NaN</td>\n      <td>NaN</td>\n      <td>NaN</td>\n      <td>NaN</td>\n      <td>NaN</td>\n      <td>NaN</td>\n      <td>NaN</td>\n    </tr>\n    <tr>\n      <th>3</th>\n      <td>621e2ff067b776a2403eb737</td>\n      <td>2021-11-20</td>\n      <td>0</td>\n      <td>NaN</td>\n      <td>NaN</td>\n      <td>20.0</td>\n      <td>46.06</td>\n      <td>32050.0</td>\n      <td>272.0</td>\n      <td>NaN</td>\n      <td>...</td>\n      <td>NaN</td>\n      <td>NaN</td>\n      <td>NaN</td>\n      <td>NaN</td>\n      <td>NaN</td>\n      <td>NaN</td>\n      <td>NaN</td>\n      <td>NaN</td>\n      <td>NaN</td>\n      <td>NaN</td>\n    </tr>\n    <tr>\n      <th>4</th>\n      <td>621e2ff067b776a2403eb737</td>\n      <td>2021-11-20</td>\n      <td>23</td>\n      <td>NaN</td>\n      <td>NaN</td>\n      <td>NaN</td>\n      <td>2.35</td>\n      <td>0.0</td>\n      <td>NaN</td>\n      <td>NaN</td>\n      <td>...</td>\n      <td>NaN</td>\n      <td>NaN</td>\n      <td>NaN</td>\n      <td>NaN</td>\n      <td>NaN</td>\n      <td>NaN</td>\n      <td>NaN</td>\n      <td>NaN</td>\n      <td>NaN</td>\n      <td>NaN</td>\n    </tr>\n    <tr>\n      <th>...</th>\n      <td>...</td>\n      <td>...</td>\n      <td>...</td>\n      <td>...</td>\n      <td>...</td>\n      <td>...</td>\n      <td>...</td>\n      <td>...</td>\n      <td>...</td>\n      <td>...</td>\n      <td>...</td>\n      <td>...</td>\n      <td>...</td>\n      <td>...</td>\n      <td>...</td>\n      <td>...</td>\n      <td>...</td>\n      <td>...</td>\n      <td>...</td>\n      <td>...</td>\n      <td>...</td>\n    </tr>\n    <tr>\n      <th>165086</th>\n      <td>621e36f967b776a240e5e7c9</td>\n      <td>2021-05-20</td>\n      <td>16</td>\n      <td>NaN</td>\n      <td>NaN</td>\n      <td>NaN</td>\n      <td>NaN</td>\n      <td>NaN</td>\n      <td>NaN</td>\n      <td>NaN</td>\n      <td>...</td>\n      <td>NaN</td>\n      <td>NaN</td>\n      <td>NaN</td>\n      <td>NaN</td>\n      <td>NaN</td>\n      <td>NaN</td>\n      <td>NaN</td>\n      <td>NaN</td>\n      <td>NaN</td>\n      <td>NaN</td>\n    </tr>\n    <tr>\n      <th>165087</th>\n      <td>621e36f967b776a240e5e7c9</td>\n      <td>2021-05-20</td>\n      <td>20</td>\n      <td>NaN</td>\n      <td>NaN</td>\n      <td>NaN</td>\n      <td>NaN</td>\n      <td>NaN</td>\n      <td>NaN</td>\n      <td>NaN</td>\n      <td>...</td>\n      <td>NaN</td>\n      <td>NaN</td>\n      <td>NaN</td>\n      <td>NaN</td>\n      <td>NaN</td>\n      <td>NaN</td>\n      <td>NaN</td>\n      <td>NaN</td>\n      <td>NaN</td>\n      <td>NaN</td>\n    </tr>\n    <tr>\n      <th>165088</th>\n      <td>621e36f967b776a240e5e7c9</td>\n      <td>2021-05-21</td>\n      <td>17</td>\n      <td>NaN</td>\n      <td>NaN</td>\n      <td>NaN</td>\n      <td>NaN</td>\n      <td>NaN</td>\n      <td>NaN</td>\n      <td>NaN</td>\n      <td>...</td>\n      <td>NaN</td>\n      <td>NaN</td>\n      <td>NaN</td>\n      <td>NaN</td>\n      <td>NaN</td>\n      <td>NaN</td>\n      <td>NaN</td>\n      <td>NaN</td>\n      <td>NaN</td>\n      <td>NaN</td>\n    </tr>\n    <tr>\n      <th>165089</th>\n      <td>621e36f967b776a240e5e7c9</td>\n      <td>2021-05-21</td>\n      <td>22</td>\n      <td>NaN</td>\n      <td>NaN</td>\n      <td>NaN</td>\n      <td>NaN</td>\n      <td>NaN</td>\n      <td>NaN</td>\n      <td>NaN</td>\n      <td>...</td>\n      <td>NaN</td>\n      <td>NaN</td>\n      <td>NaN</td>\n      <td>NaN</td>\n      <td>NaN</td>\n      <td>NaN</td>\n      <td>NaN</td>\n      <td>NaN</td>\n      <td>NaN</td>\n      <td>NaN</td>\n    </tr>\n    <tr>\n      <th>165090</th>\n      <td>621e36f967b776a240e5e7c9</td>\n      <td>2021-05-22</td>\n      <td>18</td>\n      <td>NaN</td>\n      <td>NaN</td>\n      <td>NaN</td>\n      <td>NaN</td>\n      <td>NaN</td>\n      <td>NaN</td>\n      <td>NaN</td>\n      <td>...</td>\n      <td>NaN</td>\n      <td>NaN</td>\n      <td>NaN</td>\n      <td>NaN</td>\n      <td>NaN</td>\n      <td>NaN</td>\n      <td>NaN</td>\n      <td>NaN</td>\n      <td>NaN</td>\n      <td>NaN</td>\n    </tr>\n  </tbody>\n</table>\n<p>165091 rows × 76 columns</p>\n</div>"
     },
     "execution_count": 9,
     "metadata": {},
     "output_type": "execute_result"
    }
   ],
   "source": [
    "# calculate the sum and avg of specific features\n",
    "exercise_df = training_df.loc[:, 'exercise':'exercise_Peak_zone_calories']\n",
    "sum_features = list(exercise_df.loc[:, 'exercise_steps': 'exercise_Peak_zone_calories'].columns)\n",
    "sum_features.append('exercise_calories')\n",
    "for feature in sum_features:\n",
    "    exercise_df[feature] = exercise_df[feature].apply(lambda d: training_set_preprocessing.replace_with_sum(d))\n",
    "exercise_df['exercise_avg_hr'] = exercise_df['exercise_avg_hr'].apply(lambda d: training_set_preprocessing.replace_with_avg(d))\n",
    "\n",
    "# encode a pair of categorical-numerical features\n",
    "encoding_df = exercise_df[['exercise', 'exercise_duration']]\n",
    "new_df = pd.concat([training_set_preprocessing.encode_row(row, list(encoding_df.columns)) for _, row in encoding_df.iterrows()], axis=1).T\n",
    "\n",
    "# merge with the final dataframe and drop unnecessary columns\n",
    "exercise_df = pd.concat([exercise_df, new_df], axis=1)\n",
    "exercise_df.drop(columns=['exercise', 'exercise_duration'], inplace=True)\n",
    "delete_features = list(training_df.loc[:, 'exercise':'exercise_Peak_zone_calories'].columns)\n",
    "training_df.drop(columns=delete_features, inplace=True)\n",
    "training_df = pd.concat([training_df, exercise_df], axis=1)\n",
    "training_df"
   ],
   "metadata": {
    "collapsed": false,
    "pycharm": {
     "name": "#%%\n"
    }
   }
  },
  {
   "cell_type": "code",
   "execution_count": 10,
   "outputs": [],
   "source": [
    "training_df.to_pickle('../data/encoded_training_df.pkl')"
   ],
   "metadata": {
    "collapsed": false,
    "pycharm": {
     "name": "#%%\n"
    }
   }
  },
  {
   "cell_type": "markdown",
   "source": [
    "##### 2. Explore the encoded dataframe to remove unnecessary rows and columns\n",
    "- Does the encoded dataframe contains duplicates?\n",
    "- How many users do they participate in the training process based on the encoded dataframe?\n",
    "- Does the encoded dataframe contains rows only with NaNs?\n",
    "- Does the encoded dataframe contains columns only with NaNs?\n",
    "- How many records derived out of official experiment days and do they affect this work?\n",
    "- Concatenate the date and hour columns into one datetime object column."
   ],
   "metadata": {
    "collapsed": false,
    "pycharm": {
     "name": "#%% md\n"
    }
   }
  },
  {
   "cell_type": "code",
   "execution_count": 41,
   "outputs": [
    {
     "data": {
      "text/plain": "                              id       date  hour  sleep_points  \\\n0       621e2ff067b776a2403eb737 2021-12-22    19           NaN   \n1       621e2ff067b776a2403eb737 2021-11-18     0           NaN   \n2       621e2ff067b776a2403eb737 2021-11-18    21           NaN   \n3       621e2ff067b776a2403eb737 2021-11-20     0           NaN   \n4       621e2ff067b776a2403eb737 2021-11-20    23           NaN   \n...                          ...        ...   ...           ...   \n165086  621e36f967b776a240e5e7c9 2021-05-20    16           NaN   \n165087  621e36f967b776a240e5e7c9 2021-05-20    20           NaN   \n165088  621e36f967b776a240e5e7c9 2021-05-21    17           NaN   \n165089  621e36f967b776a240e5e7c9 2021-05-21    22           NaN   \n165090  621e36f967b776a240e5e7c9 2021-05-22    18           NaN   \n\n        exertion_points  altitude  calories  distance  lightly_active_minutes  \\\n0                   NaN      10.0     27.35   19650.0                     NaN   \n1                   NaN       NaN      2.35       0.0                   314.0   \n2                   NaN      20.0     44.50   26880.0                     NaN   \n3                   NaN      20.0     46.06   32050.0                   272.0   \n4                   NaN       NaN      2.35       0.0                     NaN   \n...                 ...       ...       ...       ...                     ...   \n165086              NaN       NaN       NaN       NaN                     NaN   \n165087              NaN       NaN       NaN       NaN                     NaN   \n165088              NaN       NaN       NaN       NaN                     NaN   \n165089              NaN       NaN       NaN       NaN                     NaN   \n165090              NaN       NaN       NaN       NaN                     NaN   \n\n        mindfulness_goal  ...  Swim  Aerobic Workout  Tennis  Sport  \\\n0                    NaN  ...   NaN              NaN     NaN    NaN   \n1                    NaN  ...   NaN              NaN     NaN    NaN   \n2                    NaN  ...   NaN              NaN     NaN    NaN   \n3                    NaN  ...   NaN              NaN     NaN    NaN   \n4                    NaN  ...   NaN              NaN     NaN    NaN   \n...                  ...  ...   ...              ...     ...    ...   \n165086               NaN  ...   NaN              NaN     NaN    NaN   \n165087               NaN  ...   NaN              NaN     NaN    NaN   \n165088               NaN  ...   NaN              NaN     NaN    NaN   \n165089               NaN  ...   NaN              NaN     NaN    NaN   \n165090               NaN  ...   NaN              NaN     NaN    NaN   \n\n        Interval Workout  Spinning  Weights  Elliptical  Treadmill  Bootcamp  \n0                    NaN       NaN      NaN         NaN        NaN       NaN  \n1                    NaN       NaN      NaN         NaN        NaN       NaN  \n2                    NaN       NaN      NaN         NaN        NaN       NaN  \n3                    NaN       NaN      NaN         NaN        NaN       NaN  \n4                    NaN       NaN      NaN         NaN        NaN       NaN  \n...                  ...       ...      ...         ...        ...       ...  \n165086               NaN       NaN      NaN         NaN        NaN       NaN  \n165087               NaN       NaN      NaN         NaN        NaN       NaN  \n165088               NaN       NaN      NaN         NaN        NaN       NaN  \n165089               NaN       NaN      NaN         NaN        NaN       NaN  \n165090               NaN       NaN      NaN         NaN        NaN       NaN  \n\n[165091 rows x 76 columns]",
      "text/html": "<div>\n<style scoped>\n    .dataframe tbody tr th:only-of-type {\n        vertical-align: middle;\n    }\n\n    .dataframe tbody tr th {\n        vertical-align: top;\n    }\n\n    .dataframe thead th {\n        text-align: right;\n    }\n</style>\n<table border=\"1\" class=\"dataframe\">\n  <thead>\n    <tr style=\"text-align: right;\">\n      <th></th>\n      <th>id</th>\n      <th>date</th>\n      <th>hour</th>\n      <th>sleep_points</th>\n      <th>exertion_points</th>\n      <th>altitude</th>\n      <th>calories</th>\n      <th>distance</th>\n      <th>lightly_active_minutes</th>\n      <th>mindfulness_goal</th>\n      <th>...</th>\n      <th>Swim</th>\n      <th>Aerobic Workout</th>\n      <th>Tennis</th>\n      <th>Sport</th>\n      <th>Interval Workout</th>\n      <th>Spinning</th>\n      <th>Weights</th>\n      <th>Elliptical</th>\n      <th>Treadmill</th>\n      <th>Bootcamp</th>\n    </tr>\n  </thead>\n  <tbody>\n    <tr>\n      <th>0</th>\n      <td>621e2ff067b776a2403eb737</td>\n      <td>2021-12-22</td>\n      <td>19</td>\n      <td>NaN</td>\n      <td>NaN</td>\n      <td>10.0</td>\n      <td>27.35</td>\n      <td>19650.0</td>\n      <td>NaN</td>\n      <td>NaN</td>\n      <td>...</td>\n      <td>NaN</td>\n      <td>NaN</td>\n      <td>NaN</td>\n      <td>NaN</td>\n      <td>NaN</td>\n      <td>NaN</td>\n      <td>NaN</td>\n      <td>NaN</td>\n      <td>NaN</td>\n      <td>NaN</td>\n    </tr>\n    <tr>\n      <th>1</th>\n      <td>621e2ff067b776a2403eb737</td>\n      <td>2021-11-18</td>\n      <td>0</td>\n      <td>NaN</td>\n      <td>NaN</td>\n      <td>NaN</td>\n      <td>2.35</td>\n      <td>0.0</td>\n      <td>314.0</td>\n      <td>NaN</td>\n      <td>...</td>\n      <td>NaN</td>\n      <td>NaN</td>\n      <td>NaN</td>\n      <td>NaN</td>\n      <td>NaN</td>\n      <td>NaN</td>\n      <td>NaN</td>\n      <td>NaN</td>\n      <td>NaN</td>\n      <td>NaN</td>\n    </tr>\n    <tr>\n      <th>2</th>\n      <td>621e2ff067b776a2403eb737</td>\n      <td>2021-11-18</td>\n      <td>21</td>\n      <td>NaN</td>\n      <td>NaN</td>\n      <td>20.0</td>\n      <td>44.50</td>\n      <td>26880.0</td>\n      <td>NaN</td>\n      <td>NaN</td>\n      <td>...</td>\n      <td>NaN</td>\n      <td>NaN</td>\n      <td>NaN</td>\n      <td>NaN</td>\n      <td>NaN</td>\n      <td>NaN</td>\n      <td>NaN</td>\n      <td>NaN</td>\n      <td>NaN</td>\n      <td>NaN</td>\n    </tr>\n    <tr>\n      <th>3</th>\n      <td>621e2ff067b776a2403eb737</td>\n      <td>2021-11-20</td>\n      <td>0</td>\n      <td>NaN</td>\n      <td>NaN</td>\n      <td>20.0</td>\n      <td>46.06</td>\n      <td>32050.0</td>\n      <td>272.0</td>\n      <td>NaN</td>\n      <td>...</td>\n      <td>NaN</td>\n      <td>NaN</td>\n      <td>NaN</td>\n      <td>NaN</td>\n      <td>NaN</td>\n      <td>NaN</td>\n      <td>NaN</td>\n      <td>NaN</td>\n      <td>NaN</td>\n      <td>NaN</td>\n    </tr>\n    <tr>\n      <th>4</th>\n      <td>621e2ff067b776a2403eb737</td>\n      <td>2021-11-20</td>\n      <td>23</td>\n      <td>NaN</td>\n      <td>NaN</td>\n      <td>NaN</td>\n      <td>2.35</td>\n      <td>0.0</td>\n      <td>NaN</td>\n      <td>NaN</td>\n      <td>...</td>\n      <td>NaN</td>\n      <td>NaN</td>\n      <td>NaN</td>\n      <td>NaN</td>\n      <td>NaN</td>\n      <td>NaN</td>\n      <td>NaN</td>\n      <td>NaN</td>\n      <td>NaN</td>\n      <td>NaN</td>\n    </tr>\n    <tr>\n      <th>...</th>\n      <td>...</td>\n      <td>...</td>\n      <td>...</td>\n      <td>...</td>\n      <td>...</td>\n      <td>...</td>\n      <td>...</td>\n      <td>...</td>\n      <td>...</td>\n      <td>...</td>\n      <td>...</td>\n      <td>...</td>\n      <td>...</td>\n      <td>...</td>\n      <td>...</td>\n      <td>...</td>\n      <td>...</td>\n      <td>...</td>\n      <td>...</td>\n      <td>...</td>\n      <td>...</td>\n    </tr>\n    <tr>\n      <th>165086</th>\n      <td>621e36f967b776a240e5e7c9</td>\n      <td>2021-05-20</td>\n      <td>16</td>\n      <td>NaN</td>\n      <td>NaN</td>\n      <td>NaN</td>\n      <td>NaN</td>\n      <td>NaN</td>\n      <td>NaN</td>\n      <td>NaN</td>\n      <td>...</td>\n      <td>NaN</td>\n      <td>NaN</td>\n      <td>NaN</td>\n      <td>NaN</td>\n      <td>NaN</td>\n      <td>NaN</td>\n      <td>NaN</td>\n      <td>NaN</td>\n      <td>NaN</td>\n      <td>NaN</td>\n    </tr>\n    <tr>\n      <th>165087</th>\n      <td>621e36f967b776a240e5e7c9</td>\n      <td>2021-05-20</td>\n      <td>20</td>\n      <td>NaN</td>\n      <td>NaN</td>\n      <td>NaN</td>\n      <td>NaN</td>\n      <td>NaN</td>\n      <td>NaN</td>\n      <td>NaN</td>\n      <td>...</td>\n      <td>NaN</td>\n      <td>NaN</td>\n      <td>NaN</td>\n      <td>NaN</td>\n      <td>NaN</td>\n      <td>NaN</td>\n      <td>NaN</td>\n      <td>NaN</td>\n      <td>NaN</td>\n      <td>NaN</td>\n    </tr>\n    <tr>\n      <th>165088</th>\n      <td>621e36f967b776a240e5e7c9</td>\n      <td>2021-05-21</td>\n      <td>17</td>\n      <td>NaN</td>\n      <td>NaN</td>\n      <td>NaN</td>\n      <td>NaN</td>\n      <td>NaN</td>\n      <td>NaN</td>\n      <td>NaN</td>\n      <td>...</td>\n      <td>NaN</td>\n      <td>NaN</td>\n      <td>NaN</td>\n      <td>NaN</td>\n      <td>NaN</td>\n      <td>NaN</td>\n      <td>NaN</td>\n      <td>NaN</td>\n      <td>NaN</td>\n      <td>NaN</td>\n    </tr>\n    <tr>\n      <th>165089</th>\n      <td>621e36f967b776a240e5e7c9</td>\n      <td>2021-05-21</td>\n      <td>22</td>\n      <td>NaN</td>\n      <td>NaN</td>\n      <td>NaN</td>\n      <td>NaN</td>\n      <td>NaN</td>\n      <td>NaN</td>\n      <td>NaN</td>\n      <td>...</td>\n      <td>NaN</td>\n      <td>NaN</td>\n      <td>NaN</td>\n      <td>NaN</td>\n      <td>NaN</td>\n      <td>NaN</td>\n      <td>NaN</td>\n      <td>NaN</td>\n      <td>NaN</td>\n      <td>NaN</td>\n    </tr>\n    <tr>\n      <th>165090</th>\n      <td>621e36f967b776a240e5e7c9</td>\n      <td>2021-05-22</td>\n      <td>18</td>\n      <td>NaN</td>\n      <td>NaN</td>\n      <td>NaN</td>\n      <td>NaN</td>\n      <td>NaN</td>\n      <td>NaN</td>\n      <td>NaN</td>\n      <td>...</td>\n      <td>NaN</td>\n      <td>NaN</td>\n      <td>NaN</td>\n      <td>NaN</td>\n      <td>NaN</td>\n      <td>NaN</td>\n      <td>NaN</td>\n      <td>NaN</td>\n      <td>NaN</td>\n      <td>NaN</td>\n    </tr>\n  </tbody>\n</table>\n<p>165091 rows × 76 columns</p>\n</div>"
     },
     "execution_count": 41,
     "metadata": {},
     "output_type": "execute_result"
    }
   ],
   "source": [
    "training_df = pd.read_pickle('../data/encoded_training_df.pkl')\n",
    "training_df"
   ],
   "metadata": {
    "collapsed": false,
    "pycharm": {
     "name": "#%%\n"
    }
   }
  },
  {
   "cell_type": "code",
   "execution_count": 42,
   "outputs": [
    {
     "data": {
      "text/plain": "                              id       date  hour  sleep_points  \\\n0       621e2ff067b776a2403eb737 2021-12-22    19           NaN   \n1       621e2ff067b776a2403eb737 2021-11-18     0           NaN   \n2       621e2ff067b776a2403eb737 2021-11-18    21           NaN   \n3       621e2ff067b776a2403eb737 2021-11-20     0           NaN   \n4       621e2ff067b776a2403eb737 2021-11-20    23           NaN   \n...                          ...        ...   ...           ...   \n165086  621e36f967b776a240e5e7c9 2021-05-20    16           NaN   \n165087  621e36f967b776a240e5e7c9 2021-05-20    20           NaN   \n165088  621e36f967b776a240e5e7c9 2021-05-21    17           NaN   \n165089  621e36f967b776a240e5e7c9 2021-05-21    22           NaN   \n165090  621e36f967b776a240e5e7c9 2021-05-22    18           NaN   \n\n        exertion_points  altitude  calories  distance  lightly_active_minutes  \\\n0                   NaN      10.0     27.35   19650.0                     NaN   \n1                   NaN       NaN      2.35       0.0                   314.0   \n2                   NaN      20.0     44.50   26880.0                     NaN   \n3                   NaN      20.0     46.06   32050.0                   272.0   \n4                   NaN       NaN      2.35       0.0                     NaN   \n...                 ...       ...       ...       ...                     ...   \n165086              NaN       NaN       NaN       NaN                     NaN   \n165087              NaN       NaN       NaN       NaN                     NaN   \n165088              NaN       NaN       NaN       NaN                     NaN   \n165089              NaN       NaN       NaN       NaN                     NaN   \n165090              NaN       NaN       NaN       NaN                     NaN   \n\n        mindfulness_goal  ...  Swim  Aerobic Workout  Tennis  Sport  \\\n0                    NaN  ...   NaN              NaN     NaN    NaN   \n1                    NaN  ...   NaN              NaN     NaN    NaN   \n2                    NaN  ...   NaN              NaN     NaN    NaN   \n3                    NaN  ...   NaN              NaN     NaN    NaN   \n4                    NaN  ...   NaN              NaN     NaN    NaN   \n...                  ...  ...   ...              ...     ...    ...   \n165086               NaN  ...   NaN              NaN     NaN    NaN   \n165087               NaN  ...   NaN              NaN     NaN    NaN   \n165088               NaN  ...   NaN              NaN     NaN    NaN   \n165089               NaN  ...   NaN              NaN     NaN    NaN   \n165090               NaN  ...   NaN              NaN     NaN    NaN   \n\n        Interval Workout  Spinning  Weights  Elliptical  Treadmill  Bootcamp  \n0                    NaN       NaN      NaN         NaN        NaN       NaN  \n1                    NaN       NaN      NaN         NaN        NaN       NaN  \n2                    NaN       NaN      NaN         NaN        NaN       NaN  \n3                    NaN       NaN      NaN         NaN        NaN       NaN  \n4                    NaN       NaN      NaN         NaN        NaN       NaN  \n...                  ...       ...      ...         ...        ...       ...  \n165086               NaN       NaN      NaN         NaN        NaN       NaN  \n165087               NaN       NaN      NaN         NaN        NaN       NaN  \n165088               NaN       NaN      NaN         NaN        NaN       NaN  \n165089               NaN       NaN      NaN         NaN        NaN       NaN  \n165090               NaN       NaN      NaN         NaN        NaN       NaN  \n\n[165090 rows x 76 columns]",
      "text/html": "<div>\n<style scoped>\n    .dataframe tbody tr th:only-of-type {\n        vertical-align: middle;\n    }\n\n    .dataframe tbody tr th {\n        vertical-align: top;\n    }\n\n    .dataframe thead th {\n        text-align: right;\n    }\n</style>\n<table border=\"1\" class=\"dataframe\">\n  <thead>\n    <tr style=\"text-align: right;\">\n      <th></th>\n      <th>id</th>\n      <th>date</th>\n      <th>hour</th>\n      <th>sleep_points</th>\n      <th>exertion_points</th>\n      <th>altitude</th>\n      <th>calories</th>\n      <th>distance</th>\n      <th>lightly_active_minutes</th>\n      <th>mindfulness_goal</th>\n      <th>...</th>\n      <th>Swim</th>\n      <th>Aerobic Workout</th>\n      <th>Tennis</th>\n      <th>Sport</th>\n      <th>Interval Workout</th>\n      <th>Spinning</th>\n      <th>Weights</th>\n      <th>Elliptical</th>\n      <th>Treadmill</th>\n      <th>Bootcamp</th>\n    </tr>\n  </thead>\n  <tbody>\n    <tr>\n      <th>0</th>\n      <td>621e2ff067b776a2403eb737</td>\n      <td>2021-12-22</td>\n      <td>19</td>\n      <td>NaN</td>\n      <td>NaN</td>\n      <td>10.0</td>\n      <td>27.35</td>\n      <td>19650.0</td>\n      <td>NaN</td>\n      <td>NaN</td>\n      <td>...</td>\n      <td>NaN</td>\n      <td>NaN</td>\n      <td>NaN</td>\n      <td>NaN</td>\n      <td>NaN</td>\n      <td>NaN</td>\n      <td>NaN</td>\n      <td>NaN</td>\n      <td>NaN</td>\n      <td>NaN</td>\n    </tr>\n    <tr>\n      <th>1</th>\n      <td>621e2ff067b776a2403eb737</td>\n      <td>2021-11-18</td>\n      <td>0</td>\n      <td>NaN</td>\n      <td>NaN</td>\n      <td>NaN</td>\n      <td>2.35</td>\n      <td>0.0</td>\n      <td>314.0</td>\n      <td>NaN</td>\n      <td>...</td>\n      <td>NaN</td>\n      <td>NaN</td>\n      <td>NaN</td>\n      <td>NaN</td>\n      <td>NaN</td>\n      <td>NaN</td>\n      <td>NaN</td>\n      <td>NaN</td>\n      <td>NaN</td>\n      <td>NaN</td>\n    </tr>\n    <tr>\n      <th>2</th>\n      <td>621e2ff067b776a2403eb737</td>\n      <td>2021-11-18</td>\n      <td>21</td>\n      <td>NaN</td>\n      <td>NaN</td>\n      <td>20.0</td>\n      <td>44.50</td>\n      <td>26880.0</td>\n      <td>NaN</td>\n      <td>NaN</td>\n      <td>...</td>\n      <td>NaN</td>\n      <td>NaN</td>\n      <td>NaN</td>\n      <td>NaN</td>\n      <td>NaN</td>\n      <td>NaN</td>\n      <td>NaN</td>\n      <td>NaN</td>\n      <td>NaN</td>\n      <td>NaN</td>\n    </tr>\n    <tr>\n      <th>3</th>\n      <td>621e2ff067b776a2403eb737</td>\n      <td>2021-11-20</td>\n      <td>0</td>\n      <td>NaN</td>\n      <td>NaN</td>\n      <td>20.0</td>\n      <td>46.06</td>\n      <td>32050.0</td>\n      <td>272.0</td>\n      <td>NaN</td>\n      <td>...</td>\n      <td>NaN</td>\n      <td>NaN</td>\n      <td>NaN</td>\n      <td>NaN</td>\n      <td>NaN</td>\n      <td>NaN</td>\n      <td>NaN</td>\n      <td>NaN</td>\n      <td>NaN</td>\n      <td>NaN</td>\n    </tr>\n    <tr>\n      <th>4</th>\n      <td>621e2ff067b776a2403eb737</td>\n      <td>2021-11-20</td>\n      <td>23</td>\n      <td>NaN</td>\n      <td>NaN</td>\n      <td>NaN</td>\n      <td>2.35</td>\n      <td>0.0</td>\n      <td>NaN</td>\n      <td>NaN</td>\n      <td>...</td>\n      <td>NaN</td>\n      <td>NaN</td>\n      <td>NaN</td>\n      <td>NaN</td>\n      <td>NaN</td>\n      <td>NaN</td>\n      <td>NaN</td>\n      <td>NaN</td>\n      <td>NaN</td>\n      <td>NaN</td>\n    </tr>\n    <tr>\n      <th>...</th>\n      <td>...</td>\n      <td>...</td>\n      <td>...</td>\n      <td>...</td>\n      <td>...</td>\n      <td>...</td>\n      <td>...</td>\n      <td>...</td>\n      <td>...</td>\n      <td>...</td>\n      <td>...</td>\n      <td>...</td>\n      <td>...</td>\n      <td>...</td>\n      <td>...</td>\n      <td>...</td>\n      <td>...</td>\n      <td>...</td>\n      <td>...</td>\n      <td>...</td>\n      <td>...</td>\n    </tr>\n    <tr>\n      <th>165086</th>\n      <td>621e36f967b776a240e5e7c9</td>\n      <td>2021-05-20</td>\n      <td>16</td>\n      <td>NaN</td>\n      <td>NaN</td>\n      <td>NaN</td>\n      <td>NaN</td>\n      <td>NaN</td>\n      <td>NaN</td>\n      <td>NaN</td>\n      <td>...</td>\n      <td>NaN</td>\n      <td>NaN</td>\n      <td>NaN</td>\n      <td>NaN</td>\n      <td>NaN</td>\n      <td>NaN</td>\n      <td>NaN</td>\n      <td>NaN</td>\n      <td>NaN</td>\n      <td>NaN</td>\n    </tr>\n    <tr>\n      <th>165087</th>\n      <td>621e36f967b776a240e5e7c9</td>\n      <td>2021-05-20</td>\n      <td>20</td>\n      <td>NaN</td>\n      <td>NaN</td>\n      <td>NaN</td>\n      <td>NaN</td>\n      <td>NaN</td>\n      <td>NaN</td>\n      <td>NaN</td>\n      <td>...</td>\n      <td>NaN</td>\n      <td>NaN</td>\n      <td>NaN</td>\n      <td>NaN</td>\n      <td>NaN</td>\n      <td>NaN</td>\n      <td>NaN</td>\n      <td>NaN</td>\n      <td>NaN</td>\n      <td>NaN</td>\n    </tr>\n    <tr>\n      <th>165088</th>\n      <td>621e36f967b776a240e5e7c9</td>\n      <td>2021-05-21</td>\n      <td>17</td>\n      <td>NaN</td>\n      <td>NaN</td>\n      <td>NaN</td>\n      <td>NaN</td>\n      <td>NaN</td>\n      <td>NaN</td>\n      <td>NaN</td>\n      <td>...</td>\n      <td>NaN</td>\n      <td>NaN</td>\n      <td>NaN</td>\n      <td>NaN</td>\n      <td>NaN</td>\n      <td>NaN</td>\n      <td>NaN</td>\n      <td>NaN</td>\n      <td>NaN</td>\n      <td>NaN</td>\n    </tr>\n    <tr>\n      <th>165089</th>\n      <td>621e36f967b776a240e5e7c9</td>\n      <td>2021-05-21</td>\n      <td>22</td>\n      <td>NaN</td>\n      <td>NaN</td>\n      <td>NaN</td>\n      <td>NaN</td>\n      <td>NaN</td>\n      <td>NaN</td>\n      <td>NaN</td>\n      <td>...</td>\n      <td>NaN</td>\n      <td>NaN</td>\n      <td>NaN</td>\n      <td>NaN</td>\n      <td>NaN</td>\n      <td>NaN</td>\n      <td>NaN</td>\n      <td>NaN</td>\n      <td>NaN</td>\n      <td>NaN</td>\n    </tr>\n    <tr>\n      <th>165090</th>\n      <td>621e36f967b776a240e5e7c9</td>\n      <td>2021-05-22</td>\n      <td>18</td>\n      <td>NaN</td>\n      <td>NaN</td>\n      <td>NaN</td>\n      <td>NaN</td>\n      <td>NaN</td>\n      <td>NaN</td>\n      <td>NaN</td>\n      <td>...</td>\n      <td>NaN</td>\n      <td>NaN</td>\n      <td>NaN</td>\n      <td>NaN</td>\n      <td>NaN</td>\n      <td>NaN</td>\n      <td>NaN</td>\n      <td>NaN</td>\n      <td>NaN</td>\n      <td>NaN</td>\n    </tr>\n  </tbody>\n</table>\n<p>165090 rows × 76 columns</p>\n</div>"
     },
     "execution_count": 42,
     "metadata": {},
     "output_type": "execute_result"
    }
   ],
   "source": [
    "# check for duplicates based on all features\n",
    "# Finding: 1 exact duplicate has been found - when all features were present there were not duplicates, but after features splitting this one duplicate has appeared.\n",
    "# Approach: Drop them\n",
    "training_df.drop_duplicates(inplace=True)\n",
    "training_df"
   ],
   "metadata": {
    "collapsed": false,
    "pycharm": {
     "name": "#%%\n"
    }
   }
  },
  {
   "cell_type": "code",
   "execution_count": 43,
   "outputs": [
    {
     "name": "stdout",
     "output_type": "stream",
     "text": [
      "71 users are participating in the training process.\n"
     ]
    }
   ],
   "source": [
    "# find the users that are participating in the training\n",
    "print(training_df['id'].nunique(), \"users are participating in the training process.\")"
   ],
   "metadata": {
    "collapsed": false,
    "pycharm": {
     "name": "#%%\n"
    }
   }
  },
  {
   "cell_type": "code",
   "execution_count": 44,
   "outputs": [
    {
     "data": {
      "text/plain": "                              id       date  hour  sleep_points  \\\n0       621e2ff067b776a2403eb737 2021-12-22    19           NaN   \n1       621e2ff067b776a2403eb737 2021-11-18     0           NaN   \n2       621e2ff067b776a2403eb737 2021-11-18    21           NaN   \n3       621e2ff067b776a2403eb737 2021-11-20     0           NaN   \n4       621e2ff067b776a2403eb737 2021-11-20    23           NaN   \n...                          ...        ...   ...           ...   \n165086  621e36f967b776a240e5e7c9 2021-05-20    16           NaN   \n165087  621e36f967b776a240e5e7c9 2021-05-20    20           NaN   \n165088  621e36f967b776a240e5e7c9 2021-05-21    17           NaN   \n165089  621e36f967b776a240e5e7c9 2021-05-21    22           NaN   \n165090  621e36f967b776a240e5e7c9 2021-05-22    18           NaN   \n\n        exertion_points  altitude  calories  distance  lightly_active_minutes  \\\n0                   NaN      10.0     27.35   19650.0                     NaN   \n1                   NaN       NaN      2.35       0.0                   314.0   \n2                   NaN      20.0     44.50   26880.0                     NaN   \n3                   NaN      20.0     46.06   32050.0                   272.0   \n4                   NaN       NaN      2.35       0.0                     NaN   \n...                 ...       ...       ...       ...                     ...   \n165086              NaN       NaN       NaN       NaN                     NaN   \n165087              NaN       NaN       NaN       NaN                     NaN   \n165088              NaN       NaN       NaN       NaN                     NaN   \n165089              NaN       NaN       NaN       NaN                     NaN   \n165090              NaN       NaN       NaN       NaN                     NaN   \n\n        mindfulness_goal  ...  Swim  Aerobic Workout  Tennis  Sport  \\\n0                    NaN  ...   NaN              NaN     NaN    NaN   \n1                    NaN  ...   NaN              NaN     NaN    NaN   \n2                    NaN  ...   NaN              NaN     NaN    NaN   \n3                    NaN  ...   NaN              NaN     NaN    NaN   \n4                    NaN  ...   NaN              NaN     NaN    NaN   \n...                  ...  ...   ...              ...     ...    ...   \n165086               NaN  ...   NaN              NaN     NaN    NaN   \n165087               NaN  ...   NaN              NaN     NaN    NaN   \n165088               NaN  ...   NaN              NaN     NaN    NaN   \n165089               NaN  ...   NaN              NaN     NaN    NaN   \n165090               NaN  ...   NaN              NaN     NaN    NaN   \n\n        Interval Workout  Spinning  Weights  Elliptical  Treadmill  Bootcamp  \n0                    NaN       NaN      NaN         NaN        NaN       NaN  \n1                    NaN       NaN      NaN         NaN        NaN       NaN  \n2                    NaN       NaN      NaN         NaN        NaN       NaN  \n3                    NaN       NaN      NaN         NaN        NaN       NaN  \n4                    NaN       NaN      NaN         NaN        NaN       NaN  \n...                  ...       ...      ...         ...        ...       ...  \n165086               NaN       NaN      NaN         NaN        NaN       NaN  \n165087               NaN       NaN      NaN         NaN        NaN       NaN  \n165088               NaN       NaN      NaN         NaN        NaN       NaN  \n165089               NaN       NaN      NaN         NaN        NaN       NaN  \n165090               NaN       NaN      NaN         NaN        NaN       NaN  \n\n[159926 rows x 76 columns]",
      "text/html": "<div>\n<style scoped>\n    .dataframe tbody tr th:only-of-type {\n        vertical-align: middle;\n    }\n\n    .dataframe tbody tr th {\n        vertical-align: top;\n    }\n\n    .dataframe thead th {\n        text-align: right;\n    }\n</style>\n<table border=\"1\" class=\"dataframe\">\n  <thead>\n    <tr style=\"text-align: right;\">\n      <th></th>\n      <th>id</th>\n      <th>date</th>\n      <th>hour</th>\n      <th>sleep_points</th>\n      <th>exertion_points</th>\n      <th>altitude</th>\n      <th>calories</th>\n      <th>distance</th>\n      <th>lightly_active_minutes</th>\n      <th>mindfulness_goal</th>\n      <th>...</th>\n      <th>Swim</th>\n      <th>Aerobic Workout</th>\n      <th>Tennis</th>\n      <th>Sport</th>\n      <th>Interval Workout</th>\n      <th>Spinning</th>\n      <th>Weights</th>\n      <th>Elliptical</th>\n      <th>Treadmill</th>\n      <th>Bootcamp</th>\n    </tr>\n  </thead>\n  <tbody>\n    <tr>\n      <th>0</th>\n      <td>621e2ff067b776a2403eb737</td>\n      <td>2021-12-22</td>\n      <td>19</td>\n      <td>NaN</td>\n      <td>NaN</td>\n      <td>10.0</td>\n      <td>27.35</td>\n      <td>19650.0</td>\n      <td>NaN</td>\n      <td>NaN</td>\n      <td>...</td>\n      <td>NaN</td>\n      <td>NaN</td>\n      <td>NaN</td>\n      <td>NaN</td>\n      <td>NaN</td>\n      <td>NaN</td>\n      <td>NaN</td>\n      <td>NaN</td>\n      <td>NaN</td>\n      <td>NaN</td>\n    </tr>\n    <tr>\n      <th>1</th>\n      <td>621e2ff067b776a2403eb737</td>\n      <td>2021-11-18</td>\n      <td>0</td>\n      <td>NaN</td>\n      <td>NaN</td>\n      <td>NaN</td>\n      <td>2.35</td>\n      <td>0.0</td>\n      <td>314.0</td>\n      <td>NaN</td>\n      <td>...</td>\n      <td>NaN</td>\n      <td>NaN</td>\n      <td>NaN</td>\n      <td>NaN</td>\n      <td>NaN</td>\n      <td>NaN</td>\n      <td>NaN</td>\n      <td>NaN</td>\n      <td>NaN</td>\n      <td>NaN</td>\n    </tr>\n    <tr>\n      <th>2</th>\n      <td>621e2ff067b776a2403eb737</td>\n      <td>2021-11-18</td>\n      <td>21</td>\n      <td>NaN</td>\n      <td>NaN</td>\n      <td>20.0</td>\n      <td>44.50</td>\n      <td>26880.0</td>\n      <td>NaN</td>\n      <td>NaN</td>\n      <td>...</td>\n      <td>NaN</td>\n      <td>NaN</td>\n      <td>NaN</td>\n      <td>NaN</td>\n      <td>NaN</td>\n      <td>NaN</td>\n      <td>NaN</td>\n      <td>NaN</td>\n      <td>NaN</td>\n      <td>NaN</td>\n    </tr>\n    <tr>\n      <th>3</th>\n      <td>621e2ff067b776a2403eb737</td>\n      <td>2021-11-20</td>\n      <td>0</td>\n      <td>NaN</td>\n      <td>NaN</td>\n      <td>20.0</td>\n      <td>46.06</td>\n      <td>32050.0</td>\n      <td>272.0</td>\n      <td>NaN</td>\n      <td>...</td>\n      <td>NaN</td>\n      <td>NaN</td>\n      <td>NaN</td>\n      <td>NaN</td>\n      <td>NaN</td>\n      <td>NaN</td>\n      <td>NaN</td>\n      <td>NaN</td>\n      <td>NaN</td>\n      <td>NaN</td>\n    </tr>\n    <tr>\n      <th>4</th>\n      <td>621e2ff067b776a2403eb737</td>\n      <td>2021-11-20</td>\n      <td>23</td>\n      <td>NaN</td>\n      <td>NaN</td>\n      <td>NaN</td>\n      <td>2.35</td>\n      <td>0.0</td>\n      <td>NaN</td>\n      <td>NaN</td>\n      <td>...</td>\n      <td>NaN</td>\n      <td>NaN</td>\n      <td>NaN</td>\n      <td>NaN</td>\n      <td>NaN</td>\n      <td>NaN</td>\n      <td>NaN</td>\n      <td>NaN</td>\n      <td>NaN</td>\n      <td>NaN</td>\n    </tr>\n    <tr>\n      <th>...</th>\n      <td>...</td>\n      <td>...</td>\n      <td>...</td>\n      <td>...</td>\n      <td>...</td>\n      <td>...</td>\n      <td>...</td>\n      <td>...</td>\n      <td>...</td>\n      <td>...</td>\n      <td>...</td>\n      <td>...</td>\n      <td>...</td>\n      <td>...</td>\n      <td>...</td>\n      <td>...</td>\n      <td>...</td>\n      <td>...</td>\n      <td>...</td>\n      <td>...</td>\n      <td>...</td>\n    </tr>\n    <tr>\n      <th>165086</th>\n      <td>621e36f967b776a240e5e7c9</td>\n      <td>2021-05-20</td>\n      <td>16</td>\n      <td>NaN</td>\n      <td>NaN</td>\n      <td>NaN</td>\n      <td>NaN</td>\n      <td>NaN</td>\n      <td>NaN</td>\n      <td>NaN</td>\n      <td>...</td>\n      <td>NaN</td>\n      <td>NaN</td>\n      <td>NaN</td>\n      <td>NaN</td>\n      <td>NaN</td>\n      <td>NaN</td>\n      <td>NaN</td>\n      <td>NaN</td>\n      <td>NaN</td>\n      <td>NaN</td>\n    </tr>\n    <tr>\n      <th>165087</th>\n      <td>621e36f967b776a240e5e7c9</td>\n      <td>2021-05-20</td>\n      <td>20</td>\n      <td>NaN</td>\n      <td>NaN</td>\n      <td>NaN</td>\n      <td>NaN</td>\n      <td>NaN</td>\n      <td>NaN</td>\n      <td>NaN</td>\n      <td>...</td>\n      <td>NaN</td>\n      <td>NaN</td>\n      <td>NaN</td>\n      <td>NaN</td>\n      <td>NaN</td>\n      <td>NaN</td>\n      <td>NaN</td>\n      <td>NaN</td>\n      <td>NaN</td>\n      <td>NaN</td>\n    </tr>\n    <tr>\n      <th>165088</th>\n      <td>621e36f967b776a240e5e7c9</td>\n      <td>2021-05-21</td>\n      <td>17</td>\n      <td>NaN</td>\n      <td>NaN</td>\n      <td>NaN</td>\n      <td>NaN</td>\n      <td>NaN</td>\n      <td>NaN</td>\n      <td>NaN</td>\n      <td>...</td>\n      <td>NaN</td>\n      <td>NaN</td>\n      <td>NaN</td>\n      <td>NaN</td>\n      <td>NaN</td>\n      <td>NaN</td>\n      <td>NaN</td>\n      <td>NaN</td>\n      <td>NaN</td>\n      <td>NaN</td>\n    </tr>\n    <tr>\n      <th>165089</th>\n      <td>621e36f967b776a240e5e7c9</td>\n      <td>2021-05-21</td>\n      <td>22</td>\n      <td>NaN</td>\n      <td>NaN</td>\n      <td>NaN</td>\n      <td>NaN</td>\n      <td>NaN</td>\n      <td>NaN</td>\n      <td>NaN</td>\n      <td>...</td>\n      <td>NaN</td>\n      <td>NaN</td>\n      <td>NaN</td>\n      <td>NaN</td>\n      <td>NaN</td>\n      <td>NaN</td>\n      <td>NaN</td>\n      <td>NaN</td>\n      <td>NaN</td>\n      <td>NaN</td>\n    </tr>\n    <tr>\n      <th>165090</th>\n      <td>621e36f967b776a240e5e7c9</td>\n      <td>2021-05-22</td>\n      <td>18</td>\n      <td>NaN</td>\n      <td>NaN</td>\n      <td>NaN</td>\n      <td>NaN</td>\n      <td>NaN</td>\n      <td>NaN</td>\n      <td>NaN</td>\n      <td>...</td>\n      <td>NaN</td>\n      <td>NaN</td>\n      <td>NaN</td>\n      <td>NaN</td>\n      <td>NaN</td>\n      <td>NaN</td>\n      <td>NaN</td>\n      <td>NaN</td>\n      <td>NaN</td>\n      <td>NaN</td>\n    </tr>\n  </tbody>\n</table>\n<p>159926 rows × 76 columns</p>\n</div>"
     },
     "execution_count": 44,
     "metadata": {},
     "output_type": "execute_result"
    }
   ],
   "source": [
    "# find rows with no information - 5164 such rows have been found\n",
    "columns = list(training_df.loc[:, 'sleep_points':].columns)\n",
    "cleaned_training_df = training_df[~training_df[columns].isnull().all(1)]\n",
    "cleaned_training_df"
   ],
   "metadata": {
    "collapsed": false,
    "pycharm": {
     "name": "#%%\n"
    }
   }
  },
  {
   "cell_type": "code",
   "execution_count": 45,
   "outputs": [
    {
     "data": {
      "text/plain": "                              id       date  hour  sleep_points  \\\n0       621e2ff067b776a2403eb737 2021-12-22    19           NaN   \n1       621e2ff067b776a2403eb737 2021-11-18     0           NaN   \n2       621e2ff067b776a2403eb737 2021-11-18    21           NaN   \n3       621e2ff067b776a2403eb737 2021-11-20     0           NaN   \n4       621e2ff067b776a2403eb737 2021-11-20    23           NaN   \n...                          ...        ...   ...           ...   \n165086  621e36f967b776a240e5e7c9 2021-05-20    16           NaN   \n165087  621e36f967b776a240e5e7c9 2021-05-20    20           NaN   \n165088  621e36f967b776a240e5e7c9 2021-05-21    17           NaN   \n165089  621e36f967b776a240e5e7c9 2021-05-21    22           NaN   \n165090  621e36f967b776a240e5e7c9 2021-05-22    18           NaN   \n\n        exertion_points  altitude  calories  distance  lightly_active_minutes  \\\n0                   NaN      10.0     27.35   19650.0                     NaN   \n1                   NaN       NaN      2.35       0.0                   314.0   \n2                   NaN      20.0     44.50   26880.0                     NaN   \n3                   NaN      20.0     46.06   32050.0                   272.0   \n4                   NaN       NaN      2.35       0.0                     NaN   \n...                 ...       ...       ...       ...                     ...   \n165086              NaN       NaN       NaN       NaN                     NaN   \n165087              NaN       NaN       NaN       NaN                     NaN   \n165088              NaN       NaN       NaN       NaN                     NaN   \n165089              NaN       NaN       NaN       NaN                     NaN   \n165090              NaN       NaN       NaN       NaN                     NaN   \n\n        mindfulness_goal  ...  Swim  Aerobic Workout  Tennis  Sport  \\\n0                    NaN  ...   NaN              NaN     NaN    NaN   \n1                    NaN  ...   NaN              NaN     NaN    NaN   \n2                    NaN  ...   NaN              NaN     NaN    NaN   \n3                    NaN  ...   NaN              NaN     NaN    NaN   \n4                    NaN  ...   NaN              NaN     NaN    NaN   \n...                  ...  ...   ...              ...     ...    ...   \n165086               NaN  ...   NaN              NaN     NaN    NaN   \n165087               NaN  ...   NaN              NaN     NaN    NaN   \n165088               NaN  ...   NaN              NaN     NaN    NaN   \n165089               NaN  ...   NaN              NaN     NaN    NaN   \n165090               NaN  ...   NaN              NaN     NaN    NaN   \n\n        Interval Workout  Spinning  Weights  Elliptical  Treadmill  Bootcamp  \n0                    NaN       NaN      NaN         NaN        NaN       NaN  \n1                    NaN       NaN      NaN         NaN        NaN       NaN  \n2                    NaN       NaN      NaN         NaN        NaN       NaN  \n3                    NaN       NaN      NaN         NaN        NaN       NaN  \n4                    NaN       NaN      NaN         NaN        NaN       NaN  \n...                  ...       ...      ...         ...        ...       ...  \n165086               NaN       NaN      NaN         NaN        NaN       NaN  \n165087               NaN       NaN      NaN         NaN        NaN       NaN  \n165088               NaN       NaN      NaN         NaN        NaN       NaN  \n165089               NaN       NaN      NaN         NaN        NaN       NaN  \n165090               NaN       NaN      NaN         NaN        NaN       NaN  \n\n[159926 rows x 76 columns]",
      "text/html": "<div>\n<style scoped>\n    .dataframe tbody tr th:only-of-type {\n        vertical-align: middle;\n    }\n\n    .dataframe tbody tr th {\n        vertical-align: top;\n    }\n\n    .dataframe thead th {\n        text-align: right;\n    }\n</style>\n<table border=\"1\" class=\"dataframe\">\n  <thead>\n    <tr style=\"text-align: right;\">\n      <th></th>\n      <th>id</th>\n      <th>date</th>\n      <th>hour</th>\n      <th>sleep_points</th>\n      <th>exertion_points</th>\n      <th>altitude</th>\n      <th>calories</th>\n      <th>distance</th>\n      <th>lightly_active_minutes</th>\n      <th>mindfulness_goal</th>\n      <th>...</th>\n      <th>Swim</th>\n      <th>Aerobic Workout</th>\n      <th>Tennis</th>\n      <th>Sport</th>\n      <th>Interval Workout</th>\n      <th>Spinning</th>\n      <th>Weights</th>\n      <th>Elliptical</th>\n      <th>Treadmill</th>\n      <th>Bootcamp</th>\n    </tr>\n  </thead>\n  <tbody>\n    <tr>\n      <th>0</th>\n      <td>621e2ff067b776a2403eb737</td>\n      <td>2021-12-22</td>\n      <td>19</td>\n      <td>NaN</td>\n      <td>NaN</td>\n      <td>10.0</td>\n      <td>27.35</td>\n      <td>19650.0</td>\n      <td>NaN</td>\n      <td>NaN</td>\n      <td>...</td>\n      <td>NaN</td>\n      <td>NaN</td>\n      <td>NaN</td>\n      <td>NaN</td>\n      <td>NaN</td>\n      <td>NaN</td>\n      <td>NaN</td>\n      <td>NaN</td>\n      <td>NaN</td>\n      <td>NaN</td>\n    </tr>\n    <tr>\n      <th>1</th>\n      <td>621e2ff067b776a2403eb737</td>\n      <td>2021-11-18</td>\n      <td>0</td>\n      <td>NaN</td>\n      <td>NaN</td>\n      <td>NaN</td>\n      <td>2.35</td>\n      <td>0.0</td>\n      <td>314.0</td>\n      <td>NaN</td>\n      <td>...</td>\n      <td>NaN</td>\n      <td>NaN</td>\n      <td>NaN</td>\n      <td>NaN</td>\n      <td>NaN</td>\n      <td>NaN</td>\n      <td>NaN</td>\n      <td>NaN</td>\n      <td>NaN</td>\n      <td>NaN</td>\n    </tr>\n    <tr>\n      <th>2</th>\n      <td>621e2ff067b776a2403eb737</td>\n      <td>2021-11-18</td>\n      <td>21</td>\n      <td>NaN</td>\n      <td>NaN</td>\n      <td>20.0</td>\n      <td>44.50</td>\n      <td>26880.0</td>\n      <td>NaN</td>\n      <td>NaN</td>\n      <td>...</td>\n      <td>NaN</td>\n      <td>NaN</td>\n      <td>NaN</td>\n      <td>NaN</td>\n      <td>NaN</td>\n      <td>NaN</td>\n      <td>NaN</td>\n      <td>NaN</td>\n      <td>NaN</td>\n      <td>NaN</td>\n    </tr>\n    <tr>\n      <th>3</th>\n      <td>621e2ff067b776a2403eb737</td>\n      <td>2021-11-20</td>\n      <td>0</td>\n      <td>NaN</td>\n      <td>NaN</td>\n      <td>20.0</td>\n      <td>46.06</td>\n      <td>32050.0</td>\n      <td>272.0</td>\n      <td>NaN</td>\n      <td>...</td>\n      <td>NaN</td>\n      <td>NaN</td>\n      <td>NaN</td>\n      <td>NaN</td>\n      <td>NaN</td>\n      <td>NaN</td>\n      <td>NaN</td>\n      <td>NaN</td>\n      <td>NaN</td>\n      <td>NaN</td>\n    </tr>\n    <tr>\n      <th>4</th>\n      <td>621e2ff067b776a2403eb737</td>\n      <td>2021-11-20</td>\n      <td>23</td>\n      <td>NaN</td>\n      <td>NaN</td>\n      <td>NaN</td>\n      <td>2.35</td>\n      <td>0.0</td>\n      <td>NaN</td>\n      <td>NaN</td>\n      <td>...</td>\n      <td>NaN</td>\n      <td>NaN</td>\n      <td>NaN</td>\n      <td>NaN</td>\n      <td>NaN</td>\n      <td>NaN</td>\n      <td>NaN</td>\n      <td>NaN</td>\n      <td>NaN</td>\n      <td>NaN</td>\n    </tr>\n    <tr>\n      <th>...</th>\n      <td>...</td>\n      <td>...</td>\n      <td>...</td>\n      <td>...</td>\n      <td>...</td>\n      <td>...</td>\n      <td>...</td>\n      <td>...</td>\n      <td>...</td>\n      <td>...</td>\n      <td>...</td>\n      <td>...</td>\n      <td>...</td>\n      <td>...</td>\n      <td>...</td>\n      <td>...</td>\n      <td>...</td>\n      <td>...</td>\n      <td>...</td>\n      <td>...</td>\n      <td>...</td>\n    </tr>\n    <tr>\n      <th>165086</th>\n      <td>621e36f967b776a240e5e7c9</td>\n      <td>2021-05-20</td>\n      <td>16</td>\n      <td>NaN</td>\n      <td>NaN</td>\n      <td>NaN</td>\n      <td>NaN</td>\n      <td>NaN</td>\n      <td>NaN</td>\n      <td>NaN</td>\n      <td>...</td>\n      <td>NaN</td>\n      <td>NaN</td>\n      <td>NaN</td>\n      <td>NaN</td>\n      <td>NaN</td>\n      <td>NaN</td>\n      <td>NaN</td>\n      <td>NaN</td>\n      <td>NaN</td>\n      <td>NaN</td>\n    </tr>\n    <tr>\n      <th>165087</th>\n      <td>621e36f967b776a240e5e7c9</td>\n      <td>2021-05-20</td>\n      <td>20</td>\n      <td>NaN</td>\n      <td>NaN</td>\n      <td>NaN</td>\n      <td>NaN</td>\n      <td>NaN</td>\n      <td>NaN</td>\n      <td>NaN</td>\n      <td>...</td>\n      <td>NaN</td>\n      <td>NaN</td>\n      <td>NaN</td>\n      <td>NaN</td>\n      <td>NaN</td>\n      <td>NaN</td>\n      <td>NaN</td>\n      <td>NaN</td>\n      <td>NaN</td>\n      <td>NaN</td>\n    </tr>\n    <tr>\n      <th>165088</th>\n      <td>621e36f967b776a240e5e7c9</td>\n      <td>2021-05-21</td>\n      <td>17</td>\n      <td>NaN</td>\n      <td>NaN</td>\n      <td>NaN</td>\n      <td>NaN</td>\n      <td>NaN</td>\n      <td>NaN</td>\n      <td>NaN</td>\n      <td>...</td>\n      <td>NaN</td>\n      <td>NaN</td>\n      <td>NaN</td>\n      <td>NaN</td>\n      <td>NaN</td>\n      <td>NaN</td>\n      <td>NaN</td>\n      <td>NaN</td>\n      <td>NaN</td>\n      <td>NaN</td>\n    </tr>\n    <tr>\n      <th>165089</th>\n      <td>621e36f967b776a240e5e7c9</td>\n      <td>2021-05-21</td>\n      <td>22</td>\n      <td>NaN</td>\n      <td>NaN</td>\n      <td>NaN</td>\n      <td>NaN</td>\n      <td>NaN</td>\n      <td>NaN</td>\n      <td>NaN</td>\n      <td>...</td>\n      <td>NaN</td>\n      <td>NaN</td>\n      <td>NaN</td>\n      <td>NaN</td>\n      <td>NaN</td>\n      <td>NaN</td>\n      <td>NaN</td>\n      <td>NaN</td>\n      <td>NaN</td>\n      <td>NaN</td>\n    </tr>\n    <tr>\n      <th>165090</th>\n      <td>621e36f967b776a240e5e7c9</td>\n      <td>2021-05-22</td>\n      <td>18</td>\n      <td>NaN</td>\n      <td>NaN</td>\n      <td>NaN</td>\n      <td>NaN</td>\n      <td>NaN</td>\n      <td>NaN</td>\n      <td>NaN</td>\n      <td>...</td>\n      <td>NaN</td>\n      <td>NaN</td>\n      <td>NaN</td>\n      <td>NaN</td>\n      <td>NaN</td>\n      <td>NaN</td>\n      <td>NaN</td>\n      <td>NaN</td>\n      <td>NaN</td>\n      <td>NaN</td>\n    </tr>\n  </tbody>\n</table>\n<p>159926 rows × 76 columns</p>\n</div>"
     },
     "execution_count": 45,
     "metadata": {},
     "output_type": "execute_result"
    }
   ],
   "source": [
    "# find columns with no information - as expected 0 such columns have been found\n",
    "for col in columns:\n",
    "    if cleaned_training_df[col].isnull().all():\n",
    "        cleaned_training_df.drop(columns=col, inplace=True)\n",
    "cleaned_training_df"
   ],
   "metadata": {
    "collapsed": false,
    "pycharm": {
     "name": "#%%\n"
    }
   }
  },
  {
   "cell_type": "code",
   "execution_count": 46,
   "outputs": [
    {
     "name": "stdout",
     "output_type": "stream",
     "text": [
      "There are 45225 rows out of experiment dates from 69 unique users with 'normal distribution'.\n"
     ]
    }
   ],
   "source": [
    "# find how many records derived out of the official experiment dates and if affect this work\n",
    "cleaned_training_df = cleaned_training_df.sort_values(by='date', ascending=True)\n",
    "cleaned_training_df['date'] = pd.to_datetime(cleaned_training_df['date'].astype(\"str\"), format='%Y-%m-%d')\n",
    "experiments_df = cleaned_training_df.loc[((cleaned_training_df['date'] > '2021-05-23') & (cleaned_training_df['date'] < '2021-07-27')) |  ((cleaned_training_df['date'] > '2021-11-14') & (cleaned_training_df['date'] < '2022-01-18'))]\n",
    "experiments_df.reset_index(inplace=True, drop=True)\n",
    "extra = pd.concat([cleaned_training_df,experiments_df]).drop_duplicates(keep=False)\n",
    "print(\"There are\", len(extra), \"rows out of experiment dates from\", extra['id'].nunique(), \"unique users with 'normal distribution'.\")"
   ],
   "metadata": {
    "collapsed": false,
    "pycharm": {
     "name": "#%%\n"
    }
   }
  },
  {
   "cell_type": "code",
   "execution_count": 48,
   "outputs": [
    {
     "data": {
      "text/plain": "                              id                date  sleep_points  \\\n164878  621e375b67b776a240290cdc 2021-01-06 15:00:00           NaN   \n164960  621e2f6167b776a240e082a9 2021-01-06 20:00:00           NaN   \n164856  621e301367b776a24057738e 2021-01-06 23:00:00           NaN   \n164874  621e362467b776a2404ad513 2021-01-08 13:00:00           NaN   \n164858  621e30c867b776a240d4aa6c 2021-01-08 22:00:00           NaN   \n...                          ...                 ...           ...   \n56523   621e301e67b776a240608a72 2022-01-22 00:00:00           NaN   \n164964  621e310d67b776a24003096d 2022-01-24 14:00:00           NaN   \n164870  621e346f67b776a24081744f 2022-01-24 10:00:00           NaN   \n164855  621e300767b776a2404dc717 2022-01-24 12:00:00           NaN   \n164876  621e367e67b776a24087d75d 2022-01-27 18:00:00           NaN   \n\n        exertion_points  altitude  calories  distance  lightly_active_minutes  \\\n164878              NaN       NaN       NaN       NaN                     NaN   \n164960              NaN       NaN       NaN       NaN                     NaN   \n164856              NaN       NaN       NaN       NaN                     NaN   \n164874              NaN       NaN       NaN       NaN                     NaN   \n164858              NaN       NaN       NaN       NaN                     NaN   \n...                 ...       ...       ...       ...                     ...   \n56523               NaN       NaN       0.9       NaN                     0.0   \n164964              NaN       NaN       NaN       NaN                     NaN   \n164870              NaN       NaN       NaN       NaN                     NaN   \n164855              NaN       NaN       NaN       NaN                     NaN   \n164876              NaN       NaN       NaN       NaN                     NaN   \n\n        mindfulness_goal  moderately_active_minutes  ...  Swim  \\\n164878               NaN                        NaN  ...   NaN   \n164960               NaN                        NaN  ...   NaN   \n164856               NaN                        NaN  ...   NaN   \n164874               NaN                        NaN  ...   NaN   \n164858               NaN                        NaN  ...   NaN   \n...                  ...                        ...  ...   ...   \n56523                NaN                        0.0  ...   NaN   \n164964               NaN                        NaN  ...   NaN   \n164870               NaN                        NaN  ...   NaN   \n164855               NaN                        NaN  ...   NaN   \n164876               NaN                        NaN  ...   NaN   \n\n        Aerobic Workout  Tennis  Sport  Interval Workout  Spinning  Weights  \\\n164878              NaN     NaN    NaN               NaN       NaN      NaN   \n164960              NaN     NaN    NaN               NaN       NaN      NaN   \n164856              NaN     NaN    NaN               NaN       NaN      NaN   \n164874              NaN     NaN    NaN               NaN       NaN      NaN   \n164858              NaN     NaN    NaN               NaN       NaN      NaN   \n...                 ...     ...    ...               ...       ...      ...   \n56523               NaN     NaN    NaN               NaN       NaN      NaN   \n164964              NaN     NaN    NaN               NaN       NaN      NaN   \n164870              NaN     NaN    NaN               NaN       NaN      NaN   \n164855              NaN     NaN    NaN               NaN       NaN      NaN   \n164876              NaN     NaN    NaN               NaN       NaN      NaN   \n\n        Elliptical  Treadmill  Bootcamp  \n164878         NaN        NaN       NaN  \n164960         NaN        NaN       NaN  \n164856         NaN        NaN       NaN  \n164874         NaN        NaN       NaN  \n164858         NaN        NaN       NaN  \n...            ...        ...       ...  \n56523          NaN        NaN       NaN  \n164964         NaN        NaN       NaN  \n164870         NaN        NaN       NaN  \n164855         NaN        NaN       NaN  \n164876         NaN        NaN       NaN  \n\n[159926 rows x 75 columns]",
      "text/html": "<div>\n<style scoped>\n    .dataframe tbody tr th:only-of-type {\n        vertical-align: middle;\n    }\n\n    .dataframe tbody tr th {\n        vertical-align: top;\n    }\n\n    .dataframe thead th {\n        text-align: right;\n    }\n</style>\n<table border=\"1\" class=\"dataframe\">\n  <thead>\n    <tr style=\"text-align: right;\">\n      <th></th>\n      <th>id</th>\n      <th>date</th>\n      <th>sleep_points</th>\n      <th>exertion_points</th>\n      <th>altitude</th>\n      <th>calories</th>\n      <th>distance</th>\n      <th>lightly_active_minutes</th>\n      <th>mindfulness_goal</th>\n      <th>moderately_active_minutes</th>\n      <th>...</th>\n      <th>Swim</th>\n      <th>Aerobic Workout</th>\n      <th>Tennis</th>\n      <th>Sport</th>\n      <th>Interval Workout</th>\n      <th>Spinning</th>\n      <th>Weights</th>\n      <th>Elliptical</th>\n      <th>Treadmill</th>\n      <th>Bootcamp</th>\n    </tr>\n  </thead>\n  <tbody>\n    <tr>\n      <th>164878</th>\n      <td>621e375b67b776a240290cdc</td>\n      <td>2021-01-06 15:00:00</td>\n      <td>NaN</td>\n      <td>NaN</td>\n      <td>NaN</td>\n      <td>NaN</td>\n      <td>NaN</td>\n      <td>NaN</td>\n      <td>NaN</td>\n      <td>NaN</td>\n      <td>...</td>\n      <td>NaN</td>\n      <td>NaN</td>\n      <td>NaN</td>\n      <td>NaN</td>\n      <td>NaN</td>\n      <td>NaN</td>\n      <td>NaN</td>\n      <td>NaN</td>\n      <td>NaN</td>\n      <td>NaN</td>\n    </tr>\n    <tr>\n      <th>164960</th>\n      <td>621e2f6167b776a240e082a9</td>\n      <td>2021-01-06 20:00:00</td>\n      <td>NaN</td>\n      <td>NaN</td>\n      <td>NaN</td>\n      <td>NaN</td>\n      <td>NaN</td>\n      <td>NaN</td>\n      <td>NaN</td>\n      <td>NaN</td>\n      <td>...</td>\n      <td>NaN</td>\n      <td>NaN</td>\n      <td>NaN</td>\n      <td>NaN</td>\n      <td>NaN</td>\n      <td>NaN</td>\n      <td>NaN</td>\n      <td>NaN</td>\n      <td>NaN</td>\n      <td>NaN</td>\n    </tr>\n    <tr>\n      <th>164856</th>\n      <td>621e301367b776a24057738e</td>\n      <td>2021-01-06 23:00:00</td>\n      <td>NaN</td>\n      <td>NaN</td>\n      <td>NaN</td>\n      <td>NaN</td>\n      <td>NaN</td>\n      <td>NaN</td>\n      <td>NaN</td>\n      <td>NaN</td>\n      <td>...</td>\n      <td>NaN</td>\n      <td>NaN</td>\n      <td>NaN</td>\n      <td>NaN</td>\n      <td>NaN</td>\n      <td>NaN</td>\n      <td>NaN</td>\n      <td>NaN</td>\n      <td>NaN</td>\n      <td>NaN</td>\n    </tr>\n    <tr>\n      <th>164874</th>\n      <td>621e362467b776a2404ad513</td>\n      <td>2021-01-08 13:00:00</td>\n      <td>NaN</td>\n      <td>NaN</td>\n      <td>NaN</td>\n      <td>NaN</td>\n      <td>NaN</td>\n      <td>NaN</td>\n      <td>NaN</td>\n      <td>NaN</td>\n      <td>...</td>\n      <td>NaN</td>\n      <td>NaN</td>\n      <td>NaN</td>\n      <td>NaN</td>\n      <td>NaN</td>\n      <td>NaN</td>\n      <td>NaN</td>\n      <td>NaN</td>\n      <td>NaN</td>\n      <td>NaN</td>\n    </tr>\n    <tr>\n      <th>164858</th>\n      <td>621e30c867b776a240d4aa6c</td>\n      <td>2021-01-08 22:00:00</td>\n      <td>NaN</td>\n      <td>NaN</td>\n      <td>NaN</td>\n      <td>NaN</td>\n      <td>NaN</td>\n      <td>NaN</td>\n      <td>NaN</td>\n      <td>NaN</td>\n      <td>...</td>\n      <td>NaN</td>\n      <td>NaN</td>\n      <td>NaN</td>\n      <td>NaN</td>\n      <td>NaN</td>\n      <td>NaN</td>\n      <td>NaN</td>\n      <td>NaN</td>\n      <td>NaN</td>\n      <td>NaN</td>\n    </tr>\n    <tr>\n      <th>...</th>\n      <td>...</td>\n      <td>...</td>\n      <td>...</td>\n      <td>...</td>\n      <td>...</td>\n      <td>...</td>\n      <td>...</td>\n      <td>...</td>\n      <td>...</td>\n      <td>...</td>\n      <td>...</td>\n      <td>...</td>\n      <td>...</td>\n      <td>...</td>\n      <td>...</td>\n      <td>...</td>\n      <td>...</td>\n      <td>...</td>\n      <td>...</td>\n      <td>...</td>\n      <td>...</td>\n    </tr>\n    <tr>\n      <th>56523</th>\n      <td>621e301e67b776a240608a72</td>\n      <td>2022-01-22 00:00:00</td>\n      <td>NaN</td>\n      <td>NaN</td>\n      <td>NaN</td>\n      <td>0.9</td>\n      <td>NaN</td>\n      <td>0.0</td>\n      <td>NaN</td>\n      <td>0.0</td>\n      <td>...</td>\n      <td>NaN</td>\n      <td>NaN</td>\n      <td>NaN</td>\n      <td>NaN</td>\n      <td>NaN</td>\n      <td>NaN</td>\n      <td>NaN</td>\n      <td>NaN</td>\n      <td>NaN</td>\n      <td>NaN</td>\n    </tr>\n    <tr>\n      <th>164964</th>\n      <td>621e310d67b776a24003096d</td>\n      <td>2022-01-24 14:00:00</td>\n      <td>NaN</td>\n      <td>NaN</td>\n      <td>NaN</td>\n      <td>NaN</td>\n      <td>NaN</td>\n      <td>NaN</td>\n      <td>NaN</td>\n      <td>NaN</td>\n      <td>...</td>\n      <td>NaN</td>\n      <td>NaN</td>\n      <td>NaN</td>\n      <td>NaN</td>\n      <td>NaN</td>\n      <td>NaN</td>\n      <td>NaN</td>\n      <td>NaN</td>\n      <td>NaN</td>\n      <td>NaN</td>\n    </tr>\n    <tr>\n      <th>164870</th>\n      <td>621e346f67b776a24081744f</td>\n      <td>2022-01-24 10:00:00</td>\n      <td>NaN</td>\n      <td>NaN</td>\n      <td>NaN</td>\n      <td>NaN</td>\n      <td>NaN</td>\n      <td>NaN</td>\n      <td>NaN</td>\n      <td>NaN</td>\n      <td>...</td>\n      <td>NaN</td>\n      <td>NaN</td>\n      <td>NaN</td>\n      <td>NaN</td>\n      <td>NaN</td>\n      <td>NaN</td>\n      <td>NaN</td>\n      <td>NaN</td>\n      <td>NaN</td>\n      <td>NaN</td>\n    </tr>\n    <tr>\n      <th>164855</th>\n      <td>621e300767b776a2404dc717</td>\n      <td>2022-01-24 12:00:00</td>\n      <td>NaN</td>\n      <td>NaN</td>\n      <td>NaN</td>\n      <td>NaN</td>\n      <td>NaN</td>\n      <td>NaN</td>\n      <td>NaN</td>\n      <td>NaN</td>\n      <td>...</td>\n      <td>NaN</td>\n      <td>NaN</td>\n      <td>NaN</td>\n      <td>NaN</td>\n      <td>NaN</td>\n      <td>NaN</td>\n      <td>NaN</td>\n      <td>NaN</td>\n      <td>NaN</td>\n      <td>NaN</td>\n    </tr>\n    <tr>\n      <th>164876</th>\n      <td>621e367e67b776a24087d75d</td>\n      <td>2022-01-27 18:00:00</td>\n      <td>NaN</td>\n      <td>NaN</td>\n      <td>NaN</td>\n      <td>NaN</td>\n      <td>NaN</td>\n      <td>NaN</td>\n      <td>NaN</td>\n      <td>NaN</td>\n      <td>...</td>\n      <td>NaN</td>\n      <td>NaN</td>\n      <td>NaN</td>\n      <td>NaN</td>\n      <td>NaN</td>\n      <td>NaN</td>\n      <td>NaN</td>\n      <td>NaN</td>\n      <td>NaN</td>\n      <td>NaN</td>\n    </tr>\n  </tbody>\n</table>\n<p>159926 rows × 75 columns</p>\n</div>"
     },
     "execution_count": 48,
     "metadata": {},
     "output_type": "execute_result"
    }
   ],
   "source": [
    "# concatenate the date and hour columns into one datetime object column\n",
    "cleaned_training_df['date'] = pd.to_datetime(cleaned_training_df['date']) + cleaned_training_df['hour'] * pd.to_timedelta('1H')\n",
    "cleaned_training_df.drop(columns=['hour'], inplace=True)\n",
    "cleaned_training_df"
   ],
   "metadata": {
    "collapsed": false,
    "pycharm": {
     "name": "#%%\n"
    }
   }
  },
  {
   "cell_type": "code",
   "execution_count": 49,
   "outputs": [],
   "source": [
    "cleaned_training_df.to_pickle('../data/cleaned_encoded_training_df.pkl')"
   ],
   "metadata": {
    "collapsed": false,
    "pycharm": {
     "name": "#%%\n"
    }
   }
  },
  {
   "cell_type": "markdown",
   "source": [
    "##### 3. Run dataprep and identify basic preprocessing"
   ],
   "metadata": {
    "collapsed": false,
    "pycharm": {
     "name": "#%% md\n"
    }
   }
  },
  {
   "cell_type": "code",
   "execution_count": 57,
   "outputs": [
    {
     "data": {
      "text/plain": "                              id                date  sleep_points  \\\n164878  621e375b67b776a240290cdc 2021-01-06 15:00:00           NaN   \n164960  621e2f6167b776a240e082a9 2021-01-06 20:00:00           NaN   \n164856  621e301367b776a24057738e 2021-01-06 23:00:00           NaN   \n164874  621e362467b776a2404ad513 2021-01-08 13:00:00           NaN   \n164858  621e30c867b776a240d4aa6c 2021-01-08 22:00:00           NaN   \n...                          ...                 ...           ...   \n56523   621e301e67b776a240608a72 2022-01-22 00:00:00           NaN   \n164964  621e310d67b776a24003096d 2022-01-24 14:00:00           NaN   \n164870  621e346f67b776a24081744f 2022-01-24 10:00:00           NaN   \n164855  621e300767b776a2404dc717 2022-01-24 12:00:00           NaN   \n164876  621e367e67b776a24087d75d 2022-01-27 18:00:00           NaN   \n\n        exertion_points  altitude  calories  distance  lightly_active_minutes  \\\n164878              NaN       NaN       NaN       NaN                     NaN   \n164960              NaN       NaN       NaN       NaN                     NaN   \n164856              NaN       NaN       NaN       NaN                     NaN   \n164874              NaN       NaN       NaN       NaN                     NaN   \n164858              NaN       NaN       NaN       NaN                     NaN   \n...                 ...       ...       ...       ...                     ...   \n56523               NaN       NaN       0.9       NaN                     0.0   \n164964              NaN       NaN       NaN       NaN                     NaN   \n164870              NaN       NaN       NaN       NaN                     NaN   \n164855              NaN       NaN       NaN       NaN                     NaN   \n164876              NaN       NaN       NaN       NaN                     NaN   \n\n        mindfulness_goal  moderately_active_minutes  ...  Swim  \\\n164878               NaN                        NaN  ...   NaN   \n164960               NaN                        NaN  ...   NaN   \n164856               NaN                        NaN  ...   NaN   \n164874               NaN                        NaN  ...   NaN   \n164858               NaN                        NaN  ...   NaN   \n...                  ...                        ...  ...   ...   \n56523                NaN                        0.0  ...   NaN   \n164964               NaN                        NaN  ...   NaN   \n164870               NaN                        NaN  ...   NaN   \n164855               NaN                        NaN  ...   NaN   \n164876               NaN                        NaN  ...   NaN   \n\n        Aerobic Workout  Tennis  Sport  Interval Workout  Spinning  Weights  \\\n164878              NaN     NaN    NaN               NaN       NaN      NaN   \n164960              NaN     NaN    NaN               NaN       NaN      NaN   \n164856              NaN     NaN    NaN               NaN       NaN      NaN   \n164874              NaN     NaN    NaN               NaN       NaN      NaN   \n164858              NaN     NaN    NaN               NaN       NaN      NaN   \n...                 ...     ...    ...               ...       ...      ...   \n56523               NaN     NaN    NaN               NaN       NaN      NaN   \n164964              NaN     NaN    NaN               NaN       NaN      NaN   \n164870              NaN     NaN    NaN               NaN       NaN      NaN   \n164855              NaN     NaN    NaN               NaN       NaN      NaN   \n164876              NaN     NaN    NaN               NaN       NaN      NaN   \n\n        Elliptical  Treadmill  Bootcamp  \n164878         NaN        NaN       NaN  \n164960         NaN        NaN       NaN  \n164856         NaN        NaN       NaN  \n164874         NaN        NaN       NaN  \n164858         NaN        NaN       NaN  \n...            ...        ...       ...  \n56523          NaN        NaN       NaN  \n164964         NaN        NaN       NaN  \n164870         NaN        NaN       NaN  \n164855         NaN        NaN       NaN  \n164876         NaN        NaN       NaN  \n\n[159926 rows x 75 columns]",
      "text/html": "<div>\n<style scoped>\n    .dataframe tbody tr th:only-of-type {\n        vertical-align: middle;\n    }\n\n    .dataframe tbody tr th {\n        vertical-align: top;\n    }\n\n    .dataframe thead th {\n        text-align: right;\n    }\n</style>\n<table border=\"1\" class=\"dataframe\">\n  <thead>\n    <tr style=\"text-align: right;\">\n      <th></th>\n      <th>id</th>\n      <th>date</th>\n      <th>sleep_points</th>\n      <th>exertion_points</th>\n      <th>altitude</th>\n      <th>calories</th>\n      <th>distance</th>\n      <th>lightly_active_minutes</th>\n      <th>mindfulness_goal</th>\n      <th>moderately_active_minutes</th>\n      <th>...</th>\n      <th>Swim</th>\n      <th>Aerobic Workout</th>\n      <th>Tennis</th>\n      <th>Sport</th>\n      <th>Interval Workout</th>\n      <th>Spinning</th>\n      <th>Weights</th>\n      <th>Elliptical</th>\n      <th>Treadmill</th>\n      <th>Bootcamp</th>\n    </tr>\n  </thead>\n  <tbody>\n    <tr>\n      <th>164878</th>\n      <td>621e375b67b776a240290cdc</td>\n      <td>2021-01-06 15:00:00</td>\n      <td>NaN</td>\n      <td>NaN</td>\n      <td>NaN</td>\n      <td>NaN</td>\n      <td>NaN</td>\n      <td>NaN</td>\n      <td>NaN</td>\n      <td>NaN</td>\n      <td>...</td>\n      <td>NaN</td>\n      <td>NaN</td>\n      <td>NaN</td>\n      <td>NaN</td>\n      <td>NaN</td>\n      <td>NaN</td>\n      <td>NaN</td>\n      <td>NaN</td>\n      <td>NaN</td>\n      <td>NaN</td>\n    </tr>\n    <tr>\n      <th>164960</th>\n      <td>621e2f6167b776a240e082a9</td>\n      <td>2021-01-06 20:00:00</td>\n      <td>NaN</td>\n      <td>NaN</td>\n      <td>NaN</td>\n      <td>NaN</td>\n      <td>NaN</td>\n      <td>NaN</td>\n      <td>NaN</td>\n      <td>NaN</td>\n      <td>...</td>\n      <td>NaN</td>\n      <td>NaN</td>\n      <td>NaN</td>\n      <td>NaN</td>\n      <td>NaN</td>\n      <td>NaN</td>\n      <td>NaN</td>\n      <td>NaN</td>\n      <td>NaN</td>\n      <td>NaN</td>\n    </tr>\n    <tr>\n      <th>164856</th>\n      <td>621e301367b776a24057738e</td>\n      <td>2021-01-06 23:00:00</td>\n      <td>NaN</td>\n      <td>NaN</td>\n      <td>NaN</td>\n      <td>NaN</td>\n      <td>NaN</td>\n      <td>NaN</td>\n      <td>NaN</td>\n      <td>NaN</td>\n      <td>...</td>\n      <td>NaN</td>\n      <td>NaN</td>\n      <td>NaN</td>\n      <td>NaN</td>\n      <td>NaN</td>\n      <td>NaN</td>\n      <td>NaN</td>\n      <td>NaN</td>\n      <td>NaN</td>\n      <td>NaN</td>\n    </tr>\n    <tr>\n      <th>164874</th>\n      <td>621e362467b776a2404ad513</td>\n      <td>2021-01-08 13:00:00</td>\n      <td>NaN</td>\n      <td>NaN</td>\n      <td>NaN</td>\n      <td>NaN</td>\n      <td>NaN</td>\n      <td>NaN</td>\n      <td>NaN</td>\n      <td>NaN</td>\n      <td>...</td>\n      <td>NaN</td>\n      <td>NaN</td>\n      <td>NaN</td>\n      <td>NaN</td>\n      <td>NaN</td>\n      <td>NaN</td>\n      <td>NaN</td>\n      <td>NaN</td>\n      <td>NaN</td>\n      <td>NaN</td>\n    </tr>\n    <tr>\n      <th>164858</th>\n      <td>621e30c867b776a240d4aa6c</td>\n      <td>2021-01-08 22:00:00</td>\n      <td>NaN</td>\n      <td>NaN</td>\n      <td>NaN</td>\n      <td>NaN</td>\n      <td>NaN</td>\n      <td>NaN</td>\n      <td>NaN</td>\n      <td>NaN</td>\n      <td>...</td>\n      <td>NaN</td>\n      <td>NaN</td>\n      <td>NaN</td>\n      <td>NaN</td>\n      <td>NaN</td>\n      <td>NaN</td>\n      <td>NaN</td>\n      <td>NaN</td>\n      <td>NaN</td>\n      <td>NaN</td>\n    </tr>\n    <tr>\n      <th>...</th>\n      <td>...</td>\n      <td>...</td>\n      <td>...</td>\n      <td>...</td>\n      <td>...</td>\n      <td>...</td>\n      <td>...</td>\n      <td>...</td>\n      <td>...</td>\n      <td>...</td>\n      <td>...</td>\n      <td>...</td>\n      <td>...</td>\n      <td>...</td>\n      <td>...</td>\n      <td>...</td>\n      <td>...</td>\n      <td>...</td>\n      <td>...</td>\n      <td>...</td>\n      <td>...</td>\n    </tr>\n    <tr>\n      <th>56523</th>\n      <td>621e301e67b776a240608a72</td>\n      <td>2022-01-22 00:00:00</td>\n      <td>NaN</td>\n      <td>NaN</td>\n      <td>NaN</td>\n      <td>0.9</td>\n      <td>NaN</td>\n      <td>0.0</td>\n      <td>NaN</td>\n      <td>0.0</td>\n      <td>...</td>\n      <td>NaN</td>\n      <td>NaN</td>\n      <td>NaN</td>\n      <td>NaN</td>\n      <td>NaN</td>\n      <td>NaN</td>\n      <td>NaN</td>\n      <td>NaN</td>\n      <td>NaN</td>\n      <td>NaN</td>\n    </tr>\n    <tr>\n      <th>164964</th>\n      <td>621e310d67b776a24003096d</td>\n      <td>2022-01-24 14:00:00</td>\n      <td>NaN</td>\n      <td>NaN</td>\n      <td>NaN</td>\n      <td>NaN</td>\n      <td>NaN</td>\n      <td>NaN</td>\n      <td>NaN</td>\n      <td>NaN</td>\n      <td>...</td>\n      <td>NaN</td>\n      <td>NaN</td>\n      <td>NaN</td>\n      <td>NaN</td>\n      <td>NaN</td>\n      <td>NaN</td>\n      <td>NaN</td>\n      <td>NaN</td>\n      <td>NaN</td>\n      <td>NaN</td>\n    </tr>\n    <tr>\n      <th>164870</th>\n      <td>621e346f67b776a24081744f</td>\n      <td>2022-01-24 10:00:00</td>\n      <td>NaN</td>\n      <td>NaN</td>\n      <td>NaN</td>\n      <td>NaN</td>\n      <td>NaN</td>\n      <td>NaN</td>\n      <td>NaN</td>\n      <td>NaN</td>\n      <td>...</td>\n      <td>NaN</td>\n      <td>NaN</td>\n      <td>NaN</td>\n      <td>NaN</td>\n      <td>NaN</td>\n      <td>NaN</td>\n      <td>NaN</td>\n      <td>NaN</td>\n      <td>NaN</td>\n      <td>NaN</td>\n    </tr>\n    <tr>\n      <th>164855</th>\n      <td>621e300767b776a2404dc717</td>\n      <td>2022-01-24 12:00:00</td>\n      <td>NaN</td>\n      <td>NaN</td>\n      <td>NaN</td>\n      <td>NaN</td>\n      <td>NaN</td>\n      <td>NaN</td>\n      <td>NaN</td>\n      <td>NaN</td>\n      <td>...</td>\n      <td>NaN</td>\n      <td>NaN</td>\n      <td>NaN</td>\n      <td>NaN</td>\n      <td>NaN</td>\n      <td>NaN</td>\n      <td>NaN</td>\n      <td>NaN</td>\n      <td>NaN</td>\n      <td>NaN</td>\n    </tr>\n    <tr>\n      <th>164876</th>\n      <td>621e367e67b776a24087d75d</td>\n      <td>2022-01-27 18:00:00</td>\n      <td>NaN</td>\n      <td>NaN</td>\n      <td>NaN</td>\n      <td>NaN</td>\n      <td>NaN</td>\n      <td>NaN</td>\n      <td>NaN</td>\n      <td>NaN</td>\n      <td>...</td>\n      <td>NaN</td>\n      <td>NaN</td>\n      <td>NaN</td>\n      <td>NaN</td>\n      <td>NaN</td>\n      <td>NaN</td>\n      <td>NaN</td>\n      <td>NaN</td>\n      <td>NaN</td>\n      <td>NaN</td>\n    </tr>\n  </tbody>\n</table>\n<p>159926 rows × 75 columns</p>\n</div>"
     },
     "execution_count": 57,
     "metadata": {},
     "output_type": "execute_result"
    }
   ],
   "source": [
    "training_df = pd.read_pickle('../data/cleaned_encoded_training_df.pkl')\n",
    "training_df"
   ],
   "metadata": {
    "collapsed": false,
    "pycharm": {
     "name": "#%%\n"
    }
   }
  },
  {
   "cell_type": "code",
   "execution_count": 51,
   "outputs": [
    {
     "data": {
      "text/plain": "  0%|          | 0/17571 [00:00<?, ?it/s]",
      "application/vnd.jupyter.widget-view+json": {
       "version_major": 2,
       "version_minor": 0,
       "model_id": "3a6e5602fac14649985a51e6ae0d110e"
      }
     },
     "metadata": {},
     "output_type": "display_data"
    }
   ],
   "source": [
    "report = create_report(training_df, title='Training Dataframe')\n",
    "report.show_browser()"
   ],
   "metadata": {
    "collapsed": false,
    "pycharm": {
     "name": "#%%\n"
    }
   }
  },
  {
   "cell_type": "markdown",
   "source": [
    "##### 4. Implement basic preprocessing"
   ],
   "metadata": {
    "collapsed": false,
    "pycharm": {
     "name": "#%% md\n"
    }
   }
  },
  {
   "cell_type": "markdown",
   "source": [
    "step_goal preprocessing"
   ],
   "metadata": {
    "collapsed": false,
    "pycharm": {
     "name": "#%% md\n"
    }
   }
  },
  {
   "cell_type": "code",
   "execution_count": 58,
   "outputs": [],
   "source": [
    "# convert from categorical to numerical\n",
    "training_df['step_goal'].replace(to_replace=['NO_GOAL'], value=[0], inplace=True)\n",
    "training_df['step_goal'] = training_df['step_goal'].astype(float)"
   ],
   "metadata": {
    "collapsed": false,
    "pycharm": {
     "name": "#%%\n"
    }
   }
  },
  {
   "cell_type": "markdown",
   "source": [
    "main_sleep preprocecssing"
   ],
   "metadata": {
    "collapsed": false,
    "pycharm": {
     "name": "#%% md\n"
    }
   }
  },
  {
   "cell_type": "code",
   "execution_count": 59,
   "outputs": [],
   "source": [
    "# binary encoding\n",
    "training_df['main_sleep'].replace(to_replace=[True], value=[1], inplace=True)"
   ],
   "metadata": {
    "collapsed": false,
    "pycharm": {
     "name": "#%%\n"
    }
   }
  },
  {
   "cell_type": "markdown",
   "source": [
    "consciousness_raising, counterconditioning, helping_relationships and stimulus_control preprocessing"
   ],
   "metadata": {
    "collapsed": false,
    "pycharm": {
     "name": "#%% md\n"
    }
   }
  },
  {
   "cell_type": "code",
   "execution_count": 60,
   "outputs": [],
   "source": [
    "# replace with 0,1,2 (ordinal relationship)\n",
    "for feature in ['consciousness_raising_category', 'counterconditioning_category', 'helping_relationships_category', 'stimulus_control_category']:\n",
    "    training_df[feature].replace(to_replace=['Below average', 'Average', 'Above average'], value=[0, 1 ,2], inplace=True)"
   ],
   "metadata": {
    "collapsed": false,
    "pycharm": {
     "name": "#%%\n"
    }
   }
  },
  {
   "cell_type": "markdown",
   "source": [
    "place preprocessing"
   ],
   "metadata": {
    "collapsed": false,
    "pycharm": {
     "name": "#%% md\n"
    }
   }
  },
  {
   "cell_type": "code",
   "execution_count": 61,
   "outputs": [],
   "source": [
    "# one-hot-encoding\n",
    "s = training_df['place']\n",
    "dum = pd.get_dummies(s.apply(pd.Series).stack()).sum(level=0)\n",
    "df = pd.concat([s, dum], axis=1)\n",
    "training_df = pd.concat([training_df, df], axis=1)\n",
    "training_df = training_df.drop(columns='place')"
   ],
   "metadata": {
    "collapsed": false,
    "pycharm": {
     "name": "#%%\n"
    }
   }
  },
  {
   "cell_type": "code",
   "execution_count": 62,
   "outputs": [],
   "source": [
    "training_df.to_pickle('../data/basic_preprocessed_training_df.pkl')"
   ],
   "metadata": {
    "collapsed": false,
    "pycharm": {
     "name": "#%%\n"
    }
   }
  },
  {
   "cell_type": "markdown",
   "source": [
    "##### 5. Preprocess the different features' granularity"
   ],
   "metadata": {
    "collapsed": false,
    "pycharm": {
     "name": "#%% md\n"
    }
   }
  },
  {
   "cell_type": "code",
   "execution_count": 63,
   "outputs": [
    {
     "data": {
      "text/plain": "                              id                date  sleep_points  \\\n164878  621e375b67b776a240290cdc 2021-01-06 15:00:00           NaN   \n164960  621e2f6167b776a240e082a9 2021-01-06 20:00:00           NaN   \n164856  621e301367b776a24057738e 2021-01-06 23:00:00           NaN   \n164874  621e362467b776a2404ad513 2021-01-08 13:00:00           NaN   \n164858  621e30c867b776a240d4aa6c 2021-01-08 22:00:00           NaN   \n...                          ...                 ...           ...   \n56523   621e301e67b776a240608a72 2022-01-22 00:00:00           NaN   \n164964  621e310d67b776a24003096d 2022-01-24 14:00:00           NaN   \n164870  621e346f67b776a24081744f 2022-01-24 10:00:00           NaN   \n164855  621e300767b776a2404dc717 2022-01-24 12:00:00           NaN   \n164876  621e367e67b776a24087d75d 2022-01-27 18:00:00           NaN   \n\n        exertion_points  altitude  calories  distance  lightly_active_minutes  \\\n164878              NaN       NaN       NaN       NaN                     NaN   \n164960              NaN       NaN       NaN       NaN                     NaN   \n164856              NaN       NaN       NaN       NaN                     NaN   \n164874              NaN       NaN       NaN       NaN                     NaN   \n164858              NaN       NaN       NaN       NaN                     NaN   \n...                 ...       ...       ...       ...                     ...   \n56523               NaN       NaN       0.9       NaN                     0.0   \n164964              NaN       NaN       NaN       NaN                     NaN   \n164870              NaN       NaN       NaN       NaN                     NaN   \n164855              NaN       NaN       NaN       NaN                     NaN   \n164876              NaN       NaN       NaN       NaN                     NaN   \n\n        mindfulness_goal  moderately_active_minutes  ...  Treadmill  Bootcamp  \\\n164878               NaN                        NaN  ...        NaN       NaN   \n164960               NaN                        NaN  ...        NaN       NaN   \n164856               NaN                        NaN  ...        NaN       NaN   \n164874               NaN                        NaN  ...        NaN       NaN   \n164858               NaN                        NaN  ...        NaN       NaN   \n...                  ...                        ...  ...        ...       ...   \n56523                NaN                        0.0  ...        NaN       NaN   \n164964               NaN                        NaN  ...        NaN       NaN   \n164870               NaN                        NaN  ...        NaN       NaN   \n164855               NaN                        NaN  ...        NaN       NaN   \n164876               NaN                        NaN  ...        NaN       NaN   \n\n        ENTERTAINMENT  GYM  HOME  HOME_OFFICE  OTHER  OUTDOORS  TRANSIT  \\\n164878            NaN  NaN   NaN          NaN    NaN       NaN      NaN   \n164960            NaN  NaN   NaN          NaN    NaN       NaN      NaN   \n164856            NaN  NaN   NaN          NaN    NaN       NaN      NaN   \n164874            NaN  NaN   NaN          NaN    NaN       NaN      NaN   \n164858            NaN  NaN   NaN          NaN    NaN       NaN      NaN   \n...               ...  ...   ...          ...    ...       ...      ...   \n56523             NaN  NaN   NaN          NaN    NaN       NaN      NaN   \n164964            NaN  NaN   NaN          NaN    NaN       NaN      NaN   \n164870            NaN  NaN   NaN          NaN    NaN       NaN      NaN   \n164855            NaN  NaN   NaN          NaN    NaN       NaN      NaN   \n164876            NaN  NaN   NaN          NaN    NaN       NaN      NaN   \n\n        WORK/SCHOOL  \n164878          NaN  \n164960          NaN  \n164856          NaN  \n164874          NaN  \n164858          NaN  \n...             ...  \n56523           NaN  \n164964          NaN  \n164870          NaN  \n164855          NaN  \n164876          NaN  \n\n[159926 rows x 82 columns]",
      "text/html": "<div>\n<style scoped>\n    .dataframe tbody tr th:only-of-type {\n        vertical-align: middle;\n    }\n\n    .dataframe tbody tr th {\n        vertical-align: top;\n    }\n\n    .dataframe thead th {\n        text-align: right;\n    }\n</style>\n<table border=\"1\" class=\"dataframe\">\n  <thead>\n    <tr style=\"text-align: right;\">\n      <th></th>\n      <th>id</th>\n      <th>date</th>\n      <th>sleep_points</th>\n      <th>exertion_points</th>\n      <th>altitude</th>\n      <th>calories</th>\n      <th>distance</th>\n      <th>lightly_active_minutes</th>\n      <th>mindfulness_goal</th>\n      <th>moderately_active_minutes</th>\n      <th>...</th>\n      <th>Treadmill</th>\n      <th>Bootcamp</th>\n      <th>ENTERTAINMENT</th>\n      <th>GYM</th>\n      <th>HOME</th>\n      <th>HOME_OFFICE</th>\n      <th>OTHER</th>\n      <th>OUTDOORS</th>\n      <th>TRANSIT</th>\n      <th>WORK/SCHOOL</th>\n    </tr>\n  </thead>\n  <tbody>\n    <tr>\n      <th>164878</th>\n      <td>621e375b67b776a240290cdc</td>\n      <td>2021-01-06 15:00:00</td>\n      <td>NaN</td>\n      <td>NaN</td>\n      <td>NaN</td>\n      <td>NaN</td>\n      <td>NaN</td>\n      <td>NaN</td>\n      <td>NaN</td>\n      <td>NaN</td>\n      <td>...</td>\n      <td>NaN</td>\n      <td>NaN</td>\n      <td>NaN</td>\n      <td>NaN</td>\n      <td>NaN</td>\n      <td>NaN</td>\n      <td>NaN</td>\n      <td>NaN</td>\n      <td>NaN</td>\n      <td>NaN</td>\n    </tr>\n    <tr>\n      <th>164960</th>\n      <td>621e2f6167b776a240e082a9</td>\n      <td>2021-01-06 20:00:00</td>\n      <td>NaN</td>\n      <td>NaN</td>\n      <td>NaN</td>\n      <td>NaN</td>\n      <td>NaN</td>\n      <td>NaN</td>\n      <td>NaN</td>\n      <td>NaN</td>\n      <td>...</td>\n      <td>NaN</td>\n      <td>NaN</td>\n      <td>NaN</td>\n      <td>NaN</td>\n      <td>NaN</td>\n      <td>NaN</td>\n      <td>NaN</td>\n      <td>NaN</td>\n      <td>NaN</td>\n      <td>NaN</td>\n    </tr>\n    <tr>\n      <th>164856</th>\n      <td>621e301367b776a24057738e</td>\n      <td>2021-01-06 23:00:00</td>\n      <td>NaN</td>\n      <td>NaN</td>\n      <td>NaN</td>\n      <td>NaN</td>\n      <td>NaN</td>\n      <td>NaN</td>\n      <td>NaN</td>\n      <td>NaN</td>\n      <td>...</td>\n      <td>NaN</td>\n      <td>NaN</td>\n      <td>NaN</td>\n      <td>NaN</td>\n      <td>NaN</td>\n      <td>NaN</td>\n      <td>NaN</td>\n      <td>NaN</td>\n      <td>NaN</td>\n      <td>NaN</td>\n    </tr>\n    <tr>\n      <th>164874</th>\n      <td>621e362467b776a2404ad513</td>\n      <td>2021-01-08 13:00:00</td>\n      <td>NaN</td>\n      <td>NaN</td>\n      <td>NaN</td>\n      <td>NaN</td>\n      <td>NaN</td>\n      <td>NaN</td>\n      <td>NaN</td>\n      <td>NaN</td>\n      <td>...</td>\n      <td>NaN</td>\n      <td>NaN</td>\n      <td>NaN</td>\n      <td>NaN</td>\n      <td>NaN</td>\n      <td>NaN</td>\n      <td>NaN</td>\n      <td>NaN</td>\n      <td>NaN</td>\n      <td>NaN</td>\n    </tr>\n    <tr>\n      <th>164858</th>\n      <td>621e30c867b776a240d4aa6c</td>\n      <td>2021-01-08 22:00:00</td>\n      <td>NaN</td>\n      <td>NaN</td>\n      <td>NaN</td>\n      <td>NaN</td>\n      <td>NaN</td>\n      <td>NaN</td>\n      <td>NaN</td>\n      <td>NaN</td>\n      <td>...</td>\n      <td>NaN</td>\n      <td>NaN</td>\n      <td>NaN</td>\n      <td>NaN</td>\n      <td>NaN</td>\n      <td>NaN</td>\n      <td>NaN</td>\n      <td>NaN</td>\n      <td>NaN</td>\n      <td>NaN</td>\n    </tr>\n    <tr>\n      <th>...</th>\n      <td>...</td>\n      <td>...</td>\n      <td>...</td>\n      <td>...</td>\n      <td>...</td>\n      <td>...</td>\n      <td>...</td>\n      <td>...</td>\n      <td>...</td>\n      <td>...</td>\n      <td>...</td>\n      <td>...</td>\n      <td>...</td>\n      <td>...</td>\n      <td>...</td>\n      <td>...</td>\n      <td>...</td>\n      <td>...</td>\n      <td>...</td>\n      <td>...</td>\n      <td>...</td>\n    </tr>\n    <tr>\n      <th>56523</th>\n      <td>621e301e67b776a240608a72</td>\n      <td>2022-01-22 00:00:00</td>\n      <td>NaN</td>\n      <td>NaN</td>\n      <td>NaN</td>\n      <td>0.9</td>\n      <td>NaN</td>\n      <td>0.0</td>\n      <td>NaN</td>\n      <td>0.0</td>\n      <td>...</td>\n      <td>NaN</td>\n      <td>NaN</td>\n      <td>NaN</td>\n      <td>NaN</td>\n      <td>NaN</td>\n      <td>NaN</td>\n      <td>NaN</td>\n      <td>NaN</td>\n      <td>NaN</td>\n      <td>NaN</td>\n    </tr>\n    <tr>\n      <th>164964</th>\n      <td>621e310d67b776a24003096d</td>\n      <td>2022-01-24 14:00:00</td>\n      <td>NaN</td>\n      <td>NaN</td>\n      <td>NaN</td>\n      <td>NaN</td>\n      <td>NaN</td>\n      <td>NaN</td>\n      <td>NaN</td>\n      <td>NaN</td>\n      <td>...</td>\n      <td>NaN</td>\n      <td>NaN</td>\n      <td>NaN</td>\n      <td>NaN</td>\n      <td>NaN</td>\n      <td>NaN</td>\n      <td>NaN</td>\n      <td>NaN</td>\n      <td>NaN</td>\n      <td>NaN</td>\n    </tr>\n    <tr>\n      <th>164870</th>\n      <td>621e346f67b776a24081744f</td>\n      <td>2022-01-24 10:00:00</td>\n      <td>NaN</td>\n      <td>NaN</td>\n      <td>NaN</td>\n      <td>NaN</td>\n      <td>NaN</td>\n      <td>NaN</td>\n      <td>NaN</td>\n      <td>NaN</td>\n      <td>...</td>\n      <td>NaN</td>\n      <td>NaN</td>\n      <td>NaN</td>\n      <td>NaN</td>\n      <td>NaN</td>\n      <td>NaN</td>\n      <td>NaN</td>\n      <td>NaN</td>\n      <td>NaN</td>\n      <td>NaN</td>\n    </tr>\n    <tr>\n      <th>164855</th>\n      <td>621e300767b776a2404dc717</td>\n      <td>2022-01-24 12:00:00</td>\n      <td>NaN</td>\n      <td>NaN</td>\n      <td>NaN</td>\n      <td>NaN</td>\n      <td>NaN</td>\n      <td>NaN</td>\n      <td>NaN</td>\n      <td>NaN</td>\n      <td>...</td>\n      <td>NaN</td>\n      <td>NaN</td>\n      <td>NaN</td>\n      <td>NaN</td>\n      <td>NaN</td>\n      <td>NaN</td>\n      <td>NaN</td>\n      <td>NaN</td>\n      <td>NaN</td>\n      <td>NaN</td>\n    </tr>\n    <tr>\n      <th>164876</th>\n      <td>621e367e67b776a24087d75d</td>\n      <td>2022-01-27 18:00:00</td>\n      <td>NaN</td>\n      <td>NaN</td>\n      <td>NaN</td>\n      <td>NaN</td>\n      <td>NaN</td>\n      <td>NaN</td>\n      <td>NaN</td>\n      <td>NaN</td>\n      <td>...</td>\n      <td>NaN</td>\n      <td>NaN</td>\n      <td>NaN</td>\n      <td>NaN</td>\n      <td>NaN</td>\n      <td>NaN</td>\n      <td>NaN</td>\n      <td>NaN</td>\n      <td>NaN</td>\n      <td>NaN</td>\n    </tr>\n  </tbody>\n</table>\n<p>159926 rows × 82 columns</p>\n</div>"
     },
     "execution_count": 63,
     "metadata": {},
     "output_type": "execute_result"
    }
   ],
   "source": [
    "training_df = pd.read_pickle('../data/basic_preprocessed_training_df.pkl')\n",
    "training_df"
   ],
   "metadata": {
    "collapsed": false,
    "pycharm": {
     "name": "#%%\n"
    }
   }
  },
  {
   "cell_type": "markdown",
   "source": [
    "Group together features that need the same granularity preprocessing"
   ],
   "metadata": {
    "collapsed": false,
    "pycharm": {
     "name": "#%% md\n"
    }
   }
  },
  {
   "cell_type": "code",
   "execution_count": 65,
   "outputs": [],
   "source": [
    "copy_for_day = ['exertion_points', 'lightly_active_minutes', 'moderately_active_minutes', 'sedentary_minutes', 'very_active_minutes', 'step_goal', 'minutes_below_zone_1', 'minutes_in_zone_1', 'minutes_in_zone_2', 'minutes_in_zone_3', 'sleep_points', 'water_amount', 'mindfulness_goal']"
   ],
   "metadata": {
    "collapsed": false,
    "pycharm": {
     "name": "#%%\n"
    }
   }
  },
  {
   "cell_type": "code",
   "execution_count": 66,
   "outputs": [
    {
     "data": {
      "text/plain": "                              id                date  sleep_points  \\\n164878  621e375b67b776a240290cdc 2021-01-06 15:00:00           NaN   \n164960  621e2f6167b776a240e082a9 2021-01-06 20:00:00           NaN   \n164856  621e301367b776a24057738e 2021-01-06 23:00:00           NaN   \n164874  621e362467b776a2404ad513 2021-01-08 13:00:00           NaN   \n164858  621e30c867b776a240d4aa6c 2021-01-08 22:00:00           NaN   \n...                          ...                 ...           ...   \n56523   621e301e67b776a240608a72 2022-01-22 00:00:00           NaN   \n164964  621e310d67b776a24003096d 2022-01-24 14:00:00           NaN   \n164870  621e346f67b776a24081744f 2022-01-24 10:00:00           NaN   \n164855  621e300767b776a2404dc717 2022-01-24 12:00:00           NaN   \n164876  621e367e67b776a24087d75d 2022-01-27 18:00:00           NaN   \n\n        exertion_points  altitude  calories  distance  lightly_active_minutes  \\\n164878              NaN       NaN       NaN       NaN                     NaN   \n164960              NaN       NaN       NaN       NaN                     NaN   \n164856              NaN       NaN       NaN       NaN                     NaN   \n164874              NaN       NaN       NaN       NaN                     NaN   \n164858              NaN       NaN       NaN       NaN                     NaN   \n...                 ...       ...       ...       ...                     ...   \n56523               NaN       NaN       0.9       NaN                     0.0   \n164964              NaN       NaN       NaN       NaN                     NaN   \n164870              NaN       NaN       NaN       NaN                     NaN   \n164855              NaN       NaN       NaN       NaN                     NaN   \n164876              NaN       NaN       NaN       NaN                     NaN   \n\n        mindfulness_goal  moderately_active_minutes  ...  Treadmill  Bootcamp  \\\n164878               NaN                        NaN  ...        NaN       NaN   \n164960               NaN                        NaN  ...        NaN       NaN   \n164856               NaN                        NaN  ...        NaN       NaN   \n164874               NaN                        NaN  ...        NaN       NaN   \n164858               NaN                        NaN  ...        NaN       NaN   \n...                  ...                        ...  ...        ...       ...   \n56523                NaN                        0.0  ...        NaN       NaN   \n164964               NaN                        NaN  ...        NaN       NaN   \n164870               NaN                        NaN  ...        NaN       NaN   \n164855               NaN                        NaN  ...        NaN       NaN   \n164876               NaN                        NaN  ...        NaN       NaN   \n\n        ENTERTAINMENT  GYM  HOME  HOME_OFFICE  OTHER  OUTDOORS  TRANSIT  \\\n164878            NaN  NaN   NaN          NaN    NaN       NaN      NaN   \n164960            NaN  NaN   NaN          NaN    NaN       NaN      NaN   \n164856            NaN  NaN   NaN          NaN    NaN       NaN      NaN   \n164874            NaN  NaN   NaN          NaN    NaN       NaN      NaN   \n164858            NaN  NaN   NaN          NaN    NaN       NaN      NaN   \n...               ...  ...   ...          ...    ...       ...      ...   \n56523             NaN  NaN   NaN          NaN    NaN       NaN      NaN   \n164964            NaN  NaN   NaN          NaN    NaN       NaN      NaN   \n164870            NaN  NaN   NaN          NaN    NaN       NaN      NaN   \n164855            NaN  NaN   NaN          NaN    NaN       NaN      NaN   \n164876            NaN  NaN   NaN          NaN    NaN       NaN      NaN   \n\n        WORK/SCHOOL  \n164878          NaN  \n164960          NaN  \n164856          NaN  \n164874          NaN  \n164858          NaN  \n...             ...  \n56523           NaN  \n164964          NaN  \n164870          NaN  \n164855          NaN  \n164876          NaN  \n\n[159926 rows x 82 columns]",
      "text/html": "<div>\n<style scoped>\n    .dataframe tbody tr th:only-of-type {\n        vertical-align: middle;\n    }\n\n    .dataframe tbody tr th {\n        vertical-align: top;\n    }\n\n    .dataframe thead th {\n        text-align: right;\n    }\n</style>\n<table border=\"1\" class=\"dataframe\">\n  <thead>\n    <tr style=\"text-align: right;\">\n      <th></th>\n      <th>id</th>\n      <th>date</th>\n      <th>sleep_points</th>\n      <th>exertion_points</th>\n      <th>altitude</th>\n      <th>calories</th>\n      <th>distance</th>\n      <th>lightly_active_minutes</th>\n      <th>mindfulness_goal</th>\n      <th>moderately_active_minutes</th>\n      <th>...</th>\n      <th>Treadmill</th>\n      <th>Bootcamp</th>\n      <th>ENTERTAINMENT</th>\n      <th>GYM</th>\n      <th>HOME</th>\n      <th>HOME_OFFICE</th>\n      <th>OTHER</th>\n      <th>OUTDOORS</th>\n      <th>TRANSIT</th>\n      <th>WORK/SCHOOL</th>\n    </tr>\n  </thead>\n  <tbody>\n    <tr>\n      <th>164878</th>\n      <td>621e375b67b776a240290cdc</td>\n      <td>2021-01-06 15:00:00</td>\n      <td>NaN</td>\n      <td>NaN</td>\n      <td>NaN</td>\n      <td>NaN</td>\n      <td>NaN</td>\n      <td>NaN</td>\n      <td>NaN</td>\n      <td>NaN</td>\n      <td>...</td>\n      <td>NaN</td>\n      <td>NaN</td>\n      <td>NaN</td>\n      <td>NaN</td>\n      <td>NaN</td>\n      <td>NaN</td>\n      <td>NaN</td>\n      <td>NaN</td>\n      <td>NaN</td>\n      <td>NaN</td>\n    </tr>\n    <tr>\n      <th>164960</th>\n      <td>621e2f6167b776a240e082a9</td>\n      <td>2021-01-06 20:00:00</td>\n      <td>NaN</td>\n      <td>NaN</td>\n      <td>NaN</td>\n      <td>NaN</td>\n      <td>NaN</td>\n      <td>NaN</td>\n      <td>NaN</td>\n      <td>NaN</td>\n      <td>...</td>\n      <td>NaN</td>\n      <td>NaN</td>\n      <td>NaN</td>\n      <td>NaN</td>\n      <td>NaN</td>\n      <td>NaN</td>\n      <td>NaN</td>\n      <td>NaN</td>\n      <td>NaN</td>\n      <td>NaN</td>\n    </tr>\n    <tr>\n      <th>164856</th>\n      <td>621e301367b776a24057738e</td>\n      <td>2021-01-06 23:00:00</td>\n      <td>NaN</td>\n      <td>NaN</td>\n      <td>NaN</td>\n      <td>NaN</td>\n      <td>NaN</td>\n      <td>NaN</td>\n      <td>NaN</td>\n      <td>NaN</td>\n      <td>...</td>\n      <td>NaN</td>\n      <td>NaN</td>\n      <td>NaN</td>\n      <td>NaN</td>\n      <td>NaN</td>\n      <td>NaN</td>\n      <td>NaN</td>\n      <td>NaN</td>\n      <td>NaN</td>\n      <td>NaN</td>\n    </tr>\n    <tr>\n      <th>164874</th>\n      <td>621e362467b776a2404ad513</td>\n      <td>2021-01-08 13:00:00</td>\n      <td>NaN</td>\n      <td>NaN</td>\n      <td>NaN</td>\n      <td>NaN</td>\n      <td>NaN</td>\n      <td>NaN</td>\n      <td>NaN</td>\n      <td>NaN</td>\n      <td>...</td>\n      <td>NaN</td>\n      <td>NaN</td>\n      <td>NaN</td>\n      <td>NaN</td>\n      <td>NaN</td>\n      <td>NaN</td>\n      <td>NaN</td>\n      <td>NaN</td>\n      <td>NaN</td>\n      <td>NaN</td>\n    </tr>\n    <tr>\n      <th>164858</th>\n      <td>621e30c867b776a240d4aa6c</td>\n      <td>2021-01-08 22:00:00</td>\n      <td>NaN</td>\n      <td>NaN</td>\n      <td>NaN</td>\n      <td>NaN</td>\n      <td>NaN</td>\n      <td>NaN</td>\n      <td>NaN</td>\n      <td>NaN</td>\n      <td>...</td>\n      <td>NaN</td>\n      <td>NaN</td>\n      <td>NaN</td>\n      <td>NaN</td>\n      <td>NaN</td>\n      <td>NaN</td>\n      <td>NaN</td>\n      <td>NaN</td>\n      <td>NaN</td>\n      <td>NaN</td>\n    </tr>\n    <tr>\n      <th>...</th>\n      <td>...</td>\n      <td>...</td>\n      <td>...</td>\n      <td>...</td>\n      <td>...</td>\n      <td>...</td>\n      <td>...</td>\n      <td>...</td>\n      <td>...</td>\n      <td>...</td>\n      <td>...</td>\n      <td>...</td>\n      <td>...</td>\n      <td>...</td>\n      <td>...</td>\n      <td>...</td>\n      <td>...</td>\n      <td>...</td>\n      <td>...</td>\n      <td>...</td>\n      <td>...</td>\n    </tr>\n    <tr>\n      <th>56523</th>\n      <td>621e301e67b776a240608a72</td>\n      <td>2022-01-22 00:00:00</td>\n      <td>NaN</td>\n      <td>NaN</td>\n      <td>NaN</td>\n      <td>0.9</td>\n      <td>NaN</td>\n      <td>0.0</td>\n      <td>NaN</td>\n      <td>0.0</td>\n      <td>...</td>\n      <td>NaN</td>\n      <td>NaN</td>\n      <td>NaN</td>\n      <td>NaN</td>\n      <td>NaN</td>\n      <td>NaN</td>\n      <td>NaN</td>\n      <td>NaN</td>\n      <td>NaN</td>\n      <td>NaN</td>\n    </tr>\n    <tr>\n      <th>164964</th>\n      <td>621e310d67b776a24003096d</td>\n      <td>2022-01-24 14:00:00</td>\n      <td>NaN</td>\n      <td>NaN</td>\n      <td>NaN</td>\n      <td>NaN</td>\n      <td>NaN</td>\n      <td>NaN</td>\n      <td>NaN</td>\n      <td>NaN</td>\n      <td>...</td>\n      <td>NaN</td>\n      <td>NaN</td>\n      <td>NaN</td>\n      <td>NaN</td>\n      <td>NaN</td>\n      <td>NaN</td>\n      <td>NaN</td>\n      <td>NaN</td>\n      <td>NaN</td>\n      <td>NaN</td>\n    </tr>\n    <tr>\n      <th>164870</th>\n      <td>621e346f67b776a24081744f</td>\n      <td>2022-01-24 10:00:00</td>\n      <td>NaN</td>\n      <td>NaN</td>\n      <td>NaN</td>\n      <td>NaN</td>\n      <td>NaN</td>\n      <td>NaN</td>\n      <td>NaN</td>\n      <td>NaN</td>\n      <td>...</td>\n      <td>NaN</td>\n      <td>NaN</td>\n      <td>NaN</td>\n      <td>NaN</td>\n      <td>NaN</td>\n      <td>NaN</td>\n      <td>NaN</td>\n      <td>NaN</td>\n      <td>NaN</td>\n      <td>NaN</td>\n    </tr>\n    <tr>\n      <th>164855</th>\n      <td>621e300767b776a2404dc717</td>\n      <td>2022-01-24 12:00:00</td>\n      <td>NaN</td>\n      <td>NaN</td>\n      <td>NaN</td>\n      <td>NaN</td>\n      <td>NaN</td>\n      <td>NaN</td>\n      <td>NaN</td>\n      <td>NaN</td>\n      <td>...</td>\n      <td>NaN</td>\n      <td>NaN</td>\n      <td>NaN</td>\n      <td>NaN</td>\n      <td>NaN</td>\n      <td>NaN</td>\n      <td>NaN</td>\n      <td>NaN</td>\n      <td>NaN</td>\n      <td>NaN</td>\n    </tr>\n    <tr>\n      <th>164876</th>\n      <td>621e367e67b776a24087d75d</td>\n      <td>2022-01-27 18:00:00</td>\n      <td>NaN</td>\n      <td>NaN</td>\n      <td>NaN</td>\n      <td>NaN</td>\n      <td>NaN</td>\n      <td>NaN</td>\n      <td>NaN</td>\n      <td>NaN</td>\n      <td>...</td>\n      <td>NaN</td>\n      <td>NaN</td>\n      <td>NaN</td>\n      <td>NaN</td>\n      <td>NaN</td>\n      <td>NaN</td>\n      <td>NaN</td>\n      <td>NaN</td>\n      <td>NaN</td>\n      <td>NaN</td>\n    </tr>\n  </tbody>\n</table>\n<p>159926 rows × 82 columns</p>\n</div>"
     },
     "execution_count": 66,
     "metadata": {},
     "output_type": "execute_result"
    }
   ],
   "source": [
    "for _, user_df in training_df.groupby(['id', 'date']):\n",
    "    for feature in copy_for_day:\n",
    "        non_null_feature = user_df[feature].notnull().any()\n",
    "        if non_null_feature:\n",
    "            training_df.loc[(training_df['id'] == user_df['id'].iloc[0]) & (training_df['date'].dt.date == user_df['date'].iloc[0].date()), feature] = user_df[feature].iloc[0]\n",
    "training_df"
   ],
   "metadata": {
    "collapsed": false,
    "pycharm": {
     "name": "#%%\n"
    }
   }
  },
  {
   "cell_type": "code",
   "execution_count": 67,
   "outputs": [],
   "source": [
    "copy_for_rest_day = ['altitude', 'sleep_duration', 'minutes_to_fall_asleep', 'minutes_asleep', 'minutes_awake', 'minutes_after_wakeup', 'time_in_bed', 'sleep_efficiency', 'main_sleep']"
   ],
   "metadata": {
    "collapsed": false,
    "pycharm": {
     "name": "#%%\n"
    }
   }
  },
  {
   "cell_type": "code",
   "execution_count": null,
   "outputs": [],
   "source": [
    "for _, user_df in training_df.groupby(['id', 'date']):\n",
    "    for feature in copy_for_day:\n",
    "        non_null_feature = user_df[feature].notnull().any()\n",
    "        if non_null_feature:\n",
    "            training_df.loc[(training_df['id'] == user_df['id'].iloc[0]) & (training_df['date'].dt.date == user_df['date'].iloc[0].date()) & (training_df['date'].dt.hour > user_df['date'].iloc[0].hour), feature] = user_df[feature].iloc[0]\n",
    "training_df"
   ],
   "metadata": {
    "collapsed": false,
    "pycharm": {
     "name": "#%%\n"
    }
   }
  },
  {
   "cell_type": "code",
   "execution_count": null,
   "outputs": [],
   "source": [],
   "metadata": {
    "collapsed": false,
    "pycharm": {
     "name": "#%%\n"
    }
   }
  }
 ],
 "metadata": {
  "kernelspec": {
   "display_name": "Python 3",
   "language": "python",
   "name": "python3"
  },
  "language_info": {
   "codemirror_mode": {
    "name": "ipython",
    "version": 2
   },
   "file_extension": ".py",
   "mimetype": "text/x-python",
   "name": "python",
   "nbconvert_exporter": "python",
   "pygments_lexer": "ipython2",
   "version": "2.7.6"
  }
 },
 "nbformat": 4,
 "nbformat_minor": 0
}