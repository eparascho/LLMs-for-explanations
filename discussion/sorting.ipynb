{
 "cells": [
  {
   "cell_type": "code",
   "execution_count": 10,
   "metadata": {},
   "outputs": [],
   "source": [
    "import json\n",
    "\n",
    "instance = 27606\n",
    "learning = 'one'\n",
    "model = 'mistral'\n",
    "\n",
    "path = '../data/llms_output/' + model + '_' + learning + '/' + str(instance) + '_developer.json'\n",
    "with open(path, 'r') as file:\n",
    "    data = json.load(file)\n",
    "\n",
    "sorted_items = sorted(data.items(), key=lambda item: abs(item[1]), reverse=True)\n",
    "sorted_dict = dict(sorted_items)\n",
    "\n",
    "path = '../data/llms_output/' + model + '_' + learning + '/' + str(instance) + '_developersorted.json'\n",
    "with open(path, 'w') as file:\n",
    "    json.dump(sorted_dict, file)"
   ]
  }
 ],
 "metadata": {
  "kernelspec": {
   "display_name": ".venv",
   "language": "python",
   "name": "python3"
  },
  "language_info": {
   "codemirror_mode": {
    "name": "ipython",
    "version": 3
   },
   "file_extension": ".py",
   "mimetype": "text/x-python",
   "name": "python",
   "nbconvert_exporter": "python",
   "pygments_lexer": "ipython3",
   "version": "3.9.13"
  }
 },
 "nbformat": 4,
 "nbformat_minor": 2
}
