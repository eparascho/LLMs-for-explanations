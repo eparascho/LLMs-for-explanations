{
 "cells": [
  {
   "cell_type": "code",
   "execution_count": 29,
   "metadata": {
    "collapsed": true,
    "pycharm": {
     "name": "#%%\n"
    }
   },
   "outputs": [],
   "source": [
    "import os\n",
    "import warnings\n",
    "import datetime\n",
    "import numpy as np\n",
    "import pandas as pd\n",
    "from dotenv import load_dotenv\n",
    "from pymongo import MongoClient\n",
    "from functions import data_loading\n",
    "from dataprep.eda import create_report\n",
    "\n",
    "warnings.filterwarnings(\"ignore\")"
   ]
  },
  {
   "cell_type": "code",
   "execution_count": 30,
   "outputs": [
    {
     "data": {
      "text/plain": "                              id       date  hour  ecg heart_rate_alert  type  \\\n0       621e2ff067b776a2403eb737 2021-12-22    19  NSR             NONE   NaN   \n1       621e2ff067b776a2403eb737 2021-11-18     0  NaN              NaN  SKIN   \n2       621e2ff067b776a2403eb737 2021-11-18    21  NaN              NaN  SKIN   \n3       621e2ff067b776a2403eb737 2021-11-20     0  NaN              NaN  SKIN   \n4       621e2ff067b776a2403eb737 2021-11-20    23  NaN              NaN  SKIN   \n...                          ...        ...   ...  ...              ...   ...   \n164490  621e36bb67b776a240b40d64 2022-01-18     0  NaN              NaN   NaN   \n164491  621e36bb67b776a240b40d64 2022-01-19     0  NaN              NaN   NaN   \n164492  621e36bb67b776a240b40d64 2022-01-20     0  NaN              NaN   NaN   \n164493  621e36bb67b776a240b40d64 2022-01-21     0  NaN              NaN   NaN   \n164494  621e36bb67b776a240b40d64 2022-01-22     0  NaN              NaN   NaN   \n\n        nightly_temperature  nremhr  spo2  rmssd  ...  very_active_minutes  \\\n0                       NaN     NaN   NaN    NaN  ...                  NaN   \n1                 35.025730     NaN   NaN    NaN  ...                  0.0   \n2                 34.866951     NaN   NaN    NaN  ...                  NaN   \n3                 35.349583     NaN   NaN    NaN  ...                  0.0   \n4                 34.495486     NaN   NaN    NaN  ...                  NaN   \n...                     ...     ...   ...    ...  ...                  ...   \n164490                  NaN     NaN   NaN    NaN  ...                  NaN   \n164491                  NaN     NaN   NaN    NaN  ...                  NaN   \n164492                  NaN     NaN   NaN    NaN  ...                  NaN   \n164493                  NaN     NaN   NaN    NaN  ...                  NaN   \n164494                  NaN     NaN   NaN    NaN  ...                  NaN   \n\n        minutes_below_zone_1  minutes_in_zone_1  minutes_in_zone_2  \\\n0                        NaN                NaN                NaN   \n1                     1303.0              119.0                0.0   \n2                        NaN                NaN                NaN   \n3                     1400.0               36.0                0.0   \n4                        NaN                NaN                NaN   \n...                      ...                ...                ...   \n164490                   NaN                NaN                NaN   \n164491                   NaN                NaN                NaN   \n164492                   NaN                NaN                NaN   \n164493                   NaN                NaN                NaN   \n164494                   NaN                NaN                NaN   \n\n        minutes_in_zone_3  water_amount  mood_value  gender  age   bmi  \n0                     NaN           NaN         NaN  FEMALE  <30  >=25  \n1                     0.0           NaN         NaN  FEMALE  <30  >=25  \n2                     NaN           NaN         NaN  FEMALE  <30  >=25  \n3                     0.0           NaN         NaN  FEMALE  <30  >=25  \n4                     NaN           NaN         NaN  FEMALE  <30  >=25  \n...                   ...           ...         ...     ...  ...   ...  \n164490                NaN           NaN         NaN  FEMALE  <30  24.0  \n164491                NaN           NaN         NaN  FEMALE  <30  24.0  \n164492                NaN           NaN         NaN  FEMALE  <30  24.0  \n164493                NaN           NaN         NaN  FEMALE  <30  24.0  \n164494                NaN           NaN         NaN  FEMALE  <30  24.0  \n\n[164495 rows x 46 columns]",
      "text/html": "<div>\n<style scoped>\n    .dataframe tbody tr th:only-of-type {\n        vertical-align: middle;\n    }\n\n    .dataframe tbody tr th {\n        vertical-align: top;\n    }\n\n    .dataframe thead th {\n        text-align: right;\n    }\n</style>\n<table border=\"1\" class=\"dataframe\">\n  <thead>\n    <tr style=\"text-align: right;\">\n      <th></th>\n      <th>id</th>\n      <th>date</th>\n      <th>hour</th>\n      <th>ecg</th>\n      <th>heart_rate_alert</th>\n      <th>type</th>\n      <th>nightly_temperature</th>\n      <th>nremhr</th>\n      <th>spo2</th>\n      <th>rmssd</th>\n      <th>...</th>\n      <th>very_active_minutes</th>\n      <th>minutes_below_zone_1</th>\n      <th>minutes_in_zone_1</th>\n      <th>minutes_in_zone_2</th>\n      <th>minutes_in_zone_3</th>\n      <th>water_amount</th>\n      <th>mood_value</th>\n      <th>gender</th>\n      <th>age</th>\n      <th>bmi</th>\n    </tr>\n  </thead>\n  <tbody>\n    <tr>\n      <th>0</th>\n      <td>621e2ff067b776a2403eb737</td>\n      <td>2021-12-22</td>\n      <td>19</td>\n      <td>NSR</td>\n      <td>NONE</td>\n      <td>NaN</td>\n      <td>NaN</td>\n      <td>NaN</td>\n      <td>NaN</td>\n      <td>NaN</td>\n      <td>...</td>\n      <td>NaN</td>\n      <td>NaN</td>\n      <td>NaN</td>\n      <td>NaN</td>\n      <td>NaN</td>\n      <td>NaN</td>\n      <td>NaN</td>\n      <td>FEMALE</td>\n      <td>&lt;30</td>\n      <td>&gt;=25</td>\n    </tr>\n    <tr>\n      <th>1</th>\n      <td>621e2ff067b776a2403eb737</td>\n      <td>2021-11-18</td>\n      <td>0</td>\n      <td>NaN</td>\n      <td>NaN</td>\n      <td>SKIN</td>\n      <td>35.025730</td>\n      <td>NaN</td>\n      <td>NaN</td>\n      <td>NaN</td>\n      <td>...</td>\n      <td>0.0</td>\n      <td>1303.0</td>\n      <td>119.0</td>\n      <td>0.0</td>\n      <td>0.0</td>\n      <td>NaN</td>\n      <td>NaN</td>\n      <td>FEMALE</td>\n      <td>&lt;30</td>\n      <td>&gt;=25</td>\n    </tr>\n    <tr>\n      <th>2</th>\n      <td>621e2ff067b776a2403eb737</td>\n      <td>2021-11-18</td>\n      <td>21</td>\n      <td>NaN</td>\n      <td>NaN</td>\n      <td>SKIN</td>\n      <td>34.866951</td>\n      <td>NaN</td>\n      <td>NaN</td>\n      <td>NaN</td>\n      <td>...</td>\n      <td>NaN</td>\n      <td>NaN</td>\n      <td>NaN</td>\n      <td>NaN</td>\n      <td>NaN</td>\n      <td>NaN</td>\n      <td>NaN</td>\n      <td>FEMALE</td>\n      <td>&lt;30</td>\n      <td>&gt;=25</td>\n    </tr>\n    <tr>\n      <th>3</th>\n      <td>621e2ff067b776a2403eb737</td>\n      <td>2021-11-20</td>\n      <td>0</td>\n      <td>NaN</td>\n      <td>NaN</td>\n      <td>SKIN</td>\n      <td>35.349583</td>\n      <td>NaN</td>\n      <td>NaN</td>\n      <td>NaN</td>\n      <td>...</td>\n      <td>0.0</td>\n      <td>1400.0</td>\n      <td>36.0</td>\n      <td>0.0</td>\n      <td>0.0</td>\n      <td>NaN</td>\n      <td>NaN</td>\n      <td>FEMALE</td>\n      <td>&lt;30</td>\n      <td>&gt;=25</td>\n    </tr>\n    <tr>\n      <th>4</th>\n      <td>621e2ff067b776a2403eb737</td>\n      <td>2021-11-20</td>\n      <td>23</td>\n      <td>NaN</td>\n      <td>NaN</td>\n      <td>SKIN</td>\n      <td>34.495486</td>\n      <td>NaN</td>\n      <td>NaN</td>\n      <td>NaN</td>\n      <td>...</td>\n      <td>NaN</td>\n      <td>NaN</td>\n      <td>NaN</td>\n      <td>NaN</td>\n      <td>NaN</td>\n      <td>NaN</td>\n      <td>NaN</td>\n      <td>FEMALE</td>\n      <td>&lt;30</td>\n      <td>&gt;=25</td>\n    </tr>\n    <tr>\n      <th>...</th>\n      <td>...</td>\n      <td>...</td>\n      <td>...</td>\n      <td>...</td>\n      <td>...</td>\n      <td>...</td>\n      <td>...</td>\n      <td>...</td>\n      <td>...</td>\n      <td>...</td>\n      <td>...</td>\n      <td>...</td>\n      <td>...</td>\n      <td>...</td>\n      <td>...</td>\n      <td>...</td>\n      <td>...</td>\n      <td>...</td>\n      <td>...</td>\n      <td>...</td>\n      <td>...</td>\n    </tr>\n    <tr>\n      <th>164490</th>\n      <td>621e36bb67b776a240b40d64</td>\n      <td>2022-01-18</td>\n      <td>0</td>\n      <td>NaN</td>\n      <td>NaN</td>\n      <td>NaN</td>\n      <td>NaN</td>\n      <td>NaN</td>\n      <td>NaN</td>\n      <td>NaN</td>\n      <td>...</td>\n      <td>NaN</td>\n      <td>NaN</td>\n      <td>NaN</td>\n      <td>NaN</td>\n      <td>NaN</td>\n      <td>NaN</td>\n      <td>NaN</td>\n      <td>FEMALE</td>\n      <td>&lt;30</td>\n      <td>24.0</td>\n    </tr>\n    <tr>\n      <th>164491</th>\n      <td>621e36bb67b776a240b40d64</td>\n      <td>2022-01-19</td>\n      <td>0</td>\n      <td>NaN</td>\n      <td>NaN</td>\n      <td>NaN</td>\n      <td>NaN</td>\n      <td>NaN</td>\n      <td>NaN</td>\n      <td>NaN</td>\n      <td>...</td>\n      <td>NaN</td>\n      <td>NaN</td>\n      <td>NaN</td>\n      <td>NaN</td>\n      <td>NaN</td>\n      <td>NaN</td>\n      <td>NaN</td>\n      <td>FEMALE</td>\n      <td>&lt;30</td>\n      <td>24.0</td>\n    </tr>\n    <tr>\n      <th>164492</th>\n      <td>621e36bb67b776a240b40d64</td>\n      <td>2022-01-20</td>\n      <td>0</td>\n      <td>NaN</td>\n      <td>NaN</td>\n      <td>NaN</td>\n      <td>NaN</td>\n      <td>NaN</td>\n      <td>NaN</td>\n      <td>NaN</td>\n      <td>...</td>\n      <td>NaN</td>\n      <td>NaN</td>\n      <td>NaN</td>\n      <td>NaN</td>\n      <td>NaN</td>\n      <td>NaN</td>\n      <td>NaN</td>\n      <td>FEMALE</td>\n      <td>&lt;30</td>\n      <td>24.0</td>\n    </tr>\n    <tr>\n      <th>164493</th>\n      <td>621e36bb67b776a240b40d64</td>\n      <td>2022-01-21</td>\n      <td>0</td>\n      <td>NaN</td>\n      <td>NaN</td>\n      <td>NaN</td>\n      <td>NaN</td>\n      <td>NaN</td>\n      <td>NaN</td>\n      <td>NaN</td>\n      <td>...</td>\n      <td>NaN</td>\n      <td>NaN</td>\n      <td>NaN</td>\n      <td>NaN</td>\n      <td>NaN</td>\n      <td>NaN</td>\n      <td>NaN</td>\n      <td>FEMALE</td>\n      <td>&lt;30</td>\n      <td>24.0</td>\n    </tr>\n    <tr>\n      <th>164494</th>\n      <td>621e36bb67b776a240b40d64</td>\n      <td>2022-01-22</td>\n      <td>0</td>\n      <td>NaN</td>\n      <td>NaN</td>\n      <td>NaN</td>\n      <td>NaN</td>\n      <td>NaN</td>\n      <td>NaN</td>\n      <td>NaN</td>\n      <td>...</td>\n      <td>NaN</td>\n      <td>NaN</td>\n      <td>NaN</td>\n      <td>NaN</td>\n      <td>NaN</td>\n      <td>NaN</td>\n      <td>NaN</td>\n      <td>FEMALE</td>\n      <td>&lt;30</td>\n      <td>24.0</td>\n    </tr>\n  </tbody>\n</table>\n<p>164495 rows × 46 columns</p>\n</div>"
     },
     "execution_count": 30,
     "metadata": {},
     "output_type": "execute_result"
    }
   ],
   "source": [
    "df = pd.read_pickle('data/temp_fitbit.pkl')\n",
    "df"
   ],
   "metadata": {
    "collapsed": false,
    "pycharm": {
     "name": "#%%\n"
    }
   }
  },
  {
   "cell_type": "code",
   "execution_count": 31,
   "outputs": [
    {
     "data": {
      "text/plain": "                              id       date hour  ecg heart_rate_alert  type  \\\n0       621e2ff067b776a2403eb737 2021-12-22   19  NSR             NONE   NaN   \n1       621e2ff067b776a2403eb737 2021-11-18    0  NaN              NaN  SKIN   \n2       621e2ff067b776a2403eb737 2021-11-18   21  NaN              NaN  SKIN   \n3       621e2ff067b776a2403eb737 2021-11-20    0  NaN              NaN  SKIN   \n4       621e2ff067b776a2403eb737 2021-11-20   23  NaN              NaN  SKIN   \n...                          ...        ...  ...  ...              ...   ...   \n164490  621e36bb67b776a240b40d64 2022-01-18    0  NaN              NaN   NaN   \n164491  621e36bb67b776a240b40d64 2022-01-19    0  NaN              NaN   NaN   \n164492  621e36bb67b776a240b40d64 2022-01-20    0  NaN              NaN   NaN   \n164493  621e36bb67b776a240b40d64 2022-01-21    0  NaN              NaN   NaN   \n164494  621e36bb67b776a240b40d64 2022-01-22    0  NaN              NaN   NaN   \n\n        nightly_temperature  nremhr  spo2  rmssd  ...  very_active_minutes  \\\n0                       NaN     NaN   NaN    NaN  ...                  NaN   \n1                 35.025730     NaN   NaN    NaN  ...                  0.0   \n2                 34.866951     NaN   NaN    NaN  ...                  NaN   \n3                 35.349583     NaN   NaN    NaN  ...                  0.0   \n4                 34.495486     NaN   NaN    NaN  ...                  NaN   \n...                     ...     ...   ...    ...  ...                  ...   \n164490                  NaN     NaN   NaN    NaN  ...                  NaN   \n164491                  NaN     NaN   NaN    NaN  ...                  NaN   \n164492                  NaN     NaN   NaN    NaN  ...                  NaN   \n164493                  NaN     NaN   NaN    NaN  ...                  NaN   \n164494                  NaN     NaN   NaN    NaN  ...                  NaN   \n\n        minutes_below_zone_1  minutes_in_zone_1  minutes_in_zone_2  \\\n0                        NaN                NaN                NaN   \n1                     1303.0              119.0                0.0   \n2                        NaN                NaN                NaN   \n3                     1400.0               36.0                0.0   \n4                        NaN                NaN                NaN   \n...                      ...                ...                ...   \n164490                   NaN                NaN                NaN   \n164491                   NaN                NaN                NaN   \n164492                   NaN                NaN                NaN   \n164493                   NaN                NaN                NaN   \n164494                   NaN                NaN                NaN   \n\n        minutes_in_zone_3  water_amount  mood_value  gender  age   bmi  \n0                     NaN           NaN         NaN  FEMALE  <30  >=25  \n1                     0.0           NaN         NaN  FEMALE  <30  >=25  \n2                     NaN           NaN         NaN  FEMALE  <30  >=25  \n3                     0.0           NaN         NaN  FEMALE  <30  >=25  \n4                     NaN           NaN         NaN  FEMALE  <30  >=25  \n...                   ...           ...         ...     ...  ...   ...  \n164490                NaN           NaN         NaN  FEMALE  <30  24.0  \n164491                NaN           NaN         NaN  FEMALE  <30  24.0  \n164492                NaN           NaN         NaN  FEMALE  <30  24.0  \n164493                NaN           NaN         NaN  FEMALE  <30  24.0  \n164494                NaN           NaN         NaN  FEMALE  <30  24.0  \n\n[164495 rows x 46 columns]",
      "text/html": "<div>\n<style scoped>\n    .dataframe tbody tr th:only-of-type {\n        vertical-align: middle;\n    }\n\n    .dataframe tbody tr th {\n        vertical-align: top;\n    }\n\n    .dataframe thead th {\n        text-align: right;\n    }\n</style>\n<table border=\"1\" class=\"dataframe\">\n  <thead>\n    <tr style=\"text-align: right;\">\n      <th></th>\n      <th>id</th>\n      <th>date</th>\n      <th>hour</th>\n      <th>ecg</th>\n      <th>heart_rate_alert</th>\n      <th>type</th>\n      <th>nightly_temperature</th>\n      <th>nremhr</th>\n      <th>spo2</th>\n      <th>rmssd</th>\n      <th>...</th>\n      <th>very_active_minutes</th>\n      <th>minutes_below_zone_1</th>\n      <th>minutes_in_zone_1</th>\n      <th>minutes_in_zone_2</th>\n      <th>minutes_in_zone_3</th>\n      <th>water_amount</th>\n      <th>mood_value</th>\n      <th>gender</th>\n      <th>age</th>\n      <th>bmi</th>\n    </tr>\n  </thead>\n  <tbody>\n    <tr>\n      <th>0</th>\n      <td>621e2ff067b776a2403eb737</td>\n      <td>2021-12-22</td>\n      <td>19</td>\n      <td>NSR</td>\n      <td>NONE</td>\n      <td>NaN</td>\n      <td>NaN</td>\n      <td>NaN</td>\n      <td>NaN</td>\n      <td>NaN</td>\n      <td>...</td>\n      <td>NaN</td>\n      <td>NaN</td>\n      <td>NaN</td>\n      <td>NaN</td>\n      <td>NaN</td>\n      <td>NaN</td>\n      <td>NaN</td>\n      <td>FEMALE</td>\n      <td>&lt;30</td>\n      <td>&gt;=25</td>\n    </tr>\n    <tr>\n      <th>1</th>\n      <td>621e2ff067b776a2403eb737</td>\n      <td>2021-11-18</td>\n      <td>0</td>\n      <td>NaN</td>\n      <td>NaN</td>\n      <td>SKIN</td>\n      <td>35.025730</td>\n      <td>NaN</td>\n      <td>NaN</td>\n      <td>NaN</td>\n      <td>...</td>\n      <td>0.0</td>\n      <td>1303.0</td>\n      <td>119.0</td>\n      <td>0.0</td>\n      <td>0.0</td>\n      <td>NaN</td>\n      <td>NaN</td>\n      <td>FEMALE</td>\n      <td>&lt;30</td>\n      <td>&gt;=25</td>\n    </tr>\n    <tr>\n      <th>2</th>\n      <td>621e2ff067b776a2403eb737</td>\n      <td>2021-11-18</td>\n      <td>21</td>\n      <td>NaN</td>\n      <td>NaN</td>\n      <td>SKIN</td>\n      <td>34.866951</td>\n      <td>NaN</td>\n      <td>NaN</td>\n      <td>NaN</td>\n      <td>...</td>\n      <td>NaN</td>\n      <td>NaN</td>\n      <td>NaN</td>\n      <td>NaN</td>\n      <td>NaN</td>\n      <td>NaN</td>\n      <td>NaN</td>\n      <td>FEMALE</td>\n      <td>&lt;30</td>\n      <td>&gt;=25</td>\n    </tr>\n    <tr>\n      <th>3</th>\n      <td>621e2ff067b776a2403eb737</td>\n      <td>2021-11-20</td>\n      <td>0</td>\n      <td>NaN</td>\n      <td>NaN</td>\n      <td>SKIN</td>\n      <td>35.349583</td>\n      <td>NaN</td>\n      <td>NaN</td>\n      <td>NaN</td>\n      <td>...</td>\n      <td>0.0</td>\n      <td>1400.0</td>\n      <td>36.0</td>\n      <td>0.0</td>\n      <td>0.0</td>\n      <td>NaN</td>\n      <td>NaN</td>\n      <td>FEMALE</td>\n      <td>&lt;30</td>\n      <td>&gt;=25</td>\n    </tr>\n    <tr>\n      <th>4</th>\n      <td>621e2ff067b776a2403eb737</td>\n      <td>2021-11-20</td>\n      <td>23</td>\n      <td>NaN</td>\n      <td>NaN</td>\n      <td>SKIN</td>\n      <td>34.495486</td>\n      <td>NaN</td>\n      <td>NaN</td>\n      <td>NaN</td>\n      <td>...</td>\n      <td>NaN</td>\n      <td>NaN</td>\n      <td>NaN</td>\n      <td>NaN</td>\n      <td>NaN</td>\n      <td>NaN</td>\n      <td>NaN</td>\n      <td>FEMALE</td>\n      <td>&lt;30</td>\n      <td>&gt;=25</td>\n    </tr>\n    <tr>\n      <th>...</th>\n      <td>...</td>\n      <td>...</td>\n      <td>...</td>\n      <td>...</td>\n      <td>...</td>\n      <td>...</td>\n      <td>...</td>\n      <td>...</td>\n      <td>...</td>\n      <td>...</td>\n      <td>...</td>\n      <td>...</td>\n      <td>...</td>\n      <td>...</td>\n      <td>...</td>\n      <td>...</td>\n      <td>...</td>\n      <td>...</td>\n      <td>...</td>\n      <td>...</td>\n      <td>...</td>\n    </tr>\n    <tr>\n      <th>164490</th>\n      <td>621e36bb67b776a240b40d64</td>\n      <td>2022-01-18</td>\n      <td>0</td>\n      <td>NaN</td>\n      <td>NaN</td>\n      <td>NaN</td>\n      <td>NaN</td>\n      <td>NaN</td>\n      <td>NaN</td>\n      <td>NaN</td>\n      <td>...</td>\n      <td>NaN</td>\n      <td>NaN</td>\n      <td>NaN</td>\n      <td>NaN</td>\n      <td>NaN</td>\n      <td>NaN</td>\n      <td>NaN</td>\n      <td>FEMALE</td>\n      <td>&lt;30</td>\n      <td>24.0</td>\n    </tr>\n    <tr>\n      <th>164491</th>\n      <td>621e36bb67b776a240b40d64</td>\n      <td>2022-01-19</td>\n      <td>0</td>\n      <td>NaN</td>\n      <td>NaN</td>\n      <td>NaN</td>\n      <td>NaN</td>\n      <td>NaN</td>\n      <td>NaN</td>\n      <td>NaN</td>\n      <td>...</td>\n      <td>NaN</td>\n      <td>NaN</td>\n      <td>NaN</td>\n      <td>NaN</td>\n      <td>NaN</td>\n      <td>NaN</td>\n      <td>NaN</td>\n      <td>FEMALE</td>\n      <td>&lt;30</td>\n      <td>24.0</td>\n    </tr>\n    <tr>\n      <th>164492</th>\n      <td>621e36bb67b776a240b40d64</td>\n      <td>2022-01-20</td>\n      <td>0</td>\n      <td>NaN</td>\n      <td>NaN</td>\n      <td>NaN</td>\n      <td>NaN</td>\n      <td>NaN</td>\n      <td>NaN</td>\n      <td>NaN</td>\n      <td>...</td>\n      <td>NaN</td>\n      <td>NaN</td>\n      <td>NaN</td>\n      <td>NaN</td>\n      <td>NaN</td>\n      <td>NaN</td>\n      <td>NaN</td>\n      <td>FEMALE</td>\n      <td>&lt;30</td>\n      <td>24.0</td>\n    </tr>\n    <tr>\n      <th>164493</th>\n      <td>621e36bb67b776a240b40d64</td>\n      <td>2022-01-21</td>\n      <td>0</td>\n      <td>NaN</td>\n      <td>NaN</td>\n      <td>NaN</td>\n      <td>NaN</td>\n      <td>NaN</td>\n      <td>NaN</td>\n      <td>NaN</td>\n      <td>...</td>\n      <td>NaN</td>\n      <td>NaN</td>\n      <td>NaN</td>\n      <td>NaN</td>\n      <td>NaN</td>\n      <td>NaN</td>\n      <td>NaN</td>\n      <td>FEMALE</td>\n      <td>&lt;30</td>\n      <td>24.0</td>\n    </tr>\n    <tr>\n      <th>164494</th>\n      <td>621e36bb67b776a240b40d64</td>\n      <td>2022-01-22</td>\n      <td>0</td>\n      <td>NaN</td>\n      <td>NaN</td>\n      <td>NaN</td>\n      <td>NaN</td>\n      <td>NaN</td>\n      <td>NaN</td>\n      <td>NaN</td>\n      <td>...</td>\n      <td>NaN</td>\n      <td>NaN</td>\n      <td>NaN</td>\n      <td>NaN</td>\n      <td>NaN</td>\n      <td>NaN</td>\n      <td>NaN</td>\n      <td>FEMALE</td>\n      <td>&lt;30</td>\n      <td>24.0</td>\n    </tr>\n  </tbody>\n</table>\n<p>164495 rows × 46 columns</p>\n</div>"
     },
     "execution_count": 31,
     "metadata": {},
     "output_type": "execute_result"
    }
   ],
   "source": [
    "# stress score preprocessing\n",
    "stress_df = pd.DataFrame(columns=df.columns)\n",
    "for user in df['id'].unique():\n",
    "    user_df = df.loc[df['id']==user]\n",
    "    for day in user_df['date'].unique():\n",
    "        day_df = user_df[user_df['date']==day]\n",
    "        if not day_df['stress_score'].isnull().all():\n",
    "            value = day_df[~day_df['stress_score'].isna()]['stress_score']\n",
    "            value = value.iloc[0]\n",
    "            user_df.loc[user_df['date']==day, 'stress_score'] = value\n",
    "    stress_df = pd.concat([stress_df, user_df], axis=0, ignore_index=True)\n",
    "stress_df"
   ],
   "metadata": {
    "collapsed": false,
    "pycharm": {
     "name": "#%%\n"
    }
   }
  },
  {
   "cell_type": "code",
   "execution_count": 32,
   "outputs": [
    {
     "data": {
      "text/plain": "  0%|          | 0/9226 [00:00<?, ?it/s]",
      "application/vnd.jupyter.widget-view+json": {
       "version_major": 2,
       "version_minor": 0,
       "model_id": "58d0670a259a4cefabae948d454c4dbe"
      }
     },
     "metadata": {},
     "output_type": "display_data"
    }
   ],
   "source": [
    "report = create_report(df, title='Hourly LifeSnaps Overview')\n",
    "report.show_browser()"
   ],
   "metadata": {
    "collapsed": false,
    "pycharm": {
     "name": "#%%\n"
    }
   }
  },
  {
   "cell_type": "code",
   "execution_count": 33,
   "outputs": [
    {
     "data": {
      "text/plain": "  0%|          | 0/9011 [00:00<?, ?it/s]",
      "application/vnd.jupyter.widget-view+json": {
       "version_major": 2,
       "version_minor": 0,
       "model_id": "4d5b9972908549be9eb414c3428fc2d1"
      }
     },
     "metadata": {},
     "output_type": "display_data"
    }
   ],
   "source": [
    "report = create_report(stress_df, title='Stress preprocessing')\n",
    "report.show_browser()"
   ],
   "metadata": {
    "collapsed": false,
    "pycharm": {
     "name": "#%%\n"
    }
   }
  },
  {
   "cell_type": "code",
   "execution_count": 33,
   "outputs": [],
   "source": [],
   "metadata": {
    "collapsed": false,
    "pycharm": {
     "name": "#%%\n"
    }
   }
  }
 ],
 "metadata": {
  "kernelspec": {
   "display_name": "Python 3",
   "language": "python",
   "name": "python3"
  },
  "language_info": {
   "codemirror_mode": {
    "name": "ipython",
    "version": 2
   },
   "file_extension": ".py",
   "mimetype": "text/x-python",
   "name": "python",
   "nbconvert_exporter": "python",
   "pygments_lexer": "ipython2",
   "version": "2.7.6"
  }
 },
 "nbformat": 4,
 "nbformat_minor": 0
}