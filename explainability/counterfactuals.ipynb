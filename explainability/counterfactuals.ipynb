{
 "cells": [
  {
   "cell_type": "markdown",
   "metadata": {},
   "source": [
    "This notebook produces explanations using the counterfactual explainer"
   ]
  },
  {
   "cell_type": "code",
   "execution_count": 11,
   "metadata": {},
   "outputs": [],
   "source": [
    "import sys\n",
    "import json\n",
    "import pickle\n",
    "import warnings\n",
    "import numpy as np\n",
    "import pandas as pd\n",
    "sys.path.append('../')\n",
    "warnings.filterwarnings(\"ignore\")\n",
    "import fatf.utils.data.density as fatf_density\n",
    "import fatf.transparency.predictions.counterfactuals as fatf_cf"
   ]
  },
  {
   "cell_type": "code",
   "execution_count": 12,
   "metadata": {},
   "outputs": [],
   "source": [
    "# load, clean and shape the data\n",
    "train_data = pd.read_pickle('../data/explainability_input/train_data.pkl')\n",
    "x_train_data = train_data.drop(columns=['id', 'date', 'cluster'])\n",
    "x_train_data = x_train_data.drop(columns=x_train_data.columns[15])\n",
    "y_train_data = train_data['cluster']\n",
    "test_data = pd.read_pickle('../data/explainability_input/test_data.pkl')\n",
    "x_test_data = test_data.drop(columns=['id', 'date', 'cluster'])\n",
    "y_test_data = test_data['cluster']"
   ]
  },
  {
   "cell_type": "code",
   "execution_count": 13,
   "metadata": {},
   "outputs": [],
   "source": [
    "# load the model\n",
    "with open('../models/svc.pkl', 'rb') as file:  \n",
    "    model = pickle.load(file)"
   ]
  },
  {
   "cell_type": "code",
   "execution_count": 15,
   "metadata": {},
   "outputs": [],
   "source": [
    "# initialize the counterfactual explainer\n",
    "cf_explainer = fatf_cf.CounterfactualExplainer(\n",
    "    model=model,\n",
    "    dataset=x_train_data.values,  # 'it is advised to use the same dataset as for the training of the model object'\n",
    "    categorical_indices=[],\n",
    "    default_numerical_step_size=0.1)"
   ]
  },
  {
   "cell_type": "code",
   "execution_count": 16,
   "metadata": {},
   "outputs": [],
   "source": [
    "# extract parts of the counterfactual explainations\n",
    "instance = 0  #TODO: add manually the index of the instance you want to explain\n",
    "instance_x = x_test_data.iloc[instance, :].values\n",
    "instance_y = y_test_data.iloc[instance] \n",
    "exp = cf_explainer.explain_instance(instance_x)\n",
    "counterfactuals, distances, predictions = exp"
   ]
  },
  {
   "cell_type": "code",
   "execution_count": 17,
   "metadata": {},
   "outputs": [
    {
     "data": {
      "text/plain": [
       "array([0.62292818, 0.        , 0.6       , 0.08113392, 0.01756253,\n",
       "       0.0806846 , 0.        , 0.        , 0.        , 0.25470085,\n",
       "       0.08304498, 0.92013889, 0.07407407, 0.00186482, 0.81046931,\n",
       "       0.        , 0.02938176])"
      ]
     },
     "execution_count": 17,
     "metadata": {},
     "output_type": "execute_result"
    }
   ],
   "source": [
    "# extract the raw local counterfactual explanation which is the most feasible to implement in a real-world scenario (aka smallest distance)\n",
    "min_distance = np.min(distances)\n",
    "counterfactual = np.where(distances == min_distance)[0][0]\n",
    "counterfactuals[counterfactual]"
   ]
  },
  {
   "cell_type": "code",
   "execution_count": 18,
   "metadata": {},
   "outputs": [
    {
     "name": "stdout",
     "output_type": "stream",
     "text": [
      "Instance (of class *1*):\n",
      "[0.62292818 0.         0.93680556 0.08113392 0.01756253 0.0806846\n",
      " 0.         0.         0.         0.25470085 0.08304498 0.49513889\n",
      " 0.07407407 0.00186482 0.81046931 0.         0.02938176]\n",
      "\n",
      "Feature names: [0, 1, 2, 3, 4, 5, 6, 7, 8, 9, 10, 11, 12, 13, 14, 15, 16]\n",
      "\n",
      "Counterfactual instance:\n",
      "    feature *2*: *0.9368055555555556* -> *0.6000000000000001*\n",
      "    feature *11*: *0.4951388888888889* -> *0.9201388888888888*\n"
     ]
    }
   ],
   "source": [
    "# visualize/textualize the local counterfactual explanation\n",
    "counterfactuals_text = fatf_cf.textualise_counterfactuals(\n",
    "    instance_x,\n",
    "    counterfactuals=counterfactuals[counterfactual].reshape(1, -1),\n",
    "    instance_class=instance_y)\n",
    "print(counterfactuals_text)"
   ]
  },
  {
   "cell_type": "code",
   "execution_count": 19,
   "metadata": {},
   "outputs": [],
   "source": [
    "# store the counterfactual explanation in a json file\n",
    "values = counterfactuals[counterfactual].tolist()\n",
    "keys = x_train_data.columns.tolist()\n",
    "cf_dict = dict(zip(keys, values))\n",
    "with open('../data/explainability_output/local_0_counterfactual.json', 'w') as f:\n",
    "    json.dump(cf_dict, f, indent=4)"
   ]
  },
  {
   "cell_type": "code",
   "execution_count": 20,
   "metadata": {},
   "outputs": [
    {
     "name": "stdout",
     "output_type": "stream",
     "text": [
      "Counterfactual explanation proximity: 0.7618055555555554\n"
     ]
    }
   ],
   "source": [
    "# evaluate counterfactual explanation proximity - the smaller the distance, the better the explanation\n",
    "print('Counterfactual explanation proximity:', min_distance)"
   ]
  },
  {
   "cell_type": "code",
   "execution_count": 26,
   "metadata": {},
   "outputs": [
    {
     "name": "stdout",
     "output_type": "stream",
     "text": [
      "Counterfactual explanation sparsity: 2\n"
     ]
    }
   ],
   "source": [
    "# evaluate counterfactual explanation sparsity - \n",
    "sparsity = np.count_nonzero(x_test_data.iloc[instance, :].values - counterfactuals[counterfactual])\n",
    "print('Counterfactual explanation sparsity:', sparsity)"
   ]
  }
 ],
 "metadata": {
  "kernelspec": {
   "display_name": ".venv",
   "language": "python",
   "name": "python3"
  },
  "language_info": {
   "codemirror_mode": {
    "name": "ipython",
    "version": 3
   },
   "file_extension": ".py",
   "mimetype": "text/x-python",
   "name": "python",
   "nbconvert_exporter": "python",
   "pygments_lexer": "ipython3",
   "version": "3.9.13"
  }
 },
 "nbformat": 4,
 "nbformat_minor": 2
}
